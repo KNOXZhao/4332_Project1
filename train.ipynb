{
 "cells": [
  {
   "cell_type": "markdown",
   "metadata": {},
   "source": [
    "# Environment Setup"
   ]
  },
  {
   "cell_type": "code",
   "execution_count": 2,
   "metadata": {},
   "outputs": [],
   "source": [
    "import pandas as pd\n",
    "import numpy as np\n",
    "import json\n",
    "import torch\n",
    "import torch.nn as nn\n",
    "import torch.nn.functional as F\n",
    "import torch.optim as optim\n",
    "from math import sqrt\n",
    "from torch.utils.data import Dataset, DataLoader\n",
    "from sklearn.metrics import mean_squared_error\n",
    "from collections import Counter\n",
    "from itertools import combinations\n",
    "import random\n",
    "import matplotlib.pyplot as plt\n",
    "\n",
    "\n",
    "# For tokenization, we reuse Keras' Tokenizer for simplicity.\n",
    "from tensorflow.keras.preprocessing.text import Tokenizer\n",
    "from tensorflow.keras.preprocessing.sequence import pad_sequences"
   ]
  },
  {
   "cell_type": "code",
   "execution_count": 3,
   "metadata": {},
   "outputs": [
    {
     "data": {
      "text/plain": [
       "<torch._C.Generator at 0x1620680a8b0>"
      ]
     },
     "execution_count": 3,
     "metadata": {},
     "output_type": "execute_result"
    }
   ],
   "source": [
    "random.seed(0)\n",
    "np.random.seed(0)\n",
    "torch.manual_seed(0)"
   ]
  },
  {
   "cell_type": "markdown",
   "metadata": {},
   "source": [
    "# Load Data"
   ]
  },
  {
   "cell_type": "code",
   "execution_count": 4,
   "metadata": {},
   "outputs": [],
   "source": [
    "train_df = pd.read_csv(\"./data/review.csv\")\n",
    "val_df = pd.read_csv(\"./data/validation.csv\")\n",
    "test_df = pd.read_csv(\"./data/prediction.csv\")\n",
    "\n",
    "with open(\"./data/product.json\", \"r\") as f:\n",
    "    product_data = json.load(f)\n",
    "product_df = pd.DataFrame(product_data)"
   ]
  },
  {
   "cell_type": "markdown",
   "metadata": {},
   "source": [
    "# Data Preprocessing"
   ]
  },
  {
   "cell_type": "markdown",
   "metadata": {},
   "source": [
    "## Merge Product Metadata"
   ]
  },
  {
   "cell_type": "code",
   "execution_count": 5,
   "metadata": {},
   "outputs": [],
   "source": [
    "def extract_main_category(cat_list):\n",
    "    if not cat_list:\n",
    "        return \"Unknown\"\n",
    "    # Use the last category that is not an HTML artifact.\n",
    "    last_cat = cat_list[-1]\n",
    "    if isinstance(last_cat, str) and ('<' in last_cat or '>' in last_cat):\n",
    "        if len(cat_list) >= 2:\n",
    "            last_cat = cat_list[-2]\n",
    "    return last_cat if last_cat else \"Unknown\""
   ]
  },
  {
   "cell_type": "code",
   "execution_count": 6,
   "metadata": {},
   "outputs": [
    {
     "name": "stderr",
     "output_type": "stream",
     "text": [
      "C:\\Users\\keliv\\AppData\\Local\\Temp\\ipykernel_22052\\4172034746.py:9: FutureWarning: A value is trying to be set on a copy of a DataFrame or Series through chained assignment using an inplace method.\n",
      "The behavior will change in pandas 3.0. This inplace method will never work because the intermediate object on which we are setting values always behaves as a copy.\n",
      "\n",
      "For example, when doing 'df[col].method(value, inplace=True)', try using 'df.method({col: value}, inplace=True)' or df[col] = df[col].method(value) instead, to perform the operation inplace on the original object.\n",
      "\n",
      "\n",
      "  df[\"MainCategory\"].fillna(\"Unknown\", inplace=True)\n",
      "C:\\Users\\keliv\\AppData\\Local\\Temp\\ipykernel_22052\\4172034746.py:10: FutureWarning: A value is trying to be set on a copy of a DataFrame or Series through chained assignment using an inplace method.\n",
      "The behavior will change in pandas 3.0. This inplace method will never work because the intermediate object on which we are setting values always behaves as a copy.\n",
      "\n",
      "For example, when doing 'df[col].method(value, inplace=True)', try using 'df.method({col: value}, inplace=True)' or df[col] = df[col].method(value) instead, to perform the operation inplace on the original object.\n",
      "\n",
      "\n",
      "  df[\"BrandClean\"].fillna(\"Unknown\", inplace=True)\n"
     ]
    }
   ],
   "source": [
    "product_df[\"MainCategory\"] = product_df[\"category\"].apply(extract_main_category)\n",
    "product_df[\"BrandClean\"] = product_df[\"brand\"].fillna(\"Unknown\")\n",
    "\n",
    "train_df = train_df.merge(product_df[[\"ProductID\", \"MainCategory\", \"BrandClean\"]], on=\"ProductID\", how=\"left\")\n",
    "val_df = val_df.merge(product_df[[\"ProductID\", \"MainCategory\", \"BrandClean\"]], on=\"ProductID\", how=\"left\")\n",
    "test_df = test_df.merge(product_df[[\"ProductID\", \"MainCategory\", \"BrandClean\"]], on=\"ProductID\", how=\"left\")\n",
    "\n",
    "for df in [train_df, val_df, test_df]:\n",
    "    df[\"MainCategory\"].fillna(\"Unknown\", inplace=True)\n",
    "    df[\"BrandClean\"].fillna(\"Unknown\", inplace=True)"
   ]
  },
  {
   "cell_type": "markdown",
   "metadata": {},
   "source": [
    "## Encode IDs and Categorical Features"
   ]
  },
  {
   "cell_type": "code",
   "execution_count": 13,
   "metadata": {},
   "outputs": [],
   "source": [
    "# User and Product IDs\n",
    "unique_users = train_df[\"ReviewerID\"].unique().tolist()\n",
    "unique_items = train_df[\"ProductID\"].unique().tolist()\n",
    "user_to_index = {u: i+1 for i, u in enumerate(unique_users)}  # reserve 0 for unknown\n",
    "item_to_index = {p: i+1 for i, p in enumerate(unique_items)}\n",
    "unknown_user_idx = 0\n",
    "unknown_item_idx = 0\n",
    "\n",
    "train_user_idx = train_df[\"ReviewerID\"].apply(lambda x: user_to_index.get(x, unknown_user_idx)).values\n",
    "train_item_idx = train_df[\"ProductID\"].apply(lambda x: item_to_index.get(x, unknown_item_idx)).values\n",
    "val_user_idx = val_df[\"ReviewerID\"].apply(lambda x: user_to_index.get(x, unknown_user_idx)).values\n",
    "val_item_idx = val_df[\"ProductID\"].apply(lambda x: item_to_index.get(x, unknown_item_idx)).values\n",
    "test_user_idx = test_df[\"ReviewerID\"].apply(lambda x: user_to_index.get(x, unknown_user_idx)).values\n",
    "test_item_idx = test_df[\"ProductID\"].apply(lambda x: item_to_index.get(x, unknown_item_idx)).values"
   ]
  },
  {
   "cell_type": "code",
   "execution_count": 14,
   "metadata": {},
   "outputs": [],
   "source": [
    "# Categories and Brands\n",
    "unique_cats = pd.unique(train_df[\"MainCategory\"]).tolist()\n",
    "unique_brands = pd.unique(train_df[\"BrandClean\"]).tolist()\n",
    "cat_to_index = {c: i+1 for i, c in enumerate(unique_cats)}  # 0 for unknown\n",
    "brand_to_index = {b: i+1 for i, b in enumerate(unique_brands)}\n",
    "unknown_cat_idx = 0\n",
    "unknown_brand_idx = 0\n",
    "\n",
    "train_cat_idx = train_df[\"MainCategory\"].apply(lambda x: cat_to_index.get(x, unknown_cat_idx)).values\n",
    "train_brand_idx = train_df[\"BrandClean\"].apply(lambda x: brand_to_index.get(x, unknown_brand_idx)).values\n",
    "val_cat_idx = val_df[\"MainCategory\"].apply(lambda x: cat_to_index.get(x, unknown_cat_idx)).values\n",
    "val_brand_idx = val_df[\"BrandClean\"].apply(lambda x: brand_to_index.get(x, unknown_brand_idx)).values\n",
    "test_cat_idx = test_df[\"MainCategory\"].apply(lambda x: cat_to_index.get(x, unknown_cat_idx)).values\n",
    "test_brand_idx = test_df[\"BrandClean\"].apply(lambda x: brand_to_index.get(x, unknown_brand_idx)).values"
   ]
  },
  {
   "cell_type": "markdown",
   "metadata": {},
   "source": [
    "## Text Tokenization"
   ]
  },
  {
   "cell_type": "code",
   "execution_count": 15,
   "metadata": {},
   "outputs": [],
   "source": [
    "# Use the \"Text\" column from training data. (If you wish, you can also combine \"Summary\".)\n",
    "train_texts = train_df[\"Text\"].fillna(\"\").astype(str).tolist()\n",
    "tokenizer = Tokenizer(num_words=10000, oov_token=\"<OOV>\")\n",
    "tokenizer.fit_on_texts(train_texts)\n",
    "MAX_SEQ_LEN = 100\n",
    "train_sequences = tokenizer.texts_to_sequences(train_texts)\n",
    "train_padded = pad_sequences(train_sequences, maxlen=MAX_SEQ_LEN, padding='post', truncating='post')\n",
    "\n",
    "# For validation and test, assume no review text is provided (or use empty strings)\n",
    "val_padded = np.zeros((len(val_df), MAX_SEQ_LEN), dtype=int)\n",
    "test_padded = np.zeros((len(test_df), MAX_SEQ_LEN), dtype=int)"
   ]
  },
  {
   "cell_type": "markdown",
   "metadata": {},
   "source": [
    "## Prepare Target Ratings"
   ]
  },
  {
   "cell_type": "code",
   "execution_count": 16,
   "metadata": {},
   "outputs": [],
   "source": [
    "train_ratings = train_df[\"Star\"].values.astype(np.float32)\n",
    "val_ratings = val_df[\"Star\"].values.astype(np.float32)"
   ]
  },
  {
   "cell_type": "markdown",
   "metadata": {},
   "source": [
    "# Create a PyTorch Dataset"
   ]
  },
  {
   "cell_type": "code",
   "execution_count": 17,
   "metadata": {},
   "outputs": [],
   "source": [
    "class RatingDataset(Dataset):\n",
    "    def __init__(self, user_ids, item_ids, text_seqs, cat_ids, brand_ids, ratings):\n",
    "        self.user_ids = torch.tensor(user_ids, dtype=torch.long)\n",
    "        self.item_ids = torch.tensor(item_ids, dtype=torch.long)\n",
    "        # self.text_seqs = torch.tensor(text_seqs, dtype=torch.long)\n",
    "        self.cat_ids = torch.tensor(cat_ids, dtype=torch.long)\n",
    "        self.brand_ids = torch.tensor(brand_ids, dtype=torch.long)\n",
    "        self.ratings = torch.tensor(ratings, dtype=torch.float32)\n",
    "        \n",
    "    def __len__(self):\n",
    "        return len(self.user_ids)\n",
    "    \n",
    "    def __getitem__(self, idx):\n",
    "        return (self.user_ids[idx],\n",
    "                self.item_ids[idx],\n",
    "                # self.text_seqs[idx],\n",
    "                self.cat_ids[idx],\n",
    "                self.brand_ids[idx],\n",
    "                self.ratings[idx])\n",
    "                \n",
    "train_dataset = RatingDataset(train_user_idx, train_item_idx, train_padded, train_cat_idx, train_brand_idx, train_ratings)\n",
    "val_dataset = RatingDataset(val_user_idx, val_item_idx, val_padded, val_cat_idx, val_brand_idx, val_ratings)\n",
    "\n",
    "BATCH_SIZE = 64\n",
    "train_loader = DataLoader(train_dataset, batch_size=BATCH_SIZE, shuffle=True)\n",
    "val_loader = DataLoader(val_dataset, batch_size=BATCH_SIZE)"
   ]
  },
  {
   "cell_type": "markdown",
   "metadata": {},
   "source": [
    "# Define the Model in PyTorch"
   ]
  },
  {
   "cell_type": "code",
   "execution_count": 40,
   "metadata": {},
   "outputs": [],
   "source": [
    "class RatingPredictor(nn.Module):\n",
    "    def __init__(self, num_users, num_items, vocab_size, num_cats, num_brands, max_seq_len,\n",
    "                 user_emb_dim=32, item_emb_dim=32, word_emb_dim=100, cat_emb_dim=16, brand_emb_dim=16, hidden_dim=128):\n",
    "        super(RatingPredictor, self).__init__()\n",
    "        # Embedding layers\n",
    "        self.user_emb = nn.Embedding(num_users, user_emb_dim, padding_idx=0)\n",
    "        self.item_emb = nn.Embedding(num_items, item_emb_dim, padding_idx=0)\n",
    "        # self.word_emb = nn.Embedding(vocab_size, word_emb_dim)\n",
    "        self.cat_emb = nn.Embedding(num_cats, cat_emb_dim, padding_idx=0)\n",
    "        self.brand_emb = nn.Embedding(num_brands, brand_emb_dim, padding_idx=0)\n",
    "                \n",
    "        # # Combined feature dimension: user + item + text features (3*50 = 150) + category + brand\n",
    "        # combined_dim = user_emb_dim + item_emb_dim + 150 + cat_emb_dim + brand_emb_dim\n",
    "        combined_dim = user_emb_dim + item_emb_dim + cat_emb_dim + brand_emb_dim\n",
    "        self.fc1 = nn.Linear(combined_dim, hidden_dim)\n",
    "        self.bn1 = nn.BatchNorm1d(hidden_dim)\n",
    "        self.dropout1 = nn.Dropout(0.5)\n",
    "        self.fc2 = nn.Linear(hidden_dim, hidden_dim//2)\n",
    "        self.bn2 = nn.BatchNorm1d(hidden_dim//2)\n",
    "        self.dropout2 = nn.Dropout(0.3)\n",
    "        self.fc3 = nn.Linear(hidden_dim//2, hidden_dim//4)\n",
    "        self.bn3 = nn.BatchNorm1d(hidden_dim//4)\n",
    "        self.dropout3 = nn.Dropout(0.3)\n",
    "        # Final output layer with scaled sigmoid so predictions fall in [1,5]\n",
    "        self.fc_out = nn.Linear(hidden_dim//4, 1)\n",
    "        \n",
    "    def forward(self, user_ids, item_ids, text_seq, cat_ids, brand_ids):\n",
    "        # Get embeddings for user and item\n",
    "        user_vec = self.user_emb(user_ids)       # (batch, 32)\n",
    "        item_vec = self.item_emb(item_ids)         # (batch, 32)\n",
    "        \n",
    "        # Process review text\n",
    "        # text_seq: (batch, max_seq_len) -> word embeddings: (batch, max_seq_len, word_emb_dim)\n",
    "        # text_emb = self.word_emb(text_seq)         # (batch, max_seq_len, word_emb_dim)\n",
    "        # text_emb = text_emb.transpose(1, 2)         # (batch, word_emb_dim, max_seq_len)\n",
    "        \n",
    "        # Apply three parallel convolutions with different kernel sizes\n",
    "        # conv3 = F.relu(self.conv1d_3(text_emb))     # (batch, 50, L3)\n",
    "        # pool3 = self.pool(conv3).squeeze(-1)         # (batch, 50)\n",
    "        \n",
    "        # conv4 = F.relu(self.conv1d_4(text_emb))     # (batch, 50, L4)\n",
    "        # pool4 = self.pool(conv4).squeeze(-1)         # (batch, 50)\n",
    "        \n",
    "        # conv5 = F.relu(self.conv1d_5(text_emb))     # (batch, 50, L5)\n",
    "        # pool5 = self.pool(conv5).squeeze(-1)         # (batch, 50)\n",
    "        \n",
    "        # Concatenate text features from all kernels\n",
    "        # text_features = torch.cat([pool3, pool4, pool5], dim=1)  # (batch, 150)\n",
    "        \n",
    "        # Get metadata embeddings\n",
    "        cat_vec = self.cat_emb(cat_ids)             # (batch, cat_emb_dim)\n",
    "        brand_vec = self.brand_emb(brand_ids)         # (batch, brand_emb_dim)\n",
    "        \n",
    "        # Concatenate all features\n",
    "        # combined = torch.cat([user_vec, item_vec, text_features, cat_vec, brand_vec], dim=1)\n",
    "        combined = torch.cat([user_vec, item_vec, cat_vec, brand_vec], dim=1)\n",
    "        \n",
    "        # Fully connected layers with BatchNorm and Dropout\n",
    "        x = F.relu(self.bn1(self.fc1(combined)))\n",
    "        x = self.dropout1(x)\n",
    "        x = F.relu(self.bn2(self.fc2(x)))\n",
    "        x = self.dropout2(x)\n",
    "        x = F.relu(self.bn3(self.fc3(x)))\n",
    "        x = self.dropout3(x)\n",
    "        # Use a scaled sigmoid so that outputs are between 1 and 5.\n",
    "        out = 1 + 4 * torch.sigmoid(self.fc_out(x))\n",
    "        return out.squeeze(1)"
   ]
  },
  {
   "cell_type": "code",
   "execution_count": 41,
   "metadata": {},
   "outputs": [
    {
     "data": {
      "text/plain": [
       "RatingPredictor(\n",
       "  (user_emb): Embedding(2753, 32, padding_idx=0)\n",
       "  (item_emb): Embedding(6337, 32, padding_idx=0)\n",
       "  (cat_emb): Embedding(38, 16, padding_idx=0)\n",
       "  (brand_emb): Embedding(3618, 16, padding_idx=0)\n",
       "  (fc1): Linear(in_features=96, out_features=128, bias=True)\n",
       "  (bn1): BatchNorm1d(128, eps=1e-05, momentum=0.1, affine=True, track_running_stats=True)\n",
       "  (dropout1): Dropout(p=0.5, inplace=False)\n",
       "  (fc2): Linear(in_features=128, out_features=64, bias=True)\n",
       "  (bn2): BatchNorm1d(64, eps=1e-05, momentum=0.1, affine=True, track_running_stats=True)\n",
       "  (dropout2): Dropout(p=0.3, inplace=False)\n",
       "  (fc3): Linear(in_features=64, out_features=32, bias=True)\n",
       "  (bn3): BatchNorm1d(32, eps=1e-05, momentum=0.1, affine=True, track_running_stats=True)\n",
       "  (dropout3): Dropout(p=0.3, inplace=False)\n",
       "  (fc_out): Linear(in_features=32, out_features=1, bias=True)\n",
       ")"
      ]
     },
     "execution_count": 41,
     "metadata": {},
     "output_type": "execute_result"
    }
   ],
   "source": [
    "# Define sizes (add +1 to account for unknown index 0)\n",
    "num_users = len(user_to_index) + 1\n",
    "num_items = len(item_to_index) + 1\n",
    "vocab_size = min(10000, len(tokenizer.word_index) + 1)\n",
    "num_cats = len(cat_to_index) + 1\n",
    "num_brands = len(brand_to_index) + 1\n",
    "\n",
    "model = RatingPredictor(num_users, num_items, vocab_size, num_cats, num_brands, MAX_SEQ_LEN)\n",
    "device = torch.device(\"cuda\" if torch.cuda.is_available() else \"cpu\")\n",
    "model.to(device)"
   ]
  },
  {
   "cell_type": "markdown",
   "metadata": {},
   "source": [
    "# Training"
   ]
  },
  {
   "cell_type": "markdown",
   "metadata": {},
   "source": [
    "## Training Setup"
   ]
  },
  {
   "cell_type": "code",
   "execution_count": 42,
   "metadata": {},
   "outputs": [],
   "source": [
    "criterion = nn.MSELoss()\n",
    "optimizer = optim.Adam(model.parameters(), lr=0.001)\n",
    "NUM_EPOCHS = 15"
   ]
  },
  {
   "cell_type": "code",
   "execution_count": 37,
   "metadata": {},
   "outputs": [],
   "source": [
    "def evaluate(model, loader):\n",
    "    model.eval()\n",
    "    losses = []\n",
    "    preds = []\n",
    "    trues = []\n",
    "    with torch.no_grad():\n",
    "        for batch in loader:\n",
    "            # user_ids, item_ids, text_seqs, cat_ids, brand_ids, ratings = batch\n",
    "            user_ids, item_ids, cat_ids, brand_ids, ratings = batch\n",
    "            user_ids = user_ids.to(device)\n",
    "            item_ids = item_ids.to(device)\n",
    "            # text_seqs = text_seqs.to(device)\n",
    "            text_seqs = None\n",
    "            cat_ids = cat_ids.to(device)\n",
    "            brand_ids = brand_ids.to(device)\n",
    "            ratings = ratings.to(device)\n",
    "            outputs = model(user_ids, item_ids, text_seqs, cat_ids, brand_ids)\n",
    "            loss = criterion(outputs, ratings)\n",
    "            losses.append(loss.item() * ratings.size(0))\n",
    "            preds.extend(outputs.cpu().numpy())\n",
    "            trues.extend(ratings.cpu().numpy())\n",
    "    avg_loss = np.sum(losses) / len(loader.dataset)\n",
    "    rmse_val = sqrt(np.mean((np.array(preds) - np.array(trues)) ** 2))\n",
    "    return avg_loss, rmse_val"
   ]
  },
  {
   "cell_type": "markdown",
   "metadata": {},
   "source": [
    "## Training Loop"
   ]
  },
  {
   "cell_type": "code",
   "execution_count": null,
   "metadata": {},
   "outputs": [],
   "source": [
    "train_losses = []\n",
    "val_losses = []\n",
    "val_rmses = []\n",
    "best_val_loss = float('inf')\n",
    "best_model_path = \"checkpoint_2.pth\"\n",
    "\n",
    "for epoch in range(NUM_EPOCHS):\n",
    "    model.train()\n",
    "    running_loss = 0.0\n",
    "    for batch in train_loader:\n",
    "        # user_ids, item_ids, text_seqs, cat_ids, brand_ids, ratings = batch\n",
    "        user_ids, item_ids, cat_ids, brand_ids, ratings = batch\n",
    "        user_ids = user_ids.to(device)\n",
    "        item_ids = item_ids.to(device)\n",
    "        # text_seqs = text_seqs.to(device)\n",
    "        text_seqs = None\n",
    "        cat_ids = cat_ids.to(device)\n",
    "        brand_ids = brand_ids.to(device)\n",
    "        ratings = ratings.to(device)\n",
    "        \n",
    "        optimizer.zero_grad()\n",
    "        outputs = model(user_ids, item_ids, text_seqs, cat_ids, brand_ids)\n",
    "        loss = criterion(outputs, ratings)\n",
    "        loss.backward()\n",
    "        optimizer.step()\n",
    "        running_loss += loss.item() * ratings.size(0)\n",
    "        \n",
    "    train_loss = running_loss / len(train_loader.dataset)\n",
    "    val_loss, val_rmse = evaluate(model, val_loader)\n",
    "    train_losses.append(train_loss)\n",
    "    val_losses.append(val_loss)\n",
    "    val_rmses.append(val_rmse)\n",
    "    print(f\"Epoch {epoch+1}/{NUM_EPOCHS} -- Train Loss: {train_loss:.4f}  Val Loss: {val_loss:.4f}  Val RMSE: {val_rmse:.4f}\")\n",
    "\n",
    "    # Save checkpoint if validation loss improves\n",
    "    if val_loss < best_val_loss:\n",
    "        best_val_loss = val_loss\n",
    "        torch.save({\n",
    "            'epoch': epoch,\n",
    "            'model_state_dict': model.state_dict(),\n",
    "            'optimizer_state_dict': optimizer.state_dict(),\n",
    "            'loss': val_loss,\n",
    "            'rmse': val_rmse,\n",
    "        }, best_model_path)\n",
    "        print(f'Checkpoint saved at epoch {epoch+1} with validation loss {val_loss:.4f}')"
   ]
  },
  {
   "cell_type": "markdown",
   "metadata": {},
   "source": [
    "## Visualization"
   ]
  },
  {
   "cell_type": "code",
   "execution_count": 43,
   "metadata": {},
   "outputs": [
    {
     "data": {
      "image/png": "[encoded data removed]",
      "text/plain": [
       "<Figure size 1000x500 with 1 Axes>"
      ]
     },
     "metadata": {},
     "output_type": "display_data"
    }
   ],
   "source": [
    "plt.figure(figsize=(10, 5))\n",
    "plt.plot(range(1, len(train_losses) + 1), train_losses, marker='o', linestyle='-', color='b', label='Training Loss')\n",
    "plt.plot(range(1, len(val_losses) + 1), val_losses, marker='x', linestyle='-', color='r', label='Validation Loss')\n",
    "plt.title(\"Loss Curve\")\n",
    "plt.xlabel('Epoch')\n",
    "plt.ylabel('Loss')\n",
    "plt.grid(True)\n",
    "plt.legend()\n",
    "plt.show()"
   ]
  },
  {
   "cell_type": "markdown",
   "metadata": {},
   "source": [
    "# Generate Predictions"
   ]
  },
  {
   "cell_type": "code",
   "execution_count": 43,
   "metadata": {},
   "outputs": [],
   "source": [
    "def generate_predictions(model, user_ids, item_ids, text_seqs, cat_ids, brand_ids):\n",
    "    model.eval()\n",
    "    inputs = {\n",
    "        \"user_ids\": torch.tensor(user_ids, dtype=torch.long).to(device),\n",
    "        \"item_ids\": torch.tensor(item_ids, dtype=torch.long).to(device),\n",
    "        # \"text_seqs\": torch.tensor(text_seqs, dtype=torch.long).to(device),\n",
    "        \"text_seqs\": None,\n",
    "        \"cat_ids\": torch.tensor(cat_ids, dtype=torch.long).to(device),\n",
    "        \"brand_ids\": torch.tensor(brand_ids, dtype=torch.long).to(device)\n",
    "    }\n",
    "    with torch.no_grad():\n",
    "        preds = model(inputs[\"user_ids\"], inputs[\"item_ids\"], inputs[\"text_seqs\"],\n",
    "                      inputs[\"cat_ids\"], inputs[\"brand_ids\"])\n",
    "    return preds.cpu().numpy()"
   ]
  },
  {
   "cell_type": "code",
   "execution_count": 44,
   "metadata": {},
   "outputs": [],
   "source": [
    "# load the best model\n",
    "checkpoint = torch.load(\"checkpoint.pth\", weights_only=False)\n",
    "model.load_state_dict(checkpoint['model_state_dict'])\n",
    "optimizer.load_state_dict(checkpoint['optimizer_state_dict'])"
   ]
  },
  {
   "cell_type": "markdown",
   "metadata": {},
   "source": [
    "## Validation set"
   ]
  },
  {
   "cell_type": "code",
   "execution_count": 45,
   "metadata": {},
   "outputs": [
    {
     "name": "stdout",
     "output_type": "stream",
     "text": [
      "Final Validation RMSE: 0.8818\n"
     ]
    }
   ],
   "source": [
    "# Predictions for validation set\n",
    "val_preds = generate_predictions(model, val_user_idx, val_item_idx, val_padded, val_cat_idx, val_brand_idx)\n",
    "# Compute RMSE manually (or use evaluate.py later)\n",
    "val_rmse = sqrt(np.mean((val_preds - val_ratings) ** 2))\n",
    "print(f\"Final Validation RMSE: {val_rmse:.4f}\")"
   ]
  },
  {
   "cell_type": "code",
   "execution_count": 50,
   "metadata": {},
   "outputs": [],
   "source": [
    "# Save validation predictions to CSV (for evaluate.py)\n",
    "val_pred_df = pd.DataFrame({\n",
    "    \"ReviewerID\": val_df[\"ReviewerID\"],\n",
    "    \"ProductID\": val_df[\"ProductID\"],\n",
    "    \"Star\": val_preds\n",
    "})\n",
    "val_pred_df.to_csv(\"validation_prediction.csv\", index=False)"
   ]
  },
  {
   "cell_type": "markdown",
   "metadata": {},
   "source": [
    "## Test set"
   ]
  },
  {
   "cell_type": "code",
   "execution_count": 51,
   "metadata": {},
   "outputs": [
    {
     "name": "stdout",
     "output_type": "stream",
     "text": [
      "Saved validation_prediction.csv and prediction_filled.csv\n"
     ]
    }
   ],
   "source": [
    "# Predictions for test set\n",
    "test_preds = generate_predictions(model, test_user_idx, test_item_idx, test_padded, test_cat_idx, test_brand_idx)\n",
    "test_pred_df = pd.DataFrame({\n",
    "    \"ReviewerID\": test_df[\"ReviewerID\"],\n",
    "    \"ProductID\": test_df[\"ProductID\"],\n",
    "    \"Star\": test_preds\n",
    "})\n",
    "test_pred_df.to_csv(\"prediction_filled.csv\", index=False)\n",
    "print(\"Saved validation_prediction.csv and prediction_filled.csv\")"
   ]
  }
 ],
 "metadata": {
  "kernelspec": {
   "display_name": "COMP4901Y",
   "language": "python",
   "name": "python3"
  },
  "language_info": {
   "codemirror_mode": {
    "name": "ipython",
    "version": 3
   },
   "file_extension": ".py",
   "mimetype": "text/x-python",
   "name": "python",
   "nbconvert_exporter": "python",
   "pygments_lexer": "ipython3",
   "version": "3.12.9"
  }
 },
 "nbformat": 4,
 "nbformat_minor": 2
}
