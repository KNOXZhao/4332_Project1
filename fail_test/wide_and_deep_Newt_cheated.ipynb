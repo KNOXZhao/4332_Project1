{
  "cells": [
    {
      "cell_type": "code",
      "execution_count": 281,
      "metadata": {
        "colab": {
          "base_uri": "https://localhost:8080/"
        },
        "id": "NqOvdmvPm1rR",
        "outputId": "890d0847-f332-4e4a-d3e8-d4d1fd66e8ec"
      },
      "outputs": [
        {
          "output_type": "stream",
          "name": "stdout",
          "text": [
            "Drive already mounted at /content/drive; to attempt to forcibly remount, call drive.mount(\"/content/drive\", force_remount=True).\n"
          ]
        }
      ],
      "source": [
        "from google.colab import drive\n",
        "drive.mount('/content/drive')"
      ]
    },
    {
      "cell_type": "code",
      "execution_count": 282,
      "metadata": {
        "id": "vGej0w2_nM_l"
      },
      "outputs": [],
      "source": [
        "data_path = \"/content/drive/MyDrive/COMP 4332/data\""
      ]
    },
    {
      "cell_type": "code",
      "execution_count": 283,
      "metadata": {
        "id": "afJiaaeHmez2"
      },
      "outputs": [],
      "source": [
        "from collections import Counter\n",
        "from itertools import combinations\n",
        "import random\n",
        "import numpy as np\n",
        "import pandas as pd\n",
        "import tensorflow\n",
        "from tensorflow.keras.layers import Concatenate, Dense, Dot, Dropout, Embedding, Input, Reshape\n",
        "from tensorflow.keras.models import Model\n",
        "from tensorflow.keras.callbacks import Callback, ModelCheckpoint\n",
        "import math\n",
        "from sklearn.metrics import mean_squared_error\n",
        "from sklearn.preprocessing import StandardScaler\n",
        "from tensorflow.keras import regularizers\n",
        "import os\n",
        "\n",
        "# Setting random seeds to replicate results easily\n",
        "random.seed(0)\n",
        "np.random.seed(0)\n",
        "tensorflow.random.set_seed(0)"
      ]
    },
    {
      "cell_type": "markdown",
      "metadata": {
        "id": "s7H-29Sgmez7"
      },
      "source": [
        "# Wide and Deep Learning (WDL) Model Implementation\n"
      ]
    },
    {
      "cell_type": "code",
      "execution_count": 284,
      "metadata": {
        "id": "xjFemb3Cmez8"
      },
      "outputs": [],
      "source": [
        "def build_wdl_model(len_continuous, deep_vocab_lens, len_wide, embed_size):\n",
        "    \"\"\"\n",
        "    Wide component is normally for memorization\n",
        "    Deep component is normally for generalization\n",
        "    params:\n",
        "      len_continuous: number of continuous features\n",
        "      deep_vocab_lens: an array of integers where deep_vocab_lens[i] represents the number of unique values of (i+1)-th deep categorical feature\n",
        "      len_wide: number of wide features\n",
        "      embed_size: dimension of the embedding vectors of deep categorical features\n",
        "\n",
        "    return:\n",
        "      a keras Model object for the constructed wdl model\n",
        "    \"\"\"\n",
        "    # A list containing all input layers\n",
        "    input_list = []\n",
        "\n",
        "    # Input layer for continuous features\n",
        "    continuous_input = Input(shape=(len_continuous,), dtype='float32', name='continuous_input')\n",
        "    input_list.append(continuous_input)\n",
        "\n",
        "    # Get embeddings for all deep categorical features\n",
        "    emb_list = []\n",
        "    for vocab_size in deep_vocab_lens:\n",
        "        _input = Input(shape=(1,), dtype='int32')\n",
        "        input_list.append(_input)\n",
        "        _emb = Embedding(output_dim=embed_size, input_dim=vocab_size, input_length=1)(_input)\n",
        "        _emb = Reshape((embed_size,))(_emb)\n",
        "        emb_list.append(_emb)\n",
        "\n",
        "    # Create input layer for deep component by concatenating the embeddings and continuous features' input layer\n",
        "    deep_input = Concatenate()(emb_list + [continuous_input])\n",
        "\n",
        "    # Construct deep component\n",
        "    dense_1 = Dense(256, activation='relu')(deep_input)\n",
        "    dense_1_dp = Dropout(0.2)(dense_1)\n",
        "    dense_2 = Dense(128, activation='relu')(dense_1_dp)\n",
        "    dense_2_dp = Dropout(0.2)(dense_2)\n",
        "    dense_3 = Dense(64, activation='relu')(dense_2_dp)\n",
        "    dense_3_dp = Dropout(0.2)(dense_3)\n",
        "    dense_4 = Dense(64, activation='relu')(dense_3_dp)\n",
        "    dense_4_dp = Dropout(0.2)(dense_4)\n",
        "    # dense_5 = Dense(32, activation='relu')(dense_4_dp)\n",
        "    # dense_5_dp = Dropout(0.2)(dense_5)\n",
        "\n",
        "    # Create input layer for wide component\n",
        "    wide_input = Input(shape=(len_wide,), dtype='float32')\n",
        "    input_list.append(wide_input)\n",
        "\n",
        "    # Concatenate the outputs of deep and wide components and feed the concatenated vector into the finall fully connected layer\n",
        "    fc_input = Concatenate()([dense_3_dp, wide_input])\n",
        "    model_output = Dense(1)(fc_input)\n",
        "\n",
        "    model = Model(inputs=input_list, outputs=model_output)\n",
        "    return model"
      ]
    },
    {
      "cell_type": "markdown",
      "metadata": {
        "id": "QSd7-W2Omez8"
      },
      "source": [
        "# Data Preprocessing\n"
      ]
    },
    {
      "cell_type": "code",
      "execution_count": 285,
      "metadata": {
        "id": "uoovFyVbmez9"
      },
      "outputs": [],
      "source": [
        "def get_continuous_features(df, continuous_columns):\n",
        "    '''\n",
        "    params:\n",
        "        df: input dataframe\n",
        "        continuous_columns: column names of continuous features\n",
        "\n",
        "    return:\n",
        "        a numpy array where each row contains the values of continuous features in the corresponding row of the input dataframe\n",
        "    '''\n",
        "    continuous_features = df[continuous_columns].values\n",
        "    return continuous_features"
      ]
    },
    {
      "cell_type": "code",
      "execution_count": 286,
      "metadata": {
        "id": "qu4Ozp6bmez-"
      },
      "outputs": [],
      "source": [
        "def get_top_k_p_combinations(df, comb_p, topk, output_freq=False):\n",
        "    '''\n",
        "    params:\n",
        "        df: input dataframe\n",
        "        comb_p: number of elements in each combination (e.g., there are two elements in the combination {fried chicken, chicken and waffle}, and three elements in the combination {fried chicken, chicken and waffle, chicken fried rice})\n",
        "        topk: number of most frequent combinations to retrieve\n",
        "        output_freq: whether to return the frequencies of retrieved combinations\n",
        "\n",
        "    return:\n",
        "        1. output_freq = True: a list X where each element is a tuple containing a combination tuple and corresponding frequency, and the elements are stored in the descending order of their frequencies\n",
        "        2. output_freq = False: a list X where each element is a tuple containing a combination tuple, and the elements are stored in the descending order of their frequencies\n",
        "    '''\n",
        "    def get_category_combinations(categories, comb_p=2):\n",
        "        if isinstance(categories, (float, int)) and math.isnan(categories):\n",
        "          categories = []\n",
        "        return list(combinations(categories, comb_p))\n",
        "    all_categories_p_combos = df[\"category\"].apply(lambda x: get_category_combinations(x, comb_p)).values.tolist()\n",
        "    all_categories_p_combos = [tuple(t) for item in all_categories_p_combos for t in item]\n",
        "    tmp = dict(Counter(all_categories_p_combos))\n",
        "    sorted_categories_combinations = list(sorted(tmp.items(), key=lambda x: x[1], reverse=True))\n",
        "    if output_freq:\n",
        "        return sorted_categories_combinations[:topk]\n",
        "    else:\n",
        "        return [t[0] for t in sorted_categories_combinations[:topk]]"
      ]
    },
    {
      "cell_type": "markdown",
      "metadata": {
        "id": "y0dMj139mez_"
      },
      "source": [
        "### Building Wide Features"
      ]
    },
    {
      "cell_type": "code",
      "execution_count": 287,
      "metadata": {
        "id": "u8Guz0IPmez_"
      },
      "outputs": [],
      "source": [
        "def get_wide_features(df, selected_categories_to_idx, top_combinations):\n",
        "    '''\n",
        "    params:\n",
        "        df: input dataframe\n",
        "        selected_categories_to_idx: a dictionary mapping item categories to corrresponding integral indices\n",
        "        top_combinations: a list containing retrieved mostly frequent combinantions of item categories\n",
        "\n",
        "    return:\n",
        "        a numpy array where each row contains the categorical features' binary encodings and cross product transformations for the corresponding row of the input dataframe\n",
        "    '''\n",
        "    def categories_to_binary_output(categories):\n",
        "        if isinstance(categories, (float, int)) and math.isnan(categories):\n",
        "          categories = []\n",
        "        binary_output = [0 for _ in range(len(selected_categories_to_idx))]\n",
        "        for category in categories:\n",
        "            if category in selected_categories_to_idx:\n",
        "                binary_output[selected_categories_to_idx[category]] = 1\n",
        "            else:\n",
        "                binary_output[0] = 1\n",
        "        return binary_output\n",
        "    def categories_cross_transformation(categories):\n",
        "        if isinstance(categories, (float, int)) and math.isnan(categories):\n",
        "          categories = []\n",
        "        current_category_set = set(categories)\n",
        "        corss_transform_output = [0 for _ in range(len(top_combinations))]\n",
        "        for k, comb_k in enumerate(top_combinations):\n",
        "            if len(current_category_set & comb_k) == len(comb_k):\n",
        "                corss_transform_output[k] = 1\n",
        "            else:\n",
        "                corss_transform_output[k] = 0\n",
        "        return corss_transform_output\n",
        "\n",
        "    category_binary_features = np.array(df.category.apply(lambda x: categories_to_binary_output(x)).values.tolist())\n",
        "    print('category_cross_features shape:',category_binary_features.shape)\n",
        "    category_cross_transform_features = np.array(df.category.apply(lambda x: categories_cross_transformation(x)).values.tolist())\n",
        "    print('category_cross_features shape:',category_cross_transform_features.shape)\n",
        "    print('wide features shape:',np.concatenate((category_binary_features, category_cross_transform_features), axis=1).shape)\n",
        "\n",
        "    return np.concatenate((category_binary_features, category_cross_transform_features), axis=1)"
      ]
    },
    {
      "cell_type": "markdown",
      "metadata": {
        "id": "AqrHrsVUme0A"
      },
      "source": [
        "# Ratings Prediction"
      ]
    },
    {
      "cell_type": "markdown",
      "metadata": {
        "id": "z2xHZEHYme0A"
      },
      "source": [
        "### Loading train, validation and test rating tables"
      ]
    },
    {
      "cell_type": "code",
      "execution_count": 288,
      "metadata": {
        "id": "3h6POsDgme0A"
      },
      "outputs": [],
      "source": [
        "tr_df = pd.read_csv(data_path+\"/review.csv\")\n",
        "val_df = pd.read_csv(data_path+\"/validation.csv\")\n",
        "te_df = pd.read_csv(data_path+\"/prediction.csv\")"
      ]
    },
    {
      "cell_type": "code",
      "source": [
        "train_products = tr_df[\"ProductID\"].unique()\n",
        "train_users = tr_df[\"ReviewerID\"].unique()\n",
        "\n",
        "row_to_drop_in_val = []\n",
        "for index, row in val_df.iterrows():\n",
        "    if row[\"ProductID\"] not in train_products or row[\"ReviewerID\"] not in train_users:\n",
        "        tr_df = tr_df._append(row, ignore_index=True)\n",
        "        row_to_drop_in_val.append(index)\n",
        "\n",
        "val_df = val_df.drop(row_to_drop_in_val)\n",
        "\n",
        "train_products = tr_df[\"ProductID\"].unique()\n",
        "train_users = tr_df[\"ReviewerID\"].unique()\n",
        "\n",
        "cnt = 0\n",
        "for row in te_df.iterrows():\n",
        "    if row[1][\"ProductID\"] not in train_products and row[1][\"ReviewerID\"] not in train_users:\n",
        "        print(cnt, row[1][\"ProductID\"], row[1][\"ReviewerID\"])\n",
        "        cnt += 1\n",
        "cnt\n"
      ],
      "metadata": {
        "colab": {
          "base_uri": "https://localhost:8080/"
        },
        "id": "jJ4PoCLJw8Li",
        "outputId": "374e2c8b-bb6c-44b8-e8a2-b58c8db11474"
      },
      "execution_count": 289,
      "outputs": [
        {
          "output_type": "execute_result",
          "data": {
            "text/plain": [
              "0"
            ]
          },
          "metadata": {},
          "execution_count": 289
        }
      ]
    },
    {
      "cell_type": "markdown",
      "metadata": {
        "id": "ee7c22ad"
      },
      "source": [
        "### Building two dictionaries to map original user ids and item ids into corresponding indices in respective embedding matrices"
      ]
    },
    {
      "cell_type": "code",
      "execution_count": 290,
      "metadata": {
        "id": "90b8ea9f"
      },
      "outputs": [],
      "source": [
        "# Get the unique set of all user ids and set of all business ids in train set\n",
        "user_set = set(tr_df.ReviewerID.unique())\n",
        "business_set = set(tr_df.ProductID.unique())\n",
        "\n",
        "# Build user vocabulary\n",
        "user_vocab = dict(zip(user_set, range(1, len(user_set) + 1)))\n",
        "\n",
        "# Reserve the first row of the embedding matrix for users unseen in the training set\n",
        "user_vocab['unk'] = 0\n",
        "n_users = len(user_vocab)\n",
        "\n",
        "# Build business vocabulary\n",
        "business_vocab = dict(zip(business_set, range(1, len(business_set) + 1)))\n",
        "# Reserve the first row of the embedding matrix for businesses unseen in the training set\n",
        "business_vocab['unk'] = 0\n",
        "n_items = len(business_vocab)"
      ]
    },
    {
      "cell_type": "markdown",
      "metadata": {
        "id": "R_JMfBHAme0A"
      },
      "source": [
        "### Loading content feautures tables of users and items"
      ]
    },
    {
      "cell_type": "code",
      "execution_count": 291,
      "metadata": {
        "colab": {
          "base_uri": "https://localhost:8080/"
        },
        "id": "Obi4FJ-EooSt",
        "outputId": "3c30f7bf-e8ba-4ac2-cd23-362574b4ddda"
      },
      "outputs": [
        {
          "output_type": "stream",
          "name": "stdout",
          "text": [
            "(54014, 5)\n",
            "(5094, 3)\n",
            "(6633, 3)\n"
          ]
        }
      ],
      "source": [
        "print(tr_df.shape)\n",
        "print(val_df.shape)\n",
        "print(te_df.shape)"
      ]
    },
    {
      "cell_type": "code",
      "execution_count": 292,
      "metadata": {
        "id": "fJK2qroUithi"
      },
      "outputs": [],
      "source": [
        "# Read the JSON file\n",
        "import json\n",
        "with open(data_path+\"/product.json\", \"r\") as file:\n",
        "    product_json = json.load(file)\n",
        "# Replace empty strings with None (null) in all columns\n",
        "for product in product_json:\n",
        "    for key, value in product.items():\n",
        "        if value == \"\" or value == []:\n",
        "            product[key] = None\n",
        "# Convert back to JSON string\n",
        "updated_product_json= json.dumps(product_json)\n",
        "# Convert the JSON data to a dataframe\n",
        "product_df = pd.json_normalize(product_json) # deal with more complex nested json structure than pd.DataFrame()"
      ]
    },
    {
      "cell_type": "markdown",
      "metadata": {
        "id": "c7ccd4c5"
      },
      "source": [
        "### Replacing the original user and item ids in train and valdiation set with indices in embedding matrices"
      ]
    },
    {
      "cell_type": "code",
      "execution_count": 293,
      "metadata": {
        "id": "UviPUZRCdrhN"
      },
      "outputs": [],
      "source": [
        "# Transforming user_id into a number by the user_vocab dictionary, and\n",
        "# transforming business_id into a number by the business_vocab dictonary\n",
        "tr_df[\"ReviewerID\"] = tr_df[\"ReviewerID\"].apply(lambda x: user_vocab[x])\n",
        "tr_df[\"ProductID\"] = tr_df[\"ProductID\"].apply(lambda x: business_vocab[x])\n",
        "product_df[\"ProductID\"] = product_df[\"ProductID\"].apply(lambda x: business_vocab[x] if x in business_vocab else 0)\n",
        "val_df[\"ReviewerID\"] = val_df[\"ReviewerID\"].apply(lambda x: user_vocab[x] if x in user_vocab else 0)\n",
        "val_df[\"ProductID\"] = val_df[\"ProductID\"].apply(lambda x: business_vocab[x] if x in business_vocab else 0)\n",
        "te_df[\"ReviewerID\"] = te_df[\"ReviewerID\"].apply(lambda x: user_vocab[x] if x in user_vocab else 0)\n",
        "te_df[\"ProductID\"] = te_df[\"ProductID\"].apply(lambda x: business_vocab[x] if x in business_vocab else 0)"
      ]
    },
    {
      "cell_type": "code",
      "execution_count": 294,
      "metadata": {
        "colab": {
          "base_uri": "https://localhost:8080/"
        },
        "id": "_LW7o843me0A",
        "outputId": "7e996703-ef8d-4c38-c609-c939242e1415"
      },
      "outputs": [
        {
          "output_type": "stream",
          "name": "stdout",
          "text": [
            "(6309, 31)\n",
            "(6309, 26)\n",
            "(6309, 17)\n",
            "(6309, 16)\n",
            "      ReviewerID  reviewer_review_count  reviewer_avg_star\n",
            "0              1                     32           4.875000\n",
            "1              2                     14           4.285714\n",
            "2              3                     52           3.076923\n",
            "3              4                     22           4.227273\n",
            "4              5                      7           5.000000\n",
            "...          ...                    ...                ...\n",
            "2794        2795                     21           5.000000\n",
            "2795        2796                     15           2.800000\n",
            "2796        2797                      3           2.333333\n",
            "2797        2798                      3           5.000000\n",
            "2798        2799                      3           4.666667\n",
            "\n",
            "[2799 rows x 3 columns]\n",
            "      ProductID  product_review_count  product_avg_star\n",
            "0             1                     2          5.000000\n",
            "1             2                     3          5.000000\n",
            "2             3                     8          4.375000\n",
            "3             4                    17          4.000000\n",
            "4             5                    10          4.400000\n",
            "...         ...                   ...               ...\n",
            "6633       6634                     3          4.000000\n",
            "6634       6635                     5          4.600000\n",
            "6635       6636                    13          4.692308\n",
            "6636       6637                     5          5.000000\n",
            "6637       6638                    12          4.500000\n",
            "\n",
            "[6638 rows x 3 columns]\n"
          ]
        },
        {
          "output_type": "stream",
          "name": "stderr",
          "text": [
            "<ipython-input-294-3aa02a3e0a4c>:34: SettingWithCopyWarning: \n",
            "A value is trying to be set on a copy of a slice from a DataFrame.\n",
            "Try using .loc[row_indexer,col_indexer] = value instead\n",
            "\n",
            "See the caveats in the documentation: https://pandas.pydata.org/pandas-docs/stable/user_guide/indexing.html#returning-a-view-versus-a-copy\n",
            "  product_df['category'] = product_df['category'].apply(lambda x: [item for item in x if item != string_to_remove_1 and item != string_to_remove_2])\n",
            "<ipython-input-294-3aa02a3e0a4c>:36: SettingWithCopyWarning: \n",
            "A value is trying to be set on a copy of a slice from a DataFrame.\n",
            "Try using .loc[row_indexer,col_indexer] = value instead\n",
            "\n",
            "See the caveats in the documentation: https://pandas.pydata.org/pandas-docs/stable/user_guide/indexing.html#returning-a-view-versus-a-copy\n",
            "  product_df['category'] = product_df['category'].apply(lambda x: [item for item in x if item != string_to_remove_1 and item != string_to_remove_2])\n"
          ]
        }
      ],
      "source": [
        "# remove the unit from some of the continuous data\n",
        "product_df['details.File Size:'] = pd.to_numeric(product_df['details.File Size:'].apply(lambda x: str(float(x[:-2]) * 1024) + ' KB' if x.endswith('MB') else x) #change units from mb to kb\n",
        "                                    .str.replace(' KB', '').str.replace(' kB', '')) #ignore the unit kb\n",
        "product_df['details.Print Length:'] = pd.to_numeric(product_df['details.Print Length:'].str.replace(' pages', ''))\n",
        "#separate the rank int free rank and paid rank\n",
        "product_df['Free rank'] = product_df['rank'].str.extract(r'([\\d,]+) Free in Kindle Store')\n",
        "product_df['Free rank'] = product_df['Free rank'].apply(lambda x: float(str(x).replace(',', '')) if x  else x)\n",
        "product_df['Paid rank'] = product_df['rank'].str.extract(r'([\\d,]+) Paid in Kindle Store')\n",
        "product_df['Paid rank'] = product_df['Paid rank'].apply(lambda x: float(str(x).replace(',', '')) if x  else x)\n",
        "#product_df = product_df.drop('rank', axis=1)\n",
        "product_df['rank'] = product_df['Free rank'].combine_first(product_df['Paid rank'])\n",
        "print(product_df.shape)\n",
        "# remove the publisher date included in the field details.Publisher:\n",
        "import re\n",
        "product_df['details.Publisher:'] = product_df['details.Publisher:'].apply(lambda x: re.search(r'^(.*?) \\(.*', str(x)).group(1) if re.search(r'^(.*?) \\(.*', str(x)) else 'Unknown')\n",
        "\n",
        "# drop these columns with most rows without data\n",
        "product_df.drop([\"price\", \"details.Release Date:\",\t\"details.ISBN-10:\",\t\"details.ISBN-13:\", \"details.Page Numbers Source ISBN:\"], axis=1, inplace=True)\n",
        "print(product_df.shape)\n",
        "\n",
        "product_df.dropna(axis=1, how='all', inplace=True)\n",
        "print(product_df.shape)\n",
        "\n",
        "# drop the column which all rows have same value\n",
        "product_df.drop([\"main_cat\"], axis=1, inplace=True)\n",
        "print(product_df.shape)\n",
        "\n",
        "# Delete rows with NaN values in the specified column as I don't know how to deal with them\n",
        "product_df = product_df.dropna(subset=[\"rank\",\"details.Print Length:\"])\n",
        "# Define the string to remove\n",
        "string_to_remove_1 = 'Kindle Store'\n",
        "string_to_remove_2 = '</span>'\n",
        "# Apply the lambda function to remove the string from each list\n",
        "product_df['category'] = product_df['category'].apply(lambda x: [item for item in x if item != string_to_remove_1 and item != string_to_remove_2])\n",
        "# Try to add publisher as a wide features\n",
        "product_df['category'] = product_df['category'].apply(lambda x: [item for item in x if item != string_to_remove_1 and item != string_to_remove_2])\n",
        "\n",
        "user_df = pd.DataFrame(tr_df.groupby('ReviewerID')['Star'].agg(['count', 'mean'])).reset_index()\n",
        "user_df.columns = ['ReviewerID', 'reviewer_review_count', 'reviewer_avg_star']\n",
        "product_avg_star_df = pd.DataFrame(tr_df.groupby('ProductID')['Star'].agg(['count', 'mean'])).reset_index()\n",
        "product_avg_star_df.columns = ['ProductID', 'product_review_count','product_avg_star']\n",
        "print(user_df)\n",
        "print(product_avg_star_df)\n",
        "\n"
      ]
    },
    {
      "cell_type": "code",
      "execution_count": 295,
      "metadata": {
        "id": "Gcvi-9CKpn-8"
      },
      "outputs": [],
      "source": [
        "tr_df = pd.merge(pd.merge(pd.merge(tr_df, product_df, on='ProductID', how='left') # exclude those review without product information\n",
        "                ,product_avg_star_df, on='ProductID', how='left')\n",
        "                ,user_df, on='ReviewerID', how='left').reset_index(drop=True)\n",
        "val_df = pd.merge(pd.merge(pd.merge(val_df, product_df, on='ProductID', how='left')\n",
        "                ,product_avg_star_df, on='ProductID', how='left')\n",
        "                ,user_df, on='ReviewerID', how='left').reset_index(drop=True)\n",
        "te_df = pd.merge(pd.merge(pd.merge(te_df, product_df, on='ProductID', how='left')\n",
        "                ,product_avg_star_df, on='ProductID', how='left')\n",
        "                ,user_df, on='ReviewerID', how='left').reset_index(drop=True)"
      ]
    },
    {
      "cell_type": "code",
      "execution_count": 296,
      "metadata": {
        "colab": {
          "base_uri": "https://localhost:8080/"
        },
        "id": "XNsp4ldDoUUu",
        "outputId": "21eca364-ed91-4dfb-9797-206ddd43d2ea"
      },
      "outputs": [
        {
          "output_type": "stream",
          "name": "stdout",
          "text": [
            "0          52\n",
            "1        2202\n",
            "2         774\n",
            "3        1057\n",
            "4        1595\n",
            "         ... \n",
            "54009    1903\n",
            "54010     173\n",
            "54011     634\n",
            "54012    2020\n",
            "54013     816\n",
            "Name: ReviewerID, Length: 54014, dtype: int64\n",
            "(5094, 22)\n",
            "(6633, 22)\n",
            "0          52\n",
            "1        2202\n",
            "2         774\n",
            "3        1057\n",
            "4        1595\n",
            "         ... \n",
            "54009    1903\n",
            "54010     173\n",
            "54011     634\n",
            "54012    2020\n",
            "54013     816\n",
            "Name: ReviewerID, Length: 54014, dtype: int64\n"
          ]
        }
      ],
      "source": [
        "print(tr_df.ReviewerID)\n",
        "print(val_df.shape)\n",
        "print(te_df.shape)\n",
        "print(tr_df.ReviewerID)\n"
      ]
    },
    {
      "cell_type": "markdown",
      "metadata": {
        "id": "LqrTnTzzme0A"
      },
      "source": [
        "### Expanding the table by using user_id and business_id\n",
        "Expanding the train, valiation and test dataset by using `ReviewerID` and `ProductID` to query more features from `user_df` (which contain only the average stars given by and the number of reviews written by each reviewer) and `product_avg_star_df` and `product_df`."
      ]
    },
    {
      "cell_type": "code",
      "execution_count": 297,
      "metadata": {
        "colab": {
          "base_uri": "https://localhost:8080/"
        },
        "id": "J0EtLlEHpn_E",
        "outputId": "adffd8c4-8d67-48a0-e17d-f47485d0fa5d"
      },
      "outputs": [
        {
          "output_type": "stream",
          "name": "stdout",
          "text": [
            "(54014, 24)\n",
            "(5094, 22)\n",
            "(6633, 22)\n"
          ]
        }
      ],
      "source": [
        "print(tr_df.shape)\n",
        "print(val_df.shape)\n",
        "print(te_df.shape)"
      ]
    },
    {
      "cell_type": "code",
      "execution_count": 298,
      "metadata": {
        "id": "m5s8VTkSGMD1"
      },
      "outputs": [],
      "source": [
        "# labels for training and validation\n",
        "tr_ratings = tr_df['Star'].values\n",
        "val_ratings = val_df['Star'].values"
      ]
    },
    {
      "cell_type": "code",
      "execution_count": 299,
      "metadata": {
        "colab": {
          "base_uri": "https://localhost:8080/",
          "height": 655
        },
        "id": "bMSIDDdExbyE",
        "outputId": "449bf5e9-5942-412b-b276-da785d90a79b"
      },
      "outputs": [
        {
          "output_type": "execute_result",
          "data": {
            "text/plain": [
              "   ReviewerID  ProductID                                               Text  \\\n",
              "0          52       1384  Liked the movie. Loved the book. It really giv...   \n",
              "1        2202       2039  Purchased more out of curiosity than any real ...   \n",
              "2         774       2039  I actually received this text as an ebook, sin...   \n",
              "3        1057       1621  REVIEWER'S OPINION:\\nThis was labeled as roman...   \n",
              "4        1595       3416  I have been saving the Argeneau novels for awh...   \n",
              "\n",
              "                                             Summary  Star  \\\n",
              "0                   Liked the movie. Loved the book!   5.0   \n",
              "1                            Not my favorite, but...   3.0   \n",
              "2                                An interesting read   4.0   \n",
              "3  This was labeled romance but there was less ro...   2.0   \n",
              "4             Science Fiction not Paranormal Romance   2.0   \n",
              "\n",
              "                                            category title  \\\n",
              "0             [Kindle eBooks, Biographies & Memoirs]  None   \n",
              "1        [Kindle eBooks, Politics & Social Sciences]  None   \n",
              "2        [Kindle eBooks, Politics & Social Sciences]  None   \n",
              "3                           [Kindle eBooks, Romance]  None   \n",
              "4  [Kindle eBooks, Mystery, Thriller &amp; Suspense]  None   \n",
              "\n",
              "                                   brand       rank  details.File Size:  ...  \\\n",
              "0  Visit Amazon's Frank W. Abagnale Page    59404.0              1466.0  ...   \n",
              "1          Visit Amazon's Karl Marx Page  1358073.0               142.0  ...   \n",
              "2          Visit Amazon's Karl Marx Page  1358073.0               142.0  ...   \n",
              "3    Visit Amazon's Allison Brennan Page    94006.0               739.0  ...   \n",
              "4       Visit Amazon's Lynsay Sands Page    31652.0              1011.0  ...   \n",
              "\n",
              "   details.ASIN: details.Word Wise: details.Lending:  \\\n",
              "0     B000FBFMHU            Enabled          Enabled   \n",
              "1     B000FC27TA            Enabled      Not Enabled   \n",
              "2     B000FC27TA            Enabled      Not Enabled   \n",
              "3     B000FCKPG2            Enabled      Not Enabled   \n",
              "4     B000GCFWXW            Enabled      Not Enabled   \n",
              "\n",
              "  details.Simultaneous Device Usage: Free rank  Paid rank  \\\n",
              "0                                NaN       NaN    59404.0   \n",
              "1                                NaN       NaN  1358073.0   \n",
              "2                                NaN       NaN  1358073.0   \n",
              "3                                NaN       NaN    94006.0   \n",
              "4                                NaN       NaN    31652.0   \n",
              "\n",
              "  product_review_count product_avg_star  reviewer_review_count  \\\n",
              "0                    1         5.000000                     13   \n",
              "1                    2         3.500000                     71   \n",
              "2                    2         3.500000                      8   \n",
              "3                    1         2.000000                     24   \n",
              "4                    7         3.142857                     19   \n",
              "\n",
              "   reviewer_avg_star  \n",
              "0           2.461538  \n",
              "1           3.830986  \n",
              "2           4.500000  \n",
              "3           2.625000  \n",
              "4           2.947368  \n",
              "\n",
              "[5 rows x 24 columns]"
            ],
            "text/html": [
              "\n",
              "  <div id=\"df-06e733f1-d2fb-4f0d-a9c2-255de58fe299\" class=\"colab-df-container\">\n",
              "    <div>\n",
              "<style scoped>\n",
              "    .dataframe tbody tr th:only-of-type {\n",
              "        vertical-align: middle;\n",
              "    }\n",
              "\n",
              "    .dataframe tbody tr th {\n",
              "        vertical-align: top;\n",
              "    }\n",
              "\n",
              "    .dataframe thead th {\n",
              "        text-align: right;\n",
              "    }\n",
              "</style>\n",
              "<table border=\"1\" class=\"dataframe\">\n",
              "  <thead>\n",
              "    <tr style=\"text-align: right;\">\n",
              "      <th></th>\n",
              "      <th>ReviewerID</th>\n",
              "      <th>ProductID</th>\n",
              "      <th>Text</th>\n",
              "      <th>Summary</th>\n",
              "      <th>Star</th>\n",
              "      <th>category</th>\n",
              "      <th>title</th>\n",
              "      <th>brand</th>\n",
              "      <th>rank</th>\n",
              "      <th>details.File Size:</th>\n",
              "      <th>...</th>\n",
              "      <th>details.ASIN:</th>\n",
              "      <th>details.Word Wise:</th>\n",
              "      <th>details.Lending:</th>\n",
              "      <th>details.Simultaneous Device Usage:</th>\n",
              "      <th>Free rank</th>\n",
              "      <th>Paid rank</th>\n",
              "      <th>product_review_count</th>\n",
              "      <th>product_avg_star</th>\n",
              "      <th>reviewer_review_count</th>\n",
              "      <th>reviewer_avg_star</th>\n",
              "    </tr>\n",
              "  </thead>\n",
              "  <tbody>\n",
              "    <tr>\n",
              "      <th>0</th>\n",
              "      <td>52</td>\n",
              "      <td>1384</td>\n",
              "      <td>Liked the movie. Loved the book. It really giv...</td>\n",
              "      <td>Liked the movie. Loved the book!</td>\n",
              "      <td>5.0</td>\n",
              "      <td>[Kindle eBooks, Biographies &amp; Memoirs]</td>\n",
              "      <td>None</td>\n",
              "      <td>Visit Amazon's Frank W. Abagnale Page</td>\n",
              "      <td>59404.0</td>\n",
              "      <td>1466.0</td>\n",
              "      <td>...</td>\n",
              "      <td>B000FBFMHU</td>\n",
              "      <td>Enabled</td>\n",
              "      <td>Enabled</td>\n",
              "      <td>NaN</td>\n",
              "      <td>NaN</td>\n",
              "      <td>59404.0</td>\n",
              "      <td>1</td>\n",
              "      <td>5.000000</td>\n",
              "      <td>13</td>\n",
              "      <td>2.461538</td>\n",
              "    </tr>\n",
              "    <tr>\n",
              "      <th>1</th>\n",
              "      <td>2202</td>\n",
              "      <td>2039</td>\n",
              "      <td>Purchased more out of curiosity than any real ...</td>\n",
              "      <td>Not my favorite, but...</td>\n",
              "      <td>3.0</td>\n",
              "      <td>[Kindle eBooks, Politics &amp; Social Sciences]</td>\n",
              "      <td>None</td>\n",
              "      <td>Visit Amazon's Karl Marx Page</td>\n",
              "      <td>1358073.0</td>\n",
              "      <td>142.0</td>\n",
              "      <td>...</td>\n",
              "      <td>B000FC27TA</td>\n",
              "      <td>Enabled</td>\n",
              "      <td>Not Enabled</td>\n",
              "      <td>NaN</td>\n",
              "      <td>NaN</td>\n",
              "      <td>1358073.0</td>\n",
              "      <td>2</td>\n",
              "      <td>3.500000</td>\n",
              "      <td>71</td>\n",
              "      <td>3.830986</td>\n",
              "    </tr>\n",
              "    <tr>\n",
              "      <th>2</th>\n",
              "      <td>774</td>\n",
              "      <td>2039</td>\n",
              "      <td>I actually received this text as an ebook, sin...</td>\n",
              "      <td>An interesting read</td>\n",
              "      <td>4.0</td>\n",
              "      <td>[Kindle eBooks, Politics &amp; Social Sciences]</td>\n",
              "      <td>None</td>\n",
              "      <td>Visit Amazon's Karl Marx Page</td>\n",
              "      <td>1358073.0</td>\n",
              "      <td>142.0</td>\n",
              "      <td>...</td>\n",
              "      <td>B000FC27TA</td>\n",
              "      <td>Enabled</td>\n",
              "      <td>Not Enabled</td>\n",
              "      <td>NaN</td>\n",
              "      <td>NaN</td>\n",
              "      <td>1358073.0</td>\n",
              "      <td>2</td>\n",
              "      <td>3.500000</td>\n",
              "      <td>8</td>\n",
              "      <td>4.500000</td>\n",
              "    </tr>\n",
              "    <tr>\n",
              "      <th>3</th>\n",
              "      <td>1057</td>\n",
              "      <td>1621</td>\n",
              "      <td>REVIEWER'S OPINION:\\nThis was labeled as roman...</td>\n",
              "      <td>This was labeled romance but there was less ro...</td>\n",
              "      <td>2.0</td>\n",
              "      <td>[Kindle eBooks, Romance]</td>\n",
              "      <td>None</td>\n",
              "      <td>Visit Amazon's Allison Brennan Page</td>\n",
              "      <td>94006.0</td>\n",
              "      <td>739.0</td>\n",
              "      <td>...</td>\n",
              "      <td>B000FCKPG2</td>\n",
              "      <td>Enabled</td>\n",
              "      <td>Not Enabled</td>\n",
              "      <td>NaN</td>\n",
              "      <td>NaN</td>\n",
              "      <td>94006.0</td>\n",
              "      <td>1</td>\n",
              "      <td>2.000000</td>\n",
              "      <td>24</td>\n",
              "      <td>2.625000</td>\n",
              "    </tr>\n",
              "    <tr>\n",
              "      <th>4</th>\n",
              "      <td>1595</td>\n",
              "      <td>3416</td>\n",
              "      <td>I have been saving the Argeneau novels for awh...</td>\n",
              "      <td>Science Fiction not Paranormal Romance</td>\n",
              "      <td>2.0</td>\n",
              "      <td>[Kindle eBooks, Mystery, Thriller &amp;amp; Suspense]</td>\n",
              "      <td>None</td>\n",
              "      <td>Visit Amazon's Lynsay Sands Page</td>\n",
              "      <td>31652.0</td>\n",
              "      <td>1011.0</td>\n",
              "      <td>...</td>\n",
              "      <td>B000GCFWXW</td>\n",
              "      <td>Enabled</td>\n",
              "      <td>Not Enabled</td>\n",
              "      <td>NaN</td>\n",
              "      <td>NaN</td>\n",
              "      <td>31652.0</td>\n",
              "      <td>7</td>\n",
              "      <td>3.142857</td>\n",
              "      <td>19</td>\n",
              "      <td>2.947368</td>\n",
              "    </tr>\n",
              "  </tbody>\n",
              "</table>\n",
              "<p>5 rows × 24 columns</p>\n",
              "</div>\n",
              "    <div class=\"colab-df-buttons\">\n",
              "\n",
              "  <div class=\"colab-df-container\">\n",
              "    <button class=\"colab-df-convert\" onclick=\"convertToInteractive('df-06e733f1-d2fb-4f0d-a9c2-255de58fe299')\"\n",
              "            title=\"Convert this dataframe to an interactive table.\"\n",
              "            style=\"display:none;\">\n",
              "\n",
              "  <svg xmlns=\"http://www.w3.org/2000/svg\" height=\"24px\" viewBox=\"0 -960 960 960\">\n",
              "    <path d=\"M120-120v-720h720v720H120Zm60-500h600v-160H180v160Zm220 220h160v-160H400v160Zm0 220h160v-160H400v160ZM180-400h160v-160H180v160Zm440 0h160v-160H620v160ZM180-180h160v-160H180v160Zm440 0h160v-160H620v160Z\"/>\n",
              "  </svg>\n",
              "    </button>\n",
              "\n",
              "  <style>\n",
              "    .colab-df-container {\n",
              "      display:flex;\n",
              "      gap: 12px;\n",
              "    }\n",
              "\n",
              "    .colab-df-convert {\n",
              "      background-color: #E8F0FE;\n",
              "      border: none;\n",
              "      border-radius: 50%;\n",
              "      cursor: pointer;\n",
              "      display: none;\n",
              "      fill: #1967D2;\n",
              "      height: 32px;\n",
              "      padding: 0 0 0 0;\n",
              "      width: 32px;\n",
              "    }\n",
              "\n",
              "    .colab-df-convert:hover {\n",
              "      background-color: #E2EBFA;\n",
              "      box-shadow: 0px 1px 2px rgba(60, 64, 67, 0.3), 0px 1px 3px 1px rgba(60, 64, 67, 0.15);\n",
              "      fill: #174EA6;\n",
              "    }\n",
              "\n",
              "    .colab-df-buttons div {\n",
              "      margin-bottom: 4px;\n",
              "    }\n",
              "\n",
              "    [theme=dark] .colab-df-convert {\n",
              "      background-color: #3B4455;\n",
              "      fill: #D2E3FC;\n",
              "    }\n",
              "\n",
              "    [theme=dark] .colab-df-convert:hover {\n",
              "      background-color: #434B5C;\n",
              "      box-shadow: 0px 1px 3px 1px rgba(0, 0, 0, 0.15);\n",
              "      filter: drop-shadow(0px 1px 2px rgba(0, 0, 0, 0.3));\n",
              "      fill: #FFFFFF;\n",
              "    }\n",
              "  </style>\n",
              "\n",
              "    <script>\n",
              "      const buttonEl =\n",
              "        document.querySelector('#df-06e733f1-d2fb-4f0d-a9c2-255de58fe299 button.colab-df-convert');\n",
              "      buttonEl.style.display =\n",
              "        google.colab.kernel.accessAllowed ? 'block' : 'none';\n",
              "\n",
              "      async function convertToInteractive(key) {\n",
              "        const element = document.querySelector('#df-06e733f1-d2fb-4f0d-a9c2-255de58fe299');\n",
              "        const dataTable =\n",
              "          await google.colab.kernel.invokeFunction('convertToInteractive',\n",
              "                                                    [key], {});\n",
              "        if (!dataTable) return;\n",
              "\n",
              "        const docLinkHtml = 'Like what you see? Visit the ' +\n",
              "          '<a target=\"_blank\" href=https://colab.research.google.com/notebooks/data_table.ipynb>data table notebook</a>'\n",
              "          + ' to learn more about interactive tables.';\n",
              "        element.innerHTML = '';\n",
              "        dataTable['output_type'] = 'display_data';\n",
              "        await google.colab.output.renderOutput(dataTable, element);\n",
              "        const docLink = document.createElement('div');\n",
              "        docLink.innerHTML = docLinkHtml;\n",
              "        element.appendChild(docLink);\n",
              "      }\n",
              "    </script>\n",
              "  </div>\n",
              "\n",
              "\n",
              "<div id=\"df-379041dc-d20b-40f5-857b-f3b14096d60a\">\n",
              "  <button class=\"colab-df-quickchart\" onclick=\"quickchart('df-379041dc-d20b-40f5-857b-f3b14096d60a')\"\n",
              "            title=\"Suggest charts\"\n",
              "            style=\"display:none;\">\n",
              "\n",
              "<svg xmlns=\"http://www.w3.org/2000/svg\" height=\"24px\"viewBox=\"0 0 24 24\"\n",
              "     width=\"24px\">\n",
              "    <g>\n",
              "        <path d=\"M19 3H5c-1.1 0-2 .9-2 2v14c0 1.1.9 2 2 2h14c1.1 0 2-.9 2-2V5c0-1.1-.9-2-2-2zM9 17H7v-7h2v7zm4 0h-2V7h2v10zm4 0h-2v-4h2v4z\"/>\n",
              "    </g>\n",
              "</svg>\n",
              "  </button>\n",
              "\n",
              "<style>\n",
              "  .colab-df-quickchart {\n",
              "      --bg-color: #E8F0FE;\n",
              "      --fill-color: #1967D2;\n",
              "      --hover-bg-color: #E2EBFA;\n",
              "      --hover-fill-color: #174EA6;\n",
              "      --disabled-fill-color: #AAA;\n",
              "      --disabled-bg-color: #DDD;\n",
              "  }\n",
              "\n",
              "  [theme=dark] .colab-df-quickchart {\n",
              "      --bg-color: #3B4455;\n",
              "      --fill-color: #D2E3FC;\n",
              "      --hover-bg-color: #434B5C;\n",
              "      --hover-fill-color: #FFFFFF;\n",
              "      --disabled-bg-color: #3B4455;\n",
              "      --disabled-fill-color: #666;\n",
              "  }\n",
              "\n",
              "  .colab-df-quickchart {\n",
              "    background-color: var(--bg-color);\n",
              "    border: none;\n",
              "    border-radius: 50%;\n",
              "    cursor: pointer;\n",
              "    display: none;\n",
              "    fill: var(--fill-color);\n",
              "    height: 32px;\n",
              "    padding: 0;\n",
              "    width: 32px;\n",
              "  }\n",
              "\n",
              "  .colab-df-quickchart:hover {\n",
              "    background-color: var(--hover-bg-color);\n",
              "    box-shadow: 0 1px 2px rgba(60, 64, 67, 0.3), 0 1px 3px 1px rgba(60, 64, 67, 0.15);\n",
              "    fill: var(--button-hover-fill-color);\n",
              "  }\n",
              "\n",
              "  .colab-df-quickchart-complete:disabled,\n",
              "  .colab-df-quickchart-complete:disabled:hover {\n",
              "    background-color: var(--disabled-bg-color);\n",
              "    fill: var(--disabled-fill-color);\n",
              "    box-shadow: none;\n",
              "  }\n",
              "\n",
              "  .colab-df-spinner {\n",
              "    border: 2px solid var(--fill-color);\n",
              "    border-color: transparent;\n",
              "    border-bottom-color: var(--fill-color);\n",
              "    animation:\n",
              "      spin 1s steps(1) infinite;\n",
              "  }\n",
              "\n",
              "  @keyframes spin {\n",
              "    0% {\n",
              "      border-color: transparent;\n",
              "      border-bottom-color: var(--fill-color);\n",
              "      border-left-color: var(--fill-color);\n",
              "    }\n",
              "    20% {\n",
              "      border-color: transparent;\n",
              "      border-left-color: var(--fill-color);\n",
              "      border-top-color: var(--fill-color);\n",
              "    }\n",
              "    30% {\n",
              "      border-color: transparent;\n",
              "      border-left-color: var(--fill-color);\n",
              "      border-top-color: var(--fill-color);\n",
              "      border-right-color: var(--fill-color);\n",
              "    }\n",
              "    40% {\n",
              "      border-color: transparent;\n",
              "      border-right-color: var(--fill-color);\n",
              "      border-top-color: var(--fill-color);\n",
              "    }\n",
              "    60% {\n",
              "      border-color: transparent;\n",
              "      border-right-color: var(--fill-color);\n",
              "    }\n",
              "    80% {\n",
              "      border-color: transparent;\n",
              "      border-right-color: var(--fill-color);\n",
              "      border-bottom-color: var(--fill-color);\n",
              "    }\n",
              "    90% {\n",
              "      border-color: transparent;\n",
              "      border-bottom-color: var(--fill-color);\n",
              "    }\n",
              "  }\n",
              "</style>\n",
              "\n",
              "  <script>\n",
              "    async function quickchart(key) {\n",
              "      const quickchartButtonEl =\n",
              "        document.querySelector('#' + key + ' button');\n",
              "      quickchartButtonEl.disabled = true;  // To prevent multiple clicks.\n",
              "      quickchartButtonEl.classList.add('colab-df-spinner');\n",
              "      try {\n",
              "        const charts = await google.colab.kernel.invokeFunction(\n",
              "            'suggestCharts', [key], {});\n",
              "      } catch (error) {\n",
              "        console.error('Error during call to suggestCharts:', error);\n",
              "      }\n",
              "      quickchartButtonEl.classList.remove('colab-df-spinner');\n",
              "      quickchartButtonEl.classList.add('colab-df-quickchart-complete');\n",
              "    }\n",
              "    (() => {\n",
              "      let quickchartButtonEl =\n",
              "        document.querySelector('#df-379041dc-d20b-40f5-857b-f3b14096d60a button');\n",
              "      quickchartButtonEl.style.display =\n",
              "        google.colab.kernel.accessAllowed ? 'block' : 'none';\n",
              "    })();\n",
              "  </script>\n",
              "</div>\n",
              "    </div>\n",
              "  </div>\n"
            ],
            "application/vnd.google.colaboratory.intrinsic+json": {
              "type": "dataframe",
              "variable_name": "tr_df"
            }
          },
          "metadata": {},
          "execution_count": 299
        }
      ],
      "source": [
        "tr_df.head()"
      ]
    },
    {
      "cell_type": "code",
      "execution_count": 300,
      "metadata": {
        "colab": {
          "base_uri": "https://localhost:8080/"
        },
        "id": "DkThJICG5dzd",
        "outputId": "35837d04-f48e-4183-98bf-a35150330f8b"
      },
      "outputs": [
        {
          "output_type": "execute_result",
          "data": {
            "text/plain": [
              "(54014, 24)"
            ]
          },
          "metadata": {},
          "execution_count": 300
        }
      ],
      "source": [
        "tr_df.shape"
      ]
    },
    {
      "cell_type": "code",
      "execution_count": 301,
      "metadata": {
        "id": "lBkpUeFDE9PO"
      },
      "outputs": [],
      "source": [
        "#tr_df.to_csv(data_path+'/my_train.csv', index=False)"
      ]
    },
    {
      "cell_type": "code",
      "source": [],
      "metadata": {
        "id": "Kg23mowafezy"
      },
      "execution_count": 301,
      "outputs": []
    },
    {
      "cell_type": "markdown",
      "metadata": {
        "id": "KfnxOKBTme0B"
      },
      "source": [
        "### Preparing continuous features"
      ]
    },
    {
      "cell_type": "code",
      "execution_count": 302,
      "metadata": {
        "id": "Jn-XW-Nwme0B",
        "colab": {
          "base_uri": "https://localhost:8080/"
        },
        "outputId": "dd265550-b1f4-4e3b-b695-73f5696bcbdd"
      },
      "outputs": [
        {
          "output_type": "stream",
          "name": "stderr",
          "text": [
            "<ipython-input-302-4dc0772c8938>:11: FutureWarning: A value is trying to be set on a copy of a DataFrame or Series through chained assignment using an inplace method.\n",
            "The behavior will change in pandas 3.0. This inplace method will never work because the intermediate object on which we are setting values always behaves as a copy.\n",
            "\n",
            "For example, when doing 'df[col].method(value, inplace=True)', try using 'df.method({col: value}, inplace=True)' or df[col] = df[col].method(value) instead, to perform the operation inplace on the original object.\n",
            "\n",
            "\n",
            "  df[column].fillna(median_value, inplace=True)\n"
          ]
        }
      ],
      "source": [
        "# Specify the columns containing conitnuous features\n",
        "\n",
        "continuous_columns = [\"rank\",\n",
        "                      \"reviewer_avg_star\", \"product_avg_star\"]\n",
        "\n",
        "\n",
        "# Assuming you have a DataFrame called 'df' and a list of column names to fill nan with medians\n",
        "def fill_nan_with_median(df, columns_to_fill ):\n",
        "  for column in columns_to_fill:\n",
        "      median_value = df[column].median()\n",
        "      df[column].fillna(median_value, inplace=True)\n",
        "  return df\n",
        "\n",
        "tr_df = fill_nan_with_median(tr_df, continuous_columns)\n",
        "val_df = fill_nan_with_median(val_df, continuous_columns)\n",
        "te_df = fill_nan_with_median(te_df, continuous_columns)\n",
        "\n",
        "# Get values of continous features for train/validation/test sets using the utility function defined previously\n",
        "tr_continuous_features = get_continuous_features(tr_df, continuous_columns)\n",
        "val_continuous_features = get_continuous_features(val_df, continuous_columns)\n",
        "te_continuous_features = get_continuous_features(te_df, continuous_columns)\n",
        "\n",
        "# Standardize each feature by removing the mean of the training samples and scaling to unit variance.\n",
        "# See https://scikit-learn.org/stable/modules/generated/sklearn.preprocessing.StandardScaler.html for more details.\n",
        "scaler = StandardScaler().fit(tr_continuous_features)\n",
        "\n",
        "tr_continuous_features = scaler.transform(tr_continuous_features)\n",
        "val_continuous_features = scaler.transform(val_continuous_features)\n",
        "te_continuous_features = scaler.transform(te_continuous_features)"
      ]
    },
    {
      "cell_type": "markdown",
      "metadata": {
        "id": "iST1ttQzme0B"
      },
      "source": [
        "### Preparing deep categorical features"
      ]
    },
    {
      "cell_type": "code",
      "execution_count": 303,
      "metadata": {
        "id": "Vdghrp3Tme0B"
      },
      "outputs": [],
      "source": [
        "# Sepcify column names of deep categorical features\n",
        "item_deep_columns = [\"brand\", \"details.Language:\", \"details.Word Wise:\", \"details.Lending:\",\"details.Publisher:\"]\n",
        "product_df = product_df.fillna({col: 'unknown' for col in item_deep_columns})\n",
        "\n",
        "# An array of integers where deep_vocab_lens[i] represents the number of unique values of (i+1)-th deep categorical feature\n",
        "# Transforming words into indices for each categorical columns\n",
        "item_deep_vocab_lens = []\n",
        "for col_name in item_deep_columns:\n",
        "    # Getting unique values of this deep categorical feature\n",
        "    unique_values = product_df[col_name].unique()\n",
        "\n",
        "    # Creating a dictionary to map from unique values to the corresponding index\n",
        "    vocab = dict(zip(unique_values, range(1, len(unique_values)+1)))\n",
        "\n",
        "    # Getting the number of unique values of this deep categorical features\n",
        "    item_deep_vocab_lens.append(len(vocab)+1)\n",
        "\n",
        "    # Creating a new column where each entry stores the index of this deep categorical feature's value in the same row\n",
        "    product_df[col_name + \"_idx\"] = product_df[col_name].apply(lambda x: vocab[x])\n",
        "\n",
        "\n",
        "# Creating a dictionary mapping each business id to corresponding values of deep categorical features ('business_id' -> ['item_city_idx', 'item_postal_code_idx', 'item_state_idx'] in this case)\n",
        "item_deep_idx_columns = [t + \"_idx\" for t in item_deep_columns]\n",
        "item_to_deep_categorical_features = dict(zip(product_df['ProductID'].values, product_df[item_deep_idx_columns].values.tolist()))\n",
        "\n",
        "# Creating numpy arrays storing corresponding deep categorical features' values of train/validation/test sets using the above mapping\n",
        "tr_deep_categorical_features = np.array(tr_df['ProductID'].apply(lambda x: item_to_deep_categorical_features[x] if x in item_to_deep_categorical_features else np.zeros(5, dtype=int)).values.tolist())\n",
        "val_deep_categorical_features = np.array(val_df['ProductID'].apply(lambda x: item_to_deep_categorical_features[x] if x in item_to_deep_categorical_features else np.zeros(5, dtype=int)).values.tolist())\n",
        "te_deep_categorical_features = np.array(te_df['ProductID'].apply(lambda x: item_to_deep_categorical_features[x] if x in item_to_deep_categorical_features else np.zeros(5, dtype=int)).values.tolist())"
      ]
    },
    {
      "cell_type": "markdown",
      "metadata": {
        "id": "rUYmTt-Ame0C"
      },
      "source": [
        "### Preparing wide features"
      ]
    },
    {
      "cell_type": "markdown",
      "metadata": {
        "id": "TYLTxWXQme0C"
      },
      "source": [
        "##### Preparing binary encoding for each selected category"
      ]
    },
    {
      "cell_type": "code",
      "execution_count": 304,
      "metadata": {
        "colab": {
          "base_uri": "https://localhost:8080/"
        },
        "id": "F2bJCLZxme0C",
        "outputId": "c5dcc200-7cf9-4ce4-9af3-eb8d4a66dcc1"
      },
      "outputs": [
        {
          "output_type": "stream",
          "name": "stdout",
          "text": [
            "['Kindle eBooks', 'Biographies & Memoirs', 'Kindle eBooks', 'Politics & Social Sciences', 'Kindle eBooks', 'Romance', 'Kindle eBooks', 'Mystery, Thriller &amp; Suspense', 'Kindle eBooks', 'Romance', 'Kindle eBooks', 'Religion &amp; Spirituality', 'Kindle eBooks', 'Literature & Fiction', 'Kindle eBooks', 'Literature & Fiction', 'Kindle eBooks', 'Literature & Fiction', 'Kindle eBooks', 'Literature & Fiction', 'Kindle eBooks', 'Health, Fitness & Dieting', 'Kindle eBooks', 'Mystery, Thriller &amp; Suspense', 'Kindle eBooks', 'Romance', 'Kindle eBooks', 'Literature & Fiction', 'Kindle eBooks', \"Children's eBooks\", 'Kindle eBooks', 'Literature & Fiction', 'Kindle eBooks', 'Literature & Fiction', 'Kindle eBooks', 'Literature & Fiction', 'Kindle eBooks', 'Religion & Spirituality', 'Kindle eBooks', 'Literature & Fiction', 'Kindle eBooks', 'Mystery, Thriller & Suspense', 'Kindle eBooks', 'Religion & Spirituality', 'Kindle eBooks', \"Children's eBooks\", 'Kindle eBooks', 'Literature & Fiction', 'Kindle eBooks', 'Teen & Young Adult', 'Kindle eBooks', 'Romance', 'Kindle eBooks', 'Literature & Fiction', 'Kindle eBooks', 'Literature & Fiction', 'Kindle eBooks', 'Religion & Spirituality', 'Kindle eBooks', 'History', 'Kindle eBooks', 'Literature & Fiction', 'Kindle eBooks', 'Religion & Spirituality', 'Kindle eBooks', 'Literature & Fiction', 'Kindle eBooks', 'Literature & Fiction', 'Kindle eBooks', 'Religion & Spirituality', 'Kindle eBooks', 'Literature & Fiction', 'Kindle eBooks', 'Romance', 'Kindle eBooks', 'Literature & Fiction', 'Kindle eBooks', 'Literature &amp; Fiction', 'Kindle eBooks', 'Romance', 'Kindle eBooks', 'Literature &amp; Fiction', 'Kindle eBooks', 'Mystery, Thriller & Suspense', 'Kindle eBooks', 'Literature & Fiction', 'Kindle eBooks', 'Romance', 'Kindle eBooks', 'Humor & Entertainment', 'Kindle eBooks', 'Literature & Fiction', 'Kindle eBooks', 'Romance', 'Kindle eBooks', 'Literature & Fiction', 'Kindle eBooks', 'Science Fiction & Fantasy', 'Kindle eBooks', 'Mystery, Thriller & Suspense', 'Kindle eBooks', 'Literature & Fiction', 'Kindle eBooks', \"Children's eBooks\", 'Kindle eBooks', 'Literature & Fiction', 'Kindle eBooks', 'Mystery, Thriller & Suspense', 'Kindle eBooks', 'Science Fiction & Fantasy', 'Kindle eBooks', 'Business & Money', 'Kindle eBooks', 'Mystery, Thriller & Suspense', 'Kindle eBooks', 'Literature & Fiction', 'Kindle eBooks', 'Reference', 'Kindle Short Reads', 'Two hours or more (65-100 pages)', 'Kindle eBooks', \"Children's eBooks\", 'Kindle eBooks', \"Children's eBooks\", 'Kindle eBooks', 'Literature & Fiction', 'Kindle eBooks', 'Romance', 'Kindle eBooks', 'Mystery, Thriller & Suspense', 'Kindle eBooks', 'Literature & Fiction', 'Kindle eBooks', 'Mystery, Thriller & Suspense', 'Kindle eBooks', 'Mystery, Thriller & Suspense', 'Kindle eBooks', 'Mystery, Thriller & Suspense', 'Kindle eBooks', 'Literature & Fiction', 'Kindle eBooks', 'Teen & Young Adult', 'Kindle eBooks', 'Literature & Fiction', 'Kindle eBooks', 'Literature & Fiction', 'Kindle eBooks', 'Literature & Fiction', 'Kindle eBooks', 'Literature & Fiction', 'Kindle eBooks', 'Cookbooks, Food & Wine', 'Kindle eBooks', 'Self-Help', 'Kindle eBooks', 'Literature & Fiction', 'Kindle eBooks', 'Literature & Fiction', 'Kindle eBooks', 'Literature & Fiction', 'Kindle eBooks', 'Romance', 'Kindle eBooks', 'Teen & Young Adult', 'Kindle eBooks', 'Literature & Fiction', 'Kindle eBooks', 'Romance', 'Kindle eBooks', 'Teen & Young Adult', 'Kindle eBooks', 'Literature & Fiction', 'Kindle eBooks', 'Literature & Fiction', 'Kindle eBooks', 'Literature & Fiction', 'Kindle eBooks', 'Literature & Fiction', 'Kindle eBooks', 'Literature & Fiction', 'Kindle eBooks', 'Romance', 'Kindle eBooks', \"Children's eBooks\", 'Kindle eBooks', 'Science Fiction & Fantasy', 'Kindle eBooks', 'Literature & Fiction', 'Kindle eBooks', 'Literature & Fiction', 'Kindle eBooks', 'Literature & Fiction', 'Kindle eBooks', 'Romance', 'Kindle eBooks', 'Literature & Fiction', 'Kindle eBooks', 'Literature & Fiction', 'Kindle eBooks', 'Religion & Spirituality', 'Kindle eBooks', 'Literature & Fiction', 'Kindle eBooks', 'Mystery, Thriller & Suspense', 'Kindle eBooks', \"Children's eBooks\", 'Kindle eBooks', 'Literature & Fiction', 'Kindle eBooks', \"Children's eBooks\", 'Kindle eBooks', 'Romance', 'Kindle eBooks', 'Teen & Young Adult', 'Kindle eBooks', 'Teen & Young Adult', 'Kindle eBooks', 'Science Fiction & Fantasy', 'Kindle eBooks', 'Parenting & Relationships', 'Kindle eBooks', 'Literature & Fiction', 'Kindle eBooks', 'Literature & Fiction', 'Kindle eBooks', 'Teen & Young Adult', 'Kindle eBooks', 'Science Fiction & Fantasy', 'Kindle eBooks', 'Mystery, Thriller & Suspense', 'Kindle eBooks', 'Teen & Young Adult', 'Kindle eBooks', 'Science Fiction & Fantasy', 'Kindle eBooks', 'Science Fiction & Fantasy', 'Kindle eBooks', 'Science Fiction & Fantasy', 'Kindle eBooks', 'Teen & Young Adult', 'Kindle eBooks', 'Literature & Fiction', 'Kindle eBooks', 'Literature & Fiction', 'Kindle eBooks', 'Literature & Fiction', 'Kindle eBooks', 'Religion & Spirituality', 'Kindle eBooks', 'Science Fiction & Fantasy', 'Kindle eBooks', 'Literature & Fiction', 'Kindle eBooks', 'Romance', 'Kindle eBooks', 'Literature & Fiction', 'Kindle eBooks', 'Literature & Fiction', 'Kindle eBooks', 'Humor & Entertainment', 'Kindle eBooks', 'Literature & Fiction', 'Kindle eBooks', 'Literature & Fiction', 'Kindle eBooks', 'Literature & Fiction', 'Kindle eBooks', 'Religion & Spirituality', 'Kindle eBooks', 'Mystery, Thriller & Suspense', 'Kindle eBooks', 'Literature & Fiction', 'Kindle eBooks', 'Literature & Fiction', 'Kindle eBooks', 'Romance', 'Kindle eBooks', 'Mystery, Thriller & Suspense', 'Kindle eBooks', 'Teen & Young Adult', 'Kindle eBooks', 'Science Fiction & Fantasy', 'Kindle eBooks', 'Literature & Fiction', 'Kindle eBooks', 'Health, Fitness & Dieting', 'Kindle eBooks', \"Children's eBooks\", 'Kindle eBooks', 'Literature & Fiction', 'Kindle eBooks', 'Literature & Fiction', 'Kindle eBooks', 'Romance', 'Kindle eBooks', \"Children's eBooks\", 'Kindle eBooks', 'Literature & Fiction', 'Kindle eBooks', 'Literature & Fiction', 'Kindle eBooks', 'Religion & Spirituality', 'Kindle eBooks', 'Science Fiction & Fantasy', 'Kindle eBooks', 'Mystery, Thriller & Suspense', 'Kindle eBooks', 'Literature & Fiction', 'Kindle eBooks', 'Literature & Fiction', 'Kindle eBooks', 'Teen & Young Adult', 'Kindle eBooks', 'Teen & Young Adult', 'Kindle eBooks', 'Teen & Young Adult', 'Kindle eBooks', 'Science Fiction & Fantasy', 'Kindle eBooks', 'Literature & Fiction', 'Kindle eBooks', 'Kindle eBooks', 'Literature & Fiction', 'Kindle eBooks', 'Science Fiction & Fantasy', 'Kindle eBooks', 'Literature & Fiction', 'Kindle eBooks', 'Literature & Fiction', 'Kindle eBooks', 'Religion & Spirituality', 'Kindle eBooks', 'Romance', 'Kindle eBooks', 'Mystery, Thriller & Suspense', 'Kindle eBooks', 'Religion & Spirituality', 'Kindle eBooks', 'Romance', 'Kindle eBooks', 'Teen & Young Adult', 'Kindle eBooks', 'Teen & Young Adult', 'Kindle eBooks', 'Mystery, Thriller & Suspense', 'Kindle eBooks', 'Literature & Fiction', 'Kindle eBooks', \"Children's eBooks\", 'Kindle eBooks', 'Teen & Young Adult', 'Kindle eBooks', 'Romance', 'Kindle eBooks', 'Mystery, Thriller & Suspense', 'Kindle eBooks', 'Romance', 'Kindle eBooks', 'Science Fiction & Fantasy', 'Kindle eBooks', 'Literature & Fiction', 'Kindle eBooks', 'Teen & Young Adult', 'Kindle eBooks', 'Romance', 'Kindle eBooks', \"Children's eBooks\", 'Kindle eBooks', 'Science Fiction & Fantasy', 'Kindle eBooks', 'Literature & Fiction', 'Kindle eBooks', 'Comics, Manga & Graphic Novels', 'Kindle eBooks', 'Science Fiction & Fantasy', 'Kindle eBooks', 'Reference', 'Kindle eBooks', 'Mystery, Thriller & Suspense', 'Kindle eBooks', 'Literature & Fiction', 'Kindle eBooks', 'Literature & Fiction', 'Kindle eBooks', 'Religion & Spirituality', 'Kindle eBooks', 'Health, Fitness & Dieting', 'Kindle eBooks', 'Literature & Fiction', 'Kindle eBooks', 'Romance', 'Kindle eBooks', 'Romance', 'Kindle eBooks', 'Literature & Fiction', 'Kindle eBooks', 'Teen & Young Adult', 'Kindle eBooks', 'Science Fiction & Fantasy', 'Kindle eBooks', 'Literature & Fiction', 'Kindle eBooks', 'Literature & Fiction', 'Kindle eBooks', 'Literature & Fiction', 'Kindle eBooks', 'Literature & Fiction', 'Kindle eBooks', 'Literature & Fiction', 'Kindle eBooks', 'Teen & Young Adult', 'Kindle eBooks', 'Literature & Fiction', 'Kindle eBooks', 'Teen & Young Adult', 'Kindle eBooks', 'Literature & Fiction', 'Kindle eBooks', 'Literature & Fiction', 'Kindle eBooks', 'Romance', 'Kindle eBooks', 'Humor & Entertainment', 'Kindle eBooks', 'Literature & Fiction', 'Kindle eBooks', 'Science Fiction & Fantasy', 'Kindle eBooks', 'Literature & Fiction', 'Kindle eBooks', 'Religion & Spirituality', 'Kindle eBooks', 'Humor & Entertainment', 'Kindle eBooks', 'Romance', 'Kindle eBooks', 'Science Fiction & Fantasy', 'Kindle eBooks', 'Science Fiction & Fantasy', 'Kindle eBooks', 'Literature & Fiction', 'Kindle eBooks', 'Literature & Fiction', 'Kindle eBooks', 'Literature & Fiction', 'Kindle eBooks', 'Mystery, Thriller & Suspense', 'Kindle eBooks', 'Mystery, Thriller & Suspense', 'Kindle eBooks', 'Mystery, Thriller & Suspense', 'Kindle eBooks', 'Literature & Fiction', 'Kindle eBooks', 'Literature & Fiction', 'Kindle eBooks', 'Literature & Fiction', 'Kindle eBooks', 'Teen & Young Adult', 'Kindle eBooks', 'Romance', 'Kindle eBooks', 'Romance', 'Kindle eBooks', 'Literature & Fiction', 'Kindle eBooks', 'Mystery, Thriller & Suspense', 'Kindle eBooks', 'Mystery, Thriller & Suspense', 'Kindle eBooks', 'Crafts, Hobbies & Home', 'Kindle eBooks', \"Children's eBooks\", 'Kindle eBooks', 'Literature & Fiction', 'Kindle eBooks', 'Romance', 'Kindle eBooks', 'Romance', 'Kindle eBooks', 'Science Fiction & Fantasy', 'Kindle eBooks', 'Teen & Young Adult', 'Kindle eBooks', 'Science Fiction & Fantasy', 'Kindle eBooks', 'Religion & Spirituality', 'Kindle eBooks', 'Business & Money', 'Kindle eBooks', 'Literature & Fiction', 'Kindle eBooks', 'Romance', 'Kindle eBooks', 'Romance', 'Kindle eBooks', 'Literature & Fiction', 'Kindle eBooks', 'Religion & Spirituality', 'Kindle eBooks', 'Mystery, Thriller & Suspense', 'Kindle eBooks', 'Literature & Fiction', 'Kindle eBooks', 'Mystery, Thriller & Suspense', 'Kindle eBooks', 'Health, Fitness & Dieting', 'Kindle eBooks', 'Literature & Fiction', 'Kindle eBooks', 'Literature & Fiction', 'Kindle eBooks', 'Romance', 'Kindle eBooks', 'Religion & Spirituality', 'Kindle eBooks', 'Literature & Fiction', 'Kindle eBooks', 'Romance', 'Kindle eBooks', 'Literature & Fiction', 'Kindle eBooks', 'Reference', 'Kindle eBooks', 'Literature & Fiction', 'Kindle eBooks', 'Literature & Fiction', 'Kindle eBooks', 'Literature & Fiction', 'Kindle eBooks', 'Literature & Fiction', 'Kindle eBooks', 'Humor & Entertainment', 'Kindle eBooks', 'Literature & Fiction', 'Kindle eBooks', 'Literature & Fiction', 'Kindle eBooks', 'Literature & Fiction', 'Kindle eBooks', 'Literature & Fiction', 'Kindle eBooks', 'Romance', 'Kindle eBooks', 'Literature & Fiction', 'Kindle eBooks', 'Romance', 'Kindle eBooks', 'Literature & Fiction', 'Kindle eBooks', 'Literature & Fiction', 'Kindle eBooks', 'Literature & Fiction', 'Kindle eBooks', 'Romance', 'Kindle eBooks', 'Mystery, Thriller & Suspense', 'Kindle eBooks', 'Religion & Spirituality', 'Kindle eBooks', 'Literature & Fiction', 'Kindle eBooks', 'Literature & Fiction', 'Kindle eBooks', 'Mystery, Thriller & Suspense', 'Kindle eBooks', 'Romance', 'Kindle eBooks', 'Science Fiction & Fantasy', 'Kindle eBooks', 'Teen & Young Adult', 'Kindle eBooks', 'Teen & Young Adult', 'Kindle eBooks', 'Science Fiction & Fantasy', 'Kindle eBooks', 'Science Fiction & Fantasy', 'Kindle eBooks', 'Religion & Spirituality', 'Kindle eBooks', 'Literature & Fiction', 'Kindle eBooks', 'Business & Money', 'Kindle eBooks', 'Mystery, Thriller & Suspense', 'Kindle eBooks', 'Mystery, Thriller & Suspense', 'Kindle eBooks', 'Teen & Young Adult', 'Kindle eBooks', 'Teen & Young Adult', 'Kindle eBooks', 'Literature & Fiction', 'Kindle eBooks', 'Religion & Spirituality', 'Kindle eBooks', 'Teen & Young Adult', 'Kindle eBooks', 'Science Fiction & Fantasy', 'Kindle eBooks', 'Science Fiction & Fantasy', 'Kindle eBooks', 'Literature & Fiction', 'Kindle eBooks', 'Romance', 'Kindle eBooks', 'Romance', 'Kindle eBooks', 'Health, Fitness & Dieting', 'Kindle eBooks', 'Science Fiction & Fantasy', 'Kindle eBooks', 'Romance', 'Kindle eBooks', 'Literature & Fiction', 'Kindle eBooks', 'Literature & Fiction', 'Kindle eBooks', 'Romance', 'Kindle eBooks', 'Literature & Fiction', 'Kindle eBooks', 'Literature & Fiction', 'Kindle eBooks', 'Literature & Fiction', 'Kindle eBooks', 'Teen & Young Adult', 'Kindle eBooks', 'Science Fiction & Fantasy', 'Kindle eBooks', 'Literature & Fiction', 'Kindle eBooks', 'Literature & Fiction', 'Kindle eBooks', \"Children's eBooks\", 'Kindle eBooks', 'Literature & Fiction', 'Kindle eBooks', 'Romance', 'Kindle eBooks', 'Science Fiction & Fantasy', 'Kindle eBooks', 'Literature & Fiction', 'Kindle eBooks', 'Literature & Fiction', 'Kindle eBooks', 'Literature & Fiction', 'Kindle eBooks', 'Literature & Fiction', 'Kindle eBooks', 'Computers & Technology', 'Kindle eBooks', 'Romance', 'Kindle eBooks', 'Literature & Fiction', 'Kindle eBooks', 'Romance', 'Kindle eBooks', 'Literature & Fiction', 'Kindle eBooks', 'Mystery, Thriller & Suspense', 'Kindle eBooks', 'Mystery, Thriller & Suspense', 'Kindle eBooks', 'Romance', 'Kindle eBooks', 'Romance', 'Kindle eBooks', 'Mystery, Thriller & Suspense', 'Kindle eBooks', 'Religion & Spirituality', 'Kindle eBooks', 'Romance', 'Kindle eBooks', 'Mystery, Thriller & Suspense', 'Kindle eBooks', 'Literature & Fiction', 'Kindle eBooks', \"Children's eBooks\", 'Kindle eBooks', 'Romance', 'Kindle eBooks', 'Literature & Fiction', 'Kindle eBooks', 'Literature & Fiction', 'Kindle eBooks', 'Religion & Spirituality', 'Kindle eBooks', 'Romance', 'Kindle eBooks', 'Literature & Fiction', 'Kindle eBooks', 'Teen & Young Adult', 'Kindle eBooks', 'Mystery, Thriller & Suspense', 'Kindle eBooks', 'Literature & Fiction', 'Kindle eBooks', 'Literature & Fiction', 'Kindle eBooks', 'Literature & Fiction', 'Kindle eBooks', 'Romance', 'Kindle eBooks', 'Teen & Young Adult', 'Kindle eBooks', 'Science Fiction & Fantasy', 'Kindle eBooks', \"Children's eBooks\", 'Kindle eBooks', 'Literature & Fiction', 'Kindle eBooks', 'Literature & Fiction', 'Kindle eBooks', 'Science Fiction & Fantasy', 'Kindle eBooks', 'Literature & Fiction', 'Kindle eBooks', 'Literature & Fiction', 'Kindle eBooks', 'Teen & Young Adult', 'Kindle eBooks', 'Romance', 'Kindle eBooks', 'Romance', 'Kindle eBooks', 'Literature & Fiction', 'Kindle eBooks', \"Children's eBooks\", 'Kindle eBooks', 'Literature & Fiction', 'Kindle eBooks', 'Romance', 'Kindle eBooks', 'Business & Money', 'Kindle eBooks', 'Literature & Fiction', 'Kindle eBooks', 'Business & Money', 'Kindle eBooks', 'Literature & Fiction', 'Kindle eBooks', 'Romance', 'Kindle eBooks', 'Religion & Spirituality', 'Kindle eBooks', 'Mystery, Thriller & Suspense', 'Kindle eBooks', 'Literature & Fiction', 'Kindle eBooks', 'Literature & Fiction', 'Kindle eBooks', 'Romance', 'Kindle eBooks', 'Literature & Fiction', 'Kindle eBooks', 'Literature & Fiction', 'Kindle eBooks', 'Romance', 'Kindle eBooks', 'Literature & Fiction', 'Kindle eBooks', 'Science Fiction & Fantasy', 'Kindle eBooks', 'Literature & Fiction', 'Kindle eBooks', 'Romance', 'Kindle eBooks', 'Literature & Fiction', 'Kindle eBooks', 'Literature & Fiction', 'Kindle eBooks', 'Romance', 'Kindle eBooks', 'Literature & Fiction', 'Kindle eBooks', 'Religion & Spirituality', 'Kindle eBooks', 'Romance', 'Kindle eBooks', 'Literature & Fiction', 'Kindle eBooks', 'Romance', 'Kindle eBooks', 'Literature & Fiction', 'Kindle eBooks', 'Literature & Fiction', 'Kindle eBooks', 'Romance', 'Kindle eBooks', 'Mystery, Thriller & Suspense', 'Kindle eBooks', 'Romance', 'Kindle eBooks', 'Romance', 'Kindle eBooks', 'Travel', 'Kindle eBooks', 'Religion & Spirituality', 'Kindle eBooks', 'Mystery, Thriller & Suspense', 'Kindle eBooks', 'Religion & Spirituality', 'Kindle eBooks', 'Literature & Fiction', 'Kindle eBooks', 'Literature & Fiction', 'Kindle eBooks', 'Literature & Fiction', 'Kindle eBooks', 'Teen & Young Adult', 'Kindle eBooks', 'Romance', 'Kindle eBooks', 'Self-Help', 'Kindle eBooks', 'Science Fiction & Fantasy', 'Kindle eBooks', 'Literature & Fiction', 'Kindle eBooks', 'Religion & Spirituality', 'Kindle eBooks', 'Literature & Fiction', 'Kindle eBooks', 'Romance', 'Kindle eBooks', 'Mystery, Thriller & Suspense', 'Kindle eBooks', 'Romance', 'Kindle eBooks', 'Mystery, Thriller & Suspense', 'Kindle eBooks', 'Literature & Fiction', 'Kindle eBooks', 'Literature & Fiction', 'Kindle eBooks', 'Teen & Young Adult', 'Kindle eBooks', 'Religion & Spirituality', 'Kindle eBooks', 'Literature & Fiction', 'Kindle eBooks', 'Mystery, Thriller & Suspense', 'Kindle eBooks', 'Mystery, Thriller & Suspense', 'Kindle eBooks', 'Mystery, Thriller & Suspense', 'Kindle eBooks', 'Romance', 'Kindle eBooks', 'Romance', 'Kindle eBooks', 'Science Fiction & Fantasy', 'Kindle eBooks', 'Mystery, Thriller & Suspense', 'Kindle eBooks', 'Teen & Young Adult', 'Kindle eBooks', 'Romance', 'Kindle eBooks', 'Literature & Fiction', 'Kindle eBooks', 'Travel', 'Kindle eBooks', 'Literature & Fiction', 'Kindle eBooks', 'Literature & Fiction', 'Kindle eBooks', 'Romance', 'Kindle eBooks', 'Romance', 'Kindle eBooks', 'Mystery, Thriller & Suspense', 'Kindle eBooks', 'Teen & Young Adult', 'Kindle eBooks', 'Literature & Fiction', 'Kindle eBooks', 'Romance', 'Kindle eBooks', 'Romance', 'Kindle eBooks', 'Literature & Fiction', 'Kindle eBooks', 'Romance', 'Kindle eBooks', 'Literature & Fiction', 'Kindle eBooks', 'Romance', 'Kindle eBooks', 'Literature & Fiction', 'Kindle eBooks', 'Teen & Young Adult', 'Kindle eBooks', 'Health, Fitness & Dieting', 'Kindle eBooks', 'Romance', 'Kindle eBooks', 'Teen & Young Adult', 'Kindle eBooks', 'Literature & Fiction', 'Kindle eBooks', 'Romance', 'Kindle eBooks', \"Children's eBooks\", 'Kindle eBooks', 'Romance', 'Kindle eBooks', 'Teen & Young Adult', 'Kindle eBooks', 'Literature & Fiction', 'Kindle eBooks', 'Science Fiction & Fantasy', 'Kindle eBooks', 'Literature & Fiction', 'Kindle eBooks', 'Literature & Fiction', 'Kindle eBooks', 'Literature & Fiction', 'Kindle eBooks', 'Literature & Fiction', 'Kindle eBooks', 'Literature & Fiction', 'Kindle eBooks', 'Literature & Fiction', 'Kindle eBooks', 'Teen & Young Adult', 'Kindle eBooks', 'Mystery, Thriller & Suspense', 'Kindle eBooks', 'Literature & Fiction', 'Kindle eBooks', 'Romance', 'Kindle eBooks', 'Business & Money', 'Kindle eBooks', 'Romance', 'Kindle eBooks', 'Parenting & Relationships', 'Kindle eBooks', 'Romance', 'Kindle eBooks', 'Literature & Fiction', 'Kindle eBooks', 'Religion & Spirituality', 'Kindle eBooks', 'Literature & Fiction', 'Kindle eBooks', 'Literature & Fiction', 'Kindle eBooks', 'Romance', 'Kindle eBooks', 'Romance', 'Kindle eBooks', 'Science Fiction & Fantasy', 'Kindle eBooks', 'Literature & Fiction', 'Kindle eBooks', 'Literature & Fiction', 'Kindle eBooks', 'Romance', 'Kindle eBooks', 'Romance', 'Kindle eBooks', 'Literature & Fiction', 'Kindle eBooks', 'Literature & Fiction', 'Kindle eBooks', 'Arts & Photography', 'Kindle eBooks', 'Literature & Fiction', 'Kindle eBooks', 'Biographies & Memoirs', 'Kindle eBooks', 'Literature & Fiction', 'Kindle eBooks', 'Literature & Fiction', 'Kindle eBooks', 'Romance', 'Kindle eBooks', 'Literature & Fiction', 'Kindle eBooks', 'Mystery, Thriller & Suspense', 'Kindle eBooks', 'Literature & Fiction', 'Kindle eBooks', \"Children's eBooks\", 'Kindle eBooks', 'Literature & Fiction', 'Kindle eBooks', 'Romance', 'Kindle eBooks', 'Mystery, Thriller & Suspense', 'Kindle eBooks', 'Literature & Fiction', 'Kindle eBooks', 'Literature & Fiction', 'Kindle eBooks', 'Literature & Fiction', 'Kindle eBooks', 'Mystery, Thriller & Suspense', 'Kindle eBooks', 'Literature & Fiction', 'Kindle eBooks', 'Literature & Fiction', 'Kindle eBooks', 'Romance', 'Kindle eBooks', 'Mystery, Thriller & Suspense', 'Kindle eBooks', 'Teen & Young Adult', 'Kindle eBooks', 'Literature & Fiction', 'Kindle eBooks', 'Literature & Fiction', 'Kindle eBooks', 'Literature & Fiction', 'Kindle eBooks', 'Literature & Fiction', 'Kindle eBooks', 'Literature & Fiction', 'Kindle eBooks', 'Teen & Young Adult', 'Kindle eBooks', 'Mystery, Thriller & Suspense', 'Kindle eBooks', 'Teen & Young Adult', 'Kindle eBooks', 'Literature & Fiction', 'Kindle eBooks', 'Science Fiction & Fantasy', 'Kindle eBooks', 'Romance', 'Kindle eBooks', 'Romance', 'Kindle eBooks', 'Mystery, Thriller & Suspense', 'Kindle eBooks', 'Teen & Young Adult', 'Kindle eBooks', 'Science Fiction & Fantasy', 'Kindle eBooks', 'Literature & Fiction', 'Kindle eBooks', 'Romance', 'Kindle eBooks', 'Romance', 'Kindle eBooks', 'Romance', 'Kindle eBooks', 'Literature & Fiction', 'Kindle eBooks', 'Literature & Fiction', 'Kindle eBooks', 'Literature & Fiction', 'Kindle eBooks', 'Literature & Fiction', 'Kindle eBooks', 'Religion & Spirituality', 'Kindle eBooks', 'Literature & Fiction', 'Kindle eBooks', 'Teen & Young Adult', 'Kindle eBooks', \"Children's eBooks\", 'Kindle eBooks', 'Literature & Fiction', 'Kindle eBooks', 'Teen & Young Adult', 'Kindle eBooks', 'Education & Teaching', 'Kindle eBooks', 'Reference', 'Kindle eBooks', 'Reference', 'Kindle eBooks', 'Science Fiction & Fantasy', 'Kindle eBooks', 'Science Fiction & Fantasy', 'Kindle eBooks', 'Religion & Spirituality', 'Kindle eBooks', 'Literature & Fiction', 'Kindle eBooks', 'Teen & Young Adult', 'Kindle eBooks', 'History', 'Kindle eBooks', 'Religion & Spirituality', 'Kindle eBooks', 'Literature & Fiction', 'Kindle eBooks', 'Literature & Fiction', 'Kindle eBooks', 'Literature & Fiction', 'Kindle eBooks', 'Romance', 'Kindle eBooks', 'Romance', 'Kindle eBooks', 'Mystery, Thriller & Suspense', 'Kindle eBooks', 'Literature & Fiction', 'Kindle eBooks', 'Literature & Fiction', 'Kindle eBooks', 'Mystery, Thriller & Suspense', 'Kindle eBooks', 'Literature & Fiction', 'Kindle eBooks', 'Religion & Spirituality', 'Kindle eBooks', 'Literature & Fiction', 'Kindle eBooks', 'Science Fiction & Fantasy', 'Kindle eBooks', 'Mystery, Thriller & Suspense', 'Kindle eBooks', 'Science Fiction & Fantasy', 'Kindle eBooks', 'Romance', 'Kindle eBooks', 'Literature & Fiction', 'Kindle eBooks', 'Literature & Fiction', 'Kindle eBooks', 'Science Fiction & Fantasy', 'Kindle eBooks', 'Romance', 'Kindle eBooks', 'Romance', 'Kindle eBooks', 'Kindle eBooks', 'Mystery, Thriller & Suspense', 'Kindle eBooks', 'Literature & Fiction', 'Kindle eBooks', 'Literature & Fiction', 'Kindle eBooks', 'Literature & Fiction', 'Kindle eBooks', 'Science Fiction & Fantasy', 'Kindle eBooks', 'Literature & Fiction', 'Kindle eBooks', 'Business & Money', 'Kindle eBooks', 'Mystery, Thriller & Suspense', 'Kindle eBooks', 'Biographies & Memoirs', 'Kindle eBooks', 'Literature & Fiction', 'Kindle eBooks', 'Business & Money', 'Kindle eBooks', 'Literature & Fiction', 'Kindle eBooks', 'Mystery, Thriller & Suspense', 'Kindle eBooks', 'Literature & Fiction', 'Kindle eBooks', 'Literature & Fiction', 'Kindle eBooks', 'Literature & Fiction', 'Kindle eBooks', 'Literature & Fiction', 'Kindle eBooks', 'Literature & Fiction', 'Kindle eBooks', 'Literature & Fiction', 'Kindle eBooks', 'Religion & Spirituality', 'Kindle eBooks', 'Business & Money', 'Kindle eBooks', 'Literature & Fiction', 'Kindle eBooks', 'Science Fiction & Fantasy', 'Kindle eBooks', \"Children's eBooks\", 'Kindle eBooks', 'Literature & Fiction', 'Kindle eBooks', 'Romance', 'Kindle eBooks', 'Teen & Young Adult', 'Kindle eBooks', \"Children's eBooks\", 'Kindle eBooks', 'Literature & Fiction', 'Kindle eBooks', 'Literature & Fiction', 'Kindle eBooks', 'Religion & Spirituality', 'Kindle eBooks', 'Romance', 'Kindle eBooks', 'Romance', 'Kindle eBooks', 'Science Fiction & Fantasy', 'Kindle eBooks', 'Mystery, Thriller & Suspense', 'Kindle eBooks', 'Science & Math', 'Kindle eBooks', 'Romance', 'Kindle eBooks', 'Literature & Fiction', 'Kindle eBooks', 'Teen & Young Adult', 'Kindle eBooks', \"Children's eBooks\", 'Kindle eBooks', 'Romance', 'Kindle eBooks', 'Literature & Fiction', 'Kindle eBooks', 'Literature & Fiction', 'Kindle eBooks', 'Literature & Fiction', 'Kindle eBooks', 'Science Fiction & Fantasy', 'Kindle eBooks', 'Mystery, Thriller & Suspense', 'Kindle eBooks', 'Teen & Young Adult', 'Kindle eBooks', 'Teen & Young Adult', 'Kindle eBooks', 'Parenting & Relationships', 'Kindle eBooks', 'Literature & Fiction', 'Kindle eBooks', 'Literature & Fiction', 'Kindle eBooks', 'Health, Fitness & Dieting', 'Kindle eBooks', 'Literature & Fiction', 'Kindle eBooks', 'Romance', 'Kindle eBooks', 'Literature & Fiction', 'Kindle eBooks', 'Science Fiction & Fantasy', 'Kindle eBooks', 'Humor & Entertainment', 'Kindle eBooks', 'Literature & Fiction', 'Kindle eBooks', 'Literature & Fiction', 'Kindle eBooks', 'Science Fiction & Fantasy', 'Kindle eBooks', 'Romance', 'Kindle eBooks', 'Literature & Fiction', 'Kindle eBooks', 'Literature & Fiction', 'Kindle eBooks', 'Literature & Fiction', 'Kindle eBooks', 'Science Fiction & Fantasy', 'Kindle eBooks', 'Literature & Fiction', 'Kindle eBooks', 'History', 'Kindle eBooks', 'Literature & Fiction', 'Kindle eBooks', 'Health, Fitness & Dieting', 'Kindle eBooks', 'Religion & Spirituality', 'Kindle eBooks', 'Self-Help', 'Kindle eBooks', 'Mystery, Thriller & Suspense', 'Kindle eBooks', 'Romance', 'Kindle eBooks', 'Mystery, Thriller & Suspense', 'Kindle eBooks', 'Mystery, Thriller & Suspense', 'Kindle eBooks', 'Literature & Fiction', 'Kindle eBooks', 'Literature & Fiction', 'Kindle eBooks', 'Romance', 'Kindle eBooks', 'Literature & Fiction', 'Kindle eBooks', 'Romance', 'Kindle eBooks', \"Children's eBooks\", 'Kindle eBooks', 'Computers & Technology', 'Kindle eBooks', 'Religion & Spirituality', 'Kindle eBooks', 'Literature & Fiction', 'Kindle eBooks', 'Literature & Fiction', 'Kindle eBooks', 'Religion & Spirituality', 'Kindle eBooks', 'Science Fiction & Fantasy', 'Kindle eBooks', 'Romance', 'Kindle eBooks', 'Business & Money', 'Kindle eBooks', 'Science Fiction & Fantasy', 'Kindle eBooks', 'Politics & Social Sciences', 'Kindle eBooks', 'Romance', 'Kindle eBooks', 'Teen & Young Adult', 'Kindle eBooks', 'Literature & Fiction', 'Kindle eBooks', 'Religion & Spirituality', 'Kindle eBooks', 'Literature & Fiction', 'Kindle eBooks', 'Health, Fitness & Dieting', 'Kindle eBooks', 'Romance', 'Kindle eBooks', 'Romance', 'Kindle eBooks', 'Sports & Outdoors', 'Kindle eBooks', 'Romance', 'Kindle eBooks', 'Biographies & Memoirs', 'Kindle eBooks', 'Engineering & Transportation', 'Kindle eBooks', 'Literature & Fiction', 'Kindle eBooks', 'Literature & Fiction', 'Kindle eBooks', 'Romance', 'Kindle eBooks', 'Science Fiction & Fantasy', 'Kindle eBooks', 'Mystery, Thriller & Suspense', 'Kindle eBooks', 'Literature & Fiction', 'Kindle eBooks', 'Literature & Fiction', 'Kindle eBooks', 'Romance', 'Kindle eBooks', 'Romance', 'Kindle eBooks', 'Romance', 'Kindle eBooks', 'Romance', 'Kindle eBooks', 'Romance', 'Kindle eBooks', 'Religion & Spirituality', 'Kindle eBooks', 'Romance', 'Kindle eBooks', 'Science Fiction & Fantasy', 'Kindle eBooks', 'Mystery, Thriller & Suspense', 'Kindle eBooks', 'Literature & Fiction', 'Kindle eBooks', 'Literature & Fiction', 'Kindle eBooks', 'Romance', 'Kindle eBooks', 'Literature & Fiction', 'Kindle eBooks', 'Science Fiction & Fantasy', 'Kindle eBooks', 'Religion & Spirituality', 'Kindle eBooks', 'Science Fiction & Fantasy', 'Kindle eBooks', 'Mystery, Thriller & Suspense', 'Kindle eBooks', 'Cookbooks, Food & Wine', 'Kindle eBooks', 'Romance', 'Kindle eBooks', 'Mystery, Thriller & Suspense', 'Kindle eBooks', 'Religion & Spirituality', 'Kindle eBooks', 'Literature & Fiction', 'Kindle eBooks', 'Literature & Fiction', 'Kindle eBooks', 'Romance', 'Kindle eBooks', 'Literature & Fiction', 'Kindle eBooks', 'Literature & Fiction', 'Kindle eBooks', 'Literature & Fiction', 'Kindle eBooks', 'Romance', 'Kindle eBooks', 'Science Fiction & Fantasy', 'Kindle eBooks', 'Mystery, Thriller & Suspense', 'Kindle eBooks', 'Computers & Technology', 'Kindle eBooks', 'Teen & Young Adult', 'Kindle eBooks', 'Business & Money', 'Kindle eBooks', 'Romance', 'Kindle eBooks', 'Science Fiction & Fantasy', 'Kindle eBooks', 'Literature & Fiction', 'Kindle eBooks', 'Literature & Fiction', 'Kindle eBooks', 'Literature & Fiction', 'Kindle eBooks', 'Teen & Young Adult', 'Kindle eBooks', 'Literature & Fiction', 'Kindle eBooks', 'Literature & Fiction', 'Kindle eBooks', 'Mystery, Thriller & Suspense', 'Kindle eBooks', \"Children's eBooks\", 'Kindle eBooks', 'Romance', 'Kindle eBooks', 'Literature & Fiction', 'Kindle eBooks', 'Romance', 'Kindle eBooks', 'Literature & Fiction', 'Kindle eBooks', 'Health, Fitness & Dieting', 'Kindle eBooks', 'Teen & Young Adult', 'Kindle eBooks', 'Teen & Young Adult', 'Kindle eBooks', 'Business & Money', 'Kindle eBooks', 'Teen & Young Adult', 'Kindle eBooks', 'Mystery, Thriller & Suspense', 'Kindle eBooks', 'Romance', 'Kindle eBooks', 'Literature & Fiction', 'Kindle eBooks', 'Romance', 'Kindle eBooks', 'Mystery, Thriller & Suspense', 'Kindle eBooks', 'Literature & Fiction', 'Kindle eBooks', 'Romance', 'Kindle eBooks', \"Children's eBooks\", 'Kindle eBooks', 'History', 'Kindle eBooks', 'Literature & Fiction', 'Kindle eBooks', 'Literature & Fiction', 'Kindle eBooks', 'Romance', 'Kindle eBooks', 'Romance', 'Kindle eBooks', 'Literature & Fiction', 'Kindle eBooks', 'Mystery, Thriller & Suspense', 'Kindle eBooks', 'Literature & Fiction', 'Kindle eBooks', 'Romance', 'Kindle eBooks', 'Science Fiction & Fantasy', 'Kindle eBooks', 'Science Fiction & Fantasy', 'Kindle eBooks', 'Literature & Fiction', 'Kindle eBooks', \"Children's eBooks\", 'Kindle eBooks', \"Children's eBooks\", 'Kindle eBooks', 'Romance', 'Kindle eBooks', 'Mystery, Thriller & Suspense', 'Kindle eBooks', 'Literature & Fiction', 'Kindle eBooks', 'Teen & Young Adult', 'Kindle eBooks', 'Mystery, Thriller & Suspense', 'Kindle eBooks', 'Cookbooks, Food & Wine', 'Kindle eBooks', 'Literature & Fiction', 'Kindle eBooks', 'Romance', 'Kindle eBooks', 'Literature & Fiction', 'Kindle eBooks', 'Literature & Fiction', 'Kindle eBooks', 'Science Fiction & Fantasy', 'Kindle eBooks', 'Business & Money', 'Kindle eBooks', 'Literature & Fiction', 'Kindle eBooks', 'Romance', 'Kindle eBooks', 'Religion & Spirituality', 'Kindle eBooks', 'Crafts, Hobbies & Home', 'Kindle eBooks', 'Literature & Fiction', 'Kindle eBooks', 'Literature & Fiction', 'Kindle eBooks', 'Literature & Fiction', 'Kindle eBooks', 'Literature & Fiction', 'Kindle eBooks', 'Literature & Fiction', 'Kindle eBooks', 'Literature & Fiction', 'Kindle eBooks', 'Teen & Young Adult', 'Kindle eBooks', 'Mystery, Thriller & Suspense', 'Kindle eBooks', \"Children's eBooks\", 'Kindle eBooks', 'Religion & Spirituality', 'Kindle eBooks', 'Literature & Fiction', 'Kindle eBooks', 'Literature & Fiction', 'Kindle eBooks', 'Literature & Fiction', 'Kindle eBooks', 'Mystery, Thriller & Suspense', 'Kindle eBooks', 'Teen & Young Adult', 'Kindle eBooks', 'Romance', 'Kindle eBooks', 'Literature & Fiction', 'Kindle eBooks', 'Politics & Social Sciences', 'Kindle eBooks', 'Literature & Fiction', 'Kindle eBooks', 'Science Fiction & Fantasy', 'Kindle eBooks', 'Literature & Fiction', 'Kindle eBooks', 'Romance', 'Kindle eBooks', 'Romance', 'Kindle eBooks', 'Romance', 'Kindle eBooks', 'Literature & Fiction', 'Kindle eBooks', 'Romance', 'Kindle eBooks', 'Mystery, Thriller & Suspense', 'Kindle eBooks', 'Mystery, Thriller & Suspense', 'Kindle eBooks', 'Health, Fitness & Dieting', 'Kindle eBooks', 'Literature & Fiction', 'Kindle eBooks', 'Religion & Spirituality', 'Kindle eBooks', 'Literature & Fiction', 'Kindle eBooks', 'Religion & Spirituality', 'Kindle eBooks', 'Romance', 'Kindle eBooks', 'Romance', 'Kindle eBooks', 'Literature & Fiction', 'Kindle eBooks', 'Romance', 'Kindle eBooks', 'Literature & Fiction', 'Kindle eBooks', 'Mystery, Thriller & Suspense', 'Kindle eBooks', \"Children's eBooks\", 'Kindle eBooks', 'Literature & Fiction', 'Kindle eBooks', 'Literature & Fiction', 'Kindle eBooks', 'Science Fiction & Fantasy', 'Kindle eBooks', 'Teen & Young Adult', 'Kindle eBooks', 'Business & Money', 'Kindle eBooks', \"Children's eBooks\", 'Kindle eBooks', \"Children's eBooks\", 'Kindle eBooks', 'Humor & Entertainment', 'Kindle eBooks', 'Science Fiction & Fantasy', 'Kindle eBooks', 'Literature & Fiction', 'Kindle eBooks', 'Religion & Spirituality', 'Kindle eBooks', 'Romance', 'Kindle eBooks', 'Teen & Young Adult', 'Kindle eBooks', 'Literature & Fiction', 'Kindle eBooks', 'Science Fiction & Fantasy', 'Kindle eBooks', 'Literature & Fiction', 'Kindle eBooks', 'Literature & Fiction', 'Kindle eBooks', 'Literature & Fiction', 'Kindle eBooks', 'Science Fiction & Fantasy', 'Kindle eBooks', 'Religion & Spirituality', 'Kindle eBooks', 'Literature & Fiction', 'Kindle eBooks', 'Literature & Fiction', 'Kindle eBooks', 'Romance', 'Kindle eBooks', 'Literature & Fiction', 'Kindle eBooks', 'Literature & Fiction', 'Kindle eBooks', 'Literature & Fiction', 'Kindle eBooks', 'Teen & Young Adult', 'Kindle eBooks', 'Romance', 'Kindle eBooks', 'Literature & Fiction', 'Kindle eBooks', 'Literature & Fiction', 'Kindle eBooks', 'Literature & Fiction', 'Kindle eBooks', 'Literature & Fiction', 'Kindle eBooks', 'Literature & Fiction', 'Kindle eBooks', 'Romance', 'Kindle eBooks', 'Religion & Spirituality', 'Kindle eBooks', 'Health, Fitness & Dieting', 'Kindle eBooks', 'Literature & Fiction', 'Kindle eBooks', 'Mystery, Thriller & Suspense', 'Kindle eBooks', 'Romance', 'Kindle eBooks', 'Religion & Spirituality', 'Kindle eBooks', 'Literature & Fiction', 'Kindle eBooks', 'Mystery, Thriller & Suspense', 'Kindle eBooks', 'Literature & Fiction', 'Kindle eBooks', 'Literature & Fiction', 'Kindle eBooks', 'Romance', 'Kindle eBooks', 'Mystery, Thriller & Suspense', 'Kindle eBooks', 'Literature & Fiction', 'Kindle eBooks', 'Literature & Fiction', 'Kindle eBooks', 'Literature & Fiction', 'Kindle eBooks', 'Romance', 'Kindle eBooks', 'Science Fiction & Fantasy', 'Kindle eBooks', 'Teen & Young Adult', 'Kindle eBooks', 'Literature & Fiction', 'Kindle eBooks', 'Teen & Young Adult', 'Kindle eBooks', 'Literature & Fiction', 'Kindle eBooks', 'Literature & Fiction', 'Kindle eBooks', 'Literature & Fiction', 'Kindle eBooks', 'Romance', 'Kindle eBooks', 'Arts & Photography', 'Kindle eBooks', 'Literature & Fiction', 'Kindle eBooks', \"Children's eBooks\", 'Kindle eBooks', 'Mystery, Thriller & Suspense', 'Kindle eBooks', 'Crafts, Hobbies & Home', 'Kindle eBooks', 'Science Fiction & Fantasy', 'Kindle eBooks', 'Science Fiction & Fantasy', 'Kindle eBooks', 'Religion & Spirituality', 'Kindle eBooks', 'Romance', 'Kindle eBooks', 'Literature & Fiction', 'Kindle eBooks', 'Science Fiction & Fantasy', 'Kindle eBooks', 'Literature & Fiction', 'Kindle eBooks', 'Romance', 'Kindle eBooks', 'Biographies & Memoirs', 'Kindle eBooks', 'Literature & Fiction', 'Kindle eBooks', 'Cookbooks, Food & Wine', 'Kindle eBooks', 'Literature & Fiction', 'Kindle eBooks', 'Romance', 'Kindle eBooks', 'Literature & Fiction', 'Kindle eBooks', 'Religion & Spirituality', 'Kindle eBooks', \"Children's eBooks\", 'Kindle eBooks', 'Teen & Young Adult', 'Kindle eBooks', 'Romance', 'Kindle eBooks', 'Literature & Fiction', 'Kindle eBooks', 'Cookbooks, Food & Wine', 'Kindle eBooks', \"Children's eBooks\", 'Kindle eBooks', 'Medical eBooks', 'Kindle eBooks', 'Romance', 'Kindle eBooks', 'Literature & Fiction', 'Kindle eBooks', 'Business & Money', 'Kindle eBooks', 'Romance', 'Kindle eBooks', 'Literature & Fiction', 'Kindle eBooks', 'Literature & Fiction', 'Kindle eBooks', 'Romance', 'Kindle eBooks', 'Mystery, Thriller & Suspense', 'Kindle eBooks', 'Romance', 'Kindle eBooks', 'Science Fiction & Fantasy', 'Kindle eBooks', \"Children's eBooks\", 'Kindle eBooks', 'Self-Help', 'Kindle eBooks', 'Mystery, Thriller & Suspense', 'Kindle eBooks', 'Literature & Fiction', 'Kindle eBooks', 'Literature & Fiction', 'Kindle eBooks', 'Religion & Spirituality', 'Kindle eBooks', 'Romance', 'Kindle eBooks', 'Romance', 'Kindle eBooks', 'Science Fiction & Fantasy', 'Kindle eBooks', 'Literature & Fiction', 'Kindle eBooks', 'Romance', 'Kindle eBooks', 'Science Fiction & Fantasy', 'Kindle eBooks', 'Science Fiction & Fantasy', 'Kindle eBooks', 'Literature & Fiction', 'Kindle eBooks', 'Romance', 'Kindle eBooks', 'Literature & Fiction', 'Kindle eBooks', 'Romance', 'Kindle eBooks', 'Romance', 'Kindle eBooks', 'Literature & Fiction', 'Kindle eBooks', 'Literature & Fiction', 'Kindle eBooks', 'Religion & Spirituality', 'Kindle eBooks', 'Teen & Young Adult', 'Kindle eBooks', 'Mystery, Thriller & Suspense', 'Kindle eBooks', 'Literature & Fiction', 'Kindle eBooks', 'Teen & Young Adult', 'Kindle eBooks', 'Literature & Fiction', 'Kindle eBooks', 'Literature & Fiction', 'Kindle eBooks', 'Literature & Fiction', 'Kindle eBooks', 'Literature & Fiction', 'Kindle eBooks', 'Teen & Young Adult', 'Kindle eBooks', 'Literature & Fiction', 'Kindle eBooks', 'History', 'Kindle eBooks', 'Religion & Spirituality', 'Kindle eBooks', 'Mystery, Thriller & Suspense', 'Kindle eBooks', 'Romance', 'Kindle eBooks', 'Romance', 'Kindle eBooks', 'Literature & Fiction', 'Kindle eBooks', 'Literature & Fiction', 'Kindle eBooks', 'Reference', 'Kindle eBooks', 'Literature & Fiction', 'Kindle eBooks', 'Literature & Fiction', 'Kindle eBooks', 'Literature & Fiction', 'Kindle eBooks', 'Literature & Fiction', 'Kindle eBooks', 'Mystery, Thriller & Suspense', 'Kindle eBooks', 'Literature & Fiction', 'Kindle eBooks', 'Literature & Fiction', 'Kindle eBooks', 'Science Fiction & Fantasy', 'Kindle eBooks', 'Literature & Fiction', 'Kindle eBooks', 'Literature & Fiction', 'Kindle eBooks', 'Literature & Fiction', 'Kindle eBooks', 'Literature & Fiction', 'Kindle eBooks', 'Literature & Fiction', 'Kindle eBooks', 'Mystery, Thriller & Suspense', 'Kindle eBooks', 'Literature & Fiction', 'Kindle eBooks', 'Literature & Fiction', 'Kindle eBooks', 'Romance', 'Kindle eBooks', 'Mystery, Thriller & Suspense', 'Kindle eBooks', 'Teen & Young Adult', 'Kindle eBooks', 'Literature & Fiction', 'Kindle eBooks', 'Literature & Fiction', 'Kindle eBooks', 'Religion & Spirituality', 'Kindle eBooks', 'Literature & Fiction', 'Kindle eBooks', 'Teen & Young Adult', 'Kindle eBooks', 'Romance', 'Kindle eBooks', 'Teen & Young Adult', 'Kindle eBooks', 'Health, Fitness & Dieting', 'Kindle eBooks', 'Cookbooks, Food & Wine', 'Kindle eBooks', 'Computers & Technology', 'Kindle eBooks', 'History', 'Kindle eBooks', 'Literature & Fiction', 'Kindle eBooks', 'Romance', 'Kindle eBooks', 'Romance', 'Kindle eBooks', 'Religion & Spirituality', 'Kindle eBooks', 'Mystery, Thriller & Suspense', 'Kindle eBooks', 'Literature & Fiction', 'Kindle eBooks', 'Romance', 'Kindle eBooks', 'Politics & Social Sciences', 'Kindle eBooks', 'Literature & Fiction', 'Kindle eBooks', 'Science Fiction & Fantasy', 'Kindle eBooks', 'Literature & Fiction', 'Kindle eBooks', 'Literature & Fiction', 'Kindle eBooks', 'Literature & Fiction', 'Kindle eBooks', 'Literature & Fiction', 'Kindle eBooks', 'Romance', 'Kindle eBooks', 'Literature & Fiction', 'Kindle eBooks', 'Self-Help', 'Kindle eBooks', 'Science Fiction & Fantasy', 'Kindle eBooks', 'Cookbooks, Food & Wine', 'Kindle eBooks', 'Literature & Fiction', 'Kindle eBooks', 'Mystery, Thriller & Suspense', 'Kindle eBooks', 'Romance', 'Kindle eBooks', 'Romance', 'Kindle eBooks', 'Science Fiction & Fantasy', 'Kindle eBooks', 'Literature & Fiction', 'Kindle eBooks', 'Literature & Fiction', 'Kindle eBooks', 'Literature & Fiction', 'Kindle eBooks', 'Romance', 'Kindle eBooks', 'Mystery, Thriller & Suspense', 'Kindle eBooks', 'Romance', 'Kindle eBooks', 'Mystery, Thriller & Suspense', 'Kindle eBooks', 'Romance', 'Kindle eBooks', 'Literature & Fiction', 'Kindle eBooks', 'Literature & Fiction', 'Kindle eBooks', 'Science Fiction & Fantasy', 'Kindle eBooks', 'Romance', 'Kindle eBooks', 'Romance', 'Kindle eBooks', 'Romance', 'Kindle eBooks', 'Romance', 'Kindle eBooks', 'Romance', 'Kindle eBooks', 'Literature & Fiction', 'Kindle eBooks', 'Romance', 'Kindle eBooks', 'Cookbooks, Food & Wine', 'Kindle eBooks', 'Literature & Fiction', 'Kindle eBooks', 'Literature & Fiction', 'Kindle eBooks', 'Romance', 'Kindle eBooks', 'Literature & Fiction', 'Kindle eBooks', 'Literature & Fiction', 'Kindle eBooks', 'Literature & Fiction', 'Kindle eBooks', 'Literature & Fiction', 'Kindle eBooks', 'Literature & Fiction', 'Kindle eBooks', 'Romance', 'Kindle eBooks', 'Mystery, Thriller & Suspense', 'Kindle eBooks', 'Mystery, Thriller & Suspense', 'Kindle eBooks', 'Romance', 'Kindle eBooks', 'Mystery, Thriller & Suspense', 'Kindle eBooks', 'Literature & Fiction', 'Kindle eBooks', 'Teen & Young Adult', 'Kindle eBooks', 'Literature & Fiction', 'Kindle eBooks', 'Romance', 'Kindle eBooks', 'Cookbooks, Food & Wine', 'Kindle eBooks', 'Politics & Social Sciences', 'Kindle eBooks', 'Literature & Fiction', 'Kindle eBooks', 'Literature & Fiction', 'Kindle eBooks', 'Religion & Spirituality', 'Kindle eBooks', 'Romance', 'Kindle eBooks', 'Cookbooks, Food & Wine', 'Kindle eBooks', 'Romance', 'Kindle eBooks', 'Religion & Spirituality', 'Kindle eBooks', 'Literature & Fiction', 'Kindle eBooks', 'Science Fiction & Fantasy', 'Kindle eBooks', 'Science Fiction & Fantasy', 'Kindle eBooks', 'Romance', 'Kindle eBooks', 'Mystery, Thriller & Suspense', 'Kindle eBooks', 'Romance', 'Kindle eBooks', 'Computers & Technology', 'Kindle eBooks', 'Literature & Fiction', 'Kindle eBooks', 'Religion & Spirituality', 'Kindle eBooks', 'Mystery, Thriller & Suspense', 'Kindle eBooks', 'Literature & Fiction', 'Kindle eBooks', 'Literature & Fiction', 'Kindle eBooks', 'Reference', 'Kindle eBooks', 'Cookbooks, Food & Wine', 'Kindle eBooks', 'History', 'Kindle eBooks', 'Literature & Fiction', 'Kindle eBooks', 'Literature & Fiction', 'Kindle eBooks', 'Literature & Fiction', 'Kindle eBooks', 'Business & Money', 'Kindle eBooks', 'Reference', 'Kindle eBooks', 'Literature & Fiction', 'Kindle eBooks', 'Romance', 'Kindle eBooks', 'Literature & Fiction', 'Kindle eBooks', 'Literature & Fiction', 'Kindle eBooks', 'Literature & Fiction', 'Kindle eBooks', 'Romance', 'Kindle eBooks', 'Sports & Outdoors', 'Kindle eBooks', 'Literature & Fiction', 'Kindle eBooks', 'Literature & Fiction', 'Kindle eBooks', 'Cookbooks, Food & Wine', 'Kindle eBooks', 'Literature & Fiction', 'Kindle eBooks', 'Teen & Young Adult', 'Kindle eBooks', 'Religion & Spirituality', 'Kindle eBooks', 'Teen & Young Adult', 'Kindle eBooks', 'Teen & Young Adult', 'Kindle eBooks', 'Cookbooks, Food & Wine', 'Kindle eBooks', 'Romance', 'Kindle eBooks', 'Literature & Fiction', 'Kindle eBooks', 'Literature & Fiction', 'Kindle eBooks', 'Romance', 'Kindle eBooks', 'Romance', 'Kindle eBooks', 'Science Fiction & Fantasy', 'Kindle eBooks', 'Literature & Fiction', 'Kindle eBooks', 'Literature & Fiction', 'Kindle eBooks', 'Romance', 'Kindle eBooks', 'Romance', 'Kindle eBooks', 'Romance', 'Kindle eBooks', 'Teen & Young Adult', 'Kindle eBooks', 'Science & Math', 'Kindle eBooks', 'Romance', 'Kindle eBooks', 'Science Fiction & Fantasy', 'Kindle eBooks', 'Literature & Fiction', 'Kindle eBooks', 'Literature & Fiction', 'Kindle eBooks', 'Literature & Fiction', 'Kindle eBooks', 'Literature & Fiction', 'Kindle eBooks', 'Literature & Fiction', 'Kindle eBooks', 'Romance', 'Kindle eBooks', \"Children's eBooks\", 'Kindle eBooks', 'Literature & Fiction', 'Kindle eBooks', \"Children's eBooks\", 'Kindle eBooks', 'Literature & Fiction', 'Kindle eBooks', 'Literature & Fiction', 'Kindle eBooks', 'Science Fiction & Fantasy', 'Kindle eBooks', 'Literature & Fiction', 'Kindle eBooks', 'Literature & Fiction', 'Kindle eBooks', 'Literature & Fiction', 'Kindle eBooks', 'Literature & Fiction', 'Kindle eBooks', 'Literature & Fiction', 'Kindle eBooks', 'Science Fiction & Fantasy', 'Kindle eBooks', 'Science Fiction & Fantasy', 'Kindle eBooks', 'Literature & Fiction', 'Kindle eBooks', 'Science Fiction & Fantasy', 'Kindle eBooks', 'Literature & Fiction', 'Kindle eBooks', 'Literature & Fiction', 'Kindle eBooks', 'Literature & Fiction', 'Kindle eBooks', 'Literature & Fiction', 'Kindle eBooks', 'Mystery, Thriller & Suspense', 'Kindle eBooks', 'Sports & Outdoors', 'Kindle eBooks', 'Literature & Fiction', 'Kindle eBooks', 'Romance', 'Kindle eBooks', 'Literature & Fiction', 'Kindle eBooks', 'Romance', 'Kindle eBooks', \"Children's eBooks\", 'Kindle eBooks', 'Computers & Technology', 'Kindle eBooks', 'Computers & Technology', 'Kindle eBooks', 'Romance', 'Kindle eBooks', 'Romance', 'Kindle eBooks', 'Nonfiction', 'Kindle eBooks', 'Literature & Fiction', 'Kindle eBooks', 'Literature & Fiction', 'Kindle eBooks', 'Literature & Fiction', 'Kindle eBooks', 'Literature & Fiction', 'Kindle eBooks', 'Literature & Fiction', 'Kindle eBooks', 'Literature & Fiction', 'Kindle eBooks', 'Romance', 'Kindle eBooks', 'Travel', 'Kindle eBooks', 'Literature & Fiction', 'Kindle eBooks', 'Humor & Entertainment', 'Kindle eBooks', 'Literature & Fiction', 'Kindle eBooks', 'Literature & Fiction', 'Kindle eBooks', 'Mystery, Thriller & Suspense', 'Kindle eBooks', 'Romance', 'Kindle eBooks', 'Literature & Fiction', 'Kindle eBooks', 'Romance', 'Kindle eBooks', 'Literature & Fiction', 'Kindle eBooks', 'Religion & Spirituality', 'Kindle eBooks', 'Romance', 'Kindle eBooks', 'Mystery, Thriller & Suspense', 'Kindle eBooks', 'Computers & Technology', 'Kindle eBooks', 'Romance', 'Kindle eBooks', 'Humor & Entertainment', 'Kindle eBooks', 'Religion & Spirituality', 'Kindle eBooks', 'Health, Fitness & Dieting', 'Kindle eBooks', 'Teen & Young Adult', 'Kindle eBooks', 'Science Fiction & Fantasy', 'Kindle eBooks', 'Romance', 'Kindle eBooks', 'Literature & Fiction', 'Kindle eBooks', 'Romance', 'Kindle eBooks', 'Mystery, Thriller & Suspense', 'Kindle eBooks', 'Literature & Fiction', 'Kindle eBooks', 'Literature & Fiction', 'Kindle eBooks', 'Literature & Fiction', 'Kindle eBooks', 'Science Fiction & Fantasy', 'Kindle eBooks', 'Science Fiction & Fantasy', 'Kindle eBooks', 'Literature & Fiction', 'Kindle eBooks', 'Mystery, Thriller & Suspense', 'Kindle eBooks', 'Science Fiction & Fantasy', 'Kindle eBooks', \"Children's eBooks\", 'Kindle eBooks', 'Mystery, Thriller & Suspense', 'Kindle eBooks', 'Literature & Fiction', 'Kindle eBooks', 'Business & Money', 'Kindle eBooks', 'Literature & Fiction', 'Kindle eBooks', 'Literature & Fiction', 'Kindle eBooks', 'Religion & Spirituality', 'Kindle eBooks', 'Business & Money', 'Kindle eBooks', 'Romance', 'Kindle eBooks', 'Literature & Fiction', 'Kindle eBooks', 'Reference', 'Kindle eBooks', 'Literature & Fiction', 'Kindle eBooks', 'Romance', 'Kindle eBooks', 'Romance', 'Kindle eBooks', 'Science Fiction & Fantasy', 'Kindle eBooks', 'Teen & Young Adult', 'Kindle eBooks', 'Literature & Fiction', 'Kindle eBooks', 'Literature & Fiction', 'Kindle eBooks', 'Romance', 'Kindle eBooks', 'Religion & Spirituality', 'Kindle eBooks', 'Romance', 'Kindle eBooks', 'Literature & Fiction', 'Kindle eBooks', 'Literature & Fiction', 'Kindle eBooks', \"Children's eBooks\", 'Kindle eBooks', 'Literature & Fiction', 'Kindle eBooks', 'Science Fiction & Fantasy', 'Kindle eBooks', \"Children's eBooks\", 'Kindle eBooks', 'Literature & Fiction', 'Kindle eBooks', 'Literature & Fiction', 'Kindle eBooks', 'Romance', 'Kindle eBooks', 'Science Fiction & Fantasy', 'Kindle eBooks', 'Mystery, Thriller & Suspense', 'Kindle eBooks', 'Teen & Young Adult', 'Kindle eBooks', 'Literature & Fiction', 'Kindle eBooks', 'Romance', 'Kindle eBooks', 'Literature & Fiction', 'Kindle eBooks', 'Romance', 'Kindle eBooks', 'Literature & Fiction', 'Kindle eBooks', 'Literature & Fiction', 'Kindle eBooks', 'Literature & Fiction', 'Kindle eBooks', 'Science Fiction & Fantasy', 'Kindle eBooks', 'Science Fiction & Fantasy', 'Kindle eBooks', 'Literature & Fiction', 'Kindle eBooks', 'Literature & Fiction', 'Kindle eBooks', \"Children's eBooks\", 'Kindle eBooks', 'Mystery, Thriller & Suspense', 'Kindle eBooks', 'Humor & Entertainment', 'Kindle eBooks', 'Romance', 'Kindle eBooks', 'Business & Money', 'Kindle eBooks', 'Teen & Young Adult', 'Kindle eBooks', 'Literature & Fiction', 'Kindle eBooks', \"Children's eBooks\", 'Kindle eBooks', 'Romance', 'Kindle eBooks', 'Health, Fitness & Dieting', 'Kindle eBooks', 'Romance', 'Kindle eBooks', 'Mystery, Thriller & Suspense', 'Kindle eBooks', 'Romance', 'Kindle eBooks', 'Literature & Fiction', 'Kindle eBooks', 'Romance', 'Kindle eBooks', 'Romance', 'Kindle eBooks', 'Literature & Fiction', 'Kindle eBooks', 'Literature & Fiction', 'Kindle eBooks', 'Religion & Spirituality', 'Kindle eBooks', 'Literature & Fiction', 'Kindle eBooks', 'Romance', 'Kindle eBooks', 'Teen & Young Adult', 'Kindle eBooks', 'Mystery, Thriller & Suspense', 'Kindle eBooks', 'Literature & Fiction', 'Kindle eBooks', 'Literature & Fiction', 'Kindle eBooks', 'Health, Fitness & Dieting', 'Kindle eBooks', 'Literature & Fiction', 'Kindle eBooks', 'Literature & Fiction', 'Kindle eBooks', 'Romance', 'Kindle eBooks', 'Literature & Fiction', 'Kindle eBooks', 'Literature & Fiction', 'Kindle eBooks', 'Literature & Fiction', 'Kindle eBooks', 'Health, Fitness & Dieting', 'Kindle eBooks', 'Mystery, Thriller & Suspense', 'Kindle eBooks', 'Literature & Fiction', 'Kindle eBooks', 'Mystery, Thriller & Suspense', 'Kindle eBooks', 'Romance', 'Kindle eBooks', 'Computers & Technology', 'Kindle eBooks', 'Literature & Fiction', 'Kindle eBooks', 'Literature & Fiction', 'Kindle eBooks', 'Teen & Young Adult', 'Kindle eBooks', 'Biographies & Memoirs', 'Kindle eBooks', 'Romance', 'Kindle eBooks', 'Literature & Fiction', 'Kindle eBooks', 'Teen & Young Adult', 'Kindle eBooks', 'Romance', 'Kindle eBooks', 'Literature & Fiction', 'Kindle eBooks', 'Literature & Fiction', 'Kindle eBooks', 'Health, Fitness & Dieting', 'Kindle eBooks', 'Literature & Fiction', 'Kindle eBooks', 'Romance', 'Kindle eBooks', 'Romance', 'Kindle eBooks', 'Literature & Fiction', 'Kindle eBooks', 'Religion & Spirituality', 'Kindle eBooks', 'Crafts, Hobbies & Home', 'Kindle eBooks', 'Literature & Fiction', 'Kindle eBooks', 'Mystery, Thriller & Suspense', 'Kindle eBooks', 'Literature & Fiction', 'Kindle eBooks', 'Science Fiction & Fantasy', 'Kindle eBooks', 'Romance', 'Kindle eBooks', 'Romance', 'Kindle eBooks', 'Romance', 'Kindle eBooks', 'Romance', 'Kindle eBooks', 'Romance', 'Kindle eBooks', 'Science Fiction & Fantasy', 'Kindle eBooks', 'Literature & Fiction', 'Kindle eBooks', 'Romance', 'Kindle eBooks', 'Science Fiction & Fantasy', 'Kindle eBooks', 'Business & Money', 'Kindle eBooks', 'Literature & Fiction', 'Kindle eBooks', 'Health, Fitness & Dieting', 'Kindle eBooks', 'Science Fiction & Fantasy', 'Kindle eBooks', 'Literature & Fiction', 'Kindle eBooks', 'Romance', 'Kindle eBooks', 'Teen & Young Adult', 'Kindle eBooks', 'Crafts, Hobbies & Home', 'Kindle eBooks', 'Literature & Fiction', 'Kindle eBooks', 'Literature & Fiction', 'Kindle eBooks', 'Religion & Spirituality', 'Kindle eBooks', 'Literature & Fiction', 'Kindle eBooks', 'Mystery, Thriller & Suspense', 'Kindle eBooks', 'Literature & Fiction', 'Kindle eBooks', 'Cookbooks, Food & Wine', 'Kindle eBooks', 'Romance', 'Kindle eBooks', \"Children's eBooks\", 'Kindle eBooks', 'Literature & Fiction', 'Kindle eBooks', 'Humor & Entertainment', 'Kindle eBooks', 'Romance', 'Kindle eBooks', 'Mystery, Thriller & Suspense', 'Kindle eBooks', 'Literature & Fiction', 'Kindle eBooks', 'Literature & Fiction', 'Kindle eBooks', 'Literature & Fiction', 'Kindle eBooks', 'Literature & Fiction', 'Kindle eBooks', 'Science Fiction & Fantasy', 'Kindle eBooks', 'Literature & Fiction', 'Kindle eBooks', 'Crafts, Hobbies & Home', 'Kindle eBooks', 'Science Fiction & Fantasy', 'Kindle eBooks', 'Science Fiction & Fantasy', 'Kindle eBooks', 'Romance', 'Kindle eBooks', 'Literature &amp; Fiction', 'Kindle eBooks', 'Literature & Fiction', 'Kindle eBooks', 'Literature & Fiction', 'Kindle eBooks', 'Literature & Fiction', 'Kindle eBooks', 'Literature & Fiction', 'Kindle eBooks', \"Children's eBooks\", 'Kindle eBooks', 'Literature & Fiction', 'Kindle eBooks', 'Literature & Fiction', 'Kindle eBooks', 'Literature & Fiction', 'Kindle eBooks', 'Literature & Fiction', 'Kindle eBooks', 'Romance', 'Kindle eBooks', 'Literature & Fiction', 'Kindle eBooks', 'Literature & Fiction', 'Kindle eBooks', 'Mystery, Thriller & Suspense', 'Kindle eBooks', 'Self-Help', 'Kindle eBooks', 'Literature & Fiction', 'Kindle eBooks', 'Literature & Fiction', 'Kindle eBooks', 'Literature & Fiction', 'Kindle eBooks', 'Mystery, Thriller & Suspense', 'Kindle eBooks', 'Romance', 'Kindle eBooks', 'Religion & Spirituality', 'Kindle eBooks', 'Literature & Fiction', 'Kindle eBooks', 'Literature & Fiction', 'Kindle eBooks', 'Health, Fitness & Dieting', 'Kindle eBooks', \"Children's eBooks\", 'Kindle eBooks', 'Science Fiction & Fantasy', 'Kindle eBooks', 'Romance', 'Kindle eBooks', 'Romance', 'Kindle eBooks', 'Romance', 'Kindle eBooks', 'Literature & Fiction', 'Kindle eBooks', 'Mystery, Thriller & Suspense', 'Kindle eBooks', 'Literature & Fiction', 'Kindle eBooks', 'Reference', 'Kindle eBooks', 'Literature & Fiction', 'Kindle eBooks', 'Teen & Young Adult', 'Kindle eBooks', 'Romance', 'Kindle eBooks', 'Romance', 'Kindle eBooks', 'Literature & Fiction', 'Kindle eBooks', 'Teen & Young Adult', 'Kindle eBooks', 'Literature & Fiction', 'Kindle eBooks', 'Reference', 'Kindle eBooks', 'Literature & Fiction', 'Kindle eBooks', 'Romance', 'Kindle eBooks', 'Romance', 'Kindle eBooks', 'Literature & Fiction', 'Kindle eBooks', 'Cookbooks, Food & Wine', 'Kindle eBooks', 'Romance', 'Kindle eBooks', 'Literature & Fiction', 'Kindle eBooks', 'Literature & Fiction', 'Kindle eBooks', 'Literature & Fiction', 'Kindle eBooks', 'Literature & Fiction', 'Kindle eBooks', 'Religion & Spirituality', 'Kindle eBooks', \"Children's eBooks\", 'Kindle eBooks', 'Religion & Spirituality', 'Kindle eBooks', 'Literature & Fiction', 'Kindle eBooks', 'Teen & Young Adult', 'Kindle eBooks', 'Literature & Fiction', 'Kindle eBooks', 'Literature & Fiction', 'Kindle eBooks', 'Mystery, Thriller & Suspense', 'Kindle eBooks', 'Religion & Spirituality', 'Kindle eBooks', 'Literature & Fiction', 'Kindle eBooks', 'Literature & Fiction', 'Kindle eBooks', 'Literature & Fiction', 'Kindle eBooks', 'Literature & Fiction', 'Kindle eBooks', 'Literature & Fiction', 'Kindle eBooks', 'Literature & Fiction', 'Kindle eBooks', 'Literature & Fiction', 'Kindle eBooks', 'Literature & Fiction', 'Kindle eBooks', 'Health, Fitness & Dieting', 'Kindle eBooks', 'Teen & Young Adult', 'Kindle eBooks', 'Teen & Young Adult', 'Kindle eBooks', 'Teen & Young Adult', 'Kindle eBooks', 'Literature & Fiction', 'Kindle eBooks', 'Literature & Fiction', 'Kindle eBooks', 'Romance', 'Kindle eBooks', 'Romance', 'Kindle eBooks', 'Literature & Fiction', 'Kindle eBooks', 'Romance', 'Kindle eBooks', 'Literature & Fiction', 'Kindle eBooks', 'Romance', 'Kindle eBooks', 'Romance', 'Kindle eBooks', 'Literature & Fiction', 'Kindle eBooks', 'Literature & Fiction', 'Kindle eBooks', 'Literature & Fiction', 'Kindle eBooks', 'Science Fiction & Fantasy', 'Kindle eBooks', 'Literature & Fiction', 'Kindle eBooks', 'Literature & Fiction', 'Kindle eBooks', 'Teen & Young Adult', 'Kindle eBooks', 'Literature & Fiction', 'Kindle eBooks', 'Romance', 'Kindle eBooks', 'Science Fiction & Fantasy', 'Kindle eBooks', 'Science Fiction & Fantasy', 'Kindle eBooks', 'Literature & Fiction', 'Kindle eBooks', 'Biographies & Memoirs', 'Kindle eBooks', 'Literature & Fiction', 'Kindle eBooks', 'Literature & Fiction', 'Kindle eBooks', 'Romance', 'Kindle eBooks', 'Science & Math', 'Kindle eBooks', 'Literature & Fiction', 'Kindle eBooks', 'Business & Money', 'Kindle eBooks', 'Literature & Fiction', 'Kindle eBooks', 'Teen & Young Adult', 'Kindle eBooks', 'Romance', 'Kindle eBooks', 'Romance', 'Kindle eBooks', 'Romance', 'Kindle eBooks', 'Literature & Fiction', 'Kindle eBooks', 'Literature & Fiction', 'Kindle eBooks', 'Science Fiction & Fantasy', 'Kindle eBooks', 'Science Fiction & Fantasy', 'Kindle eBooks', 'Literature & Fiction', 'Kindle eBooks', 'Literature & Fiction', 'Kindle eBooks', 'Romance', 'Kindle eBooks', 'Literature & Fiction', 'Kindle eBooks', 'Mystery, Thriller & Suspense', 'Kindle eBooks', 'Literature & Fiction', 'Kindle eBooks', 'Romance', 'Kindle eBooks', 'Romance', 'Kindle eBooks', 'Literature & Fiction', 'Kindle eBooks', 'Literature & Fiction', 'Kindle eBooks', 'Literature & Fiction', 'Kindle eBooks', 'Science Fiction & Fantasy', 'Kindle eBooks', 'Romance', 'Kindle eBooks', 'Religion & Spirituality', 'Kindle eBooks', 'Literature & Fiction', 'Kindle eBooks', 'Literature & Fiction', 'Kindle eBooks', 'Parenting & Relationships', 'Kindle eBooks', 'Literature & Fiction', 'Kindle eBooks', 'Literature & Fiction', 'Kindle eBooks', 'Literature & Fiction', 'Kindle eBooks', 'Mystery, Thriller & Suspense', 'Kindle eBooks', 'Literature & Fiction', 'Kindle eBooks', 'Literature & Fiction', 'Kindle eBooks', 'Romance', 'Kindle eBooks', 'Romance', 'Kindle eBooks', 'Science Fiction & Fantasy', 'Kindle eBooks', 'Religion & Spirituality', 'Kindle eBooks', 'Mystery, Thriller & Suspense', 'Kindle eBooks', \"Children's eBooks\", 'Kindle eBooks', 'Romance', 'Kindle eBooks', 'Literature & Fiction', 'Kindle eBooks', 'Literature & Fiction', 'Kindle eBooks', 'Romance', 'Kindle eBooks', 'Romance', 'Kindle eBooks', 'Religion & Spirituality', 'Kindle eBooks', 'Literature & Fiction', 'Kindle eBooks', 'Cookbooks, Food & Wine', 'Kindle eBooks', 'Literature & Fiction', 'Kindle eBooks', 'Romance', 'Kindle eBooks', 'Mystery, Thriller & Suspense', 'Kindle eBooks', 'Romance', 'Kindle eBooks', 'Science Fiction & Fantasy', 'Kindle eBooks', 'Business & Money', 'Kindle eBooks', 'Biographies & Memoirs', 'Kindle eBooks', 'Science Fiction & Fantasy', 'Kindle eBooks', 'Literature & Fiction', 'Kindle eBooks', 'Romance', 'Kindle eBooks', 'Mystery, Thriller & Suspense', 'Kindle eBooks', 'Romance', 'Kindle eBooks', 'Romance', 'Kindle eBooks', 'Literature & Fiction', 'Kindle eBooks', 'Literature & Fiction', 'Kindle eBooks', 'Romance', 'Kindle eBooks', 'Literature & Fiction', 'Kindle eBooks', 'Biographies & Memoirs', 'Kindle eBooks', 'Romance', 'Kindle eBooks', 'Literature & Fiction', 'Kindle eBooks', 'Science Fiction & Fantasy', 'Kindle eBooks', 'Politics & Social Sciences', 'Kindle eBooks', 'Literature & Fiction', 'Kindle eBooks', 'Teen & Young Adult', 'Kindle eBooks', 'Literature & Fiction', 'Kindle eBooks', 'Literature & Fiction', 'Kindle eBooks', 'Mystery, Thriller & Suspense', 'Kindle eBooks', 'Health, Fitness & Dieting', 'Kindle eBooks', 'Literature & Fiction', 'Kindle eBooks', 'Literature & Fiction', 'Kindle eBooks', 'Literature & Fiction', 'Kindle eBooks', 'Literature & Fiction', 'Kindle eBooks', 'Romance', 'Kindle eBooks', 'Literature & Fiction', 'Kindle eBooks', 'Literature & Fiction', 'Kindle eBooks', 'Literature & Fiction', 'Kindle eBooks', 'Business & Money', 'Kindle eBooks', 'Mystery, Thriller & Suspense', 'Kindle eBooks', 'Literature & Fiction', 'Kindle eBooks', 'Literature & Fiction', 'Kindle eBooks', 'Literature & Fiction', 'Kindle eBooks', 'Health, Fitness & Dieting', 'Kindle eBooks', 'Literature & Fiction', 'Kindle eBooks', 'Cookbooks, Food & Wine', 'Kindle eBooks', 'Romance', 'Kindle eBooks', 'Romance', 'Kindle eBooks', 'Mystery, Thriller & Suspense', 'Kindle eBooks', 'Science Fiction & Fantasy', 'Kindle eBooks', 'Religion & Spirituality', 'Kindle eBooks', 'Romance', 'Kindle eBooks', 'Literature & Fiction', 'Kindle eBooks', 'Literature & Fiction', 'Kindle eBooks', 'Romance', 'Kindle eBooks', 'Science Fiction & Fantasy', 'Kindle eBooks', 'Literature & Fiction', 'Kindle eBooks', 'Religion & Spirituality', 'Kindle eBooks', 'Literature & Fiction', 'Kindle eBooks', 'Literature & Fiction', 'Kindle eBooks', 'Business & Money', 'Kindle eBooks', 'Literature & Fiction', 'Kindle eBooks', 'Romance', 'Kindle eBooks', 'Literature & Fiction', 'Kindle eBooks', 'Literature & Fiction', 'Kindle eBooks', 'Self-Help', 'Kindle eBooks', 'Science Fiction & Fantasy', 'Kindle eBooks', 'Romance', 'Kindle eBooks', 'Literature & Fiction', 'Kindle eBooks', 'Mystery, Thriller & Suspense', 'Kindle eBooks', 'Literature & Fiction', 'Kindle eBooks', 'Romance', 'Kindle eBooks', 'Literature & Fiction', 'Kindle eBooks', 'Romance', 'Kindle eBooks', 'Romance', 'Kindle eBooks', 'Literature & Fiction', 'Kindle eBooks', 'Literature & Fiction', 'Kindle eBooks', 'Literature & Fiction', 'Kindle eBooks', 'Teen & Young Adult', 'Kindle eBooks', 'Literature & Fiction', 'Kindle eBooks', 'Teen & Young Adult', 'Kindle eBooks', 'Literature & Fiction', 'Kindle eBooks', 'Literature & Fiction', 'Kindle eBooks', 'Literature & Fiction', 'Kindle eBooks', 'Romance', 'Kindle eBooks', 'Literature & Fiction', 'Kindle eBooks', 'Literature & Fiction', 'Kindle eBooks', 'Literature & Fiction', 'Kindle eBooks', 'Literature & Fiction', 'Kindle eBooks', 'Literature & Fiction', 'Kindle eBooks', 'Literature & Fiction', 'Kindle eBooks', 'Religion & Spirituality', 'Kindle eBooks', 'Literature & Fiction', 'Kindle eBooks', 'Literature & Fiction', 'Kindle eBooks', 'Romance', 'Kindle eBooks', 'Literature & Fiction', 'Kindle eBooks', 'Romance', 'Kindle eBooks', 'Literature & Fiction', 'Kindle eBooks', 'Literature & Fiction', 'Kindle eBooks', 'Romance', 'Kindle eBooks', 'Romance', 'Kindle eBooks', 'Crafts, Hobbies & Home', 'Kindle eBooks', 'Romance', 'Kindle eBooks', 'Romance', 'Kindle eBooks', 'Romance', 'Kindle eBooks', 'Literature & Fiction', 'Kindle eBooks', 'Literature & Fiction', 'Kindle eBooks', 'Literature & Fiction', 'Kindle eBooks', 'Literature & Fiction', 'Kindle eBooks', 'Literature & Fiction', 'Kindle eBooks', 'Literature & Fiction', 'Kindle eBooks', 'Mystery, Thriller & Suspense', 'Kindle eBooks', 'Literature & Fiction', 'Kindle eBooks', 'Romance', 'Kindle eBooks', 'Romance', 'Kindle eBooks', 'Literature & Fiction', 'Kindle eBooks', 'Sports & Outdoors', 'Kindle eBooks', 'Literature & Fiction', 'Kindle eBooks', 'Mystery, Thriller & Suspense', 'Kindle eBooks', 'Mystery, Thriller & Suspense', 'Kindle eBooks', 'Literature & Fiction', 'Kindle eBooks', 'Romance', 'Kindle eBooks', 'Literature & Fiction', 'Kindle eBooks', 'Literature & Fiction', 'Kindle eBooks', 'Health, Fitness & Dieting', 'Kindle eBooks', 'Science Fiction & Fantasy', 'Kindle eBooks', 'Literature & Fiction', 'Kindle eBooks', 'Literature & Fiction', 'Kindle eBooks', 'Literature & Fiction', 'Kindle eBooks', 'Literature & Fiction', 'Kindle eBooks', 'Cookbooks, Food & Wine', 'Kindle eBooks', 'Romance', 'Kindle eBooks', 'Literature & Fiction', 'Kindle eBooks', 'Romance', 'Kindle eBooks', 'Biographies & Memoirs', 'Kindle eBooks', 'Religion & Spirituality', 'Kindle eBooks', 'Romance', 'Kindle eBooks', 'Literature & Fiction', 'Kindle eBooks', 'Travel', 'Kindle eBooks', 'Religion & Spirituality', 'Kindle eBooks', 'Literature & Fiction', 'Kindle eBooks', 'Romance', 'Kindle eBooks', 'Romance', 'Kindle eBooks', 'Mystery, Thriller & Suspense', 'Kindle eBooks', 'Literature & Fiction', 'Kindle eBooks', 'Literature & Fiction', 'Kindle eBooks', 'Literature & Fiction', 'Kindle eBooks', 'Religion & Spirituality', 'Kindle eBooks', 'Literature & Fiction', 'Kindle eBooks', 'Religion & Spirituality', 'Kindle eBooks', 'Literature & Fiction', 'Kindle eBooks', 'Mystery, Thriller & Suspense', 'Kindle eBooks', 'Literature & Fiction', 'Kindle eBooks', 'Literature & Fiction', 'Kindle eBooks', 'Romance', 'Kindle eBooks', 'Literature & Fiction', 'Kindle eBooks', 'Literature & Fiction', 'Kindle eBooks', 'Romance', 'Kindle eBooks', 'Science Fiction & Fantasy', 'Kindle eBooks', 'Literature & Fiction', 'Kindle eBooks', 'Literature & Fiction', 'Kindle eBooks', 'Romance', 'Kindle eBooks', 'Literature & Fiction', 'Kindle eBooks', 'Literature & Fiction', 'Kindle eBooks', 'Literature & Fiction', 'Kindle eBooks', 'Literature & Fiction', 'Kindle eBooks', 'Romance', 'Kindle eBooks', 'Literature & Fiction', 'Kindle eBooks', 'Mystery, Thriller & Suspense', 'Kindle eBooks', 'Literature & Fiction', 'Kindle eBooks', 'Literature & Fiction', 'Kindle eBooks', 'Mystery, Thriller & Suspense', 'Kindle eBooks', \"Children's eBooks\", 'Kindle eBooks', 'Literature & Fiction', 'Kindle eBooks', 'Religion & Spirituality', 'Kindle eBooks', 'Teen & Young Adult', 'Kindle eBooks', 'Health, Fitness & Dieting', 'Kindle eBooks', 'Romance', 'Kindle eBooks', \"Children's eBooks\", 'Kindle eBooks', 'Literature & Fiction', 'Kindle eBooks', 'Religion & Spirituality', 'Kindle eBooks', 'Romance', 'Kindle eBooks', 'Literature & Fiction', 'Kindle eBooks', \"Children's eBooks\", 'Kindle eBooks', 'Romance', 'Kindle eBooks', 'Science Fiction & Fantasy', 'Kindle eBooks', 'Science Fiction & Fantasy', 'Kindle eBooks', 'Religion & Spirituality', 'Kindle eBooks', 'Literature & Fiction', 'Kindle eBooks', 'Literature & Fiction', 'Kindle eBooks', 'Teen & Young Adult', 'Kindle eBooks', 'Literature & Fiction', 'Kindle eBooks', 'Science Fiction & Fantasy', 'Kindle eBooks', 'Cookbooks, Food & Wine', 'Kindle eBooks', 'Romance', 'Kindle eBooks', 'Science Fiction & Fantasy', 'Kindle eBooks', 'Mystery, Thriller & Suspense', 'Kindle eBooks', 'Science Fiction & Fantasy', 'Kindle eBooks', 'Religion & Spirituality', 'Kindle eBooks', 'Literature & Fiction', 'Kindle eBooks', 'Literature & Fiction', 'Kindle eBooks', 'Literature & Fiction', 'Kindle eBooks', 'Religion & Spirituality', 'Kindle eBooks', 'Mystery, Thriller & Suspense', 'Kindle eBooks', 'Literature & Fiction', 'Kindle eBooks', 'Literature & Fiction', 'Kindle eBooks', \"Children's eBooks\", 'Kindle eBooks', 'Literature & Fiction', 'Kindle eBooks', 'Literature & Fiction', 'Kindle eBooks', 'Literature & Fiction', 'Kindle eBooks', 'Literature & Fiction', 'Kindle eBooks', 'Romance', 'Kindle eBooks', 'Mystery, Thriller & Suspense', 'Kindle eBooks', 'Romance', 'Kindle eBooks', 'Literature & Fiction', 'Kindle eBooks', 'Literature & Fiction', 'Kindle eBooks', 'Literature & Fiction', 'Kindle eBooks', \"Children's eBooks\", 'Kindle eBooks', 'Literature & Fiction', 'Kindle eBooks', 'History', 'Kindle eBooks', 'Religion & Spirituality', 'Kindle eBooks', 'Mystery, Thriller & Suspense', 'Kindle eBooks', 'Religion & Spirituality', 'Kindle eBooks', 'Health, Fitness & Dieting', 'Kindle eBooks', 'Teen & Young Adult', 'Kindle eBooks', 'Romance', 'Kindle eBooks', 'Science Fiction & Fantasy', 'Kindle eBooks', 'Romance', 'Kindle eBooks', 'Romance', 'Kindle eBooks', 'Literature & Fiction', 'Kindle eBooks', 'Literature & Fiction', 'Kindle eBooks', 'Romance', 'Kindle eBooks', 'Romance', 'Kindle eBooks', 'Romance', 'Kindle eBooks', 'Religion & Spirituality', 'Kindle eBooks', 'Business & Money', 'Kindle eBooks', 'Mystery, Thriller & Suspense', 'Kindle eBooks', 'Mystery, Thriller & Suspense', 'Kindle eBooks', 'Science Fiction & Fantasy', 'Kindle eBooks', 'Literature & Fiction', 'Kindle eBooks', 'Romance', 'Kindle eBooks', 'Religion & Spirituality', 'Kindle eBooks', 'Literature & Fiction', 'Kindle eBooks', 'Religion & Spirituality', 'Kindle eBooks', \"Children's eBooks\", 'Kindle eBooks', 'Science Fiction & Fantasy', 'Kindle eBooks', 'Teen & Young Adult', 'Kindle eBooks', 'Romance', 'Kindle eBooks', 'Mystery, Thriller & Suspense', 'Kindle eBooks', 'Romance', 'Kindle eBooks', 'Romance', 'Kindle eBooks', 'Teen & Young Adult', 'Kindle eBooks', 'Teen & Young Adult', 'Kindle eBooks', 'Teen & Young Adult', 'Kindle eBooks', 'Mystery, Thriller & Suspense', 'Kindle eBooks', 'Literature & Fiction', 'Kindle eBooks', 'Literature & Fiction', 'Kindle eBooks', 'Romance', 'Kindle eBooks', 'Romance', 'Kindle eBooks', 'Romance', 'Kindle eBooks', 'Mystery, Thriller & Suspense', 'Kindle eBooks', 'Literature & Fiction', 'Kindle eBooks', 'Literature & Fiction', 'Kindle eBooks', 'Literature & Fiction', 'Kindle eBooks', 'Romance', 'Kindle eBooks', 'Literature & Fiction', 'Kindle eBooks', 'Literature & Fiction', 'Kindle eBooks', 'Literature & Fiction', 'Kindle eBooks', 'Literature & Fiction', 'Kindle eBooks', 'Teen & Young Adult', 'Kindle eBooks', 'Teen & Young Adult', 'Kindle eBooks', 'Science Fiction & Fantasy', 'Kindle eBooks', 'Literature & Fiction', 'Kindle eBooks', 'Mystery, Thriller & Suspense', 'Kindle eBooks', 'Literature & Fiction', 'Kindle eBooks', 'Literature & Fiction', 'Kindle eBooks', 'Literature & Fiction', 'Kindle eBooks', 'Romance', 'Kindle eBooks', 'Romance', 'Kindle eBooks', 'Literature & Fiction', 'Kindle eBooks', 'Mystery, Thriller & Suspense', 'Kindle eBooks', \"Children's eBooks\", 'Kindle eBooks', 'Literature & Fiction', 'Kindle eBooks', 'Literature & Fiction', 'Kindle eBooks', 'Literature & Fiction', 'Kindle eBooks', 'Literature & Fiction', 'Kindle eBooks', 'Literature & Fiction', 'Kindle eBooks', 'Romance', 'Kindle eBooks', 'Literature & Fiction', 'Kindle eBooks', 'Literature & Fiction', 'Kindle eBooks', 'Literature & Fiction', 'Kindle eBooks', 'Religion & Spirituality', 'Kindle eBooks', 'Teen & Young Adult', 'Kindle eBooks', 'Literature & Fiction', 'Kindle eBooks', 'Literature & Fiction', 'Kindle eBooks', 'Mystery, Thriller & Suspense', 'Kindle eBooks', 'Literature & Fiction', 'Kindle eBooks', 'Literature & Fiction', 'Kindle eBooks', 'Romance', 'Kindle eBooks', 'Literature & Fiction', 'Kindle eBooks', 'Literature & Fiction', 'Kindle eBooks', 'Teen & Young Adult', 'Kindle eBooks', 'Literature & Fiction', 'Kindle eBooks', 'Religion & Spirituality', 'Kindle eBooks', 'Literature & Fiction', 'Kindle eBooks', 'Science Fiction & Fantasy', 'Kindle eBooks', 'Religion & Spirituality', 'Kindle eBooks', 'Romance', 'Kindle eBooks', 'Romance', 'Kindle eBooks', 'Romance', 'Kindle eBooks', 'Literature & Fiction', 'Kindle eBooks', 'Biographies & Memoirs', 'Kindle eBooks', 'Literature & Fiction', 'Kindle eBooks', 'Romance', 'Kindle eBooks', 'Science Fiction & Fantasy', 'Kindle eBooks', 'Romance', 'Kindle eBooks', 'Literature & Fiction', 'Kindle eBooks', 'Religion & Spirituality', 'Kindle eBooks', 'Romance', 'Kindle eBooks', 'Literature & Fiction', 'Kindle eBooks', 'Romance', 'Kindle eBooks', 'Literature & Fiction', 'Kindle eBooks', 'Literature & Fiction', 'Kindle eBooks', 'Literature & Fiction', 'Kindle eBooks', 'Romance', 'Kindle eBooks', 'Romance', 'Kindle eBooks', \"Children's eBooks\", 'Kindle eBooks', 'Literature & Fiction', 'Kindle eBooks', 'Biographies & Memoirs', 'Kindle eBooks', 'Romance', 'Kindle eBooks', 'Literature & Fiction', 'Kindle eBooks', 'Literature & Fiction', 'Kindle eBooks', 'Literature & Fiction', 'Kindle eBooks', 'Romance', 'Kindle eBooks', 'Romance', 'Kindle eBooks', 'Business & Money', 'Kindle eBooks', 'Biographies & Memoirs', 'Kindle eBooks', 'Mystery, Thriller & Suspense', 'Kindle eBooks', 'Religion & Spirituality', 'Kindle eBooks', 'Romance', 'Kindle eBooks', 'Literature & Fiction', 'Kindle eBooks', 'Romance', 'Kindle eBooks', 'Science Fiction & Fantasy', 'Kindle eBooks', 'Mystery, Thriller & Suspense', 'Kindle eBooks', 'Literature & Fiction', 'Kindle eBooks', 'Health, Fitness & Dieting', 'Kindle eBooks', 'Literature & Fiction', 'Kindle eBooks', 'Romance', 'Kindle eBooks', 'Teen & Young Adult', 'Kindle eBooks', 'Literature & Fiction', 'Kindle eBooks', \"Children's eBooks\", 'Kindle eBooks', 'Religion & Spirituality', 'Kindle eBooks', 'Literature & Fiction', 'Kindle eBooks', 'Crafts, Hobbies & Home', 'Kindle eBooks', 'Literature & Fiction', 'Kindle eBooks', 'Literature & Fiction', 'Kindle eBooks', 'Literature & Fiction', 'Kindle eBooks', 'Romance', 'Kindle eBooks', 'Literature & Fiction', 'Kindle eBooks', 'Literature & Fiction', 'Kindle eBooks', 'Romance', 'Kindle eBooks', 'Romance', 'Kindle eBooks', 'Romance', 'Kindle eBooks', 'Romance', 'Kindle eBooks', 'Religion & Spirituality', 'Kindle eBooks', 'Literature & Fiction', 'Kindle eBooks', 'Romance', 'Kindle eBooks', 'Cookbooks, Food & Wine', 'Kindle eBooks', 'Romance', 'Kindle eBooks', 'Romance', 'Kindle eBooks', 'Literature & Fiction', 'Kindle eBooks', 'Religion & Spirituality', 'Kindle eBooks', 'Religion & Spirituality', 'Kindle eBooks', 'Humor & Entertainment', 'Kindle eBooks', 'Literature & Fiction', 'Kindle eBooks', 'Teen & Young Adult', 'Kindle eBooks', 'Literature & Fiction', 'Kindle eBooks', 'Travel', 'Kindle eBooks', 'Literature & Fiction', 'Kindle eBooks', 'Literature & Fiction', 'Kindle eBooks', 'Literature & Fiction', 'Kindle eBooks', 'Politics & Social Sciences', 'Kindle eBooks', 'Romance', 'Kindle eBooks', 'Literature & Fiction', 'Kindle eBooks', 'Literature & Fiction', 'Kindle eBooks', 'Literature & Fiction', 'Kindle eBooks', 'Teen & Young Adult', 'Kindle eBooks', 'Literature & Fiction', 'Kindle eBooks', 'Literature & Fiction', 'Kindle eBooks', 'Literature & Fiction', 'Kindle eBooks', 'Literature & Fiction', 'Kindle eBooks', 'Mystery, Thriller & Suspense', 'Kindle eBooks', 'Literature & Fiction', 'Kindle eBooks', 'Cookbooks, Food & Wine', 'Kindle eBooks', 'Literature & Fiction', 'Kindle eBooks', 'Literature & Fiction', 'Kindle eBooks', 'Mystery, Thriller & Suspense', 'Kindle eBooks', 'Science Fiction & Fantasy', 'Kindle eBooks', 'Literature & Fiction', 'Kindle eBooks', 'Literature & Fiction', 'Kindle eBooks', 'Science Fiction & Fantasy', 'Kindle eBooks', 'Literature & Fiction', 'Kindle eBooks', 'Literature & Fiction', 'Kindle eBooks', 'Politics & Social Sciences', 'Kindle eBooks', 'Romance', 'Kindle eBooks', 'Romance', 'Kindle eBooks', 'Romance', 'Kindle eBooks', 'Religion & Spirituality', 'Kindle eBooks', 'History', 'Kindle eBooks', 'Literature & Fiction', 'Kindle eBooks', 'Politics & Social Sciences', 'Kindle eBooks', 'Literature & Fiction', 'Kindle eBooks', 'Science Fiction & Fantasy', 'Kindle eBooks', 'Literature & Fiction', 'Kindle eBooks', 'Literature & Fiction', 'Kindle eBooks', 'Literature & Fiction', 'Kindle eBooks', 'Mystery, Thriller & Suspense', 'Kindle eBooks', 'Literature & Fiction', 'Kindle eBooks', 'Literature & Fiction', 'Kindle eBooks', 'Literature & Fiction', 'Kindle eBooks', 'Literature & Fiction', 'Kindle eBooks', 'Mystery, Thriller & Suspense', 'Kindle eBooks', 'Literature & Fiction', 'Kindle eBooks', 'Literature & Fiction', 'Kindle eBooks', 'Religion & Spirituality', 'Kindle eBooks', 'Romance', 'Kindle eBooks', 'Literature & Fiction', 'Kindle eBooks', 'Literature & Fiction', 'Kindle eBooks', 'Romance', 'Kindle eBooks', 'Romance', 'Kindle eBooks', 'Romance', 'Kindle eBooks', 'Literature & Fiction', 'Kindle eBooks', 'Romance', 'Kindle eBooks', 'Literature & Fiction', 'Kindle eBooks', 'Literature & Fiction', 'Kindle eBooks', 'Literature & Fiction', 'Kindle eBooks', 'Literature & Fiction', 'Kindle eBooks', 'Literature & Fiction', 'Kindle eBooks', 'Romance', 'Kindle eBooks', 'Religion & Spirituality', 'Kindle eBooks', 'Religion & Spirituality', 'Kindle eBooks', \"Children's eBooks\", 'Kindle eBooks', 'Business & Money', 'Kindle eBooks', 'Literature & Fiction', 'Kindle eBooks', 'Literature & Fiction', 'Kindle eBooks', 'Literature & Fiction', 'Kindle eBooks', 'Romance', 'Kindle eBooks', 'Literature & Fiction', 'Kindle eBooks', 'Literature & Fiction', 'Kindle eBooks', 'Teen & Young Adult', 'Kindle eBooks', 'Romance', 'Kindle eBooks', 'Mystery, Thriller & Suspense', 'Kindle eBooks', 'Literature & Fiction', 'Kindle eBooks', 'Romance', 'Kindle eBooks', 'Literature & Fiction', 'Kindle eBooks', 'Teen & Young Adult', 'Kindle eBooks', \"Children's eBooks\", 'Kindle eBooks', 'Literature & Fiction', 'Kindle eBooks', 'Science Fiction & Fantasy', 'Kindle eBooks', 'Science & Math', 'Kindle eBooks', 'Romance', 'Kindle eBooks', 'Romance', 'Kindle eBooks', 'Reference', 'Kindle eBooks', 'Romance', 'Kindle eBooks', 'Literature & Fiction', 'Kindle eBooks', 'Mystery, Thriller & Suspense', 'Kindle eBooks', 'Literature & Fiction', 'Kindle eBooks', 'Literature & Fiction', 'Kindle eBooks', 'Mystery, Thriller & Suspense', 'Kindle eBooks', 'Mystery, Thriller & Suspense', 'Kindle eBooks', 'Mystery, Thriller & Suspense', 'Kindle eBooks', 'Mystery, Thriller & Suspense', 'Kindle eBooks', 'Romance', 'Kindle eBooks', 'Mystery, Thriller & Suspense', 'Kindle eBooks', 'Science Fiction & Fantasy', 'Kindle eBooks', 'Mystery, Thriller & Suspense', 'Kindle eBooks', \"Children's eBooks\", 'Kindle eBooks', 'Romance', 'Kindle eBooks', 'Science Fiction & Fantasy', 'Kindle eBooks', 'Science Fiction & Fantasy', 'Kindle eBooks', 'Mystery, Thriller & Suspense', 'Kindle eBooks', 'Literature & Fiction', 'Kindle eBooks', 'Romance', 'Kindle eBooks', 'Science Fiction & Fantasy', 'Kindle eBooks', 'Science Fiction & Fantasy', 'Kindle eBooks', 'Education & Teaching', 'Kindle eBooks', 'Literature & Fiction', 'Kindle eBooks', 'Romance', 'Kindle eBooks', 'Literature & Fiction', 'Kindle eBooks', 'Romance', 'Kindle eBooks', 'Romance', 'Kindle eBooks', 'Literature & Fiction', 'Kindle eBooks', 'Literature & Fiction', 'Kindle eBooks', 'Mystery, Thriller & Suspense', 'Kindle eBooks', 'Literature & Fiction', 'Kindle eBooks', 'Literature & Fiction', 'Kindle eBooks', 'Romance', 'Kindle eBooks', 'Romance', 'Kindle eBooks', \"Children's eBooks\", 'Kindle eBooks', 'Literature & Fiction', 'Kindle eBooks', 'Literature & Fiction', 'Kindle eBooks', 'Humor & Entertainment', 'Kindle eBooks', 'Romance', 'Kindle eBooks', 'Literature & Fiction', 'Kindle eBooks', 'Teen & Young Adult', 'Kindle eBooks', 'Romance', 'Kindle eBooks', 'Religion & Spirituality', 'Kindle eBooks', 'Literature & Fiction', 'Kindle eBooks', 'Literature & Fiction', 'Kindle eBooks', 'Mystery, Thriller & Suspense', 'Kindle eBooks', 'Science Fiction & Fantasy', 'Kindle eBooks', 'Politics & Social Sciences', 'Kindle eBooks', 'Literature & Fiction', 'Kindle eBooks', 'Literature & Fiction', 'Kindle eBooks', 'Literature & Fiction', 'Kindle eBooks', 'Teen & Young Adult', 'Kindle eBooks', 'Literature & Fiction', 'Kindle eBooks', \"Children's eBooks\", 'Kindle eBooks', 'Literature & Fiction', 'Kindle eBooks', 'Literature & Fiction', 'Kindle eBooks', 'Romance', 'Kindle eBooks', 'Health, Fitness & Dieting', 'Kindle eBooks', 'Literature & Fiction', 'Kindle eBooks', 'Religion & Spirituality', 'Kindle eBooks', 'Religion & Spirituality', 'Kindle eBooks', 'Literature & Fiction', 'Kindle eBooks', 'Literature & Fiction', 'Kindle eBooks', 'Romance', 'Kindle eBooks', 'Teen & Young Adult', 'Kindle eBooks', 'Romance', 'Kindle eBooks', 'Romance', 'Kindle eBooks', 'Literature & Fiction', 'Kindle eBooks', 'Literature & Fiction', 'Kindle eBooks', 'Religion & Spirituality', 'Kindle eBooks', 'Science Fiction & Fantasy', 'Kindle eBooks', 'Literature & Fiction', 'Kindle eBooks', 'Romance', 'Kindle eBooks', 'Literature & Fiction', 'Kindle eBooks', 'Literature & Fiction', 'Kindle eBooks', 'Mystery, Thriller & Suspense', 'Kindle eBooks', 'Literature & Fiction', 'Kindle eBooks', 'Science Fiction & Fantasy', 'Kindle eBooks', 'Literature & Fiction', 'Kindle eBooks', 'Religion & Spirituality', 'Kindle eBooks', 'Romance', 'Kindle eBooks', 'Romance', 'Kindle eBooks', 'Literature & Fiction', 'Kindle eBooks', 'Literature & Fiction', 'Kindle eBooks', 'Literature & Fiction', 'Kindle eBooks', 'Romance', 'Kindle eBooks', 'Literature & Fiction', 'Kindle eBooks', 'Literature & Fiction', 'Kindle eBooks', 'Literature & Fiction', 'Kindle eBooks', 'Travel', 'Kindle eBooks', 'Literature & Fiction', 'Kindle eBooks', 'Literature & Fiction', 'Kindle eBooks', 'Science Fiction & Fantasy', 'Kindle eBooks', 'Teen & Young Adult', 'Kindle eBooks', 'Literature & Fiction', 'Kindle eBooks', 'Literature & Fiction', 'Kindle eBooks', 'Mystery, Thriller & Suspense', 'Kindle eBooks', 'Arts & Photography', 'Kindle eBooks', 'Literature & Fiction', 'Kindle eBooks', 'Literature & Fiction', 'Kindle eBooks', 'Literature & Fiction', 'Kindle eBooks', 'Literature & Fiction', 'Kindle eBooks', 'Romance', 'Kindle eBooks', 'Romance', 'Kindle eBooks', 'Literature & Fiction', 'Kindle eBooks', 'Literature & Fiction', 'Kindle eBooks', 'Literature & Fiction', 'Kindle eBooks', 'Mystery, Thriller & Suspense', 'Kindle eBooks', 'Religion & Spirituality', 'Kindle eBooks', 'Teen & Young Adult', 'Kindle eBooks', 'Literature & Fiction', 'Kindle eBooks', 'Romance', 'Kindle eBooks', 'Literature & Fiction', 'Kindle eBooks', 'Science Fiction & Fantasy', 'Kindle eBooks', 'Literature & Fiction', 'Kindle eBooks', 'Literature & Fiction', 'Kindle eBooks', 'Literature & Fiction', 'Kindle eBooks', 'Teen & Young Adult', 'Kindle eBooks', 'Science Fiction & Fantasy', 'Kindle eBooks', 'Romance', 'Kindle eBooks', 'Science Fiction & Fantasy', 'Kindle eBooks', 'Romance', 'Kindle eBooks', 'Religion & Spirituality', 'Kindle eBooks', 'Romance', 'Kindle eBooks', 'Romance', 'Kindle eBooks', 'Literature & Fiction', 'Kindle eBooks', 'Romance', 'Kindle eBooks', 'Science Fiction & Fantasy', 'Kindle eBooks', 'Literature & Fiction', 'Kindle eBooks', 'Romance', 'Kindle eBooks', 'Literature & Fiction', 'Kindle eBooks', 'History', 'Kindle eBooks', 'Literature & Fiction', 'Kindle eBooks', 'Parenting & Relationships', 'Kindle eBooks', 'Literature & Fiction', 'Kindle eBooks', 'Literature & Fiction', 'Kindle eBooks', 'Romance', 'Kindle eBooks', 'Literature & Fiction', 'Kindle eBooks', 'Literature & Fiction', 'Kindle eBooks', 'Romance', 'Kindle eBooks', 'Literature & Fiction', 'Kindle eBooks', 'Romance', 'Kindle eBooks', 'Literature & Fiction', 'Kindle eBooks', 'Literature & Fiction', 'Kindle eBooks', 'Romance', 'Kindle eBooks', 'Romance', 'Kindle eBooks', 'Mystery, Thriller & Suspense', 'Kindle eBooks', 'Literature & Fiction', 'Kindle eBooks', 'Self-Help', 'Kindle eBooks', 'Literature & Fiction', 'Kindle eBooks', 'Literature & Fiction', 'Kindle eBooks', 'Literature & Fiction', 'Kindle eBooks', 'Literature & Fiction', 'Kindle eBooks', 'Mystery, Thriller & Suspense', 'Kindle eBooks', 'Romance', 'Kindle eBooks', 'Literature & Fiction', 'Kindle eBooks', 'Literature & Fiction', 'Kindle eBooks', 'Literature & Fiction', 'Kindle eBooks', 'Literature & Fiction', 'Kindle eBooks', 'Romance', 'Kindle eBooks', 'Romance', 'Kindle eBooks', 'Literature & Fiction', 'Kindle eBooks', 'Literature & Fiction', 'Kindle eBooks', 'Literature & Fiction', 'Kindle eBooks', 'Literature & Fiction', 'Kindle eBooks', 'Literature & Fiction', 'Kindle eBooks', 'Literature & Fiction', 'Kindle eBooks', 'Literature & Fiction', 'Kindle eBooks', 'Romance', 'Kindle eBooks', 'Literature & Fiction', 'Kindle eBooks', 'Religion & Spirituality', 'Kindle eBooks', 'Literature & Fiction', 'Kindle eBooks', 'Literature & Fiction', 'Kindle eBooks', 'Literature & Fiction', 'Kindle eBooks', 'Literature & Fiction', 'Kindle eBooks', 'Literature & Fiction', 'Kindle eBooks', 'Romance', 'Kindle eBooks', 'Literature & Fiction', 'Kindle eBooks', 'Mystery, Thriller & Suspense', 'Kindle eBooks', 'Literature & Fiction', 'Kindle eBooks', 'Romance', 'Kindle eBooks', 'Romance', 'Kindle eBooks', 'Romance', 'Kindle eBooks', 'Literature & Fiction', 'Kindle eBooks', 'Romance', 'Kindle eBooks', 'Romance', 'Kindle eBooks', 'Literature & Fiction', 'Kindle eBooks', 'Literature & Fiction', 'Kindle eBooks', 'Religion & Spirituality', 'Kindle eBooks', 'Science Fiction & Fantasy', 'Kindle eBooks', 'Science Fiction & Fantasy', 'Kindle eBooks', 'Literature & Fiction', 'Kindle eBooks', 'Romance', 'Kindle eBooks', 'Literature & Fiction', 'Kindle eBooks', 'Literature & Fiction', 'Kindle eBooks', 'Literature & Fiction', 'Kindle eBooks', 'Literature & Fiction', 'Kindle eBooks', 'Kindle eBooks', 'Literature & Fiction', 'Kindle eBooks', 'Literature & Fiction', 'Kindle eBooks', 'Science Fiction & Fantasy', 'Kindle eBooks', 'Literature & Fiction', 'Kindle eBooks', 'Romance', 'Kindle eBooks', 'Literature & Fiction', 'Kindle eBooks', 'Science Fiction & Fantasy', 'Kindle eBooks', 'Literature & Fiction', 'Kindle eBooks', \"Children's eBooks\", 'Kindle eBooks', 'Mystery, Thriller & Suspense', 'Kindle eBooks', 'Romance', 'Kindle eBooks', 'Literature & Fiction', 'Kindle eBooks', 'Literature & Fiction', 'Kindle eBooks', 'Romance', 'Kindle eBooks', 'Literature & Fiction', 'Kindle eBooks', 'Literature & Fiction', 'Kindle eBooks', 'Literature & Fiction', 'Kindle eBooks', 'Science Fiction & Fantasy', 'Kindle eBooks', 'Romance', 'Kindle eBooks', 'Education & Teaching', 'Kindle eBooks', 'Literature & Fiction', 'Kindle eBooks', 'Romance', 'Kindle eBooks', 'Romance', 'Kindle eBooks', 'Romance', 'Kindle eBooks', 'Romance', 'Kindle eBooks', 'Literature & Fiction', 'Kindle eBooks', 'Religion & Spirituality', 'Kindle eBooks', 'Literature & Fiction', 'Kindle eBooks', 'Mystery, Thriller & Suspense', 'Kindle eBooks', 'Religion & Spirituality', 'Kindle eBooks', 'Literature & Fiction', 'Kindle eBooks', 'Literature & Fiction', 'Kindle eBooks', 'Literature & Fiction', 'Kindle eBooks', 'Romance', 'Kindle eBooks', 'Romance', 'Kindle eBooks', 'Romance', 'Kindle eBooks', 'Romance', 'Kindle eBooks', 'Science Fiction & Fantasy', 'Kindle eBooks', 'Literature & Fiction', 'Kindle eBooks', 'Literature & Fiction', 'Kindle eBooks', 'Romance', 'Kindle eBooks', 'Literature & Fiction', 'Kindle eBooks', 'Literature & Fiction', 'Kindle eBooks', 'Mystery, Thriller & Suspense', 'Kindle eBooks', 'Literature & Fiction', 'Kindle eBooks', 'Romance', 'Kindle eBooks', 'Literature & Fiction', 'Kindle eBooks', 'Crafts, Hobbies & Home', 'Kindle eBooks', 'Humor & Entertainment', 'Kindle eBooks', 'Literature & Fiction', 'Kindle eBooks', 'Romance', 'Kindle eBooks', 'Literature & Fiction', 'Kindle eBooks', 'Literature & Fiction', 'Kindle eBooks', 'Literature & Fiction', 'Kindle eBooks', 'Literature & Fiction', 'Kindle eBooks', 'Literature & Fiction', 'Kindle eBooks', 'Literature & Fiction', 'Kindle eBooks', 'Literature & Fiction', 'Kindle eBooks', 'Romance', 'Kindle eBooks', 'Romance', 'Kindle eBooks', 'Literature & Fiction', 'Kindle eBooks', 'Romance', 'Kindle eBooks', 'Literature & Fiction', 'Kindle eBooks', 'Mystery, Thriller & Suspense', 'Kindle eBooks', 'Romance', 'Kindle eBooks', 'Romance', 'Kindle eBooks', 'Romance', 'Kindle eBooks', 'Literature & Fiction', 'Kindle eBooks', 'Romance', 'Kindle eBooks', 'Literature & Fiction', 'Kindle eBooks', 'Literature & Fiction', 'Kindle eBooks', 'Literature & Fiction', 'Kindle eBooks', 'Literature & Fiction', 'Kindle eBooks', 'Mystery, Thriller & Suspense', 'Kindle eBooks', 'Science Fiction & Fantasy', 'Kindle eBooks', 'Mystery, Thriller & Suspense', 'Kindle eBooks', 'Mystery, Thriller & Suspense', 'Kindle eBooks', 'Teen & Young Adult', 'Kindle eBooks', 'Mystery, Thriller & Suspense', 'Kindle eBooks', 'Health, Fitness & Dieting', 'Kindle eBooks', 'Literature & Fiction', 'Kindle eBooks', 'Science Fiction & Fantasy', 'Kindle eBooks', 'Literature & Fiction', 'Kindle eBooks', 'Literature & Fiction', 'Kindle eBooks', 'Romance', 'Kindle eBooks', 'Literature & Fiction', 'Kindle eBooks', 'Romance', 'Kindle eBooks', 'Romance', 'Kindle eBooks', 'Literature & Fiction', 'Kindle eBooks', 'Literature & Fiction', 'Kindle eBooks', 'Literature & Fiction', 'Kindle eBooks', 'Literature & Fiction', 'Kindle eBooks', 'Romance', 'Kindle eBooks', 'Literature & Fiction', 'Kindle eBooks', 'Literature & Fiction', 'Kindle eBooks', 'Romance', 'Kindle eBooks', 'Romance', 'Kindle eBooks', 'Religion & Spirituality', 'Kindle eBooks', 'Religion & Spirituality', 'Kindle eBooks', 'Literature & Fiction', 'Kindle eBooks', 'Literature & Fiction', 'Kindle eBooks', 'Literature & Fiction', 'Kindle eBooks', 'Literature & Fiction', 'Kindle eBooks', 'Health, Fitness & Dieting', 'Kindle eBooks', 'Cookbooks, Food & Wine', 'Kindle eBooks', 'Literature & Fiction', 'Kindle eBooks', 'Literature & Fiction', 'Kindle eBooks', 'Romance', 'Kindle eBooks', 'Literature & Fiction', 'Kindle eBooks', 'Romance', 'Kindle eBooks', 'Science Fiction & Fantasy', 'Kindle eBooks', 'Literature & Fiction', 'Kindle eBooks', 'Literature & Fiction', 'Kindle eBooks', 'Literature & Fiction', 'Kindle eBooks', 'Literature & Fiction', 'Kindle eBooks', 'Literature & Fiction', 'Kindle eBooks', 'Mystery, Thriller & Suspense', 'Kindle eBooks', 'Literature & Fiction', 'Kindle eBooks', 'Teen & Young Adult', 'Kindle eBooks', 'Romance', 'Kindle eBooks', 'Mystery, Thriller & Suspense', 'Kindle eBooks', 'Literature & Fiction', 'Kindle eBooks', 'Literature & Fiction', 'Kindle eBooks', 'Literature & Fiction', 'Kindle eBooks', 'Literature & Fiction', 'Kindle eBooks', 'Literature & Fiction', 'Kindle eBooks', 'Literature & Fiction', 'Kindle eBooks', 'Mystery, Thriller & Suspense', 'Kindle eBooks', 'Teen & Young Adult', 'Kindle eBooks', 'Literature & Fiction', 'Kindle eBooks', 'Literature & Fiction', 'Kindle eBooks', 'Romance', 'Kindle eBooks', 'Science Fiction & Fantasy', 'Kindle eBooks', 'Mystery, Thriller & Suspense', 'Kindle eBooks', 'History', 'Kindle eBooks', 'Health, Fitness & Dieting', 'Kindle eBooks', 'Romance', 'Kindle eBooks', 'Crafts, Hobbies & Home', 'Kindle eBooks', 'Literature & Fiction', 'Kindle eBooks', 'Romance', 'Kindle eBooks', 'Romance', 'Kindle eBooks', 'Science Fiction & Fantasy', 'Kindle eBooks', 'Literature & Fiction', 'Kindle eBooks', 'Mystery, Thriller & Suspense', 'Kindle eBooks', 'Literature & Fiction', 'Kindle eBooks', 'Science Fiction & Fantasy', 'Kindle eBooks', 'Literature & Fiction', 'Kindle eBooks', 'Science Fiction & Fantasy', 'Kindle eBooks', 'Romance', 'Kindle eBooks', 'Romance', 'Kindle eBooks', 'Literature & Fiction', 'Kindle eBooks', 'Literature & Fiction', 'Kindle eBooks', 'Romance', 'Kindle eBooks', 'Literature & Fiction', 'Kindle eBooks', 'Literature & Fiction', 'Kindle eBooks', 'Teen & Young Adult', 'Kindle eBooks', 'Religion & Spirituality', 'Kindle eBooks', 'Literature & Fiction', 'Kindle eBooks', 'Science Fiction & Fantasy', 'Kindle eBooks', 'Literature & Fiction', 'Kindle eBooks', 'Literature & Fiction', 'Kindle eBooks', 'Literature & Fiction', 'Kindle eBooks', 'Romance', 'Kindle eBooks', 'Romance', 'Kindle eBooks', 'Literature & Fiction', 'Kindle eBooks', 'Teen & Young Adult', 'Kindle eBooks', 'Literature & Fiction', 'Kindle eBooks', 'Literature & Fiction', 'Kindle eBooks', 'Literature & Fiction', 'Kindle eBooks', 'Romance', 'Kindle eBooks', 'Literature & Fiction', 'Kindle eBooks', 'Literature & Fiction', 'Kindle eBooks', 'Literature & Fiction', 'Kindle eBooks', 'Literature & Fiction', 'Kindle eBooks', 'Literature & Fiction', 'Kindle eBooks', 'Literature & Fiction', 'Kindle eBooks', 'Science Fiction & Fantasy', 'Kindle eBooks', 'Science Fiction & Fantasy', 'Kindle eBooks', 'Romance', 'Kindle eBooks', 'Romance', 'Kindle eBooks', 'Health, Fitness & Dieting', 'Kindle eBooks', 'Romance', 'Kindle eBooks', 'Teen & Young Adult', 'Kindle eBooks', 'Literature & Fiction', 'Kindle eBooks', 'Literature & Fiction', 'Kindle eBooks', 'Biographies & Memoirs', 'Kindle eBooks', 'Romance', 'Kindle eBooks', 'Romance', 'Kindle eBooks', 'Literature & Fiction', 'Kindle eBooks', 'Science Fiction & Fantasy', 'Kindle eBooks', 'Religion & Spirituality', 'Kindle eBooks', 'Literature & Fiction', 'Kindle eBooks', 'Science Fiction & Fantasy', 'Kindle eBooks', 'Religion & Spirituality', 'Kindle eBooks', 'Religion & Spirituality', 'Kindle eBooks', 'Romance', 'Kindle eBooks', 'Literature & Fiction', 'Kindle eBooks', 'Literature & Fiction', 'Kindle eBooks', 'Literature & Fiction', 'Kindle eBooks', 'Literature & Fiction', 'Kindle eBooks', 'Literature & Fiction', 'Kindle eBooks', 'Mystery, Thriller & Suspense', 'Kindle eBooks', 'Mystery, Thriller & Suspense', 'Kindle eBooks', \"Children's eBooks\", 'Kindle eBooks', 'Literature & Fiction', 'Kindle eBooks', 'Romance', 'Kindle eBooks', \"Children's eBooks\", 'Kindle eBooks', 'Religion & Spirituality', 'Kindle eBooks', 'Romance', 'Kindle eBooks', 'Literature & Fiction', 'Kindle eBooks', 'Literature & Fiction', 'Kindle eBooks', 'Literature & Fiction', 'Kindle eBooks', 'Cookbooks, Food & Wine', 'Kindle eBooks', 'Literature & Fiction', 'Kindle eBooks', 'Literature & Fiction', 'Kindle eBooks', 'Literature & Fiction', 'Kindle eBooks', 'Romance', 'Kindle eBooks', 'Mystery, Thriller & Suspense', 'Kindle eBooks', 'Mystery, Thriller & Suspense', 'Kindle eBooks', 'Religion & Spirituality', 'Kindle eBooks', 'Literature & Fiction', 'Kindle eBooks', 'Literature & Fiction', 'Kindle eBooks', 'Romance', 'Kindle eBooks', 'Literature & Fiction', 'Kindle eBooks', 'Romance', 'Kindle eBooks', 'Mystery, Thriller & Suspense', 'Kindle eBooks', 'Literature & Fiction', 'Kindle eBooks', 'Literature & Fiction', 'Kindle eBooks', 'Literature & Fiction', 'Kindle eBooks', 'Romance', 'Kindle eBooks', 'Mystery, Thriller & Suspense', 'Kindle eBooks', 'Science Fiction & Fantasy', 'Kindle eBooks', 'Mystery, Thriller & Suspense', 'Kindle eBooks', 'Romance', 'Kindle eBooks', 'Literature & Fiction', 'Kindle eBooks', 'Literature & Fiction', 'Kindle eBooks', 'Mystery, Thriller & Suspense', 'Kindle eBooks', 'Romance', 'Kindle eBooks', 'Literature & Fiction', 'Kindle eBooks', 'Literature & Fiction', 'Kindle eBooks', 'Literature & Fiction', 'Kindle eBooks', 'Religion & Spirituality', 'Kindle eBooks', 'Science Fiction & Fantasy', 'Kindle eBooks', 'Literature & Fiction', 'Kindle eBooks', 'Literature & Fiction', 'Kindle eBooks', 'History', 'Kindle eBooks', 'Literature & Fiction', 'Kindle eBooks', 'Mystery, Thriller & Suspense', 'Kindle eBooks', 'Romance', 'Kindle eBooks', 'Literature & Fiction', 'Kindle eBooks', 'Science Fiction & Fantasy', 'Kindle eBooks', 'Romance', 'Kindle eBooks', 'Literature & Fiction', 'Kindle eBooks', 'Romance', 'Kindle eBooks', 'Literature & Fiction', 'Kindle eBooks', 'Literature & Fiction', 'Kindle eBooks', 'Literature & Fiction', 'Kindle eBooks', 'Teen & Young Adult', 'Kindle eBooks', 'Romance', 'Kindle eBooks', 'Romance', 'Kindle eBooks', 'Romance', 'Kindle eBooks', 'Literature & Fiction', 'Kindle eBooks', 'Romance', 'Kindle eBooks', 'Religion & Spirituality', 'Kindle eBooks', 'Mystery, Thriller & Suspense', 'Kindle eBooks', 'Romance', 'Kindle eBooks', 'Romance', 'Kindle eBooks', 'Literature & Fiction', 'Kindle eBooks', 'Literature & Fiction', 'Kindle eBooks', 'Literature & Fiction', 'Kindle eBooks', 'Literature & Fiction', 'Kindle eBooks', 'Literature & Fiction', 'Kindle eBooks', 'Romance', 'Kindle eBooks', \"Children's eBooks\", 'Kindle eBooks', 'Literature & Fiction', 'Kindle eBooks', 'Mystery, Thriller & Suspense', 'Kindle eBooks', 'Literature & Fiction', 'Kindle eBooks', 'Business & Money', 'Kindle eBooks', 'Business & Money', 'Kindle eBooks', 'Romance', 'Kindle eBooks', 'Mystery, Thriller & Suspense', 'Kindle eBooks', 'Literature & Fiction', 'Kindle eBooks', 'Romance', 'Kindle eBooks', 'Humor & Entertainment', 'Kindle eBooks', 'Literature & Fiction', 'Kindle eBooks', 'Literature & Fiction', 'Kindle eBooks', 'Literature & Fiction', 'Kindle eBooks', 'Literature & Fiction', 'Kindle eBooks', \"Children's eBooks\", 'Kindle eBooks', 'Literature & Fiction', 'Kindle eBooks', 'Literature & Fiction', 'Kindle eBooks', 'Science Fiction & Fantasy', 'Kindle eBooks', 'Literature & Fiction', 'Kindle eBooks', 'Literature & Fiction', 'Kindle eBooks', 'Literature & Fiction', 'Kindle eBooks', 'Literature & Fiction', 'Kindle eBooks', 'Mystery, Thriller & Suspense', 'Kindle eBooks', 'Literature & Fiction', 'Kindle eBooks', 'Literature & Fiction', 'Kindle eBooks', 'Mystery, Thriller & Suspense', 'Kindle eBooks', 'Literature & Fiction', 'Kindle eBooks', 'Literature & Fiction', 'Kindle eBooks', 'Romance', 'Kindle eBooks', 'Romance', 'Kindle eBooks', 'Religion & Spirituality', 'Kindle eBooks', 'Literature & Fiction', 'Kindle eBooks', 'Literature & Fiction', 'Kindle eBooks', 'Literature & Fiction', 'Kindle eBooks', 'Literature & Fiction', 'Kindle eBooks', \"Children's eBooks\", 'Kindle eBooks', 'Literature & Fiction', 'Kindle eBooks', 'Literature & Fiction', 'Kindle eBooks', 'Literature & Fiction', 'Kindle eBooks', 'Romance', 'Kindle eBooks', 'Romance', 'Kindle eBooks', 'Literature & Fiction', 'Kindle eBooks', 'Literature & Fiction', 'Kindle eBooks', 'Literature & Fiction', 'Kindle eBooks', 'Science Fiction & Fantasy', 'Kindle eBooks', 'Romance', 'Kindle eBooks', 'Teen & Young Adult', 'Kindle eBooks', 'Romance', 'Kindle eBooks', 'Literature & Fiction', 'Kindle eBooks', 'Literature & Fiction', 'Kindle eBooks', 'Romance', 'Kindle eBooks', 'Literature & Fiction', 'Kindle eBooks', 'Romance', 'Kindle eBooks', 'Mystery, Thriller & Suspense', 'Kindle eBooks', 'Literature & Fiction', 'Kindle eBooks', 'Romance', 'Kindle eBooks', 'Literature & Fiction', 'Kindle eBooks', 'Literature & Fiction', 'Kindle eBooks', 'Literature & Fiction', 'Kindle eBooks', 'Literature & Fiction', 'Kindle eBooks', 'Science Fiction & Fantasy', 'Kindle eBooks', 'Teen & Young Adult', 'Kindle eBooks', 'Science Fiction & Fantasy', 'Kindle eBooks', 'Mystery, Thriller & Suspense', 'Kindle eBooks', 'Literature & Fiction', 'Kindle eBooks', 'Literature & Fiction', 'Kindle eBooks', 'Mystery, Thriller & Suspense', 'Kindle eBooks', 'Literature & Fiction', 'Kindle eBooks', 'Mystery, Thriller & Suspense', 'Kindle eBooks', 'Romance', 'Kindle eBooks', 'Literature & Fiction', 'Kindle eBooks', 'Literature & Fiction', 'Kindle eBooks', 'Literature & Fiction', 'Kindle eBooks', 'Literature & Fiction', 'Kindle eBooks', 'Romance', 'Kindle eBooks', 'Science Fiction & Fantasy', 'Kindle eBooks', 'Mystery, Thriller & Suspense', 'Kindle eBooks', 'Mystery, Thriller & Suspense', 'Kindle eBooks', 'Science Fiction & Fantasy', 'Kindle eBooks', 'Literature & Fiction', 'Kindle eBooks', 'Literature & Fiction', 'Kindle eBooks', 'Teen & Young Adult', 'Kindle eBooks', 'Literature & Fiction', 'Kindle eBooks', 'Mystery, Thriller & Suspense', 'Kindle eBooks', 'Romance', 'Kindle eBooks', 'Literature & Fiction', 'Kindle eBooks', 'Science Fiction & Fantasy', 'Kindle eBooks', 'Science Fiction & Fantasy', 'Kindle eBooks', 'Literature & Fiction', 'Kindle eBooks', 'Literature & Fiction', 'Kindle eBooks', 'Romance', 'Kindle eBooks', 'Science Fiction & Fantasy', 'Kindle eBooks', 'Literature & Fiction', 'Kindle eBooks', 'Romance', 'Kindle eBooks', 'Teen & Young Adult', 'Kindle eBooks', 'Literature & Fiction', 'Kindle eBooks', 'Literature & Fiction', 'Kindle eBooks', 'Mystery, Thriller & Suspense', 'Kindle eBooks', 'Literature & Fiction', 'Kindle eBooks', 'Literature & Fiction', 'Kindle eBooks', 'Literature & Fiction', 'Kindle eBooks', 'Mystery, Thriller & Suspense', 'Kindle eBooks', 'Romance', 'Kindle eBooks', 'Literature & Fiction', 'Kindle eBooks', 'Literature & Fiction', 'Kindle eBooks', 'Literature & Fiction', 'Kindle eBooks', 'Literature & Fiction', 'Kindle eBooks', 'Literature & Fiction', 'Kindle eBooks', 'Literature & Fiction', 'Kindle eBooks', 'Literature & Fiction', 'Kindle eBooks', \"Children's eBooks\", 'Kindle eBooks', 'Mystery, Thriller & Suspense', 'Kindle eBooks', 'Literature & Fiction', 'Kindle eBooks', 'Teen & Young Adult', 'Kindle eBooks', 'Literature & Fiction', 'Kindle eBooks', 'Literature & Fiction', 'Kindle eBooks', \"Children's eBooks\", 'Kindle eBooks', 'Literature & Fiction', 'Kindle eBooks', 'Mystery, Thriller & Suspense', 'Kindle eBooks', 'Romance', 'Kindle eBooks', 'Romance', 'Kindle eBooks', 'Literature & Fiction', 'Kindle eBooks', 'Science Fiction & Fantasy', 'Kindle eBooks', 'Teen & Young Adult', 'Kindle eBooks', 'Literature & Fiction', 'Kindle eBooks', 'Romance', 'Kindle eBooks', 'Literature & Fiction', 'Kindle eBooks', 'Romance', 'Kindle eBooks', 'Literature & Fiction', 'Kindle eBooks', 'Romance', 'Kindle eBooks', 'Literature & Fiction', 'Kindle eBooks', 'Literature & Fiction', 'Kindle eBooks', 'Literature & Fiction', 'Kindle eBooks', 'Literature & Fiction', 'Kindle eBooks', 'Romance', 'Kindle eBooks', 'Mystery, Thriller & Suspense', 'Kindle eBooks', 'Literature & Fiction', 'Kindle eBooks', 'Literature & Fiction', 'Kindle eBooks', 'Education & Teaching', 'Kindle eBooks', 'Literature & Fiction', 'Kindle eBooks', 'Science Fiction & Fantasy', 'Kindle eBooks', 'Romance', 'Kindle eBooks', 'Literature & Fiction', 'Kindle eBooks', 'Literature & Fiction', 'Kindle eBooks', 'Literature & Fiction', 'Kindle eBooks', 'Romance', 'Kindle eBooks', 'Literature & Fiction', 'Kindle eBooks', 'Romance', 'Kindle eBooks', 'Romance', 'Kindle eBooks', 'Politics & Social Sciences', 'Kindle eBooks', 'Literature & Fiction', 'Kindle eBooks', 'Science Fiction & Fantasy', 'Kindle eBooks', 'Literature & Fiction', 'Kindle eBooks', 'Literature & Fiction', 'Kindle eBooks', 'Romance', 'Kindle eBooks', 'Romance', 'Kindle eBooks', 'Literature & Fiction', 'Kindle eBooks', 'Literature & Fiction', 'Kindle eBooks', 'Literature & Fiction', 'Kindle eBooks', 'Literature & Fiction', 'Kindle eBooks', 'Romance', 'Kindle eBooks', 'Literature & Fiction', 'Kindle eBooks', 'Mystery, Thriller & Suspense', 'Kindle eBooks', 'Religion & Spirituality', 'Kindle eBooks', 'Reference', 'Kindle eBooks', 'Literature & Fiction', 'Kindle eBooks', 'Literature & Fiction', 'Kindle eBooks', 'Science Fiction & Fantasy', 'Kindle eBooks', 'Literature & Fiction', 'Kindle eBooks', 'Literature & Fiction', 'Kindle eBooks', 'Literature & Fiction', 'Kindle eBooks', 'Literature & Fiction', 'Kindle eBooks', 'Romance', 'Kindle eBooks', 'Literature & Fiction', 'Kindle eBooks', 'Literature & Fiction', 'Kindle eBooks', 'Romance', 'Kindle eBooks', 'Literature & Fiction', 'Kindle eBooks', 'Teen & Young Adult', 'Kindle eBooks', 'Literature & Fiction', 'Kindle eBooks', 'Literature & Fiction', 'Kindle eBooks', 'Romance', 'Kindle eBooks', 'Literature & Fiction', 'Kindle eBooks', 'Biographies & Memoirs', 'Kindle eBooks', 'Cookbooks, Food & Wine', 'Kindle eBooks', 'Literature & Fiction', 'Kindle eBooks', \"Children's eBooks\", 'Kindle eBooks', 'Literature & Fiction', 'Kindle eBooks', 'Literature & Fiction', 'Kindle eBooks', 'Romance', 'Kindle eBooks', 'Literature & Fiction', 'Kindle eBooks', 'Literature & Fiction', 'Kindle eBooks', 'Literature & Fiction', 'Kindle eBooks', 'Science Fiction & Fantasy', 'Kindle eBooks', 'Romance', 'Kindle eBooks', 'Romance', 'Kindle eBooks', 'Literature & Fiction', 'Kindle eBooks', 'Literature & Fiction', 'Kindle eBooks', 'Romance', 'Kindle eBooks', 'Literature & Fiction', 'Kindle eBooks', 'Literature & Fiction', 'Kindle eBooks', 'Literature & Fiction', 'Kindle eBooks', 'Literature & Fiction', 'Kindle eBooks', 'Literature & Fiction', 'Kindle eBooks', 'Literature & Fiction', 'Kindle eBooks', 'Literature & Fiction', 'Kindle eBooks', 'Literature & Fiction', 'Kindle eBooks', 'Literature & Fiction', 'Kindle eBooks', 'Literature & Fiction', 'Kindle eBooks', 'Literature & Fiction', 'Kindle eBooks', 'Literature & Fiction', 'Kindle eBooks', 'Literature & Fiction', 'Kindle eBooks', 'Literature & Fiction', 'Kindle eBooks', 'Mystery, Thriller & Suspense', 'Kindle eBooks', 'Literature & Fiction', 'Kindle eBooks', 'Romance', 'Kindle eBooks', 'Literature & Fiction', 'Kindle eBooks', 'Literature & Fiction', 'Kindle eBooks', 'Literature & Fiction', 'Kindle eBooks', 'Literature & Fiction', 'Kindle eBooks', 'Mystery, Thriller & Suspense', 'Kindle eBooks', 'Literature & Fiction', 'Kindle eBooks', 'Literature & Fiction', 'Kindle eBooks', 'Literature & Fiction', 'Kindle eBooks', 'Mystery, Thriller & Suspense', 'Kindle eBooks', 'Literature & Fiction', 'Kindle eBooks', 'Mystery, Thriller & Suspense', 'Kindle eBooks', 'Literature & Fiction', 'Kindle eBooks', 'Romance', 'Kindle eBooks', 'Science Fiction & Fantasy', 'Kindle eBooks', 'Romance', 'Kindle eBooks', 'Literature & Fiction', 'Kindle eBooks', 'Romance', 'Kindle eBooks', 'Literature & Fiction', 'Kindle eBooks', 'Literature & Fiction', 'Kindle eBooks', 'Romance', 'Kindle eBooks', 'Literature & Fiction', 'Kindle eBooks', 'Romance', 'Kindle eBooks', 'Literature & Fiction', 'Kindle eBooks', 'Literature & Fiction', 'Kindle eBooks', 'Romance', 'Kindle eBooks', 'Literature & Fiction', 'Kindle eBooks', 'Literature & Fiction', 'Kindle eBooks', 'Teen & Young Adult', 'Kindle eBooks', 'Literature & Fiction', 'Kindle eBooks', 'Teen & Young Adult', 'Kindle eBooks', 'Politics & Social Sciences', 'Kindle eBooks', 'Mystery, Thriller & Suspense', 'Kindle eBooks', 'Cookbooks, Food & Wine', 'Kindle eBooks', 'Literature & Fiction', 'Kindle eBooks', 'Literature & Fiction', 'Kindle eBooks', 'Mystery, Thriller & Suspense', 'Kindle eBooks', 'Religion & Spirituality', 'Kindle eBooks', 'Literature & Fiction', 'Kindle eBooks', 'Literature & Fiction', 'Kindle eBooks', 'Literature & Fiction', 'Kindle eBooks', 'Romance', 'Kindle eBooks', 'Romance', 'Kindle eBooks', 'Literature & Fiction', 'Kindle eBooks', 'Science Fiction & Fantasy', 'Kindle eBooks', 'Romance', 'Kindle eBooks', 'Health, Fitness & Dieting', 'Kindle eBooks', 'Literature & Fiction', 'Kindle eBooks', 'Travel', 'Kindle eBooks', 'Romance', 'Kindle eBooks', 'Literature & Fiction', 'Kindle eBooks', 'Mystery, Thriller & Suspense', 'Kindle eBooks', 'Teen & Young Adult', 'Kindle eBooks', 'Literature & Fiction', 'Kindle eBooks', 'Mystery, Thriller & Suspense', 'Kindle eBooks', 'Literature & Fiction', 'Kindle eBooks', 'Literature & Fiction', 'Kindle eBooks', 'Crafts, Hobbies & Home', 'Kindle eBooks', 'Literature & Fiction', 'Kindle eBooks', 'Romance', 'Kindle eBooks', 'Romance', 'Kindle eBooks', 'Science Fiction & Fantasy', 'Kindle eBooks', 'Literature & Fiction', 'Kindle eBooks', 'Literature & Fiction', 'Kindle eBooks', 'Literature & Fiction', 'Kindle eBooks', 'Romance', 'Kindle eBooks', 'Romance', 'Kindle eBooks', 'Romance', 'Kindle eBooks', 'Literature & Fiction', 'Kindle eBooks', 'Mystery, Thriller & Suspense', 'Kindle eBooks', 'Romance', 'Kindle eBooks', 'Romance', 'Kindle eBooks', 'Romance', 'Kindle eBooks', 'Mystery, Thriller & Suspense', 'Kindle eBooks', 'Literature & Fiction', 'Kindle eBooks', 'Literature & Fiction', 'Kindle eBooks', 'Business & Money', 'Kindle eBooks', 'Romance', 'Kindle eBooks', 'Teen & Young Adult', 'Kindle eBooks', 'Literature & Fiction', 'Kindle eBooks', 'Literature & Fiction', 'Kindle eBooks', 'Literature & Fiction', 'Kindle eBooks', 'Mystery, Thriller & Suspense', 'Kindle eBooks', 'Romance', 'Kindle eBooks', 'Teen & Young Adult', 'Kindle eBooks', 'Romance', 'Kindle eBooks', 'Literature & Fiction', 'Kindle eBooks', 'Romance', 'Kindle eBooks', 'Romance', 'Kindle eBooks', 'Literature & Fiction', 'Kindle eBooks', 'Literature & Fiction', 'Kindle eBooks', 'Romance', 'Kindle eBooks', 'Romance', 'Kindle eBooks', 'Romance', 'Kindle eBooks', 'Literature & Fiction', 'Kindle eBooks', 'Romance', 'Kindle eBooks', 'Romance', 'Kindle eBooks', 'Science Fiction & Fantasy', 'Kindle eBooks', 'Literature & Fiction', 'Kindle eBooks', 'Teen & Young Adult', 'Kindle eBooks', 'Religion & Spirituality', 'Kindle eBooks', 'Literature & Fiction', 'Kindle eBooks', 'Romance', 'Kindle eBooks', 'Romance', 'Kindle eBooks', 'Romance', 'Kindle eBooks', 'Romance', 'Kindle eBooks', 'Religion & Spirituality', 'Kindle eBooks', 'Romance', 'Kindle eBooks', 'Literature & Fiction', 'Kindle eBooks', 'Literature & Fiction', 'Kindle eBooks', 'Business & Money', 'Kindle eBooks', 'Literature & Fiction', 'Kindle eBooks', 'Religion & Spirituality', 'Kindle eBooks', 'Romance', 'Kindle eBooks', 'Romance', 'Kindle eBooks', 'Literature & Fiction', 'Kindle eBooks', 'Literature & Fiction', 'Kindle eBooks', 'Cookbooks, Food & Wine', 'Kindle eBooks', 'Science Fiction & Fantasy', 'Kindle eBooks', 'Romance', 'Kindle eBooks', 'Literature & Fiction', 'Kindle eBooks', 'Literature & Fiction', 'Kindle eBooks', 'Mystery, Thriller & Suspense', 'Kindle eBooks', 'Literature & Fiction', 'Kindle eBooks', 'Literature & Fiction', 'Kindle eBooks', 'Literature & Fiction', 'Kindle eBooks', 'Teen & Young Adult', 'Kindle eBooks', 'Literature & Fiction', 'Kindle eBooks', 'Romance', 'Kindle eBooks', 'Literature & Fiction', 'Kindle eBooks', 'Literature & Fiction', 'Kindle eBooks', 'Religion & Spirituality', 'Kindle eBooks', 'Literature & Fiction', 'Kindle eBooks', 'Literature & Fiction', 'Kindle eBooks', 'Teen & Young Adult', 'Kindle eBooks', 'Religion & Spirituality', 'Kindle eBooks', 'Literature & Fiction', 'Kindle eBooks', 'Romance', 'Kindle eBooks', 'Mystery, Thriller & Suspense', 'Kindle eBooks', 'Mystery, Thriller & Suspense', 'Kindle eBooks', 'Literature & Fiction', 'Kindle eBooks', 'Literature & Fiction', 'Kindle eBooks', 'Literature & Fiction', 'Kindle eBooks', 'Romance', 'Kindle eBooks', 'Literature & Fiction', 'Kindle eBooks', 'Mystery, Thriller & Suspense', 'Kindle eBooks', \"Children's eBooks\", 'Kindle eBooks', 'Literature & Fiction', 'Kindle eBooks', 'Literature & Fiction', 'Kindle eBooks', 'Literature & Fiction', 'Kindle eBooks', 'Literature & Fiction', 'Kindle eBooks', 'Literature & Fiction', 'Kindle eBooks', 'Biographies & Memoirs', 'Kindle eBooks', 'Romance', 'Kindle eBooks', 'Religion & Spirituality', 'Kindle eBooks', 'Literature & Fiction', 'Kindle eBooks', 'Cookbooks, Food & Wine', 'Kindle eBooks', 'Literature & Fiction', 'Kindle eBooks', 'Literature & Fiction', 'Kindle eBooks', 'Literature & Fiction', 'Kindle eBooks', 'Literature & Fiction', 'Kindle eBooks', 'Science Fiction & Fantasy', 'Kindle eBooks', 'Literature & Fiction', 'Kindle eBooks', 'Literature & Fiction', 'Kindle eBooks', 'Literature & Fiction', 'Kindle eBooks', 'Religion & Spirituality', 'Kindle eBooks', 'Literature & Fiction', 'Kindle eBooks', 'Literature & Fiction', 'Kindle eBooks', 'Health, Fitness & Dieting', 'Kindle eBooks', 'Literature & Fiction', 'Kindle eBooks', 'Literature & Fiction', 'Kindle eBooks', 'Romance', 'Kindle eBooks', 'Literature & Fiction', 'Kindle eBooks', 'Romance', 'Kindle eBooks', 'Mystery, Thriller & Suspense', 'Kindle eBooks', 'Romance', 'Kindle eBooks', 'Literature & Fiction', 'Kindle eBooks', 'Literature & Fiction', 'Kindle eBooks', 'Literature & Fiction', 'Kindle eBooks', 'Business & Money', 'Kindle eBooks', 'Literature & Fiction', 'Kindle eBooks', 'Literature & Fiction', 'Kindle eBooks', 'Literature & Fiction', 'Kindle eBooks', 'Romance', 'Kindle eBooks', 'Literature & Fiction', 'Kindle eBooks', 'Literature & Fiction', 'Kindle eBooks', 'Literature & Fiction', 'Kindle eBooks', 'Romance', 'Kindle eBooks', 'Romance', 'Kindle eBooks', 'Science Fiction & Fantasy', 'Kindle eBooks', 'Literature & Fiction', 'Kindle eBooks', 'Literature & Fiction', 'Kindle eBooks', 'Religion & Spirituality', 'Kindle eBooks', 'Literature & Fiction', 'Kindle eBooks', 'Literature & Fiction', 'Kindle eBooks', 'Literature & Fiction', 'Kindle eBooks', 'Romance', 'Kindle eBooks', 'Literature & Fiction', 'Kindle eBooks', 'Science Fiction & Fantasy', 'Kindle eBooks', 'Religion & Spirituality', 'Kindle eBooks', 'Romance', 'Kindle eBooks', 'Mystery, Thriller & Suspense', 'Kindle eBooks', 'Science Fiction & Fantasy', 'Kindle eBooks', 'Literature & Fiction', 'Kindle eBooks', 'Literature & Fiction', 'Kindle eBooks', 'Literature & Fiction', 'Kindle eBooks', 'Romance', 'Kindle eBooks', 'Romance', 'Kindle eBooks', 'Religion & Spirituality', 'Kindle eBooks', 'Romance', 'Kindle eBooks', 'Literature & Fiction', 'Kindle eBooks', 'Romance', 'Kindle eBooks', 'Literature & Fiction', 'Kindle eBooks', 'Romance', 'Kindle eBooks', 'Literature & Fiction', 'Kindle eBooks', 'Literature & Fiction', 'Kindle eBooks', 'Romance', 'Kindle eBooks', 'Religion & Spirituality', 'Kindle eBooks', 'Romance', 'Kindle eBooks', 'Literature & Fiction', 'Kindle eBooks', 'Literature & Fiction', 'Kindle eBooks', 'Literature & Fiction', 'Kindle eBooks', 'Literature & Fiction', 'Kindle eBooks', 'Literature & Fiction', 'Kindle eBooks', 'Literature & Fiction', 'Kindle eBooks', 'Literature & Fiction', 'Kindle eBooks', 'Romance', 'Kindle eBooks', 'Literature & Fiction', 'Kindle eBooks', 'Literature & Fiction', 'Kindle eBooks', 'Teen & Young Adult', 'Kindle eBooks', 'Religion & Spirituality', 'Kindle eBooks', 'Literature & Fiction', 'Kindle eBooks', 'Literature & Fiction', 'Kindle eBooks', 'Romance', 'Kindle eBooks', 'Literature & Fiction', 'Kindle eBooks', 'Mystery, Thriller & Suspense', 'Kindle eBooks', 'Literature & Fiction', 'Kindle eBooks', 'Teen & Young Adult', 'Kindle eBooks', 'Romance', 'Kindle eBooks', 'Literature & Fiction', 'Kindle eBooks', 'Mystery, Thriller & Suspense', 'Kindle eBooks', 'Mystery, Thriller & Suspense', 'Kindle eBooks', 'Mystery, Thriller & Suspense', 'Kindle eBooks', \"Children's eBooks\", 'Kindle eBooks', \"Children's eBooks\", 'Kindle eBooks', 'Literature & Fiction', 'Kindle eBooks', 'Literature & Fiction', 'Kindle eBooks', 'Religion & Spirituality', 'Kindle eBooks', 'Literature & Fiction', 'Kindle eBooks', 'Literature & Fiction', 'Kindle eBooks', 'Literature & Fiction', 'Kindle eBooks', 'Religion & Spirituality', 'Kindle eBooks', 'Romance', 'Kindle eBooks', 'Literature & Fiction', 'Kindle eBooks', 'Literature & Fiction', 'Kindle eBooks', 'Literature & Fiction', 'Kindle eBooks', 'Romance', 'Kindle eBooks', 'Literature & Fiction', 'Kindle eBooks', 'Romance', 'Kindle eBooks', 'Romance', 'Kindle eBooks', 'Literature & Fiction', 'Kindle eBooks', 'Romance', 'Kindle eBooks', 'Literature & Fiction', 'Kindle eBooks', 'Literature & Fiction', 'Kindle eBooks', 'Literature & Fiction', 'Kindle eBooks', 'Literature & Fiction', 'Kindle eBooks', 'Literature & Fiction', 'Kindle eBooks', 'Literature & Fiction', 'Kindle eBooks', 'Biographies & Memoirs', 'Kindle eBooks', 'Literature & Fiction', 'Kindle eBooks', 'Health, Fitness & Dieting', 'Kindle eBooks', 'Science Fiction & Fantasy', 'Kindle eBooks', 'Romance', 'Kindle eBooks', 'Romance', 'Kindle eBooks', 'Teen & Young Adult', 'Kindle eBooks', 'Romance', 'Kindle eBooks', 'Health, Fitness & Dieting', 'Kindle eBooks', 'Literature & Fiction', 'Kindle eBooks', 'Literature & Fiction', 'Kindle eBooks', 'Literature & Fiction', 'Kindle eBooks', 'Literature & Fiction', 'Kindle eBooks', 'Literature & Fiction', 'Kindle eBooks', 'Romance', 'Kindle eBooks', 'Business & Money', 'Kindle eBooks', 'Literature & Fiction', 'Kindle eBooks', 'Literature & Fiction', 'Kindle eBooks', 'Literature & Fiction', 'Kindle eBooks', 'Literature & Fiction', 'Kindle eBooks', 'Romance', 'Kindle eBooks', 'Literature & Fiction', 'Kindle eBooks', 'Literature & Fiction', 'Kindle eBooks', 'Literature & Fiction', 'Kindle eBooks', 'Literature & Fiction', 'Kindle eBooks', 'Literature & Fiction', 'Kindle eBooks', 'Literature & Fiction', 'Kindle eBooks', 'Romance', 'Kindle eBooks', 'Literature & Fiction', 'Kindle eBooks', 'Science Fiction & Fantasy', 'Kindle eBooks', 'Science Fiction & Fantasy', 'Kindle eBooks', 'Romance', 'Kindle eBooks', 'Literature & Fiction', 'Kindle eBooks', 'Romance', 'Kindle eBooks', 'Romance', 'Kindle eBooks', 'Romance', 'Kindle eBooks', 'Science Fiction & Fantasy', 'Kindle eBooks', 'Science Fiction & Fantasy', 'Kindle eBooks', 'Literature & Fiction', 'Kindle eBooks', 'Romance', 'Kindle eBooks', 'Literature & Fiction', 'Kindle eBooks', 'Literature & Fiction', 'Kindle eBooks', 'Literature & Fiction', 'Kindle eBooks', 'Science Fiction & Fantasy', 'Kindle eBooks', 'Literature & Fiction', 'Kindle eBooks', 'Science Fiction & Fantasy', 'Kindle eBooks', 'Literature & Fiction', 'Kindle eBooks', 'Religion & Spirituality', 'Kindle eBooks', 'Literature & Fiction', 'Kindle eBooks', 'Romance', 'Kindle eBooks', 'Romance', 'Kindle eBooks', 'Science Fiction & Fantasy', 'Kindle eBooks', 'Romance', 'Kindle eBooks', 'Romance', 'Kindle eBooks', 'Romance', 'Kindle eBooks', 'Mystery, Thriller & Suspense', 'Kindle eBooks', 'Literature & Fiction', 'Kindle eBooks', 'Literature & Fiction', 'Kindle eBooks', 'Romance', 'Kindle eBooks', 'Science Fiction & Fantasy', 'Kindle eBooks', 'Religion & Spirituality', 'Kindle eBooks', 'Literature & Fiction', 'Kindle eBooks', 'Science Fiction & Fantasy', 'Kindle eBooks', 'Literature & Fiction', 'Kindle eBooks', 'Romance', 'Kindle eBooks', 'Mystery, Thriller & Suspense', 'Kindle eBooks', 'Romance', 'Kindle eBooks', 'Romance', 'Kindle eBooks', 'Romance', 'Kindle eBooks', 'Mystery, Thriller & Suspense', 'Kindle eBooks', 'Literature & Fiction', 'Kindle eBooks', 'Romance', 'Kindle eBooks', 'Romance', 'Kindle eBooks', 'Literature & Fiction', 'Kindle eBooks', 'Literature & Fiction', 'Kindle eBooks', 'Literature & Fiction', 'Kindle eBooks', 'Literature & Fiction', 'Kindle eBooks', 'Romance', 'Kindle eBooks', 'Literature & Fiction', 'Kindle eBooks', 'Teen & Young Adult', 'Kindle eBooks', 'Science Fiction & Fantasy', 'Kindle eBooks', 'Romance', 'Kindle eBooks', 'Teen & Young Adult', 'Kindle eBooks', 'Mystery, Thriller & Suspense', 'Kindle eBooks', 'Romance', 'Kindle eBooks', 'Literature & Fiction', 'Kindle eBooks', 'Teen & Young Adult', 'Kindle eBooks', 'Mystery, Thriller & Suspense', 'Kindle eBooks', 'Literature & Fiction', 'Kindle eBooks', 'Literature & Fiction', 'Kindle eBooks', 'Romance', 'Kindle eBooks', 'Literature & Fiction', 'Kindle eBooks', 'Mystery, Thriller & Suspense', 'Kindle eBooks', 'Literature & Fiction', 'Kindle eBooks', 'Literature & Fiction', 'Kindle eBooks', 'Literature & Fiction', 'Kindle eBooks', 'Literature & Fiction', 'Kindle eBooks', 'Mystery, Thriller & Suspense', 'Kindle eBooks', 'Literature & Fiction', 'Kindle eBooks', 'Mystery, Thriller & Suspense', 'Kindle eBooks', 'Romance', 'Kindle eBooks', 'Romance', 'Kindle eBooks', 'Literature & Fiction', 'Kindle eBooks', 'Literature & Fiction', 'Kindle eBooks', 'Literature & Fiction', 'Kindle eBooks', 'Literature & Fiction', 'Kindle eBooks', 'Literature & Fiction', 'Kindle eBooks', 'Literature & Fiction', 'Kindle eBooks', 'Romance', 'Kindle eBooks', 'Romance', 'Kindle eBooks', 'Romance', 'Kindle eBooks', 'Literature & Fiction', 'Kindle eBooks', 'Literature & Fiction', 'Kindle eBooks', 'Romance', 'Kindle eBooks', 'Science Fiction & Fantasy', 'Kindle eBooks', 'Literature & Fiction', 'Kindle eBooks', 'Science Fiction & Fantasy', 'Kindle eBooks', 'Literature & Fiction', 'Kindle eBooks', 'Romance', 'Kindle eBooks', 'Literature & Fiction', 'Kindle eBooks', 'Literature & Fiction', 'Kindle eBooks', 'Literature & Fiction', 'Kindle eBooks', 'Mystery, Thriller & Suspense', 'Kindle eBooks', 'Literature & Fiction', 'Kindle eBooks', 'Romance', 'Kindle eBooks', 'Mystery, Thriller & Suspense', 'Kindle eBooks', 'Science Fiction & Fantasy', 'Kindle eBooks', 'Literature & Fiction', 'Kindle eBooks', 'Romance', 'Kindle eBooks', 'Science Fiction & Fantasy', 'Kindle eBooks', 'Literature & Fiction', 'Kindle eBooks', 'Literature & Fiction', 'Kindle eBooks', 'Teen & Young Adult', 'Kindle eBooks', 'Literature & Fiction', 'Kindle eBooks', 'Literature & Fiction', 'Kindle eBooks', 'Literature & Fiction', 'Kindle eBooks', 'Teen & Young Adult', 'Kindle eBooks', 'Science Fiction & Fantasy', 'Kindle eBooks', \"Children's eBooks\", 'Kindle eBooks', 'Literature & Fiction', 'Kindle eBooks', 'Literature & Fiction', 'Kindle eBooks', 'Literature & Fiction', 'Kindle eBooks', 'Literature & Fiction', 'Kindle eBooks', 'Science Fiction & Fantasy', 'Kindle eBooks', 'Mystery, Thriller & Suspense', 'Kindle eBooks', 'Literature & Fiction', 'Kindle eBooks', 'Romance', 'Kindle eBooks', 'Romance', 'Kindle eBooks', 'Literature & Fiction', 'Kindle eBooks', 'Mystery, Thriller & Suspense', 'Kindle eBooks', 'Literature & Fiction', 'Kindle eBooks', 'Science Fiction & Fantasy', 'Kindle eBooks', 'Health, Fitness & Dieting', 'Kindle eBooks', 'Literature & Fiction', 'Kindle eBooks', 'Literature & Fiction', 'Kindle eBooks', 'Literature & Fiction', 'Kindle eBooks', 'Romance', 'Kindle eBooks', 'Mystery, Thriller & Suspense', 'Kindle eBooks', 'Literature & Fiction', 'Kindle eBooks', 'Literature & Fiction', 'Kindle eBooks', 'Politics & Social Sciences', 'Kindle eBooks', 'Romance', 'Kindle eBooks', 'Romance', 'Kindle eBooks', 'Science Fiction & Fantasy', 'Kindle eBooks', 'Literature & Fiction', 'Kindle eBooks', 'Mystery, Thriller & Suspense', 'Kindle eBooks', 'Literature & Fiction', 'Kindle eBooks', 'Romance', 'Kindle eBooks', 'Literature & Fiction', 'Kindle eBooks', 'Mystery, Thriller & Suspense', 'Kindle eBooks', 'Religion & Spirituality', 'Kindle eBooks', 'Religion & Spirituality', 'Kindle eBooks', 'Literature & Fiction', 'Kindle eBooks', 'Literature & Fiction', 'Kindle eBooks', 'Literature & Fiction', 'Kindle eBooks', 'Literature & Fiction', 'Kindle eBooks', 'Literature & Fiction', 'Kindle eBooks', 'Literature & Fiction', 'Kindle eBooks', 'Romance', 'Kindle eBooks', 'Romance', 'Kindle eBooks', 'Literature & Fiction', 'Kindle eBooks', 'Romance', 'Kindle eBooks', 'Literature & Fiction', 'Kindle eBooks', 'Romance', 'Kindle eBooks', 'Literature & Fiction', 'Kindle eBooks', 'Literature & Fiction', 'Kindle eBooks', 'Religion & Spirituality', 'Kindle eBooks', 'Literature & Fiction', 'Kindle eBooks', 'Romance', 'Kindle eBooks', 'Mystery, Thriller & Suspense', 'Kindle eBooks', 'Romance', 'Kindle eBooks', 'Romance', 'Kindle eBooks', 'Religion & Spirituality', 'Kindle eBooks', 'Literature & Fiction', 'Kindle eBooks', 'Literature & Fiction', 'Kindle eBooks', 'Literature & Fiction', 'Kindle eBooks', 'Literature & Fiction', 'Kindle eBooks', 'Literature & Fiction', 'Kindle eBooks', 'Mystery, Thriller & Suspense', 'Kindle eBooks', 'Romance', 'Kindle eBooks', 'Literature & Fiction', 'Kindle eBooks', 'Literature & Fiction', 'Kindle eBooks', 'Literature & Fiction', 'Kindle eBooks', 'Romance', 'Kindle eBooks', 'Literature & Fiction', 'Kindle eBooks', 'Literature & Fiction', 'Kindle eBooks', 'Mystery, Thriller & Suspense', 'Kindle eBooks', 'Romance', 'Kindle eBooks', 'Literature & Fiction', 'Kindle eBooks', 'Literature & Fiction', 'Kindle eBooks', 'Romance', 'Kindle eBooks', 'Literature & Fiction', 'Kindle eBooks', 'Literature & Fiction', 'Kindle eBooks', 'Romance', 'Kindle eBooks', 'Literature & Fiction', 'Kindle eBooks', 'Science & Math', 'Kindle eBooks', 'Literature & Fiction', 'Kindle eBooks', 'Mystery, Thriller & Suspense', 'Kindle eBooks', 'Religion & Spirituality', 'Kindle eBooks', 'Literature & Fiction', 'Kindle eBooks', 'Literature & Fiction', 'Kindle eBooks', 'Mystery, Thriller & Suspense', 'Kindle eBooks', 'Literature & Fiction', 'Kindle eBooks', 'Literature & Fiction', 'Kindle eBooks', 'Literature & Fiction', 'Kindle eBooks', 'Romance', 'Kindle eBooks', 'Literature & Fiction', 'Kindle eBooks', 'Literature & Fiction', 'Kindle eBooks', 'Romance', 'Kindle eBooks', 'Literature & Fiction', 'Kindle eBooks', 'Science Fiction & Fantasy', 'Kindle eBooks', 'Religion & Spirituality', 'Kindle eBooks', 'Mystery, Thriller & Suspense', 'Kindle eBooks', 'Literature & Fiction', 'Kindle eBooks', 'Romance', 'Kindle eBooks', 'Romance', 'Kindle eBooks', 'Mystery, Thriller & Suspense', 'Kindle eBooks', 'Science Fiction & Fantasy', 'Kindle eBooks', 'Religion & Spirituality', 'Kindle eBooks', 'Literature & Fiction', 'Kindle eBooks', 'Romance', 'Kindle eBooks', 'Romance', 'Kindle eBooks', 'Teen & Young Adult', 'Kindle eBooks', 'Literature & Fiction', 'Kindle eBooks', \"Children's eBooks\", 'Kindle eBooks', 'Health, Fitness & Dieting', 'Kindle eBooks', 'Teen & Young Adult', 'Kindle eBooks', 'Science Fiction & Fantasy', 'Kindle eBooks', 'Literature & Fiction', 'Kindle eBooks', 'Science Fiction & Fantasy', 'Kindle eBooks', 'Literature & Fiction', 'Kindle eBooks', 'Literature & Fiction', 'Kindle eBooks', 'Literature & Fiction', 'Kindle eBooks', 'Literature & Fiction', 'Kindle eBooks', 'Literature & Fiction', 'Kindle eBooks', 'Romance', 'Kindle eBooks', 'Literature & Fiction', 'Kindle eBooks', 'Romance', 'Kindle eBooks', 'Romance', 'Kindle eBooks', 'Literature & Fiction', 'Kindle eBooks', 'Romance', 'Kindle eBooks', 'Religion & Spirituality', 'Kindle eBooks', 'Literature & Fiction', 'Kindle eBooks', 'Romance', 'Kindle eBooks', 'Literature & Fiction', 'Kindle eBooks', 'Literature & Fiction', 'Kindle eBooks', \"Children's eBooks\", 'Kindle eBooks', 'Literature & Fiction', 'Kindle eBooks', 'Science Fiction & Fantasy', 'Kindle eBooks', 'Literature & Fiction', 'Kindle eBooks', 'Literature & Fiction', 'Kindle eBooks', 'Romance', 'Kindle eBooks', 'Mystery, Thriller & Suspense', 'Kindle eBooks', 'Romance', 'Kindle eBooks', 'Romance', 'Kindle eBooks', 'Mystery, Thriller & Suspense', 'Kindle eBooks', 'Literature & Fiction', 'Kindle eBooks', 'Science Fiction & Fantasy', 'Kindle eBooks', 'Literature & Fiction', 'Kindle eBooks', 'Business & Money', 'Kindle eBooks', 'Literature & Fiction', 'Kindle eBooks', 'Literature & Fiction', 'Kindle eBooks', 'Literature & Fiction', 'Kindle eBooks', 'Romance', 'Kindle eBooks', 'Literature & Fiction', 'Kindle eBooks', 'Romance', 'Kindle eBooks', 'Literature & Fiction', 'Kindle eBooks', 'Literature & Fiction', 'Kindle eBooks', 'Mystery, Thriller & Suspense', 'Kindle eBooks', 'Literature & Fiction', 'Kindle eBooks', 'Literature & Fiction', 'Kindle eBooks', 'Literature & Fiction', 'Kindle eBooks', 'Mystery, Thriller & Suspense', 'Kindle eBooks', 'Literature & Fiction', 'Kindle eBooks', 'Literature & Fiction', 'Kindle eBooks', 'Literature & Fiction', 'Kindle eBooks', 'Romance', 'Kindle eBooks', 'Literature & Fiction', 'Kindle eBooks', 'Literature & Fiction', 'Kindle eBooks', 'Romance', 'Kindle eBooks', 'Literature & Fiction', 'Kindle eBooks', 'Literature & Fiction', 'Kindle eBooks', 'Literature & Fiction', 'Kindle eBooks', 'Literature & Fiction', 'Kindle eBooks', 'Literature & Fiction', 'Kindle eBooks', 'Literature & Fiction', 'Kindle eBooks', 'Literature & Fiction', 'Kindle eBooks', 'Literature & Fiction', 'Kindle eBooks', 'Romance', 'Kindle eBooks', 'Literature & Fiction', 'Kindle eBooks', 'Literature & Fiction', 'Kindle eBooks', 'Science Fiction & Fantasy', 'Kindle eBooks', 'Religion & Spirituality', 'Kindle eBooks', 'Romance', 'Kindle eBooks', 'Romance', 'Kindle eBooks', 'Science Fiction & Fantasy', 'Kindle eBooks', 'Romance', 'Kindle eBooks', 'Literature & Fiction', 'Kindle eBooks', 'Literature & Fiction', 'Kindle eBooks', 'Literature & Fiction', 'Kindle eBooks', 'Religion & Spirituality', 'Kindle eBooks', 'Romance', 'Kindle eBooks', 'Romance', 'Kindle eBooks', 'Literature & Fiction', 'Kindle eBooks', 'Religion & Spirituality', 'Kindle eBooks', 'Literature & Fiction', 'Kindle eBooks', 'Literature & Fiction', 'Kindle eBooks', 'Health, Fitness & Dieting', 'Kindle eBooks', 'Literature & Fiction', 'Kindle eBooks', 'Teen & Young Adult', 'Kindle eBooks', 'Biographies & Memoirs', 'Kindle eBooks', 'Literature & Fiction', 'Kindle eBooks', 'Literature & Fiction', 'Kindle eBooks', 'Religion & Spirituality', 'Kindle eBooks', 'Literature & Fiction', 'Kindle eBooks', 'Literature & Fiction', 'Kindle eBooks', 'Literature & Fiction', 'Kindle eBooks', 'Literature & Fiction', 'Kindle eBooks', 'Computers & Technology', 'Kindle eBooks', 'Literature & Fiction', 'Kindle eBooks', 'Literature & Fiction', 'Kindle eBooks', 'Literature & Fiction', 'Kindle eBooks', 'Literature & Fiction', 'Kindle eBooks', 'Literature & Fiction', 'Kindle eBooks', 'Romance', 'Kindle eBooks', 'Literature & Fiction', 'Kindle eBooks', 'Religion & Spirituality', 'Kindle eBooks', 'Literature & Fiction', 'Kindle eBooks', 'Romance', 'Kindle eBooks', 'Literature & Fiction', 'Kindle eBooks', 'Literature & Fiction', 'Kindle eBooks', 'Literature & Fiction', 'Kindle eBooks', 'Literature & Fiction', 'Kindle eBooks', 'Literature & Fiction', 'Kindle eBooks', 'Romance', 'Kindle eBooks', 'Literature & Fiction', 'Kindle eBooks', 'Science Fiction & Fantasy', 'Kindle eBooks', 'Literature & Fiction', 'Kindle eBooks', 'Romance', 'Kindle eBooks', 'Mystery, Thriller & Suspense', 'Kindle eBooks', 'Romance', 'Kindle eBooks', 'Reference', 'Kindle eBooks', 'Romance', 'Kindle eBooks', 'Biographies & Memoirs', 'Kindle eBooks', 'Science Fiction & Fantasy', 'Kindle eBooks', 'Literature & Fiction', 'Kindle eBooks', 'Literature & Fiction', 'Kindle eBooks', 'Literature & Fiction', 'Kindle eBooks', 'Literature & Fiction', 'Kindle eBooks', 'Literature & Fiction', 'Kindle eBooks', 'Romance', 'Kindle eBooks', 'Literature & Fiction', 'Kindle eBooks', 'Literature & Fiction', 'Kindle eBooks', 'Mystery, Thriller & Suspense', 'Kindle eBooks', 'Science Fiction & Fantasy', 'Kindle eBooks', 'Literature & Fiction', 'Kindle eBooks', 'Mystery, Thriller & Suspense', 'Kindle eBooks', 'Literature & Fiction', 'Kindle eBooks', 'Romance', 'Kindle eBooks', 'Romance', 'Kindle eBooks', 'Literature & Fiction', 'Kindle eBooks', 'Mystery, Thriller & Suspense', 'Kindle eBooks', 'Romance', 'Kindle eBooks', 'Science Fiction & Fantasy', 'Kindle eBooks', 'Mystery, Thriller & Suspense', 'Kindle eBooks', 'Literature & Fiction', 'Kindle eBooks', 'Literature & Fiction', 'Kindle eBooks', 'Literature & Fiction', 'Kindle eBooks', 'Literature & Fiction', 'Kindle eBooks', 'Health, Fitness & Dieting', 'Kindle eBooks', 'Mystery, Thriller & Suspense', 'Kindle eBooks', 'Literature & Fiction', 'Kindle eBooks', 'Comics, Manga & Graphic Novels', 'Kindle eBooks', 'Romance', 'Kindle eBooks', 'Literature & Fiction', 'Kindle eBooks', 'Mystery, Thriller & Suspense', 'Kindle eBooks', 'Romance', 'Kindle eBooks', 'Romance', 'Kindle eBooks', 'Science Fiction & Fantasy', 'Kindle eBooks', 'Literature & Fiction', 'Kindle eBooks', 'Literature & Fiction', 'Kindle eBooks', 'Romance', 'Kindle eBooks', 'Teen & Young Adult', 'Kindle eBooks', 'Literature & Fiction', 'Kindle eBooks', 'Religion & Spirituality', 'Kindle eBooks', 'Literature & Fiction', 'Kindle eBooks', 'Literature & Fiction', 'Kindle eBooks', 'Science Fiction & Fantasy', 'Kindle eBooks', 'Science Fiction & Fantasy', 'Kindle eBooks', 'Romance', 'Kindle eBooks', 'Romance', 'Kindle eBooks', 'Literature & Fiction', 'Kindle eBooks', 'Literature & Fiction', 'Kindle eBooks', 'Romance', 'Kindle eBooks', 'Literature & Fiction', 'Kindle eBooks', 'Mystery, Thriller & Suspense', 'Kindle eBooks', 'Literature & Fiction', 'Kindle eBooks', 'Romance', 'Kindle eBooks', 'Literature & Fiction', 'Kindle eBooks', 'Romance', 'Kindle eBooks', 'Literature & Fiction', 'Kindle eBooks', 'Mystery, Thriller & Suspense', 'Kindle eBooks', 'Science Fiction & Fantasy', 'Kindle eBooks', 'Romance', 'Kindle eBooks', 'Literature & Fiction', 'Kindle eBooks', 'Romance', 'Kindle eBooks', 'Literature & Fiction', 'Kindle eBooks', 'Literature & Fiction', 'Kindle eBooks', 'Literature & Fiction', 'Kindle eBooks', 'Romance', 'Kindle eBooks', 'Mystery, Thriller & Suspense', 'Kindle eBooks', 'Literature & Fiction', 'Kindle eBooks', 'Romance', 'Kindle eBooks', 'Literature & Fiction', 'Kindle eBooks', 'Romance', 'Kindle eBooks', 'Romance', 'Kindle eBooks', 'Religion & Spirituality', 'Kindle eBooks', 'Romance', 'Kindle eBooks', 'Teen & Young Adult', 'Kindle eBooks', 'Romance', 'Kindle eBooks', 'Romance', 'Kindle eBooks', 'Romance', 'Kindle eBooks', 'Literature & Fiction', 'Kindle eBooks', 'Religion & Spirituality', 'Kindle eBooks', 'Literature & Fiction', 'Kindle eBooks', 'Religion & Spirituality', 'Kindle eBooks', 'Comics, Manga & Graphic Novels', 'Kindle eBooks', 'Romance', 'Kindle eBooks', 'Literature & Fiction', 'Kindle eBooks', 'Literature & Fiction', 'Kindle eBooks', 'Mystery, Thriller & Suspense', 'Kindle eBooks', 'Literature & Fiction', 'Kindle eBooks', 'Literature & Fiction', 'Kindle eBooks', 'Mystery, Thriller & Suspense', 'Kindle eBooks', 'Literature & Fiction', 'Kindle eBooks', 'Romance', 'Kindle eBooks', 'Literature & Fiction', 'Kindle eBooks', 'Literature & Fiction', 'Kindle eBooks', 'Science Fiction & Fantasy', 'Kindle eBooks', 'Literature & Fiction', 'Kindle eBooks', 'Romance', 'Kindle eBooks', 'Religion & Spirituality', 'Kindle eBooks', 'Religion & Spirituality', 'Kindle eBooks', 'Mystery, Thriller & Suspense', 'Kindle eBooks', 'Romance', 'Kindle eBooks', 'Romance', 'Kindle eBooks', 'Mystery, Thriller & Suspense', 'Kindle eBooks', 'Religion & Spirituality', 'Kindle eBooks', 'Religion & Spirituality', 'Kindle eBooks', 'Arts & Photography', 'Kindle eBooks', 'Health, Fitness & Dieting', 'Kindle eBooks', 'Business & Money', 'Kindle eBooks', 'Romance', 'Kindle eBooks', 'Literature & Fiction', 'Kindle eBooks', 'Romance', 'Kindle eBooks', 'Romance', 'Kindle eBooks', 'Literature & Fiction', 'Kindle eBooks', 'Literature & Fiction', 'Kindle eBooks', 'Literature & Fiction', 'Kindle eBooks', 'Romance', 'Kindle eBooks', 'Romance', 'Kindle eBooks', 'Romance', 'Kindle eBooks', 'Religion & Spirituality', 'Kindle eBooks', 'Mystery, Thriller & Suspense', 'Kindle eBooks', 'Literature & Fiction', 'Kindle eBooks', 'Mystery, Thriller & Suspense', 'Kindle eBooks', 'Literature & Fiction', 'Kindle eBooks', 'Romance', 'Kindle eBooks', 'Literature & Fiction', 'Kindle eBooks', 'Mystery, Thriller & Suspense', 'Kindle eBooks', 'Romance', 'Kindle eBooks', 'Biographies & Memoirs', 'Kindle eBooks', 'Romance', 'Kindle eBooks', 'Mystery, Thriller & Suspense', 'Kindle eBooks', 'Mystery, Thriller & Suspense', 'Kindle eBooks', 'Health, Fitness & Dieting', 'Kindle eBooks', 'Business & Money', 'Kindle eBooks', 'Health, Fitness & Dieting', 'Kindle eBooks', 'Health, Fitness & Dieting', 'Kindle eBooks', 'Health, Fitness & Dieting', 'Kindle eBooks', 'Literature & Fiction', 'Kindle eBooks', 'Mystery, Thriller & Suspense', 'Kindle eBooks', 'Mystery, Thriller & Suspense', 'Kindle eBooks', 'Mystery, Thriller & Suspense', 'Kindle eBooks', 'Religion & Spirituality', 'Kindle eBooks', 'Romance', 'Kindle eBooks', 'Literature & Fiction', 'Kindle eBooks', 'Romance', 'Kindle eBooks', 'Mystery, Thriller & Suspense', 'Kindle eBooks', 'Literature & Fiction', 'Kindle eBooks', 'Literature & Fiction', 'Kindle eBooks', 'Romance', 'Kindle eBooks', 'Romance', 'Kindle eBooks', 'Religion & Spirituality', 'Kindle eBooks', 'Literature & Fiction', 'Kindle eBooks', 'Mystery, Thriller & Suspense', 'Kindle eBooks', 'Mystery, Thriller & Suspense', 'Kindle eBooks', 'Romance', 'Kindle eBooks', 'Romance', 'Kindle eBooks', 'Mystery, Thriller & Suspense', 'Kindle eBooks', 'Literature & Fiction', 'Kindle eBooks', 'Comics, Manga & Graphic Novels', 'Kindle eBooks', 'Romance', 'Kindle eBooks', 'Romance', 'Kindle eBooks', 'Literature & Fiction', 'Kindle eBooks', 'Literature & Fiction', 'Kindle eBooks', 'Literature & Fiction', 'Kindle eBooks', 'Romance', 'Kindle eBooks', 'Literature & Fiction', 'Kindle eBooks', 'Romance', 'Kindle eBooks', 'Romance', 'Kindle eBooks', 'Romance', 'Kindle eBooks', 'Literature & Fiction', 'Kindle eBooks', 'Literature & Fiction', 'Kindle eBooks', 'Mystery, Thriller & Suspense', 'Kindle eBooks', 'Romance', 'Kindle eBooks', 'Literature & Fiction', 'Kindle eBooks', 'Science Fiction & Fantasy', 'Kindle eBooks', 'Literature & Fiction', 'Kindle eBooks', 'Religion & Spirituality', 'Kindle eBooks', 'Romance', 'Kindle eBooks', 'Literature & Fiction', 'Kindle eBooks', 'Romance', 'Kindle eBooks', 'Crafts, Hobbies & Home', 'Kindle eBooks', 'Literature & Fiction', 'Kindle eBooks', 'Romance', 'Kindle eBooks', 'Science Fiction & Fantasy', 'Kindle eBooks', \"Children's eBooks\", 'Kindle eBooks', 'Literature & Fiction', 'Kindle eBooks', 'Romance', 'Kindle eBooks', 'Teen & Young Adult', 'Kindle eBooks', 'Literature & Fiction', 'Kindle eBooks', 'Literature & Fiction', 'Kindle eBooks', 'Romance', 'Kindle eBooks', 'Literature & Fiction', 'Kindle eBooks', 'Business & Money', 'Kindle eBooks', 'Literature & Fiction', 'Kindle eBooks', 'Literature & Fiction', 'Kindle eBooks', 'Literature & Fiction', 'Kindle eBooks', 'Literature & Fiction', 'Kindle eBooks', 'Literature & Fiction', 'Kindle eBooks', 'Literature & Fiction', 'Kindle eBooks', 'Science Fiction & Fantasy', 'Kindle eBooks', 'Literature & Fiction', 'Kindle eBooks', 'Romance', 'Kindle eBooks', 'Literature & Fiction', 'Kindle eBooks', 'Literature & Fiction', 'Kindle eBooks', 'Science Fiction & Fantasy', 'Kindle eBooks', 'Literature & Fiction', 'Kindle eBooks', 'Literature & Fiction', 'Kindle eBooks', 'Literature & Fiction', 'Kindle eBooks', 'Literature & Fiction', 'Kindle eBooks', 'Literature & Fiction', 'Kindle eBooks', 'Romance', 'Kindle eBooks', 'Romance', 'Kindle eBooks', 'Mystery, Thriller & Suspense', 'Kindle eBooks', 'Romance', 'Kindle eBooks', 'Romance', 'Kindle eBooks', 'Religion & Spirituality', 'Kindle eBooks', 'Romance', 'Kindle eBooks', 'Science Fiction & Fantasy', 'Kindle eBooks', 'Biographies & Memoirs', 'Kindle eBooks', 'Literature & Fiction', 'Kindle eBooks', 'Humor & Entertainment', 'Kindle eBooks', 'Religion & Spirituality', 'Kindle eBooks', 'Literature & Fiction', 'Kindle eBooks', 'Romance', 'Kindle eBooks', 'Literature & Fiction', 'Kindle eBooks', 'Literature & Fiction', 'Kindle eBooks', 'Science Fiction & Fantasy', 'Kindle eBooks', \"Children's eBooks\", 'Kindle eBooks', 'Literature & Fiction', 'Kindle eBooks', 'Science Fiction & Fantasy', 'Kindle eBooks', 'Self-Help', 'Kindle eBooks', 'Romance', 'Kindle eBooks', 'Literature & Fiction', 'Kindle eBooks', 'Romance', 'Kindle eBooks', 'Mystery, Thriller & Suspense', 'Kindle eBooks', 'Romance', 'Kindle eBooks', 'Literature & Fiction', 'Kindle eBooks', 'Literature & Fiction', 'Kindle eBooks', 'Romance', 'Kindle eBooks', 'Science Fiction & Fantasy', 'Kindle eBooks', 'Romance', 'Kindle eBooks', 'Romance', 'Kindle eBooks', 'Literature & Fiction', 'Kindle eBooks', 'Literature & Fiction', 'Kindle eBooks', 'Romance', 'Kindle eBooks', 'Romance', 'Kindle eBooks', 'Literature & Fiction', 'Kindle eBooks', 'Literature & Fiction', 'Kindle eBooks', 'Literature & Fiction', 'Kindle eBooks', 'Literature & Fiction', 'Kindle eBooks', 'Literature & Fiction', 'Kindle eBooks', 'Romance', 'Kindle eBooks', 'Romance', 'Kindle eBooks', 'Romance', 'Kindle eBooks', 'Literature & Fiction', 'Kindle eBooks', 'Romance', 'Kindle eBooks', 'Science & Math', 'Kindle eBooks', 'Literature & Fiction', 'Kindle eBooks', 'Literature & Fiction', 'Kindle eBooks', 'Literature & Fiction', 'Kindle eBooks', 'Literature & Fiction', 'Kindle eBooks', 'Romance', 'Kindle eBooks', 'Romance', 'Kindle eBooks', 'Literature & Fiction', 'Kindle eBooks', 'Science Fiction & Fantasy', 'Kindle eBooks', 'Literature & Fiction', 'Kindle eBooks', 'Crafts, Hobbies & Home', 'Kindle eBooks', 'Science Fiction & Fantasy', 'Kindle eBooks', 'Literature & Fiction', 'Kindle eBooks', 'Literature & Fiction', 'Kindle eBooks', 'Religion & Spirituality', 'Kindle eBooks', 'Romance', 'Kindle eBooks', 'Teen & Young Adult', 'Kindle eBooks', 'Literature & Fiction', 'Kindle eBooks', 'Science Fiction & Fantasy', 'Kindle eBooks', 'Religion & Spirituality', 'Kindle eBooks', 'Literature & Fiction', 'Kindle eBooks', 'Teen & Young Adult', 'Kindle eBooks', 'Literature & Fiction', 'Kindle eBooks', 'Literature & Fiction', 'Kindle eBooks', 'Romance', 'Kindle eBooks', 'Romance', 'Kindle eBooks', 'Teen & Young Adult', 'Kindle eBooks', 'Romance', 'Kindle eBooks', 'Literature & Fiction', 'Kindle eBooks', 'Teen & Young Adult', 'Kindle eBooks', 'Literature & Fiction', 'Kindle eBooks', 'Literature & Fiction', 'Kindle eBooks', 'Literature & Fiction', 'Kindle eBooks', 'Romance', 'Kindle eBooks', 'Romance', 'Kindle eBooks', 'Mystery, Thriller & Suspense', 'Kindle eBooks', 'Literature & Fiction', 'Kindle eBooks', 'Literature & Fiction', 'Kindle eBooks', 'Romance', 'Kindle eBooks', 'Humor & Entertainment', 'Kindle eBooks', 'Mystery, Thriller & Suspense', 'Kindle eBooks', 'Education & Teaching', 'Kindle eBooks', 'Literature & Fiction', 'Kindle eBooks', 'Literature & Fiction', 'Kindle eBooks', 'Literature & Fiction', 'Kindle eBooks', 'Literature & Fiction', 'Kindle eBooks', 'Mystery, Thriller & Suspense', 'Kindle eBooks', 'Literature & Fiction', 'Kindle eBooks', 'Literature & Fiction', 'Kindle eBooks', 'Literature & Fiction', 'Kindle eBooks', 'Literature & Fiction', 'Kindle eBooks', 'Romance', 'Kindle eBooks', 'Romance', 'Kindle eBooks', 'Romance', 'Kindle eBooks', 'Literature & Fiction', 'Kindle eBooks', 'Religion & Spirituality', 'Kindle eBooks', 'Mystery, Thriller & Suspense', 'Kindle eBooks', 'Romance', 'Kindle eBooks', 'Literature & Fiction', 'Kindle eBooks', 'Science Fiction & Fantasy', 'Kindle eBooks', 'Literature & Fiction', 'Kindle eBooks', 'Romance', 'Kindle eBooks', 'Literature & Fiction', 'Kindle eBooks', 'Romance', 'Kindle eBooks', 'Literature & Fiction', 'Kindle eBooks', 'Literature & Fiction', 'Kindle eBooks', 'Literature & Fiction', 'Kindle eBooks', 'Literature & Fiction', 'Kindle eBooks', 'Literature & Fiction', 'Kindle eBooks', 'Romance', 'Kindle eBooks', 'Religion & Spirituality', 'Kindle eBooks', 'Romance', 'Kindle eBooks', 'Literature & Fiction', 'Kindle eBooks', 'Literature & Fiction', 'Kindle eBooks', 'Literature & Fiction', 'Kindle eBooks', 'Religion & Spirituality', 'Kindle eBooks', 'Mystery, Thriller & Suspense', 'Kindle eBooks', 'Mystery, Thriller & Suspense', 'Kindle eBooks', 'Mystery, Thriller & Suspense', 'Kindle eBooks', 'Literature & Fiction', 'Kindle eBooks', 'Romance', 'Kindle eBooks', 'Literature & Fiction', 'Kindle eBooks', 'Literature & Fiction', 'Kindle eBooks', 'Literature & Fiction', 'Kindle eBooks', 'Literature & Fiction', 'Kindle eBooks', 'Literature & Fiction', 'Kindle eBooks', 'Religion & Spirituality', 'Kindle eBooks', 'Literature & Fiction', 'Kindle eBooks', 'Literature & Fiction', 'Kindle eBooks', 'Literature & Fiction', 'Kindle eBooks', 'Health, Fitness & Dieting', 'Kindle eBooks', 'Romance', 'Kindle eBooks', 'Romance', 'Kindle eBooks', 'Literature & Fiction', 'Kindle eBooks', 'Literature & Fiction', 'Kindle eBooks', 'Literature & Fiction', 'Kindle eBooks', 'Teen & Young Adult', 'Kindle eBooks', 'Religion & Spirituality', 'Kindle eBooks', 'Literature & Fiction', 'Kindle eBooks', 'Religion & Spirituality', 'Kindle eBooks', 'Romance', 'Kindle eBooks', 'Literature & Fiction', 'Kindle eBooks', 'Literature & Fiction', 'Kindle eBooks', 'Romance', 'Kindle eBooks', 'Romance', 'Kindle eBooks', 'Romance', 'Kindle eBooks', 'Literature & Fiction', 'Kindle eBooks', 'Romance', 'Kindle eBooks', 'Teen & Young Adult', 'Kindle eBooks', 'Romance', 'Kindle eBooks', 'Literature & Fiction', 'Kindle eBooks', 'Literature & Fiction', 'Kindle eBooks', 'Romance', 'Kindle eBooks', 'Romance', 'Kindle eBooks', 'Romance', 'Kindle eBooks', 'Romance', 'Kindle eBooks', 'Literature & Fiction', 'Kindle eBooks', 'Science Fiction & Fantasy', 'Kindle eBooks', 'Literature & Fiction', 'Kindle eBooks', 'Romance', 'Kindle eBooks', 'Romance', 'Kindle eBooks', 'Literature & Fiction', 'Kindle eBooks', 'Biographies & Memoirs', 'Kindle eBooks', \"Children's eBooks\", 'Kindle eBooks', 'Mystery, Thriller & Suspense', 'Kindle eBooks', 'Literature & Fiction', 'Kindle eBooks', 'Literature & Fiction', 'Kindle eBooks', 'Literature & Fiction', 'Kindle eBooks', 'Romance', 'Kindle eBooks', 'Teen & Young Adult', 'Kindle eBooks', 'Literature & Fiction', 'Kindle eBooks', 'Computers & Technology', 'Kindle eBooks', 'Mystery, Thriller & Suspense', 'Kindle eBooks', 'Teen & Young Adult', 'Kindle eBooks', 'Romance', 'Kindle eBooks', 'Romance', 'Kindle eBooks', 'Literature & Fiction', 'Kindle eBooks', 'Romance', 'Kindle eBooks', 'Literature & Fiction', 'Kindle eBooks', 'Literature & Fiction', 'Kindle eBooks', 'Literature & Fiction', 'Kindle eBooks', 'Science Fiction & Fantasy', 'Kindle eBooks', 'Mystery, Thriller & Suspense', 'Kindle eBooks', 'Science Fiction & Fantasy', 'Kindle eBooks', 'Science Fiction & Fantasy', 'Kindle eBooks', 'Religion & Spirituality', 'Kindle eBooks', 'Literature & Fiction', 'Kindle eBooks', 'Religion & Spirituality', 'Kindle eBooks', 'Literature & Fiction', 'Kindle eBooks', 'Romance', 'Kindle eBooks', 'Literature & Fiction', 'Kindle eBooks', 'Literature & Fiction', 'Kindle eBooks', 'Literature & Fiction', 'Kindle eBooks', 'Biographies & Memoirs', 'Kindle eBooks', 'Romance', 'Kindle eBooks', 'Romance', 'Kindle eBooks', 'Romance', 'Kindle eBooks', 'Literature & Fiction', 'Kindle eBooks', 'Literature & Fiction', 'Kindle eBooks', 'Literature & Fiction', 'Kindle eBooks', 'Romance', 'Kindle eBooks', 'Romance', 'Kindle eBooks', 'Romance', 'Kindle eBooks', 'Romance', 'Kindle eBooks', 'Literature & Fiction', 'Kindle eBooks', 'Literature & Fiction', 'Kindle eBooks', 'Romance', 'Kindle eBooks', 'Literature & Fiction', 'Kindle eBooks', 'Literature & Fiction', 'Kindle eBooks', 'Romance', 'Kindle eBooks', 'Literature & Fiction', 'Kindle eBooks', 'Romance', 'Kindle eBooks', 'Romance', 'Kindle eBooks', 'Science Fiction & Fantasy', 'Kindle eBooks', 'Romance', 'Kindle eBooks', 'Literature & Fiction', 'Kindle eBooks', 'Literature & Fiction', 'Kindle eBooks', 'Science Fiction & Fantasy', 'Kindle eBooks', 'Literature & Fiction', 'Kindle eBooks', 'Health, Fitness & Dieting', 'Kindle eBooks', 'Literature & Fiction', 'Kindle eBooks', 'Literature & Fiction', 'Kindle eBooks', \"Children's eBooks\", 'Kindle eBooks', 'Literature & Fiction', 'Kindle eBooks', 'Literature & Fiction', 'Kindle eBooks', 'Romance', 'Kindle eBooks', 'Literature & Fiction', 'Kindle eBooks', 'Science Fiction & Fantasy', 'Kindle eBooks', 'Romance', 'Kindle eBooks', 'Literature & Fiction', 'Kindle eBooks', 'Literature & Fiction', 'Kindle eBooks', 'Literature & Fiction', 'Kindle eBooks', 'Literature & Fiction', 'Kindle eBooks', 'Literature & Fiction', 'Kindle eBooks', 'Teen & Young Adult', 'Kindle eBooks', 'Literature & Fiction', 'Kindle eBooks', 'Science Fiction & Fantasy', 'Kindle eBooks', 'Romance', 'Kindle eBooks', 'Romance', 'Kindle eBooks', 'Romance', 'Kindle eBooks', 'Science Fiction & Fantasy', 'Kindle eBooks', 'Literature & Fiction', 'Kindle eBooks', 'Literature & Fiction', 'Kindle eBooks', 'Romance', 'Kindle eBooks', 'Science Fiction & Fantasy', 'Kindle eBooks', 'Romance', 'Kindle eBooks', 'Romance', 'Kindle eBooks', 'Literature & Fiction', 'Kindle eBooks', 'Literature & Fiction', 'Kindle eBooks', 'Politics & Social Sciences', 'Kindle eBooks', 'Literature & Fiction', 'Kindle eBooks', 'Literature & Fiction', 'Kindle eBooks', 'Romance', 'Kindle eBooks', 'Literature & Fiction', 'Kindle eBooks', 'Literature & Fiction', 'Kindle eBooks', 'Literature & Fiction', 'Kindle eBooks', 'Romance', 'Kindle eBooks', 'Romance', 'Kindle eBooks', 'Literature & Fiction', 'Kindle eBooks', 'Literature & Fiction', 'Kindle eBooks', 'Literature & Fiction', 'Kindle eBooks', 'Literature & Fiction', 'Kindle eBooks', 'Romance', 'Kindle eBooks', 'Romance', 'Kindle eBooks', 'Science Fiction & Fantasy', 'Kindle eBooks', 'Literature & Fiction', 'Kindle eBooks', 'Mystery, Thriller & Suspense', 'Kindle eBooks', 'Literature & Fiction', 'Kindle eBooks', 'Literature & Fiction', 'Kindle eBooks', 'Teen & Young Adult', 'Kindle eBooks', 'Science Fiction & Fantasy', 'Kindle eBooks', 'Literature & Fiction', 'Kindle eBooks', 'Literature & Fiction', 'Kindle eBooks', 'Romance', 'Kindle eBooks', 'Romance', 'Kindle eBooks', 'Literature & Fiction', 'Kindle eBooks', 'Literature & Fiction', 'Kindle eBooks', 'Romance', 'Kindle eBooks', 'Mystery, Thriller & Suspense', 'Kindle eBooks', 'Romance', 'Kindle eBooks', 'Literature & Fiction', 'Kindle eBooks', 'Mystery, Thriller & Suspense', 'Kindle eBooks', 'Literature & Fiction', 'Kindle eBooks', 'Cookbooks, Food & Wine', 'Kindle eBooks', 'Science Fiction & Fantasy', 'Kindle eBooks', 'Mystery, Thriller & Suspense', 'Kindle eBooks', 'Romance', 'Kindle eBooks', 'Reference', 'Kindle eBooks', 'Science Fiction & Fantasy', 'Kindle eBooks', 'Science Fiction & Fantasy', 'Kindle eBooks', 'Literature & Fiction', 'Kindle eBooks', 'Romance', 'Kindle eBooks', 'Literature & Fiction', 'Kindle eBooks', 'Literature & Fiction', 'Kindle eBooks', 'Literature & Fiction', 'Kindle eBooks', 'Literature & Fiction', 'Kindle eBooks', 'Mystery, Thriller & Suspense', 'Kindle eBooks', 'Literature & Fiction', 'Kindle eBooks', 'Romance', 'Kindle eBooks', 'Romance', 'Kindle eBooks', 'Romance', 'Kindle eBooks', \"Children's eBooks\", 'Kindle eBooks', 'Religion & Spirituality', 'Kindle eBooks', 'Literature & Fiction', 'Kindle eBooks', 'Literature & Fiction', 'Kindle eBooks', 'Literature & Fiction', 'Kindle eBooks', 'Science Fiction & Fantasy', 'Kindle eBooks', 'Romance', 'Kindle eBooks', 'Literature & Fiction', 'Kindle eBooks', 'Literature & Fiction', 'Kindle eBooks', 'Literature & Fiction', 'Kindle eBooks', 'Science Fiction & Fantasy', 'Kindle eBooks', 'Romance', 'Kindle eBooks', 'Literature & Fiction', 'Kindle eBooks', 'Romance', 'Kindle eBooks', 'Literature & Fiction', 'Kindle eBooks', 'Romance', 'Kindle eBooks', 'Literature & Fiction', 'Kindle eBooks', 'Literature & Fiction', 'Kindle eBooks', 'Literature & Fiction', 'Kindle eBooks', 'Literature & Fiction', 'Kindle eBooks', 'Romance', 'Kindle eBooks', 'Literature & Fiction', 'Kindle eBooks', 'Literature & Fiction', 'Kindle eBooks', 'Romance', 'Kindle eBooks', 'Literature & Fiction', 'Kindle eBooks', 'Literature & Fiction', 'Kindle eBooks', 'Literature & Fiction', 'Kindle eBooks', 'Romance', 'Kindle eBooks', 'Literature & Fiction', 'Kindle eBooks', 'Literature & Fiction', 'Kindle eBooks', 'Literature & Fiction', 'Kindle eBooks', 'Literature & Fiction', 'Kindle eBooks', 'Teen & Young Adult', 'Kindle eBooks', 'Religion & Spirituality', 'Kindle eBooks', 'Romance', 'Kindle eBooks', 'Romance', 'Kindle eBooks', 'Literature & Fiction', 'Kindle eBooks', 'Romance', 'Kindle eBooks', 'Literature & Fiction', 'Kindle eBooks', 'Literature & Fiction', 'Kindle eBooks', 'Literature & Fiction', 'Kindle eBooks', 'Literature & Fiction', 'Kindle eBooks', 'Science Fiction & Fantasy', 'Kindle eBooks', 'Literature & Fiction', 'Kindle eBooks', 'Literature & Fiction', 'Kindle eBooks', 'Literature & Fiction', 'Kindle eBooks', 'Romance', 'Kindle eBooks', 'Religion & Spirituality', 'Kindle eBooks', 'Literature & Fiction', 'Kindle eBooks', 'Literature & Fiction', 'Kindle eBooks', 'Literature & Fiction', 'Kindle eBooks', 'Romance', 'Kindle eBooks', 'Literature & Fiction', 'Kindle eBooks', 'Literature & Fiction', 'Kindle eBooks', 'Literature & Fiction', 'Kindle eBooks', 'Mystery, Thriller & Suspense', 'Kindle eBooks', 'Literature & Fiction', 'Kindle eBooks', 'Literature & Fiction', 'Kindle eBooks', 'Literature & Fiction', 'Kindle eBooks', 'Romance', 'Kindle eBooks', 'Literature & Fiction', 'Kindle eBooks', 'Romance', 'Kindle eBooks', 'Mystery, Thriller & Suspense', 'Kindle eBooks', 'Literature & Fiction', 'Kindle eBooks', 'Literature & Fiction', 'Kindle eBooks', 'Teen & Young Adult', 'Kindle eBooks', 'Mystery, Thriller & Suspense', 'Kindle eBooks', 'Literature & Fiction', 'Kindle eBooks', 'Literature & Fiction', 'Kindle eBooks', 'Literature & Fiction', 'Kindle eBooks', 'Literature & Fiction', 'Kindle eBooks', 'Literature & Fiction', 'Kindle eBooks', 'Literature & Fiction', 'Kindle eBooks', 'Mystery, Thriller & Suspense', 'Kindle eBooks', 'Literature & Fiction', 'Kindle eBooks', 'Literature & Fiction', 'Kindle eBooks', 'Literature & Fiction', 'Kindle eBooks', 'Literature & Fiction', 'Kindle eBooks', 'Religion & Spirituality', 'Kindle eBooks', 'Literature & Fiction', 'Kindle eBooks', 'Literature & Fiction', 'Kindle eBooks', 'Romance', 'Kindle eBooks', 'Romance', 'Kindle eBooks', 'Romance', 'Kindle eBooks', 'Literature & Fiction', 'Kindle eBooks', 'Literature & Fiction', 'Kindle eBooks', 'Literature & Fiction', 'Kindle eBooks', 'Literature & Fiction', 'Kindle eBooks', 'Mystery, Thriller & Suspense', 'Kindle eBooks', 'Literature & Fiction', 'Kindle eBooks', 'Literature & Fiction', 'Kindle eBooks', 'Literature & Fiction', 'Kindle eBooks', 'Literature & Fiction', 'Kindle eBooks', 'Literature & Fiction', 'Kindle eBooks', 'Romance', 'Kindle eBooks', 'Romance', 'Kindle eBooks', 'Romance', 'Kindle eBooks', 'Religion & Spirituality', 'Kindle eBooks', 'Literature & Fiction', 'Kindle eBooks', 'Literature & Fiction', 'Kindle eBooks', 'Literature & Fiction', 'Kindle eBooks', 'Romance', 'Kindle eBooks', 'Literature & Fiction', 'Kindle eBooks', 'Health, Fitness & Dieting', 'Kindle eBooks', 'Literature & Fiction', 'Kindle eBooks', 'Romance', 'Kindle eBooks', 'Mystery, Thriller & Suspense', 'Kindle eBooks', 'Mystery, Thriller & Suspense', 'Kindle eBooks', 'Romance', 'Kindle eBooks', 'Teen & Young Adult', 'Kindle eBooks', 'Literature & Fiction', 'Kindle eBooks', 'Mystery, Thriller & Suspense', 'Kindle eBooks', 'Mystery, Thriller & Suspense', 'Kindle eBooks', 'Literature & Fiction', 'Kindle eBooks', 'Literature & Fiction', 'Kindle eBooks', 'Literature & Fiction', 'Kindle eBooks', 'Literature & Fiction', 'Kindle eBooks', 'Literature & Fiction', 'Kindle eBooks', 'Literature & Fiction', 'Kindle eBooks', 'Literature & Fiction', 'Kindle eBooks', 'Science Fiction & Fantasy', 'Kindle eBooks', 'Romance', 'Kindle eBooks', 'Romance', 'Kindle eBooks', 'Teen & Young Adult', 'Kindle eBooks', 'Literature & Fiction', 'Kindle eBooks', 'Romance', 'Kindle eBooks', 'Romance', 'Kindle eBooks', 'Religion & Spirituality', 'Kindle eBooks', 'Literature & Fiction', 'Kindle eBooks', 'Romance', 'Kindle eBooks', 'Literature & Fiction', 'Kindle eBooks', 'Mystery, Thriller & Suspense', 'Kindle eBooks', 'Teen & Young Adult', 'Kindle eBooks', 'Literature & Fiction', 'Kindle eBooks', 'Literature & Fiction', 'Kindle eBooks', 'Health, Fitness & Dieting', 'Kindle eBooks', 'Romance', 'Kindle eBooks', 'Literature & Fiction', 'Kindle eBooks', 'Mystery, Thriller & Suspense', 'Kindle eBooks', 'Romance', 'Kindle eBooks', 'Literature & Fiction', 'Kindle eBooks', 'Literature & Fiction', 'Kindle eBooks', 'Science Fiction & Fantasy', 'Kindle eBooks', 'Romance', 'Kindle eBooks', 'Literature & Fiction', 'Kindle eBooks', 'Romance', 'Kindle eBooks', 'Science Fiction & Fantasy', 'Kindle eBooks', 'Romance', 'Kindle eBooks', 'Romance', 'Kindle eBooks', 'Romance', 'Kindle eBooks', 'Business & Money', 'Kindle eBooks', 'Science Fiction & Fantasy', 'Kindle eBooks', 'Literature & Fiction', 'Kindle eBooks', 'Literature & Fiction', 'Kindle eBooks', 'Romance', 'Kindle eBooks', 'Literature & Fiction', 'Kindle eBooks', 'Mystery, Thriller & Suspense', 'Kindle eBooks', 'Health, Fitness & Dieting', 'Kindle eBooks', 'Literature & Fiction', 'Kindle eBooks', 'Literature & Fiction', 'Kindle eBooks', 'Romance', 'Kindle eBooks', 'Literature & Fiction', 'Kindle eBooks', 'Romance', 'Kindle eBooks', 'Literature & Fiction', 'Kindle eBooks', 'Science Fiction & Fantasy', 'Kindle eBooks', 'Literature & Fiction', 'Kindle eBooks', 'Literature & Fiction', 'Kindle eBooks', 'Romance', 'Kindle eBooks', 'Religion & Spirituality', 'Kindle eBooks', 'Religion & Spirituality', 'Kindle eBooks', 'Science Fiction & Fantasy', 'Kindle eBooks', 'Literature & Fiction', 'Kindle eBooks', 'Literature & Fiction', 'Kindle eBooks', 'Literature & Fiction', 'Kindle eBooks', 'Romance', 'Kindle eBooks', 'Mystery, Thriller & Suspense', 'Kindle eBooks', 'Religion & Spirituality', 'Kindle eBooks', 'Literature & Fiction', 'Kindle eBooks', 'Literature & Fiction', 'Kindle eBooks', 'Business & Money', 'Kindle eBooks', 'Romance', 'Kindle eBooks', 'Literature & Fiction', 'Kindle eBooks', 'Literature & Fiction', 'Kindle eBooks', 'Engineering & Transportation', 'Kindle eBooks', 'Cookbooks, Food & Wine', 'Kindle eBooks', 'Romance', 'Kindle eBooks', 'Business & Money', 'Kindle eBooks', 'Mystery, Thriller & Suspense', 'Kindle eBooks', 'Religion & Spirituality', 'Kindle eBooks', 'Literature & Fiction', 'Kindle eBooks', 'Literature & Fiction', 'Kindle eBooks', 'Literature & Fiction', 'Kindle eBooks', 'Literature & Fiction', 'Kindle eBooks', 'Literature & Fiction', 'Kindle eBooks', 'Romance', 'Kindle eBooks', 'Literature & Fiction', 'Kindle eBooks', 'Biographies & Memoirs', 'Kindle eBooks', 'Literature & Fiction', 'Kindle eBooks', 'Mystery, Thriller & Suspense', 'Kindle eBooks', 'Literature & Fiction', 'Kindle eBooks', 'Romance', 'Kindle eBooks', 'Literature & Fiction', 'Kindle eBooks', 'Mystery, Thriller & Suspense', 'Kindle eBooks', 'Literature & Fiction', 'Kindle eBooks', 'Romance', 'Kindle eBooks', 'Literature & Fiction', 'Kindle eBooks', 'Literature & Fiction', 'Kindle eBooks', 'Literature & Fiction', 'Kindle eBooks', 'Literature & Fiction', 'Kindle eBooks', 'Literature & Fiction', 'Kindle eBooks', 'Literature & Fiction', 'Kindle eBooks', 'Romance', 'Kindle eBooks', 'Romance', 'Kindle eBooks', 'Romance', 'Kindle eBooks', 'Romance', 'Kindle eBooks', 'Literature & Fiction', 'Kindle eBooks', 'Literature & Fiction', 'Kindle eBooks', 'Literature & Fiction', 'Kindle eBooks', 'Religion & Spirituality', 'Kindle eBooks', 'Mystery, Thriller & Suspense', 'Kindle eBooks', 'Politics & Social Sciences', 'Kindle eBooks', 'Literature & Fiction', 'Kindle eBooks', 'Literature & Fiction', 'Kindle eBooks', 'Literature & Fiction', 'Kindle eBooks', 'Mystery, Thriller & Suspense', 'Kindle eBooks', 'Literature & Fiction', 'Kindle eBooks', 'Literature & Fiction', 'Kindle eBooks', 'Romance', 'Kindle eBooks', 'Biographies & Memoirs', 'Kindle eBooks', 'Romance', 'Kindle eBooks', 'Romance', 'Kindle eBooks', 'Romance', 'Kindle eBooks', 'Romance', 'Kindle eBooks', 'Literature & Fiction', 'Kindle eBooks', 'Romance', 'Kindle eBooks', 'Science Fiction & Fantasy', 'Kindle eBooks', 'Literature & Fiction', 'Kindle eBooks', 'Romance', 'Kindle eBooks', 'Romance', 'Kindle eBooks', 'Literature & Fiction', 'Kindle eBooks', 'Literature & Fiction', 'Kindle eBooks', 'Literature & Fiction', 'Kindle eBooks', 'Literature & Fiction', 'Kindle eBooks', 'Health, Fitness & Dieting', 'Kindle eBooks', 'Religion & Spirituality', 'Kindle eBooks', 'Mystery, Thriller & Suspense', 'Kindle eBooks', 'Literature & Fiction', 'Kindle eBooks', 'Mystery, Thriller & Suspense', 'Kindle eBooks', 'Romance', 'Kindle eBooks', 'Literature & Fiction', 'Kindle eBooks', 'Literature & Fiction', 'Kindle eBooks', \"Children's eBooks\", 'Kindle eBooks', 'Romance', 'Kindle eBooks', 'Literature & Fiction', 'Kindle eBooks', 'Literature & Fiction', 'Kindle eBooks', 'Literature & Fiction', 'Kindle eBooks', 'Literature & Fiction', 'Kindle eBooks', 'Romance', 'Kindle eBooks', 'Literature & Fiction', 'Kindle eBooks', 'Literature & Fiction', 'Kindle eBooks', 'Literature & Fiction', 'Kindle eBooks', 'Teen & Young Adult', 'Kindle eBooks', 'Literature & Fiction', 'Kindle eBooks', 'Literature & Fiction', 'Kindle eBooks', 'Literature & Fiction', 'Kindle eBooks', 'Romance', 'Kindle eBooks', 'Romance', 'Kindle eBooks', 'Literature & Fiction', 'Kindle eBooks', 'Teen & Young Adult', 'Kindle eBooks', 'Romance', 'Kindle eBooks', 'Romance', 'Kindle eBooks', 'Literature & Fiction', 'Kindle eBooks', 'Teen & Young Adult', 'Kindle eBooks', 'Health, Fitness & Dieting', 'Kindle eBooks', 'Literature & Fiction', 'Kindle eBooks', 'Science Fiction & Fantasy', 'Kindle eBooks', 'Literature & Fiction', 'Kindle eBooks', 'Literature & Fiction', 'Kindle eBooks', 'Literature & Fiction', 'Kindle eBooks', 'Religion & Spirituality', 'Kindle eBooks', 'Literature & Fiction', 'Kindle eBooks', 'Romance', 'Kindle eBooks', 'Mystery, Thriller & Suspense', 'Kindle eBooks', 'Literature & Fiction', 'Kindle eBooks', 'Religion & Spirituality', 'Kindle eBooks', 'Literature & Fiction', 'Kindle eBooks', 'Literature & Fiction', 'Kindle eBooks', 'Literature & Fiction', 'Kindle eBooks', 'Crafts, Hobbies & Home', 'Kindle eBooks', 'Literature & Fiction', 'Kindle eBooks', 'Literature & Fiction', 'Kindle eBooks', 'Romance', 'Kindle eBooks', 'Literature & Fiction', 'Kindle eBooks', 'Romance', 'Kindle eBooks', 'Literature & Fiction', 'Kindle eBooks', 'Literature & Fiction', 'Kindle eBooks', 'Romance', 'Kindle eBooks', 'Romance', 'Kindle eBooks', 'Literature & Fiction', 'Kindle eBooks', 'Romance', 'Kindle eBooks', 'Literature & Fiction', 'Kindle eBooks', 'Literature & Fiction', 'Kindle eBooks', 'Literature & Fiction', 'Kindle eBooks', 'Teen & Young Adult', 'Kindle eBooks', 'Literature & Fiction', 'Kindle eBooks', 'Romance', 'Kindle eBooks', 'Literature & Fiction', 'Kindle eBooks', 'Science Fiction & Fantasy', 'Kindle eBooks', 'Literature & Fiction', 'Kindle eBooks', 'Kindle eBooks', 'Kindle eBooks', 'Literature & Fiction', 'Kindle eBooks', 'Romance', 'Kindle eBooks', 'Literature & Fiction', 'Kindle eBooks', 'Romance', 'Kindle eBooks', 'Romance', 'Kindle eBooks', 'Literature & Fiction', 'Kindle eBooks', 'Romance', 'Kindle eBooks', 'Romance', 'Kindle eBooks', 'Literature & Fiction', 'Kindle eBooks', 'Religion & Spirituality', 'Kindle eBooks', 'Romance', 'Kindle eBooks', 'Romance', 'Kindle eBooks', 'Teen & Young Adult', 'Kindle eBooks', 'Religion & Spirituality', 'Kindle eBooks', 'Literature & Fiction', 'Kindle eBooks', 'Religion & Spirituality', 'Kindle eBooks', 'Literature & Fiction', 'Kindle eBooks', 'Romance', 'Kindle eBooks', 'Literature & Fiction', 'Kindle eBooks', 'Science Fiction & Fantasy', 'Kindle eBooks', 'Mystery, Thriller & Suspense', 'Kindle eBooks', 'Literature & Fiction', 'Kindle eBooks', 'Literature & Fiction', 'Kindle eBooks', 'Computers & Technology', 'Kindle eBooks', 'Health, Fitness & Dieting', 'Kindle eBooks', 'Science Fiction & Fantasy', 'Kindle eBooks', 'Romance', 'Kindle eBooks', 'Romance', 'Kindle eBooks', 'Literature & Fiction', 'Kindle eBooks', 'Literature & Fiction', 'Kindle eBooks', 'Romance', 'Kindle eBooks', 'Science Fiction & Fantasy', 'Kindle eBooks', 'Literature & Fiction', 'Kindle eBooks', 'Literature & Fiction', 'Kindle eBooks', 'Literature & Fiction', 'Kindle eBooks', 'Science Fiction & Fantasy', 'Kindle eBooks', 'Religion & Spirituality', 'Kindle eBooks', 'Romance', 'Kindle eBooks', 'Literature & Fiction', 'Kindle eBooks', 'Romance', 'Kindle eBooks', 'Literature & Fiction', 'Kindle eBooks', 'Literature & Fiction', 'Kindle eBooks', 'Literature & Fiction', 'Kindle eBooks', 'Mystery, Thriller & Suspense', 'Kindle eBooks', 'Literature & Fiction', 'Kindle eBooks', 'Literature & Fiction', 'Kindle eBooks', 'Literature & Fiction', 'Kindle eBooks', 'Romance', 'Kindle eBooks', 'Literature & Fiction', 'Kindle eBooks', 'Literature & Fiction', 'Kindle eBooks', 'Romance', 'Kindle eBooks', 'Literature & Fiction', 'Kindle eBooks', 'Literature & Fiction', 'Kindle eBooks', 'Literature & Fiction', 'Kindle eBooks', 'Literature & Fiction', 'Kindle eBooks', 'Romance', 'Kindle eBooks', 'Mystery, Thriller & Suspense', 'Kindle eBooks', 'Literature & Fiction', 'Kindle eBooks', 'Romance', 'Kindle eBooks', 'Literature & Fiction', 'Kindle eBooks', 'Romance', 'Kindle eBooks', 'Literature & Fiction', 'Kindle eBooks', 'Romance', 'Kindle eBooks', 'Romance', 'Kindle eBooks', 'Literature & Fiction', 'Kindle eBooks', 'Romance', 'Kindle eBooks', 'Politics & Social Sciences', 'Kindle eBooks', 'Science Fiction & Fantasy', 'Kindle eBooks', 'Religion & Spirituality', 'Kindle eBooks', 'Health, Fitness & Dieting', 'Kindle eBooks', 'Literature & Fiction', 'Kindle eBooks', 'Literature & Fiction', 'Kindle eBooks', 'Health, Fitness & Dieting', 'Kindle eBooks', 'Literature & Fiction', 'Kindle eBooks', 'Literature & Fiction', 'Kindle eBooks', \"Children's eBooks\", 'Kindle eBooks', 'Literature & Fiction', 'Kindle eBooks', 'Literature & Fiction', 'Kindle eBooks', 'Literature & Fiction', 'Kindle eBooks', 'Literature & Fiction', 'Kindle eBooks', 'Literature & Fiction', 'Kindle eBooks', 'Romance', 'Kindle eBooks', 'Literature & Fiction', 'Kindle eBooks', 'Literature & Fiction', 'Kindle eBooks', 'Literature & Fiction', 'Kindle eBooks', 'Literature & Fiction', 'Kindle eBooks', 'Romance', 'Kindle eBooks', 'Literature & Fiction', 'Kindle eBooks', 'Literature & Fiction', 'Kindle eBooks', 'Romance', 'Kindle eBooks', 'Romance', 'Kindle eBooks', 'Romance', 'Kindle eBooks', 'Education & Teaching', 'Kindle eBooks', 'Literature & Fiction', 'Kindle eBooks', 'Reference', 'Kindle eBooks', 'Literature & Fiction', 'Kindle eBooks', 'Romance', 'Kindle eBooks', 'Literature & Fiction', 'Kindle eBooks', 'Literature & Fiction', 'Kindle eBooks', 'Religion & Spirituality', 'Kindle eBooks', 'Romance', 'Kindle eBooks', 'Romance', 'Kindle eBooks', 'Literature & Fiction', 'Kindle eBooks', 'Romance', 'Kindle eBooks', 'Mystery, Thriller & Suspense', 'Kindle eBooks', 'Teen & Young Adult', 'Kindle eBooks', 'Literature & Fiction', 'Kindle eBooks', 'Romance', 'Kindle eBooks', 'Literature & Fiction', 'Kindle eBooks', 'Romance', 'Kindle eBooks', 'Literature & Fiction', 'Kindle eBooks', 'Literature & Fiction', 'Kindle eBooks', 'Literature & Fiction', 'Kindle eBooks', 'Literature & Fiction', 'Kindle eBooks', 'Romance', 'Kindle eBooks', 'Literature & Fiction', 'Kindle eBooks', 'Romance', 'Kindle eBooks', 'Literature & Fiction', 'Kindle eBooks', 'Mystery, Thriller & Suspense', 'Kindle eBooks', 'Mystery, Thriller & Suspense', 'Kindle eBooks', 'Literature & Fiction', 'Kindle eBooks', 'Science Fiction & Fantasy', 'Kindle eBooks', 'Literature & Fiction', 'Kindle eBooks', 'Literature & Fiction', 'Kindle eBooks', 'Religion & Spirituality', 'Kindle eBooks', 'Religion & Spirituality', 'Kindle eBooks', 'Literature & Fiction', 'Kindle eBooks', 'Science Fiction & Fantasy', 'Kindle eBooks', 'Literature & Fiction', 'Kindle eBooks', 'Literature & Fiction', 'Kindle eBooks', 'Literature & Fiction', 'Kindle eBooks', 'Religion & Spirituality', 'Kindle eBooks', 'Literature & Fiction', 'Kindle eBooks', 'Literature & Fiction', 'Kindle eBooks', 'Literature & Fiction', 'Kindle eBooks', 'Literature & Fiction', 'Kindle eBooks', 'Science Fiction & Fantasy', 'Kindle eBooks', 'Literature & Fiction', 'Kindle eBooks', 'Literature & Fiction', 'Kindle eBooks', 'Computers & Technology', 'Kindle eBooks', 'Mystery, Thriller & Suspense', 'Kindle eBooks', 'Romance', 'Kindle eBooks', 'Mystery, Thriller & Suspense', 'Kindle eBooks', 'Literature & Fiction', 'Kindle eBooks', 'Religion & Spirituality', 'Kindle eBooks', 'Literature & Fiction', 'Kindle eBooks', 'Romance', 'Kindle eBooks', 'Literature & Fiction', 'Kindle eBooks', 'Science Fiction & Fantasy', 'Kindle eBooks', 'Romance', 'Kindle eBooks', 'Literature & Fiction', 'Kindle eBooks', 'Literature & Fiction', 'Kindle eBooks', 'Business & Money', 'Kindle eBooks', 'Literature & Fiction', 'Kindle eBooks', 'Literature & Fiction', 'Kindle eBooks', 'Literature & Fiction', 'Kindle eBooks', 'Romance', 'Kindle eBooks', 'Biographies & Memoirs', 'Kindle eBooks', 'Mystery, Thriller & Suspense', 'Kindle eBooks', 'Romance', 'Kindle eBooks', 'Literature & Fiction', 'Kindle eBooks', 'Literature & Fiction', 'Kindle eBooks', 'Literature & Fiction', 'Kindle eBooks', 'Literature & Fiction', 'Kindle eBooks', 'Literature & Fiction', 'Kindle eBooks', 'Literature & Fiction', 'Kindle eBooks', 'Romance', 'Kindle eBooks', 'Literature & Fiction', 'Kindle eBooks', 'Literature & Fiction', 'Kindle eBooks', 'Literature & Fiction', 'Kindle eBooks', 'Science Fiction & Fantasy', 'Kindle eBooks', 'Romance', 'Kindle eBooks', 'Literature & Fiction', 'Kindle eBooks', 'Literature & Fiction', 'Kindle eBooks', \"Children's eBooks\", 'Kindle eBooks', 'Science Fiction & Fantasy', 'Kindle eBooks', 'Literature & Fiction', 'Kindle eBooks', 'Mystery, Thriller & Suspense', 'Kindle eBooks', 'Literature & Fiction', 'Kindle eBooks', 'Science Fiction & Fantasy', 'Kindle eBooks', 'Romance', 'Kindle eBooks', 'Literature & Fiction', 'Kindle eBooks', 'Literature & Fiction', 'Kindle eBooks', 'Literature & Fiction', 'Kindle eBooks', 'Romance', 'Kindle eBooks', 'Literature & Fiction', 'Kindle eBooks', 'Teen & Young Adult', 'Kindle eBooks', 'Romance', 'Kindle eBooks', 'Romance', 'Kindle eBooks', 'Religion & Spirituality', 'Kindle eBooks', 'Romance', 'Kindle eBooks', 'Literature & Fiction', 'Kindle eBooks', 'Romance', 'Kindle eBooks', 'Literature & Fiction', 'Kindle eBooks', 'Literature & Fiction', 'Kindle eBooks', 'Romance', 'Kindle eBooks', 'Romance', 'Kindle eBooks', 'Teen & Young Adult', 'Kindle eBooks', 'Literature & Fiction', 'Kindle eBooks', 'Literature & Fiction', 'Kindle eBooks', 'Literature & Fiction', 'Kindle eBooks', 'Romance', 'Kindle eBooks', 'Romance', 'Kindle eBooks', 'Literature & Fiction', 'Kindle eBooks', 'Literature & Fiction', 'Kindle eBooks', 'Literature & Fiction', 'Kindle eBooks', 'Literature & Fiction', 'Kindle eBooks', 'Biographies & Memoirs', 'Kindle eBooks', 'Literature & Fiction', 'Kindle eBooks', 'Romance', 'Kindle eBooks', 'Romance', 'Kindle eBooks', 'Romance', 'Kindle eBooks', 'Literature & Fiction', 'Kindle eBooks', 'Romance', 'Kindle eBooks', 'Literature & Fiction', 'Kindle eBooks', 'Literature & Fiction', 'Kindle eBooks', 'Romance', 'Kindle eBooks', 'Romance', 'Kindle eBooks', 'Romance', 'Kindle eBooks', 'Literature & Fiction', 'Kindle eBooks', 'Literature & Fiction', 'Kindle eBooks', 'Romance', 'Kindle eBooks', 'Reference', 'Kindle eBooks', 'Romance', 'Kindle eBooks', 'Teen & Young Adult', 'Kindle eBooks', 'Literature & Fiction', 'Kindle eBooks', 'Romance', 'Kindle eBooks', 'Literature & Fiction', 'Kindle eBooks', 'Romance', 'Kindle eBooks', 'Romance', 'Kindle eBooks', 'Literature & Fiction', 'Kindle eBooks', 'Science Fiction & Fantasy', 'Kindle eBooks', 'Romance', 'Kindle eBooks', 'Science Fiction & Fantasy', 'Kindle eBooks', 'Literature & Fiction', 'Kindle eBooks', 'Science Fiction & Fantasy', 'Kindle eBooks', 'Literature & Fiction', 'Kindle eBooks', 'Literature & Fiction', 'Kindle eBooks', 'Romance', 'Kindle eBooks', 'Science Fiction & Fantasy', 'Kindle eBooks', 'Mystery, Thriller & Suspense', 'Kindle eBooks', 'Mystery, Thriller & Suspense', 'Kindle eBooks', 'Religion & Spirituality', 'Kindle eBooks', 'Literature & Fiction', 'Kindle eBooks', 'Romance', 'Kindle eBooks', 'Romance', 'Kindle eBooks', 'Literature & Fiction', 'Kindle eBooks', 'Literature & Fiction', 'Kindle eBooks', 'Romance', 'Kindle eBooks', 'Literature & Fiction', 'Kindle eBooks', 'Literature & Fiction', 'Kindle eBooks', 'Romance', 'Kindle eBooks', 'Teen & Young Adult', 'Kindle eBooks', 'Literature & Fiction', 'Kindle eBooks', 'Romance', 'Kindle eBooks', 'Romance', 'Kindle eBooks', 'Religion & Spirituality', 'Kindle eBooks', 'Mystery, Thriller & Suspense', 'Kindle eBooks', 'Science Fiction & Fantasy', 'Kindle eBooks', 'Literature & Fiction', 'Kindle eBooks', 'Romance', 'Kindle eBooks', 'Literature & Fiction', 'Kindle eBooks', 'Mystery, Thriller & Suspense', 'Kindle eBooks', 'Mystery, Thriller & Suspense', 'Kindle eBooks', 'Romance', 'Kindle eBooks', 'Literature & Fiction', 'Kindle eBooks', 'Literature & Fiction', 'Kindle eBooks', 'Science Fiction & Fantasy', 'Kindle eBooks', 'Romance', 'Kindle eBooks', 'Science Fiction & Fantasy', 'Kindle eBooks', 'Science Fiction & Fantasy', 'Kindle eBooks', 'Religion & Spirituality', 'Kindle eBooks', 'Romance', 'Kindle eBooks', 'Literature & Fiction', 'Kindle eBooks', \"Children's eBooks\", 'Kindle eBooks', 'Romance', 'Kindle eBooks', 'Romance', 'Kindle eBooks', 'Romance', 'Kindle eBooks', 'Science Fiction & Fantasy', 'Kindle eBooks', 'Romance', 'Kindle eBooks', 'Religion & Spirituality', 'Kindle eBooks', 'Literature & Fiction', 'Kindle eBooks', 'Literature & Fiction', 'Kindle eBooks', 'Mystery, Thriller & Suspense', 'Kindle eBooks', 'Literature & Fiction', 'Kindle eBooks', 'Literature & Fiction', 'Kindle eBooks', 'Literature & Fiction', 'Kindle eBooks', 'Mystery, Thriller & Suspense', 'Kindle eBooks', 'Literature & Fiction', 'Kindle eBooks', 'Romance', 'Kindle eBooks', 'Romance', 'Kindle eBooks', 'Literature & Fiction', 'Kindle eBooks', \"Children's eBooks\", 'Kindle eBooks', 'Literature & Fiction', 'Kindle eBooks', 'Romance', 'Kindle eBooks', 'Romance', 'Kindle eBooks', 'Science Fiction & Fantasy', 'Kindle eBooks', 'Literature & Fiction', 'Kindle eBooks', 'Mystery, Thriller & Suspense', 'Kindle eBooks', 'Science Fiction & Fantasy', 'Kindle eBooks', 'Mystery, Thriller & Suspense', 'Kindle eBooks', 'Literature & Fiction', 'Kindle eBooks', 'Literature & Fiction', 'Kindle eBooks', 'Romance', 'Kindle eBooks', 'Literature & Fiction', 'Kindle eBooks', 'Romance', 'Kindle eBooks', 'Literature & Fiction', 'Kindle eBooks', 'Literature & Fiction', 'Kindle eBooks', 'Literature & Fiction', 'Kindle eBooks', 'Romance', 'Kindle eBooks', 'Literature & Fiction', 'Kindle eBooks', 'Business & Money', 'Kindle eBooks', 'Science Fiction & Fantasy', 'Kindle eBooks', 'Romance', 'Kindle eBooks', 'Literature & Fiction', 'Kindle eBooks', 'Literature & Fiction', 'Kindle eBooks', 'Romance', 'Kindle eBooks', 'Literature & Fiction', 'Kindle eBooks', 'Teen & Young Adult', 'Kindle eBooks', 'Romance', 'Kindle eBooks', \"Children's eBooks\", 'Kindle eBooks', 'Romance', 'Kindle eBooks', 'Mystery, Thriller & Suspense', 'Kindle eBooks', 'Romance', 'Kindle eBooks', \"Children's eBooks\", 'Kindle eBooks', 'Romance', 'Kindle eBooks', 'Religion & Spirituality', 'Kindle eBooks', 'Romance', 'Kindle eBooks', 'Literature & Fiction', 'Kindle eBooks', 'Romance', 'Kindle eBooks', 'Literature & Fiction', 'Kindle eBooks', 'Literature & Fiction', 'Kindle eBooks', 'Literature & Fiction', 'Kindle eBooks', 'Romance', 'Kindle eBooks', 'Literature & Fiction', 'Kindle eBooks', 'Romance', 'Kindle eBooks', 'Literature & Fiction', 'Kindle eBooks', 'Biographies & Memoirs', 'Kindle eBooks', 'Literature & Fiction', 'Kindle eBooks', 'Literature & Fiction', 'Kindle eBooks', 'Literature & Fiction', 'Kindle eBooks', 'Romance', 'Kindle eBooks', 'Science Fiction & Fantasy', 'Kindle eBooks', 'Mystery, Thriller & Suspense', 'Kindle eBooks', 'Literature & Fiction', 'Kindle eBooks', 'Literature & Fiction', 'Kindle eBooks', 'Romance', 'Kindle eBooks', 'Literature & Fiction', 'Kindle eBooks', 'Literature & Fiction', 'Kindle eBooks', 'Literature & Fiction', 'Kindle eBooks', 'Romance', 'Kindle eBooks', 'Religion & Spirituality', 'Kindle eBooks', 'Romance', 'Kindle eBooks', 'Literature & Fiction', 'Kindle eBooks', 'Romance', 'Kindle eBooks', 'Romance', 'Kindle eBooks', 'Romance', 'Kindle eBooks', 'Mystery, Thriller & Suspense', 'Kindle eBooks', 'Romance', 'Kindle eBooks', 'Romance', 'Kindle eBooks', 'Literature & Fiction', 'Kindle eBooks', 'Literature & Fiction', 'Kindle eBooks', 'Literature & Fiction', 'Kindle eBooks', 'Literature & Fiction', 'Kindle eBooks', 'Religion & Spirituality', 'Kindle eBooks', 'Religion & Spirituality', 'Kindle eBooks', 'Literature & Fiction', 'Kindle eBooks', 'Literature & Fiction', 'Kindle eBooks', 'Literature & Fiction', 'Kindle eBooks', 'Literature & Fiction', 'Kindle eBooks', 'Literature & Fiction', 'Kindle eBooks', 'Romance', 'Kindle eBooks', 'Biographies & Memoirs', 'Kindle eBooks', 'Literature & Fiction', 'Kindle eBooks', 'Literature & Fiction', 'Kindle eBooks', 'Literature & Fiction', 'Kindle eBooks', 'Romance', 'Kindle eBooks', 'Romance', 'Kindle eBooks', \"Children's eBooks\", 'Kindle eBooks', \"Children's eBooks\", 'Kindle eBooks', 'Romance', 'Kindle eBooks', 'Romance', 'Kindle eBooks', 'Literature & Fiction', 'Kindle eBooks', 'Romance', 'Kindle eBooks', 'Romance', 'Kindle eBooks', 'Literature & Fiction', 'Kindle eBooks', 'Science Fiction & Fantasy', 'Kindle eBooks', 'Literature & Fiction', 'Kindle eBooks', 'Literature & Fiction', 'Kindle eBooks', 'Mystery, Thriller & Suspense', 'Kindle eBooks', 'Literature & Fiction', 'Kindle eBooks', 'Literature & Fiction', 'Kindle eBooks', 'Literature & Fiction', 'Kindle eBooks', 'Literature & Fiction', 'Kindle eBooks', 'Literature & Fiction', 'Kindle eBooks', 'Literature & Fiction', 'Kindle eBooks', 'Literature & Fiction', 'Kindle eBooks', 'Literature & Fiction', 'Kindle eBooks', 'Literature & Fiction', 'Kindle eBooks', 'Politics & Social Sciences', 'Kindle eBooks', 'Romance', 'Kindle eBooks', 'Literature & Fiction', 'Kindle eBooks', 'Literature & Fiction', 'Kindle eBooks', 'Literature & Fiction', 'Kindle eBooks', 'Science Fiction & Fantasy', 'Kindle eBooks', 'Romance', 'Kindle eBooks', 'Biographies & Memoirs', 'Kindle eBooks', 'Teen & Young Adult', 'Kindle eBooks', 'Literature & Fiction', 'Kindle eBooks', 'Literature & Fiction', 'Kindle eBooks', 'Religion & Spirituality', 'Kindle eBooks', 'Literature & Fiction', 'Kindle eBooks', 'Literature & Fiction', 'Kindle eBooks', 'Literature & Fiction', 'Kindle eBooks', 'Romance', 'Kindle eBooks', 'Science Fiction & Fantasy', 'Kindle eBooks', 'Literature & Fiction', 'Kindle eBooks', 'Mystery, Thriller & Suspense', 'Kindle eBooks', 'Literature & Fiction', 'Kindle eBooks', 'Literature & Fiction', 'Kindle eBooks', 'Literature & Fiction', 'Kindle eBooks', 'Literature & Fiction', 'Kindle eBooks', 'Romance', 'Kindle eBooks', 'Romance', 'Kindle eBooks', 'Literature & Fiction', 'Kindle eBooks', 'Biographies & Memoirs', 'Kindle eBooks', 'Science Fiction & Fantasy', 'Kindle eBooks', \"Children's eBooks\", 'Kindle eBooks', 'Romance', 'Kindle eBooks', 'Romance', 'Kindle eBooks', 'Literature & Fiction', 'Kindle eBooks', 'Romance', 'Kindle eBooks', 'Literature & Fiction', 'Kindle eBooks', 'Romance', 'Kindle eBooks', 'Literature & Fiction', 'Kindle eBooks', 'Humor & Entertainment', 'Kindle eBooks', 'Literature & Fiction', 'Kindle eBooks', 'Romance', 'Kindle eBooks', 'Romance', 'Kindle eBooks', 'Literature & Fiction', 'Kindle eBooks', 'Romance', 'Kindle eBooks', 'Mystery, Thriller & Suspense', 'Kindle eBooks', 'Literature & Fiction', 'Kindle eBooks', 'Science Fiction & Fantasy', 'Kindle eBooks', 'Literature & Fiction', 'Kindle eBooks', 'Romance', 'Kindle eBooks', 'Literature & Fiction', 'Kindle eBooks', 'Romance', 'Kindle eBooks', 'Literature & Fiction', 'Kindle eBooks', 'Literature & Fiction', 'Kindle eBooks', 'Business & Money', 'Kindle eBooks', \"Children's eBooks\", 'Kindle eBooks', 'Literature & Fiction', 'Kindle eBooks', 'Romance', 'Kindle eBooks', 'Literature & Fiction', 'Kindle eBooks', 'Literature & Fiction', 'Kindle eBooks', 'Literature & Fiction', 'Kindle eBooks', 'Literature & Fiction', 'Kindle eBooks', 'Romance', 'Kindle eBooks', 'Literature & Fiction', 'Kindle eBooks', 'Romance', 'Kindle eBooks', 'Mystery, Thriller & Suspense', 'Kindle eBooks', 'Science Fiction & Fantasy', 'Kindle eBooks', 'Romance', 'Kindle eBooks', 'Literature & Fiction', 'Kindle eBooks', 'Romance', 'Kindle eBooks', 'Romance', 'Kindle eBooks', 'Religion & Spirituality', 'Kindle eBooks', 'Literature & Fiction', 'Kindle eBooks', 'Romance', 'Kindle eBooks', 'Science Fiction & Fantasy', 'Kindle eBooks', 'Literature & Fiction', 'Kindle eBooks', 'Literature & Fiction', 'Kindle eBooks', 'Mystery, Thriller & Suspense', 'Kindle eBooks', \"Children's eBooks\", 'Kindle eBooks', 'Teen & Young Adult', 'Kindle eBooks', 'Romance', 'Kindle eBooks', 'Romance', 'Kindle eBooks', 'Literature & Fiction', 'Kindle eBooks', 'Literature & Fiction', 'Kindle eBooks', 'Romance', 'Kindle eBooks', 'Mystery, Thriller & Suspense', 'Kindle eBooks', 'Literature & Fiction', 'Kindle eBooks', 'Literature & Fiction', 'Kindle eBooks', 'Literature & Fiction', 'Kindle eBooks', 'Literature & Fiction', 'Kindle eBooks', 'Literature & Fiction', 'Kindle eBooks', \"Children's eBooks\", 'Kindle eBooks', 'Science Fiction & Fantasy', 'Kindle eBooks', 'Romance', 'Kindle eBooks', 'Mystery, Thriller & Suspense', 'Kindle eBooks', 'Romance', 'Kindle eBooks', 'Romance', 'Kindle eBooks', 'Romance', 'Kindle eBooks', 'Literature & Fiction', 'Kindle eBooks', 'Literature & Fiction', 'Kindle eBooks', 'Literature & Fiction', 'Kindle eBooks', 'Romance', 'Kindle eBooks', 'Religion & Spirituality', 'Kindle eBooks', 'Reference', 'Kindle eBooks', 'Romance', 'Kindle eBooks', 'Romance', 'Kindle eBooks', 'Science Fiction & Fantasy', 'Kindle eBooks', 'Literature & Fiction', 'Kindle eBooks', 'Literature & Fiction', 'Kindle eBooks', 'Literature & Fiction', 'Kindle eBooks', 'Literature & Fiction', 'Kindle eBooks', 'Literature & Fiction', 'Kindle eBooks', 'Romance', 'Kindle eBooks', 'Literature & Fiction', 'Kindle eBooks', 'Literature & Fiction', 'Kindle eBooks', 'Biographies & Memoirs', 'Kindle eBooks', 'Romance', 'Kindle eBooks', 'Literature & Fiction', 'Kindle eBooks', 'Mystery, Thriller & Suspense', 'Kindle eBooks', 'Literature & Fiction', 'Kindle eBooks', 'Literature & Fiction', 'Kindle eBooks', 'Teen & Young Adult', 'Kindle eBooks', 'Sports & Outdoors', 'Kindle eBooks', 'Literature & Fiction', 'Kindle eBooks', 'Literature & Fiction', 'Kindle eBooks', 'Literature & Fiction', 'Kindle eBooks', 'Romance', 'Kindle eBooks', 'Literature & Fiction', 'Kindle eBooks', 'Literature & Fiction', 'Kindle eBooks', 'Literature & Fiction', 'Kindle eBooks', 'Literature & Fiction', 'Kindle eBooks', 'Science Fiction & Fantasy', 'Kindle eBooks', 'Mystery, Thriller & Suspense', 'Kindle eBooks', 'Literature & Fiction', 'Kindle eBooks', 'Romance', 'Kindle eBooks', 'Literature & Fiction', 'Kindle eBooks', 'Literature & Fiction', 'Kindle eBooks', 'Literature & Fiction', 'Kindle eBooks', 'Literature & Fiction', 'Kindle eBooks', 'Literature & Fiction', 'Kindle eBooks', 'Literature & Fiction', 'Kindle eBooks', 'Literature & Fiction', 'Kindle eBooks', 'Literature & Fiction', 'Kindle eBooks', 'Literature & Fiction', 'Kindle eBooks', 'Romance', 'Kindle eBooks', 'Romance', 'Kindle eBooks', 'Romance', 'Kindle eBooks', 'Science Fiction & Fantasy', 'Kindle eBooks', 'Literature & Fiction', 'Kindle eBooks', 'Literature & Fiction', 'Kindle eBooks', 'Literature & Fiction', 'Kindle eBooks', 'Mystery, Thriller & Suspense', 'Kindle eBooks', 'Literature & Fiction', 'Kindle eBooks', 'Literature & Fiction', 'Kindle eBooks', 'Literature & Fiction', 'Kindle eBooks', 'Literature & Fiction', 'Kindle eBooks', 'Romance', 'Kindle eBooks', 'Arts & Photography', 'Kindle eBooks', 'Politics & Social Sciences', 'Kindle eBooks', 'Literature & Fiction', 'Kindle eBooks', 'Literature & Fiction', 'Kindle eBooks', 'Mystery, Thriller & Suspense', 'Kindle eBooks', 'Religion & Spirituality', 'Kindle eBooks', 'Literature & Fiction', 'Kindle eBooks', 'Romance', 'Kindle eBooks', 'Teen & Young Adult', 'Kindle eBooks', 'Literature & Fiction', 'Kindle eBooks', 'Literature & Fiction', 'Kindle eBooks', 'Science Fiction & Fantasy', 'Kindle eBooks', 'Literature & Fiction', 'Kindle eBooks', 'Literature & Fiction', 'Kindle eBooks', 'Romance', 'Kindle eBooks', 'Teen & Young Adult', 'Kindle eBooks', 'Literature & Fiction', 'Kindle eBooks', 'Science Fiction & Fantasy', 'Kindle eBooks', 'Romance', 'Kindle eBooks', 'Literature & Fiction', 'Kindle eBooks', 'Business & Money', 'Kindle eBooks', 'Romance', 'Kindle eBooks', 'Teen & Young Adult', 'Kindle eBooks', 'Literature & Fiction', 'Kindle eBooks', 'Literature & Fiction', 'Kindle eBooks', 'Romance', 'Kindle eBooks', 'Romance', 'Kindle eBooks', 'Romance', 'Kindle eBooks', 'Romance', 'Kindle eBooks', 'Literature & Fiction', 'Kindle eBooks', 'Romance', 'Kindle eBooks', 'Romance', 'Kindle eBooks', 'Romance', 'Kindle eBooks', 'Romance', 'Kindle eBooks', 'Literature & Fiction', 'Kindle eBooks', 'Literature & Fiction', 'Kindle eBooks', 'Literature & Fiction', 'Kindle eBooks', 'Romance', 'Kindle eBooks', 'Literature & Fiction', 'Kindle eBooks', 'Health, Fitness & Dieting', 'Kindle eBooks', 'Literature & Fiction', 'Kindle eBooks', 'Business & Money', 'Kindle eBooks', 'Romance', 'Kindle eBooks', 'Romance', 'Kindle eBooks', 'Romance', 'Kindle eBooks', 'Mystery, Thriller & Suspense', 'Kindle eBooks', 'Romance', 'Kindle eBooks', 'Romance', 'Kindle eBooks', 'Romance', 'Kindle eBooks', 'Teen & Young Adult', 'Kindle eBooks', 'Religion & Spirituality', 'Kindle eBooks', 'Literature & Fiction', 'Kindle eBooks', 'Science Fiction & Fantasy', 'Kindle eBooks', 'Literature & Fiction', 'Kindle eBooks', 'Mystery, Thriller & Suspense', 'Kindle eBooks', 'Medical eBooks', 'Kindle eBooks', 'Teen & Young Adult', 'Kindle eBooks', 'Literature & Fiction', 'Kindle eBooks', 'Romance', 'Kindle eBooks', 'Romance', 'Kindle eBooks', 'Literature & Fiction', 'Kindle eBooks', 'Literature & Fiction', 'Kindle eBooks', 'Literature & Fiction', 'Kindle eBooks', 'Romance', 'Kindle eBooks', 'Teen & Young Adult', 'Kindle eBooks', 'Science Fiction & Fantasy', 'Kindle eBooks', 'Religion & Spirituality', 'Kindle eBooks', 'Science Fiction & Fantasy', 'Kindle eBooks', 'Literature & Fiction', 'Kindle eBooks', 'Literature & Fiction', 'Kindle eBooks', 'Literature & Fiction', 'Kindle eBooks', 'Literature & Fiction', 'Kindle eBooks', 'Romance', 'Kindle eBooks', 'Literature & Fiction', 'Kindle eBooks', 'Literature & Fiction', 'Kindle eBooks', 'Literature & Fiction', 'Kindle eBooks', 'Literature & Fiction', 'Kindle eBooks', 'Literature & Fiction', 'Kindle eBooks', 'Literature & Fiction', 'Kindle eBooks', 'Romance', 'Kindle eBooks', 'Literature & Fiction', 'Kindle eBooks', 'Romance', 'Kindle eBooks', 'Romance', 'Kindle eBooks', 'Romance', 'Kindle eBooks', 'Romance', 'Kindle eBooks', 'Romance', 'Kindle eBooks', 'Romance', 'Kindle eBooks', 'Religion & Spirituality', 'Kindle eBooks', 'Literature & Fiction', 'Kindle eBooks', 'Literature & Fiction', 'Kindle eBooks', 'Mystery, Thriller & Suspense', 'Kindle eBooks', 'Literature & Fiction', 'Kindle eBooks', 'Literature & Fiction', 'Kindle eBooks', 'Literature & Fiction', 'Kindle eBooks', 'Romance', 'Kindle eBooks', 'Religion & Spirituality', 'Kindle eBooks', 'Literature & Fiction', 'Kindle eBooks', 'Literature & Fiction', 'Kindle eBooks', 'Romance', 'Kindle eBooks', 'Literature & Fiction', 'Kindle eBooks', 'Romance', 'Kindle eBooks', 'Literature & Fiction', 'Kindle eBooks', 'Literature & Fiction', 'Kindle eBooks', 'Romance', 'Kindle eBooks', 'Romance', 'Kindle eBooks', 'Literature & Fiction', 'Kindle eBooks', 'Literature & Fiction', 'Kindle eBooks', 'Politics & Social Sciences', 'Kindle eBooks', 'Romance', 'Kindle eBooks', 'Romance', 'Kindle eBooks', 'Romance', 'Kindle eBooks', 'Literature & Fiction', 'Kindle eBooks', 'Romance', 'Kindle eBooks', 'Literature & Fiction', 'Kindle eBooks', 'Romance', 'Kindle eBooks', 'Romance', 'Kindle eBooks', 'Literature & Fiction', 'Kindle eBooks', 'Literature & Fiction', 'Kindle Short Reads', 'One hour (33-43 pages)', 'Kindle eBooks', 'Literature & Fiction', 'Kindle eBooks', 'Romance', 'Kindle eBooks', 'Literature & Fiction', 'Kindle eBooks', 'Romance', 'Kindle eBooks', 'Literature & Fiction', 'Kindle eBooks', 'Literature & Fiction', 'Kindle eBooks', 'Literature & Fiction', 'Kindle eBooks', 'Romance', 'Kindle eBooks', 'Literature & Fiction', 'Kindle eBooks', 'Mystery, Thriller & Suspense', 'Kindle eBooks', 'History', 'Kindle eBooks', 'Literature & Fiction', 'Kindle eBooks', 'Teen & Young Adult', 'Kindle eBooks', 'Romance', 'Kindle eBooks', 'Literature & Fiction', 'Kindle eBooks', 'Literature & Fiction', 'Kindle eBooks', 'Literature & Fiction', 'Kindle eBooks', 'Literature & Fiction', 'Kindle eBooks', 'Literature & Fiction', 'Kindle eBooks', 'Science Fiction & Fantasy', 'Kindle eBooks', 'Literature & Fiction', 'Kindle eBooks', 'Science Fiction & Fantasy', 'Kindle eBooks', 'Literature & Fiction', 'Kindle eBooks', 'Business & Money', 'Kindle eBooks', 'Romance', 'Kindle eBooks', 'Literature & Fiction', 'Kindle eBooks', 'Literature & Fiction', 'Kindle eBooks', 'Literature & Fiction', 'Kindle eBooks', 'Romance', 'Kindle eBooks', 'Literature & Fiction', 'Kindle eBooks', 'Religion & Spirituality', 'Kindle eBooks', 'Mystery, Thriller & Suspense', 'Kindle eBooks', 'Teen & Young Adult', 'Kindle eBooks', 'Literature & Fiction', 'Kindle eBooks', 'Literature & Fiction', 'Kindle eBooks', 'Romance', 'Kindle eBooks', 'Literature & Fiction', 'Kindle eBooks', 'Mystery, Thriller & Suspense', 'Kindle eBooks', 'Romance', 'Kindle eBooks', 'Literature & Fiction', 'Kindle eBooks', 'Literature & Fiction', 'Kindle eBooks', 'Romance', 'Kindle eBooks', 'Mystery, Thriller & Suspense', 'Kindle eBooks', 'Literature & Fiction', 'Kindle eBooks', 'Comics, Manga & Graphic Novels', 'Kindle eBooks', 'Literature & Fiction', 'Kindle eBooks', 'Literature & Fiction', 'Kindle eBooks', 'Romance', 'Kindle eBooks', 'Romance', 'Kindle eBooks', 'Literature & Fiction', 'Kindle eBooks', 'Literature & Fiction', 'Kindle eBooks', 'Romance', 'Kindle eBooks', 'Literature & Fiction', 'Kindle eBooks', 'Literature & Fiction', 'Kindle eBooks', 'Literature & Fiction', 'Kindle eBooks', 'Literature & Fiction', 'Kindle eBooks', 'Literature & Fiction', 'Kindle eBooks', 'Literature & Fiction', 'Kindle eBooks', 'Romance', 'Kindle eBooks', 'Mystery, Thriller & Suspense', 'Kindle eBooks', 'Literature & Fiction', 'Kindle eBooks', 'Mystery, Thriller & Suspense', 'Kindle eBooks', 'Literature & Fiction', 'Kindle eBooks', 'Romance', 'Kindle eBooks', 'Literature & Fiction', 'Kindle eBooks', 'Romance', 'Kindle eBooks', 'Romance', 'Kindle eBooks', 'Romance', 'Kindle eBooks', 'Literature & Fiction', 'Kindle eBooks', 'Literature & Fiction', 'Kindle eBooks', 'Literature & Fiction', 'Kindle eBooks', 'Literature & Fiction', 'Kindle eBooks', 'Romance', 'Kindle eBooks', 'Literature & Fiction', 'Kindle eBooks', 'Literature & Fiction', 'Kindle eBooks', 'Literature & Fiction', 'Kindle eBooks', 'Literature & Fiction', 'Kindle eBooks', 'Literature & Fiction', 'Kindle eBooks', 'Literature & Fiction', 'Kindle eBooks', 'Science Fiction & Fantasy', 'Kindle eBooks', 'Literature & Fiction', 'Kindle eBooks', 'Mystery, Thriller & Suspense', 'Kindle eBooks', 'Literature & Fiction', 'Kindle eBooks', 'Literature & Fiction', 'Kindle eBooks', 'Literature & Fiction', 'Kindle eBooks', 'Romance', 'Kindle eBooks', 'Mystery, Thriller & Suspense', 'Kindle eBooks', 'Romance', 'Kindle eBooks', 'Literature & Fiction', 'Kindle eBooks', 'Literature & Fiction', 'Kindle eBooks', 'Science Fiction & Fantasy', 'Kindle eBooks', 'Literature & Fiction', 'Kindle eBooks', 'Literature & Fiction', 'Kindle eBooks', 'Literature & Fiction', 'Kindle eBooks', 'Romance', 'Kindle eBooks', 'Romance', 'Kindle eBooks', 'Mystery, Thriller & Suspense', 'Kindle eBooks', 'Literature & Fiction', 'Kindle eBooks', 'Literature & Fiction', 'Kindle eBooks', 'Romance', 'Kindle eBooks', 'Romance', 'Kindle eBooks', 'Literature & Fiction', 'Kindle eBooks', 'Mystery, Thriller & Suspense', 'Kindle eBooks', 'Romance', 'Kindle eBooks', 'Literature & Fiction', 'Kindle eBooks', 'Literature & Fiction', 'Kindle eBooks', 'Literature & Fiction', 'Kindle eBooks', 'Teen & Young Adult', 'Kindle eBooks', 'Religion & Spirituality', 'Kindle eBooks', 'Literature & Fiction', 'Kindle eBooks', 'Literature & Fiction', 'Kindle eBooks', 'Science Fiction & Fantasy', 'Kindle eBooks', 'Literature & Fiction', 'Kindle eBooks', 'Literature & Fiction', 'Kindle eBooks', 'Romance', 'Kindle eBooks', 'Romance', 'Kindle eBooks', 'Literature & Fiction', 'Kindle eBooks', 'Romance', 'Kindle eBooks', 'Mystery, Thriller & Suspense', 'Kindle eBooks', 'Romance', 'Kindle eBooks', 'Romance', 'Kindle eBooks', 'Romance', 'Kindle eBooks', 'Literature & Fiction', 'Kindle eBooks', 'Romance', 'Kindle eBooks', 'Mystery, Thriller & Suspense', 'Kindle eBooks', 'Romance', 'Kindle eBooks', 'Literature & Fiction', 'Kindle eBooks', 'Literature & Fiction', 'Kindle eBooks', 'Romance', 'Kindle eBooks', 'Romance', 'Kindle eBooks', 'Science Fiction & Fantasy', 'Kindle eBooks', 'Literature & Fiction', 'Kindle eBooks', 'Literature & Fiction', 'Kindle eBooks', 'Literature & Fiction', 'Kindle eBooks', 'Romance', 'Kindle eBooks', 'Romance', 'Kindle eBooks', 'Mystery, Thriller & Suspense', 'Kindle eBooks', 'Science Fiction & Fantasy', 'Kindle eBooks', 'Mystery, Thriller & Suspense', 'Kindle eBooks', 'Mystery, Thriller & Suspense', 'Kindle eBooks', 'Literature & Fiction', 'Kindle eBooks', 'Literature & Fiction', 'Kindle eBooks', 'Teen & Young Adult', 'Kindle eBooks', 'Biographies & Memoirs', 'Kindle eBooks', 'Literature & Fiction', 'Kindle eBooks', 'Literature & Fiction', 'Kindle eBooks', 'Literature & Fiction', 'Kindle eBooks', 'Romance', 'Kindle eBooks', 'Literature & Fiction', 'Kindle eBooks', 'Literature & Fiction', 'Kindle eBooks', 'Literature & Fiction', 'Kindle eBooks', 'Mystery, Thriller & Suspense', 'Kindle eBooks', 'Religion & Spirituality', 'Kindle eBooks', 'Romance', 'Kindle eBooks', 'Romance', 'Kindle eBooks', 'Literature & Fiction', 'Kindle eBooks', 'Mystery, Thriller & Suspense', 'Kindle eBooks', 'Romance', 'Kindle eBooks', 'Romance', 'Kindle eBooks', 'Literature & Fiction', 'Kindle eBooks', 'Romance', 'Kindle eBooks', 'Religion & Spirituality', 'Kindle eBooks', 'Science Fiction & Fantasy', 'Kindle eBooks', 'Romance', 'Kindle eBooks', 'Mystery, Thriller & Suspense', 'Kindle eBooks', 'Literature & Fiction', 'Kindle eBooks', 'Romance', 'Kindle eBooks', 'Literature & Fiction', 'Kindle eBooks', 'Science Fiction & Fantasy', 'Kindle eBooks', 'Literature & Fiction', 'Kindle eBooks', \"Children's eBooks\", 'Kindle eBooks', 'Literature & Fiction', 'Kindle eBooks', 'Romance', 'Kindle eBooks', 'Romance', 'Kindle eBooks', 'Romance', 'Kindle eBooks', 'Literature & Fiction', 'Kindle eBooks', 'Literature & Fiction', 'Kindle eBooks', 'Mystery, Thriller & Suspense', 'Kindle eBooks', 'Romance', 'Kindle eBooks', 'Romance', 'Kindle eBooks', 'Romance', 'Kindle eBooks', 'Literature & Fiction', 'Kindle eBooks', 'Romance', 'Kindle eBooks', 'Literature & Fiction', 'Kindle eBooks', 'Romance', 'Kindle eBooks', 'Literature & Fiction', 'Kindle eBooks', 'Teen & Young Adult', 'Kindle eBooks', 'Romance', 'Kindle eBooks', 'Literature & Fiction', 'Kindle eBooks', 'Romance', 'Kindle eBooks', 'Literature & Fiction', 'Kindle eBooks', 'Religion & Spirituality', 'Kindle eBooks', 'Literature & Fiction', 'Kindle eBooks', 'Romance', 'Kindle eBooks', 'Romance', 'Kindle eBooks', \"Children's eBooks\", 'Kindle eBooks', 'Mystery, Thriller & Suspense', 'Kindle eBooks', 'Romance', 'Kindle eBooks', 'Literature & Fiction', 'Kindle eBooks', 'Religion & Spirituality', 'Kindle eBooks', 'Mystery, Thriller & Suspense', 'Kindle eBooks', 'Science Fiction & Fantasy', 'Kindle eBooks', 'Romance', 'Kindle eBooks', 'Teen & Young Adult', 'Kindle eBooks', 'Literature & Fiction', 'Kindle eBooks', 'Literature & Fiction', 'Kindle eBooks', 'Literature & Fiction', 'Kindle eBooks', 'Romance', 'Kindle eBooks', 'Romance', 'Kindle eBooks', 'Science Fiction & Fantasy', 'Kindle eBooks', 'Romance', 'Kindle eBooks', 'Religion & Spirituality', 'Kindle eBooks', 'Literature & Fiction', 'Kindle eBooks', 'Religion & Spirituality', 'Kindle eBooks', 'Romance', 'Kindle eBooks', 'Science Fiction & Fantasy', 'Kindle eBooks', 'Romance', 'Kindle eBooks', 'Literature & Fiction', 'Kindle eBooks', 'Literature & Fiction', 'Kindle eBooks', 'Literature & Fiction', 'Kindle eBooks', 'Science Fiction & Fantasy', 'Kindle eBooks', 'Romance', 'Kindle eBooks', 'Literature & Fiction', 'Kindle eBooks', 'Romance', 'Kindle eBooks', 'Literature & Fiction', 'Kindle eBooks', 'Literature & Fiction', 'Kindle eBooks', 'Mystery, Thriller & Suspense', 'Kindle eBooks', 'Romance', 'Kindle eBooks', 'Romance', 'Kindle eBooks', 'Romance', 'Kindle eBooks', 'Self-Help', 'Kindle eBooks', 'Romance', 'Kindle eBooks', 'Mystery, Thriller & Suspense', 'Kindle eBooks', 'Romance', 'Kindle eBooks', 'Mystery, Thriller & Suspense', 'Kindle eBooks', 'Humor & Entertainment', 'Kindle eBooks', 'Literature & Fiction', 'Kindle eBooks', 'Literature & Fiction', 'Kindle eBooks', 'Romance', 'Kindle eBooks', 'Literature & Fiction', 'Kindle eBooks', 'Mystery, Thriller & Suspense', 'Kindle eBooks', 'Literature & Fiction', 'Kindle eBooks', 'Literature & Fiction', 'Kindle eBooks', 'Romance', 'Kindle eBooks', 'Romance', 'Kindle eBooks', 'Literature & Fiction', 'Kindle eBooks', 'Romance', 'Kindle eBooks', 'Romance', 'Kindle eBooks', 'Romance', 'Kindle eBooks', 'Religion & Spirituality', 'Kindle eBooks', 'Romance', 'Kindle eBooks', 'Literature & Fiction', 'Kindle eBooks', 'Romance', 'Kindle eBooks', 'Science Fiction & Fantasy', 'Kindle eBooks', 'Literature & Fiction', 'Kindle eBooks', 'Science Fiction & Fantasy', 'Kindle eBooks', 'Literature & Fiction', 'Kindle eBooks', 'Literature & Fiction', 'Kindle eBooks', 'Literature & Fiction', 'Kindle eBooks', 'Literature & Fiction', 'Kindle eBooks', 'Romance', 'Kindle eBooks', 'Literature & Fiction', 'Kindle eBooks', 'Romance', 'Kindle eBooks', 'Science Fiction & Fantasy', 'Kindle eBooks', 'Literature & Fiction', 'Kindle eBooks', 'Literature & Fiction', 'Kindle eBooks', 'Mystery, Thriller & Suspense', 'Kindle eBooks', 'Romance', 'Kindle eBooks', 'Literature & Fiction', 'Kindle eBooks', 'Literature & Fiction', 'Kindle eBooks', 'Mystery, Thriller & Suspense', 'Kindle eBooks', 'Mystery, Thriller & Suspense', 'Kindle eBooks', 'Mystery, Thriller & Suspense', 'Kindle eBooks', 'Literature & Fiction', 'Kindle eBooks', 'Literature & Fiction', 'Kindle eBooks', 'Literature & Fiction', 'Kindle eBooks', 'Romance', 'Kindle eBooks', 'Science Fiction & Fantasy', 'Kindle eBooks', 'Literature & Fiction', 'Kindle eBooks', 'Literature & Fiction', 'Kindle eBooks', 'Romance', 'Kindle eBooks', 'Romance', 'Kindle eBooks', 'Literature & Fiction', 'Kindle eBooks', 'Literature & Fiction', 'Kindle eBooks', 'Literature & Fiction', 'Kindle eBooks', 'Literature & Fiction', 'Kindle eBooks', 'Mystery, Thriller & Suspense', 'Kindle eBooks', 'Mystery, Thriller & Suspense', 'Kindle eBooks', 'Literature & Fiction', 'Kindle eBooks', 'Science Fiction & Fantasy', 'Kindle eBooks', 'Romance', 'Kindle eBooks', 'Romance', 'Kindle eBooks', 'Literature & Fiction', 'Kindle eBooks', 'Literature & Fiction', 'Kindle eBooks', 'History', 'Kindle eBooks', 'Literature & Fiction', 'Kindle eBooks', 'Romance', 'Kindle eBooks', 'Literature & Fiction', 'Kindle eBooks', 'Literature & Fiction', 'Kindle eBooks', 'Romance', 'Kindle eBooks', 'Romance', 'Kindle eBooks', 'Literature & Fiction', 'Kindle eBooks', 'Romance', 'Kindle eBooks', 'Science Fiction & Fantasy', 'Kindle eBooks', 'Literature & Fiction', 'Kindle eBooks', 'Literature & Fiction', 'Kindle eBooks', 'Romance', 'Kindle eBooks', 'Literature & Fiction', 'Kindle eBooks', 'Literature & Fiction', 'Kindle eBooks', 'Romance', 'Kindle eBooks', 'Literature & Fiction', 'Kindle eBooks', 'Romance', 'Kindle eBooks', 'Literature & Fiction', 'Kindle eBooks', 'Literature & Fiction', 'Kindle eBooks', 'Literature & Fiction', 'Kindle eBooks', 'Romance', 'Kindle eBooks', 'Literature & Fiction', 'Kindle eBooks', 'Religion & Spirituality', 'Kindle eBooks', 'Literature & Fiction', 'Kindle eBooks', 'Literature & Fiction', 'Kindle eBooks', 'Literature & Fiction', 'Kindle eBooks', 'Literature & Fiction', 'Kindle eBooks', 'Mystery, Thriller & Suspense', 'Kindle eBooks', 'Romance', 'Kindle eBooks', 'Teen & Young Adult', 'Kindle eBooks', 'Literature & Fiction', 'Kindle eBooks', 'Romance', 'Kindle eBooks', 'Literature & Fiction', 'Kindle eBooks', 'Literature & Fiction', 'Kindle eBooks', 'Romance', 'Kindle eBooks', 'Literature & Fiction', 'Kindle eBooks', 'Literature & Fiction', 'Kindle eBooks', 'Literature & Fiction', 'Kindle eBooks', 'Teen & Young Adult', 'Kindle eBooks', 'Literature & Fiction', 'Kindle eBooks', 'Humor & Entertainment', 'Kindle eBooks', 'Reference', 'Kindle eBooks', 'Romance', 'Kindle eBooks', 'Literature & Fiction', 'Kindle eBooks', 'Literature & Fiction', 'Kindle eBooks', 'Literature & Fiction', 'Kindle eBooks', 'Biographies & Memoirs', 'Kindle eBooks', 'Mystery, Thriller & Suspense', 'Kindle eBooks', 'Literature & Fiction', 'Kindle eBooks', 'Literature & Fiction', 'Kindle eBooks', 'Literature & Fiction', 'Kindle eBooks', 'Literature & Fiction', 'Kindle eBooks', 'Romance', 'Kindle eBooks', 'Romance', 'Kindle eBooks', 'Literature & Fiction', 'Kindle eBooks', 'Romance', 'Kindle eBooks', 'Science Fiction & Fantasy', 'Kindle eBooks', 'Literature & Fiction', 'Kindle eBooks', 'Literature & Fiction', 'Kindle eBooks', 'Literature & Fiction', 'Kindle eBooks', 'Romance', 'Kindle eBooks', 'Literature & Fiction', 'Kindle eBooks', 'Mystery, Thriller & Suspense', 'Kindle eBooks', 'Romance', 'Kindle eBooks', 'Romance', 'Kindle eBooks', 'Romance', 'Kindle eBooks', 'Literature & Fiction', 'Kindle eBooks', 'Literature & Fiction', 'Kindle eBooks', 'Literature & Fiction', 'Kindle eBooks', 'Literature & Fiction', 'Kindle eBooks', 'Romance', 'Kindle eBooks', 'Romance', 'Kindle eBooks', 'Romance', 'Kindle eBooks', 'Romance', 'Kindle eBooks', 'Science Fiction & Fantasy', 'Kindle eBooks', 'Literature & Fiction', 'Kindle eBooks', 'Literature & Fiction', 'Kindle eBooks', 'Mystery, Thriller & Suspense', 'Kindle eBooks', 'Romance', 'Kindle eBooks', 'Literature & Fiction', 'Kindle eBooks', 'Literature & Fiction', 'Kindle eBooks', 'Literature & Fiction', 'Kindle eBooks', 'Literature & Fiction', 'Kindle eBooks', 'Literature & Fiction', 'Kindle eBooks', 'Literature & Fiction', 'Kindle eBooks', 'Romance', 'Kindle eBooks', 'Romance', 'Kindle eBooks', 'Romance', 'Kindle eBooks', 'Romance', 'Kindle eBooks', 'Romance', 'Kindle eBooks', 'Science Fiction & Fantasy', 'Kindle eBooks', 'Teen & Young Adult', 'Kindle eBooks', 'Literature & Fiction', 'Kindle eBooks', 'Romance', 'Kindle eBooks', 'Romance', 'Kindle eBooks', 'Romance', 'Kindle eBooks', 'Literature & Fiction', 'Kindle eBooks', 'Romance', 'Kindle eBooks', 'Romance', 'Kindle eBooks', 'Teen & Young Adult', 'Kindle eBooks', 'Romance', 'Kindle eBooks', 'Literature & Fiction', 'Kindle eBooks', 'Literature & Fiction', 'Kindle eBooks', 'Literature & Fiction', 'Kindle eBooks', 'Literature & Fiction', 'Kindle eBooks', 'Literature & Fiction', 'Kindle eBooks', 'Literature & Fiction', 'Kindle eBooks', 'Literature & Fiction', 'Kindle eBooks', 'Literature & Fiction', 'Kindle eBooks', 'Mystery, Thriller & Suspense', 'Kindle eBooks', 'Romance', 'Kindle eBooks', 'Literature & Fiction', 'Kindle eBooks', 'Literature & Fiction', 'Kindle eBooks', 'Romance', 'Kindle eBooks', 'Religion & Spirituality', 'Kindle eBooks', 'Romance', 'Kindle eBooks', 'Romance', 'Kindle eBooks', 'Romance', 'Kindle eBooks', 'Literature & Fiction', 'Kindle eBooks', 'Romance', 'Kindle eBooks', 'Romance', 'Kindle eBooks', 'Literature & Fiction', 'Kindle eBooks', 'Literature & Fiction', 'Kindle eBooks', 'Romance', 'Kindle eBooks', 'Literature & Fiction', 'Kindle eBooks', 'Mystery, Thriller & Suspense', 'Kindle eBooks', 'Teen & Young Adult', 'Kindle eBooks', 'Romance', 'Kindle eBooks', 'Romance', 'Kindle eBooks', 'Literature & Fiction', 'Kindle eBooks', 'Romance', 'Kindle eBooks', 'Teen & Young Adult', 'Kindle eBooks', 'Romance', 'Kindle eBooks', 'Romance', 'Kindle eBooks', 'Literature & Fiction', 'Kindle eBooks', 'Mystery, Thriller & Suspense', 'Kindle eBooks', 'Literature & Fiction', 'Kindle eBooks', 'Literature & Fiction', 'Kindle eBooks', 'Literature & Fiction', 'Kindle eBooks', 'Science Fiction & Fantasy', 'Kindle eBooks', 'Literature & Fiction', 'Kindle eBooks', 'Romance', 'Kindle eBooks', 'Literature & Fiction', 'Kindle eBooks', 'Literature & Fiction', 'Kindle eBooks', 'Romance', 'Kindle eBooks', 'Mystery, Thriller & Suspense', 'Kindle eBooks', 'Romance', 'Kindle eBooks', 'Literature & Fiction', 'Kindle eBooks', 'Romance', 'Kindle eBooks', 'Romance', 'Kindle eBooks', 'Romance', 'Kindle eBooks', 'Romance', 'Kindle eBooks', 'Mystery, Thriller & Suspense', 'Kindle eBooks', 'Literature & Fiction', 'Kindle eBooks', 'Literature & Fiction', 'Kindle eBooks', 'Romance', 'Kindle eBooks', 'Mystery, Thriller & Suspense', 'Kindle eBooks', 'Mystery, Thriller & Suspense', 'Kindle eBooks', 'Literature & Fiction', 'Kindle eBooks', 'Romance', 'Kindle eBooks', 'Romance', 'Kindle eBooks', 'Romance', 'Kindle eBooks', 'Religion & Spirituality', 'Kindle eBooks', 'Literature & Fiction', 'Kindle eBooks', 'Literature & Fiction', 'Kindle eBooks', 'Religion & Spirituality', 'Kindle eBooks', 'Literature & Fiction', 'Kindle eBooks', 'Literature & Fiction', 'Kindle eBooks', 'Religion & Spirituality', 'Kindle eBooks', 'Romance', 'Kindle eBooks', 'Literature & Fiction', 'Kindle eBooks', 'Literature & Fiction', 'Kindle eBooks', 'Literature & Fiction', 'Kindle eBooks', 'Literature & Fiction', 'Kindle eBooks', 'Romance', 'Kindle eBooks', 'Romance', 'Kindle eBooks', 'Literature & Fiction', 'Kindle eBooks', 'Literature & Fiction', 'Kindle eBooks', 'Literature & Fiction', 'Kindle eBooks', 'Religion & Spirituality', 'Kindle eBooks', 'Literature & Fiction', 'Kindle eBooks', 'Romance', 'Kindle eBooks', 'Literature & Fiction', 'Kindle eBooks', 'Romance', 'Kindle eBooks', 'Literature & Fiction', 'Kindle eBooks', 'Romance', 'Kindle eBooks', 'Romance', 'Kindle eBooks', 'Literature & Fiction', 'Kindle eBooks', 'Literature & Fiction', 'Kindle eBooks', 'Literature & Fiction', 'Kindle eBooks', 'Literature & Fiction', 'Kindle eBooks', 'Literature & Fiction', 'Kindle eBooks', 'Literature & Fiction', 'Kindle eBooks', 'Romance', 'Kindle eBooks', 'Literature & Fiction', 'Kindle eBooks', 'Romance', 'Kindle eBooks', 'Science Fiction & Fantasy', 'Kindle eBooks', 'Mystery, Thriller & Suspense', 'Kindle eBooks', 'Literature & Fiction', 'Kindle eBooks', 'Literature & Fiction', 'Kindle eBooks', 'Romance', 'Kindle eBooks', 'Romance', 'Kindle eBooks', 'Mystery, Thriller & Suspense', 'Kindle eBooks', 'Mystery, Thriller & Suspense', 'Kindle eBooks', 'Romance', 'Kindle eBooks', 'Romance', 'Kindle eBooks', 'Romance', 'Kindle eBooks', 'Mystery, Thriller & Suspense', 'Kindle eBooks', 'Literature & Fiction', 'Kindle eBooks', 'Literature & Fiction', 'Kindle eBooks', 'Science Fiction & Fantasy', 'Kindle eBooks', 'Literature & Fiction', 'Kindle eBooks', 'Literature & Fiction', 'Kindle eBooks', 'Romance', 'Kindle eBooks', 'Romance', 'Kindle eBooks', 'Literature & Fiction', 'Kindle eBooks', 'Literature & Fiction', 'Kindle eBooks', 'Literature & Fiction', 'Kindle eBooks', 'Literature & Fiction', 'Kindle eBooks', 'Literature & Fiction', 'Kindle eBooks', 'Literature & Fiction', 'Kindle eBooks', 'Romance', 'Kindle eBooks', 'Literature & Fiction', 'Kindle eBooks', 'Literature & Fiction', 'Kindle eBooks', 'Literature & Fiction', 'Kindle eBooks', 'Romance', 'Kindle eBooks', 'Romance', 'Kindle eBooks', 'Literature & Fiction', 'Kindle eBooks', 'Literature & Fiction', 'Kindle eBooks', 'Literature & Fiction', 'Kindle eBooks', 'Romance', 'Kindle eBooks', 'Romance', 'Kindle eBooks', 'Literature & Fiction', 'Kindle eBooks', 'Literature & Fiction', 'Kindle eBooks', 'History', 'Kindle eBooks', 'Science Fiction & Fantasy', 'Kindle eBooks', 'Literature & Fiction', 'Kindle eBooks', 'Romance', 'Kindle eBooks', 'Romance', 'Kindle eBooks', 'Romance', 'Kindle eBooks', 'Romance', 'Kindle eBooks', 'Literature & Fiction', 'Kindle eBooks', 'Literature & Fiction', 'Kindle eBooks', 'Romance', 'Kindle eBooks', 'Literature & Fiction', 'Kindle eBooks', 'Literature & Fiction', 'Kindle eBooks', 'Literature & Fiction', 'Kindle eBooks', 'Literature & Fiction', 'Kindle eBooks', 'Romance', 'Kindle eBooks', 'Romance', 'Kindle eBooks', 'Cookbooks, Food & Wine', 'Kindle eBooks', 'Literature & Fiction', 'Kindle eBooks', 'Mystery, Thriller & Suspense', 'Kindle eBooks', 'Romance', 'Kindle eBooks', 'Literature & Fiction', 'Kindle eBooks', 'Mystery, Thriller & Suspense', 'Kindle eBooks', 'Romance', 'Kindle eBooks', 'Romance', 'Kindle eBooks', 'Literature & Fiction', 'Kindle eBooks', 'Literature & Fiction', 'Kindle eBooks', 'Literature & Fiction', 'Kindle eBooks', 'Literature & Fiction', 'Kindle eBooks', 'Mystery, Thriller & Suspense', 'Kindle eBooks', 'Romance', 'Kindle eBooks', 'Romance', 'Kindle eBooks', 'Literature & Fiction', 'Kindle eBooks', 'Literature & Fiction', 'Kindle eBooks', 'Literature & Fiction', 'Kindle eBooks', 'Mystery, Thriller & Suspense', 'Kindle eBooks', 'Literature & Fiction', 'Kindle eBooks', 'Mystery, Thriller & Suspense', 'Kindle eBooks', 'Literature & Fiction', 'Kindle eBooks', 'Literature & Fiction', 'Kindle eBooks', 'Literature & Fiction', 'Kindle eBooks', 'Literature & Fiction', 'Kindle eBooks', 'Romance', 'Kindle eBooks', 'Literature & Fiction', 'Kindle eBooks', 'Literature & Fiction', 'Kindle eBooks', 'Literature & Fiction', 'Kindle eBooks', 'Romance', 'Kindle eBooks', 'Romance', 'Kindle eBooks', 'Literature & Fiction', 'Kindle eBooks', 'Romance', 'Kindle eBooks', 'Romance', 'Kindle eBooks', 'Literature & Fiction', 'Kindle eBooks', 'Literature & Fiction', 'Kindle eBooks', 'Romance', 'Kindle eBooks', 'Romance', 'Kindle eBooks', 'Romance', 'Kindle eBooks', 'Romance', 'Kindle eBooks', 'Romance', 'Kindle eBooks', 'Science Fiction & Fantasy', 'Kindle eBooks', 'Literature & Fiction', 'Kindle eBooks', 'Romance', 'Kindle eBooks', 'Literature & Fiction', 'Kindle eBooks', 'Literature & Fiction', 'Kindle eBooks', 'Literature & Fiction', 'Kindle eBooks', 'Literature & Fiction', 'Kindle eBooks', 'Literature & Fiction', 'Kindle eBooks', 'Romance', 'Kindle eBooks', 'Literature & Fiction', 'Kindle eBooks', 'Science Fiction & Fantasy', 'Kindle eBooks', 'Literature & Fiction', 'Kindle eBooks', 'Literature & Fiction', 'Kindle eBooks', 'Romance', 'Kindle eBooks', 'Literature & Fiction', 'Kindle eBooks', 'Arts & Photography', 'Kindle eBooks', 'Literature & Fiction', 'Kindle eBooks', 'Religion & Spirituality', 'Kindle eBooks', 'Romance', 'Kindle eBooks', 'Literature & Fiction', 'Kindle eBooks', 'Literature & Fiction', 'Kindle eBooks', 'Literature & Fiction', 'Kindle eBooks', 'Literature & Fiction', 'Kindle eBooks', 'Literature & Fiction', 'Kindle eBooks', 'Romance', 'Kindle eBooks', 'Romance', 'Kindle eBooks', 'Mystery, Thriller & Suspense', 'Kindle eBooks', 'Mystery, Thriller & Suspense', 'Kindle eBooks', 'Science Fiction & Fantasy', 'Kindle eBooks', 'Romance', 'Kindle eBooks', \"Children's eBooks\", 'Kindle eBooks', 'Literature & Fiction', 'Kindle eBooks', 'Literature & Fiction', 'Kindle eBooks', 'Literature & Fiction', 'Kindle eBooks', 'Romance', 'Kindle eBooks', 'Literature & Fiction', 'Kindle eBooks', 'Romance', 'Kindle eBooks', 'Romance', 'Kindle eBooks', 'Romance', 'Kindle eBooks', 'Literature & Fiction', 'Kindle eBooks', 'Literature & Fiction', 'Kindle eBooks', 'Literature & Fiction', 'Kindle eBooks', 'Romance', 'Kindle eBooks', 'Literature & Fiction', 'Kindle eBooks', 'Literature & Fiction', 'Kindle eBooks', 'Romance', 'Kindle eBooks', 'Literature & Fiction', 'Kindle eBooks', 'Romance', 'Kindle eBooks', 'Literature & Fiction', 'Kindle eBooks', 'Literature & Fiction', 'Kindle eBooks', 'Literature & Fiction', 'Kindle eBooks', 'Literature & Fiction', 'Kindle eBooks', 'Literature & Fiction', 'Kindle eBooks', 'Romance', 'Kindle eBooks', 'Romance', 'Kindle eBooks', 'Literature & Fiction', 'Kindle eBooks', 'Romance', 'Kindle eBooks', 'Literature & Fiction', 'Kindle eBooks', 'Literature & Fiction', 'Kindle eBooks', 'Mystery, Thriller & Suspense', 'Kindle eBooks', 'Science Fiction & Fantasy', 'Kindle eBooks', 'Literature & Fiction', 'Kindle eBooks', 'Mystery, Thriller & Suspense', 'Kindle eBooks', 'Literature & Fiction', 'Kindle eBooks', 'Literature & Fiction', 'Kindle eBooks', 'Literature & Fiction', 'Kindle eBooks', 'Romance', 'Kindle eBooks', 'Literature & Fiction', 'Kindle eBooks', 'Literature & Fiction', 'Kindle eBooks', 'Romance', 'Kindle eBooks', 'Religion & Spirituality', 'Kindle eBooks', 'Romance', 'Kindle eBooks', 'Literature & Fiction', 'Kindle eBooks', 'Literature & Fiction', 'Kindle eBooks', 'Literature & Fiction', 'Kindle eBooks', 'Literature & Fiction', 'Kindle eBooks', 'Romance', 'Kindle eBooks', 'Romance', 'Kindle eBooks', 'Mystery, Thriller & Suspense', 'Kindle eBooks', 'Literature & Fiction', 'Kindle eBooks', 'Mystery, Thriller & Suspense', 'Kindle eBooks', 'Literature & Fiction', 'Kindle eBooks', 'Mystery, Thriller & Suspense', 'Kindle eBooks', 'Literature & Fiction', 'Kindle eBooks', 'Literature & Fiction', 'Kindle eBooks', 'Literature & Fiction', 'Kindle eBooks', 'Literature & Fiction', 'Kindle eBooks', 'Literature & Fiction', 'Kindle eBooks', 'Literature & Fiction', 'Kindle eBooks', 'Mystery, Thriller & Suspense', 'Kindle eBooks', 'Literature & Fiction', 'Kindle eBooks', 'Literature & Fiction', 'Kindle eBooks', 'Literature & Fiction', 'Kindle eBooks', 'Literature & Fiction', 'Kindle eBooks', 'Romance', 'Kindle eBooks', 'Romance', 'Kindle eBooks', 'Literature & Fiction', 'Kindle eBooks', 'Mystery, Thriller & Suspense', 'Kindle eBooks', 'Literature & Fiction', 'Kindle eBooks', 'Romance', 'Kindle eBooks', 'Literature & Fiction', 'Kindle eBooks', 'Science Fiction & Fantasy', 'Kindle eBooks', 'Romance', 'Kindle eBooks', 'Science Fiction & Fantasy', 'Kindle eBooks', 'Literature & Fiction', 'Kindle eBooks', 'Romance', 'Kindle eBooks', 'Romance', 'Kindle eBooks', 'Romance', 'Kindle eBooks', 'Literature & Fiction', 'Kindle eBooks', 'Literature & Fiction', 'Kindle eBooks', 'Romance', 'Kindle eBooks', 'Literature & Fiction', 'Kindle eBooks', 'Literature & Fiction', 'Kindle eBooks', 'Literature & Fiction', 'Kindle eBooks', 'Literature & Fiction', 'Kindle eBooks', 'Romance', 'Kindle eBooks', 'Religion & Spirituality', 'Kindle eBooks', 'Literature & Fiction', 'Kindle eBooks', 'Literature & Fiction', 'Kindle eBooks', 'Romance', 'Kindle eBooks', 'Literature & Fiction', 'Kindle eBooks', 'Literature & Fiction', 'Kindle eBooks', 'Romance', 'Kindle eBooks', 'Religion & Spirituality', 'Kindle eBooks', 'Literature & Fiction', 'Kindle eBooks', 'Education & Teaching', 'Kindle eBooks', 'Literature & Fiction', 'Kindle eBooks', 'Literature & Fiction', 'Kindle eBooks', 'Literature & Fiction', 'Kindle eBooks', 'Teen & Young Adult', 'Kindle eBooks', 'Science Fiction & Fantasy', 'Kindle eBooks', 'Literature & Fiction', 'Kindle eBooks', 'Literature & Fiction', 'Kindle eBooks', 'Romance', 'Kindle eBooks', 'Literature & Fiction', 'Kindle eBooks', 'Romance', 'Kindle eBooks', 'Romance', 'Kindle eBooks', 'Romance', 'Kindle eBooks', 'Literature & Fiction', 'Kindle eBooks', 'Science Fiction & Fantasy', 'Kindle eBooks', 'Literature & Fiction', 'Kindle eBooks', 'Romance', 'Kindle eBooks', 'Religion & Spirituality', 'Kindle eBooks', 'Romance', 'Kindle eBooks', 'Romance', 'Kindle eBooks', 'Literature & Fiction', 'Kindle eBooks', 'Mystery, Thriller & Suspense', 'Kindle eBooks', 'Romance', 'Kindle eBooks', 'Romance', 'Kindle eBooks', 'Literature & Fiction', 'Kindle eBooks', 'Romance', 'Kindle eBooks', 'Literature & Fiction', 'Kindle eBooks', 'Science Fiction & Fantasy', 'Kindle eBooks', 'Romance', 'Kindle eBooks', 'Romance', 'Kindle eBooks', 'Literature & Fiction', 'Kindle eBooks', 'Romance', 'Kindle eBooks', 'Mystery, Thriller & Suspense', 'Kindle eBooks', 'Mystery, Thriller & Suspense', 'Kindle eBooks', 'Literature & Fiction', 'Kindle eBooks', 'Literature & Fiction', 'Kindle eBooks', 'Romance', 'Kindle eBooks', 'Literature & Fiction', 'Kindle eBooks', 'Literature & Fiction', 'Kindle eBooks', 'Literature & Fiction', 'Kindle eBooks', 'Literature & Fiction', 'Kindle eBooks', 'Literature & Fiction', 'Kindle eBooks', 'Romance', 'Kindle eBooks', 'Literature & Fiction', 'Kindle eBooks', 'Mystery, Thriller & Suspense', 'Kindle eBooks', 'Romance', 'Kindle eBooks', 'Romance', 'Kindle eBooks', 'Romance', 'Kindle eBooks', 'Literature & Fiction', 'Kindle eBooks', 'Literature & Fiction', 'Kindle eBooks', 'Science Fiction & Fantasy', 'Kindle eBooks', 'Romance', 'Kindle eBooks', 'Romance', 'Kindle eBooks', 'Literature & Fiction', 'Kindle eBooks', 'Literature & Fiction', 'Kindle eBooks', 'Mystery, Thriller & Suspense', 'Kindle eBooks', 'Romance', 'Kindle eBooks', 'Literature & Fiction', 'Kindle eBooks', 'Literature & Fiction', 'Kindle eBooks', 'Literature & Fiction', 'Kindle eBooks', 'Religion & Spirituality', 'Kindle eBooks', \"Children's eBooks\", 'Kindle eBooks', 'Romance', 'Kindle eBooks', 'Literature & Fiction', 'Kindle eBooks', 'Literature & Fiction', 'Kindle eBooks', 'Literature & Fiction', 'Kindle eBooks', 'Literature & Fiction', 'Kindle eBooks', 'Religion & Spirituality', 'Kindle eBooks', 'Literature & Fiction', 'Kindle eBooks', 'Literature & Fiction', 'Kindle eBooks', 'Literature & Fiction', 'Kindle eBooks', 'Literature & Fiction', 'Kindle eBooks', 'Science Fiction & Fantasy', 'Kindle eBooks', 'Literature & Fiction', 'Kindle eBooks', 'Science Fiction & Fantasy', 'Kindle eBooks', 'Romance', 'Kindle eBooks', 'Romance', 'Kindle eBooks', 'Romance', 'Kindle eBooks', 'Literature & Fiction', 'Kindle eBooks', 'Literature & Fiction', 'Kindle eBooks', 'Literature & Fiction', 'Kindle eBooks', 'Science Fiction & Fantasy', 'Kindle eBooks', 'Literature & Fiction', 'Kindle eBooks', 'Literature & Fiction', 'Kindle eBooks', 'Literature & Fiction', 'Kindle eBooks', 'Literature & Fiction', 'Kindle eBooks', 'Literature & Fiction', 'Kindle eBooks', 'Romance', 'Kindle eBooks', 'Mystery, Thriller & Suspense', 'Kindle eBooks', 'Literature & Fiction', 'Kindle eBooks', 'Literature & Fiction', 'Kindle eBooks', 'Literature & Fiction', 'Kindle eBooks', 'Literature & Fiction', 'Kindle eBooks', 'Romance', 'Kindle eBooks', 'Literature & Fiction', 'Kindle eBooks', 'Literature & Fiction', 'Kindle eBooks', 'Literature & Fiction', 'Kindle eBooks', 'Literature & Fiction', 'Kindle eBooks', 'Literature & Fiction', 'Kindle eBooks', 'Literature & Fiction', 'Kindle eBooks', 'Engineering & Transportation', 'Kindle eBooks', 'Mystery, Thriller & Suspense', 'Kindle eBooks', 'Literature & Fiction', 'Kindle eBooks', 'Romance', 'Kindle eBooks', 'Literature & Fiction', 'Kindle eBooks', 'Romance', 'Kindle eBooks', 'Literature & Fiction', 'Kindle eBooks', 'Romance', 'Kindle eBooks', 'Literature & Fiction', 'Kindle eBooks', 'Romance', 'Kindle eBooks', 'Mystery, Thriller & Suspense', 'Kindle Short Reads', 'One hour (33-43 pages)', 'Kindle eBooks', 'Mystery, Thriller & Suspense', 'Kindle eBooks', 'Romance', 'Kindle eBooks', 'Literature & Fiction', 'Kindle eBooks', 'Literature & Fiction', 'Kindle eBooks', 'Literature & Fiction', 'Kindle eBooks', 'Romance', 'Kindle eBooks', 'Literature & Fiction', 'Kindle eBooks', 'Romance', 'Kindle eBooks', 'Literature & Fiction', 'Kindle eBooks', 'Literature & Fiction', 'Kindle eBooks', 'Literature & Fiction', 'Kindle eBooks', 'Teen & Young Adult', 'Kindle eBooks', 'Teen & Young Adult', 'Kindle eBooks', 'Literature & Fiction', 'Kindle eBooks', 'Romance', 'Kindle eBooks', 'Literature & Fiction', 'Kindle eBooks', 'Literature & Fiction', 'Kindle eBooks', 'Literature & Fiction', 'Kindle eBooks', 'Literature & Fiction', 'Kindle eBooks', 'Literature & Fiction', 'Kindle eBooks', 'Romance', 'Kindle eBooks', 'Literature & Fiction', 'Kindle eBooks', 'Romance', 'Kindle eBooks', 'Romance', 'Kindle eBooks', 'Literature & Fiction', 'Kindle eBooks', 'Literature & Fiction', 'Kindle eBooks', 'Romance', 'Kindle eBooks', 'Romance', 'Kindle eBooks', 'Romance', 'Kindle eBooks', 'Romance', 'Kindle eBooks', 'Romance', 'Kindle eBooks', 'Romance', 'Kindle eBooks', 'Literature & Fiction', 'Kindle eBooks', 'Literature & Fiction', 'Kindle eBooks', 'Religion & Spirituality', 'Kindle eBooks', 'Literature & Fiction', 'Kindle eBooks', 'Romance', 'Kindle eBooks', 'Literature & Fiction', 'Kindle eBooks', 'Literature & Fiction', 'Kindle eBooks', 'Literature & Fiction', 'Kindle eBooks', 'Romance', 'Kindle eBooks', 'Religion & Spirituality', 'Kindle eBooks', 'Mystery, Thriller & Suspense', 'Kindle eBooks', 'Religion & Spirituality', 'Kindle eBooks', 'Romance', 'Kindle eBooks', 'Romance', 'Kindle eBooks', 'Literature & Fiction', 'Kindle eBooks', 'Romance', 'Kindle eBooks', 'Science Fiction & Fantasy', 'Kindle eBooks', 'Literature & Fiction', 'Kindle eBooks', 'Cookbooks, Food & Wine', 'Kindle eBooks', 'Literature & Fiction', 'Kindle eBooks', 'Literature & Fiction', 'Kindle eBooks', 'Literature & Fiction', 'Kindle eBooks', 'Literature & Fiction', 'Kindle eBooks', 'Literature & Fiction', 'Kindle eBooks', 'Literature & Fiction', 'Kindle eBooks', 'Literature & Fiction', 'Kindle eBooks', 'Romance', 'Kindle eBooks', 'Science Fiction & Fantasy', 'Kindle eBooks', 'Literature & Fiction', 'Kindle eBooks', 'Mystery, Thriller & Suspense', 'Kindle eBooks', 'Literature & Fiction', 'Kindle eBooks', 'Literature & Fiction', 'Kindle eBooks', 'Romance', 'Kindle eBooks', 'Romance', 'Kindle eBooks', \"Children's eBooks\", 'Kindle eBooks', 'Religion & Spirituality', 'Kindle eBooks', 'Literature & Fiction', 'Kindle eBooks', 'Health, Fitness & Dieting', 'Kindle eBooks', 'Literature & Fiction', 'Kindle eBooks', 'Teen & Young Adult', 'Kindle eBooks', 'Literature & Fiction', 'Kindle eBooks', 'Literature & Fiction', 'Kindle eBooks', 'Literature & Fiction', 'Kindle eBooks', 'Literature & Fiction', 'Kindle eBooks', 'Science Fiction & Fantasy', 'Kindle eBooks', 'Mystery, Thriller & Suspense', 'Kindle eBooks', 'Romance', 'Kindle eBooks', 'Literature & Fiction', 'Kindle eBooks', 'Literature & Fiction', 'Kindle eBooks', 'Literature & Fiction', 'Kindle eBooks', 'Literature & Fiction', 'Kindle eBooks', 'Literature & Fiction', 'Kindle eBooks', 'Romance', 'Kindle eBooks', 'Literature & Fiction', 'Kindle eBooks', 'Romance', 'Kindle eBooks', 'Romance', 'Kindle eBooks', 'Literature & Fiction', 'Kindle eBooks', 'Teen & Young Adult', 'Kindle eBooks', 'Teen & Young Adult', 'Kindle eBooks', 'Science & Math', 'Kindle eBooks', 'Science & Math', 'Kindle eBooks', 'Literature & Fiction', 'Kindle eBooks', 'Romance', 'Kindle eBooks', 'Romance', 'Kindle eBooks', 'Literature & Fiction', 'Kindle eBooks', 'Mystery, Thriller & Suspense', 'Kindle eBooks', 'Religion & Spirituality', 'Kindle eBooks', 'Literature & Fiction', 'Kindle eBooks', 'Romance', 'Kindle eBooks', 'Romance', 'Kindle eBooks', 'Literature & Fiction', 'Kindle eBooks', 'Literature & Fiction', 'Kindle eBooks', 'Literature & Fiction', 'Kindle eBooks', 'Romance', 'Kindle eBooks', 'Mystery, Thriller & Suspense', 'Kindle eBooks', 'Romance', 'Kindle eBooks', 'Literature & Fiction', 'Kindle eBooks', 'Literature & Fiction', 'Kindle eBooks', 'Literature & Fiction', 'Kindle eBooks', 'Literature & Fiction', 'Kindle eBooks', 'Literature & Fiction', 'Kindle eBooks', 'Literature & Fiction', 'Kindle eBooks', 'Romance', 'Kindle eBooks', 'Science Fiction & Fantasy', 'Kindle eBooks', 'Literature & Fiction', 'Kindle eBooks', 'Literature & Fiction', 'Kindle eBooks', 'Literature & Fiction', 'Kindle eBooks', 'Literature & Fiction', 'Kindle eBooks', 'Literature & Fiction', 'Kindle eBooks', 'Literature & Fiction', 'Kindle eBooks', 'Literature & Fiction', 'Kindle eBooks', 'Literature & Fiction', 'Kindle eBooks', 'Literature & Fiction', 'Kindle eBooks', 'Mystery, Thriller & Suspense', 'Kindle eBooks', 'Literature & Fiction', 'Kindle eBooks', 'Literature & Fiction', 'Kindle eBooks', 'Literature & Fiction', 'Kindle eBooks', 'Literature & Fiction', 'Kindle eBooks', 'Literature & Fiction', 'Kindle eBooks', 'Science Fiction & Fantasy', 'Kindle eBooks', 'Literature & Fiction', 'Kindle eBooks', 'Business & Money', 'Kindle eBooks', 'Religion & Spirituality', 'Kindle eBooks', 'Romance', 'Kindle eBooks', 'Romance', 'Kindle eBooks', 'Teen & Young Adult', 'Kindle eBooks', 'Literature & Fiction', 'Kindle eBooks', 'Biographies & Memoirs', 'Kindle eBooks', 'Literature & Fiction', 'Kindle eBooks', 'Health, Fitness & Dieting', 'Kindle eBooks', 'Literature & Fiction', 'Kindle eBooks', 'Romance', 'Kindle eBooks', 'Romance', 'Kindle eBooks', 'Romance', 'Kindle eBooks', 'Romance', 'Kindle eBooks', 'Science Fiction & Fantasy', 'Kindle eBooks', 'Romance', 'Kindle eBooks', 'Literature & Fiction', 'Kindle eBooks', 'Literature & Fiction', 'Kindle eBooks', 'Literature & Fiction', 'Kindle eBooks', 'Literature & Fiction', 'Kindle eBooks', 'Literature & Fiction', 'Kindle eBooks', 'Romance', 'Kindle eBooks', 'Literature & Fiction', 'Kindle eBooks', 'Romance', 'Kindle eBooks', 'Literature & Fiction', 'Kindle eBooks', 'Romance', 'Kindle eBooks', 'Literature & Fiction', 'Kindle eBooks', 'Mystery, Thriller & Suspense', 'Kindle eBooks', 'Literature & Fiction', 'Kindle eBooks', 'Literature & Fiction', 'Kindle eBooks', 'Literature & Fiction', 'Kindle eBooks', 'Romance', 'Kindle eBooks', 'Romance', 'Kindle eBooks', 'Romance', 'Kindle eBooks', 'Romance', 'Kindle eBooks', 'Science Fiction & Fantasy', 'Kindle eBooks', 'Romance', 'Kindle eBooks', 'Literature & Fiction', 'Kindle eBooks', 'Romance', 'Kindle eBooks', 'Literature & Fiction', 'Kindle eBooks', 'Romance', 'Kindle eBooks', 'Literature & Fiction', 'Kindle eBooks', 'Romance', 'Kindle eBooks', 'Romance', 'Kindle eBooks', 'Literature & Fiction', 'Kindle eBooks', 'Romance', 'Kindle eBooks', 'Literature & Fiction', 'Kindle eBooks', 'Nonfiction', 'Kindle eBooks', 'Romance', 'Kindle eBooks', 'Romance', 'Kindle eBooks', 'Teen & Young Adult', 'Kindle eBooks', 'Romance', 'Kindle eBooks', 'Romance', 'Kindle eBooks', 'Romance', 'Kindle eBooks', 'Science Fiction & Fantasy', 'Kindle eBooks', 'Literature & Fiction', 'Kindle eBooks', 'Romance', 'Kindle eBooks', 'Literature & Fiction', 'Kindle eBooks', 'Romance', 'Kindle eBooks', 'Romance', 'Kindle eBooks', 'Romance', 'Kindle eBooks', 'Romance', 'Kindle eBooks', 'Literature & Fiction', 'Kindle eBooks', 'Literature & Fiction', 'Kindle eBooks', 'Romance', 'Kindle eBooks', 'Literature & Fiction', 'Kindle eBooks', 'Science Fiction & Fantasy', 'Kindle eBooks', 'Literature & Fiction', 'Kindle eBooks', 'Romance', 'Kindle eBooks', 'Romance', 'Kindle eBooks', 'Literature & Fiction', 'Kindle eBooks', 'Literature & Fiction', 'Kindle eBooks', 'Science Fiction & Fantasy', 'Kindle eBooks', 'Literature & Fiction', 'Kindle eBooks', 'Literature & Fiction', 'Kindle eBooks', 'Romance', 'Kindle eBooks', 'Romance', 'Kindle eBooks', 'Literature & Fiction', 'Kindle eBooks', 'Mystery, Thriller & Suspense', 'Kindle eBooks', 'Romance', 'Kindle eBooks', 'Science Fiction & Fantasy', 'Kindle eBooks', 'Literature & Fiction', 'Kindle eBooks', 'History', 'Kindle eBooks', 'Literature & Fiction', 'Kindle eBooks', 'Literature & Fiction', 'Kindle eBooks', 'Romance', 'Kindle eBooks', 'Literature & Fiction', 'Kindle eBooks', 'Romance', 'Kindle eBooks', 'Romance', 'Kindle eBooks', 'Romance', 'Kindle eBooks', 'Literature & Fiction', 'Kindle eBooks', 'Literature & Fiction', 'Kindle eBooks', 'Literature & Fiction', 'Kindle eBooks', 'Literature & Fiction', 'Kindle eBooks', 'Literature & Fiction', 'Kindle eBooks', 'Romance', 'Kindle eBooks', 'Romance', 'Kindle eBooks', 'Literature & Fiction', 'Kindle eBooks', 'Mystery, Thriller & Suspense', 'Kindle eBooks', 'Romance', 'Kindle eBooks', 'Teen & Young Adult', 'Kindle eBooks', 'Literature & Fiction', 'Kindle eBooks', 'Science Fiction & Fantasy', 'Kindle eBooks', 'Mystery, Thriller & Suspense', 'Kindle eBooks', 'Mystery, Thriller & Suspense', 'Kindle eBooks', 'Mystery, Thriller & Suspense', 'Kindle eBooks', 'Romance', 'Kindle eBooks', 'Literature & Fiction', 'Kindle eBooks', 'Literature & Fiction', 'Kindle eBooks', 'Literature & Fiction', 'Kindle eBooks', 'Romance', 'Kindle eBooks', 'Literature & Fiction', 'Kindle eBooks', 'Literature & Fiction', 'Kindle eBooks', 'Romance', 'Kindle eBooks', 'Literature & Fiction', 'Kindle eBooks', \"Children's eBooks\", 'Kindle eBooks', 'Romance', 'Kindle eBooks', 'Literature & Fiction', 'Kindle eBooks', 'Mystery, Thriller & Suspense', 'Kindle eBooks', 'Literature & Fiction', 'Kindle eBooks', 'Literature & Fiction', 'Kindle eBooks', 'Mystery, Thriller & Suspense', 'Kindle eBooks', 'Literature & Fiction', 'Kindle eBooks', 'Religion & Spirituality', 'Kindle eBooks', 'Literature & Fiction', 'Kindle eBooks', 'Literature & Fiction', 'Kindle eBooks', 'Literature & Fiction', 'Kindle eBooks', 'Literature & Fiction', 'Kindle eBooks', 'Mystery, Thriller & Suspense', 'Kindle eBooks', 'Romance', 'Kindle eBooks', 'Literature & Fiction', 'Kindle eBooks', 'Romance', 'Kindle eBooks', 'Literature & Fiction', 'Kindle eBooks', 'Literature & Fiction', 'Kindle eBooks', 'Literature & Fiction', 'Kindle eBooks', 'Literature & Fiction', 'Kindle eBooks', 'Romance', 'Kindle eBooks', 'Literature & Fiction', 'Kindle eBooks', 'Literature & Fiction', 'Kindle eBooks', 'Literature & Fiction', 'Kindle eBooks', 'Literature & Fiction', 'Kindle eBooks', 'Literature & Fiction', 'Kindle eBooks', 'Religion & Spirituality', 'Kindle eBooks', 'Literature & Fiction', 'Kindle eBooks', 'Literature & Fiction', 'Kindle eBooks', 'Romance', 'Kindle eBooks', 'Romance', 'Kindle eBooks', 'Romance', 'Kindle eBooks', 'Mystery, Thriller & Suspense', 'Kindle eBooks', 'Literature & Fiction', 'Kindle eBooks', 'Literature & Fiction', 'Kindle eBooks', 'Romance', 'Kindle eBooks', 'Romance', 'Kindle eBooks', 'Romance', 'Kindle eBooks', 'Literature & Fiction', 'Kindle eBooks', 'Mystery, Thriller & Suspense', 'Kindle eBooks', 'Literature & Fiction', 'Kindle eBooks', 'Literature & Fiction', 'Kindle eBooks', 'Literature & Fiction', 'Kindle eBooks', 'Literature & Fiction', 'Kindle eBooks', 'Literature & Fiction', 'Kindle eBooks', 'Romance', 'Kindle eBooks', 'Romance', 'Kindle eBooks', 'Romance', 'Kindle eBooks', 'Literature & Fiction', 'Kindle eBooks', 'Romance', 'Kindle eBooks', 'Literature & Fiction', 'Kindle eBooks', 'Literature & Fiction', 'Kindle eBooks', 'Romance', 'Kindle eBooks', 'Romance', 'Kindle eBooks', 'Literature & Fiction', 'Kindle eBooks', 'Literature & Fiction', 'Kindle eBooks', 'Literature & Fiction', 'Kindle eBooks', 'History', 'Kindle eBooks', 'Romance', 'Kindle eBooks', 'Literature & Fiction', 'Kindle eBooks', 'Literature & Fiction', 'Kindle eBooks', 'Literature & Fiction', 'Kindle eBooks', 'Romance', 'Kindle eBooks', 'Literature & Fiction', 'Kindle eBooks', 'Mystery, Thriller & Suspense', 'Kindle eBooks', 'Literature & Fiction', 'Kindle eBooks', 'Literature & Fiction', 'Kindle eBooks', 'Literature & Fiction', 'Kindle eBooks', 'Literature & Fiction', 'Kindle eBooks', 'Literature & Fiction', 'Kindle eBooks', 'Literature & Fiction', 'Kindle eBooks', 'Mystery, Thriller & Suspense', 'Kindle eBooks', 'Literature & Fiction', 'Kindle eBooks', 'Science Fiction & Fantasy', 'Kindle eBooks', 'Religion & Spirituality', 'Kindle eBooks', 'Romance', 'Kindle eBooks', 'Literature & Fiction', 'Kindle eBooks', 'Literature & Fiction', 'Kindle eBooks', 'Romance', 'Kindle eBooks', 'Romance', 'Kindle eBooks', 'Literature & Fiction', 'Kindle eBooks', 'Literature & Fiction', 'Kindle eBooks', 'Romance', 'Kindle eBooks', 'Literature & Fiction', 'Kindle eBooks', 'Literature & Fiction', 'Kindle eBooks', 'Romance', 'Kindle eBooks', 'Literature & Fiction', 'Kindle eBooks', 'Romance', 'Kindle eBooks', 'Literature & Fiction', 'Kindle eBooks', 'Literature & Fiction', 'Kindle eBooks', 'Mystery, Thriller & Suspense', 'Kindle eBooks', 'Romance', 'Kindle eBooks', 'Religion & Spirituality', 'Kindle eBooks', 'Literature & Fiction', 'Kindle eBooks', 'Literature & Fiction', 'Kindle eBooks', 'Literature & Fiction', 'Kindle eBooks', 'Romance', 'Kindle eBooks', 'Romance', 'Kindle eBooks', 'Mystery, Thriller & Suspense', 'Kindle eBooks', 'Literature & Fiction', 'Kindle eBooks', 'Literature & Fiction', 'Kindle eBooks', 'Romance', 'Kindle eBooks', 'Literature & Fiction', 'Kindle eBooks', 'Romance', 'Kindle eBooks', 'Romance', 'Kindle eBooks', 'Romance', 'Kindle eBooks', 'Literature & Fiction', 'Kindle eBooks', 'Literature & Fiction', 'Kindle eBooks', 'Literature & Fiction', 'Kindle eBooks', 'Romance', 'Kindle eBooks', 'Romance', 'Kindle eBooks', 'Romance', 'Kindle eBooks', 'History', 'Kindle eBooks', 'Literature & Fiction', 'Kindle eBooks', 'Literature & Fiction', 'Kindle eBooks', 'Religion & Spirituality', 'Kindle eBooks', 'Literature & Fiction', 'Kindle eBooks', 'Science Fiction & Fantasy', 'Kindle eBooks', 'Literature & Fiction', 'Kindle eBooks', 'Literature & Fiction', 'Kindle eBooks', 'Literature & Fiction', 'Kindle eBooks', 'Literature & Fiction', 'Kindle eBooks', 'Literature & Fiction', 'Kindle eBooks', 'Romance', 'Kindle eBooks', 'Mystery, Thriller & Suspense', 'Kindle eBooks', 'Literature & Fiction', 'Kindle eBooks', 'Literature & Fiction', 'Kindle eBooks', 'Literature & Fiction', 'Kindle eBooks', 'Romance', 'Kindle eBooks', 'Literature & Fiction', 'Kindle eBooks', 'Romance', 'Kindle eBooks', 'Literature & Fiction', 'Kindle eBooks', 'Literature & Fiction', 'Kindle eBooks', 'Teen & Young Adult', 'Kindle eBooks', 'Literature & Fiction', 'Kindle eBooks', 'Literature & Fiction', 'Kindle eBooks', 'Health, Fitness & Dieting', 'Kindle eBooks', 'Romance', 'Kindle eBooks', 'Business & Money', 'Kindle eBooks', 'Literature & Fiction', 'Kindle eBooks', 'Literature & Fiction', 'Kindle eBooks', 'Romance', 'Kindle eBooks', 'Romance', 'Kindle eBooks', 'Literature & Fiction', 'Kindle eBooks', 'Romance', 'Kindle eBooks', 'Romance', 'Kindle eBooks', 'Romance', 'Kindle eBooks', 'Teen & Young Adult', 'Kindle eBooks', 'Science Fiction & Fantasy', 'Kindle eBooks', 'Literature & Fiction', 'Kindle eBooks', 'Literature & Fiction', 'Kindle eBooks', 'Literature & Fiction', 'Kindle eBooks', 'Science Fiction & Fantasy', 'Kindle eBooks', 'Romance', 'Kindle eBooks', 'Romance', 'Kindle eBooks', 'Literature & Fiction', 'Kindle eBooks', 'Romance', 'Kindle eBooks', 'Literature & Fiction', 'Kindle eBooks', 'Literature & Fiction', 'Kindle eBooks', 'Mystery, Thriller & Suspense', 'Kindle eBooks', 'Science Fiction & Fantasy', 'Kindle eBooks', 'Literature & Fiction', 'Kindle eBooks', 'Literature & Fiction', 'Kindle eBooks', 'Literature & Fiction', 'Kindle eBooks', 'Mystery, Thriller & Suspense', 'Kindle eBooks', 'Literature & Fiction', 'Kindle eBooks', 'Science Fiction & Fantasy', 'Kindle eBooks', 'Literature & Fiction', 'Kindle eBooks', 'Literature & Fiction', 'Kindle eBooks', 'History', 'Kindle eBooks', 'Literature & Fiction', 'Kindle eBooks', 'Romance', 'Kindle eBooks', 'Literature & Fiction', 'Kindle eBooks', 'Romance', 'Kindle eBooks', 'Romance', 'Kindle eBooks', 'Romance', 'Kindle eBooks', 'Literature & Fiction', 'Kindle eBooks', 'Literature & Fiction', 'Kindle eBooks', 'Romance', 'Kindle eBooks', 'Romance', 'Kindle eBooks', 'Literature & Fiction', 'Kindle eBooks', 'Science Fiction & Fantasy', 'Kindle eBooks', 'Literature & Fiction', 'Kindle eBooks', 'Romance', 'Kindle eBooks', 'Romance', 'Kindle eBooks', 'Literature & Fiction', 'Kindle eBooks', 'Romance', 'Kindle eBooks', 'Romance', 'Kindle eBooks', 'Literature & Fiction', 'Kindle eBooks', 'Romance', 'Kindle eBooks', 'Romance', 'Kindle eBooks', 'Literature & Fiction', 'Kindle eBooks', 'Literature & Fiction', 'Kindle eBooks', 'Literature & Fiction', 'Kindle eBooks', 'Romance', 'Kindle eBooks', 'Romance', 'Kindle eBooks', 'Romance', 'Kindle eBooks', 'Literature & Fiction', 'Kindle eBooks', 'Literature & Fiction', 'Kindle eBooks', 'Mystery, Thriller & Suspense', 'Kindle eBooks', 'Romance', 'Kindle eBooks', 'Romance', 'Kindle eBooks', 'Romance', 'Kindle eBooks', 'Literature & Fiction', 'Kindle eBooks', 'Romance', 'Kindle eBooks', 'Crafts, Hobbies & Home', 'Kindle eBooks', 'Literature & Fiction', 'Kindle eBooks', 'Literature & Fiction', 'Kindle eBooks', 'Romance', 'Kindle eBooks', 'Literature & Fiction', 'Kindle eBooks', 'Literature & Fiction', 'Kindle eBooks', 'Literature & Fiction', 'Kindle eBooks', 'Romance', 'Kindle eBooks', 'Literature & Fiction', 'Kindle eBooks', 'Literature & Fiction', 'Kindle eBooks', 'Literature & Fiction', 'Kindle eBooks', 'Literature & Fiction', 'Kindle eBooks', 'Mystery, Thriller & Suspense', 'Kindle eBooks', 'Romance', 'Kindle eBooks', 'Romance', 'Kindle eBooks', 'Literature & Fiction', 'Kindle eBooks', 'Literature & Fiction', 'Kindle eBooks', 'Religion & Spirituality', 'Kindle eBooks', 'Romance', 'Kindle eBooks', 'Literature & Fiction', 'Kindle eBooks', 'Religion & Spirituality', 'Kindle eBooks', 'Mystery, Thriller & Suspense', 'Kindle eBooks', 'Literature & Fiction', 'Kindle eBooks', 'Romance', 'Kindle eBooks', 'Literature & Fiction', 'Kindle eBooks', 'Literature & Fiction', 'Kindle eBooks', 'Literature & Fiction', 'Kindle eBooks', 'Mystery, Thriller & Suspense', 'Kindle eBooks', 'Literature & Fiction', 'Kindle eBooks', 'Romance', 'Kindle eBooks', 'Romance', 'Kindle eBooks', 'Literature & Fiction', 'Kindle eBooks', 'Literature & Fiction', 'Kindle eBooks', 'Literature & Fiction', 'Kindle eBooks', 'Romance', 'Kindle eBooks', 'Science Fiction & Fantasy', 'Kindle eBooks', 'Literature & Fiction', 'Kindle eBooks', 'Literature & Fiction', 'Kindle eBooks', 'Literature & Fiction', 'Kindle eBooks', 'Literature & Fiction', 'Kindle eBooks', 'Science Fiction & Fantasy', 'Kindle eBooks', 'Romance', 'Kindle eBooks', 'Literature & Fiction', 'Kindle eBooks', 'Literature & Fiction', 'Kindle eBooks', 'Literature & Fiction', 'Kindle eBooks', 'Literature & Fiction', 'Kindle eBooks', 'Romance', 'Kindle eBooks', 'Science Fiction & Fantasy', 'Kindle eBooks', 'Science Fiction & Fantasy', 'Kindle eBooks', 'Literature & Fiction', 'Kindle eBooks', 'Literature & Fiction', 'Kindle eBooks', 'Literature & Fiction', 'Kindle eBooks', 'Romance', 'Kindle eBooks', 'Literature & Fiction', 'Kindle eBooks', 'Comics, Manga & Graphic Novels', 'Kindle eBooks', 'Literature & Fiction', 'Kindle eBooks', 'Literature & Fiction', 'Kindle eBooks', 'Romance', 'Kindle eBooks', 'Science Fiction & Fantasy', 'Kindle eBooks', 'Literature & Fiction', 'Kindle eBooks', 'Science Fiction & Fantasy', 'Kindle eBooks', 'Literature & Fiction', 'Kindle eBooks', 'Romance', 'Kindle eBooks', 'Science Fiction & Fantasy', 'Kindle eBooks', 'Romance', 'Kindle eBooks', 'Literature & Fiction', 'Kindle eBooks', 'Literature & Fiction', 'Kindle eBooks', 'Literature & Fiction', 'Kindle eBooks', 'Literature & Fiction', 'Kindle eBooks', 'Literature & Fiction', 'Kindle eBooks', 'Literature & Fiction', 'Kindle eBooks', 'Romance', 'Kindle eBooks', 'Literature & Fiction', 'Kindle eBooks', 'Romance', 'Kindle eBooks', 'Romance', 'Kindle eBooks', 'Romance', 'Kindle eBooks', 'Literature & Fiction', 'Kindle eBooks', 'Literature & Fiction', 'Kindle eBooks', 'Literature & Fiction', 'Kindle eBooks', 'Literature & Fiction', 'Kindle eBooks', 'Literature & Fiction', 'Kindle eBooks', 'Mystery, Thriller & Suspense', 'Kindle eBooks', 'Literature & Fiction', 'Kindle eBooks', 'Literature & Fiction', 'Kindle eBooks', 'Literature & Fiction', 'Kindle eBooks', 'Literature & Fiction', 'Kindle eBooks', 'Literature & Fiction', 'Kindle eBooks', 'Romance', 'Kindle eBooks', 'Literature & Fiction', 'Kindle eBooks', 'Literature & Fiction', 'Kindle eBooks', 'Literature & Fiction', 'Kindle eBooks', 'Romance', 'Kindle eBooks', 'Romance', 'Kindle eBooks', 'Literature & Fiction', 'Kindle eBooks', 'Romance', 'Kindle eBooks', 'Mystery, Thriller & Suspense', 'Kindle eBooks', 'Teen & Young Adult', 'Kindle eBooks', 'Science Fiction & Fantasy', 'Kindle eBooks', 'Literature & Fiction', 'Kindle eBooks', 'Romance', 'Kindle eBooks', 'Literature & Fiction', 'Kindle eBooks', 'Literature & Fiction', 'Kindle eBooks', 'Literature & Fiction', 'Kindle eBooks', 'Religion & Spirituality', 'Kindle eBooks', 'Literature & Fiction', 'Kindle eBooks', 'Religion & Spirituality', 'Kindle eBooks', 'Literature & Fiction', 'Kindle eBooks', 'Literature & Fiction', 'Kindle eBooks', 'Teen & Young Adult', 'Kindle eBooks', 'Romance', 'Kindle eBooks', 'Romance', 'Kindle eBooks', 'Religion & Spirituality', 'Kindle eBooks', 'Romance', 'Kindle eBooks', 'Science Fiction & Fantasy', 'Kindle eBooks', 'Science Fiction & Fantasy', 'Kindle eBooks', 'Science Fiction & Fantasy', 'Kindle eBooks', 'Literature & Fiction', 'Kindle eBooks', 'Romance', 'Kindle eBooks', 'Literature & Fiction', 'Kindle eBooks', 'Literature & Fiction', 'Kindle eBooks', 'Literature & Fiction', 'Kindle eBooks', 'Literature & Fiction', 'Kindle eBooks', 'Romance', 'Kindle eBooks', 'Literature & Fiction', 'Kindle eBooks', 'Romance', 'Kindle eBooks', 'Mystery, Thriller & Suspense', 'Kindle eBooks', 'Literature & Fiction', 'Kindle eBooks', 'Literature & Fiction', 'Kindle eBooks', 'Literature & Fiction', 'Kindle eBooks', 'Literature & Fiction', 'Kindle eBooks', 'Literature & Fiction', 'Kindle eBooks', 'Literature & Fiction', 'Kindle eBooks', 'Literature & Fiction', 'Kindle eBooks', 'Literature & Fiction', 'Kindle eBooks', 'Literature & Fiction', 'Kindle eBooks', 'Literature & Fiction', 'Kindle eBooks', 'Literature & Fiction', 'Kindle eBooks', 'Literature & Fiction', 'Kindle eBooks', 'Literature & Fiction', 'Kindle eBooks', 'Romance', 'Kindle eBooks', 'Teen & Young Adult', 'Kindle eBooks', 'Romance', 'Kindle eBooks', 'Literature & Fiction', 'Kindle eBooks', 'Literature & Fiction', 'Kindle eBooks', 'Literature & Fiction', 'Kindle eBooks', 'Mystery, Thriller & Suspense', 'Kindle eBooks', 'Romance', 'Kindle eBooks', 'Literature & Fiction', 'Kindle eBooks', 'Literature & Fiction', 'Kindle eBooks', 'Literature & Fiction', 'Kindle eBooks', 'Literature & Fiction', 'Kindle eBooks', 'Literature & Fiction', 'Kindle eBooks', 'Romance', 'Kindle eBooks', 'Science Fiction & Fantasy', 'Kindle eBooks', 'Literature & Fiction', 'Kindle eBooks', 'Romance', 'Kindle eBooks', 'Romance', 'Kindle eBooks', 'Literature & Fiction', 'Kindle eBooks', 'Science Fiction & Fantasy', 'Kindle eBooks', 'Literature & Fiction', 'Kindle eBooks', 'Literature & Fiction', 'Kindle eBooks', 'Literature & Fiction', 'Kindle eBooks', 'Romance', 'Kindle eBooks', 'Literature & Fiction', 'Kindle eBooks', 'Literature & Fiction', 'Kindle eBooks', 'Literature & Fiction', 'Kindle eBooks', 'Romance', 'Kindle eBooks', 'Literature & Fiction', 'Kindle eBooks', 'Literature & Fiction', 'Kindle eBooks', 'Romance', 'Kindle eBooks', 'Literature & Fiction', 'Kindle eBooks', 'Literature & Fiction', 'Kindle eBooks', 'Romance', 'Kindle eBooks', 'Science Fiction & Fantasy', 'Kindle eBooks', 'Romance', 'Kindle eBooks', 'Literature & Fiction', 'Kindle eBooks', 'Mystery, Thriller & Suspense', 'Kindle eBooks', 'Literature & Fiction', 'Kindle eBooks', 'Literature & Fiction', 'Kindle eBooks', 'Literature & Fiction', 'Kindle eBooks', 'Literature & Fiction', 'Kindle eBooks', 'Romance', 'Kindle eBooks', 'Literature & Fiction', 'Kindle eBooks', 'Literature & Fiction', 'Kindle eBooks', 'Literature & Fiction', 'Kindle eBooks', 'Literature & Fiction', 'Kindle eBooks', 'Literature & Fiction', 'Kindle eBooks', 'Literature & Fiction', 'Kindle eBooks', 'Literature & Fiction', 'Kindle eBooks', 'Literature & Fiction', 'Kindle eBooks', 'Literature & Fiction', 'Kindle eBooks', 'Romance', 'Kindle eBooks', 'Literature & Fiction', 'Kindle eBooks', 'Romance', 'Kindle eBooks', 'Literature & Fiction', 'Kindle eBooks', 'Literature & Fiction', 'Kindle eBooks', 'Science Fiction & Fantasy', 'Kindle eBooks', 'Teen & Young Adult', 'Kindle eBooks', 'Literature & Fiction', 'Kindle eBooks', 'Literature & Fiction', 'Kindle eBooks', 'Romance', 'Kindle eBooks', 'Literature & Fiction', 'Kindle eBooks', 'Science Fiction & Fantasy', 'Kindle eBooks', 'Literature & Fiction', 'Kindle eBooks', 'Literature & Fiction', 'Kindle eBooks', 'Literature & Fiction', 'Kindle eBooks', 'Arts & Photography', 'Kindle eBooks', 'Literature & Fiction', 'Kindle eBooks', 'Literature & Fiction', 'Kindle eBooks', 'Science Fiction & Fantasy', 'Kindle eBooks', 'Religion & Spirituality', 'Kindle eBooks', 'Literature & Fiction', 'Kindle eBooks', 'Romance', 'Kindle eBooks', 'Literature & Fiction', 'Kindle eBooks', 'Romance', 'Kindle eBooks', 'Literature & Fiction', 'Kindle eBooks', 'Literature & Fiction', 'Kindle eBooks', 'Romance', 'Kindle eBooks', 'Literature & Fiction', 'Kindle eBooks', 'Literature & Fiction', 'Kindle eBooks', 'Romance', 'Kindle eBooks', 'Literature & Fiction', 'Kindle eBooks', 'Romance', 'Kindle eBooks', 'Romance', 'Kindle eBooks', 'Literature & Fiction', 'Kindle eBooks', 'Romance', 'Kindle eBooks', 'Literature & Fiction', 'Kindle eBooks', 'Romance', 'Kindle eBooks', 'Romance', 'Kindle eBooks', 'Literature & Fiction', 'Kindle eBooks', 'Romance', 'Kindle eBooks', 'Science Fiction & Fantasy']\n",
            "35\n"
          ]
        }
      ],
      "source": [
        "# Collect the categories of all items\n",
        "all_categories = [category for category_list in product_df.category.values for category in category_list]\n",
        "print(all_categories)\n",
        "# Sort all unique values of the item categories by their frequencies in descending order\n",
        "category_sorted = sorted(Counter(all_categories).items(), key=lambda x: x[1], reverse=True)\n",
        "\n",
        "# Select top 500 most frequent categories\n",
        "selected_categories = [t[0] for t in category_sorted[:500]]\n",
        "#selected_categories = [t[0] for t in len(category_sorted)]\n",
        "\n",
        "# Create a dictionary mapping each secleted category to a unique integral index\n",
        "selected_categories_to_idx = dict(zip(selected_categories, range(1, len(selected_categories) + 1)))\n",
        "\n",
        "# Map all categories unseen in the item df to index 0\n",
        "selected_categories_to_idx['unk'] = 0\n",
        "\n",
        "# Create a dictionary mapping each integral index to corresponding category\n",
        "idx_to_selected_categories = {val: key for key, val in selected_categories_to_idx.items()}\n",
        "print(len(category_sorted))"
      ]
    },
    {
      "cell_type": "markdown",
      "metadata": {
        "id": "ftJwjF-Wme0C"
      },
      "source": [
        "##### Preparing cross product transformation for categories"
      ]
    },
    {
      "cell_type": "code",
      "execution_count": 305,
      "metadata": {
        "colab": {
          "base_uri": "https://localhost:8080/"
        },
        "id": "JX08FHBKme0C",
        "outputId": "e7ed937b-8b05-4a9b-c6c0-f288c5d2cdea"
      },
      "outputs": [
        {
          "output_type": "stream",
          "name": "stdout",
          "text": [
            "[{'Kindle eBooks', 'Literature & Fiction'}, {'Kindle eBooks', 'Romance'}, {'Kindle eBooks', 'Mystery, Thriller & Suspense'}, {'Science Fiction & Fantasy', 'Kindle eBooks'}, {'Religion & Spirituality', 'Kindle eBooks'}, {'Kindle eBooks', 'Teen & Young Adult'}, {\"Children's eBooks\", 'Kindle eBooks'}, {'Kindle eBooks', 'Health, Fitness & Dieting'}, {'Kindle eBooks', 'Business & Money'}, {'Cookbooks, Food & Wine', 'Kindle eBooks'}, {'Humor & Entertainment', 'Kindle eBooks'}, {'Biographies & Memoirs', 'Kindle eBooks'}, {'Politics & Social Sciences', 'Kindle eBooks'}, {'Kindle eBooks', 'Literature &amp; Fiction'}, {'Kindle eBooks', 'Reference'}, {'Kindle eBooks', 'Crafts, Hobbies & Home'}, {'Kindle eBooks', 'History'}, {'Kindle eBooks', 'Arts & Photography'}, {'Kindle eBooks', 'Computers & Technology'}, {'Science & Math', 'Kindle eBooks'}, {'Self-Help', 'Kindle eBooks'}, {'Education & Teaching', 'Kindle eBooks'}, {'Parenting & Relationships', 'Kindle eBooks'}, {'Kindle eBooks', 'Comics, Manga & Graphic Novels'}, {'Kindle eBooks', 'Travel'}, {'Mystery, Thriller &amp; Suspense', 'Kindle eBooks'}, {'Kindle eBooks', 'Engineering & Transportation'}, {'Two hours or more (65-100 pages)', 'Kindle Short Reads'}, {'Kindle eBooks', 'Sports & Outdoors'}, {'Kindle eBooks', 'Medical eBooks'}, {'Kindle eBooks', 'Nonfiction'}, {'One hour (33-43 pages)', 'Kindle Short Reads'}, {'Kindle eBooks', 'Religion &amp; Spirituality'}]\n"
          ]
        }
      ],
      "source": [
        "# Get most frequent categories combinantions using the utility function defined previously and store them in the folloing list\n",
        "top_combinations = []\n",
        "\n",
        "# Get top 50 most frequent two-categories combinantions in the train set\n",
        "\n",
        "top_combinations += get_top_k_p_combinations(tr_df, 2, 50, output_freq=False)\n",
        "\n",
        "# Get top 30 most frequent three-categories combinantions in the train set\n",
        "top_combinations += get_top_k_p_combinations(tr_df, 3, 30, output_freq=False)\n",
        "\n",
        "# Get top 20 most frequent four-categories combinantions in the train set\n",
        "top_combinations += get_top_k_p_combinations(tr_df, 4, 20, output_freq=False)\n",
        "\n",
        "# Convert each combinantion in the list to a set data structure\n",
        "top_combinations = [set(t) for t in top_combinations]\n",
        "print(top_combinations)"
      ]
    },
    {
      "cell_type": "code",
      "execution_count": 306,
      "metadata": {
        "colab": {
          "base_uri": "https://localhost:8080/"
        },
        "id": "u6-OyBIime0C",
        "outputId": "b4c565ff-c0eb-4720-b8eb-a16a6920703f"
      },
      "outputs": [
        {
          "output_type": "stream",
          "name": "stdout",
          "text": [
            "category_cross_features shape: (54014, 36)\n",
            "category_cross_features shape: (54014, 33)\n",
            "wide features shape: (54014, 69)\n",
            "category_cross_features shape: (5094, 36)\n",
            "category_cross_features shape: (5094, 33)\n",
            "wide features shape: (5094, 69)\n",
            "category_cross_features shape: (6633, 36)\n",
            "category_cross_features shape: (6633, 33)\n",
            "wide features shape: (6633, 69)\n"
          ]
        }
      ],
      "source": [
        "# Getting values of wide features for train/validation/test sets using the utility function defined previously\n",
        "# The following matrices should have a shape of (n_samples, len(selected_categories_to_idx)+len(top_combinations))\n",
        "tr_wide_features = get_wide_features(tr_df, selected_categories_to_idx, top_combinations)\n",
        "val_wide_features = get_wide_features(val_df, selected_categories_to_idx, top_combinations)\n",
        "te_wide_features = get_wide_features(te_df, selected_categories_to_idx, top_combinations)"
      ]
    },
    {
      "cell_type": "markdown",
      "metadata": {
        "id": "frwwIjxKme0D"
      },
      "source": [
        "### Concatenating continuous features, deep categorical features and wide features as an input list"
      ]
    },
    {
      "cell_type": "code",
      "execution_count": 307,
      "metadata": {
        "colab": {
          "base_uri": "https://localhost:8080/"
        },
        "id": "YFntFaReme0D",
        "outputId": "f634abcc-0297-4d57-fcfe-e1b241f27b65"
      },
      "outputs": [
        {
          "output_type": "stream",
          "name": "stdout",
          "text": [
            "54014\n"
          ]
        }
      ],
      "source": [
        "tr_features = []\n",
        "tr_features.append(tr_continuous_features) #(no.of samples, no. of continuous features 7)\n",
        "tr_features += [tr_deep_categorical_features[:, i] for i in range(tr_deep_categorical_features.shape[1])]  #(no.of samples, no. of categorical features 5)\n",
        "tr_features.append(tr_wide_features)  #(no.of samples, no. of continuous features 68)\n",
        "\n",
        "val_features = []\n",
        "val_features.append(val_continuous_features)\n",
        "val_features += [val_deep_categorical_features[:, i] for i in range(val_deep_categorical_features.shape[1])]\n",
        "val_features.append(val_wide_features)\n",
        "\n",
        "te_features = []\n",
        "te_features.append(te_continuous_features)\n",
        "te_features += [te_deep_categorical_features[:, i] for i in range(te_deep_categorical_features.shape[1])]\n",
        "te_features.append(te_wide_features)\n",
        "print(len(tr_wide_features))"
      ]
    },
    {
      "cell_type": "code",
      "execution_count": 308,
      "metadata": {
        "colab": {
          "base_uri": "https://localhost:8080/"
        },
        "id": "LE1yeCMpI0AU",
        "outputId": "489e8054-1e82-4685-875c-1bee99e26989"
      },
      "outputs": [
        {
          "output_type": "stream",
          "name": "stdout",
          "text": [
            "[array([[-0.58450018, -2.99486395,  1.52205934],\n",
            "       [ 3.45166876, -0.77038393, -1.76416274],\n",
            "       [ 3.45166876,  0.31633792, -1.76416274],\n",
            "       ...,\n",
            "       [-0.30213254, -0.91959059, -0.66875538],\n",
            "       [-0.75884869,  1.12851951,  0.97435566],\n",
            "       [-0.30213254, -1.25001229, -0.66875538]]), array([  1,   2,   2, ...,   0, 804,   0]), array([1, 1, 1, ..., 0, 1, 0]), array([1, 1, 1, ..., 0, 1, 0]), array([1, 2, 2, ..., 0, 2, 0]), array([ 1,  2,  2, ...,  0, 26,  0]), array([[0, 1, 0, ..., 0, 0, 0],\n",
            "       [0, 1, 0, ..., 0, 0, 0],\n",
            "       [0, 1, 0, ..., 0, 0, 0],\n",
            "       ...,\n",
            "       [0, 0, 0, ..., 0, 0, 0],\n",
            "       [0, 1, 1, ..., 0, 0, 0],\n",
            "       [0, 0, 0, ..., 0, 0, 0]])]\n"
          ]
        }
      ],
      "source": [
        "print(tr_features)"
      ]
    },
    {
      "cell_type": "markdown",
      "metadata": {
        "id": "fH3psuDCme0D"
      },
      "source": [
        "### Building the WDL"
      ]
    },
    {
      "cell_type": "code",
      "execution_count": 309,
      "metadata": {
        "id": "oX7uGtytYfV5"
      },
      "outputs": [],
      "source": [
        "from math import sqrt\n",
        "\n",
        "import pandas as pd\n",
        "from sklearn.metrics import (accuracy_score, mean_squared_error,\n",
        "                             precision_recall_fscore_support)\n",
        "\n",
        "\n",
        "# Function to calculate RMSE\n",
        "def rmse(pred, actual):\n",
        "    # Ignore nonzero terms.\n",
        "    pred = pred[actual.nonzero()].flatten()\n",
        "    actual = actual[actual.nonzero()].flatten()\n",
        "    return sqrt(mean_squared_error(pred, actual))\n",
        "\n",
        "\n"
      ]
    },
    {
      "cell_type": "code",
      "execution_count": 310,
      "metadata": {
        "id": "rxhtMxYRme0D",
        "colab": {
          "base_uri": "https://localhost:8080/"
        },
        "outputId": "3de8e3ab-bd94-471d-a367-0aa26d9d785d"
      },
      "outputs": [
        {
          "output_type": "stream",
          "name": "stderr",
          "text": [
            "/usr/local/lib/python3.11/dist-packages/keras/src/layers/core/embedding.py:90: UserWarning: Argument `input_length` is deprecated. Just remove it.\n",
            "  warnings.warn(\n"
          ]
        }
      ],
      "source": [
        "wdl_model = build_wdl_model(len(tr_continuous_features[0]), item_deep_vocab_lens,  len(tr_wide_features[0]), embed_size=100)"
      ]
    },
    {
      "cell_type": "code",
      "execution_count": 311,
      "metadata": {
        "colab": {
          "base_uri": "https://localhost:8080/"
        },
        "id": "TG2eQcxgEkic",
        "outputId": "3a253a93-ba7b-471e-f158-e15551683f63"
      },
      "outputs": [
        {
          "output_type": "execute_result",
          "data": {
            "text/plain": [
              "(5094, 3)"
            ]
          },
          "metadata": {},
          "execution_count": 311
        }
      ],
      "source": [
        "val_features[0].shape"
      ]
    },
    {
      "cell_type": "markdown",
      "metadata": {
        "id": "I5N84K_Dme0D"
      },
      "source": [
        "### Train the model using Adagrad optimizer and mean squared error loss"
      ]
    },
    {
      "cell_type": "code",
      "execution_count": 312,
      "metadata": {
        "colab": {
          "base_uri": "https://localhost:8080/"
        },
        "id": "-wYtuI2Tme0D",
        "outputId": "cad4e3f0-f55e-47b1-c090-6ab3f9c0cc61"
      },
      "outputs": [
        {
          "output_type": "stream",
          "name": "stdout",
          "text": [
            "Epoch 1/120\n",
            "\u001b[1m55/55\u001b[0m \u001b[32m━━━━━━━━━━━━━━━━━━━━\u001b[0m\u001b[37m\u001b[0m \u001b[1m7s\u001b[0m 55ms/step - loss: 4.1890 - val_loss: 3.9712\n",
            "Epoch 2/120\n",
            "\u001b[1m55/55\u001b[0m \u001b[32m━━━━━━━━━━━━━━━━━━━━\u001b[0m\u001b[37m\u001b[0m \u001b[1m3s\u001b[0m 45ms/step - loss: 4.0533 - val_loss: 3.8330\n",
            "Epoch 3/120\n",
            "\u001b[1m55/55\u001b[0m \u001b[32m━━━━━━━━━━━━━━━━━━━━\u001b[0m\u001b[37m\u001b[0m \u001b[1m2s\u001b[0m 45ms/step - loss: 3.9090 - val_loss: 3.6561\n",
            "Epoch 4/120\n",
            "\u001b[1m55/55\u001b[0m \u001b[32m━━━━━━━━━━━━━━━━━━━━\u001b[0m\u001b[37m\u001b[0m \u001b[1m5s\u001b[0m 84ms/step - loss: 3.7198 - val_loss: 3.4067\n",
            "Epoch 5/120\n",
            "\u001b[1m55/55\u001b[0m \u001b[32m━━━━━━━━━━━━━━━━━━━━\u001b[0m\u001b[37m\u001b[0m \u001b[1m3s\u001b[0m 45ms/step - loss: 3.4465 - val_loss: 3.0261\n",
            "Epoch 6/120\n",
            "\u001b[1m55/55\u001b[0m \u001b[32m━━━━━━━━━━━━━━━━━━━━\u001b[0m\u001b[37m\u001b[0m \u001b[1m3s\u001b[0m 45ms/step - loss: 3.0219 - val_loss: 2.3861\n",
            "Epoch 7/120\n",
            "\u001b[1m55/55\u001b[0m \u001b[32m━━━━━━━━━━━━━━━━━━━━\u001b[0m\u001b[37m\u001b[0m \u001b[1m3s\u001b[0m 47ms/step - loss: 2.2955 - val_loss: 1.3242\n",
            "Epoch 8/120\n",
            "\u001b[1m55/55\u001b[0m \u001b[32m━━━━━━━━━━━━━━━━━━━━\u001b[0m\u001b[37m\u001b[0m \u001b[1m4s\u001b[0m 65ms/step - loss: 1.3210 - val_loss: 0.8886\n",
            "Epoch 9/120\n",
            "\u001b[1m55/55\u001b[0m \u001b[32m━━━━━━━━━━━━━━━━━━━━\u001b[0m\u001b[37m\u001b[0m \u001b[1m4s\u001b[0m 47ms/step - loss: 1.0682 - val_loss: 0.8880\n",
            "Epoch 10/120\n",
            "\u001b[1m55/55\u001b[0m \u001b[32m━━━━━━━━━━━━━━━━━━━━\u001b[0m\u001b[37m\u001b[0m \u001b[1m3s\u001b[0m 48ms/step - loss: 1.0504 - val_loss: 0.8846\n",
            "Epoch 11/120\n",
            "\u001b[1m55/55\u001b[0m \u001b[32m━━━━━━━━━━━━━━━━━━━━\u001b[0m\u001b[37m\u001b[0m \u001b[1m3s\u001b[0m 45ms/step - loss: 1.0411 - val_loss: 0.8841\n",
            "Epoch 12/120\n",
            "\u001b[1m55/55\u001b[0m \u001b[32m━━━━━━━━━━━━━━━━━━━━\u001b[0m\u001b[37m\u001b[0m \u001b[1m3s\u001b[0m 61ms/step - loss: 1.0311 - val_loss: 0.8768\n",
            "Epoch 13/120\n",
            "\u001b[1m55/55\u001b[0m \u001b[32m━━━━━━━━━━━━━━━━━━━━\u001b[0m\u001b[37m\u001b[0m \u001b[1m4s\u001b[0m 48ms/step - loss: 1.0144 - val_loss: 0.8755\n",
            "Epoch 14/120\n",
            "\u001b[1m55/55\u001b[0m \u001b[32m━━━━━━━━━━━━━━━━━━━━\u001b[0m\u001b[37m\u001b[0m \u001b[1m3s\u001b[0m 46ms/step - loss: 0.9992 - val_loss: 0.8733\n",
            "Epoch 15/120\n",
            "\u001b[1m55/55\u001b[0m \u001b[32m━━━━━━━━━━━━━━━━━━━━\u001b[0m\u001b[37m\u001b[0m \u001b[1m3s\u001b[0m 46ms/step - loss: 0.9890 - val_loss: 0.8704\n",
            "Epoch 16/120\n",
            "\u001b[1m55/55\u001b[0m \u001b[32m━━━━━━━━━━━━━━━━━━━━\u001b[0m\u001b[37m\u001b[0m \u001b[1m3s\u001b[0m 61ms/step - loss: 0.9896 - val_loss: 0.8669\n",
            "Epoch 17/120\n",
            "\u001b[1m55/55\u001b[0m \u001b[32m━━━━━━━━━━━━━━━━━━━━\u001b[0m\u001b[37m\u001b[0m \u001b[1m4s\u001b[0m 49ms/step - loss: 0.9719 - val_loss: 0.8653\n",
            "Epoch 18/120\n",
            "\u001b[1m55/55\u001b[0m \u001b[32m━━━━━━━━━━━━━━━━━━━━\u001b[0m\u001b[37m\u001b[0m \u001b[1m3s\u001b[0m 48ms/step - loss: 0.9648 - val_loss: 0.8628\n",
            "Epoch 19/120\n",
            "\u001b[1m55/55\u001b[0m \u001b[32m━━━━━━━━━━━━━━━━━━━━\u001b[0m\u001b[37m\u001b[0m \u001b[1m6s\u001b[0m 64ms/step - loss: 0.9564 - val_loss: 0.8631\n",
            "Epoch 20/120\n",
            "\u001b[1m55/55\u001b[0m \u001b[32m━━━━━━━━━━━━━━━━━━━━\u001b[0m\u001b[37m\u001b[0m \u001b[1m4s\u001b[0m 47ms/step - loss: 0.9510 - val_loss: 0.8594\n",
            "Epoch 21/120\n",
            "\u001b[1m55/55\u001b[0m \u001b[32m━━━━━━━━━━━━━━━━━━━━\u001b[0m\u001b[37m\u001b[0m \u001b[1m5s\u001b[0m 47ms/step - loss: 0.9440 - val_loss: 0.8594\n",
            "Epoch 22/120\n",
            "\u001b[1m55/55\u001b[0m \u001b[32m━━━━━━━━━━━━━━━━━━━━\u001b[0m\u001b[37m\u001b[0m \u001b[1m3s\u001b[0m 60ms/step - loss: 0.9367 - val_loss: 0.8576\n",
            "Epoch 23/120\n",
            "\u001b[1m55/55\u001b[0m \u001b[32m━━━━━━━━━━━━━━━━━━━━\u001b[0m\u001b[37m\u001b[0m \u001b[1m4s\u001b[0m 67ms/step - loss: 0.9368 - val_loss: 0.8569\n",
            "Epoch 24/120\n",
            "\u001b[1m55/55\u001b[0m \u001b[32m━━━━━━━━━━━━━━━━━━━━\u001b[0m\u001b[37m\u001b[0m \u001b[1m3s\u001b[0m 45ms/step - loss: 0.9216 - val_loss: 0.8556\n",
            "Epoch 25/120\n",
            "\u001b[1m55/55\u001b[0m \u001b[32m━━━━━━━━━━━━━━━━━━━━\u001b[0m\u001b[37m\u001b[0m \u001b[1m3s\u001b[0m 46ms/step - loss: 0.9169 - val_loss: 0.8550\n",
            "Epoch 26/120\n",
            "\u001b[1m55/55\u001b[0m \u001b[32m━━━━━━━━━━━━━━━━━━━━\u001b[0m\u001b[37m\u001b[0m \u001b[1m2s\u001b[0m 45ms/step - loss: 0.9203 - val_loss: 0.8547\n",
            "Epoch 27/120\n",
            "\u001b[1m55/55\u001b[0m \u001b[32m━━━━━━━━━━━━━━━━━━━━\u001b[0m\u001b[37m\u001b[0m \u001b[1m4s\u001b[0m 68ms/step - loss: 0.9087 - val_loss: 0.8526\n",
            "Epoch 28/120\n",
            "\u001b[1m55/55\u001b[0m \u001b[32m━━━━━━━━━━━━━━━━━━━━\u001b[0m\u001b[37m\u001b[0m \u001b[1m4s\u001b[0m 47ms/step - loss: 0.9168 - val_loss: 0.8523\n",
            "Epoch 29/120\n",
            "\u001b[1m55/55\u001b[0m \u001b[32m━━━━━━━━━━━━━━━━━━━━\u001b[0m\u001b[37m\u001b[0m \u001b[1m5s\u001b[0m 47ms/step - loss: 0.9103 - val_loss: 0.8515\n",
            "Epoch 30/120\n",
            "\u001b[1m55/55\u001b[0m \u001b[32m━━━━━━━━━━━━━━━━━━━━\u001b[0m\u001b[37m\u001b[0m \u001b[1m6s\u001b[0m 70ms/step - loss: 0.9039 - val_loss: 0.8506\n",
            "Epoch 31/120\n",
            "\u001b[1m55/55\u001b[0m \u001b[32m━━━━━━━━━━━━━━━━━━━━\u001b[0m\u001b[37m\u001b[0m \u001b[1m4s\u001b[0m 44ms/step - loss: 0.8976 - val_loss: 0.8501\n",
            "Epoch 32/120\n",
            "\u001b[1m55/55\u001b[0m \u001b[32m━━━━━━━━━━━━━━━━━━━━\u001b[0m\u001b[37m\u001b[0m \u001b[1m3s\u001b[0m 48ms/step - loss: 0.8965 - val_loss: 0.8507\n",
            "Epoch 33/120\n",
            "\u001b[1m55/55\u001b[0m \u001b[32m━━━━━━━━━━━━━━━━━━━━\u001b[0m\u001b[37m\u001b[0m \u001b[1m6s\u001b[0m 70ms/step - loss: 0.8987 - val_loss: 0.8509\n",
            "Epoch 34/120\n",
            "\u001b[1m55/55\u001b[0m \u001b[32m━━━━━━━━━━━━━━━━━━━━\u001b[0m\u001b[37m\u001b[0m \u001b[1m4s\u001b[0m 49ms/step - loss: 0.8929 - val_loss: 0.8489\n",
            "Epoch 35/120\n",
            "\u001b[1m55/55\u001b[0m \u001b[32m━━━━━━━━━━━━━━━━━━━━\u001b[0m\u001b[37m\u001b[0m \u001b[1m5s\u001b[0m 50ms/step - loss: 0.8896 - val_loss: 0.8490\n",
            "Epoch 36/120\n",
            "\u001b[1m55/55\u001b[0m \u001b[32m━━━━━━━━━━━━━━━━━━━━\u001b[0m\u001b[37m\u001b[0m \u001b[1m4s\u001b[0m 66ms/step - loss: 0.8942 - val_loss: 0.8482\n",
            "Epoch 37/120\n",
            "\u001b[1m55/55\u001b[0m \u001b[32m━━━━━━━━━━━━━━━━━━━━\u001b[0m\u001b[37m\u001b[0m \u001b[1m4s\u001b[0m 48ms/step - loss: 0.8865 - val_loss: 0.8486\n",
            "Epoch 38/120\n",
            "\u001b[1m55/55\u001b[0m \u001b[32m━━━━━━━━━━━━━━━━━━━━\u001b[0m\u001b[37m\u001b[0m \u001b[1m5s\u001b[0m 49ms/step - loss: 0.8808 - val_loss: 0.8486\n",
            "Epoch 39/120\n",
            "\u001b[1m55/55\u001b[0m \u001b[32m━━━━━━━━━━━━━━━━━━━━\u001b[0m\u001b[37m\u001b[0m \u001b[1m4s\u001b[0m 64ms/step - loss: 0.8830 - val_loss: 0.8476\n",
            "Epoch 40/120\n",
            "\u001b[1m55/55\u001b[0m \u001b[32m━━━━━━━━━━━━━━━━━━━━\u001b[0m\u001b[37m\u001b[0m \u001b[1m4s\u001b[0m 48ms/step - loss: 0.8816 - val_loss: 0.8475\n",
            "Epoch 41/120\n",
            "\u001b[1m55/55\u001b[0m \u001b[32m━━━━━━━━━━━━━━━━━━━━\u001b[0m\u001b[37m\u001b[0m \u001b[1m3s\u001b[0m 47ms/step - loss: 0.8778 - val_loss: 0.8480\n",
            "Epoch 42/120\n",
            "\u001b[1m55/55\u001b[0m \u001b[32m━━━━━━━━━━━━━━━━━━━━\u001b[0m\u001b[37m\u001b[0m \u001b[1m3s\u001b[0m 48ms/step - loss: 0.8764 - val_loss: 0.8475\n",
            "Epoch 43/120\n",
            "\u001b[1m55/55\u001b[0m \u001b[32m━━━━━━━━━━━━━━━━━━━━\u001b[0m\u001b[37m\u001b[0m \u001b[1m6s\u001b[0m 73ms/step - loss: 0.8769 - val_loss: 0.8466\n",
            "Epoch 44/120\n",
            "\u001b[1m55/55\u001b[0m \u001b[32m━━━━━━━━━━━━━━━━━━━━\u001b[0m\u001b[37m\u001b[0m \u001b[1m4s\u001b[0m 46ms/step - loss: 0.8758 - val_loss: 0.8468\n",
            "Epoch 45/120\n",
            "\u001b[1m55/55\u001b[0m \u001b[32m━━━━━━━━━━━━━━━━━━━━\u001b[0m\u001b[37m\u001b[0m \u001b[1m3s\u001b[0m 46ms/step - loss: 0.8719 - val_loss: 0.8468\n",
            "Epoch 46/120\n",
            "\u001b[1m55/55\u001b[0m \u001b[32m━━━━━━━━━━━━━━━━━━━━\u001b[0m\u001b[37m\u001b[0m \u001b[1m3s\u001b[0m 48ms/step - loss: 0.8715 - val_loss: 0.8467\n",
            "Epoch 47/120\n",
            "\u001b[1m55/55\u001b[0m \u001b[32m━━━━━━━━━━━━━━━━━━━━\u001b[0m\u001b[37m\u001b[0m \u001b[1m5s\u001b[0m 52ms/step - loss: 0.8746 - val_loss: 0.8464\n",
            "Epoch 48/120\n",
            "\u001b[1m55/55\u001b[0m \u001b[32m━━━━━━━━━━━━━━━━━━━━\u001b[0m\u001b[37m\u001b[0m \u001b[1m5s\u001b[0m 45ms/step - loss: 0.8713 - val_loss: 0.8465\n",
            "Epoch 49/120\n",
            "\u001b[1m55/55\u001b[0m \u001b[32m━━━━━━━━━━━━━━━━━━━━\u001b[0m\u001b[37m\u001b[0m \u001b[1m3s\u001b[0m 55ms/step - loss: 0.8666 - val_loss: 0.8464\n",
            "Epoch 50/120\n",
            "\u001b[1m55/55\u001b[0m \u001b[32m━━━━━━━━━━━━━━━━━━━━\u001b[0m\u001b[37m\u001b[0m \u001b[1m4s\u001b[0m 80ms/step - loss: 0.8693 - val_loss: 0.8463\n",
            "Epoch 51/120\n",
            "\u001b[1m55/55\u001b[0m \u001b[32m━━━━━━━━━━━━━━━━━━━━\u001b[0m\u001b[37m\u001b[0m \u001b[1m4s\u001b[0m 51ms/step - loss: 0.8581 - val_loss: 0.8469\n",
            "Epoch 52/120\n",
            "\u001b[1m55/55\u001b[0m \u001b[32m━━━━━━━━━━━━━━━━━━━━\u001b[0m\u001b[37m\u001b[0m \u001b[1m3s\u001b[0m 47ms/step - loss: 0.8647 - val_loss: 0.8457\n",
            "Epoch 53/120\n",
            "\u001b[1m55/55\u001b[0m \u001b[32m━━━━━━━━━━━━━━━━━━━━\u001b[0m\u001b[37m\u001b[0m \u001b[1m6s\u001b[0m 66ms/step - loss: 0.8601 - val_loss: 0.8451\n",
            "Epoch 54/120\n",
            "\u001b[1m55/55\u001b[0m \u001b[32m━━━━━━━━━━━━━━━━━━━━\u001b[0m\u001b[37m\u001b[0m \u001b[1m4s\u001b[0m 63ms/step - loss: 0.8628 - val_loss: 0.8457\n",
            "Epoch 55/120\n",
            "\u001b[1m55/55\u001b[0m \u001b[32m━━━━━━━━━━━━━━━━━━━━\u001b[0m\u001b[37m\u001b[0m \u001b[1m4s\u001b[0m 49ms/step - loss: 0.8566 - val_loss: 0.8451\n",
            "Epoch 56/120\n",
            "\u001b[1m55/55\u001b[0m \u001b[32m━━━━━━━━━━━━━━━━━━━━\u001b[0m\u001b[37m\u001b[0m \u001b[1m6s\u001b[0m 64ms/step - loss: 0.8552 - val_loss: 0.8450\n",
            "Epoch 57/120\n",
            "\u001b[1m55/55\u001b[0m \u001b[32m━━━━━━━━━━━━━━━━━━━━\u001b[0m\u001b[37m\u001b[0m \u001b[1m4s\u001b[0m 48ms/step - loss: 0.8527 - val_loss: 0.8449\n",
            "Epoch 58/120\n",
            "\u001b[1m55/55\u001b[0m \u001b[32m━━━━━━━━━━━━━━━━━━━━\u001b[0m\u001b[37m\u001b[0m \u001b[1m4s\u001b[0m 67ms/step - loss: 0.8563 - val_loss: 0.8450\n",
            "Epoch 59/120\n",
            "\u001b[1m55/55\u001b[0m \u001b[32m━━━━━━━━━━━━━━━━━━━━\u001b[0m\u001b[37m\u001b[0m \u001b[1m4s\u001b[0m 63ms/step - loss: 0.8601 - val_loss: 0.8458\n",
            "Epoch 60/120\n",
            "\u001b[1m55/55\u001b[0m \u001b[32m━━━━━━━━━━━━━━━━━━━━\u001b[0m\u001b[37m\u001b[0m \u001b[1m5s\u001b[0m 85ms/step - loss: 0.8600 - val_loss: 0.8461\n",
            "Epoch 61/120\n",
            "\u001b[1m55/55\u001b[0m \u001b[32m━━━━━━━━━━━━━━━━━━━━\u001b[0m\u001b[37m\u001b[0m \u001b[1m3s\u001b[0m 48ms/step - loss: 0.8495 - val_loss: 0.8460\n",
            "Epoch 62/120\n",
            "\u001b[1m55/55\u001b[0m \u001b[32m━━━━━━━━━━━━━━━━━━━━\u001b[0m\u001b[37m\u001b[0m \u001b[1m3s\u001b[0m 48ms/step - loss: 0.8550 - val_loss: 0.8454\n",
            "Epoch 63/120\n",
            "\u001b[1m55/55\u001b[0m \u001b[32m━━━━━━━━━━━━━━━━━━━━\u001b[0m\u001b[37m\u001b[0m \u001b[1m6s\u001b[0m 66ms/step - loss: 0.8527 - val_loss: 0.8462\n",
            "Epoch 64/120\n",
            "\u001b[1m55/55\u001b[0m \u001b[32m━━━━━━━━━━━━━━━━━━━━\u001b[0m\u001b[37m\u001b[0m \u001b[1m4s\u001b[0m 46ms/step - loss: 0.8497 - val_loss: 0.8455\n",
            "Epoch 65/120\n",
            "\u001b[1m55/55\u001b[0m \u001b[32m━━━━━━━━━━━━━━━━━━━━\u001b[0m\u001b[37m\u001b[0m \u001b[1m3s\u001b[0m 49ms/step - loss: 0.8510 - val_loss: 0.8458\n",
            "Epoch 66/120\n",
            "\u001b[1m55/55\u001b[0m \u001b[32m━━━━━━━━━━━━━━━━━━━━\u001b[0m\u001b[37m\u001b[0m \u001b[1m6s\u001b[0m 60ms/step - loss: 0.8509 - val_loss: 0.8457\n",
            "Epoch 67/120\n",
            "\u001b[1m55/55\u001b[0m \u001b[32m━━━━━━━━━━━━━━━━━━━━\u001b[0m\u001b[37m\u001b[0m \u001b[1m4s\u001b[0m 48ms/step - loss: 0.8476 - val_loss: 0.8457\n",
            "Epoch 68/120\n",
            "\u001b[1m55/55\u001b[0m \u001b[32m━━━━━━━━━━━━━━━━━━━━\u001b[0m\u001b[37m\u001b[0m \u001b[1m5s\u001b[0m 48ms/step - loss: 0.8485 - val_loss: 0.8455\n",
            "Epoch 69/120\n",
            "\u001b[1m55/55\u001b[0m \u001b[32m━━━━━━━━━━━━━━━━━━━━\u001b[0m\u001b[37m\u001b[0m \u001b[1m7s\u001b[0m 87ms/step - loss: 0.8425 - val_loss: 0.8449\n",
            "Epoch 70/120\n",
            "\u001b[1m55/55\u001b[0m \u001b[32m━━━━━━━━━━━━━━━━━━━━\u001b[0m\u001b[37m\u001b[0m \u001b[1m3s\u001b[0m 49ms/step - loss: 0.8497 - val_loss: 0.8452\n",
            "Epoch 71/120\n",
            "\u001b[1m55/55\u001b[0m \u001b[32m━━━━━━━━━━━━━━━━━━━━\u001b[0m\u001b[37m\u001b[0m \u001b[1m3s\u001b[0m 47ms/step - loss: 0.8422 - val_loss: 0.8453\n",
            "Epoch 72/120\n",
            "\u001b[1m55/55\u001b[0m \u001b[32m━━━━━━━━━━━━━━━━━━━━\u001b[0m\u001b[37m\u001b[0m \u001b[1m6s\u001b[0m 72ms/step - loss: 0.8439 - val_loss: 0.8453\n",
            "Epoch 73/120\n",
            "\u001b[1m55/55\u001b[0m \u001b[32m━━━━━━━━━━━━━━━━━━━━\u001b[0m\u001b[37m\u001b[0m \u001b[1m3s\u001b[0m 57ms/step - loss: 0.8401 - val_loss: 0.8449\n",
            "Epoch 74/120\n",
            "\u001b[1m55/55\u001b[0m \u001b[32m━━━━━━━━━━━━━━━━━━━━\u001b[0m\u001b[37m\u001b[0m \u001b[1m3s\u001b[0m 47ms/step - loss: 0.8396 - val_loss: 0.8456\n",
            "Epoch 75/120\n",
            "\u001b[1m55/55\u001b[0m \u001b[32m━━━━━━━━━━━━━━━━━━━━\u001b[0m\u001b[37m\u001b[0m \u001b[1m5s\u001b[0m 48ms/step - loss: 0.8457 - val_loss: 0.8459\n",
            "Epoch 76/120\n",
            "\u001b[1m55/55\u001b[0m \u001b[32m━━━━━━━━━━━━━━━━━━━━\u001b[0m\u001b[37m\u001b[0m \u001b[1m4s\u001b[0m 81ms/step - loss: 0.8380 - val_loss: 0.8469\n",
            "Epoch 77/120\n",
            "\u001b[1m55/55\u001b[0m \u001b[32m━━━━━━━━━━━━━━━━━━━━\u001b[0m\u001b[37m\u001b[0m \u001b[1m3s\u001b[0m 48ms/step - loss: 0.8386 - val_loss: 0.8468\n",
            "Epoch 78/120\n",
            "\u001b[1m55/55\u001b[0m \u001b[32m━━━━━━━━━━━━━━━━━━━━\u001b[0m\u001b[37m\u001b[0m \u001b[1m5s\u001b[0m 48ms/step - loss: 0.8366 - val_loss: 0.8453\n",
            "Epoch 79/120\n",
            "\u001b[1m55/55\u001b[0m \u001b[32m━━━━━━━━━━━━━━━━━━━━\u001b[0m\u001b[37m\u001b[0m \u001b[1m3s\u001b[0m 63ms/step - loss: 0.8398 - val_loss: 0.8456\n",
            "Epoch 80/120\n",
            "\u001b[1m55/55\u001b[0m \u001b[32m━━━━━━━━━━━━━━━━━━━━\u001b[0m\u001b[37m\u001b[0m \u001b[1m4s\u001b[0m 65ms/step - loss: 0.8394 - val_loss: 0.8456\n",
            "Epoch 81/120\n",
            "\u001b[1m55/55\u001b[0m \u001b[32m━━━━━━━━━━━━━━━━━━━━\u001b[0m\u001b[37m\u001b[0m \u001b[1m4s\u001b[0m 49ms/step - loss: 0.8344 - val_loss: 0.8463\n",
            "Epoch 82/120\n",
            "\u001b[1m55/55\u001b[0m \u001b[32m━━━━━━━━━━━━━━━━━━━━\u001b[0m\u001b[37m\u001b[0m \u001b[1m3s\u001b[0m 46ms/step - loss: 0.8350 - val_loss: 0.8455\n",
            "Epoch 83/120\n",
            "\u001b[1m55/55\u001b[0m \u001b[32m━━━━━━━━━━━━━━━━━━━━\u001b[0m\u001b[37m\u001b[0m \u001b[1m3s\u001b[0m 60ms/step - loss: 0.8371 - val_loss: 0.8468\n",
            "Epoch 84/120\n",
            "\u001b[1m55/55\u001b[0m \u001b[32m━━━━━━━━━━━━━━━━━━━━\u001b[0m\u001b[37m\u001b[0m \u001b[1m4s\u001b[0m 48ms/step - loss: 0.8309 - val_loss: 0.8474\n",
            "Epoch 85/120\n",
            "\u001b[1m55/55\u001b[0m \u001b[32m━━━━━━━━━━━━━━━━━━━━\u001b[0m\u001b[37m\u001b[0m \u001b[1m5s\u001b[0m 49ms/step - loss: 0.8338 - val_loss: 0.8462\n",
            "Epoch 86/120\n",
            "\u001b[1m55/55\u001b[0m \u001b[32m━━━━━━━━━━━━━━━━━━━━\u001b[0m\u001b[37m\u001b[0m \u001b[1m7s\u001b[0m 77ms/step - loss: 0.8328 - val_loss: 0.8474\n",
            "Epoch 87/120\n",
            "\u001b[1m55/55\u001b[0m \u001b[32m━━━━━━━━━━━━━━━━━━━━\u001b[0m\u001b[37m\u001b[0m \u001b[1m3s\u001b[0m 49ms/step - loss: 0.8343 - val_loss: 0.8470\n",
            "Epoch 88/120\n",
            "\u001b[1m55/55\u001b[0m \u001b[32m━━━━━━━━━━━━━━━━━━━━\u001b[0m\u001b[37m\u001b[0m \u001b[1m3s\u001b[0m 48ms/step - loss: 0.8320 - val_loss: 0.8455\n",
            "Epoch 89/120\n",
            "\u001b[1m55/55\u001b[0m \u001b[32m━━━━━━━━━━━━━━━━━━━━\u001b[0m\u001b[37m\u001b[0m \u001b[1m3s\u001b[0m 48ms/step - loss: 0.8289 - val_loss: 0.8463\n",
            "Epoch 90/120\n",
            "\u001b[1m55/55\u001b[0m \u001b[32m━━━━━━━━━━━━━━━━━━━━\u001b[0m\u001b[37m\u001b[0m \u001b[1m3s\u001b[0m 55ms/step - loss: 0.8282 - val_loss: 0.8457\n",
            "Epoch 91/120\n",
            "\u001b[1m55/55\u001b[0m \u001b[32m━━━━━━━━━━━━━━━━━━━━\u001b[0m\u001b[37m\u001b[0m \u001b[1m5s\u001b[0m 48ms/step - loss: 0.8329 - val_loss: 0.8460\n",
            "Epoch 92/120\n",
            "\u001b[1m55/55\u001b[0m \u001b[32m━━━━━━━━━━━━━━━━━━━━\u001b[0m\u001b[37m\u001b[0m \u001b[1m3s\u001b[0m 48ms/step - loss: 0.8266 - val_loss: 0.8451\n",
            "Epoch 93/120\n",
            "\u001b[1m55/55\u001b[0m \u001b[32m━━━━━━━━━━━━━━━━━━━━\u001b[0m\u001b[37m\u001b[0m \u001b[1m6s\u001b[0m 66ms/step - loss: 0.8308 - val_loss: 0.8479\n",
            "Epoch 94/120\n",
            "\u001b[1m55/55\u001b[0m \u001b[32m━━━━━━━━━━━━━━━━━━━━\u001b[0m\u001b[37m\u001b[0m \u001b[1m4s\u001b[0m 49ms/step - loss: 0.8281 - val_loss: 0.8458\n",
            "Epoch 95/120\n",
            "\u001b[1m55/55\u001b[0m \u001b[32m━━━━━━━━━━━━━━━━━━━━\u001b[0m\u001b[37m\u001b[0m \u001b[1m5s\u001b[0m 48ms/step - loss: 0.8260 - val_loss: 0.8463\n",
            "Epoch 96/120\n",
            "\u001b[1m55/55\u001b[0m \u001b[32m━━━━━━━━━━━━━━━━━━━━\u001b[0m\u001b[37m\u001b[0m \u001b[1m7s\u001b[0m 85ms/step - loss: 0.8306 - val_loss: 0.8458\n",
            "Epoch 97/120\n",
            "\u001b[1m55/55\u001b[0m \u001b[32m━━━━━━━━━━━━━━━━━━━━\u001b[0m\u001b[37m\u001b[0m \u001b[1m3s\u001b[0m 49ms/step - loss: 0.8276 - val_loss: 0.8473\n",
            "Epoch 98/120\n",
            "\u001b[1m55/55\u001b[0m \u001b[32m━━━━━━━━━━━━━━━━━━━━\u001b[0m\u001b[37m\u001b[0m \u001b[1m5s\u001b[0m 51ms/step - loss: 0.8259 - val_loss: 0.8469\n",
            "Epoch 99/120\n",
            "\u001b[1m55/55\u001b[0m \u001b[32m━━━━━━━━━━━━━━━━━━━━\u001b[0m\u001b[37m\u001b[0m \u001b[1m6s\u001b[0m 63ms/step - loss: 0.8279 - val_loss: 0.8468\n",
            "Epoch 100/120\n",
            "\u001b[1m55/55\u001b[0m \u001b[32m━━━━━━━━━━━━━━━━━━━━\u001b[0m\u001b[37m\u001b[0m \u001b[1m4s\u001b[0m 49ms/step - loss: 0.8275 - val_loss: 0.8466\n",
            "Epoch 101/120\n",
            "\u001b[1m55/55\u001b[0m \u001b[32m━━━━━━━━━━━━━━━━━━━━\u001b[0m\u001b[37m\u001b[0m \u001b[1m3s\u001b[0m 49ms/step - loss: 0.8248 - val_loss: 0.8468\n",
            "Epoch 102/120\n",
            "\u001b[1m55/55\u001b[0m \u001b[32m━━━━━━━━━━━━━━━━━━━━\u001b[0m\u001b[37m\u001b[0m \u001b[1m5s\u001b[0m 85ms/step - loss: 0.8224 - val_loss: 0.8460\n",
            "Epoch 103/120\n",
            "\u001b[1m55/55\u001b[0m \u001b[32m━━━━━━━━━━━━━━━━━━━━\u001b[0m\u001b[37m\u001b[0m \u001b[1m3s\u001b[0m 60ms/step - loss: 0.8221 - val_loss: 0.8459\n",
            "Epoch 104/120\n",
            "\u001b[1m55/55\u001b[0m \u001b[32m━━━━━━━━━━━━━━━━━━━━\u001b[0m\u001b[37m\u001b[0m \u001b[1m4s\u001b[0m 48ms/step - loss: 0.8218 - val_loss: 0.8473\n",
            "Epoch 105/120\n",
            "\u001b[1m55/55\u001b[0m \u001b[32m━━━━━━━━━━━━━━━━━━━━\u001b[0m\u001b[37m\u001b[0m \u001b[1m3s\u001b[0m 46ms/step - loss: 0.8189 - val_loss: 0.8464\n",
            "Epoch 106/120\n",
            "\u001b[1m55/55\u001b[0m \u001b[32m━━━━━━━━━━━━━━━━━━━━\u001b[0m\u001b[37m\u001b[0m \u001b[1m3s\u001b[0m 59ms/step - loss: 0.8185 - val_loss: 0.8461\n",
            "Epoch 107/120\n",
            "\u001b[1m55/55\u001b[0m \u001b[32m━━━━━━━━━━━━━━━━━━━━\u001b[0m\u001b[37m\u001b[0m \u001b[1m4s\u001b[0m 70ms/step - loss: 0.8227 - val_loss: 0.8465\n",
            "Epoch 108/120\n",
            "\u001b[1m55/55\u001b[0m \u001b[32m━━━━━━━━━━━━━━━━━━━━\u001b[0m\u001b[37m\u001b[0m \u001b[1m4s\u001b[0m 50ms/step - loss: 0.8190 - val_loss: 0.8459\n",
            "Epoch 109/120\n",
            "\u001b[1m55/55\u001b[0m \u001b[32m━━━━━━━━━━━━━━━━━━━━\u001b[0m\u001b[37m\u001b[0m \u001b[1m5s\u001b[0m 48ms/step - loss: 0.8168 - val_loss: 0.8471\n",
            "Epoch 110/120\n",
            "\u001b[1m55/55\u001b[0m \u001b[32m━━━━━━━━━━━━━━━━━━━━\u001b[0m\u001b[37m\u001b[0m \u001b[1m5s\u001b[0m 86ms/step - loss: 0.8194 - val_loss: 0.8460\n",
            "Epoch 111/120\n",
            "\u001b[1m55/55\u001b[0m \u001b[32m━━━━━━━━━━━━━━━━━━━━\u001b[0m\u001b[37m\u001b[0m \u001b[1m3s\u001b[0m 46ms/step - loss: 0.8168 - val_loss: 0.8472\n",
            "Epoch 112/120\n",
            "\u001b[1m55/55\u001b[0m \u001b[32m━━━━━━━━━━━━━━━━━━━━\u001b[0m\u001b[37m\u001b[0m \u001b[1m3s\u001b[0m 47ms/step - loss: 0.8165 - val_loss: 0.8468\n",
            "Epoch 113/120\n",
            "\u001b[1m55/55\u001b[0m \u001b[32m━━━━━━━━━━━━━━━━━━━━\u001b[0m\u001b[37m\u001b[0m \u001b[1m3s\u001b[0m 47ms/step - loss: 0.8156 - val_loss: 0.8471\n",
            "Epoch 114/120\n",
            "\u001b[1m55/55\u001b[0m \u001b[32m━━━━━━━━━━━━━━━━━━━━\u001b[0m\u001b[37m\u001b[0m \u001b[1m3s\u001b[0m 60ms/step - loss: 0.8165 - val_loss: 0.8474\n",
            "Epoch 115/120\n",
            "\u001b[1m55/55\u001b[0m \u001b[32m━━━━━━━━━━━━━━━━━━━━\u001b[0m\u001b[37m\u001b[0m \u001b[1m4s\u001b[0m 68ms/step - loss: 0.8154 - val_loss: 0.8475\n",
            "Epoch 116/120\n",
            "\u001b[1m55/55\u001b[0m \u001b[32m━━━━━━━━━━━━━━━━━━━━\u001b[0m\u001b[37m\u001b[0m \u001b[1m3s\u001b[0m 46ms/step - loss: 0.8159 - val_loss: 0.8480\n",
            "Epoch 117/120\n",
            "\u001b[1m55/55\u001b[0m \u001b[32m━━━━━━━━━━━━━━━━━━━━\u001b[0m\u001b[37m\u001b[0m \u001b[1m5s\u001b[0m 46ms/step - loss: 0.8152 - val_loss: 0.8486\n",
            "Epoch 118/120\n",
            "\u001b[1m55/55\u001b[0m \u001b[32m━━━━━━━━━━━━━━━━━━━━\u001b[0m\u001b[37m\u001b[0m \u001b[1m3s\u001b[0m 58ms/step - loss: 0.8129 - val_loss: 0.8481\n",
            "Epoch 119/120\n",
            "\u001b[1m55/55\u001b[0m \u001b[32m━━━━━━━━━━━━━━━━━━━━\u001b[0m\u001b[37m\u001b[0m \u001b[1m4s\u001b[0m 46ms/step - loss: 0.8137 - val_loss: 0.8466\n",
            "Epoch 120/120\n",
            "\u001b[1m55/55\u001b[0m \u001b[32m━━━━━━━━━━━━━━━━━━━━\u001b[0m\u001b[37m\u001b[0m \u001b[1m3s\u001b[0m 46ms/step - loss: 0.8104 - val_loss: 0.8476\n"
          ]
        }
      ],
      "source": [
        "#wdl_model.compile(optimizer='adagrad', loss='mse')\n",
        "def root_mean_squared_error(y_true, y_pred):\n",
        "      mask = tensorflow.not_equal(y_true, 0)\n",
        "      pred = tensorflow.boolean_mask(y_pred, mask)\n",
        "      actual = tensorflow.boolean_mask(y_true, mask)\n",
        "      return tensorflow.sqrt(tensorflow.reduce_mean(tensorflow.square(y_pred - y_true)))\n",
        "wdl_model.compile(optimizer='adagrad', loss=root_mean_squared_error)\n",
        "# save_dir = os.path.join(os.getcwd(), \"save_models\")\n",
        "# filepath = \"cnn_cnn_weights.{epoch:02d}-{val_loss:.4f}--0fold.tf\"\n",
        "# checkpoint = ModelCheckpoint(os.path.join(save_dir, filepath),\n",
        "#                              monitor=\"val_loss\", verbose=1, save_best_only=False, mode='min')\n",
        "os.chdir('/content/drive/My Drive/COMP 4332/data')\n",
        "save_dir = os.path.join(os.getcwd(), \"save_models\")\n",
        "filepath = \"cnn_cnn_weights.{epoch:02d}-{val_loss:.4f}--0fold.keras\"\n",
        "checkpoint = ModelCheckpoint(os.path.join(save_dir, filepath))\n",
        "history = wdl_model.fit(\n",
        "\n",
        "        tr_features,\n",
        "        tr_ratings,\n",
        "        batch_size=1000,\n",
        "        epochs = 120,\n",
        "        validation_data=[val_features, val_ratings], validation_batch_size=32, verbose=1)\n",
        "        #validation_data=[val_features, val_ratings], validation_batch_size=val_features[0].shape, verbose=1, callbacks=[ModelCheckpoint('models/model.h5')])\n",
        "\n",
        "# # Ensure inputs are NumPy arrays (not Pandas DataFrames)\n",
        "# tr_features = np.array(tr_features)\n",
        "# tr_ratings = np.array(tr_ratings)\n",
        "# val_features = np.array(val_features)\n",
        "# val_ratings = np.array(val_ratings)\n",
        "\n",
        "# # Proceed with training\n",
        "# history = wdl_model.fit(\n",
        "#     tr_features,\n",
        "#     tr_ratings,\n",
        "#     batch_size=1000,\n",
        "#     epochs=120,\n",
        "#     validation_data=(val_features, val_ratings),  # Note: tuple, not list\n",
        "#     validation_batch_size=32,\n",
        "#     verbose=1,\n",
        "#     callbacks=[ModelCheckpoint('models/model.h5')]\n",
        "# )"
      ]
    },
    {
      "cell_type": "markdown",
      "metadata": {
        "id": "mJlTvwMlme0E"
      },
      "source": [
        "### Evaluate the model on train and validation sets using RMSE¶"
      ]
    },
    {
      "cell_type": "code",
      "execution_count": 313,
      "metadata": {
        "colab": {
          "base_uri": "https://localhost:8080/"
        },
        "id": "x0lLuQHYme0E",
        "outputId": "fcd5599f-9069-4eb9-f83c-8c8286fb2147"
      },
      "outputs": [
        {
          "output_type": "stream",
          "name": "stdout",
          "text": [
            "\u001b[1m1688/1688\u001b[0m \u001b[32m━━━━━━━━━━━━━━━━━━━━\u001b[0m\u001b[37m\u001b[0m \u001b[1m8s\u001b[0m 5ms/step\n",
            "TRAIN RMSE:  0.6599457513833752\n",
            "\u001b[1m160/160\u001b[0m \u001b[32m━━━━━━━━━━━━━━━━━━━━\u001b[0m\u001b[37m\u001b[0m \u001b[1m1s\u001b[0m 4ms/step\n",
            "VALID RMSE:  0.8641516090902193\n"
          ]
        }
      ],
      "source": [
        "y_pred = wdl_model.predict(tr_features)\n",
        "print(\"TRAIN RMSE: \", rmse(y_pred, tr_ratings))\n",
        "y_pred = wdl_model.predict(val_features)\n",
        "print(\"VALID RMSE: \", rmse(y_pred, val_ratings))"
      ]
    },
    {
      "cell_type": "code",
      "execution_count": 314,
      "metadata": {
        "colab": {
          "base_uri": "https://localhost:8080/"
        },
        "id": "1kIWmNIcYo0I",
        "outputId": "80269fb2-3810-47f7-891b-244d4518a10c"
      },
      "outputs": [
        {
          "output_type": "stream",
          "name": "stdout",
          "text": [
            "VALID RMSE:  0.8641516090902193\n"
          ]
        }
      ],
      "source": [
        "\n",
        "if __name__ == \"__main__\":\n",
        "\n",
        "    print(\"VALID RMSE: \", rmse(y_pred, val_ratings))\n"
      ]
    },
    {
      "cell_type": "code",
      "execution_count": 317,
      "metadata": {
        "colab": {
          "base_uri": "https://localhost:8080/",
          "height": 490
        },
        "id": "qTR4M8p5me0E",
        "outputId": "95d82725-24e0-4a7f-db76-7893c915077e"
      },
      "outputs": [
        {
          "output_type": "stream",
          "name": "stdout",
          "text": [
            "dict_keys(['loss', 'val_loss'])\n"
          ]
        },
        {
          "output_type": "display_data",
          "data": {
            "text/plain": [
              "<Figure size 640x480 with 1 Axes>"
            ],
            "image/png": "[encoded data removed]"
          },
          "metadata": {}
        }
      ],
      "source": [
        "import matplotlib.pyplot as plt\n",
        "print(history.history.keys())\n",
        "# \"Loss\"\n",
        "plt.plot(history.history['loss'])\n",
        "plt.plot(history.history['val_loss'])\n",
        "plt.title('model loss')\n",
        "plt.ylabel('loss')\n",
        "plt.xlabel('epoch')\n",
        "plt.legend(['train', 'validation'], loc='upper left')\n",
        "plt.show()"
      ]
    }
  ],
  "metadata": {
    "colab": {
      "provenance": []
    },
    "kernelspec": {
      "display_name": "Python 3 (ipykernel)",
      "language": "python",
      "name": "python3"
    },
    "language_info": {
      "codemirror_mode": {
        "name": "ipython",
        "version": 3
      },
      "file_extension": ".py",
      "mimetype": "text/x-python",
      "name": "python",
      "nbconvert_exporter": "python",
      "pygments_lexer": "ipython3",
      "version": "3.10.9"
    }
  },
  "nbformat": 4,
  "nbformat_minor": 0
}