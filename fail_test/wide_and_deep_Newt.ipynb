{
  "cells": [
    {
      "cell_type": "code",
      "execution_count": 215,
      "metadata": {
        "colab": {
          "base_uri": "https://localhost:8080/"
        },
        "id": "NqOvdmvPm1rR",
        "outputId": "b7aa119d-7563-462c-babf-e83c5f186fc5"
      },
      "outputs": [
        {
          "output_type": "stream",
          "name": "stdout",
          "text": [
            "Drive already mounted at /content/drive; to attempt to forcibly remount, call drive.mount(\"/content/drive\", force_remount=True).\n"
          ]
        }
      ],
      "source": [
        "from google.colab import drive\n",
        "drive.mount('/content/drive')"
      ]
    },
    {
      "cell_type": "code",
      "execution_count": 216,
      "metadata": {
        "id": "vGej0w2_nM_l"
      },
      "outputs": [],
      "source": [
        "data_path = \"/content/drive/MyDrive/COMP 4332/data\""
      ]
    },
    {
      "cell_type": "code",
      "execution_count": 217,
      "metadata": {
        "id": "afJiaaeHmez2"
      },
      "outputs": [],
      "source": [
        "from collections import Counter\n",
        "from itertools import combinations\n",
        "import random\n",
        "import numpy as np\n",
        "import pandas as pd\n",
        "import tensorflow\n",
        "from tensorflow.keras.layers import Concatenate, Dense, Dot, Dropout, Embedding, Input, Reshape\n",
        "from tensorflow.keras.models import Model\n",
        "from tensorflow.keras.callbacks import Callback, ModelCheckpoint\n",
        "import math\n",
        "from sklearn.metrics import mean_squared_error\n",
        "from sklearn.preprocessing import StandardScaler\n",
        "from tensorflow.keras import regularizers\n",
        "import os\n",
        "\n",
        "# Setting random seeds to replicate results easily\n",
        "random.seed(0)\n",
        "np.random.seed(0)\n",
        "tensorflow.random.set_seed(0)"
      ]
    },
    {
      "cell_type": "markdown",
      "metadata": {
        "id": "s7H-29Sgmez7"
      },
      "source": [
        "# Wide and Deep Learning (WDL) Model Implementation\n"
      ]
    },
    {
      "cell_type": "code",
      "execution_count": 218,
      "metadata": {
        "id": "xjFemb3Cmez8"
      },
      "outputs": [],
      "source": [
        "def build_wdl_model(len_continuous, deep_vocab_lens, len_wide, embed_size):\n",
        "    \"\"\"\n",
        "    Wide component is normally for memorization\n",
        "    Deep component is normally for generalization\n",
        "    params:\n",
        "      len_continuous: number of continuous features\n",
        "      deep_vocab_lens: an array of integers where deep_vocab_lens[i] represents the number of unique values of (i+1)-th deep categorical feature\n",
        "      len_wide: number of wide features\n",
        "      embed_size: dimension of the embedding vectors of deep categorical features\n",
        "\n",
        "    return:\n",
        "      a keras Model object for the constructed wdl model\n",
        "    \"\"\"\n",
        "    # A list containing all input layers\n",
        "    input_list = []\n",
        "\n",
        "    # Input layer for continuous features\n",
        "    continuous_input = Input(shape=(len_continuous,), dtype='float32', name='continuous_input')\n",
        "    input_list.append(continuous_input)\n",
        "\n",
        "    # Get embeddings for all deep categorical features\n",
        "    emb_list = []\n",
        "    for vocab_size in deep_vocab_lens:\n",
        "        _input = Input(shape=(1,), dtype='int32')\n",
        "        input_list.append(_input)\n",
        "        _emb = Embedding(output_dim=embed_size, input_dim=vocab_size, input_length=1)(_input)\n",
        "        _emb = Reshape((embed_size,))(_emb)\n",
        "        emb_list.append(_emb)\n",
        "\n",
        "    # Create input layer for deep component by concatenating the embeddings and continuous features' input layer\n",
        "    deep_input = Concatenate()(emb_list + [continuous_input])\n",
        "\n",
        "    # Construct deep component\n",
        "    dense_1 = Dense(256, activation='relu')(deep_input)\n",
        "    dense_1_dp = Dropout(0.2)(dense_1)\n",
        "    dense_2 = Dense(128, activation='relu')(dense_1_dp)\n",
        "    dense_2_dp = Dropout(0.2)(dense_2)\n",
        "    dense_3 = Dense(64, activation='relu')(dense_2_dp)\n",
        "    dense_3_dp = Dropout(0.2)(dense_3)\n",
        "    dense_4 = Dense(64, activation='relu')(dense_3_dp)\n",
        "    dense_4_dp = Dropout(0.2)(dense_4)\n",
        "    # dense_5 = Dense(32, activation='relu')(dense_4_dp)\n",
        "    # dense_5_dp = Dropout(0.2)(dense_5)\n",
        "\n",
        "    # Create input layer for wide component\n",
        "    wide_input = Input(shape=(len_wide,), dtype='float32')\n",
        "    input_list.append(wide_input)\n",
        "\n",
        "    # Concatenate the outputs of deep and wide components and feed the concatenated vector into the finall fully connected layer\n",
        "    fc_input = Concatenate()([dense_3_dp, wide_input])\n",
        "    model_output = Dense(1)(fc_input)\n",
        "\n",
        "    model = Model(inputs=input_list, outputs=model_output)\n",
        "    return model"
      ]
    },
    {
      "cell_type": "markdown",
      "metadata": {
        "id": "QSd7-W2Omez8"
      },
      "source": [
        "# Data Preprocessing\n"
      ]
    },
    {
      "cell_type": "code",
      "execution_count": 219,
      "metadata": {
        "id": "uoovFyVbmez9"
      },
      "outputs": [],
      "source": [
        "def get_continuous_features(df, continuous_columns):\n",
        "    '''\n",
        "    params:\n",
        "        df: input dataframe\n",
        "        continuous_columns: column names of continuous features\n",
        "\n",
        "    return:\n",
        "        a numpy array where each row contains the values of continuous features in the corresponding row of the input dataframe\n",
        "    '''\n",
        "    continuous_features = df[continuous_columns].values\n",
        "    return continuous_features"
      ]
    },
    {
      "cell_type": "code",
      "execution_count": 220,
      "metadata": {
        "id": "qu4Ozp6bmez-"
      },
      "outputs": [],
      "source": [
        "def get_top_k_p_combinations(df, comb_p, topk, output_freq=False):\n",
        "    '''\n",
        "    params:\n",
        "        df: input dataframe\n",
        "        comb_p: number of elements in each combination (e.g., there are two elements in the combination {fried chicken, chicken and waffle}, and three elements in the combination {fried chicken, chicken and waffle, chicken fried rice})\n",
        "        topk: number of most frequent combinations to retrieve\n",
        "        output_freq: whether to return the frequencies of retrieved combinations\n",
        "\n",
        "    return:\n",
        "        1. output_freq = True: a list X where each element is a tuple containing a combination tuple and corresponding frequency, and the elements are stored in the descending order of their frequencies\n",
        "        2. output_freq = False: a list X where each element is a tuple containing a combination tuple, and the elements are stored in the descending order of their frequencies\n",
        "    '''\n",
        "    def get_category_combinations(categories, comb_p=2):\n",
        "        if isinstance(categories, (float, int)) and math.isnan(categories):\n",
        "          categories = []\n",
        "        return list(combinations(categories, comb_p))\n",
        "    all_categories_p_combos = df[\"category\"].apply(lambda x: get_category_combinations(x, comb_p)).values.tolist()\n",
        "    all_categories_p_combos = [tuple(t) for item in all_categories_p_combos for t in item]\n",
        "    tmp = dict(Counter(all_categories_p_combos))\n",
        "    sorted_categories_combinations = list(sorted(tmp.items(), key=lambda x: x[1], reverse=True))\n",
        "    if output_freq:\n",
        "        return sorted_categories_combinations[:topk]\n",
        "    else:\n",
        "        return [t[0] for t in sorted_categories_combinations[:topk]]"
      ]
    },
    {
      "cell_type": "markdown",
      "metadata": {
        "id": "y0dMj139mez_"
      },
      "source": [
        "### Building Wide Features"
      ]
    },
    {
      "cell_type": "code",
      "execution_count": 221,
      "metadata": {
        "id": "u8Guz0IPmez_"
      },
      "outputs": [],
      "source": [
        "def get_wide_features(df, selected_categories_to_idx, top_combinations):\n",
        "    '''\n",
        "    params:\n",
        "        df: input dataframe\n",
        "        selected_categories_to_idx: a dictionary mapping item categories to corrresponding integral indices\n",
        "        top_combinations: a list containing retrieved mostly frequent combinantions of item categories\n",
        "\n",
        "    return:\n",
        "        a numpy array where each row contains the categorical features' binary encodings and cross product transformations for the corresponding row of the input dataframe\n",
        "    '''\n",
        "    def categories_to_binary_output(categories):\n",
        "        if isinstance(categories, (float, int)) and math.isnan(categories):\n",
        "          categories = []\n",
        "        binary_output = [0 for _ in range(len(selected_categories_to_idx))]\n",
        "        for category in categories:\n",
        "            if category in selected_categories_to_idx:\n",
        "                binary_output[selected_categories_to_idx[category]] = 1\n",
        "            else:\n",
        "                binary_output[0] = 1\n",
        "        return binary_output\n",
        "    def categories_cross_transformation(categories):\n",
        "        if isinstance(categories, (float, int)) and math.isnan(categories):\n",
        "          categories = []\n",
        "        current_category_set = set(categories)\n",
        "        corss_transform_output = [0 for _ in range(len(top_combinations))]\n",
        "        for k, comb_k in enumerate(top_combinations):\n",
        "            if len(current_category_set & comb_k) == len(comb_k):\n",
        "                corss_transform_output[k] = 1\n",
        "            else:\n",
        "                corss_transform_output[k] = 0\n",
        "        return corss_transform_output\n",
        "\n",
        "    category_binary_features = np.array(df.category.apply(lambda x: categories_to_binary_output(x)).values.tolist())\n",
        "    print('category_cross_features shape:',category_binary_features.shape)\n",
        "    category_cross_transform_features = np.array(df.category.apply(lambda x: categories_cross_transformation(x)).values.tolist())\n",
        "    print('category_cross_features shape:',category_cross_transform_features.shape)\n",
        "    print('wide features shape:',np.concatenate((category_binary_features, category_cross_transform_features), axis=1).shape)\n",
        "\n",
        "    return np.concatenate((category_binary_features, category_cross_transform_features), axis=1)"
      ]
    },
    {
      "cell_type": "markdown",
      "metadata": {
        "id": "AqrHrsVUme0A"
      },
      "source": [
        "# Ratings Prediction"
      ]
    },
    {
      "cell_type": "markdown",
      "metadata": {
        "id": "z2xHZEHYme0A"
      },
      "source": [
        "### Loading train, validation and test rating tables"
      ]
    },
    {
      "cell_type": "code",
      "execution_count": 222,
      "metadata": {
        "id": "3h6POsDgme0A"
      },
      "outputs": [],
      "source": [
        "tr_df = pd.read_csv(data_path+\"/review.csv\")\n",
        "val_df = pd.read_csv(data_path+\"/validation.csv\")\n",
        "te_df = pd.read_csv(data_path+\"/prediction.csv\")"
      ]
    },
    {
      "cell_type": "markdown",
      "metadata": {
        "id": "ee7c22ad"
      },
      "source": [
        "### Building two dictionaries to map original user ids and item ids into corresponding indices in respective embedding matrices"
      ]
    },
    {
      "cell_type": "code",
      "execution_count": 223,
      "metadata": {
        "id": "90b8ea9f"
      },
      "outputs": [],
      "source": [
        "# Get the unique set of all user ids and set of all business ids in train set\n",
        "user_set = set(tr_df.ReviewerID.unique())\n",
        "business_set = set(tr_df.ProductID.unique())\n",
        "\n",
        "# Build user vocabulary\n",
        "user_vocab = dict(zip(user_set, range(1, len(user_set) + 1)))\n",
        "\n",
        "# Reserve the first row of the embedding matrix for users unseen in the training set\n",
        "user_vocab['unk'] = 0\n",
        "n_users = len(user_vocab)\n",
        "\n",
        "# Build business vocabulary\n",
        "business_vocab = dict(zip(business_set, range(1, len(business_set) + 1)))\n",
        "# Reserve the first row of the embedding matrix for businesses unseen in the training set\n",
        "business_vocab['unk'] = 0\n",
        "n_items = len(business_vocab)"
      ]
    },
    {
      "cell_type": "markdown",
      "metadata": {
        "id": "R_JMfBHAme0A"
      },
      "source": [
        "### Loading content feautures tables of users and items"
      ]
    },
    {
      "cell_type": "code",
      "execution_count": 224,
      "metadata": {
        "colab": {
          "base_uri": "https://localhost:8080/"
        },
        "id": "Obi4FJ-EooSt",
        "outputId": "7b0879a7-183b-4177-f02a-8705c3c699cc"
      },
      "outputs": [
        {
          "output_type": "stream",
          "name": "stdout",
          "text": [
            "(52512, 5)\n",
            "(6596, 3)\n",
            "(6633, 3)\n"
          ]
        }
      ],
      "source": [
        "print(tr_df.shape)\n",
        "print(val_df.shape)\n",
        "print(te_df.shape)"
      ]
    },
    {
      "cell_type": "code",
      "execution_count": 225,
      "metadata": {
        "id": "fJK2qroUithi"
      },
      "outputs": [],
      "source": [
        "# Read the JSON file\n",
        "import json\n",
        "with open(data_path+\"/product.json\", \"r\") as file:\n",
        "    product_json = json.load(file)\n",
        "# Replace empty strings with None (null) in all columns\n",
        "for product in product_json:\n",
        "    for key, value in product.items():\n",
        "        if value == \"\" or value == []:\n",
        "            product[key] = None\n",
        "# Convert back to JSON string\n",
        "updated_product_json= json.dumps(product_json)\n",
        "# Convert the JSON data to a dataframe\n",
        "product_df = pd.json_normalize(product_json) # deal with more complex nested json structure than pd.DataFrame()"
      ]
    },
    {
      "cell_type": "markdown",
      "metadata": {
        "id": "c7ccd4c5"
      },
      "source": [
        "### Replacing the original user and item ids in train and valdiation set with indices in embedding matrices"
      ]
    },
    {
      "cell_type": "code",
      "execution_count": 226,
      "metadata": {
        "id": "UviPUZRCdrhN"
      },
      "outputs": [],
      "source": [
        "# Transforming user_id into a number by the user_vocab dictionary, and\n",
        "# transforming business_id into a number by the business_vocab dictonary\n",
        "tr_df[\"ReviewerID\"] = tr_df[\"ReviewerID\"].apply(lambda x: user_vocab[x])\n",
        "tr_df[\"ProductID\"] = tr_df[\"ProductID\"].apply(lambda x: business_vocab[x])\n",
        "product_df[\"ProductID\"] = product_df[\"ProductID\"].apply(lambda x: business_vocab[x] if x in business_vocab else 0)\n",
        "val_df[\"ReviewerID\"] = val_df[\"ReviewerID\"].apply(lambda x: user_vocab[x] if x in user_vocab else 0)\n",
        "val_df[\"ProductID\"] = val_df[\"ProductID\"].apply(lambda x: business_vocab[x] if x in business_vocab else 0)\n",
        "te_df[\"ReviewerID\"] = te_df[\"ReviewerID\"].apply(lambda x: user_vocab[x] if x in user_vocab else 0)\n",
        "te_df[\"ProductID\"] = te_df[\"ProductID\"].apply(lambda x: business_vocab[x] if x in business_vocab else 0)"
      ]
    },
    {
      "cell_type": "code",
      "execution_count": 227,
      "metadata": {
        "colab": {
          "base_uri": "https://localhost:8080/"
        },
        "id": "_LW7o843me0A",
        "outputId": "c8144867-38d6-4486-9019-5e1d35462fdb"
      },
      "outputs": [
        {
          "output_type": "stream",
          "name": "stdout",
          "text": [
            "(6309, 31)\n",
            "(6309, 26)\n",
            "(6309, 17)\n",
            "(6309, 16)\n",
            "      ReviewerID  reviewer_review_count  reviewer_avg_star\n",
            "0              1                     30           4.866667\n",
            "1              2                     14           4.285714\n",
            "2              3                     52           3.076923\n",
            "3              4                     22           4.227273\n",
            "4              5                      5           5.000000\n",
            "...          ...                    ...                ...\n",
            "2747        2748                     21           5.000000\n",
            "2748        2749                     15           2.800000\n",
            "2749        2750                      3           2.333333\n",
            "2750        2751                      3           5.000000\n",
            "2751        2752                      3           4.666667\n",
            "\n",
            "[2752 rows x 3 columns]\n",
            "      ProductID  product_review_count  product_avg_star\n",
            "0             1                     2          5.000000\n",
            "1             2                     3          5.000000\n",
            "2             3                     8          4.375000\n",
            "3             4                    17          4.000000\n",
            "4             5                    10          4.400000\n",
            "...         ...                   ...               ...\n",
            "6331       6332                     3          4.000000\n",
            "6332       6333                     5          4.600000\n",
            "6333       6334                    13          4.692308\n",
            "6334       6335                     5          5.000000\n",
            "6335       6336                    12          4.500000\n",
            "\n",
            "[6336 rows x 3 columns]\n"
          ]
        },
        {
          "output_type": "stream",
          "name": "stderr",
          "text": [
            "<ipython-input-227-3aa02a3e0a4c>:34: SettingWithCopyWarning: \n",
            "A value is trying to be set on a copy of a slice from a DataFrame.\n",
            "Try using .loc[row_indexer,col_indexer] = value instead\n",
            "\n",
            "See the caveats in the documentation: https://pandas.pydata.org/pandas-docs/stable/user_guide/indexing.html#returning-a-view-versus-a-copy\n",
            "  product_df['category'] = product_df['category'].apply(lambda x: [item for item in x if item != string_to_remove_1 and item != string_to_remove_2])\n",
            "<ipython-input-227-3aa02a3e0a4c>:36: SettingWithCopyWarning: \n",
            "A value is trying to be set on a copy of a slice from a DataFrame.\n",
            "Try using .loc[row_indexer,col_indexer] = value instead\n",
            "\n",
            "See the caveats in the documentation: https://pandas.pydata.org/pandas-docs/stable/user_guide/indexing.html#returning-a-view-versus-a-copy\n",
            "  product_df['category'] = product_df['category'].apply(lambda x: [item for item in x if item != string_to_remove_1 and item != string_to_remove_2])\n"
          ]
        }
      ],
      "source": [
        "# remove the unit from some of the continuous data\n",
        "product_df['details.File Size:'] = pd.to_numeric(product_df['details.File Size:'].apply(lambda x: str(float(x[:-2]) * 1024) + ' KB' if x.endswith('MB') else x) #change units from mb to kb\n",
        "                                    .str.replace(' KB', '').str.replace(' kB', '')) #ignore the unit kb\n",
        "product_df['details.Print Length:'] = pd.to_numeric(product_df['details.Print Length:'].str.replace(' pages', ''))\n",
        "#separate the rank int free rank and paid rank\n",
        "product_df['Free rank'] = product_df['rank'].str.extract(r'([\\d,]+) Free in Kindle Store')\n",
        "product_df['Free rank'] = product_df['Free rank'].apply(lambda x: float(str(x).replace(',', '')) if x  else x)\n",
        "product_df['Paid rank'] = product_df['rank'].str.extract(r'([\\d,]+) Paid in Kindle Store')\n",
        "product_df['Paid rank'] = product_df['Paid rank'].apply(lambda x: float(str(x).replace(',', '')) if x  else x)\n",
        "#product_df = product_df.drop('rank', axis=1)\n",
        "product_df['rank'] = product_df['Free rank'].combine_first(product_df['Paid rank'])\n",
        "print(product_df.shape)\n",
        "# remove the publisher date included in the field details.Publisher:\n",
        "import re\n",
        "product_df['details.Publisher:'] = product_df['details.Publisher:'].apply(lambda x: re.search(r'^(.*?) \\(.*', str(x)).group(1) if re.search(r'^(.*?) \\(.*', str(x)) else 'Unknown')\n",
        "\n",
        "# drop these columns with most rows without data\n",
        "product_df.drop([\"price\", \"details.Release Date:\",\t\"details.ISBN-10:\",\t\"details.ISBN-13:\", \"details.Page Numbers Source ISBN:\"], axis=1, inplace=True)\n",
        "print(product_df.shape)\n",
        "\n",
        "product_df.dropna(axis=1, how='all', inplace=True)\n",
        "print(product_df.shape)\n",
        "\n",
        "# drop the column which all rows have same value\n",
        "product_df.drop([\"main_cat\"], axis=1, inplace=True)\n",
        "print(product_df.shape)\n",
        "\n",
        "# Delete rows with NaN values in the specified column as I don't know how to deal with them\n",
        "product_df = product_df.dropna(subset=[\"rank\",\"details.Print Length:\"])\n",
        "# Define the string to remove\n",
        "string_to_remove_1 = 'Kindle Store'\n",
        "string_to_remove_2 = '</span>'\n",
        "# Apply the lambda function to remove the string from each list\n",
        "product_df['category'] = product_df['category'].apply(lambda x: [item for item in x if item != string_to_remove_1 and item != string_to_remove_2])\n",
        "# Try to add publisher as a wide features\n",
        "product_df['category'] = product_df['category'].apply(lambda x: [item for item in x if item != string_to_remove_1 and item != string_to_remove_2])\n",
        "\n",
        "user_df = pd.DataFrame(tr_df.groupby('ReviewerID')['Star'].agg(['count', 'mean'])).reset_index()\n",
        "user_df.columns = ['ReviewerID', 'reviewer_review_count', 'reviewer_avg_star']\n",
        "product_avg_star_df = pd.DataFrame(tr_df.groupby('ProductID')['Star'].agg(['count', 'mean'])).reset_index()\n",
        "product_avg_star_df.columns = ['ProductID', 'product_review_count','product_avg_star']\n",
        "print(user_df)\n",
        "print(product_avg_star_df)\n",
        "\n"
      ]
    },
    {
      "cell_type": "code",
      "execution_count": 228,
      "metadata": {
        "id": "Gcvi-9CKpn-8"
      },
      "outputs": [],
      "source": [
        "tr_df = pd.merge(pd.merge(pd.merge(tr_df, product_df, on='ProductID', how='left') # exclude those review without product information\n",
        "                ,product_avg_star_df, on='ProductID', how='left')\n",
        "                ,user_df, on='ReviewerID', how='left').reset_index(drop=True)\n",
        "val_df = pd.merge(pd.merge(pd.merge(val_df, product_df, on='ProductID', how='left')\n",
        "                ,product_avg_star_df, on='ProductID', how='left')\n",
        "                ,user_df, on='ReviewerID', how='left').reset_index(drop=True)\n",
        "te_df = pd.merge(pd.merge(pd.merge(te_df, product_df, on='ProductID', how='left')\n",
        "                ,product_avg_star_df, on='ProductID', how='left')\n",
        "                ,user_df, on='ReviewerID', how='left').reset_index(drop=True)"
      ]
    },
    {
      "cell_type": "code",
      "execution_count": 229,
      "metadata": {
        "colab": {
          "base_uri": "https://localhost:8080/"
        },
        "id": "XNsp4ldDoUUu",
        "outputId": "509f1675-2932-4b57-a8a9-15eadd13ce9d"
      },
      "outputs": [
        {
          "output_type": "stream",
          "name": "stdout",
          "text": [
            "0          51\n",
            "1        2165\n",
            "2         755\n",
            "3        1032\n",
            "4        1568\n",
            "         ... \n",
            "52507    2300\n",
            "52508    1524\n",
            "52509      96\n",
            "52510    2444\n",
            "52511    2087\n",
            "Name: ReviewerID, Length: 52512, dtype: int64\n",
            "(6596, 22)\n",
            "(6633, 22)\n",
            "0          51\n",
            "1        2165\n",
            "2         755\n",
            "3        1032\n",
            "4        1568\n",
            "         ... \n",
            "52507    2300\n",
            "52508    1524\n",
            "52509      96\n",
            "52510    2444\n",
            "52511    2087\n",
            "Name: ReviewerID, Length: 52512, dtype: int64\n"
          ]
        }
      ],
      "source": [
        "print(tr_df.ReviewerID)\n",
        "print(val_df.shape)\n",
        "print(te_df.shape)\n",
        "print(tr_df.ReviewerID)\n"
      ]
    },
    {
      "cell_type": "markdown",
      "metadata": {
        "id": "LqrTnTzzme0A"
      },
      "source": [
        "### Expanding the table by using user_id and business_id\n",
        "Expanding the train, valiation and test dataset by using `ReviewerID` and `ProductID` to query more features from `user_df` (which contain only the average stars given by and the number of reviews written by each reviewer) and `product_avg_star_df` and `product_df`."
      ]
    },
    {
      "cell_type": "code",
      "execution_count": 230,
      "metadata": {
        "colab": {
          "base_uri": "https://localhost:8080/"
        },
        "id": "J0EtLlEHpn_E",
        "outputId": "fd33659e-acdd-44eb-d57a-b4cee7ac63ad"
      },
      "outputs": [
        {
          "output_type": "stream",
          "name": "stdout",
          "text": [
            "(52512, 24)\n",
            "(6596, 22)\n",
            "(6633, 22)\n"
          ]
        }
      ],
      "source": [
        "print(tr_df.shape)\n",
        "print(val_df.shape)\n",
        "print(te_df.shape)"
      ]
    },
    {
      "cell_type": "code",
      "execution_count": 231,
      "metadata": {
        "id": "m5s8VTkSGMD1"
      },
      "outputs": [],
      "source": [
        "# labels for training and validation\n",
        "tr_ratings = tr_df['Star'].values\n",
        "val_ratings = val_df['Star'].values"
      ]
    },
    {
      "cell_type": "code",
      "execution_count": 232,
      "metadata": {
        "colab": {
          "base_uri": "https://localhost:8080/",
          "height": 655
        },
        "id": "bMSIDDdExbyE",
        "outputId": "2080a5ab-15f6-49a3-b1c9-0ad1328ee0fd"
      },
      "outputs": [
        {
          "output_type": "execute_result",
          "data": {
            "text/plain": [
              "   ReviewerID  ProductID                                               Text  \\\n",
              "0          51       1324  Liked the movie. Loved the book. It really giv...   \n",
              "1        2165       1945  Purchased more out of curiosity than any real ...   \n",
              "2         755       1945  I actually received this text as an ebook, sin...   \n",
              "3        1032       1553  REVIEWER'S OPINION:\\nThis was labeled as roman...   \n",
              "4        1568       3259  I have been saving the Argeneau novels for awh...   \n",
              "\n",
              "                                             Summary  Star  \\\n",
              "0                   Liked the movie. Loved the book!   5.0   \n",
              "1                            Not my favorite, but...   3.0   \n",
              "2                                An interesting read   4.0   \n",
              "3  This was labeled romance but there was less ro...   2.0   \n",
              "4             Science Fiction not Paranormal Romance   2.0   \n",
              "\n",
              "                                            category title  \\\n",
              "0             [Kindle eBooks, Biographies & Memoirs]  None   \n",
              "1        [Kindle eBooks, Politics & Social Sciences]  None   \n",
              "2        [Kindle eBooks, Politics & Social Sciences]  None   \n",
              "3                           [Kindle eBooks, Romance]  None   \n",
              "4  [Kindle eBooks, Mystery, Thriller &amp; Suspense]  None   \n",
              "\n",
              "                                   brand       rank  details.File Size:  ...  \\\n",
              "0  Visit Amazon's Frank W. Abagnale Page    59404.0              1466.0  ...   \n",
              "1          Visit Amazon's Karl Marx Page  1358073.0               142.0  ...   \n",
              "2          Visit Amazon's Karl Marx Page  1358073.0               142.0  ...   \n",
              "3    Visit Amazon's Allison Brennan Page    94006.0               739.0  ...   \n",
              "4       Visit Amazon's Lynsay Sands Page    31652.0              1011.0  ...   \n",
              "\n",
              "   details.ASIN: details.Word Wise: details.Lending:  \\\n",
              "0     B000FBFMHU            Enabled          Enabled   \n",
              "1     B000FC27TA            Enabled      Not Enabled   \n",
              "2     B000FC27TA            Enabled      Not Enabled   \n",
              "3     B000FCKPG2            Enabled      Not Enabled   \n",
              "4     B000GCFWXW            Enabled      Not Enabled   \n",
              "\n",
              "  details.Simultaneous Device Usage: Free rank  Paid rank  \\\n",
              "0                                NaN       NaN    59404.0   \n",
              "1                                NaN       NaN  1358073.0   \n",
              "2                                NaN       NaN  1358073.0   \n",
              "3                                NaN       NaN    94006.0   \n",
              "4                                NaN       NaN    31652.0   \n",
              "\n",
              "  product_review_count product_avg_star  reviewer_review_count  \\\n",
              "0                    1         5.000000                     13   \n",
              "1                    2         3.500000                     70   \n",
              "2                    2         3.500000                      8   \n",
              "3                    1         2.000000                     24   \n",
              "4                    7         3.142857                     19   \n",
              "\n",
              "   reviewer_avg_star  \n",
              "0           2.461538  \n",
              "1           3.814286  \n",
              "2           4.500000  \n",
              "3           2.625000  \n",
              "4           2.947368  \n",
              "\n",
              "[5 rows x 24 columns]"
            ],
            "text/html": [
              "\n",
              "  <div id=\"df-101d8b35-adc1-48c8-a3be-5f97944cf581\" class=\"colab-df-container\">\n",
              "    <div>\n",
              "<style scoped>\n",
              "    .dataframe tbody tr th:only-of-type {\n",
              "        vertical-align: middle;\n",
              "    }\n",
              "\n",
              "    .dataframe tbody tr th {\n",
              "        vertical-align: top;\n",
              "    }\n",
              "\n",
              "    .dataframe thead th {\n",
              "        text-align: right;\n",
              "    }\n",
              "</style>\n",
              "<table border=\"1\" class=\"dataframe\">\n",
              "  <thead>\n",
              "    <tr style=\"text-align: right;\">\n",
              "      <th></th>\n",
              "      <th>ReviewerID</th>\n",
              "      <th>ProductID</th>\n",
              "      <th>Text</th>\n",
              "      <th>Summary</th>\n",
              "      <th>Star</th>\n",
              "      <th>category</th>\n",
              "      <th>title</th>\n",
              "      <th>brand</th>\n",
              "      <th>rank</th>\n",
              "      <th>details.File Size:</th>\n",
              "      <th>...</th>\n",
              "      <th>details.ASIN:</th>\n",
              "      <th>details.Word Wise:</th>\n",
              "      <th>details.Lending:</th>\n",
              "      <th>details.Simultaneous Device Usage:</th>\n",
              "      <th>Free rank</th>\n",
              "      <th>Paid rank</th>\n",
              "      <th>product_review_count</th>\n",
              "      <th>product_avg_star</th>\n",
              "      <th>reviewer_review_count</th>\n",
              "      <th>reviewer_avg_star</th>\n",
              "    </tr>\n",
              "  </thead>\n",
              "  <tbody>\n",
              "    <tr>\n",
              "      <th>0</th>\n",
              "      <td>51</td>\n",
              "      <td>1324</td>\n",
              "      <td>Liked the movie. Loved the book. It really giv...</td>\n",
              "      <td>Liked the movie. Loved the book!</td>\n",
              "      <td>5.0</td>\n",
              "      <td>[Kindle eBooks, Biographies &amp; Memoirs]</td>\n",
              "      <td>None</td>\n",
              "      <td>Visit Amazon's Frank W. Abagnale Page</td>\n",
              "      <td>59404.0</td>\n",
              "      <td>1466.0</td>\n",
              "      <td>...</td>\n",
              "      <td>B000FBFMHU</td>\n",
              "      <td>Enabled</td>\n",
              "      <td>Enabled</td>\n",
              "      <td>NaN</td>\n",
              "      <td>NaN</td>\n",
              "      <td>59404.0</td>\n",
              "      <td>1</td>\n",
              "      <td>5.000000</td>\n",
              "      <td>13</td>\n",
              "      <td>2.461538</td>\n",
              "    </tr>\n",
              "    <tr>\n",
              "      <th>1</th>\n",
              "      <td>2165</td>\n",
              "      <td>1945</td>\n",
              "      <td>Purchased more out of curiosity than any real ...</td>\n",
              "      <td>Not my favorite, but...</td>\n",
              "      <td>3.0</td>\n",
              "      <td>[Kindle eBooks, Politics &amp; Social Sciences]</td>\n",
              "      <td>None</td>\n",
              "      <td>Visit Amazon's Karl Marx Page</td>\n",
              "      <td>1358073.0</td>\n",
              "      <td>142.0</td>\n",
              "      <td>...</td>\n",
              "      <td>B000FC27TA</td>\n",
              "      <td>Enabled</td>\n",
              "      <td>Not Enabled</td>\n",
              "      <td>NaN</td>\n",
              "      <td>NaN</td>\n",
              "      <td>1358073.0</td>\n",
              "      <td>2</td>\n",
              "      <td>3.500000</td>\n",
              "      <td>70</td>\n",
              "      <td>3.814286</td>\n",
              "    </tr>\n",
              "    <tr>\n",
              "      <th>2</th>\n",
              "      <td>755</td>\n",
              "      <td>1945</td>\n",
              "      <td>I actually received this text as an ebook, sin...</td>\n",
              "      <td>An interesting read</td>\n",
              "      <td>4.0</td>\n",
              "      <td>[Kindle eBooks, Politics &amp; Social Sciences]</td>\n",
              "      <td>None</td>\n",
              "      <td>Visit Amazon's Karl Marx Page</td>\n",
              "      <td>1358073.0</td>\n",
              "      <td>142.0</td>\n",
              "      <td>...</td>\n",
              "      <td>B000FC27TA</td>\n",
              "      <td>Enabled</td>\n",
              "      <td>Not Enabled</td>\n",
              "      <td>NaN</td>\n",
              "      <td>NaN</td>\n",
              "      <td>1358073.0</td>\n",
              "      <td>2</td>\n",
              "      <td>3.500000</td>\n",
              "      <td>8</td>\n",
              "      <td>4.500000</td>\n",
              "    </tr>\n",
              "    <tr>\n",
              "      <th>3</th>\n",
              "      <td>1032</td>\n",
              "      <td>1553</td>\n",
              "      <td>REVIEWER'S OPINION:\\nThis was labeled as roman...</td>\n",
              "      <td>This was labeled romance but there was less ro...</td>\n",
              "      <td>2.0</td>\n",
              "      <td>[Kindle eBooks, Romance]</td>\n",
              "      <td>None</td>\n",
              "      <td>Visit Amazon's Allison Brennan Page</td>\n",
              "      <td>94006.0</td>\n",
              "      <td>739.0</td>\n",
              "      <td>...</td>\n",
              "      <td>B000FCKPG2</td>\n",
              "      <td>Enabled</td>\n",
              "      <td>Not Enabled</td>\n",
              "      <td>NaN</td>\n",
              "      <td>NaN</td>\n",
              "      <td>94006.0</td>\n",
              "      <td>1</td>\n",
              "      <td>2.000000</td>\n",
              "      <td>24</td>\n",
              "      <td>2.625000</td>\n",
              "    </tr>\n",
              "    <tr>\n",
              "      <th>4</th>\n",
              "      <td>1568</td>\n",
              "      <td>3259</td>\n",
              "      <td>I have been saving the Argeneau novels for awh...</td>\n",
              "      <td>Science Fiction not Paranormal Romance</td>\n",
              "      <td>2.0</td>\n",
              "      <td>[Kindle eBooks, Mystery, Thriller &amp;amp; Suspense]</td>\n",
              "      <td>None</td>\n",
              "      <td>Visit Amazon's Lynsay Sands Page</td>\n",
              "      <td>31652.0</td>\n",
              "      <td>1011.0</td>\n",
              "      <td>...</td>\n",
              "      <td>B000GCFWXW</td>\n",
              "      <td>Enabled</td>\n",
              "      <td>Not Enabled</td>\n",
              "      <td>NaN</td>\n",
              "      <td>NaN</td>\n",
              "      <td>31652.0</td>\n",
              "      <td>7</td>\n",
              "      <td>3.142857</td>\n",
              "      <td>19</td>\n",
              "      <td>2.947368</td>\n",
              "    </tr>\n",
              "  </tbody>\n",
              "</table>\n",
              "<p>5 rows × 24 columns</p>\n",
              "</div>\n",
              "    <div class=\"colab-df-buttons\">\n",
              "\n",
              "  <div class=\"colab-df-container\">\n",
              "    <button class=\"colab-df-convert\" onclick=\"convertToInteractive('df-101d8b35-adc1-48c8-a3be-5f97944cf581')\"\n",
              "            title=\"Convert this dataframe to an interactive table.\"\n",
              "            style=\"display:none;\">\n",
              "\n",
              "  <svg xmlns=\"http://www.w3.org/2000/svg\" height=\"24px\" viewBox=\"0 -960 960 960\">\n",
              "    <path d=\"M120-120v-720h720v720H120Zm60-500h600v-160H180v160Zm220 220h160v-160H400v160Zm0 220h160v-160H400v160ZM180-400h160v-160H180v160Zm440 0h160v-160H620v160ZM180-180h160v-160H180v160Zm440 0h160v-160H620v160Z\"/>\n",
              "  </svg>\n",
              "    </button>\n",
              "\n",
              "  <style>\n",
              "    .colab-df-container {\n",
              "      display:flex;\n",
              "      gap: 12px;\n",
              "    }\n",
              "\n",
              "    .colab-df-convert {\n",
              "      background-color: #E8F0FE;\n",
              "      border: none;\n",
              "      border-radius: 50%;\n",
              "      cursor: pointer;\n",
              "      display: none;\n",
              "      fill: #1967D2;\n",
              "      height: 32px;\n",
              "      padding: 0 0 0 0;\n",
              "      width: 32px;\n",
              "    }\n",
              "\n",
              "    .colab-df-convert:hover {\n",
              "      background-color: #E2EBFA;\n",
              "      box-shadow: 0px 1px 2px rgba(60, 64, 67, 0.3), 0px 1px 3px 1px rgba(60, 64, 67, 0.15);\n",
              "      fill: #174EA6;\n",
              "    }\n",
              "\n",
              "    .colab-df-buttons div {\n",
              "      margin-bottom: 4px;\n",
              "    }\n",
              "\n",
              "    [theme=dark] .colab-df-convert {\n",
              "      background-color: #3B4455;\n",
              "      fill: #D2E3FC;\n",
              "    }\n",
              "\n",
              "    [theme=dark] .colab-df-convert:hover {\n",
              "      background-color: #434B5C;\n",
              "      box-shadow: 0px 1px 3px 1px rgba(0, 0, 0, 0.15);\n",
              "      filter: drop-shadow(0px 1px 2px rgba(0, 0, 0, 0.3));\n",
              "      fill: #FFFFFF;\n",
              "    }\n",
              "  </style>\n",
              "\n",
              "    <script>\n",
              "      const buttonEl =\n",
              "        document.querySelector('#df-101d8b35-adc1-48c8-a3be-5f97944cf581 button.colab-df-convert');\n",
              "      buttonEl.style.display =\n",
              "        google.colab.kernel.accessAllowed ? 'block' : 'none';\n",
              "\n",
              "      async function convertToInteractive(key) {\n",
              "        const element = document.querySelector('#df-101d8b35-adc1-48c8-a3be-5f97944cf581');\n",
              "        const dataTable =\n",
              "          await google.colab.kernel.invokeFunction('convertToInteractive',\n",
              "                                                    [key], {});\n",
              "        if (!dataTable) return;\n",
              "\n",
              "        const docLinkHtml = 'Like what you see? Visit the ' +\n",
              "          '<a target=\"_blank\" href=https://colab.research.google.com/notebooks/data_table.ipynb>data table notebook</a>'\n",
              "          + ' to learn more about interactive tables.';\n",
              "        element.innerHTML = '';\n",
              "        dataTable['output_type'] = 'display_data';\n",
              "        await google.colab.output.renderOutput(dataTable, element);\n",
              "        const docLink = document.createElement('div');\n",
              "        docLink.innerHTML = docLinkHtml;\n",
              "        element.appendChild(docLink);\n",
              "      }\n",
              "    </script>\n",
              "  </div>\n",
              "\n",
              "\n",
              "<div id=\"df-124edfd8-93ec-4d8a-a372-9eedf8cd63f8\">\n",
              "  <button class=\"colab-df-quickchart\" onclick=\"quickchart('df-124edfd8-93ec-4d8a-a372-9eedf8cd63f8')\"\n",
              "            title=\"Suggest charts\"\n",
              "            style=\"display:none;\">\n",
              "\n",
              "<svg xmlns=\"http://www.w3.org/2000/svg\" height=\"24px\"viewBox=\"0 0 24 24\"\n",
              "     width=\"24px\">\n",
              "    <g>\n",
              "        <path d=\"M19 3H5c-1.1 0-2 .9-2 2v14c0 1.1.9 2 2 2h14c1.1 0 2-.9 2-2V5c0-1.1-.9-2-2-2zM9 17H7v-7h2v7zm4 0h-2V7h2v10zm4 0h-2v-4h2v4z\"/>\n",
              "    </g>\n",
              "</svg>\n",
              "  </button>\n",
              "\n",
              "<style>\n",
              "  .colab-df-quickchart {\n",
              "      --bg-color: #E8F0FE;\n",
              "      --fill-color: #1967D2;\n",
              "      --hover-bg-color: #E2EBFA;\n",
              "      --hover-fill-color: #174EA6;\n",
              "      --disabled-fill-color: #AAA;\n",
              "      --disabled-bg-color: #DDD;\n",
              "  }\n",
              "\n",
              "  [theme=dark] .colab-df-quickchart {\n",
              "      --bg-color: #3B4455;\n",
              "      --fill-color: #D2E3FC;\n",
              "      --hover-bg-color: #434B5C;\n",
              "      --hover-fill-color: #FFFFFF;\n",
              "      --disabled-bg-color: #3B4455;\n",
              "      --disabled-fill-color: #666;\n",
              "  }\n",
              "\n",
              "  .colab-df-quickchart {\n",
              "    background-color: var(--bg-color);\n",
              "    border: none;\n",
              "    border-radius: 50%;\n",
              "    cursor: pointer;\n",
              "    display: none;\n",
              "    fill: var(--fill-color);\n",
              "    height: 32px;\n",
              "    padding: 0;\n",
              "    width: 32px;\n",
              "  }\n",
              "\n",
              "  .colab-df-quickchart:hover {\n",
              "    background-color: var(--hover-bg-color);\n",
              "    box-shadow: 0 1px 2px rgba(60, 64, 67, 0.3), 0 1px 3px 1px rgba(60, 64, 67, 0.15);\n",
              "    fill: var(--button-hover-fill-color);\n",
              "  }\n",
              "\n",
              "  .colab-df-quickchart-complete:disabled,\n",
              "  .colab-df-quickchart-complete:disabled:hover {\n",
              "    background-color: var(--disabled-bg-color);\n",
              "    fill: var(--disabled-fill-color);\n",
              "    box-shadow: none;\n",
              "  }\n",
              "\n",
              "  .colab-df-spinner {\n",
              "    border: 2px solid var(--fill-color);\n",
              "    border-color: transparent;\n",
              "    border-bottom-color: var(--fill-color);\n",
              "    animation:\n",
              "      spin 1s steps(1) infinite;\n",
              "  }\n",
              "\n",
              "  @keyframes spin {\n",
              "    0% {\n",
              "      border-color: transparent;\n",
              "      border-bottom-color: var(--fill-color);\n",
              "      border-left-color: var(--fill-color);\n",
              "    }\n",
              "    20% {\n",
              "      border-color: transparent;\n",
              "      border-left-color: var(--fill-color);\n",
              "      border-top-color: var(--fill-color);\n",
              "    }\n",
              "    30% {\n",
              "      border-color: transparent;\n",
              "      border-left-color: var(--fill-color);\n",
              "      border-top-color: var(--fill-color);\n",
              "      border-right-color: var(--fill-color);\n",
              "    }\n",
              "    40% {\n",
              "      border-color: transparent;\n",
              "      border-right-color: var(--fill-color);\n",
              "      border-top-color: var(--fill-color);\n",
              "    }\n",
              "    60% {\n",
              "      border-color: transparent;\n",
              "      border-right-color: var(--fill-color);\n",
              "    }\n",
              "    80% {\n",
              "      border-color: transparent;\n",
              "      border-right-color: var(--fill-color);\n",
              "      border-bottom-color: var(--fill-color);\n",
              "    }\n",
              "    90% {\n",
              "      border-color: transparent;\n",
              "      border-bottom-color: var(--fill-color);\n",
              "    }\n",
              "  }\n",
              "</style>\n",
              "\n",
              "  <script>\n",
              "    async function quickchart(key) {\n",
              "      const quickchartButtonEl =\n",
              "        document.querySelector('#' + key + ' button');\n",
              "      quickchartButtonEl.disabled = true;  // To prevent multiple clicks.\n",
              "      quickchartButtonEl.classList.add('colab-df-spinner');\n",
              "      try {\n",
              "        const charts = await google.colab.kernel.invokeFunction(\n",
              "            'suggestCharts', [key], {});\n",
              "      } catch (error) {\n",
              "        console.error('Error during call to suggestCharts:', error);\n",
              "      }\n",
              "      quickchartButtonEl.classList.remove('colab-df-spinner');\n",
              "      quickchartButtonEl.classList.add('colab-df-quickchart-complete');\n",
              "    }\n",
              "    (() => {\n",
              "      let quickchartButtonEl =\n",
              "        document.querySelector('#df-124edfd8-93ec-4d8a-a372-9eedf8cd63f8 button');\n",
              "      quickchartButtonEl.style.display =\n",
              "        google.colab.kernel.accessAllowed ? 'block' : 'none';\n",
              "    })();\n",
              "  </script>\n",
              "</div>\n",
              "    </div>\n",
              "  </div>\n"
            ],
            "application/vnd.google.colaboratory.intrinsic+json": {
              "type": "dataframe",
              "variable_name": "tr_df"
            }
          },
          "metadata": {},
          "execution_count": 232
        }
      ],
      "source": [
        "tr_df.head()"
      ]
    },
    {
      "cell_type": "code",
      "execution_count": 233,
      "metadata": {
        "colab": {
          "base_uri": "https://localhost:8080/"
        },
        "id": "DkThJICG5dzd",
        "outputId": "8f6438ea-3641-4cab-a19e-cfcf6b18066a"
      },
      "outputs": [
        {
          "output_type": "execute_result",
          "data": {
            "text/plain": [
              "(52512, 24)"
            ]
          },
          "metadata": {},
          "execution_count": 233
        }
      ],
      "source": [
        "tr_df.shape"
      ]
    },
    {
      "cell_type": "code",
      "execution_count": 234,
      "metadata": {
        "id": "lBkpUeFDE9PO"
      },
      "outputs": [],
      "source": [
        "#tr_df.to_csv(data_path+'/my_train.csv', index=False)"
      ]
    },
    {
      "cell_type": "code",
      "source": [],
      "metadata": {
        "id": "Kg23mowafezy"
      },
      "execution_count": 234,
      "outputs": []
    },
    {
      "cell_type": "markdown",
      "metadata": {
        "id": "KfnxOKBTme0B"
      },
      "source": [
        "### Preparing continuous features"
      ]
    },
    {
      "cell_type": "code",
      "execution_count": 235,
      "metadata": {
        "id": "Jn-XW-Nwme0B",
        "colab": {
          "base_uri": "https://localhost:8080/"
        },
        "outputId": "6a32d45e-56e6-43af-eb0f-0d49883ca227"
      },
      "outputs": [
        {
          "output_type": "stream",
          "name": "stderr",
          "text": [
            "<ipython-input-235-4dc0772c8938>:11: FutureWarning: A value is trying to be set on a copy of a DataFrame or Series through chained assignment using an inplace method.\n",
            "The behavior will change in pandas 3.0. This inplace method will never work because the intermediate object on which we are setting values always behaves as a copy.\n",
            "\n",
            "For example, when doing 'df[col].method(value, inplace=True)', try using 'df.method({col: value}, inplace=True)' or df[col] = df[col].method(value) instead, to perform the operation inplace on the original object.\n",
            "\n",
            "\n",
            "  df[column].fillna(median_value, inplace=True)\n"
          ]
        }
      ],
      "source": [
        "# Specify the columns containing conitnuous features\n",
        "\n",
        "continuous_columns = [\"rank\",\n",
        "                      \"reviewer_avg_star\", \"product_avg_star\"]\n",
        "\n",
        "\n",
        "# Assuming you have a DataFrame called 'df' and a list of column names to fill nan with medians\n",
        "def fill_nan_with_median(df, columns_to_fill ):\n",
        "  for column in columns_to_fill:\n",
        "      median_value = df[column].median()\n",
        "      df[column].fillna(median_value, inplace=True)\n",
        "  return df\n",
        "\n",
        "tr_df = fill_nan_with_median(tr_df, continuous_columns)\n",
        "val_df = fill_nan_with_median(val_df, continuous_columns)\n",
        "te_df = fill_nan_with_median(te_df, continuous_columns)\n",
        "\n",
        "# Get values of continous features for train/validation/test sets using the utility function defined previously\n",
        "tr_continuous_features = get_continuous_features(tr_df, continuous_columns)\n",
        "val_continuous_features = get_continuous_features(val_df, continuous_columns)\n",
        "te_continuous_features = get_continuous_features(te_df, continuous_columns)\n",
        "\n",
        "# Standardize each feature by removing the mean of the training samples and scaling to unit variance.\n",
        "# See https://scikit-learn.org/stable/modules/generated/sklearn.preprocessing.StandardScaler.html for more details.\n",
        "scaler = StandardScaler().fit(tr_continuous_features)\n",
        "\n",
        "tr_continuous_features = scaler.transform(tr_continuous_features)\n",
        "val_continuous_features = scaler.transform(val_continuous_features)\n",
        "te_continuous_features = scaler.transform(te_continuous_features)"
      ]
    },
    {
      "cell_type": "markdown",
      "metadata": {
        "id": "iST1ttQzme0B"
      },
      "source": [
        "### Preparing deep categorical features"
      ]
    },
    {
      "cell_type": "code",
      "execution_count": 236,
      "metadata": {
        "id": "Vdghrp3Tme0B"
      },
      "outputs": [],
      "source": [
        "# Sepcify column names of deep categorical features\n",
        "item_deep_columns = [\"brand\", \"details.Language:\", \"details.Word Wise:\", \"details.Lending:\",\"details.Publisher:\"]\n",
        "product_df = product_df.fillna({col: 'unknown' for col in item_deep_columns})\n",
        "\n",
        "# An array of integers where deep_vocab_lens[i] represents the number of unique values of (i+1)-th deep categorical feature\n",
        "# Transforming words into indices for each categorical columns\n",
        "item_deep_vocab_lens = []\n",
        "for col_name in item_deep_columns:\n",
        "    # Getting unique values of this deep categorical feature\n",
        "    unique_values = product_df[col_name].unique()\n",
        "\n",
        "    # Creating a dictionary to map from unique values to the corresponding index\n",
        "    vocab = dict(zip(unique_values, range(1, len(unique_values)+1)))\n",
        "\n",
        "    # Getting the number of unique values of this deep categorical features\n",
        "    item_deep_vocab_lens.append(len(vocab)+1)\n",
        "\n",
        "    # Creating a new column where each entry stores the index of this deep categorical feature's value in the same row\n",
        "    product_df[col_name + \"_idx\"] = product_df[col_name].apply(lambda x: vocab[x])\n",
        "\n",
        "\n",
        "# Creating a dictionary mapping each business id to corresponding values of deep categorical features ('business_id' -> ['item_city_idx', 'item_postal_code_idx', 'item_state_idx'] in this case)\n",
        "item_deep_idx_columns = [t + \"_idx\" for t in item_deep_columns]\n",
        "item_to_deep_categorical_features = dict(zip(product_df['ProductID'].values, product_df[item_deep_idx_columns].values.tolist()))\n",
        "\n",
        "# Creating numpy arrays storing corresponding deep categorical features' values of train/validation/test sets using the above mapping\n",
        "tr_deep_categorical_features = np.array(tr_df['ProductID'].apply(lambda x: item_to_deep_categorical_features[x] if x in item_to_deep_categorical_features else np.zeros(5, dtype=int)).values.tolist())\n",
        "val_deep_categorical_features = np.array(val_df['ProductID'].apply(lambda x: item_to_deep_categorical_features[x] if x in item_to_deep_categorical_features else np.zeros(5, dtype=int)).values.tolist())\n",
        "te_deep_categorical_features = np.array(te_df['ProductID'].apply(lambda x: item_to_deep_categorical_features[x] if x in item_to_deep_categorical_features else np.zeros(5, dtype=int)).values.tolist())"
      ]
    },
    {
      "cell_type": "markdown",
      "metadata": {
        "id": "rUYmTt-Ame0C"
      },
      "source": [
        "### Preparing wide features"
      ]
    },
    {
      "cell_type": "markdown",
      "metadata": {
        "id": "TYLTxWXQme0C"
      },
      "source": [
        "##### Preparing binary encoding for each selected category"
      ]
    },
    {
      "cell_type": "code",
      "execution_count": 237,
      "metadata": {
        "colab": {
          "base_uri": "https://localhost:8080/"
        },
        "id": "F2bJCLZxme0C",
        "outputId": "5dd48c3d-8c71-41ea-808b-43a24e657f77"
      },
      "outputs": [
        {
          "output_type": "stream",
          "name": "stdout",
          "text": [
            "['Kindle eBooks', 'Biographies & Memoirs', 'Kindle eBooks', 'Politics & Social Sciences', 'Kindle eBooks', 'Romance', 'Kindle eBooks', 'Mystery, Thriller &amp; Suspense', 'Kindle eBooks', 'Romance', 'Kindle eBooks', 'Religion &amp; Spirituality', 'Kindle eBooks', 'Literature & Fiction', 'Kindle eBooks', 'Literature & Fiction', 'Kindle eBooks', 'Literature & Fiction', 'Kindle eBooks', 'Literature & Fiction', 'Kindle eBooks', 'Health, Fitness & Dieting', 'Kindle eBooks', 'Mystery, Thriller &amp; Suspense', 'Kindle eBooks', 'Romance', 'Kindle eBooks', 'Literature & Fiction', 'Kindle eBooks', \"Children's eBooks\", 'Kindle eBooks', 'Literature & Fiction', 'Kindle eBooks', 'Literature & Fiction', 'Kindle eBooks', 'Literature & Fiction', 'Kindle eBooks', 'Religion & Spirituality', 'Kindle eBooks', 'Literature & Fiction', 'Kindle eBooks', 'Mystery, Thriller & Suspense', 'Kindle eBooks', 'Religion & Spirituality', 'Kindle eBooks', \"Children's eBooks\", 'Kindle eBooks', 'Literature & Fiction', 'Kindle eBooks', 'Teen & Young Adult', 'Kindle eBooks', 'Romance', 'Kindle eBooks', 'Literature & Fiction', 'Kindle eBooks', 'Literature & Fiction', 'Kindle eBooks', 'Religion & Spirituality', 'Kindle eBooks', 'History', 'Kindle eBooks', 'Literature & Fiction', 'Kindle eBooks', 'Religion & Spirituality', 'Kindle eBooks', 'Literature & Fiction', 'Kindle eBooks', 'Literature & Fiction', 'Kindle eBooks', 'Religion & Spirituality', 'Kindle eBooks', 'Literature & Fiction', 'Kindle eBooks', 'Romance', 'Kindle eBooks', 'Literature & Fiction', 'Kindle eBooks', 'Literature &amp; Fiction', 'Kindle eBooks', 'Romance', 'Kindle eBooks', 'Literature &amp; Fiction', 'Kindle eBooks', 'Mystery, Thriller & Suspense', 'Kindle eBooks', 'Literature & Fiction', 'Kindle eBooks', 'Romance', 'Kindle eBooks', 'Humor & Entertainment', 'Kindle eBooks', 'Literature & Fiction', 'Kindle eBooks', 'Romance', 'Kindle eBooks', 'Literature & Fiction', 'Kindle eBooks', 'Science Fiction & Fantasy', 'Kindle eBooks', 'Mystery, Thriller & Suspense', 'Kindle eBooks', 'Literature & Fiction', 'Kindle eBooks', \"Children's eBooks\", 'Kindle eBooks', 'Literature & Fiction', 'Kindle eBooks', 'Mystery, Thriller & Suspense', 'Kindle eBooks', 'Science Fiction & Fantasy', 'Kindle eBooks', 'Business & Money', 'Kindle eBooks', 'Mystery, Thriller & Suspense', 'Kindle eBooks', 'Literature & Fiction', 'Kindle eBooks', 'Reference', 'Kindle Short Reads', 'Two hours or more (65-100 pages)', 'Kindle eBooks', \"Children's eBooks\", 'Kindle eBooks', \"Children's eBooks\", 'Kindle eBooks', 'Literature & Fiction', 'Kindle eBooks', 'Romance', 'Kindle eBooks', 'Mystery, Thriller & Suspense', 'Kindle eBooks', 'Literature & Fiction', 'Kindle eBooks', 'Mystery, Thriller & Suspense', 'Kindle eBooks', 'Mystery, Thriller & Suspense', 'Kindle eBooks', 'Mystery, Thriller & Suspense', 'Kindle eBooks', 'Literature & Fiction', 'Kindle eBooks', 'Teen & Young Adult', 'Kindle eBooks', 'Literature & Fiction', 'Kindle eBooks', 'Literature & Fiction', 'Kindle eBooks', 'Literature & Fiction', 'Kindle eBooks', 'Literature & Fiction', 'Kindle eBooks', 'Cookbooks, Food & Wine', 'Kindle eBooks', 'Self-Help', 'Kindle eBooks', 'Literature & Fiction', 'Kindle eBooks', 'Literature & Fiction', 'Kindle eBooks', 'Literature & Fiction', 'Kindle eBooks', 'Romance', 'Kindle eBooks', 'Teen & Young Adult', 'Kindle eBooks', 'Literature & Fiction', 'Kindle eBooks', 'Romance', 'Kindle eBooks', 'Teen & Young Adult', 'Kindle eBooks', 'Literature & Fiction', 'Kindle eBooks', 'Literature & Fiction', 'Kindle eBooks', 'Literature & Fiction', 'Kindle eBooks', 'Literature & Fiction', 'Kindle eBooks', 'Literature & Fiction', 'Kindle eBooks', 'Romance', 'Kindle eBooks', \"Children's eBooks\", 'Kindle eBooks', 'Science Fiction & Fantasy', 'Kindle eBooks', 'Literature & Fiction', 'Kindle eBooks', 'Literature & Fiction', 'Kindle eBooks', 'Literature & Fiction', 'Kindle eBooks', 'Romance', 'Kindle eBooks', 'Literature & Fiction', 'Kindle eBooks', 'Literature & Fiction', 'Kindle eBooks', 'Religion & Spirituality', 'Kindle eBooks', 'Literature & Fiction', 'Kindle eBooks', 'Mystery, Thriller & Suspense', 'Kindle eBooks', \"Children's eBooks\", 'Kindle eBooks', 'Literature & Fiction', 'Kindle eBooks', \"Children's eBooks\", 'Kindle eBooks', 'Romance', 'Kindle eBooks', 'Teen & Young Adult', 'Kindle eBooks', 'Teen & Young Adult', 'Kindle eBooks', 'Science Fiction & Fantasy', 'Kindle eBooks', 'Parenting & Relationships', 'Kindle eBooks', 'Literature & Fiction', 'Kindle eBooks', 'Literature & Fiction', 'Kindle eBooks', 'Teen & Young Adult', 'Kindle eBooks', 'Science Fiction & Fantasy', 'Kindle eBooks', 'Mystery, Thriller & Suspense', 'Kindle eBooks', 'Teen & Young Adult', 'Kindle eBooks', 'Science Fiction & Fantasy', 'Kindle eBooks', 'Science Fiction & Fantasy', 'Kindle eBooks', 'Science Fiction & Fantasy', 'Kindle eBooks', 'Teen & Young Adult', 'Kindle eBooks', 'Literature & Fiction', 'Kindle eBooks', 'Literature & Fiction', 'Kindle eBooks', 'Literature & Fiction', 'Kindle eBooks', 'Religion & Spirituality', 'Kindle eBooks', 'Science Fiction & Fantasy', 'Kindle eBooks', 'Literature & Fiction', 'Kindle eBooks', 'Romance', 'Kindle eBooks', 'Literature & Fiction', 'Kindle eBooks', 'Literature & Fiction', 'Kindle eBooks', 'Humor & Entertainment', 'Kindle eBooks', 'Literature & Fiction', 'Kindle eBooks', 'Literature & Fiction', 'Kindle eBooks', 'Literature & Fiction', 'Kindle eBooks', 'Religion & Spirituality', 'Kindle eBooks', 'Mystery, Thriller & Suspense', 'Kindle eBooks', 'Literature & Fiction', 'Kindle eBooks', 'Literature & Fiction', 'Kindle eBooks', 'Romance', 'Kindle eBooks', 'Mystery, Thriller & Suspense', 'Kindle eBooks', 'Teen & Young Adult', 'Kindle eBooks', 'Science Fiction & Fantasy', 'Kindle eBooks', 'Literature & Fiction', 'Kindle eBooks', 'Health, Fitness & Dieting', 'Kindle eBooks', \"Children's eBooks\", 'Kindle eBooks', 'Literature & Fiction', 'Kindle eBooks', 'Literature & Fiction', 'Kindle eBooks', 'Romance', 'Kindle eBooks', \"Children's eBooks\", 'Kindle eBooks', 'Literature & Fiction', 'Kindle eBooks', 'Literature & Fiction', 'Kindle eBooks', 'Religion & Spirituality', 'Kindle eBooks', 'Science Fiction & Fantasy', 'Kindle eBooks', 'Mystery, Thriller & Suspense', 'Kindle eBooks', 'Literature & Fiction', 'Kindle eBooks', 'Literature & Fiction', 'Kindle eBooks', 'Teen & Young Adult', 'Kindle eBooks', 'Teen & Young Adult', 'Kindle eBooks', 'Teen & Young Adult', 'Kindle eBooks', 'Science Fiction & Fantasy', 'Kindle eBooks', 'Literature & Fiction', 'Kindle eBooks', 'Kindle eBooks', 'Literature & Fiction', 'Kindle eBooks', 'Science Fiction & Fantasy', 'Kindle eBooks', 'Literature & Fiction', 'Kindle eBooks', 'Literature & Fiction', 'Kindle eBooks', 'Religion & Spirituality', 'Kindle eBooks', 'Romance', 'Kindle eBooks', 'Mystery, Thriller & Suspense', 'Kindle eBooks', 'Religion & Spirituality', 'Kindle eBooks', 'Romance', 'Kindle eBooks', 'Teen & Young Adult', 'Kindle eBooks', 'Teen & Young Adult', 'Kindle eBooks', 'Mystery, Thriller & Suspense', 'Kindle eBooks', 'Literature & Fiction', 'Kindle eBooks', \"Children's eBooks\", 'Kindle eBooks', 'Teen & Young Adult', 'Kindle eBooks', 'Romance', 'Kindle eBooks', 'Mystery, Thriller & Suspense', 'Kindle eBooks', 'Romance', 'Kindle eBooks', 'Science Fiction & Fantasy', 'Kindle eBooks', 'Literature & Fiction', 'Kindle eBooks', 'Teen & Young Adult', 'Kindle eBooks', 'Romance', 'Kindle eBooks', \"Children's eBooks\", 'Kindle eBooks', 'Science Fiction & Fantasy', 'Kindle eBooks', 'Literature & Fiction', 'Kindle eBooks', 'Comics, Manga & Graphic Novels', 'Kindle eBooks', 'Science Fiction & Fantasy', 'Kindle eBooks', 'Reference', 'Kindle eBooks', 'Mystery, Thriller & Suspense', 'Kindle eBooks', 'Literature & Fiction', 'Kindle eBooks', 'Literature & Fiction', 'Kindle eBooks', 'Religion & Spirituality', 'Kindle eBooks', 'Health, Fitness & Dieting', 'Kindle eBooks', 'Literature & Fiction', 'Kindle eBooks', 'Romance', 'Kindle eBooks', 'Romance', 'Kindle eBooks', 'Literature & Fiction', 'Kindle eBooks', 'Teen & Young Adult', 'Kindle eBooks', 'Science Fiction & Fantasy', 'Kindle eBooks', 'Literature & Fiction', 'Kindle eBooks', 'Literature & Fiction', 'Kindle eBooks', 'Literature & Fiction', 'Kindle eBooks', 'Literature & Fiction', 'Kindle eBooks', 'Literature & Fiction', 'Kindle eBooks', 'Teen & Young Adult', 'Kindle eBooks', 'Literature & Fiction', 'Kindle eBooks', 'Teen & Young Adult', 'Kindle eBooks', 'Literature & Fiction', 'Kindle eBooks', 'Literature & Fiction', 'Kindle eBooks', 'Romance', 'Kindle eBooks', 'Humor & Entertainment', 'Kindle eBooks', 'Literature & Fiction', 'Kindle eBooks', 'Science Fiction & Fantasy', 'Kindle eBooks', 'Literature & Fiction', 'Kindle eBooks', 'Religion & Spirituality', 'Kindle eBooks', 'Humor & Entertainment', 'Kindle eBooks', 'Romance', 'Kindle eBooks', 'Science Fiction & Fantasy', 'Kindle eBooks', 'Science Fiction & Fantasy', 'Kindle eBooks', 'Literature & Fiction', 'Kindle eBooks', 'Literature & Fiction', 'Kindle eBooks', 'Literature & Fiction', 'Kindle eBooks', 'Mystery, Thriller & Suspense', 'Kindle eBooks', 'Mystery, Thriller & Suspense', 'Kindle eBooks', 'Mystery, Thriller & Suspense', 'Kindle eBooks', 'Literature & Fiction', 'Kindle eBooks', 'Literature & Fiction', 'Kindle eBooks', 'Literature & Fiction', 'Kindle eBooks', 'Teen & Young Adult', 'Kindle eBooks', 'Romance', 'Kindle eBooks', 'Romance', 'Kindle eBooks', 'Literature & Fiction', 'Kindle eBooks', 'Mystery, Thriller & Suspense', 'Kindle eBooks', 'Mystery, Thriller & Suspense', 'Kindle eBooks', 'Crafts, Hobbies & Home', 'Kindle eBooks', \"Children's eBooks\", 'Kindle eBooks', 'Literature & Fiction', 'Kindle eBooks', 'Romance', 'Kindle eBooks', 'Romance', 'Kindle eBooks', 'Science Fiction & Fantasy', 'Kindle eBooks', 'Teen & Young Adult', 'Kindle eBooks', 'Science Fiction & Fantasy', 'Kindle eBooks', 'Religion & Spirituality', 'Kindle eBooks', 'Business & Money', 'Kindle eBooks', 'Literature & Fiction', 'Kindle eBooks', 'Romance', 'Kindle eBooks', 'Romance', 'Kindle eBooks', 'Literature & Fiction', 'Kindle eBooks', 'Religion & Spirituality', 'Kindle eBooks', 'Mystery, Thriller & Suspense', 'Kindle eBooks', 'Literature & Fiction', 'Kindle eBooks', 'Mystery, Thriller & Suspense', 'Kindle eBooks', 'Health, Fitness & Dieting', 'Kindle eBooks', 'Literature & Fiction', 'Kindle eBooks', 'Literature & Fiction', 'Kindle eBooks', 'Romance', 'Kindle eBooks', 'Religion & Spirituality', 'Kindle eBooks', 'Literature & Fiction', 'Kindle eBooks', 'Romance', 'Kindle eBooks', 'Literature & Fiction', 'Kindle eBooks', 'Reference', 'Kindle eBooks', 'Literature & Fiction', 'Kindle eBooks', 'Literature & Fiction', 'Kindle eBooks', 'Literature & Fiction', 'Kindle eBooks', 'Literature & Fiction', 'Kindle eBooks', 'Humor & Entertainment', 'Kindle eBooks', 'Literature & Fiction', 'Kindle eBooks', 'Literature & Fiction', 'Kindle eBooks', 'Literature & Fiction', 'Kindle eBooks', 'Literature & Fiction', 'Kindle eBooks', 'Romance', 'Kindle eBooks', 'Literature & Fiction', 'Kindle eBooks', 'Romance', 'Kindle eBooks', 'Literature & Fiction', 'Kindle eBooks', 'Literature & Fiction', 'Kindle eBooks', 'Literature & Fiction', 'Kindle eBooks', 'Romance', 'Kindle eBooks', 'Mystery, Thriller & Suspense', 'Kindle eBooks', 'Religion & Spirituality', 'Kindle eBooks', 'Literature & Fiction', 'Kindle eBooks', 'Literature & Fiction', 'Kindle eBooks', 'Mystery, Thriller & Suspense', 'Kindle eBooks', 'Romance', 'Kindle eBooks', 'Science Fiction & Fantasy', 'Kindle eBooks', 'Teen & Young Adult', 'Kindle eBooks', 'Teen & Young Adult', 'Kindle eBooks', 'Science Fiction & Fantasy', 'Kindle eBooks', 'Science Fiction & Fantasy', 'Kindle eBooks', 'Religion & Spirituality', 'Kindle eBooks', 'Literature & Fiction', 'Kindle eBooks', 'Business & Money', 'Kindle eBooks', 'Mystery, Thriller & Suspense', 'Kindle eBooks', 'Mystery, Thriller & Suspense', 'Kindle eBooks', 'Teen & Young Adult', 'Kindle eBooks', 'Teen & Young Adult', 'Kindle eBooks', 'Literature & Fiction', 'Kindle eBooks', 'Religion & Spirituality', 'Kindle eBooks', 'Teen & Young Adult', 'Kindle eBooks', 'Science Fiction & Fantasy', 'Kindle eBooks', 'Science Fiction & Fantasy', 'Kindle eBooks', 'Literature & Fiction', 'Kindle eBooks', 'Romance', 'Kindle eBooks', 'Romance', 'Kindle eBooks', 'Health, Fitness & Dieting', 'Kindle eBooks', 'Science Fiction & Fantasy', 'Kindle eBooks', 'Romance', 'Kindle eBooks', 'Literature & Fiction', 'Kindle eBooks', 'Literature & Fiction', 'Kindle eBooks', 'Romance', 'Kindle eBooks', 'Literature & Fiction', 'Kindle eBooks', 'Literature & Fiction', 'Kindle eBooks', 'Literature & Fiction', 'Kindle eBooks', 'Teen & Young Adult', 'Kindle eBooks', 'Science Fiction & Fantasy', 'Kindle eBooks', 'Literature & Fiction', 'Kindle eBooks', 'Literature & Fiction', 'Kindle eBooks', \"Children's eBooks\", 'Kindle eBooks', 'Literature & Fiction', 'Kindle eBooks', 'Romance', 'Kindle eBooks', 'Science Fiction & Fantasy', 'Kindle eBooks', 'Literature & Fiction', 'Kindle eBooks', 'Literature & Fiction', 'Kindle eBooks', 'Literature & Fiction', 'Kindle eBooks', 'Literature & Fiction', 'Kindle eBooks', 'Computers & Technology', 'Kindle eBooks', 'Romance', 'Kindle eBooks', 'Literature & Fiction', 'Kindle eBooks', 'Romance', 'Kindle eBooks', 'Literature & Fiction', 'Kindle eBooks', 'Mystery, Thriller & Suspense', 'Kindle eBooks', 'Mystery, Thriller & Suspense', 'Kindle eBooks', 'Romance', 'Kindle eBooks', 'Romance', 'Kindle eBooks', 'Mystery, Thriller & Suspense', 'Kindle eBooks', 'Religion & Spirituality', 'Kindle eBooks', 'Romance', 'Kindle eBooks', 'Mystery, Thriller & Suspense', 'Kindle eBooks', 'Literature & Fiction', 'Kindle eBooks', \"Children's eBooks\", 'Kindle eBooks', 'Romance', 'Kindle eBooks', 'Literature & Fiction', 'Kindle eBooks', 'Literature & Fiction', 'Kindle eBooks', 'Religion & Spirituality', 'Kindle eBooks', 'Romance', 'Kindle eBooks', 'Literature & Fiction', 'Kindle eBooks', 'Teen & Young Adult', 'Kindle eBooks', 'Mystery, Thriller & Suspense', 'Kindle eBooks', 'Literature & Fiction', 'Kindle eBooks', 'Literature & Fiction', 'Kindle eBooks', 'Literature & Fiction', 'Kindle eBooks', 'Romance', 'Kindle eBooks', 'Teen & Young Adult', 'Kindle eBooks', 'Science Fiction & Fantasy', 'Kindle eBooks', \"Children's eBooks\", 'Kindle eBooks', 'Literature & Fiction', 'Kindle eBooks', 'Literature & Fiction', 'Kindle eBooks', 'Science Fiction & Fantasy', 'Kindle eBooks', 'Literature & Fiction', 'Kindle eBooks', 'Literature & Fiction', 'Kindle eBooks', 'Teen & Young Adult', 'Kindle eBooks', 'Romance', 'Kindle eBooks', 'Romance', 'Kindle eBooks', 'Literature & Fiction', 'Kindle eBooks', \"Children's eBooks\", 'Kindle eBooks', 'Literature & Fiction', 'Kindle eBooks', 'Romance', 'Kindle eBooks', 'Business & Money', 'Kindle eBooks', 'Literature & Fiction', 'Kindle eBooks', 'Business & Money', 'Kindle eBooks', 'Literature & Fiction', 'Kindle eBooks', 'Romance', 'Kindle eBooks', 'Religion & Spirituality', 'Kindle eBooks', 'Mystery, Thriller & Suspense', 'Kindle eBooks', 'Literature & Fiction', 'Kindle eBooks', 'Literature & Fiction', 'Kindle eBooks', 'Romance', 'Kindle eBooks', 'Literature & Fiction', 'Kindle eBooks', 'Literature & Fiction', 'Kindle eBooks', 'Romance', 'Kindle eBooks', 'Literature & Fiction', 'Kindle eBooks', 'Science Fiction & Fantasy', 'Kindle eBooks', 'Literature & Fiction', 'Kindle eBooks', 'Romance', 'Kindle eBooks', 'Literature & Fiction', 'Kindle eBooks', 'Literature & Fiction', 'Kindle eBooks', 'Romance', 'Kindle eBooks', 'Literature & Fiction', 'Kindle eBooks', 'Religion & Spirituality', 'Kindle eBooks', 'Romance', 'Kindle eBooks', 'Literature & Fiction', 'Kindle eBooks', 'Romance', 'Kindle eBooks', 'Literature & Fiction', 'Kindle eBooks', 'Literature & Fiction', 'Kindle eBooks', 'Romance', 'Kindle eBooks', 'Mystery, Thriller & Suspense', 'Kindle eBooks', 'Romance', 'Kindle eBooks', 'Romance', 'Kindle eBooks', 'Travel', 'Kindle eBooks', 'Religion & Spirituality', 'Kindle eBooks', 'Mystery, Thriller & Suspense', 'Kindle eBooks', 'Religion & Spirituality', 'Kindle eBooks', 'Literature & Fiction', 'Kindle eBooks', 'Literature & Fiction', 'Kindle eBooks', 'Literature & Fiction', 'Kindle eBooks', 'Teen & Young Adult', 'Kindle eBooks', 'Romance', 'Kindle eBooks', 'Self-Help', 'Kindle eBooks', 'Science Fiction & Fantasy', 'Kindle eBooks', 'Literature & Fiction', 'Kindle eBooks', 'Religion & Spirituality', 'Kindle eBooks', 'Literature & Fiction', 'Kindle eBooks', 'Romance', 'Kindle eBooks', 'Mystery, Thriller & Suspense', 'Kindle eBooks', 'Romance', 'Kindle eBooks', 'Mystery, Thriller & Suspense', 'Kindle eBooks', 'Literature & Fiction', 'Kindle eBooks', 'Literature & Fiction', 'Kindle eBooks', 'Teen & Young Adult', 'Kindle eBooks', 'Religion & Spirituality', 'Kindle eBooks', 'Literature & Fiction', 'Kindle eBooks', 'Mystery, Thriller & Suspense', 'Kindle eBooks', 'Mystery, Thriller & Suspense', 'Kindle eBooks', 'Mystery, Thriller & Suspense', 'Kindle eBooks', 'Romance', 'Kindle eBooks', 'Romance', 'Kindle eBooks', 'Science Fiction & Fantasy', 'Kindle eBooks', 'Mystery, Thriller & Suspense', 'Kindle eBooks', 'Teen & Young Adult', 'Kindle eBooks', 'Romance', 'Kindle eBooks', 'Literature & Fiction', 'Kindle eBooks', 'Travel', 'Kindle eBooks', 'Literature & Fiction', 'Kindle eBooks', 'Literature & Fiction', 'Kindle eBooks', 'Romance', 'Kindle eBooks', 'Romance', 'Kindle eBooks', 'Mystery, Thriller & Suspense', 'Kindle eBooks', 'Teen & Young Adult', 'Kindle eBooks', 'Literature & Fiction', 'Kindle eBooks', 'Romance', 'Kindle eBooks', 'Romance', 'Kindle eBooks', 'Literature & Fiction', 'Kindle eBooks', 'Romance', 'Kindle eBooks', 'Literature & Fiction', 'Kindle eBooks', 'Romance', 'Kindle eBooks', 'Literature & Fiction', 'Kindle eBooks', 'Teen & Young Adult', 'Kindle eBooks', 'Health, Fitness & Dieting', 'Kindle eBooks', 'Romance', 'Kindle eBooks', 'Teen & Young Adult', 'Kindle eBooks', 'Literature & Fiction', 'Kindle eBooks', 'Romance', 'Kindle eBooks', \"Children's eBooks\", 'Kindle eBooks', 'Romance', 'Kindle eBooks', 'Teen & Young Adult', 'Kindle eBooks', 'Literature & Fiction', 'Kindle eBooks', 'Science Fiction & Fantasy', 'Kindle eBooks', 'Literature & Fiction', 'Kindle eBooks', 'Literature & Fiction', 'Kindle eBooks', 'Literature & Fiction', 'Kindle eBooks', 'Literature & Fiction', 'Kindle eBooks', 'Literature & Fiction', 'Kindle eBooks', 'Literature & Fiction', 'Kindle eBooks', 'Teen & Young Adult', 'Kindle eBooks', 'Mystery, Thriller & Suspense', 'Kindle eBooks', 'Literature & Fiction', 'Kindle eBooks', 'Romance', 'Kindle eBooks', 'Business & Money', 'Kindle eBooks', 'Romance', 'Kindle eBooks', 'Parenting & Relationships', 'Kindle eBooks', 'Romance', 'Kindle eBooks', 'Literature & Fiction', 'Kindle eBooks', 'Religion & Spirituality', 'Kindle eBooks', 'Literature & Fiction', 'Kindle eBooks', 'Literature & Fiction', 'Kindle eBooks', 'Romance', 'Kindle eBooks', 'Romance', 'Kindle eBooks', 'Science Fiction & Fantasy', 'Kindle eBooks', 'Literature & Fiction', 'Kindle eBooks', 'Literature & Fiction', 'Kindle eBooks', 'Romance', 'Kindle eBooks', 'Romance', 'Kindle eBooks', 'Literature & Fiction', 'Kindle eBooks', 'Literature & Fiction', 'Kindle eBooks', 'Arts & Photography', 'Kindle eBooks', 'Literature & Fiction', 'Kindle eBooks', 'Biographies & Memoirs', 'Kindle eBooks', 'Literature & Fiction', 'Kindle eBooks', 'Literature & Fiction', 'Kindle eBooks', 'Romance', 'Kindle eBooks', 'Literature & Fiction', 'Kindle eBooks', 'Mystery, Thriller & Suspense', 'Kindle eBooks', 'Literature & Fiction', 'Kindle eBooks', \"Children's eBooks\", 'Kindle eBooks', 'Literature & Fiction', 'Kindle eBooks', 'Romance', 'Kindle eBooks', 'Mystery, Thriller & Suspense', 'Kindle eBooks', 'Literature & Fiction', 'Kindle eBooks', 'Literature & Fiction', 'Kindle eBooks', 'Literature & Fiction', 'Kindle eBooks', 'Mystery, Thriller & Suspense', 'Kindle eBooks', 'Literature & Fiction', 'Kindle eBooks', 'Literature & Fiction', 'Kindle eBooks', 'Romance', 'Kindle eBooks', 'Mystery, Thriller & Suspense', 'Kindle eBooks', 'Teen & Young Adult', 'Kindle eBooks', 'Literature & Fiction', 'Kindle eBooks', 'Literature & Fiction', 'Kindle eBooks', 'Literature & Fiction', 'Kindle eBooks', 'Literature & Fiction', 'Kindle eBooks', 'Literature & Fiction', 'Kindle eBooks', 'Teen & Young Adult', 'Kindle eBooks', 'Mystery, Thriller & Suspense', 'Kindle eBooks', 'Teen & Young Adult', 'Kindle eBooks', 'Literature & Fiction', 'Kindle eBooks', 'Science Fiction & Fantasy', 'Kindle eBooks', 'Romance', 'Kindle eBooks', 'Romance', 'Kindle eBooks', 'Mystery, Thriller & Suspense', 'Kindle eBooks', 'Teen & Young Adult', 'Kindle eBooks', 'Science Fiction & Fantasy', 'Kindle eBooks', 'Literature & Fiction', 'Kindle eBooks', 'Romance', 'Kindle eBooks', 'Romance', 'Kindle eBooks', 'Romance', 'Kindle eBooks', 'Literature & Fiction', 'Kindle eBooks', 'Literature & Fiction', 'Kindle eBooks', 'Literature & Fiction', 'Kindle eBooks', 'Literature & Fiction', 'Kindle eBooks', 'Religion & Spirituality', 'Kindle eBooks', 'Literature & Fiction', 'Kindle eBooks', 'Teen & Young Adult', 'Kindle eBooks', \"Children's eBooks\", 'Kindle eBooks', 'Literature & Fiction', 'Kindle eBooks', 'Teen & Young Adult', 'Kindle eBooks', 'Education & Teaching', 'Kindle eBooks', 'Reference', 'Kindle eBooks', 'Reference', 'Kindle eBooks', 'Science Fiction & Fantasy', 'Kindle eBooks', 'Science Fiction & Fantasy', 'Kindle eBooks', 'Religion & Spirituality', 'Kindle eBooks', 'Literature & Fiction', 'Kindle eBooks', 'Teen & Young Adult', 'Kindle eBooks', 'History', 'Kindle eBooks', 'Religion & Spirituality', 'Kindle eBooks', 'Literature & Fiction', 'Kindle eBooks', 'Literature & Fiction', 'Kindle eBooks', 'Literature & Fiction', 'Kindle eBooks', 'Romance', 'Kindle eBooks', 'Romance', 'Kindle eBooks', 'Mystery, Thriller & Suspense', 'Kindle eBooks', 'Literature & Fiction', 'Kindle eBooks', 'Literature & Fiction', 'Kindle eBooks', 'Mystery, Thriller & Suspense', 'Kindle eBooks', 'Literature & Fiction', 'Kindle eBooks', 'Religion & Spirituality', 'Kindle eBooks', 'Literature & Fiction', 'Kindle eBooks', 'Science Fiction & Fantasy', 'Kindle eBooks', 'Mystery, Thriller & Suspense', 'Kindle eBooks', 'Science Fiction & Fantasy', 'Kindle eBooks', 'Romance', 'Kindle eBooks', 'Literature & Fiction', 'Kindle eBooks', 'Literature & Fiction', 'Kindle eBooks', 'Science Fiction & Fantasy', 'Kindle eBooks', 'Romance', 'Kindle eBooks', 'Romance', 'Kindle eBooks', 'Kindle eBooks', 'Mystery, Thriller & Suspense', 'Kindle eBooks', 'Literature & Fiction', 'Kindle eBooks', 'Literature & Fiction', 'Kindle eBooks', 'Literature & Fiction', 'Kindle eBooks', 'Science Fiction & Fantasy', 'Kindle eBooks', 'Literature & Fiction', 'Kindle eBooks', 'Business & Money', 'Kindle eBooks', 'Mystery, Thriller & Suspense', 'Kindle eBooks', 'Biographies & Memoirs', 'Kindle eBooks', 'Literature & Fiction', 'Kindle eBooks', 'Business & Money', 'Kindle eBooks', 'Literature & Fiction', 'Kindle eBooks', 'Mystery, Thriller & Suspense', 'Kindle eBooks', 'Literature & Fiction', 'Kindle eBooks', 'Literature & Fiction', 'Kindle eBooks', 'Literature & Fiction', 'Kindle eBooks', 'Literature & Fiction', 'Kindle eBooks', 'Literature & Fiction', 'Kindle eBooks', 'Literature & Fiction', 'Kindle eBooks', 'Religion & Spirituality', 'Kindle eBooks', 'Business & Money', 'Kindle eBooks', 'Literature & Fiction', 'Kindle eBooks', 'Science Fiction & Fantasy', 'Kindle eBooks', \"Children's eBooks\", 'Kindle eBooks', 'Literature & Fiction', 'Kindle eBooks', 'Romance', 'Kindle eBooks', 'Teen & Young Adult', 'Kindle eBooks', \"Children's eBooks\", 'Kindle eBooks', 'Literature & Fiction', 'Kindle eBooks', 'Literature & Fiction', 'Kindle eBooks', 'Religion & Spirituality', 'Kindle eBooks', 'Romance', 'Kindle eBooks', 'Romance', 'Kindle eBooks', 'Science Fiction & Fantasy', 'Kindle eBooks', 'Mystery, Thriller & Suspense', 'Kindle eBooks', 'Science & Math', 'Kindle eBooks', 'Romance', 'Kindle eBooks', 'Literature & Fiction', 'Kindle eBooks', 'Teen & Young Adult', 'Kindle eBooks', \"Children's eBooks\", 'Kindle eBooks', 'Romance', 'Kindle eBooks', 'Literature & Fiction', 'Kindle eBooks', 'Literature & Fiction', 'Kindle eBooks', 'Literature & Fiction', 'Kindle eBooks', 'Science Fiction & Fantasy', 'Kindle eBooks', 'Mystery, Thriller & Suspense', 'Kindle eBooks', 'Teen & Young Adult', 'Kindle eBooks', 'Teen & Young Adult', 'Kindle eBooks', 'Parenting & Relationships', 'Kindle eBooks', 'Literature & Fiction', 'Kindle eBooks', 'Literature & Fiction', 'Kindle eBooks', 'Health, Fitness & Dieting', 'Kindle eBooks', 'Literature & Fiction', 'Kindle eBooks', 'Romance', 'Kindle eBooks', 'Literature & Fiction', 'Kindle eBooks', 'Science Fiction & Fantasy', 'Kindle eBooks', 'Humor & Entertainment', 'Kindle eBooks', 'Literature & Fiction', 'Kindle eBooks', 'Literature & Fiction', 'Kindle eBooks', 'Science Fiction & Fantasy', 'Kindle eBooks', 'Romance', 'Kindle eBooks', 'Literature & Fiction', 'Kindle eBooks', 'Literature & Fiction', 'Kindle eBooks', 'Literature & Fiction', 'Kindle eBooks', 'Science Fiction & Fantasy', 'Kindle eBooks', 'Literature & Fiction', 'Kindle eBooks', 'History', 'Kindle eBooks', 'Literature & Fiction', 'Kindle eBooks', 'Health, Fitness & Dieting', 'Kindle eBooks', 'Religion & Spirituality', 'Kindle eBooks', 'Self-Help', 'Kindle eBooks', 'Mystery, Thriller & Suspense', 'Kindle eBooks', 'Romance', 'Kindle eBooks', 'Mystery, Thriller & Suspense', 'Kindle eBooks', 'Mystery, Thriller & Suspense', 'Kindle eBooks', 'Literature & Fiction', 'Kindle eBooks', 'Literature & Fiction', 'Kindle eBooks', 'Romance', 'Kindle eBooks', 'Literature & Fiction', 'Kindle eBooks', 'Romance', 'Kindle eBooks', \"Children's eBooks\", 'Kindle eBooks', 'Computers & Technology', 'Kindle eBooks', 'Religion & Spirituality', 'Kindle eBooks', 'Literature & Fiction', 'Kindle eBooks', 'Literature & Fiction', 'Kindle eBooks', 'Religion & Spirituality', 'Kindle eBooks', 'Science Fiction & Fantasy', 'Kindle eBooks', 'Romance', 'Kindle eBooks', 'Business & Money', 'Kindle eBooks', 'Science Fiction & Fantasy', 'Kindle eBooks', 'Politics & Social Sciences', 'Kindle eBooks', 'Romance', 'Kindle eBooks', 'Teen & Young Adult', 'Kindle eBooks', 'Literature & Fiction', 'Kindle eBooks', 'Religion & Spirituality', 'Kindle eBooks', 'Literature & Fiction', 'Kindle eBooks', 'Health, Fitness & Dieting', 'Kindle eBooks', 'Romance', 'Kindle eBooks', 'Romance', 'Kindle eBooks', 'Sports & Outdoors', 'Kindle eBooks', 'Romance', 'Kindle eBooks', 'Biographies & Memoirs', 'Kindle eBooks', 'Engineering & Transportation', 'Kindle eBooks', 'Literature & Fiction', 'Kindle eBooks', 'Literature & Fiction', 'Kindle eBooks', 'Romance', 'Kindle eBooks', 'Science Fiction & Fantasy', 'Kindle eBooks', 'Mystery, Thriller & Suspense', 'Kindle eBooks', 'Literature & Fiction', 'Kindle eBooks', 'Literature & Fiction', 'Kindle eBooks', 'Romance', 'Kindle eBooks', 'Romance', 'Kindle eBooks', 'Romance', 'Kindle eBooks', 'Romance', 'Kindle eBooks', 'Romance', 'Kindle eBooks', 'Religion & Spirituality', 'Kindle eBooks', 'Romance', 'Kindle eBooks', 'Science Fiction & Fantasy', 'Kindle eBooks', 'Mystery, Thriller & Suspense', 'Kindle eBooks', 'Literature & Fiction', 'Kindle eBooks', 'Literature & Fiction', 'Kindle eBooks', 'Romance', 'Kindle eBooks', 'Literature & Fiction', 'Kindle eBooks', 'Science Fiction & Fantasy', 'Kindle eBooks', 'Religion & Spirituality', 'Kindle eBooks', 'Science Fiction & Fantasy', 'Kindle eBooks', 'Mystery, Thriller & Suspense', 'Kindle eBooks', 'Cookbooks, Food & Wine', 'Kindle eBooks', 'Romance', 'Kindle eBooks', 'Mystery, Thriller & Suspense', 'Kindle eBooks', 'Religion & Spirituality', 'Kindle eBooks', 'Literature & Fiction', 'Kindle eBooks', 'Literature & Fiction', 'Kindle eBooks', 'Romance', 'Kindle eBooks', 'Literature & Fiction', 'Kindle eBooks', 'Literature & Fiction', 'Kindle eBooks', 'Literature & Fiction', 'Kindle eBooks', 'Romance', 'Kindle eBooks', 'Science Fiction & Fantasy', 'Kindle eBooks', 'Mystery, Thriller & Suspense', 'Kindle eBooks', 'Computers & Technology', 'Kindle eBooks', 'Teen & Young Adult', 'Kindle eBooks', 'Business & Money', 'Kindle eBooks', 'Romance', 'Kindle eBooks', 'Science Fiction & Fantasy', 'Kindle eBooks', 'Literature & Fiction', 'Kindle eBooks', 'Literature & Fiction', 'Kindle eBooks', 'Literature & Fiction', 'Kindle eBooks', 'Teen & Young Adult', 'Kindle eBooks', 'Literature & Fiction', 'Kindle eBooks', 'Literature & Fiction', 'Kindle eBooks', 'Mystery, Thriller & Suspense', 'Kindle eBooks', \"Children's eBooks\", 'Kindle eBooks', 'Romance', 'Kindle eBooks', 'Literature & Fiction', 'Kindle eBooks', 'Romance', 'Kindle eBooks', 'Literature & Fiction', 'Kindle eBooks', 'Health, Fitness & Dieting', 'Kindle eBooks', 'Teen & Young Adult', 'Kindle eBooks', 'Teen & Young Adult', 'Kindle eBooks', 'Business & Money', 'Kindle eBooks', 'Teen & Young Adult', 'Kindle eBooks', 'Mystery, Thriller & Suspense', 'Kindle eBooks', 'Romance', 'Kindle eBooks', 'Literature & Fiction', 'Kindle eBooks', 'Romance', 'Kindle eBooks', 'Mystery, Thriller & Suspense', 'Kindle eBooks', 'Literature & Fiction', 'Kindle eBooks', 'Romance', 'Kindle eBooks', \"Children's eBooks\", 'Kindle eBooks', 'History', 'Kindle eBooks', 'Literature & Fiction', 'Kindle eBooks', 'Literature & Fiction', 'Kindle eBooks', 'Romance', 'Kindle eBooks', 'Romance', 'Kindle eBooks', 'Literature & Fiction', 'Kindle eBooks', 'Mystery, Thriller & Suspense', 'Kindle eBooks', 'Literature & Fiction', 'Kindle eBooks', 'Romance', 'Kindle eBooks', 'Science Fiction & Fantasy', 'Kindle eBooks', 'Science Fiction & Fantasy', 'Kindle eBooks', 'Literature & Fiction', 'Kindle eBooks', \"Children's eBooks\", 'Kindle eBooks', \"Children's eBooks\", 'Kindle eBooks', 'Romance', 'Kindle eBooks', 'Mystery, Thriller & Suspense', 'Kindle eBooks', 'Literature & Fiction', 'Kindle eBooks', 'Teen & Young Adult', 'Kindle eBooks', 'Mystery, Thriller & Suspense', 'Kindle eBooks', 'Cookbooks, Food & Wine', 'Kindle eBooks', 'Literature & Fiction', 'Kindle eBooks', 'Romance', 'Kindle eBooks', 'Literature & Fiction', 'Kindle eBooks', 'Literature & Fiction', 'Kindle eBooks', 'Science Fiction & Fantasy', 'Kindle eBooks', 'Business & Money', 'Kindle eBooks', 'Literature & Fiction', 'Kindle eBooks', 'Romance', 'Kindle eBooks', 'Religion & Spirituality', 'Kindle eBooks', 'Crafts, Hobbies & Home', 'Kindle eBooks', 'Literature & Fiction', 'Kindle eBooks', 'Literature & Fiction', 'Kindle eBooks', 'Literature & Fiction', 'Kindle eBooks', 'Literature & Fiction', 'Kindle eBooks', 'Literature & Fiction', 'Kindle eBooks', 'Literature & Fiction', 'Kindle eBooks', 'Teen & Young Adult', 'Kindle eBooks', 'Mystery, Thriller & Suspense', 'Kindle eBooks', \"Children's eBooks\", 'Kindle eBooks', 'Religion & Spirituality', 'Kindle eBooks', 'Literature & Fiction', 'Kindle eBooks', 'Literature & Fiction', 'Kindle eBooks', 'Literature & Fiction', 'Kindle eBooks', 'Mystery, Thriller & Suspense', 'Kindle eBooks', 'Teen & Young Adult', 'Kindle eBooks', 'Romance', 'Kindle eBooks', 'Literature & Fiction', 'Kindle eBooks', 'Politics & Social Sciences', 'Kindle eBooks', 'Literature & Fiction', 'Kindle eBooks', 'Science Fiction & Fantasy', 'Kindle eBooks', 'Literature & Fiction', 'Kindle eBooks', 'Romance', 'Kindle eBooks', 'Romance', 'Kindle eBooks', 'Romance', 'Kindle eBooks', 'Literature & Fiction', 'Kindle eBooks', 'Romance', 'Kindle eBooks', 'Mystery, Thriller & Suspense', 'Kindle eBooks', 'Mystery, Thriller & Suspense', 'Kindle eBooks', 'Health, Fitness & Dieting', 'Kindle eBooks', 'Literature & Fiction', 'Kindle eBooks', 'Religion & Spirituality', 'Kindle eBooks', 'Literature & Fiction', 'Kindle eBooks', 'Religion & Spirituality', 'Kindle eBooks', 'Romance', 'Kindle eBooks', 'Romance', 'Kindle eBooks', 'Literature & Fiction', 'Kindle eBooks', 'Romance', 'Kindle eBooks', 'Literature & Fiction', 'Kindle eBooks', 'Mystery, Thriller & Suspense', 'Kindle eBooks', \"Children's eBooks\", 'Kindle eBooks', 'Literature & Fiction', 'Kindle eBooks', 'Literature & Fiction', 'Kindle eBooks', 'Science Fiction & Fantasy', 'Kindle eBooks', 'Teen & Young Adult', 'Kindle eBooks', 'Business & Money', 'Kindle eBooks', \"Children's eBooks\", 'Kindle eBooks', \"Children's eBooks\", 'Kindle eBooks', 'Humor & Entertainment', 'Kindle eBooks', 'Science Fiction & Fantasy', 'Kindle eBooks', 'Literature & Fiction', 'Kindle eBooks', 'Religion & Spirituality', 'Kindle eBooks', 'Romance', 'Kindle eBooks', 'Teen & Young Adult', 'Kindle eBooks', 'Literature & Fiction', 'Kindle eBooks', 'Science Fiction & Fantasy', 'Kindle eBooks', 'Literature & Fiction', 'Kindle eBooks', 'Literature & Fiction', 'Kindle eBooks', 'Literature & Fiction', 'Kindle eBooks', 'Science Fiction & Fantasy', 'Kindle eBooks', 'Religion & Spirituality', 'Kindle eBooks', 'Literature & Fiction', 'Kindle eBooks', 'Literature & Fiction', 'Kindle eBooks', 'Romance', 'Kindle eBooks', 'Literature & Fiction', 'Kindle eBooks', 'Literature & Fiction', 'Kindle eBooks', 'Literature & Fiction', 'Kindle eBooks', 'Teen & Young Adult', 'Kindle eBooks', 'Romance', 'Kindle eBooks', 'Literature & Fiction', 'Kindle eBooks', 'Literature & Fiction', 'Kindle eBooks', 'Literature & Fiction', 'Kindle eBooks', 'Literature & Fiction', 'Kindle eBooks', 'Literature & Fiction', 'Kindle eBooks', 'Romance', 'Kindle eBooks', 'Religion & Spirituality', 'Kindle eBooks', 'Health, Fitness & Dieting', 'Kindle eBooks', 'Literature & Fiction', 'Kindle eBooks', 'Mystery, Thriller & Suspense', 'Kindle eBooks', 'Romance', 'Kindle eBooks', 'Religion & Spirituality', 'Kindle eBooks', 'Literature & Fiction', 'Kindle eBooks', 'Mystery, Thriller & Suspense', 'Kindle eBooks', 'Literature & Fiction', 'Kindle eBooks', 'Literature & Fiction', 'Kindle eBooks', 'Romance', 'Kindle eBooks', 'Mystery, Thriller & Suspense', 'Kindle eBooks', 'Literature & Fiction', 'Kindle eBooks', 'Literature & Fiction', 'Kindle eBooks', 'Literature & Fiction', 'Kindle eBooks', 'Romance', 'Kindle eBooks', 'Science Fiction & Fantasy', 'Kindle eBooks', 'Teen & Young Adult', 'Kindle eBooks', 'Literature & Fiction', 'Kindle eBooks', 'Teen & Young Adult', 'Kindle eBooks', 'Literature & Fiction', 'Kindle eBooks', 'Literature & Fiction', 'Kindle eBooks', 'Literature & Fiction', 'Kindle eBooks', 'Romance', 'Kindle eBooks', 'Arts & Photography', 'Kindle eBooks', 'Literature & Fiction', 'Kindle eBooks', \"Children's eBooks\", 'Kindle eBooks', 'Mystery, Thriller & Suspense', 'Kindle eBooks', 'Crafts, Hobbies & Home', 'Kindle eBooks', 'Science Fiction & Fantasy', 'Kindle eBooks', 'Science Fiction & Fantasy', 'Kindle eBooks', 'Religion & Spirituality', 'Kindle eBooks', 'Romance', 'Kindle eBooks', 'Literature & Fiction', 'Kindle eBooks', 'Science Fiction & Fantasy', 'Kindle eBooks', 'Literature & Fiction', 'Kindle eBooks', 'Romance', 'Kindle eBooks', 'Biographies & Memoirs', 'Kindle eBooks', 'Literature & Fiction', 'Kindle eBooks', 'Cookbooks, Food & Wine', 'Kindle eBooks', 'Literature & Fiction', 'Kindle eBooks', 'Romance', 'Kindle eBooks', 'Literature & Fiction', 'Kindle eBooks', 'Religion & Spirituality', 'Kindle eBooks', \"Children's eBooks\", 'Kindle eBooks', 'Teen & Young Adult', 'Kindle eBooks', 'Romance', 'Kindle eBooks', 'Literature & Fiction', 'Kindle eBooks', 'Cookbooks, Food & Wine', 'Kindle eBooks', \"Children's eBooks\", 'Kindle eBooks', 'Medical eBooks', 'Kindle eBooks', 'Romance', 'Kindle eBooks', 'Literature & Fiction', 'Kindle eBooks', 'Business & Money', 'Kindle eBooks', 'Romance', 'Kindle eBooks', 'Literature & Fiction', 'Kindle eBooks', 'Literature & Fiction', 'Kindle eBooks', 'Romance', 'Kindle eBooks', 'Mystery, Thriller & Suspense', 'Kindle eBooks', 'Romance', 'Kindle eBooks', 'Science Fiction & Fantasy', 'Kindle eBooks', \"Children's eBooks\", 'Kindle eBooks', 'Self-Help', 'Kindle eBooks', 'Mystery, Thriller & Suspense', 'Kindle eBooks', 'Literature & Fiction', 'Kindle eBooks', 'Literature & Fiction', 'Kindle eBooks', 'Religion & Spirituality', 'Kindle eBooks', 'Romance', 'Kindle eBooks', 'Romance', 'Kindle eBooks', 'Science Fiction & Fantasy', 'Kindle eBooks', 'Literature & Fiction', 'Kindle eBooks', 'Romance', 'Kindle eBooks', 'Science Fiction & Fantasy', 'Kindle eBooks', 'Science Fiction & Fantasy', 'Kindle eBooks', 'Literature & Fiction', 'Kindle eBooks', 'Romance', 'Kindle eBooks', 'Literature & Fiction', 'Kindle eBooks', 'Romance', 'Kindle eBooks', 'Romance', 'Kindle eBooks', 'Literature & Fiction', 'Kindle eBooks', 'Literature & Fiction', 'Kindle eBooks', 'Religion & Spirituality', 'Kindle eBooks', 'Teen & Young Adult', 'Kindle eBooks', 'Mystery, Thriller & Suspense', 'Kindle eBooks', 'Literature & Fiction', 'Kindle eBooks', 'Teen & Young Adult', 'Kindle eBooks', 'Literature & Fiction', 'Kindle eBooks', 'Literature & Fiction', 'Kindle eBooks', 'Literature & Fiction', 'Kindle eBooks', 'Literature & Fiction', 'Kindle eBooks', 'Teen & Young Adult', 'Kindle eBooks', 'Literature & Fiction', 'Kindle eBooks', 'History', 'Kindle eBooks', 'Religion & Spirituality', 'Kindle eBooks', 'Mystery, Thriller & Suspense', 'Kindle eBooks', 'Romance', 'Kindle eBooks', 'Romance', 'Kindle eBooks', 'Literature & Fiction', 'Kindle eBooks', 'Literature & Fiction', 'Kindle eBooks', 'Reference', 'Kindle eBooks', 'Literature & Fiction', 'Kindle eBooks', 'Literature & Fiction', 'Kindle eBooks', 'Literature & Fiction', 'Kindle eBooks', 'Literature & Fiction', 'Kindle eBooks', 'Mystery, Thriller & Suspense', 'Kindle eBooks', 'Literature & Fiction', 'Kindle eBooks', 'Literature & Fiction', 'Kindle eBooks', 'Science Fiction & Fantasy', 'Kindle eBooks', 'Literature & Fiction', 'Kindle eBooks', 'Literature & Fiction', 'Kindle eBooks', 'Literature & Fiction', 'Kindle eBooks', 'Literature & Fiction', 'Kindle eBooks', 'Literature & Fiction', 'Kindle eBooks', 'Mystery, Thriller & Suspense', 'Kindle eBooks', 'Literature & Fiction', 'Kindle eBooks', 'Literature & Fiction', 'Kindle eBooks', 'Romance', 'Kindle eBooks', 'Mystery, Thriller & Suspense', 'Kindle eBooks', 'Teen & Young Adult', 'Kindle eBooks', 'Literature & Fiction', 'Kindle eBooks', 'Literature & Fiction', 'Kindle eBooks', 'Religion & Spirituality', 'Kindle eBooks', 'Literature & Fiction', 'Kindle eBooks', 'Teen & Young Adult', 'Kindle eBooks', 'Romance', 'Kindle eBooks', 'Teen & Young Adult', 'Kindle eBooks', 'Health, Fitness & Dieting', 'Kindle eBooks', 'Cookbooks, Food & Wine', 'Kindle eBooks', 'Computers & Technology', 'Kindle eBooks', 'History', 'Kindle eBooks', 'Literature & Fiction', 'Kindle eBooks', 'Romance', 'Kindle eBooks', 'Romance', 'Kindle eBooks', 'Religion & Spirituality', 'Kindle eBooks', 'Mystery, Thriller & Suspense', 'Kindle eBooks', 'Literature & Fiction', 'Kindle eBooks', 'Romance', 'Kindle eBooks', 'Politics & Social Sciences', 'Kindle eBooks', 'Literature & Fiction', 'Kindle eBooks', 'Science Fiction & Fantasy', 'Kindle eBooks', 'Literature & Fiction', 'Kindle eBooks', 'Literature & Fiction', 'Kindle eBooks', 'Literature & Fiction', 'Kindle eBooks', 'Literature & Fiction', 'Kindle eBooks', 'Romance', 'Kindle eBooks', 'Literature & Fiction', 'Kindle eBooks', 'Self-Help', 'Kindle eBooks', 'Science Fiction & Fantasy', 'Kindle eBooks', 'Cookbooks, Food & Wine', 'Kindle eBooks', 'Literature & Fiction', 'Kindle eBooks', 'Mystery, Thriller & Suspense', 'Kindle eBooks', 'Romance', 'Kindle eBooks', 'Romance', 'Kindle eBooks', 'Science Fiction & Fantasy', 'Kindle eBooks', 'Literature & Fiction', 'Kindle eBooks', 'Literature & Fiction', 'Kindle eBooks', 'Literature & Fiction', 'Kindle eBooks', 'Romance', 'Kindle eBooks', 'Mystery, Thriller & Suspense', 'Kindle eBooks', 'Romance', 'Kindle eBooks', 'Mystery, Thriller & Suspense', 'Kindle eBooks', 'Romance', 'Kindle eBooks', 'Literature & Fiction', 'Kindle eBooks', 'Literature & Fiction', 'Kindle eBooks', 'Science Fiction & Fantasy', 'Kindle eBooks', 'Romance', 'Kindle eBooks', 'Romance', 'Kindle eBooks', 'Romance', 'Kindle eBooks', 'Romance', 'Kindle eBooks', 'Romance', 'Kindle eBooks', 'Literature & Fiction', 'Kindle eBooks', 'Romance', 'Kindle eBooks', 'Cookbooks, Food & Wine', 'Kindle eBooks', 'Literature & Fiction', 'Kindle eBooks', 'Literature & Fiction', 'Kindle eBooks', 'Romance', 'Kindle eBooks', 'Literature & Fiction', 'Kindle eBooks', 'Literature & Fiction', 'Kindle eBooks', 'Literature & Fiction', 'Kindle eBooks', 'Literature & Fiction', 'Kindle eBooks', 'Literature & Fiction', 'Kindle eBooks', 'Romance', 'Kindle eBooks', 'Mystery, Thriller & Suspense', 'Kindle eBooks', 'Mystery, Thriller & Suspense', 'Kindle eBooks', 'Romance', 'Kindle eBooks', 'Mystery, Thriller & Suspense', 'Kindle eBooks', 'Literature & Fiction', 'Kindle eBooks', 'Teen & Young Adult', 'Kindle eBooks', 'Literature & Fiction', 'Kindle eBooks', 'Romance', 'Kindle eBooks', 'Cookbooks, Food & Wine', 'Kindle eBooks', 'Politics & Social Sciences', 'Kindle eBooks', 'Literature & Fiction', 'Kindle eBooks', 'Literature & Fiction', 'Kindle eBooks', 'Religion & Spirituality', 'Kindle eBooks', 'Romance', 'Kindle eBooks', 'Cookbooks, Food & Wine', 'Kindle eBooks', 'Romance', 'Kindle eBooks', 'Religion & Spirituality', 'Kindle eBooks', 'Literature & Fiction', 'Kindle eBooks', 'Science Fiction & Fantasy', 'Kindle eBooks', 'Science Fiction & Fantasy', 'Kindle eBooks', 'Romance', 'Kindle eBooks', 'Mystery, Thriller & Suspense', 'Kindle eBooks', 'Romance', 'Kindle eBooks', 'Computers & Technology', 'Kindle eBooks', 'Literature & Fiction', 'Kindle eBooks', 'Religion & Spirituality', 'Kindle eBooks', 'Mystery, Thriller & Suspense', 'Kindle eBooks', 'Literature & Fiction', 'Kindle eBooks', 'Literature & Fiction', 'Kindle eBooks', 'Reference', 'Kindle eBooks', 'Cookbooks, Food & Wine', 'Kindle eBooks', 'History', 'Kindle eBooks', 'Literature & Fiction', 'Kindle eBooks', 'Literature & Fiction', 'Kindle eBooks', 'Literature & Fiction', 'Kindle eBooks', 'Business & Money', 'Kindle eBooks', 'Reference', 'Kindle eBooks', 'Literature & Fiction', 'Kindle eBooks', 'Romance', 'Kindle eBooks', 'Literature & Fiction', 'Kindle eBooks', 'Literature & Fiction', 'Kindle eBooks', 'Literature & Fiction', 'Kindle eBooks', 'Romance', 'Kindle eBooks', 'Sports & Outdoors', 'Kindle eBooks', 'Literature & Fiction', 'Kindle eBooks', 'Literature & Fiction', 'Kindle eBooks', 'Cookbooks, Food & Wine', 'Kindle eBooks', 'Literature & Fiction', 'Kindle eBooks', 'Teen & Young Adult', 'Kindle eBooks', 'Religion & Spirituality', 'Kindle eBooks', 'Teen & Young Adult', 'Kindle eBooks', 'Teen & Young Adult', 'Kindle eBooks', 'Cookbooks, Food & Wine', 'Kindle eBooks', 'Romance', 'Kindle eBooks', 'Literature & Fiction', 'Kindle eBooks', 'Literature & Fiction', 'Kindle eBooks', 'Romance', 'Kindle eBooks', 'Romance', 'Kindle eBooks', 'Science Fiction & Fantasy', 'Kindle eBooks', 'Literature & Fiction', 'Kindle eBooks', 'Literature & Fiction', 'Kindle eBooks', 'Romance', 'Kindle eBooks', 'Romance', 'Kindle eBooks', 'Romance', 'Kindle eBooks', 'Teen & Young Adult', 'Kindle eBooks', 'Science & Math', 'Kindle eBooks', 'Romance', 'Kindle eBooks', 'Science Fiction & Fantasy', 'Kindle eBooks', 'Literature & Fiction', 'Kindle eBooks', 'Literature & Fiction', 'Kindle eBooks', 'Literature & Fiction', 'Kindle eBooks', 'Literature & Fiction', 'Kindle eBooks', 'Literature & Fiction', 'Kindle eBooks', 'Romance', 'Kindle eBooks', \"Children's eBooks\", 'Kindle eBooks', 'Literature & Fiction', 'Kindle eBooks', \"Children's eBooks\", 'Kindle eBooks', 'Literature & Fiction', 'Kindle eBooks', 'Literature & Fiction', 'Kindle eBooks', 'Science Fiction & Fantasy', 'Kindle eBooks', 'Literature & Fiction', 'Kindle eBooks', 'Literature & Fiction', 'Kindle eBooks', 'Literature & Fiction', 'Kindle eBooks', 'Literature & Fiction', 'Kindle eBooks', 'Literature & Fiction', 'Kindle eBooks', 'Science Fiction & Fantasy', 'Kindle eBooks', 'Science Fiction & Fantasy', 'Kindle eBooks', 'Literature & Fiction', 'Kindle eBooks', 'Science Fiction & Fantasy', 'Kindle eBooks', 'Literature & Fiction', 'Kindle eBooks', 'Literature & Fiction', 'Kindle eBooks', 'Literature & Fiction', 'Kindle eBooks', 'Literature & Fiction', 'Kindle eBooks', 'Mystery, Thriller & Suspense', 'Kindle eBooks', 'Sports & Outdoors', 'Kindle eBooks', 'Literature & Fiction', 'Kindle eBooks', 'Romance', 'Kindle eBooks', 'Literature & Fiction', 'Kindle eBooks', 'Romance', 'Kindle eBooks', \"Children's eBooks\", 'Kindle eBooks', 'Computers & Technology', 'Kindle eBooks', 'Computers & Technology', 'Kindle eBooks', 'Romance', 'Kindle eBooks', 'Romance', 'Kindle eBooks', 'Nonfiction', 'Kindle eBooks', 'Literature & Fiction', 'Kindle eBooks', 'Literature & Fiction', 'Kindle eBooks', 'Literature & Fiction', 'Kindle eBooks', 'Literature & Fiction', 'Kindle eBooks', 'Literature & Fiction', 'Kindle eBooks', 'Literature & Fiction', 'Kindle eBooks', 'Romance', 'Kindle eBooks', 'Travel', 'Kindle eBooks', 'Literature & Fiction', 'Kindle eBooks', 'Humor & Entertainment', 'Kindle eBooks', 'Literature & Fiction', 'Kindle eBooks', 'Literature & Fiction', 'Kindle eBooks', 'Mystery, Thriller & Suspense', 'Kindle eBooks', 'Romance', 'Kindle eBooks', 'Literature & Fiction', 'Kindle eBooks', 'Romance', 'Kindle eBooks', 'Literature & Fiction', 'Kindle eBooks', 'Religion & Spirituality', 'Kindle eBooks', 'Romance', 'Kindle eBooks', 'Mystery, Thriller & Suspense', 'Kindle eBooks', 'Computers & Technology', 'Kindle eBooks', 'Romance', 'Kindle eBooks', 'Humor & Entertainment', 'Kindle eBooks', 'Religion & Spirituality', 'Kindle eBooks', 'Health, Fitness & Dieting', 'Kindle eBooks', 'Teen & Young Adult', 'Kindle eBooks', 'Science Fiction & Fantasy', 'Kindle eBooks', 'Romance', 'Kindle eBooks', 'Literature & Fiction', 'Kindle eBooks', 'Romance', 'Kindle eBooks', 'Mystery, Thriller & Suspense', 'Kindle eBooks', 'Literature & Fiction', 'Kindle eBooks', 'Literature & Fiction', 'Kindle eBooks', 'Literature & Fiction', 'Kindle eBooks', 'Science Fiction & Fantasy', 'Kindle eBooks', 'Science Fiction & Fantasy', 'Kindle eBooks', 'Literature & Fiction', 'Kindle eBooks', 'Mystery, Thriller & Suspense', 'Kindle eBooks', 'Science Fiction & Fantasy', 'Kindle eBooks', \"Children's eBooks\", 'Kindle eBooks', 'Mystery, Thriller & Suspense', 'Kindle eBooks', 'Literature & Fiction', 'Kindle eBooks', 'Business & Money', 'Kindle eBooks', 'Literature & Fiction', 'Kindle eBooks', 'Literature & Fiction', 'Kindle eBooks', 'Religion & Spirituality', 'Kindle eBooks', 'Business & Money', 'Kindle eBooks', 'Romance', 'Kindle eBooks', 'Literature & Fiction', 'Kindle eBooks', 'Reference', 'Kindle eBooks', 'Literature & Fiction', 'Kindle eBooks', 'Romance', 'Kindle eBooks', 'Romance', 'Kindle eBooks', 'Science Fiction & Fantasy', 'Kindle eBooks', 'Teen & Young Adult', 'Kindle eBooks', 'Literature & Fiction', 'Kindle eBooks', 'Literature & Fiction', 'Kindle eBooks', 'Romance', 'Kindle eBooks', 'Religion & Spirituality', 'Kindle eBooks', 'Romance', 'Kindle eBooks', 'Literature & Fiction', 'Kindle eBooks', 'Literature & Fiction', 'Kindle eBooks', \"Children's eBooks\", 'Kindle eBooks', 'Literature & Fiction', 'Kindle eBooks', 'Science Fiction & Fantasy', 'Kindle eBooks', \"Children's eBooks\", 'Kindle eBooks', 'Literature & Fiction', 'Kindle eBooks', 'Literature & Fiction', 'Kindle eBooks', 'Romance', 'Kindle eBooks', 'Science Fiction & Fantasy', 'Kindle eBooks', 'Mystery, Thriller & Suspense', 'Kindle eBooks', 'Teen & Young Adult', 'Kindle eBooks', 'Literature & Fiction', 'Kindle eBooks', 'Romance', 'Kindle eBooks', 'Literature & Fiction', 'Kindle eBooks', 'Romance', 'Kindle eBooks', 'Literature & Fiction', 'Kindle eBooks', 'Literature & Fiction', 'Kindle eBooks', 'Literature & Fiction', 'Kindle eBooks', 'Science Fiction & Fantasy', 'Kindle eBooks', 'Science Fiction & Fantasy', 'Kindle eBooks', 'Literature & Fiction', 'Kindle eBooks', 'Literature & Fiction', 'Kindle eBooks', \"Children's eBooks\", 'Kindle eBooks', 'Mystery, Thriller & Suspense', 'Kindle eBooks', 'Humor & Entertainment', 'Kindle eBooks', 'Romance', 'Kindle eBooks', 'Business & Money', 'Kindle eBooks', 'Teen & Young Adult', 'Kindle eBooks', 'Literature & Fiction', 'Kindle eBooks', \"Children's eBooks\", 'Kindle eBooks', 'Romance', 'Kindle eBooks', 'Health, Fitness & Dieting', 'Kindle eBooks', 'Romance', 'Kindle eBooks', 'Mystery, Thriller & Suspense', 'Kindle eBooks', 'Romance', 'Kindle eBooks', 'Literature & Fiction', 'Kindle eBooks', 'Romance', 'Kindle eBooks', 'Romance', 'Kindle eBooks', 'Literature & Fiction', 'Kindle eBooks', 'Literature & Fiction', 'Kindle eBooks', 'Religion & Spirituality', 'Kindle eBooks', 'Literature & Fiction', 'Kindle eBooks', 'Romance', 'Kindle eBooks', 'Teen & Young Adult', 'Kindle eBooks', 'Mystery, Thriller & Suspense', 'Kindle eBooks', 'Literature & Fiction', 'Kindle eBooks', 'Literature & Fiction', 'Kindle eBooks', 'Health, Fitness & Dieting', 'Kindle eBooks', 'Literature & Fiction', 'Kindle eBooks', 'Literature & Fiction', 'Kindle eBooks', 'Romance', 'Kindle eBooks', 'Literature & Fiction', 'Kindle eBooks', 'Literature & Fiction', 'Kindle eBooks', 'Literature & Fiction', 'Kindle eBooks', 'Health, Fitness & Dieting', 'Kindle eBooks', 'Mystery, Thriller & Suspense', 'Kindle eBooks', 'Literature & Fiction', 'Kindle eBooks', 'Mystery, Thriller & Suspense', 'Kindle eBooks', 'Romance', 'Kindle eBooks', 'Computers & Technology', 'Kindle eBooks', 'Literature & Fiction', 'Kindle eBooks', 'Literature & Fiction', 'Kindle eBooks', 'Teen & Young Adult', 'Kindle eBooks', 'Biographies & Memoirs', 'Kindle eBooks', 'Romance', 'Kindle eBooks', 'Literature & Fiction', 'Kindle eBooks', 'Teen & Young Adult', 'Kindle eBooks', 'Romance', 'Kindle eBooks', 'Literature & Fiction', 'Kindle eBooks', 'Literature & Fiction', 'Kindle eBooks', 'Health, Fitness & Dieting', 'Kindle eBooks', 'Literature & Fiction', 'Kindle eBooks', 'Romance', 'Kindle eBooks', 'Romance', 'Kindle eBooks', 'Literature & Fiction', 'Kindle eBooks', 'Religion & Spirituality', 'Kindle eBooks', 'Crafts, Hobbies & Home', 'Kindle eBooks', 'Literature & Fiction', 'Kindle eBooks', 'Mystery, Thriller & Suspense', 'Kindle eBooks', 'Literature & Fiction', 'Kindle eBooks', 'Science Fiction & Fantasy', 'Kindle eBooks', 'Romance', 'Kindle eBooks', 'Romance', 'Kindle eBooks', 'Romance', 'Kindle eBooks', 'Romance', 'Kindle eBooks', 'Romance', 'Kindle eBooks', 'Science Fiction & Fantasy', 'Kindle eBooks', 'Literature & Fiction', 'Kindle eBooks', 'Romance', 'Kindle eBooks', 'Science Fiction & Fantasy', 'Kindle eBooks', 'Business & Money', 'Kindle eBooks', 'Literature & Fiction', 'Kindle eBooks', 'Health, Fitness & Dieting', 'Kindle eBooks', 'Science Fiction & Fantasy', 'Kindle eBooks', 'Literature & Fiction', 'Kindle eBooks', 'Romance', 'Kindle eBooks', 'Teen & Young Adult', 'Kindle eBooks', 'Crafts, Hobbies & Home', 'Kindle eBooks', 'Literature & Fiction', 'Kindle eBooks', 'Literature & Fiction', 'Kindle eBooks', 'Religion & Spirituality', 'Kindle eBooks', 'Literature & Fiction', 'Kindle eBooks', 'Mystery, Thriller & Suspense', 'Kindle eBooks', 'Literature & Fiction', 'Kindle eBooks', 'Cookbooks, Food & Wine', 'Kindle eBooks', 'Romance', 'Kindle eBooks', \"Children's eBooks\", 'Kindle eBooks', 'Literature & Fiction', 'Kindle eBooks', 'Humor & Entertainment', 'Kindle eBooks', 'Romance', 'Kindle eBooks', 'Mystery, Thriller & Suspense', 'Kindle eBooks', 'Literature & Fiction', 'Kindle eBooks', 'Literature & Fiction', 'Kindle eBooks', 'Literature & Fiction', 'Kindle eBooks', 'Literature & Fiction', 'Kindle eBooks', 'Science Fiction & Fantasy', 'Kindle eBooks', 'Literature & Fiction', 'Kindle eBooks', 'Crafts, Hobbies & Home', 'Kindle eBooks', 'Science Fiction & Fantasy', 'Kindle eBooks', 'Science Fiction & Fantasy', 'Kindle eBooks', 'Romance', 'Kindle eBooks', 'Literature &amp; Fiction', 'Kindle eBooks', 'Literature & Fiction', 'Kindle eBooks', 'Literature & Fiction', 'Kindle eBooks', 'Literature & Fiction', 'Kindle eBooks', 'Literature & Fiction', 'Kindle eBooks', \"Children's eBooks\", 'Kindle eBooks', 'Literature & Fiction', 'Kindle eBooks', 'Literature & Fiction', 'Kindle eBooks', 'Literature & Fiction', 'Kindle eBooks', 'Literature & Fiction', 'Kindle eBooks', 'Romance', 'Kindle eBooks', 'Literature & Fiction', 'Kindle eBooks', 'Literature & Fiction', 'Kindle eBooks', 'Mystery, Thriller & Suspense', 'Kindle eBooks', 'Self-Help', 'Kindle eBooks', 'Literature & Fiction', 'Kindle eBooks', 'Literature & Fiction', 'Kindle eBooks', 'Literature & Fiction', 'Kindle eBooks', 'Mystery, Thriller & Suspense', 'Kindle eBooks', 'Romance', 'Kindle eBooks', 'Religion & Spirituality', 'Kindle eBooks', 'Literature & Fiction', 'Kindle eBooks', 'Literature & Fiction', 'Kindle eBooks', 'Health, Fitness & Dieting', 'Kindle eBooks', \"Children's eBooks\", 'Kindle eBooks', 'Science Fiction & Fantasy', 'Kindle eBooks', 'Romance', 'Kindle eBooks', 'Romance', 'Kindle eBooks', 'Romance', 'Kindle eBooks', 'Literature & Fiction', 'Kindle eBooks', 'Mystery, Thriller & Suspense', 'Kindle eBooks', 'Literature & Fiction', 'Kindle eBooks', 'Reference', 'Kindle eBooks', 'Literature & Fiction', 'Kindle eBooks', 'Teen & Young Adult', 'Kindle eBooks', 'Romance', 'Kindle eBooks', 'Romance', 'Kindle eBooks', 'Literature & Fiction', 'Kindle eBooks', 'Teen & Young Adult', 'Kindle eBooks', 'Literature & Fiction', 'Kindle eBooks', 'Reference', 'Kindle eBooks', 'Literature & Fiction', 'Kindle eBooks', 'Romance', 'Kindle eBooks', 'Romance', 'Kindle eBooks', 'Literature & Fiction', 'Kindle eBooks', 'Cookbooks, Food & Wine', 'Kindle eBooks', 'Romance', 'Kindle eBooks', 'Literature & Fiction', 'Kindle eBooks', 'Literature & Fiction', 'Kindle eBooks', 'Literature & Fiction', 'Kindle eBooks', 'Literature & Fiction', 'Kindle eBooks', 'Religion & Spirituality', 'Kindle eBooks', \"Children's eBooks\", 'Kindle eBooks', 'Religion & Spirituality', 'Kindle eBooks', 'Literature & Fiction', 'Kindle eBooks', 'Teen & Young Adult', 'Kindle eBooks', 'Literature & Fiction', 'Kindle eBooks', 'Literature & Fiction', 'Kindle eBooks', 'Mystery, Thriller & Suspense', 'Kindle eBooks', 'Religion & Spirituality', 'Kindle eBooks', 'Literature & Fiction', 'Kindle eBooks', 'Literature & Fiction', 'Kindle eBooks', 'Literature & Fiction', 'Kindle eBooks', 'Literature & Fiction', 'Kindle eBooks', 'Literature & Fiction', 'Kindle eBooks', 'Literature & Fiction', 'Kindle eBooks', 'Literature & Fiction', 'Kindle eBooks', 'Literature & Fiction', 'Kindle eBooks', 'Health, Fitness & Dieting', 'Kindle eBooks', 'Teen & Young Adult', 'Kindle eBooks', 'Teen & Young Adult', 'Kindle eBooks', 'Teen & Young Adult', 'Kindle eBooks', 'Literature & Fiction', 'Kindle eBooks', 'Literature & Fiction', 'Kindle eBooks', 'Romance', 'Kindle eBooks', 'Romance', 'Kindle eBooks', 'Literature & Fiction', 'Kindle eBooks', 'Romance', 'Kindle eBooks', 'Literature & Fiction', 'Kindle eBooks', 'Romance', 'Kindle eBooks', 'Romance', 'Kindle eBooks', 'Literature & Fiction', 'Kindle eBooks', 'Literature & Fiction', 'Kindle eBooks', 'Literature & Fiction', 'Kindle eBooks', 'Science Fiction & Fantasy', 'Kindle eBooks', 'Literature & Fiction', 'Kindle eBooks', 'Literature & Fiction', 'Kindle eBooks', 'Teen & Young Adult', 'Kindle eBooks', 'Literature & Fiction', 'Kindle eBooks', 'Romance', 'Kindle eBooks', 'Science Fiction & Fantasy', 'Kindle eBooks', 'Science Fiction & Fantasy', 'Kindle eBooks', 'Literature & Fiction', 'Kindle eBooks', 'Biographies & Memoirs', 'Kindle eBooks', 'Literature & Fiction', 'Kindle eBooks', 'Literature & Fiction', 'Kindle eBooks', 'Romance', 'Kindle eBooks', 'Science & Math', 'Kindle eBooks', 'Literature & Fiction', 'Kindle eBooks', 'Business & Money', 'Kindle eBooks', 'Literature & Fiction', 'Kindle eBooks', 'Teen & Young Adult', 'Kindle eBooks', 'Romance', 'Kindle eBooks', 'Romance', 'Kindle eBooks', 'Romance', 'Kindle eBooks', 'Literature & Fiction', 'Kindle eBooks', 'Literature & Fiction', 'Kindle eBooks', 'Science Fiction & Fantasy', 'Kindle eBooks', 'Science Fiction & Fantasy', 'Kindle eBooks', 'Literature & Fiction', 'Kindle eBooks', 'Literature & Fiction', 'Kindle eBooks', 'Romance', 'Kindle eBooks', 'Literature & Fiction', 'Kindle eBooks', 'Mystery, Thriller & Suspense', 'Kindle eBooks', 'Literature & Fiction', 'Kindle eBooks', 'Romance', 'Kindle eBooks', 'Romance', 'Kindle eBooks', 'Literature & Fiction', 'Kindle eBooks', 'Literature & Fiction', 'Kindle eBooks', 'Literature & Fiction', 'Kindle eBooks', 'Science Fiction & Fantasy', 'Kindle eBooks', 'Romance', 'Kindle eBooks', 'Religion & Spirituality', 'Kindle eBooks', 'Literature & Fiction', 'Kindle eBooks', 'Literature & Fiction', 'Kindle eBooks', 'Parenting & Relationships', 'Kindle eBooks', 'Literature & Fiction', 'Kindle eBooks', 'Literature & Fiction', 'Kindle eBooks', 'Literature & Fiction', 'Kindle eBooks', 'Mystery, Thriller & Suspense', 'Kindle eBooks', 'Literature & Fiction', 'Kindle eBooks', 'Literature & Fiction', 'Kindle eBooks', 'Romance', 'Kindle eBooks', 'Romance', 'Kindle eBooks', 'Science Fiction & Fantasy', 'Kindle eBooks', 'Religion & Spirituality', 'Kindle eBooks', 'Mystery, Thriller & Suspense', 'Kindle eBooks', \"Children's eBooks\", 'Kindle eBooks', 'Romance', 'Kindle eBooks', 'Literature & Fiction', 'Kindle eBooks', 'Literature & Fiction', 'Kindle eBooks', 'Romance', 'Kindle eBooks', 'Romance', 'Kindle eBooks', 'Religion & Spirituality', 'Kindle eBooks', 'Literature & Fiction', 'Kindle eBooks', 'Cookbooks, Food & Wine', 'Kindle eBooks', 'Literature & Fiction', 'Kindle eBooks', 'Romance', 'Kindle eBooks', 'Mystery, Thriller & Suspense', 'Kindle eBooks', 'Romance', 'Kindle eBooks', 'Science Fiction & Fantasy', 'Kindle eBooks', 'Business & Money', 'Kindle eBooks', 'Biographies & Memoirs', 'Kindle eBooks', 'Science Fiction & Fantasy', 'Kindle eBooks', 'Literature & Fiction', 'Kindle eBooks', 'Romance', 'Kindle eBooks', 'Mystery, Thriller & Suspense', 'Kindle eBooks', 'Romance', 'Kindle eBooks', 'Romance', 'Kindle eBooks', 'Literature & Fiction', 'Kindle eBooks', 'Literature & Fiction', 'Kindle eBooks', 'Romance', 'Kindle eBooks', 'Literature & Fiction', 'Kindle eBooks', 'Biographies & Memoirs', 'Kindle eBooks', 'Romance', 'Kindle eBooks', 'Literature & Fiction', 'Kindle eBooks', 'Science Fiction & Fantasy', 'Kindle eBooks', 'Politics & Social Sciences', 'Kindle eBooks', 'Literature & Fiction', 'Kindle eBooks', 'Teen & Young Adult', 'Kindle eBooks', 'Literature & Fiction', 'Kindle eBooks', 'Literature & Fiction', 'Kindle eBooks', 'Mystery, Thriller & Suspense', 'Kindle eBooks', 'Health, Fitness & Dieting', 'Kindle eBooks', 'Literature & Fiction', 'Kindle eBooks', 'Literature & Fiction', 'Kindle eBooks', 'Literature & Fiction', 'Kindle eBooks', 'Literature & Fiction', 'Kindle eBooks', 'Romance', 'Kindle eBooks', 'Literature & Fiction', 'Kindle eBooks', 'Literature & Fiction', 'Kindle eBooks', 'Literature & Fiction', 'Kindle eBooks', 'Business & Money', 'Kindle eBooks', 'Mystery, Thriller & Suspense', 'Kindle eBooks', 'Literature & Fiction', 'Kindle eBooks', 'Literature & Fiction', 'Kindle eBooks', 'Literature & Fiction', 'Kindle eBooks', 'Health, Fitness & Dieting', 'Kindle eBooks', 'Literature & Fiction', 'Kindle eBooks', 'Cookbooks, Food & Wine', 'Kindle eBooks', 'Romance', 'Kindle eBooks', 'Romance', 'Kindle eBooks', 'Mystery, Thriller & Suspense', 'Kindle eBooks', 'Science Fiction & Fantasy', 'Kindle eBooks', 'Religion & Spirituality', 'Kindle eBooks', 'Romance', 'Kindle eBooks', 'Literature & Fiction', 'Kindle eBooks', 'Literature & Fiction', 'Kindle eBooks', 'Romance', 'Kindle eBooks', 'Science Fiction & Fantasy', 'Kindle eBooks', 'Literature & Fiction', 'Kindle eBooks', 'Religion & Spirituality', 'Kindle eBooks', 'Literature & Fiction', 'Kindle eBooks', 'Literature & Fiction', 'Kindle eBooks', 'Business & Money', 'Kindle eBooks', 'Literature & Fiction', 'Kindle eBooks', 'Romance', 'Kindle eBooks', 'Literature & Fiction', 'Kindle eBooks', 'Literature & Fiction', 'Kindle eBooks', 'Self-Help', 'Kindle eBooks', 'Science Fiction & Fantasy', 'Kindle eBooks', 'Romance', 'Kindle eBooks', 'Literature & Fiction', 'Kindle eBooks', 'Mystery, Thriller & Suspense', 'Kindle eBooks', 'Literature & Fiction', 'Kindle eBooks', 'Romance', 'Kindle eBooks', 'Literature & Fiction', 'Kindle eBooks', 'Romance', 'Kindle eBooks', 'Romance', 'Kindle eBooks', 'Literature & Fiction', 'Kindle eBooks', 'Literature & Fiction', 'Kindle eBooks', 'Literature & Fiction', 'Kindle eBooks', 'Teen & Young Adult', 'Kindle eBooks', 'Literature & Fiction', 'Kindle eBooks', 'Teen & Young Adult', 'Kindle eBooks', 'Literature & Fiction', 'Kindle eBooks', 'Literature & Fiction', 'Kindle eBooks', 'Literature & Fiction', 'Kindle eBooks', 'Romance', 'Kindle eBooks', 'Literature & Fiction', 'Kindle eBooks', 'Literature & Fiction', 'Kindle eBooks', 'Literature & Fiction', 'Kindle eBooks', 'Literature & Fiction', 'Kindle eBooks', 'Literature & Fiction', 'Kindle eBooks', 'Literature & Fiction', 'Kindle eBooks', 'Religion & Spirituality', 'Kindle eBooks', 'Literature & Fiction', 'Kindle eBooks', 'Literature & Fiction', 'Kindle eBooks', 'Romance', 'Kindle eBooks', 'Literature & Fiction', 'Kindle eBooks', 'Romance', 'Kindle eBooks', 'Literature & Fiction', 'Kindle eBooks', 'Literature & Fiction', 'Kindle eBooks', 'Romance', 'Kindle eBooks', 'Romance', 'Kindle eBooks', 'Crafts, Hobbies & Home', 'Kindle eBooks', 'Romance', 'Kindle eBooks', 'Romance', 'Kindle eBooks', 'Romance', 'Kindle eBooks', 'Literature & Fiction', 'Kindle eBooks', 'Literature & Fiction', 'Kindle eBooks', 'Literature & Fiction', 'Kindle eBooks', 'Literature & Fiction', 'Kindle eBooks', 'Literature & Fiction', 'Kindle eBooks', 'Literature & Fiction', 'Kindle eBooks', 'Mystery, Thriller & Suspense', 'Kindle eBooks', 'Literature & Fiction', 'Kindle eBooks', 'Romance', 'Kindle eBooks', 'Romance', 'Kindle eBooks', 'Literature & Fiction', 'Kindle eBooks', 'Sports & Outdoors', 'Kindle eBooks', 'Literature & Fiction', 'Kindle eBooks', 'Mystery, Thriller & Suspense', 'Kindle eBooks', 'Mystery, Thriller & Suspense', 'Kindle eBooks', 'Literature & Fiction', 'Kindle eBooks', 'Romance', 'Kindle eBooks', 'Literature & Fiction', 'Kindle eBooks', 'Literature & Fiction', 'Kindle eBooks', 'Health, Fitness & Dieting', 'Kindle eBooks', 'Science Fiction & Fantasy', 'Kindle eBooks', 'Literature & Fiction', 'Kindle eBooks', 'Literature & Fiction', 'Kindle eBooks', 'Literature & Fiction', 'Kindle eBooks', 'Literature & Fiction', 'Kindle eBooks', 'Cookbooks, Food & Wine', 'Kindle eBooks', 'Romance', 'Kindle eBooks', 'Literature & Fiction', 'Kindle eBooks', 'Romance', 'Kindle eBooks', 'Biographies & Memoirs', 'Kindle eBooks', 'Religion & Spirituality', 'Kindle eBooks', 'Romance', 'Kindle eBooks', 'Literature & Fiction', 'Kindle eBooks', 'Travel', 'Kindle eBooks', 'Religion & Spirituality', 'Kindle eBooks', 'Literature & Fiction', 'Kindle eBooks', 'Romance', 'Kindle eBooks', 'Romance', 'Kindle eBooks', 'Mystery, Thriller & Suspense', 'Kindle eBooks', 'Literature & Fiction', 'Kindle eBooks', 'Literature & Fiction', 'Kindle eBooks', 'Literature & Fiction', 'Kindle eBooks', 'Religion & Spirituality', 'Kindle eBooks', 'Literature & Fiction', 'Kindle eBooks', 'Religion & Spirituality', 'Kindle eBooks', 'Literature & Fiction', 'Kindle eBooks', 'Mystery, Thriller & Suspense', 'Kindle eBooks', 'Literature & Fiction', 'Kindle eBooks', 'Literature & Fiction', 'Kindle eBooks', 'Romance', 'Kindle eBooks', 'Literature & Fiction', 'Kindle eBooks', 'Literature & Fiction', 'Kindle eBooks', 'Romance', 'Kindle eBooks', 'Science Fiction & Fantasy', 'Kindle eBooks', 'Literature & Fiction', 'Kindle eBooks', 'Literature & Fiction', 'Kindle eBooks', 'Romance', 'Kindle eBooks', 'Literature & Fiction', 'Kindle eBooks', 'Literature & Fiction', 'Kindle eBooks', 'Literature & Fiction', 'Kindle eBooks', 'Literature & Fiction', 'Kindle eBooks', 'Romance', 'Kindle eBooks', 'Literature & Fiction', 'Kindle eBooks', 'Mystery, Thriller & Suspense', 'Kindle eBooks', 'Literature & Fiction', 'Kindle eBooks', 'Literature & Fiction', 'Kindle eBooks', 'Mystery, Thriller & Suspense', 'Kindle eBooks', \"Children's eBooks\", 'Kindle eBooks', 'Literature & Fiction', 'Kindle eBooks', 'Religion & Spirituality', 'Kindle eBooks', 'Teen & Young Adult', 'Kindle eBooks', 'Health, Fitness & Dieting', 'Kindle eBooks', 'Romance', 'Kindle eBooks', \"Children's eBooks\", 'Kindle eBooks', 'Literature & Fiction', 'Kindle eBooks', 'Religion & Spirituality', 'Kindle eBooks', 'Romance', 'Kindle eBooks', 'Literature & Fiction', 'Kindle eBooks', \"Children's eBooks\", 'Kindle eBooks', 'Romance', 'Kindle eBooks', 'Science Fiction & Fantasy', 'Kindle eBooks', 'Science Fiction & Fantasy', 'Kindle eBooks', 'Religion & Spirituality', 'Kindle eBooks', 'Literature & Fiction', 'Kindle eBooks', 'Literature & Fiction', 'Kindle eBooks', 'Teen & Young Adult', 'Kindle eBooks', 'Literature & Fiction', 'Kindle eBooks', 'Science Fiction & Fantasy', 'Kindle eBooks', 'Cookbooks, Food & Wine', 'Kindle eBooks', 'Romance', 'Kindle eBooks', 'Science Fiction & Fantasy', 'Kindle eBooks', 'Mystery, Thriller & Suspense', 'Kindle eBooks', 'Science Fiction & Fantasy', 'Kindle eBooks', 'Religion & Spirituality', 'Kindle eBooks', 'Literature & Fiction', 'Kindle eBooks', 'Literature & Fiction', 'Kindle eBooks', 'Literature & Fiction', 'Kindle eBooks', 'Religion & Spirituality', 'Kindle eBooks', 'Mystery, Thriller & Suspense', 'Kindle eBooks', 'Literature & Fiction', 'Kindle eBooks', 'Literature & Fiction', 'Kindle eBooks', \"Children's eBooks\", 'Kindle eBooks', 'Literature & Fiction', 'Kindle eBooks', 'Literature & Fiction', 'Kindle eBooks', 'Literature & Fiction', 'Kindle eBooks', 'Literature & Fiction', 'Kindle eBooks', 'Romance', 'Kindle eBooks', 'Mystery, Thriller & Suspense', 'Kindle eBooks', 'Romance', 'Kindle eBooks', 'Literature & Fiction', 'Kindle eBooks', 'Literature & Fiction', 'Kindle eBooks', 'Literature & Fiction', 'Kindle eBooks', \"Children's eBooks\", 'Kindle eBooks', 'Literature & Fiction', 'Kindle eBooks', 'History', 'Kindle eBooks', 'Religion & Spirituality', 'Kindle eBooks', 'Mystery, Thriller & Suspense', 'Kindle eBooks', 'Religion & Spirituality', 'Kindle eBooks', 'Health, Fitness & Dieting', 'Kindle eBooks', 'Teen & Young Adult', 'Kindle eBooks', 'Romance', 'Kindle eBooks', 'Science Fiction & Fantasy', 'Kindle eBooks', 'Romance', 'Kindle eBooks', 'Romance', 'Kindle eBooks', 'Literature & Fiction', 'Kindle eBooks', 'Literature & Fiction', 'Kindle eBooks', 'Romance', 'Kindle eBooks', 'Romance', 'Kindle eBooks', 'Romance', 'Kindle eBooks', 'Religion & Spirituality', 'Kindle eBooks', 'Business & Money', 'Kindle eBooks', 'Mystery, Thriller & Suspense', 'Kindle eBooks', 'Mystery, Thriller & Suspense', 'Kindle eBooks', 'Science Fiction & Fantasy', 'Kindle eBooks', 'Literature & Fiction', 'Kindle eBooks', 'Romance', 'Kindle eBooks', 'Religion & Spirituality', 'Kindle eBooks', 'Literature & Fiction', 'Kindle eBooks', 'Religion & Spirituality', 'Kindle eBooks', \"Children's eBooks\", 'Kindle eBooks', 'Science Fiction & Fantasy', 'Kindle eBooks', 'Teen & Young Adult', 'Kindle eBooks', 'Romance', 'Kindle eBooks', 'Mystery, Thriller & Suspense', 'Kindle eBooks', 'Romance', 'Kindle eBooks', 'Romance', 'Kindle eBooks', 'Teen & Young Adult', 'Kindle eBooks', 'Teen & Young Adult', 'Kindle eBooks', 'Teen & Young Adult', 'Kindle eBooks', 'Mystery, Thriller & Suspense', 'Kindle eBooks', 'Literature & Fiction', 'Kindle eBooks', 'Literature & Fiction', 'Kindle eBooks', 'Romance', 'Kindle eBooks', 'Romance', 'Kindle eBooks', 'Romance', 'Kindle eBooks', 'Mystery, Thriller & Suspense', 'Kindle eBooks', 'Literature & Fiction', 'Kindle eBooks', 'Literature & Fiction', 'Kindle eBooks', 'Literature & Fiction', 'Kindle eBooks', 'Romance', 'Kindle eBooks', 'Literature & Fiction', 'Kindle eBooks', 'Literature & Fiction', 'Kindle eBooks', 'Literature & Fiction', 'Kindle eBooks', 'Literature & Fiction', 'Kindle eBooks', 'Teen & Young Adult', 'Kindle eBooks', 'Teen & Young Adult', 'Kindle eBooks', 'Science Fiction & Fantasy', 'Kindle eBooks', 'Literature & Fiction', 'Kindle eBooks', 'Mystery, Thriller & Suspense', 'Kindle eBooks', 'Literature & Fiction', 'Kindle eBooks', 'Literature & Fiction', 'Kindle eBooks', 'Literature & Fiction', 'Kindle eBooks', 'Romance', 'Kindle eBooks', 'Romance', 'Kindle eBooks', 'Literature & Fiction', 'Kindle eBooks', 'Mystery, Thriller & Suspense', 'Kindle eBooks', \"Children's eBooks\", 'Kindle eBooks', 'Literature & Fiction', 'Kindle eBooks', 'Literature & Fiction', 'Kindle eBooks', 'Literature & Fiction', 'Kindle eBooks', 'Literature & Fiction', 'Kindle eBooks', 'Literature & Fiction', 'Kindle eBooks', 'Romance', 'Kindle eBooks', 'Literature & Fiction', 'Kindle eBooks', 'Literature & Fiction', 'Kindle eBooks', 'Literature & Fiction', 'Kindle eBooks', 'Religion & Spirituality', 'Kindle eBooks', 'Teen & Young Adult', 'Kindle eBooks', 'Literature & Fiction', 'Kindle eBooks', 'Literature & Fiction', 'Kindle eBooks', 'Mystery, Thriller & Suspense', 'Kindle eBooks', 'Literature & Fiction', 'Kindle eBooks', 'Literature & Fiction', 'Kindle eBooks', 'Romance', 'Kindle eBooks', 'Literature & Fiction', 'Kindle eBooks', 'Literature & Fiction', 'Kindle eBooks', 'Teen & Young Adult', 'Kindle eBooks', 'Literature & Fiction', 'Kindle eBooks', 'Religion & Spirituality', 'Kindle eBooks', 'Literature & Fiction', 'Kindle eBooks', 'Science Fiction & Fantasy', 'Kindle eBooks', 'Religion & Spirituality', 'Kindle eBooks', 'Romance', 'Kindle eBooks', 'Romance', 'Kindle eBooks', 'Romance', 'Kindle eBooks', 'Literature & Fiction', 'Kindle eBooks', 'Biographies & Memoirs', 'Kindle eBooks', 'Literature & Fiction', 'Kindle eBooks', 'Romance', 'Kindle eBooks', 'Science Fiction & Fantasy', 'Kindle eBooks', 'Romance', 'Kindle eBooks', 'Literature & Fiction', 'Kindle eBooks', 'Religion & Spirituality', 'Kindle eBooks', 'Romance', 'Kindle eBooks', 'Literature & Fiction', 'Kindle eBooks', 'Romance', 'Kindle eBooks', 'Literature & Fiction', 'Kindle eBooks', 'Literature & Fiction', 'Kindle eBooks', 'Literature & Fiction', 'Kindle eBooks', 'Romance', 'Kindle eBooks', 'Romance', 'Kindle eBooks', \"Children's eBooks\", 'Kindle eBooks', 'Literature & Fiction', 'Kindle eBooks', 'Biographies & Memoirs', 'Kindle eBooks', 'Romance', 'Kindle eBooks', 'Literature & Fiction', 'Kindle eBooks', 'Literature & Fiction', 'Kindle eBooks', 'Literature & Fiction', 'Kindle eBooks', 'Romance', 'Kindle eBooks', 'Romance', 'Kindle eBooks', 'Business & Money', 'Kindle eBooks', 'Biographies & Memoirs', 'Kindle eBooks', 'Mystery, Thriller & Suspense', 'Kindle eBooks', 'Religion & Spirituality', 'Kindle eBooks', 'Romance', 'Kindle eBooks', 'Literature & Fiction', 'Kindle eBooks', 'Romance', 'Kindle eBooks', 'Science Fiction & Fantasy', 'Kindle eBooks', 'Mystery, Thriller & Suspense', 'Kindle eBooks', 'Literature & Fiction', 'Kindle eBooks', 'Health, Fitness & Dieting', 'Kindle eBooks', 'Literature & Fiction', 'Kindle eBooks', 'Romance', 'Kindle eBooks', 'Teen & Young Adult', 'Kindle eBooks', 'Literature & Fiction', 'Kindle eBooks', \"Children's eBooks\", 'Kindle eBooks', 'Religion & Spirituality', 'Kindle eBooks', 'Literature & Fiction', 'Kindle eBooks', 'Crafts, Hobbies & Home', 'Kindle eBooks', 'Literature & Fiction', 'Kindle eBooks', 'Literature & Fiction', 'Kindle eBooks', 'Literature & Fiction', 'Kindle eBooks', 'Romance', 'Kindle eBooks', 'Literature & Fiction', 'Kindle eBooks', 'Literature & Fiction', 'Kindle eBooks', 'Romance', 'Kindle eBooks', 'Romance', 'Kindle eBooks', 'Romance', 'Kindle eBooks', 'Romance', 'Kindle eBooks', 'Religion & Spirituality', 'Kindle eBooks', 'Literature & Fiction', 'Kindle eBooks', 'Romance', 'Kindle eBooks', 'Cookbooks, Food & Wine', 'Kindle eBooks', 'Romance', 'Kindle eBooks', 'Romance', 'Kindle eBooks', 'Literature & Fiction', 'Kindle eBooks', 'Religion & Spirituality', 'Kindle eBooks', 'Religion & Spirituality', 'Kindle eBooks', 'Humor & Entertainment', 'Kindle eBooks', 'Literature & Fiction', 'Kindle eBooks', 'Teen & Young Adult', 'Kindle eBooks', 'Literature & Fiction', 'Kindle eBooks', 'Travel', 'Kindle eBooks', 'Literature & Fiction', 'Kindle eBooks', 'Literature & Fiction', 'Kindle eBooks', 'Literature & Fiction', 'Kindle eBooks', 'Politics & Social Sciences', 'Kindle eBooks', 'Romance', 'Kindle eBooks', 'Literature & Fiction', 'Kindle eBooks', 'Literature & Fiction', 'Kindle eBooks', 'Literature & Fiction', 'Kindle eBooks', 'Teen & Young Adult', 'Kindle eBooks', 'Literature & Fiction', 'Kindle eBooks', 'Literature & Fiction', 'Kindle eBooks', 'Literature & Fiction', 'Kindle eBooks', 'Literature & Fiction', 'Kindle eBooks', 'Mystery, Thriller & Suspense', 'Kindle eBooks', 'Literature & Fiction', 'Kindle eBooks', 'Cookbooks, Food & Wine', 'Kindle eBooks', 'Literature & Fiction', 'Kindle eBooks', 'Literature & Fiction', 'Kindle eBooks', 'Mystery, Thriller & Suspense', 'Kindle eBooks', 'Science Fiction & Fantasy', 'Kindle eBooks', 'Literature & Fiction', 'Kindle eBooks', 'Literature & Fiction', 'Kindle eBooks', 'Science Fiction & Fantasy', 'Kindle eBooks', 'Literature & Fiction', 'Kindle eBooks', 'Literature & Fiction', 'Kindle eBooks', 'Politics & Social Sciences', 'Kindle eBooks', 'Romance', 'Kindle eBooks', 'Romance', 'Kindle eBooks', 'Romance', 'Kindle eBooks', 'Religion & Spirituality', 'Kindle eBooks', 'History', 'Kindle eBooks', 'Literature & Fiction', 'Kindle eBooks', 'Politics & Social Sciences', 'Kindle eBooks', 'Literature & Fiction', 'Kindle eBooks', 'Science Fiction & Fantasy', 'Kindle eBooks', 'Literature & Fiction', 'Kindle eBooks', 'Literature & Fiction', 'Kindle eBooks', 'Literature & Fiction', 'Kindle eBooks', 'Mystery, Thriller & Suspense', 'Kindle eBooks', 'Literature & Fiction', 'Kindle eBooks', 'Literature & Fiction', 'Kindle eBooks', 'Literature & Fiction', 'Kindle eBooks', 'Literature & Fiction', 'Kindle eBooks', 'Mystery, Thriller & Suspense', 'Kindle eBooks', 'Literature & Fiction', 'Kindle eBooks', 'Literature & Fiction', 'Kindle eBooks', 'Religion & Spirituality', 'Kindle eBooks', 'Romance', 'Kindle eBooks', 'Literature & Fiction', 'Kindle eBooks', 'Literature & Fiction', 'Kindle eBooks', 'Romance', 'Kindle eBooks', 'Romance', 'Kindle eBooks', 'Romance', 'Kindle eBooks', 'Literature & Fiction', 'Kindle eBooks', 'Romance', 'Kindle eBooks', 'Literature & Fiction', 'Kindle eBooks', 'Literature & Fiction', 'Kindle eBooks', 'Literature & Fiction', 'Kindle eBooks', 'Literature & Fiction', 'Kindle eBooks', 'Literature & Fiction', 'Kindle eBooks', 'Romance', 'Kindle eBooks', 'Religion & Spirituality', 'Kindle eBooks', 'Religion & Spirituality', 'Kindle eBooks', \"Children's eBooks\", 'Kindle eBooks', 'Business & Money', 'Kindle eBooks', 'Literature & Fiction', 'Kindle eBooks', 'Literature & Fiction', 'Kindle eBooks', 'Literature & Fiction', 'Kindle eBooks', 'Romance', 'Kindle eBooks', 'Literature & Fiction', 'Kindle eBooks', 'Literature & Fiction', 'Kindle eBooks', 'Teen & Young Adult', 'Kindle eBooks', 'Romance', 'Kindle eBooks', 'Mystery, Thriller & Suspense', 'Kindle eBooks', 'Literature & Fiction', 'Kindle eBooks', 'Romance', 'Kindle eBooks', 'Literature & Fiction', 'Kindle eBooks', 'Teen & Young Adult', 'Kindle eBooks', \"Children's eBooks\", 'Kindle eBooks', 'Literature & Fiction', 'Kindle eBooks', 'Science Fiction & Fantasy', 'Kindle eBooks', 'Science & Math', 'Kindle eBooks', 'Romance', 'Kindle eBooks', 'Romance', 'Kindle eBooks', 'Reference', 'Kindle eBooks', 'Romance', 'Kindle eBooks', 'Literature & Fiction', 'Kindle eBooks', 'Mystery, Thriller & Suspense', 'Kindle eBooks', 'Literature & Fiction', 'Kindle eBooks', 'Literature & Fiction', 'Kindle eBooks', 'Mystery, Thriller & Suspense', 'Kindle eBooks', 'Mystery, Thriller & Suspense', 'Kindle eBooks', 'Mystery, Thriller & Suspense', 'Kindle eBooks', 'Mystery, Thriller & Suspense', 'Kindle eBooks', 'Romance', 'Kindle eBooks', 'Mystery, Thriller & Suspense', 'Kindle eBooks', 'Science Fiction & Fantasy', 'Kindle eBooks', 'Mystery, Thriller & Suspense', 'Kindle eBooks', \"Children's eBooks\", 'Kindle eBooks', 'Romance', 'Kindle eBooks', 'Science Fiction & Fantasy', 'Kindle eBooks', 'Science Fiction & Fantasy', 'Kindle eBooks', 'Mystery, Thriller & Suspense', 'Kindle eBooks', 'Literature & Fiction', 'Kindle eBooks', 'Romance', 'Kindle eBooks', 'Science Fiction & Fantasy', 'Kindle eBooks', 'Science Fiction & Fantasy', 'Kindle eBooks', 'Education & Teaching', 'Kindle eBooks', 'Literature & Fiction', 'Kindle eBooks', 'Romance', 'Kindle eBooks', 'Literature & Fiction', 'Kindle eBooks', 'Romance', 'Kindle eBooks', 'Romance', 'Kindle eBooks', 'Literature & Fiction', 'Kindle eBooks', 'Literature & Fiction', 'Kindle eBooks', 'Mystery, Thriller & Suspense', 'Kindle eBooks', 'Literature & Fiction', 'Kindle eBooks', 'Literature & Fiction', 'Kindle eBooks', 'Romance', 'Kindle eBooks', 'Romance', 'Kindle eBooks', \"Children's eBooks\", 'Kindle eBooks', 'Literature & Fiction', 'Kindle eBooks', 'Literature & Fiction', 'Kindle eBooks', 'Humor & Entertainment', 'Kindle eBooks', 'Romance', 'Kindle eBooks', 'Literature & Fiction', 'Kindle eBooks', 'Teen & Young Adult', 'Kindle eBooks', 'Romance', 'Kindle eBooks', 'Religion & Spirituality', 'Kindle eBooks', 'Literature & Fiction', 'Kindle eBooks', 'Literature & Fiction', 'Kindle eBooks', 'Mystery, Thriller & Suspense', 'Kindle eBooks', 'Science Fiction & Fantasy', 'Kindle eBooks', 'Politics & Social Sciences', 'Kindle eBooks', 'Literature & Fiction', 'Kindle eBooks', 'Literature & Fiction', 'Kindle eBooks', 'Literature & Fiction', 'Kindle eBooks', 'Teen & Young Adult', 'Kindle eBooks', 'Literature & Fiction', 'Kindle eBooks', \"Children's eBooks\", 'Kindle eBooks', 'Literature & Fiction', 'Kindle eBooks', 'Literature & Fiction', 'Kindle eBooks', 'Romance', 'Kindle eBooks', 'Health, Fitness & Dieting', 'Kindle eBooks', 'Literature & Fiction', 'Kindle eBooks', 'Religion & Spirituality', 'Kindle eBooks', 'Religion & Spirituality', 'Kindle eBooks', 'Literature & Fiction', 'Kindle eBooks', 'Literature & Fiction', 'Kindle eBooks', 'Romance', 'Kindle eBooks', 'Teen & Young Adult', 'Kindle eBooks', 'Romance', 'Kindle eBooks', 'Romance', 'Kindle eBooks', 'Literature & Fiction', 'Kindle eBooks', 'Literature & Fiction', 'Kindle eBooks', 'Religion & Spirituality', 'Kindle eBooks', 'Science Fiction & Fantasy', 'Kindle eBooks', 'Literature & Fiction', 'Kindle eBooks', 'Romance', 'Kindle eBooks', 'Literature & Fiction', 'Kindle eBooks', 'Literature & Fiction', 'Kindle eBooks', 'Mystery, Thriller & Suspense', 'Kindle eBooks', 'Literature & Fiction', 'Kindle eBooks', 'Science Fiction & Fantasy', 'Kindle eBooks', 'Literature & Fiction', 'Kindle eBooks', 'Religion & Spirituality', 'Kindle eBooks', 'Romance', 'Kindle eBooks', 'Romance', 'Kindle eBooks', 'Literature & Fiction', 'Kindle eBooks', 'Literature & Fiction', 'Kindle eBooks', 'Literature & Fiction', 'Kindle eBooks', 'Romance', 'Kindle eBooks', 'Literature & Fiction', 'Kindle eBooks', 'Literature & Fiction', 'Kindle eBooks', 'Literature & Fiction', 'Kindle eBooks', 'Travel', 'Kindle eBooks', 'Literature & Fiction', 'Kindle eBooks', 'Literature & Fiction', 'Kindle eBooks', 'Science Fiction & Fantasy', 'Kindle eBooks', 'Teen & Young Adult', 'Kindle eBooks', 'Literature & Fiction', 'Kindle eBooks', 'Literature & Fiction', 'Kindle eBooks', 'Mystery, Thriller & Suspense', 'Kindle eBooks', 'Arts & Photography', 'Kindle eBooks', 'Literature & Fiction', 'Kindle eBooks', 'Literature & Fiction', 'Kindle eBooks', 'Literature & Fiction', 'Kindle eBooks', 'Literature & Fiction', 'Kindle eBooks', 'Romance', 'Kindle eBooks', 'Romance', 'Kindle eBooks', 'Literature & Fiction', 'Kindle eBooks', 'Literature & Fiction', 'Kindle eBooks', 'Literature & Fiction', 'Kindle eBooks', 'Mystery, Thriller & Suspense', 'Kindle eBooks', 'Religion & Spirituality', 'Kindle eBooks', 'Teen & Young Adult', 'Kindle eBooks', 'Literature & Fiction', 'Kindle eBooks', 'Romance', 'Kindle eBooks', 'Literature & Fiction', 'Kindle eBooks', 'Science Fiction & Fantasy', 'Kindle eBooks', 'Literature & Fiction', 'Kindle eBooks', 'Literature & Fiction', 'Kindle eBooks', 'Literature & Fiction', 'Kindle eBooks', 'Teen & Young Adult', 'Kindle eBooks', 'Science Fiction & Fantasy', 'Kindle eBooks', 'Romance', 'Kindle eBooks', 'Science Fiction & Fantasy', 'Kindle eBooks', 'Romance', 'Kindle eBooks', 'Religion & Spirituality', 'Kindle eBooks', 'Romance', 'Kindle eBooks', 'Romance', 'Kindle eBooks', 'Literature & Fiction', 'Kindle eBooks', 'Romance', 'Kindle eBooks', 'Science Fiction & Fantasy', 'Kindle eBooks', 'Literature & Fiction', 'Kindle eBooks', 'Romance', 'Kindle eBooks', 'Literature & Fiction', 'Kindle eBooks', 'History', 'Kindle eBooks', 'Literature & Fiction', 'Kindle eBooks', 'Parenting & Relationships', 'Kindle eBooks', 'Literature & Fiction', 'Kindle eBooks', 'Literature & Fiction', 'Kindle eBooks', 'Romance', 'Kindle eBooks', 'Literature & Fiction', 'Kindle eBooks', 'Literature & Fiction', 'Kindle eBooks', 'Romance', 'Kindle eBooks', 'Literature & Fiction', 'Kindle eBooks', 'Romance', 'Kindle eBooks', 'Literature & Fiction', 'Kindle eBooks', 'Literature & Fiction', 'Kindle eBooks', 'Romance', 'Kindle eBooks', 'Romance', 'Kindle eBooks', 'Mystery, Thriller & Suspense', 'Kindle eBooks', 'Literature & Fiction', 'Kindle eBooks', 'Self-Help', 'Kindle eBooks', 'Literature & Fiction', 'Kindle eBooks', 'Literature & Fiction', 'Kindle eBooks', 'Literature & Fiction', 'Kindle eBooks', 'Literature & Fiction', 'Kindle eBooks', 'Mystery, Thriller & Suspense', 'Kindle eBooks', 'Romance', 'Kindle eBooks', 'Literature & Fiction', 'Kindle eBooks', 'Literature & Fiction', 'Kindle eBooks', 'Literature & Fiction', 'Kindle eBooks', 'Literature & Fiction', 'Kindle eBooks', 'Romance', 'Kindle eBooks', 'Romance', 'Kindle eBooks', 'Literature & Fiction', 'Kindle eBooks', 'Literature & Fiction', 'Kindle eBooks', 'Literature & Fiction', 'Kindle eBooks', 'Literature & Fiction', 'Kindle eBooks', 'Literature & Fiction', 'Kindle eBooks', 'Literature & Fiction', 'Kindle eBooks', 'Literature & Fiction', 'Kindle eBooks', 'Romance', 'Kindle eBooks', 'Literature & Fiction', 'Kindle eBooks', 'Religion & Spirituality', 'Kindle eBooks', 'Literature & Fiction', 'Kindle eBooks', 'Literature & Fiction', 'Kindle eBooks', 'Literature & Fiction', 'Kindle eBooks', 'Literature & Fiction', 'Kindle eBooks', 'Literature & Fiction', 'Kindle eBooks', 'Romance', 'Kindle eBooks', 'Literature & Fiction', 'Kindle eBooks', 'Mystery, Thriller & Suspense', 'Kindle eBooks', 'Literature & Fiction', 'Kindle eBooks', 'Romance', 'Kindle eBooks', 'Romance', 'Kindle eBooks', 'Romance', 'Kindle eBooks', 'Literature & Fiction', 'Kindle eBooks', 'Romance', 'Kindle eBooks', 'Romance', 'Kindle eBooks', 'Literature & Fiction', 'Kindle eBooks', 'Literature & Fiction', 'Kindle eBooks', 'Religion & Spirituality', 'Kindle eBooks', 'Science Fiction & Fantasy', 'Kindle eBooks', 'Science Fiction & Fantasy', 'Kindle eBooks', 'Literature & Fiction', 'Kindle eBooks', 'Romance', 'Kindle eBooks', 'Literature & Fiction', 'Kindle eBooks', 'Literature & Fiction', 'Kindle eBooks', 'Literature & Fiction', 'Kindle eBooks', 'Literature & Fiction', 'Kindle eBooks', 'Kindle eBooks', 'Literature & Fiction', 'Kindle eBooks', 'Literature & Fiction', 'Kindle eBooks', 'Science Fiction & Fantasy', 'Kindle eBooks', 'Literature & Fiction', 'Kindle eBooks', 'Romance', 'Kindle eBooks', 'Literature & Fiction', 'Kindle eBooks', 'Science Fiction & Fantasy', 'Kindle eBooks', 'Literature & Fiction', 'Kindle eBooks', \"Children's eBooks\", 'Kindle eBooks', 'Mystery, Thriller & Suspense', 'Kindle eBooks', 'Romance', 'Kindle eBooks', 'Literature & Fiction', 'Kindle eBooks', 'Literature & Fiction', 'Kindle eBooks', 'Romance', 'Kindle eBooks', 'Literature & Fiction', 'Kindle eBooks', 'Literature & Fiction', 'Kindle eBooks', 'Literature & Fiction', 'Kindle eBooks', 'Science Fiction & Fantasy', 'Kindle eBooks', 'Romance', 'Kindle eBooks', 'Education & Teaching', 'Kindle eBooks', 'Literature & Fiction', 'Kindle eBooks', 'Romance', 'Kindle eBooks', 'Romance', 'Kindle eBooks', 'Romance', 'Kindle eBooks', 'Romance', 'Kindle eBooks', 'Literature & Fiction', 'Kindle eBooks', 'Religion & Spirituality', 'Kindle eBooks', 'Literature & Fiction', 'Kindle eBooks', 'Mystery, Thriller & Suspense', 'Kindle eBooks', 'Religion & Spirituality', 'Kindle eBooks', 'Literature & Fiction', 'Kindle eBooks', 'Literature & Fiction', 'Kindle eBooks', 'Literature & Fiction', 'Kindle eBooks', 'Romance', 'Kindle eBooks', 'Romance', 'Kindle eBooks', 'Romance', 'Kindle eBooks', 'Romance', 'Kindle eBooks', 'Science Fiction & Fantasy', 'Kindle eBooks', 'Literature & Fiction', 'Kindle eBooks', 'Literature & Fiction', 'Kindle eBooks', 'Romance', 'Kindle eBooks', 'Literature & Fiction', 'Kindle eBooks', 'Literature & Fiction', 'Kindle eBooks', 'Mystery, Thriller & Suspense', 'Kindle eBooks', 'Literature & Fiction', 'Kindle eBooks', 'Romance', 'Kindle eBooks', 'Literature & Fiction', 'Kindle eBooks', 'Crafts, Hobbies & Home', 'Kindle eBooks', 'Humor & Entertainment', 'Kindle eBooks', 'Literature & Fiction', 'Kindle eBooks', 'Romance', 'Kindle eBooks', 'Literature & Fiction', 'Kindle eBooks', 'Literature & Fiction', 'Kindle eBooks', 'Literature & Fiction', 'Kindle eBooks', 'Literature & Fiction', 'Kindle eBooks', 'Literature & Fiction', 'Kindle eBooks', 'Literature & Fiction', 'Kindle eBooks', 'Literature & Fiction', 'Kindle eBooks', 'Romance', 'Kindle eBooks', 'Romance', 'Kindle eBooks', 'Literature & Fiction', 'Kindle eBooks', 'Romance', 'Kindle eBooks', 'Literature & Fiction', 'Kindle eBooks', 'Mystery, Thriller & Suspense', 'Kindle eBooks', 'Romance', 'Kindle eBooks', 'Romance', 'Kindle eBooks', 'Romance', 'Kindle eBooks', 'Literature & Fiction', 'Kindle eBooks', 'Romance', 'Kindle eBooks', 'Literature & Fiction', 'Kindle eBooks', 'Literature & Fiction', 'Kindle eBooks', 'Literature & Fiction', 'Kindle eBooks', 'Literature & Fiction', 'Kindle eBooks', 'Mystery, Thriller & Suspense', 'Kindle eBooks', 'Science Fiction & Fantasy', 'Kindle eBooks', 'Mystery, Thriller & Suspense', 'Kindle eBooks', 'Mystery, Thriller & Suspense', 'Kindle eBooks', 'Teen & Young Adult', 'Kindle eBooks', 'Mystery, Thriller & Suspense', 'Kindle eBooks', 'Health, Fitness & Dieting', 'Kindle eBooks', 'Literature & Fiction', 'Kindle eBooks', 'Science Fiction & Fantasy', 'Kindle eBooks', 'Literature & Fiction', 'Kindle eBooks', 'Literature & Fiction', 'Kindle eBooks', 'Romance', 'Kindle eBooks', 'Literature & Fiction', 'Kindle eBooks', 'Romance', 'Kindle eBooks', 'Romance', 'Kindle eBooks', 'Literature & Fiction', 'Kindle eBooks', 'Literature & Fiction', 'Kindle eBooks', 'Literature & Fiction', 'Kindle eBooks', 'Literature & Fiction', 'Kindle eBooks', 'Romance', 'Kindle eBooks', 'Literature & Fiction', 'Kindle eBooks', 'Literature & Fiction', 'Kindle eBooks', 'Romance', 'Kindle eBooks', 'Romance', 'Kindle eBooks', 'Religion & Spirituality', 'Kindle eBooks', 'Religion & Spirituality', 'Kindle eBooks', 'Literature & Fiction', 'Kindle eBooks', 'Literature & Fiction', 'Kindle eBooks', 'Literature & Fiction', 'Kindle eBooks', 'Literature & Fiction', 'Kindle eBooks', 'Health, Fitness & Dieting', 'Kindle eBooks', 'Cookbooks, Food & Wine', 'Kindle eBooks', 'Literature & Fiction', 'Kindle eBooks', 'Literature & Fiction', 'Kindle eBooks', 'Romance', 'Kindle eBooks', 'Literature & Fiction', 'Kindle eBooks', 'Romance', 'Kindle eBooks', 'Science Fiction & Fantasy', 'Kindle eBooks', 'Literature & Fiction', 'Kindle eBooks', 'Literature & Fiction', 'Kindle eBooks', 'Literature & Fiction', 'Kindle eBooks', 'Literature & Fiction', 'Kindle eBooks', 'Literature & Fiction', 'Kindle eBooks', 'Mystery, Thriller & Suspense', 'Kindle eBooks', 'Literature & Fiction', 'Kindle eBooks', 'Teen & Young Adult', 'Kindle eBooks', 'Romance', 'Kindle eBooks', 'Mystery, Thriller & Suspense', 'Kindle eBooks', 'Literature & Fiction', 'Kindle eBooks', 'Literature & Fiction', 'Kindle eBooks', 'Literature & Fiction', 'Kindle eBooks', 'Literature & Fiction', 'Kindle eBooks', 'Literature & Fiction', 'Kindle eBooks', 'Literature & Fiction', 'Kindle eBooks', 'Mystery, Thriller & Suspense', 'Kindle eBooks', 'Teen & Young Adult', 'Kindle eBooks', 'Literature & Fiction', 'Kindle eBooks', 'Literature & Fiction', 'Kindle eBooks', 'Romance', 'Kindle eBooks', 'Science Fiction & Fantasy', 'Kindle eBooks', 'Mystery, Thriller & Suspense', 'Kindle eBooks', 'History', 'Kindle eBooks', 'Health, Fitness & Dieting', 'Kindle eBooks', 'Romance', 'Kindle eBooks', 'Crafts, Hobbies & Home', 'Kindle eBooks', 'Literature & Fiction', 'Kindle eBooks', 'Romance', 'Kindle eBooks', 'Romance', 'Kindle eBooks', 'Science Fiction & Fantasy', 'Kindle eBooks', 'Literature & Fiction', 'Kindle eBooks', 'Mystery, Thriller & Suspense', 'Kindle eBooks', 'Literature & Fiction', 'Kindle eBooks', 'Science Fiction & Fantasy', 'Kindle eBooks', 'Literature & Fiction', 'Kindle eBooks', 'Science Fiction & Fantasy', 'Kindle eBooks', 'Romance', 'Kindle eBooks', 'Romance', 'Kindle eBooks', 'Literature & Fiction', 'Kindle eBooks', 'Literature & Fiction', 'Kindle eBooks', 'Romance', 'Kindle eBooks', 'Literature & Fiction', 'Kindle eBooks', 'Literature & Fiction', 'Kindle eBooks', 'Teen & Young Adult', 'Kindle eBooks', 'Religion & Spirituality', 'Kindle eBooks', 'Literature & Fiction', 'Kindle eBooks', 'Science Fiction & Fantasy', 'Kindle eBooks', 'Literature & Fiction', 'Kindle eBooks', 'Literature & Fiction', 'Kindle eBooks', 'Literature & Fiction', 'Kindle eBooks', 'Romance', 'Kindle eBooks', 'Romance', 'Kindle eBooks', 'Literature & Fiction', 'Kindle eBooks', 'Teen & Young Adult', 'Kindle eBooks', 'Literature & Fiction', 'Kindle eBooks', 'Literature & Fiction', 'Kindle eBooks', 'Literature & Fiction', 'Kindle eBooks', 'Romance', 'Kindle eBooks', 'Literature & Fiction', 'Kindle eBooks', 'Literature & Fiction', 'Kindle eBooks', 'Literature & Fiction', 'Kindle eBooks', 'Literature & Fiction', 'Kindle eBooks', 'Literature & Fiction', 'Kindle eBooks', 'Literature & Fiction', 'Kindle eBooks', 'Science Fiction & Fantasy', 'Kindle eBooks', 'Science Fiction & Fantasy', 'Kindle eBooks', 'Romance', 'Kindle eBooks', 'Romance', 'Kindle eBooks', 'Health, Fitness & Dieting', 'Kindle eBooks', 'Romance', 'Kindle eBooks', 'Teen & Young Adult', 'Kindle eBooks', 'Literature & Fiction', 'Kindle eBooks', 'Literature & Fiction', 'Kindle eBooks', 'Biographies & Memoirs', 'Kindle eBooks', 'Romance', 'Kindle eBooks', 'Romance', 'Kindle eBooks', 'Literature & Fiction', 'Kindle eBooks', 'Science Fiction & Fantasy', 'Kindle eBooks', 'Religion & Spirituality', 'Kindle eBooks', 'Literature & Fiction', 'Kindle eBooks', 'Science Fiction & Fantasy', 'Kindle eBooks', 'Religion & Spirituality', 'Kindle eBooks', 'Religion & Spirituality', 'Kindle eBooks', 'Romance', 'Kindle eBooks', 'Literature & Fiction', 'Kindle eBooks', 'Literature & Fiction', 'Kindle eBooks', 'Literature & Fiction', 'Kindle eBooks', 'Literature & Fiction', 'Kindle eBooks', 'Literature & Fiction', 'Kindle eBooks', 'Mystery, Thriller & Suspense', 'Kindle eBooks', 'Mystery, Thriller & Suspense', 'Kindle eBooks', \"Children's eBooks\", 'Kindle eBooks', 'Literature & Fiction', 'Kindle eBooks', 'Romance', 'Kindle eBooks', \"Children's eBooks\", 'Kindle eBooks', 'Religion & Spirituality', 'Kindle eBooks', 'Romance', 'Kindle eBooks', 'Literature & Fiction', 'Kindle eBooks', 'Literature & Fiction', 'Kindle eBooks', 'Literature & Fiction', 'Kindle eBooks', 'Cookbooks, Food & Wine', 'Kindle eBooks', 'Literature & Fiction', 'Kindle eBooks', 'Literature & Fiction', 'Kindle eBooks', 'Literature & Fiction', 'Kindle eBooks', 'Romance', 'Kindle eBooks', 'Mystery, Thriller & Suspense', 'Kindle eBooks', 'Mystery, Thriller & Suspense', 'Kindle eBooks', 'Religion & Spirituality', 'Kindle eBooks', 'Literature & Fiction', 'Kindle eBooks', 'Literature & Fiction', 'Kindle eBooks', 'Romance', 'Kindle eBooks', 'Literature & Fiction', 'Kindle eBooks', 'Romance', 'Kindle eBooks', 'Mystery, Thriller & Suspense', 'Kindle eBooks', 'Literature & Fiction', 'Kindle eBooks', 'Literature & Fiction', 'Kindle eBooks', 'Literature & Fiction', 'Kindle eBooks', 'Romance', 'Kindle eBooks', 'Mystery, Thriller & Suspense', 'Kindle eBooks', 'Science Fiction & Fantasy', 'Kindle eBooks', 'Mystery, Thriller & Suspense', 'Kindle eBooks', 'Romance', 'Kindle eBooks', 'Literature & Fiction', 'Kindle eBooks', 'Literature & Fiction', 'Kindle eBooks', 'Mystery, Thriller & Suspense', 'Kindle eBooks', 'Romance', 'Kindle eBooks', 'Literature & Fiction', 'Kindle eBooks', 'Literature & Fiction', 'Kindle eBooks', 'Literature & Fiction', 'Kindle eBooks', 'Religion & Spirituality', 'Kindle eBooks', 'Science Fiction & Fantasy', 'Kindle eBooks', 'Literature & Fiction', 'Kindle eBooks', 'Literature & Fiction', 'Kindle eBooks', 'History', 'Kindle eBooks', 'Literature & Fiction', 'Kindle eBooks', 'Mystery, Thriller & Suspense', 'Kindle eBooks', 'Romance', 'Kindle eBooks', 'Literature & Fiction', 'Kindle eBooks', 'Science Fiction & Fantasy', 'Kindle eBooks', 'Romance', 'Kindle eBooks', 'Literature & Fiction', 'Kindle eBooks', 'Romance', 'Kindle eBooks', 'Literature & Fiction', 'Kindle eBooks', 'Literature & Fiction', 'Kindle eBooks', 'Literature & Fiction', 'Kindle eBooks', 'Teen & Young Adult', 'Kindle eBooks', 'Romance', 'Kindle eBooks', 'Romance', 'Kindle eBooks', 'Romance', 'Kindle eBooks', 'Literature & Fiction', 'Kindle eBooks', 'Romance', 'Kindle eBooks', 'Religion & Spirituality', 'Kindle eBooks', 'Mystery, Thriller & Suspense', 'Kindle eBooks', 'Romance', 'Kindle eBooks', 'Romance', 'Kindle eBooks', 'Literature & Fiction', 'Kindle eBooks', 'Literature & Fiction', 'Kindle eBooks', 'Literature & Fiction', 'Kindle eBooks', 'Literature & Fiction', 'Kindle eBooks', 'Literature & Fiction', 'Kindle eBooks', 'Romance', 'Kindle eBooks', \"Children's eBooks\", 'Kindle eBooks', 'Literature & Fiction', 'Kindle eBooks', 'Mystery, Thriller & Suspense', 'Kindle eBooks', 'Literature & Fiction', 'Kindle eBooks', 'Business & Money', 'Kindle eBooks', 'Business & Money', 'Kindle eBooks', 'Romance', 'Kindle eBooks', 'Mystery, Thriller & Suspense', 'Kindle eBooks', 'Literature & Fiction', 'Kindle eBooks', 'Romance', 'Kindle eBooks', 'Humor & Entertainment', 'Kindle eBooks', 'Literature & Fiction', 'Kindle eBooks', 'Literature & Fiction', 'Kindle eBooks', 'Literature & Fiction', 'Kindle eBooks', 'Literature & Fiction', 'Kindle eBooks', \"Children's eBooks\", 'Kindle eBooks', 'Literature & Fiction', 'Kindle eBooks', 'Literature & Fiction', 'Kindle eBooks', 'Science Fiction & Fantasy', 'Kindle eBooks', 'Literature & Fiction', 'Kindle eBooks', 'Literature & Fiction', 'Kindle eBooks', 'Literature & Fiction', 'Kindle eBooks', 'Literature & Fiction', 'Kindle eBooks', 'Mystery, Thriller & Suspense', 'Kindle eBooks', 'Literature & Fiction', 'Kindle eBooks', 'Literature & Fiction', 'Kindle eBooks', 'Mystery, Thriller & Suspense', 'Kindle eBooks', 'Literature & Fiction', 'Kindle eBooks', 'Literature & Fiction', 'Kindle eBooks', 'Romance', 'Kindle eBooks', 'Romance', 'Kindle eBooks', 'Religion & Spirituality', 'Kindle eBooks', 'Literature & Fiction', 'Kindle eBooks', 'Literature & Fiction', 'Kindle eBooks', 'Literature & Fiction', 'Kindle eBooks', 'Literature & Fiction', 'Kindle eBooks', \"Children's eBooks\", 'Kindle eBooks', 'Literature & Fiction', 'Kindle eBooks', 'Literature & Fiction', 'Kindle eBooks', 'Literature & Fiction', 'Kindle eBooks', 'Romance', 'Kindle eBooks', 'Romance', 'Kindle eBooks', 'Literature & Fiction', 'Kindle eBooks', 'Literature & Fiction', 'Kindle eBooks', 'Literature & Fiction', 'Kindle eBooks', 'Science Fiction & Fantasy', 'Kindle eBooks', 'Romance', 'Kindle eBooks', 'Teen & Young Adult', 'Kindle eBooks', 'Romance', 'Kindle eBooks', 'Literature & Fiction', 'Kindle eBooks', 'Literature & Fiction', 'Kindle eBooks', 'Romance', 'Kindle eBooks', 'Literature & Fiction', 'Kindle eBooks', 'Romance', 'Kindle eBooks', 'Mystery, Thriller & Suspense', 'Kindle eBooks', 'Literature & Fiction', 'Kindle eBooks', 'Romance', 'Kindle eBooks', 'Literature & Fiction', 'Kindle eBooks', 'Literature & Fiction', 'Kindle eBooks', 'Literature & Fiction', 'Kindle eBooks', 'Literature & Fiction', 'Kindle eBooks', 'Science Fiction & Fantasy', 'Kindle eBooks', 'Teen & Young Adult', 'Kindle eBooks', 'Science Fiction & Fantasy', 'Kindle eBooks', 'Mystery, Thriller & Suspense', 'Kindle eBooks', 'Literature & Fiction', 'Kindle eBooks', 'Literature & Fiction', 'Kindle eBooks', 'Mystery, Thriller & Suspense', 'Kindle eBooks', 'Literature & Fiction', 'Kindle eBooks', 'Mystery, Thriller & Suspense', 'Kindle eBooks', 'Romance', 'Kindle eBooks', 'Literature & Fiction', 'Kindle eBooks', 'Literature & Fiction', 'Kindle eBooks', 'Literature & Fiction', 'Kindle eBooks', 'Literature & Fiction', 'Kindle eBooks', 'Romance', 'Kindle eBooks', 'Science Fiction & Fantasy', 'Kindle eBooks', 'Mystery, Thriller & Suspense', 'Kindle eBooks', 'Mystery, Thriller & Suspense', 'Kindle eBooks', 'Science Fiction & Fantasy', 'Kindle eBooks', 'Literature & Fiction', 'Kindle eBooks', 'Literature & Fiction', 'Kindle eBooks', 'Teen & Young Adult', 'Kindle eBooks', 'Literature & Fiction', 'Kindle eBooks', 'Mystery, Thriller & Suspense', 'Kindle eBooks', 'Romance', 'Kindle eBooks', 'Literature & Fiction', 'Kindle eBooks', 'Science Fiction & Fantasy', 'Kindle eBooks', 'Science Fiction & Fantasy', 'Kindle eBooks', 'Literature & Fiction', 'Kindle eBooks', 'Literature & Fiction', 'Kindle eBooks', 'Romance', 'Kindle eBooks', 'Science Fiction & Fantasy', 'Kindle eBooks', 'Literature & Fiction', 'Kindle eBooks', 'Romance', 'Kindle eBooks', 'Teen & Young Adult', 'Kindle eBooks', 'Literature & Fiction', 'Kindle eBooks', 'Literature & Fiction', 'Kindle eBooks', 'Mystery, Thriller & Suspense', 'Kindle eBooks', 'Literature & Fiction', 'Kindle eBooks', 'Literature & Fiction', 'Kindle eBooks', 'Literature & Fiction', 'Kindle eBooks', 'Mystery, Thriller & Suspense', 'Kindle eBooks', 'Romance', 'Kindle eBooks', 'Literature & Fiction', 'Kindle eBooks', 'Literature & Fiction', 'Kindle eBooks', 'Literature & Fiction', 'Kindle eBooks', 'Literature & Fiction', 'Kindle eBooks', 'Literature & Fiction', 'Kindle eBooks', 'Literature & Fiction', 'Kindle eBooks', 'Literature & Fiction', 'Kindle eBooks', \"Children's eBooks\", 'Kindle eBooks', 'Mystery, Thriller & Suspense', 'Kindle eBooks', 'Literature & Fiction', 'Kindle eBooks', 'Teen & Young Adult', 'Kindle eBooks', 'Literature & Fiction', 'Kindle eBooks', 'Literature & Fiction', 'Kindle eBooks', \"Children's eBooks\", 'Kindle eBooks', 'Literature & Fiction', 'Kindle eBooks', 'Mystery, Thriller & Suspense', 'Kindle eBooks', 'Romance', 'Kindle eBooks', 'Romance', 'Kindle eBooks', 'Literature & Fiction', 'Kindle eBooks', 'Science Fiction & Fantasy', 'Kindle eBooks', 'Teen & Young Adult', 'Kindle eBooks', 'Literature & Fiction', 'Kindle eBooks', 'Romance', 'Kindle eBooks', 'Literature & Fiction', 'Kindle eBooks', 'Romance', 'Kindle eBooks', 'Literature & Fiction', 'Kindle eBooks', 'Romance', 'Kindle eBooks', 'Literature & Fiction', 'Kindle eBooks', 'Literature & Fiction', 'Kindle eBooks', 'Literature & Fiction', 'Kindle eBooks', 'Literature & Fiction', 'Kindle eBooks', 'Romance', 'Kindle eBooks', 'Mystery, Thriller & Suspense', 'Kindle eBooks', 'Literature & Fiction', 'Kindle eBooks', 'Literature & Fiction', 'Kindle eBooks', 'Education & Teaching', 'Kindle eBooks', 'Literature & Fiction', 'Kindle eBooks', 'Science Fiction & Fantasy', 'Kindle eBooks', 'Romance', 'Kindle eBooks', 'Literature & Fiction', 'Kindle eBooks', 'Literature & Fiction', 'Kindle eBooks', 'Literature & Fiction', 'Kindle eBooks', 'Romance', 'Kindle eBooks', 'Literature & Fiction', 'Kindle eBooks', 'Romance', 'Kindle eBooks', 'Romance', 'Kindle eBooks', 'Politics & Social Sciences', 'Kindle eBooks', 'Literature & Fiction', 'Kindle eBooks', 'Science Fiction & Fantasy', 'Kindle eBooks', 'Literature & Fiction', 'Kindle eBooks', 'Literature & Fiction', 'Kindle eBooks', 'Romance', 'Kindle eBooks', 'Romance', 'Kindle eBooks', 'Literature & Fiction', 'Kindle eBooks', 'Literature & Fiction', 'Kindle eBooks', 'Literature & Fiction', 'Kindle eBooks', 'Literature & Fiction', 'Kindle eBooks', 'Romance', 'Kindle eBooks', 'Literature & Fiction', 'Kindle eBooks', 'Mystery, Thriller & Suspense', 'Kindle eBooks', 'Religion & Spirituality', 'Kindle eBooks', 'Reference', 'Kindle eBooks', 'Literature & Fiction', 'Kindle eBooks', 'Literature & Fiction', 'Kindle eBooks', 'Science Fiction & Fantasy', 'Kindle eBooks', 'Literature & Fiction', 'Kindle eBooks', 'Literature & Fiction', 'Kindle eBooks', 'Literature & Fiction', 'Kindle eBooks', 'Literature & Fiction', 'Kindle eBooks', 'Romance', 'Kindle eBooks', 'Literature & Fiction', 'Kindle eBooks', 'Literature & Fiction', 'Kindle eBooks', 'Romance', 'Kindle eBooks', 'Literature & Fiction', 'Kindle eBooks', 'Teen & Young Adult', 'Kindle eBooks', 'Literature & Fiction', 'Kindle eBooks', 'Literature & Fiction', 'Kindle eBooks', 'Romance', 'Kindle eBooks', 'Literature & Fiction', 'Kindle eBooks', 'Biographies & Memoirs', 'Kindle eBooks', 'Cookbooks, Food & Wine', 'Kindle eBooks', 'Literature & Fiction', 'Kindle eBooks', \"Children's eBooks\", 'Kindle eBooks', 'Literature & Fiction', 'Kindle eBooks', 'Literature & Fiction', 'Kindle eBooks', 'Romance', 'Kindle eBooks', 'Literature & Fiction', 'Kindle eBooks', 'Literature & Fiction', 'Kindle eBooks', 'Literature & Fiction', 'Kindle eBooks', 'Science Fiction & Fantasy', 'Kindle eBooks', 'Romance', 'Kindle eBooks', 'Romance', 'Kindle eBooks', 'Literature & Fiction', 'Kindle eBooks', 'Literature & Fiction', 'Kindle eBooks', 'Romance', 'Kindle eBooks', 'Literature & Fiction', 'Kindle eBooks', 'Literature & Fiction', 'Kindle eBooks', 'Literature & Fiction', 'Kindle eBooks', 'Literature & Fiction', 'Kindle eBooks', 'Literature & Fiction', 'Kindle eBooks', 'Literature & Fiction', 'Kindle eBooks', 'Literature & Fiction', 'Kindle eBooks', 'Literature & Fiction', 'Kindle eBooks', 'Literature & Fiction', 'Kindle eBooks', 'Literature & Fiction', 'Kindle eBooks', 'Literature & Fiction', 'Kindle eBooks', 'Literature & Fiction', 'Kindle eBooks', 'Literature & Fiction', 'Kindle eBooks', 'Literature & Fiction', 'Kindle eBooks', 'Mystery, Thriller & Suspense', 'Kindle eBooks', 'Literature & Fiction', 'Kindle eBooks', 'Romance', 'Kindle eBooks', 'Literature & Fiction', 'Kindle eBooks', 'Literature & Fiction', 'Kindle eBooks', 'Literature & Fiction', 'Kindle eBooks', 'Literature & Fiction', 'Kindle eBooks', 'Mystery, Thriller & Suspense', 'Kindle eBooks', 'Literature & Fiction', 'Kindle eBooks', 'Literature & Fiction', 'Kindle eBooks', 'Literature & Fiction', 'Kindle eBooks', 'Mystery, Thriller & Suspense', 'Kindle eBooks', 'Literature & Fiction', 'Kindle eBooks', 'Mystery, Thriller & Suspense', 'Kindle eBooks', 'Literature & Fiction', 'Kindle eBooks', 'Romance', 'Kindle eBooks', 'Science Fiction & Fantasy', 'Kindle eBooks', 'Romance', 'Kindle eBooks', 'Literature & Fiction', 'Kindle eBooks', 'Romance', 'Kindle eBooks', 'Literature & Fiction', 'Kindle eBooks', 'Literature & Fiction', 'Kindle eBooks', 'Romance', 'Kindle eBooks', 'Literature & Fiction', 'Kindle eBooks', 'Romance', 'Kindle eBooks', 'Literature & Fiction', 'Kindle eBooks', 'Literature & Fiction', 'Kindle eBooks', 'Romance', 'Kindle eBooks', 'Literature & Fiction', 'Kindle eBooks', 'Literature & Fiction', 'Kindle eBooks', 'Teen & Young Adult', 'Kindle eBooks', 'Literature & Fiction', 'Kindle eBooks', 'Teen & Young Adult', 'Kindle eBooks', 'Politics & Social Sciences', 'Kindle eBooks', 'Mystery, Thriller & Suspense', 'Kindle eBooks', 'Cookbooks, Food & Wine', 'Kindle eBooks', 'Literature & Fiction', 'Kindle eBooks', 'Literature & Fiction', 'Kindle eBooks', 'Mystery, Thriller & Suspense', 'Kindle eBooks', 'Religion & Spirituality', 'Kindle eBooks', 'Literature & Fiction', 'Kindle eBooks', 'Literature & Fiction', 'Kindle eBooks', 'Literature & Fiction', 'Kindle eBooks', 'Romance', 'Kindle eBooks', 'Romance', 'Kindle eBooks', 'Literature & Fiction', 'Kindle eBooks', 'Science Fiction & Fantasy', 'Kindle eBooks', 'Romance', 'Kindle eBooks', 'Health, Fitness & Dieting', 'Kindle eBooks', 'Literature & Fiction', 'Kindle eBooks', 'Travel', 'Kindle eBooks', 'Romance', 'Kindle eBooks', 'Literature & Fiction', 'Kindle eBooks', 'Mystery, Thriller & Suspense', 'Kindle eBooks', 'Teen & Young Adult', 'Kindle eBooks', 'Literature & Fiction', 'Kindle eBooks', 'Mystery, Thriller & Suspense', 'Kindle eBooks', 'Literature & Fiction', 'Kindle eBooks', 'Literature & Fiction', 'Kindle eBooks', 'Crafts, Hobbies & Home', 'Kindle eBooks', 'Literature & Fiction', 'Kindle eBooks', 'Romance', 'Kindle eBooks', 'Romance', 'Kindle eBooks', 'Science Fiction & Fantasy', 'Kindle eBooks', 'Literature & Fiction', 'Kindle eBooks', 'Literature & Fiction', 'Kindle eBooks', 'Literature & Fiction', 'Kindle eBooks', 'Romance', 'Kindle eBooks', 'Romance', 'Kindle eBooks', 'Romance', 'Kindle eBooks', 'Literature & Fiction', 'Kindle eBooks', 'Mystery, Thriller & Suspense', 'Kindle eBooks', 'Romance', 'Kindle eBooks', 'Romance', 'Kindle eBooks', 'Romance', 'Kindle eBooks', 'Mystery, Thriller & Suspense', 'Kindle eBooks', 'Literature & Fiction', 'Kindle eBooks', 'Literature & Fiction', 'Kindle eBooks', 'Business & Money', 'Kindle eBooks', 'Romance', 'Kindle eBooks', 'Teen & Young Adult', 'Kindle eBooks', 'Literature & Fiction', 'Kindle eBooks', 'Literature & Fiction', 'Kindle eBooks', 'Literature & Fiction', 'Kindle eBooks', 'Mystery, Thriller & Suspense', 'Kindle eBooks', 'Romance', 'Kindle eBooks', 'Teen & Young Adult', 'Kindle eBooks', 'Romance', 'Kindle eBooks', 'Literature & Fiction', 'Kindle eBooks', 'Romance', 'Kindle eBooks', 'Romance', 'Kindle eBooks', 'Literature & Fiction', 'Kindle eBooks', 'Literature & Fiction', 'Kindle eBooks', 'Romance', 'Kindle eBooks', 'Romance', 'Kindle eBooks', 'Romance', 'Kindle eBooks', 'Literature & Fiction', 'Kindle eBooks', 'Romance', 'Kindle eBooks', 'Romance', 'Kindle eBooks', 'Science Fiction & Fantasy', 'Kindle eBooks', 'Literature & Fiction', 'Kindle eBooks', 'Teen & Young Adult', 'Kindle eBooks', 'Religion & Spirituality', 'Kindle eBooks', 'Literature & Fiction', 'Kindle eBooks', 'Romance', 'Kindle eBooks', 'Romance', 'Kindle eBooks', 'Romance', 'Kindle eBooks', 'Romance', 'Kindle eBooks', 'Religion & Spirituality', 'Kindle eBooks', 'Romance', 'Kindle eBooks', 'Literature & Fiction', 'Kindle eBooks', 'Literature & Fiction', 'Kindle eBooks', 'Business & Money', 'Kindle eBooks', 'Literature & Fiction', 'Kindle eBooks', 'Religion & Spirituality', 'Kindle eBooks', 'Romance', 'Kindle eBooks', 'Romance', 'Kindle eBooks', 'Literature & Fiction', 'Kindle eBooks', 'Literature & Fiction', 'Kindle eBooks', 'Cookbooks, Food & Wine', 'Kindle eBooks', 'Science Fiction & Fantasy', 'Kindle eBooks', 'Romance', 'Kindle eBooks', 'Literature & Fiction', 'Kindle eBooks', 'Literature & Fiction', 'Kindle eBooks', 'Mystery, Thriller & Suspense', 'Kindle eBooks', 'Literature & Fiction', 'Kindle eBooks', 'Literature & Fiction', 'Kindle eBooks', 'Literature & Fiction', 'Kindle eBooks', 'Teen & Young Adult', 'Kindle eBooks', 'Literature & Fiction', 'Kindle eBooks', 'Romance', 'Kindle eBooks', 'Literature & Fiction', 'Kindle eBooks', 'Literature & Fiction', 'Kindle eBooks', 'Religion & Spirituality', 'Kindle eBooks', 'Literature & Fiction', 'Kindle eBooks', 'Literature & Fiction', 'Kindle eBooks', 'Teen & Young Adult', 'Kindle eBooks', 'Religion & Spirituality', 'Kindle eBooks', 'Literature & Fiction', 'Kindle eBooks', 'Romance', 'Kindle eBooks', 'Mystery, Thriller & Suspense', 'Kindle eBooks', 'Mystery, Thriller & Suspense', 'Kindle eBooks', 'Literature & Fiction', 'Kindle eBooks', 'Literature & Fiction', 'Kindle eBooks', 'Literature & Fiction', 'Kindle eBooks', 'Romance', 'Kindle eBooks', 'Literature & Fiction', 'Kindle eBooks', 'Mystery, Thriller & Suspense', 'Kindle eBooks', \"Children's eBooks\", 'Kindle eBooks', 'Literature & Fiction', 'Kindle eBooks', 'Literature & Fiction', 'Kindle eBooks', 'Literature & Fiction', 'Kindle eBooks', 'Literature & Fiction', 'Kindle eBooks', 'Literature & Fiction', 'Kindle eBooks', 'Biographies & Memoirs', 'Kindle eBooks', 'Romance', 'Kindle eBooks', 'Religion & Spirituality', 'Kindle eBooks', 'Literature & Fiction', 'Kindle eBooks', 'Cookbooks, Food & Wine', 'Kindle eBooks', 'Literature & Fiction', 'Kindle eBooks', 'Literature & Fiction', 'Kindle eBooks', 'Literature & Fiction', 'Kindle eBooks', 'Literature & Fiction', 'Kindle eBooks', 'Science Fiction & Fantasy', 'Kindle eBooks', 'Literature & Fiction', 'Kindle eBooks', 'Literature & Fiction', 'Kindle eBooks', 'Literature & Fiction', 'Kindle eBooks', 'Religion & Spirituality', 'Kindle eBooks', 'Literature & Fiction', 'Kindle eBooks', 'Literature & Fiction', 'Kindle eBooks', 'Health, Fitness & Dieting', 'Kindle eBooks', 'Literature & Fiction', 'Kindle eBooks', 'Literature & Fiction', 'Kindle eBooks', 'Romance', 'Kindle eBooks', 'Literature & Fiction', 'Kindle eBooks', 'Romance', 'Kindle eBooks', 'Mystery, Thriller & Suspense', 'Kindle eBooks', 'Romance', 'Kindle eBooks', 'Literature & Fiction', 'Kindle eBooks', 'Literature & Fiction', 'Kindle eBooks', 'Literature & Fiction', 'Kindle eBooks', 'Business & Money', 'Kindle eBooks', 'Literature & Fiction', 'Kindle eBooks', 'Literature & Fiction', 'Kindle eBooks', 'Literature & Fiction', 'Kindle eBooks', 'Romance', 'Kindle eBooks', 'Literature & Fiction', 'Kindle eBooks', 'Literature & Fiction', 'Kindle eBooks', 'Literature & Fiction', 'Kindle eBooks', 'Romance', 'Kindle eBooks', 'Romance', 'Kindle eBooks', 'Science Fiction & Fantasy', 'Kindle eBooks', 'Literature & Fiction', 'Kindle eBooks', 'Literature & Fiction', 'Kindle eBooks', 'Religion & Spirituality', 'Kindle eBooks', 'Literature & Fiction', 'Kindle eBooks', 'Literature & Fiction', 'Kindle eBooks', 'Literature & Fiction', 'Kindle eBooks', 'Romance', 'Kindle eBooks', 'Literature & Fiction', 'Kindle eBooks', 'Science Fiction & Fantasy', 'Kindle eBooks', 'Religion & Spirituality', 'Kindle eBooks', 'Romance', 'Kindle eBooks', 'Mystery, Thriller & Suspense', 'Kindle eBooks', 'Science Fiction & Fantasy', 'Kindle eBooks', 'Literature & Fiction', 'Kindle eBooks', 'Literature & Fiction', 'Kindle eBooks', 'Literature & Fiction', 'Kindle eBooks', 'Romance', 'Kindle eBooks', 'Romance', 'Kindle eBooks', 'Religion & Spirituality', 'Kindle eBooks', 'Romance', 'Kindle eBooks', 'Literature & Fiction', 'Kindle eBooks', 'Romance', 'Kindle eBooks', 'Literature & Fiction', 'Kindle eBooks', 'Romance', 'Kindle eBooks', 'Literature & Fiction', 'Kindle eBooks', 'Literature & Fiction', 'Kindle eBooks', 'Romance', 'Kindle eBooks', 'Religion & Spirituality', 'Kindle eBooks', 'Romance', 'Kindle eBooks', 'Literature & Fiction', 'Kindle eBooks', 'Literature & Fiction', 'Kindle eBooks', 'Literature & Fiction', 'Kindle eBooks', 'Literature & Fiction', 'Kindle eBooks', 'Literature & Fiction', 'Kindle eBooks', 'Literature & Fiction', 'Kindle eBooks', 'Literature & Fiction', 'Kindle eBooks', 'Romance', 'Kindle eBooks', 'Literature & Fiction', 'Kindle eBooks', 'Literature & Fiction', 'Kindle eBooks', 'Teen & Young Adult', 'Kindle eBooks', 'Religion & Spirituality', 'Kindle eBooks', 'Literature & Fiction', 'Kindle eBooks', 'Literature & Fiction', 'Kindle eBooks', 'Romance', 'Kindle eBooks', 'Literature & Fiction', 'Kindle eBooks', 'Mystery, Thriller & Suspense', 'Kindle eBooks', 'Literature & Fiction', 'Kindle eBooks', 'Teen & Young Adult', 'Kindle eBooks', 'Romance', 'Kindle eBooks', 'Literature & Fiction', 'Kindle eBooks', 'Mystery, Thriller & Suspense', 'Kindle eBooks', 'Mystery, Thriller & Suspense', 'Kindle eBooks', 'Mystery, Thriller & Suspense', 'Kindle eBooks', \"Children's eBooks\", 'Kindle eBooks', \"Children's eBooks\", 'Kindle eBooks', 'Literature & Fiction', 'Kindle eBooks', 'Literature & Fiction', 'Kindle eBooks', 'Religion & Spirituality', 'Kindle eBooks', 'Literature & Fiction', 'Kindle eBooks', 'Literature & Fiction', 'Kindle eBooks', 'Literature & Fiction', 'Kindle eBooks', 'Religion & Spirituality', 'Kindle eBooks', 'Romance', 'Kindle eBooks', 'Literature & Fiction', 'Kindle eBooks', 'Literature & Fiction', 'Kindle eBooks', 'Literature & Fiction', 'Kindle eBooks', 'Romance', 'Kindle eBooks', 'Literature & Fiction', 'Kindle eBooks', 'Romance', 'Kindle eBooks', 'Romance', 'Kindle eBooks', 'Literature & Fiction', 'Kindle eBooks', 'Romance', 'Kindle eBooks', 'Literature & Fiction', 'Kindle eBooks', 'Literature & Fiction', 'Kindle eBooks', 'Literature & Fiction', 'Kindle eBooks', 'Literature & Fiction', 'Kindle eBooks', 'Literature & Fiction', 'Kindle eBooks', 'Literature & Fiction', 'Kindle eBooks', 'Biographies & Memoirs', 'Kindle eBooks', 'Literature & Fiction', 'Kindle eBooks', 'Health, Fitness & Dieting', 'Kindle eBooks', 'Science Fiction & Fantasy', 'Kindle eBooks', 'Romance', 'Kindle eBooks', 'Romance', 'Kindle eBooks', 'Teen & Young Adult', 'Kindle eBooks', 'Romance', 'Kindle eBooks', 'Health, Fitness & Dieting', 'Kindle eBooks', 'Literature & Fiction', 'Kindle eBooks', 'Literature & Fiction', 'Kindle eBooks', 'Literature & Fiction', 'Kindle eBooks', 'Literature & Fiction', 'Kindle eBooks', 'Literature & Fiction', 'Kindle eBooks', 'Romance', 'Kindle eBooks', 'Business & Money', 'Kindle eBooks', 'Literature & Fiction', 'Kindle eBooks', 'Literature & Fiction', 'Kindle eBooks', 'Literature & Fiction', 'Kindle eBooks', 'Literature & Fiction', 'Kindle eBooks', 'Romance', 'Kindle eBooks', 'Literature & Fiction', 'Kindle eBooks', 'Literature & Fiction', 'Kindle eBooks', 'Literature & Fiction', 'Kindle eBooks', 'Literature & Fiction', 'Kindle eBooks', 'Literature & Fiction', 'Kindle eBooks', 'Literature & Fiction', 'Kindle eBooks', 'Romance', 'Kindle eBooks', 'Literature & Fiction', 'Kindle eBooks', 'Science Fiction & Fantasy', 'Kindle eBooks', 'Science Fiction & Fantasy', 'Kindle eBooks', 'Romance', 'Kindle eBooks', 'Literature & Fiction', 'Kindle eBooks', 'Romance', 'Kindle eBooks', 'Romance', 'Kindle eBooks', 'Romance', 'Kindle eBooks', 'Science Fiction & Fantasy', 'Kindle eBooks', 'Science Fiction & Fantasy', 'Kindle eBooks', 'Literature & Fiction', 'Kindle eBooks', 'Romance', 'Kindle eBooks', 'Literature & Fiction', 'Kindle eBooks', 'Literature & Fiction', 'Kindle eBooks', 'Literature & Fiction', 'Kindle eBooks', 'Science Fiction & Fantasy', 'Kindle eBooks', 'Literature & Fiction', 'Kindle eBooks', 'Science Fiction & Fantasy', 'Kindle eBooks', 'Literature & Fiction', 'Kindle eBooks', 'Religion & Spirituality', 'Kindle eBooks', 'Literature & Fiction', 'Kindle eBooks', 'Romance', 'Kindle eBooks', 'Romance', 'Kindle eBooks', 'Science Fiction & Fantasy', 'Kindle eBooks', 'Romance', 'Kindle eBooks', 'Romance', 'Kindle eBooks', 'Romance', 'Kindle eBooks', 'Mystery, Thriller & Suspense', 'Kindle eBooks', 'Literature & Fiction', 'Kindle eBooks', 'Literature & Fiction', 'Kindle eBooks', 'Romance', 'Kindle eBooks', 'Science Fiction & Fantasy', 'Kindle eBooks', 'Religion & Spirituality', 'Kindle eBooks', 'Literature & Fiction', 'Kindle eBooks', 'Science Fiction & Fantasy', 'Kindle eBooks', 'Literature & Fiction', 'Kindle eBooks', 'Romance', 'Kindle eBooks', 'Mystery, Thriller & Suspense', 'Kindle eBooks', 'Romance', 'Kindle eBooks', 'Romance', 'Kindle eBooks', 'Romance', 'Kindle eBooks', 'Mystery, Thriller & Suspense', 'Kindle eBooks', 'Literature & Fiction', 'Kindle eBooks', 'Romance', 'Kindle eBooks', 'Romance', 'Kindle eBooks', 'Literature & Fiction', 'Kindle eBooks', 'Literature & Fiction', 'Kindle eBooks', 'Literature & Fiction', 'Kindle eBooks', 'Literature & Fiction', 'Kindle eBooks', 'Romance', 'Kindle eBooks', 'Literature & Fiction', 'Kindle eBooks', 'Teen & Young Adult', 'Kindle eBooks', 'Science Fiction & Fantasy', 'Kindle eBooks', 'Romance', 'Kindle eBooks', 'Teen & Young Adult', 'Kindle eBooks', 'Mystery, Thriller & Suspense', 'Kindle eBooks', 'Romance', 'Kindle eBooks', 'Literature & Fiction', 'Kindle eBooks', 'Teen & Young Adult', 'Kindle eBooks', 'Mystery, Thriller & Suspense', 'Kindle eBooks', 'Literature & Fiction', 'Kindle eBooks', 'Literature & Fiction', 'Kindle eBooks', 'Romance', 'Kindle eBooks', 'Literature & Fiction', 'Kindle eBooks', 'Mystery, Thriller & Suspense', 'Kindle eBooks', 'Literature & Fiction', 'Kindle eBooks', 'Literature & Fiction', 'Kindle eBooks', 'Literature & Fiction', 'Kindle eBooks', 'Literature & Fiction', 'Kindle eBooks', 'Mystery, Thriller & Suspense', 'Kindle eBooks', 'Literature & Fiction', 'Kindle eBooks', 'Mystery, Thriller & Suspense', 'Kindle eBooks', 'Romance', 'Kindle eBooks', 'Romance', 'Kindle eBooks', 'Literature & Fiction', 'Kindle eBooks', 'Literature & Fiction', 'Kindle eBooks', 'Literature & Fiction', 'Kindle eBooks', 'Literature & Fiction', 'Kindle eBooks', 'Literature & Fiction', 'Kindle eBooks', 'Literature & Fiction', 'Kindle eBooks', 'Romance', 'Kindle eBooks', 'Romance', 'Kindle eBooks', 'Romance', 'Kindle eBooks', 'Literature & Fiction', 'Kindle eBooks', 'Literature & Fiction', 'Kindle eBooks', 'Romance', 'Kindle eBooks', 'Science Fiction & Fantasy', 'Kindle eBooks', 'Literature & Fiction', 'Kindle eBooks', 'Science Fiction & Fantasy', 'Kindle eBooks', 'Literature & Fiction', 'Kindle eBooks', 'Romance', 'Kindle eBooks', 'Literature & Fiction', 'Kindle eBooks', 'Literature & Fiction', 'Kindle eBooks', 'Literature & Fiction', 'Kindle eBooks', 'Mystery, Thriller & Suspense', 'Kindle eBooks', 'Literature & Fiction', 'Kindle eBooks', 'Romance', 'Kindle eBooks', 'Mystery, Thriller & Suspense', 'Kindle eBooks', 'Science Fiction & Fantasy', 'Kindle eBooks', 'Literature & Fiction', 'Kindle eBooks', 'Romance', 'Kindle eBooks', 'Science Fiction & Fantasy', 'Kindle eBooks', 'Literature & Fiction', 'Kindle eBooks', 'Literature & Fiction', 'Kindle eBooks', 'Teen & Young Adult', 'Kindle eBooks', 'Literature & Fiction', 'Kindle eBooks', 'Literature & Fiction', 'Kindle eBooks', 'Literature & Fiction', 'Kindle eBooks', 'Teen & Young Adult', 'Kindle eBooks', 'Science Fiction & Fantasy', 'Kindle eBooks', \"Children's eBooks\", 'Kindle eBooks', 'Literature & Fiction', 'Kindle eBooks', 'Literature & Fiction', 'Kindle eBooks', 'Literature & Fiction', 'Kindle eBooks', 'Literature & Fiction', 'Kindle eBooks', 'Science Fiction & Fantasy', 'Kindle eBooks', 'Mystery, Thriller & Suspense', 'Kindle eBooks', 'Literature & Fiction', 'Kindle eBooks', 'Romance', 'Kindle eBooks', 'Romance', 'Kindle eBooks', 'Literature & Fiction', 'Kindle eBooks', 'Mystery, Thriller & Suspense', 'Kindle eBooks', 'Literature & Fiction', 'Kindle eBooks', 'Science Fiction & Fantasy', 'Kindle eBooks', 'Health, Fitness & Dieting', 'Kindle eBooks', 'Literature & Fiction', 'Kindle eBooks', 'Literature & Fiction', 'Kindle eBooks', 'Literature & Fiction', 'Kindle eBooks', 'Romance', 'Kindle eBooks', 'Mystery, Thriller & Suspense', 'Kindle eBooks', 'Literature & Fiction', 'Kindle eBooks', 'Literature & Fiction', 'Kindle eBooks', 'Politics & Social Sciences', 'Kindle eBooks', 'Romance', 'Kindle eBooks', 'Romance', 'Kindle eBooks', 'Science Fiction & Fantasy', 'Kindle eBooks', 'Literature & Fiction', 'Kindle eBooks', 'Mystery, Thriller & Suspense', 'Kindle eBooks', 'Literature & Fiction', 'Kindle eBooks', 'Romance', 'Kindle eBooks', 'Literature & Fiction', 'Kindle eBooks', 'Mystery, Thriller & Suspense', 'Kindle eBooks', 'Religion & Spirituality', 'Kindle eBooks', 'Religion & Spirituality', 'Kindle eBooks', 'Literature & Fiction', 'Kindle eBooks', 'Literature & Fiction', 'Kindle eBooks', 'Literature & Fiction', 'Kindle eBooks', 'Literature & Fiction', 'Kindle eBooks', 'Literature & Fiction', 'Kindle eBooks', 'Literature & Fiction', 'Kindle eBooks', 'Romance', 'Kindle eBooks', 'Romance', 'Kindle eBooks', 'Literature & Fiction', 'Kindle eBooks', 'Romance', 'Kindle eBooks', 'Literature & Fiction', 'Kindle eBooks', 'Romance', 'Kindle eBooks', 'Literature & Fiction', 'Kindle eBooks', 'Literature & Fiction', 'Kindle eBooks', 'Religion & Spirituality', 'Kindle eBooks', 'Literature & Fiction', 'Kindle eBooks', 'Romance', 'Kindle eBooks', 'Mystery, Thriller & Suspense', 'Kindle eBooks', 'Romance', 'Kindle eBooks', 'Romance', 'Kindle eBooks', 'Religion & Spirituality', 'Kindle eBooks', 'Literature & Fiction', 'Kindle eBooks', 'Literature & Fiction', 'Kindle eBooks', 'Literature & Fiction', 'Kindle eBooks', 'Literature & Fiction', 'Kindle eBooks', 'Literature & Fiction', 'Kindle eBooks', 'Mystery, Thriller & Suspense', 'Kindle eBooks', 'Romance', 'Kindle eBooks', 'Literature & Fiction', 'Kindle eBooks', 'Literature & Fiction', 'Kindle eBooks', 'Literature & Fiction', 'Kindle eBooks', 'Romance', 'Kindle eBooks', 'Literature & Fiction', 'Kindle eBooks', 'Literature & Fiction', 'Kindle eBooks', 'Mystery, Thriller & Suspense', 'Kindle eBooks', 'Romance', 'Kindle eBooks', 'Literature & Fiction', 'Kindle eBooks', 'Literature & Fiction', 'Kindle eBooks', 'Romance', 'Kindle eBooks', 'Literature & Fiction', 'Kindle eBooks', 'Literature & Fiction', 'Kindle eBooks', 'Romance', 'Kindle eBooks', 'Literature & Fiction', 'Kindle eBooks', 'Science & Math', 'Kindle eBooks', 'Literature & Fiction', 'Kindle eBooks', 'Mystery, Thriller & Suspense', 'Kindle eBooks', 'Religion & Spirituality', 'Kindle eBooks', 'Literature & Fiction', 'Kindle eBooks', 'Literature & Fiction', 'Kindle eBooks', 'Mystery, Thriller & Suspense', 'Kindle eBooks', 'Literature & Fiction', 'Kindle eBooks', 'Literature & Fiction', 'Kindle eBooks', 'Literature & Fiction', 'Kindle eBooks', 'Romance', 'Kindle eBooks', 'Literature & Fiction', 'Kindle eBooks', 'Literature & Fiction', 'Kindle eBooks', 'Romance', 'Kindle eBooks', 'Literature & Fiction', 'Kindle eBooks', 'Science Fiction & Fantasy', 'Kindle eBooks', 'Religion & Spirituality', 'Kindle eBooks', 'Mystery, Thriller & Suspense', 'Kindle eBooks', 'Literature & Fiction', 'Kindle eBooks', 'Romance', 'Kindle eBooks', 'Romance', 'Kindle eBooks', 'Mystery, Thriller & Suspense', 'Kindle eBooks', 'Science Fiction & Fantasy', 'Kindle eBooks', 'Religion & Spirituality', 'Kindle eBooks', 'Literature & Fiction', 'Kindle eBooks', 'Romance', 'Kindle eBooks', 'Romance', 'Kindle eBooks', 'Teen & Young Adult', 'Kindle eBooks', 'Literature & Fiction', 'Kindle eBooks', \"Children's eBooks\", 'Kindle eBooks', 'Health, Fitness & Dieting', 'Kindle eBooks', 'Teen & Young Adult', 'Kindle eBooks', 'Science Fiction & Fantasy', 'Kindle eBooks', 'Literature & Fiction', 'Kindle eBooks', 'Science Fiction & Fantasy', 'Kindle eBooks', 'Literature & Fiction', 'Kindle eBooks', 'Literature & Fiction', 'Kindle eBooks', 'Literature & Fiction', 'Kindle eBooks', 'Literature & Fiction', 'Kindle eBooks', 'Literature & Fiction', 'Kindle eBooks', 'Romance', 'Kindle eBooks', 'Literature & Fiction', 'Kindle eBooks', 'Romance', 'Kindle eBooks', 'Romance', 'Kindle eBooks', 'Literature & Fiction', 'Kindle eBooks', 'Romance', 'Kindle eBooks', 'Religion & Spirituality', 'Kindle eBooks', 'Literature & Fiction', 'Kindle eBooks', 'Romance', 'Kindle eBooks', 'Literature & Fiction', 'Kindle eBooks', 'Literature & Fiction', 'Kindle eBooks', \"Children's eBooks\", 'Kindle eBooks', 'Literature & Fiction', 'Kindle eBooks', 'Science Fiction & Fantasy', 'Kindle eBooks', 'Literature & Fiction', 'Kindle eBooks', 'Literature & Fiction', 'Kindle eBooks', 'Romance', 'Kindle eBooks', 'Mystery, Thriller & Suspense', 'Kindle eBooks', 'Romance', 'Kindle eBooks', 'Romance', 'Kindle eBooks', 'Mystery, Thriller & Suspense', 'Kindle eBooks', 'Literature & Fiction', 'Kindle eBooks', 'Science Fiction & Fantasy', 'Kindle eBooks', 'Literature & Fiction', 'Kindle eBooks', 'Business & Money', 'Kindle eBooks', 'Literature & Fiction', 'Kindle eBooks', 'Literature & Fiction', 'Kindle eBooks', 'Literature & Fiction', 'Kindle eBooks', 'Romance', 'Kindle eBooks', 'Literature & Fiction', 'Kindle eBooks', 'Romance', 'Kindle eBooks', 'Literature & Fiction', 'Kindle eBooks', 'Literature & Fiction', 'Kindle eBooks', 'Mystery, Thriller & Suspense', 'Kindle eBooks', 'Literature & Fiction', 'Kindle eBooks', 'Literature & Fiction', 'Kindle eBooks', 'Literature & Fiction', 'Kindle eBooks', 'Mystery, Thriller & Suspense', 'Kindle eBooks', 'Literature & Fiction', 'Kindle eBooks', 'Literature & Fiction', 'Kindle eBooks', 'Literature & Fiction', 'Kindle eBooks', 'Romance', 'Kindle eBooks', 'Literature & Fiction', 'Kindle eBooks', 'Literature & Fiction', 'Kindle eBooks', 'Romance', 'Kindle eBooks', 'Literature & Fiction', 'Kindle eBooks', 'Literature & Fiction', 'Kindle eBooks', 'Literature & Fiction', 'Kindle eBooks', 'Literature & Fiction', 'Kindle eBooks', 'Literature & Fiction', 'Kindle eBooks', 'Literature & Fiction', 'Kindle eBooks', 'Literature & Fiction', 'Kindle eBooks', 'Literature & Fiction', 'Kindle eBooks', 'Romance', 'Kindle eBooks', 'Literature & Fiction', 'Kindle eBooks', 'Literature & Fiction', 'Kindle eBooks', 'Science Fiction & Fantasy', 'Kindle eBooks', 'Religion & Spirituality', 'Kindle eBooks', 'Romance', 'Kindle eBooks', 'Romance', 'Kindle eBooks', 'Science Fiction & Fantasy', 'Kindle eBooks', 'Romance', 'Kindle eBooks', 'Literature & Fiction', 'Kindle eBooks', 'Literature & Fiction', 'Kindle eBooks', 'Literature & Fiction', 'Kindle eBooks', 'Religion & Spirituality', 'Kindle eBooks', 'Romance', 'Kindle eBooks', 'Romance', 'Kindle eBooks', 'Literature & Fiction', 'Kindle eBooks', 'Religion & Spirituality', 'Kindle eBooks', 'Literature & Fiction', 'Kindle eBooks', 'Literature & Fiction', 'Kindle eBooks', 'Health, Fitness & Dieting', 'Kindle eBooks', 'Literature & Fiction', 'Kindle eBooks', 'Teen & Young Adult', 'Kindle eBooks', 'Biographies & Memoirs', 'Kindle eBooks', 'Literature & Fiction', 'Kindle eBooks', 'Literature & Fiction', 'Kindle eBooks', 'Religion & Spirituality', 'Kindle eBooks', 'Literature & Fiction', 'Kindle eBooks', 'Literature & Fiction', 'Kindle eBooks', 'Literature & Fiction', 'Kindle eBooks', 'Literature & Fiction', 'Kindle eBooks', 'Computers & Technology', 'Kindle eBooks', 'Literature & Fiction', 'Kindle eBooks', 'Literature & Fiction', 'Kindle eBooks', 'Literature & Fiction', 'Kindle eBooks', 'Literature & Fiction', 'Kindle eBooks', 'Literature & Fiction', 'Kindle eBooks', 'Romance', 'Kindle eBooks', 'Literature & Fiction', 'Kindle eBooks', 'Religion & Spirituality', 'Kindle eBooks', 'Literature & Fiction', 'Kindle eBooks', 'Romance', 'Kindle eBooks', 'Literature & Fiction', 'Kindle eBooks', 'Literature & Fiction', 'Kindle eBooks', 'Literature & Fiction', 'Kindle eBooks', 'Literature & Fiction', 'Kindle eBooks', 'Literature & Fiction', 'Kindle eBooks', 'Romance', 'Kindle eBooks', 'Literature & Fiction', 'Kindle eBooks', 'Science Fiction & Fantasy', 'Kindle eBooks', 'Literature & Fiction', 'Kindle eBooks', 'Romance', 'Kindle eBooks', 'Mystery, Thriller & Suspense', 'Kindle eBooks', 'Romance', 'Kindle eBooks', 'Reference', 'Kindle eBooks', 'Romance', 'Kindle eBooks', 'Biographies & Memoirs', 'Kindle eBooks', 'Science Fiction & Fantasy', 'Kindle eBooks', 'Literature & Fiction', 'Kindle eBooks', 'Literature & Fiction', 'Kindle eBooks', 'Literature & Fiction', 'Kindle eBooks', 'Literature & Fiction', 'Kindle eBooks', 'Literature & Fiction', 'Kindle eBooks', 'Romance', 'Kindle eBooks', 'Literature & Fiction', 'Kindle eBooks', 'Literature & Fiction', 'Kindle eBooks', 'Mystery, Thriller & Suspense', 'Kindle eBooks', 'Science Fiction & Fantasy', 'Kindle eBooks', 'Literature & Fiction', 'Kindle eBooks', 'Mystery, Thriller & Suspense', 'Kindle eBooks', 'Literature & Fiction', 'Kindle eBooks', 'Romance', 'Kindle eBooks', 'Romance', 'Kindle eBooks', 'Literature & Fiction', 'Kindle eBooks', 'Mystery, Thriller & Suspense', 'Kindle eBooks', 'Romance', 'Kindle eBooks', 'Science Fiction & Fantasy', 'Kindle eBooks', 'Mystery, Thriller & Suspense', 'Kindle eBooks', 'Literature & Fiction', 'Kindle eBooks', 'Literature & Fiction', 'Kindle eBooks', 'Literature & Fiction', 'Kindle eBooks', 'Literature & Fiction', 'Kindle eBooks', 'Health, Fitness & Dieting', 'Kindle eBooks', 'Mystery, Thriller & Suspense', 'Kindle eBooks', 'Literature & Fiction', 'Kindle eBooks', 'Comics, Manga & Graphic Novels', 'Kindle eBooks', 'Romance', 'Kindle eBooks', 'Literature & Fiction', 'Kindle eBooks', 'Mystery, Thriller & Suspense', 'Kindle eBooks', 'Romance', 'Kindle eBooks', 'Romance', 'Kindle eBooks', 'Science Fiction & Fantasy', 'Kindle eBooks', 'Literature & Fiction', 'Kindle eBooks', 'Literature & Fiction', 'Kindle eBooks', 'Romance', 'Kindle eBooks', 'Teen & Young Adult', 'Kindle eBooks', 'Literature & Fiction', 'Kindle eBooks', 'Religion & Spirituality', 'Kindle eBooks', 'Literature & Fiction', 'Kindle eBooks', 'Literature & Fiction', 'Kindle eBooks', 'Science Fiction & Fantasy', 'Kindle eBooks', 'Science Fiction & Fantasy', 'Kindle eBooks', 'Romance', 'Kindle eBooks', 'Romance', 'Kindle eBooks', 'Literature & Fiction', 'Kindle eBooks', 'Literature & Fiction', 'Kindle eBooks', 'Romance', 'Kindle eBooks', 'Literature & Fiction', 'Kindle eBooks', 'Mystery, Thriller & Suspense', 'Kindle eBooks', 'Literature & Fiction', 'Kindle eBooks', 'Romance', 'Kindle eBooks', 'Literature & Fiction', 'Kindle eBooks', 'Romance', 'Kindle eBooks', 'Literature & Fiction', 'Kindle eBooks', 'Mystery, Thriller & Suspense', 'Kindle eBooks', 'Science Fiction & Fantasy', 'Kindle eBooks', 'Romance', 'Kindle eBooks', 'Literature & Fiction', 'Kindle eBooks', 'Romance', 'Kindle eBooks', 'Literature & Fiction', 'Kindle eBooks', 'Literature & Fiction', 'Kindle eBooks', 'Literature & Fiction', 'Kindle eBooks', 'Romance', 'Kindle eBooks', 'Mystery, Thriller & Suspense', 'Kindle eBooks', 'Literature & Fiction', 'Kindle eBooks', 'Romance', 'Kindle eBooks', 'Literature & Fiction', 'Kindle eBooks', 'Romance', 'Kindle eBooks', 'Romance', 'Kindle eBooks', 'Religion & Spirituality', 'Kindle eBooks', 'Romance', 'Kindle eBooks', 'Teen & Young Adult', 'Kindle eBooks', 'Romance', 'Kindle eBooks', 'Romance', 'Kindle eBooks', 'Romance', 'Kindle eBooks', 'Literature & Fiction', 'Kindle eBooks', 'Religion & Spirituality', 'Kindle eBooks', 'Literature & Fiction', 'Kindle eBooks', 'Religion & Spirituality', 'Kindle eBooks', 'Comics, Manga & Graphic Novels', 'Kindle eBooks', 'Romance', 'Kindle eBooks', 'Literature & Fiction', 'Kindle eBooks', 'Literature & Fiction', 'Kindle eBooks', 'Mystery, Thriller & Suspense', 'Kindle eBooks', 'Literature & Fiction', 'Kindle eBooks', 'Literature & Fiction', 'Kindle eBooks', 'Mystery, Thriller & Suspense', 'Kindle eBooks', 'Literature & Fiction', 'Kindle eBooks', 'Romance', 'Kindle eBooks', 'Literature & Fiction', 'Kindle eBooks', 'Literature & Fiction', 'Kindle eBooks', 'Science Fiction & Fantasy', 'Kindle eBooks', 'Literature & Fiction', 'Kindle eBooks', 'Romance', 'Kindle eBooks', 'Religion & Spirituality', 'Kindle eBooks', 'Religion & Spirituality', 'Kindle eBooks', 'Mystery, Thriller & Suspense', 'Kindle eBooks', 'Romance', 'Kindle eBooks', 'Romance', 'Kindle eBooks', 'Mystery, Thriller & Suspense', 'Kindle eBooks', 'Religion & Spirituality', 'Kindle eBooks', 'Religion & Spirituality', 'Kindle eBooks', 'Arts & Photography', 'Kindle eBooks', 'Health, Fitness & Dieting', 'Kindle eBooks', 'Business & Money', 'Kindle eBooks', 'Romance', 'Kindle eBooks', 'Literature & Fiction', 'Kindle eBooks', 'Romance', 'Kindle eBooks', 'Romance', 'Kindle eBooks', 'Literature & Fiction', 'Kindle eBooks', 'Literature & Fiction', 'Kindle eBooks', 'Literature & Fiction', 'Kindle eBooks', 'Romance', 'Kindle eBooks', 'Romance', 'Kindle eBooks', 'Romance', 'Kindle eBooks', 'Religion & Spirituality', 'Kindle eBooks', 'Mystery, Thriller & Suspense', 'Kindle eBooks', 'Literature & Fiction', 'Kindle eBooks', 'Mystery, Thriller & Suspense', 'Kindle eBooks', 'Literature & Fiction', 'Kindle eBooks', 'Romance', 'Kindle eBooks', 'Literature & Fiction', 'Kindle eBooks', 'Mystery, Thriller & Suspense', 'Kindle eBooks', 'Romance', 'Kindle eBooks', 'Biographies & Memoirs', 'Kindle eBooks', 'Romance', 'Kindle eBooks', 'Mystery, Thriller & Suspense', 'Kindle eBooks', 'Mystery, Thriller & Suspense', 'Kindle eBooks', 'Health, Fitness & Dieting', 'Kindle eBooks', 'Business & Money', 'Kindle eBooks', 'Health, Fitness & Dieting', 'Kindle eBooks', 'Health, Fitness & Dieting', 'Kindle eBooks', 'Health, Fitness & Dieting', 'Kindle eBooks', 'Literature & Fiction', 'Kindle eBooks', 'Mystery, Thriller & Suspense', 'Kindle eBooks', 'Mystery, Thriller & Suspense', 'Kindle eBooks', 'Mystery, Thriller & Suspense', 'Kindle eBooks', 'Religion & Spirituality', 'Kindle eBooks', 'Romance', 'Kindle eBooks', 'Literature & Fiction', 'Kindle eBooks', 'Romance', 'Kindle eBooks', 'Mystery, Thriller & Suspense', 'Kindle eBooks', 'Literature & Fiction', 'Kindle eBooks', 'Literature & Fiction', 'Kindle eBooks', 'Romance', 'Kindle eBooks', 'Romance', 'Kindle eBooks', 'Religion & Spirituality', 'Kindle eBooks', 'Literature & Fiction', 'Kindle eBooks', 'Mystery, Thriller & Suspense', 'Kindle eBooks', 'Mystery, Thriller & Suspense', 'Kindle eBooks', 'Romance', 'Kindle eBooks', 'Romance', 'Kindle eBooks', 'Mystery, Thriller & Suspense', 'Kindle eBooks', 'Literature & Fiction', 'Kindle eBooks', 'Comics, Manga & Graphic Novels', 'Kindle eBooks', 'Romance', 'Kindle eBooks', 'Romance', 'Kindle eBooks', 'Literature & Fiction', 'Kindle eBooks', 'Literature & Fiction', 'Kindle eBooks', 'Literature & Fiction', 'Kindle eBooks', 'Romance', 'Kindle eBooks', 'Literature & Fiction', 'Kindle eBooks', 'Romance', 'Kindle eBooks', 'Romance', 'Kindle eBooks', 'Romance', 'Kindle eBooks', 'Literature & Fiction', 'Kindle eBooks', 'Literature & Fiction', 'Kindle eBooks', 'Mystery, Thriller & Suspense', 'Kindle eBooks', 'Romance', 'Kindle eBooks', 'Literature & Fiction', 'Kindle eBooks', 'Science Fiction & Fantasy', 'Kindle eBooks', 'Literature & Fiction', 'Kindle eBooks', 'Religion & Spirituality', 'Kindle eBooks', 'Romance', 'Kindle eBooks', 'Literature & Fiction', 'Kindle eBooks', 'Romance', 'Kindle eBooks', 'Crafts, Hobbies & Home', 'Kindle eBooks', 'Literature & Fiction', 'Kindle eBooks', 'Romance', 'Kindle eBooks', 'Science Fiction & Fantasy', 'Kindle eBooks', \"Children's eBooks\", 'Kindle eBooks', 'Literature & Fiction', 'Kindle eBooks', 'Romance', 'Kindle eBooks', 'Teen & Young Adult', 'Kindle eBooks', 'Literature & Fiction', 'Kindle eBooks', 'Literature & Fiction', 'Kindle eBooks', 'Romance', 'Kindle eBooks', 'Literature & Fiction', 'Kindle eBooks', 'Business & Money', 'Kindle eBooks', 'Literature & Fiction', 'Kindle eBooks', 'Literature & Fiction', 'Kindle eBooks', 'Literature & Fiction', 'Kindle eBooks', 'Literature & Fiction', 'Kindle eBooks', 'Literature & Fiction', 'Kindle eBooks', 'Literature & Fiction', 'Kindle eBooks', 'Science Fiction & Fantasy', 'Kindle eBooks', 'Literature & Fiction', 'Kindle eBooks', 'Romance', 'Kindle eBooks', 'Literature & Fiction', 'Kindle eBooks', 'Literature & Fiction', 'Kindle eBooks', 'Science Fiction & Fantasy', 'Kindle eBooks', 'Literature & Fiction', 'Kindle eBooks', 'Literature & Fiction', 'Kindle eBooks', 'Literature & Fiction', 'Kindle eBooks', 'Literature & Fiction', 'Kindle eBooks', 'Literature & Fiction', 'Kindle eBooks', 'Romance', 'Kindle eBooks', 'Romance', 'Kindle eBooks', 'Mystery, Thriller & Suspense', 'Kindle eBooks', 'Romance', 'Kindle eBooks', 'Romance', 'Kindle eBooks', 'Religion & Spirituality', 'Kindle eBooks', 'Romance', 'Kindle eBooks', 'Science Fiction & Fantasy', 'Kindle eBooks', 'Biographies & Memoirs', 'Kindle eBooks', 'Literature & Fiction', 'Kindle eBooks', 'Humor & Entertainment', 'Kindle eBooks', 'Religion & Spirituality', 'Kindle eBooks', 'Literature & Fiction', 'Kindle eBooks', 'Romance', 'Kindle eBooks', 'Literature & Fiction', 'Kindle eBooks', 'Literature & Fiction', 'Kindle eBooks', 'Science Fiction & Fantasy', 'Kindle eBooks', \"Children's eBooks\", 'Kindle eBooks', 'Literature & Fiction', 'Kindle eBooks', 'Science Fiction & Fantasy', 'Kindle eBooks', 'Self-Help', 'Kindle eBooks', 'Romance', 'Kindle eBooks', 'Literature & Fiction', 'Kindle eBooks', 'Romance', 'Kindle eBooks', 'Mystery, Thriller & Suspense', 'Kindle eBooks', 'Romance', 'Kindle eBooks', 'Literature & Fiction', 'Kindle eBooks', 'Literature & Fiction', 'Kindle eBooks', 'Romance', 'Kindle eBooks', 'Science Fiction & Fantasy', 'Kindle eBooks', 'Romance', 'Kindle eBooks', 'Romance', 'Kindle eBooks', 'Literature & Fiction', 'Kindle eBooks', 'Literature & Fiction', 'Kindle eBooks', 'Romance', 'Kindle eBooks', 'Romance', 'Kindle eBooks', 'Literature & Fiction', 'Kindle eBooks', 'Literature & Fiction', 'Kindle eBooks', 'Literature & Fiction', 'Kindle eBooks', 'Literature & Fiction', 'Kindle eBooks', 'Literature & Fiction', 'Kindle eBooks', 'Romance', 'Kindle eBooks', 'Romance', 'Kindle eBooks', 'Romance', 'Kindle eBooks', 'Literature & Fiction', 'Kindle eBooks', 'Romance', 'Kindle eBooks', 'Science & Math', 'Kindle eBooks', 'Literature & Fiction', 'Kindle eBooks', 'Literature & Fiction', 'Kindle eBooks', 'Literature & Fiction', 'Kindle eBooks', 'Literature & Fiction', 'Kindle eBooks', 'Romance', 'Kindle eBooks', 'Romance', 'Kindle eBooks', 'Literature & Fiction', 'Kindle eBooks', 'Science Fiction & Fantasy', 'Kindle eBooks', 'Literature & Fiction', 'Kindle eBooks', 'Crafts, Hobbies & Home', 'Kindle eBooks', 'Science Fiction & Fantasy', 'Kindle eBooks', 'Literature & Fiction', 'Kindle eBooks', 'Literature & Fiction', 'Kindle eBooks', 'Religion & Spirituality', 'Kindle eBooks', 'Romance', 'Kindle eBooks', 'Teen & Young Adult', 'Kindle eBooks', 'Literature & Fiction', 'Kindle eBooks', 'Science Fiction & Fantasy', 'Kindle eBooks', 'Religion & Spirituality', 'Kindle eBooks', 'Literature & Fiction', 'Kindle eBooks', 'Teen & Young Adult', 'Kindle eBooks', 'Literature & Fiction', 'Kindle eBooks', 'Literature & Fiction', 'Kindle eBooks', 'Romance', 'Kindle eBooks', 'Romance', 'Kindle eBooks', 'Teen & Young Adult', 'Kindle eBooks', 'Romance', 'Kindle eBooks', 'Literature & Fiction', 'Kindle eBooks', 'Teen & Young Adult', 'Kindle eBooks', 'Literature & Fiction', 'Kindle eBooks', 'Literature & Fiction', 'Kindle eBooks', 'Literature & Fiction', 'Kindle eBooks', 'Romance', 'Kindle eBooks', 'Romance', 'Kindle eBooks', 'Mystery, Thriller & Suspense', 'Kindle eBooks', 'Literature & Fiction', 'Kindle eBooks', 'Literature & Fiction', 'Kindle eBooks', 'Romance', 'Kindle eBooks', 'Humor & Entertainment', 'Kindle eBooks', 'Mystery, Thriller & Suspense', 'Kindle eBooks', 'Education & Teaching', 'Kindle eBooks', 'Literature & Fiction', 'Kindle eBooks', 'Literature & Fiction', 'Kindle eBooks', 'Literature & Fiction', 'Kindle eBooks', 'Literature & Fiction', 'Kindle eBooks', 'Mystery, Thriller & Suspense', 'Kindle eBooks', 'Literature & Fiction', 'Kindle eBooks', 'Literature & Fiction', 'Kindle eBooks', 'Literature & Fiction', 'Kindle eBooks', 'Literature & Fiction', 'Kindle eBooks', 'Romance', 'Kindle eBooks', 'Romance', 'Kindle eBooks', 'Romance', 'Kindle eBooks', 'Literature & Fiction', 'Kindle eBooks', 'Religion & Spirituality', 'Kindle eBooks', 'Mystery, Thriller & Suspense', 'Kindle eBooks', 'Romance', 'Kindle eBooks', 'Literature & Fiction', 'Kindle eBooks', 'Science Fiction & Fantasy', 'Kindle eBooks', 'Literature & Fiction', 'Kindle eBooks', 'Romance', 'Kindle eBooks', 'Literature & Fiction', 'Kindle eBooks', 'Romance', 'Kindle eBooks', 'Literature & Fiction', 'Kindle eBooks', 'Literature & Fiction', 'Kindle eBooks', 'Literature & Fiction', 'Kindle eBooks', 'Literature & Fiction', 'Kindle eBooks', 'Literature & Fiction', 'Kindle eBooks', 'Romance', 'Kindle eBooks', 'Religion & Spirituality', 'Kindle eBooks', 'Romance', 'Kindle eBooks', 'Literature & Fiction', 'Kindle eBooks', 'Literature & Fiction', 'Kindle eBooks', 'Literature & Fiction', 'Kindle eBooks', 'Religion & Spirituality', 'Kindle eBooks', 'Mystery, Thriller & Suspense', 'Kindle eBooks', 'Mystery, Thriller & Suspense', 'Kindle eBooks', 'Mystery, Thriller & Suspense', 'Kindle eBooks', 'Literature & Fiction', 'Kindle eBooks', 'Romance', 'Kindle eBooks', 'Literature & Fiction', 'Kindle eBooks', 'Literature & Fiction', 'Kindle eBooks', 'Literature & Fiction', 'Kindle eBooks', 'Literature & Fiction', 'Kindle eBooks', 'Literature & Fiction', 'Kindle eBooks', 'Religion & Spirituality', 'Kindle eBooks', 'Literature & Fiction', 'Kindle eBooks', 'Literature & Fiction', 'Kindle eBooks', 'Literature & Fiction', 'Kindle eBooks', 'Health, Fitness & Dieting', 'Kindle eBooks', 'Romance', 'Kindle eBooks', 'Romance', 'Kindle eBooks', 'Literature & Fiction', 'Kindle eBooks', 'Literature & Fiction', 'Kindle eBooks', 'Literature & Fiction', 'Kindle eBooks', 'Teen & Young Adult', 'Kindle eBooks', 'Religion & Spirituality', 'Kindle eBooks', 'Literature & Fiction', 'Kindle eBooks', 'Religion & Spirituality', 'Kindle eBooks', 'Romance', 'Kindle eBooks', 'Literature & Fiction', 'Kindle eBooks', 'Literature & Fiction', 'Kindle eBooks', 'Romance', 'Kindle eBooks', 'Romance', 'Kindle eBooks', 'Romance', 'Kindle eBooks', 'Literature & Fiction', 'Kindle eBooks', 'Romance', 'Kindle eBooks', 'Teen & Young Adult', 'Kindle eBooks', 'Romance', 'Kindle eBooks', 'Literature & Fiction', 'Kindle eBooks', 'Literature & Fiction', 'Kindle eBooks', 'Romance', 'Kindle eBooks', 'Romance', 'Kindle eBooks', 'Romance', 'Kindle eBooks', 'Romance', 'Kindle eBooks', 'Literature & Fiction', 'Kindle eBooks', 'Science Fiction & Fantasy', 'Kindle eBooks', 'Literature & Fiction', 'Kindle eBooks', 'Romance', 'Kindle eBooks', 'Romance', 'Kindle eBooks', 'Literature & Fiction', 'Kindle eBooks', 'Biographies & Memoirs', 'Kindle eBooks', \"Children's eBooks\", 'Kindle eBooks', 'Mystery, Thriller & Suspense', 'Kindle eBooks', 'Literature & Fiction', 'Kindle eBooks', 'Literature & Fiction', 'Kindle eBooks', 'Literature & Fiction', 'Kindle eBooks', 'Romance', 'Kindle eBooks', 'Teen & Young Adult', 'Kindle eBooks', 'Literature & Fiction', 'Kindle eBooks', 'Computers & Technology', 'Kindle eBooks', 'Mystery, Thriller & Suspense', 'Kindle eBooks', 'Teen & Young Adult', 'Kindle eBooks', 'Romance', 'Kindle eBooks', 'Romance', 'Kindle eBooks', 'Literature & Fiction', 'Kindle eBooks', 'Romance', 'Kindle eBooks', 'Literature & Fiction', 'Kindle eBooks', 'Literature & Fiction', 'Kindle eBooks', 'Literature & Fiction', 'Kindle eBooks', 'Science Fiction & Fantasy', 'Kindle eBooks', 'Mystery, Thriller & Suspense', 'Kindle eBooks', 'Science Fiction & Fantasy', 'Kindle eBooks', 'Science Fiction & Fantasy', 'Kindle eBooks', 'Religion & Spirituality', 'Kindle eBooks', 'Literature & Fiction', 'Kindle eBooks', 'Religion & Spirituality', 'Kindle eBooks', 'Literature & Fiction', 'Kindle eBooks', 'Romance', 'Kindle eBooks', 'Literature & Fiction', 'Kindle eBooks', 'Literature & Fiction', 'Kindle eBooks', 'Literature & Fiction', 'Kindle eBooks', 'Biographies & Memoirs', 'Kindle eBooks', 'Romance', 'Kindle eBooks', 'Romance', 'Kindle eBooks', 'Romance', 'Kindle eBooks', 'Literature & Fiction', 'Kindle eBooks', 'Literature & Fiction', 'Kindle eBooks', 'Literature & Fiction', 'Kindle eBooks', 'Romance', 'Kindle eBooks', 'Romance', 'Kindle eBooks', 'Romance', 'Kindle eBooks', 'Romance', 'Kindle eBooks', 'Literature & Fiction', 'Kindle eBooks', 'Literature & Fiction', 'Kindle eBooks', 'Romance', 'Kindle eBooks', 'Literature & Fiction', 'Kindle eBooks', 'Literature & Fiction', 'Kindle eBooks', 'Romance', 'Kindle eBooks', 'Literature & Fiction', 'Kindle eBooks', 'Romance', 'Kindle eBooks', 'Romance', 'Kindle eBooks', 'Science Fiction & Fantasy', 'Kindle eBooks', 'Romance', 'Kindle eBooks', 'Literature & Fiction', 'Kindle eBooks', 'Literature & Fiction', 'Kindle eBooks', 'Science Fiction & Fantasy', 'Kindle eBooks', 'Literature & Fiction', 'Kindle eBooks', 'Health, Fitness & Dieting', 'Kindle eBooks', 'Literature & Fiction', 'Kindle eBooks', 'Literature & Fiction', 'Kindle eBooks', \"Children's eBooks\", 'Kindle eBooks', 'Literature & Fiction', 'Kindle eBooks', 'Literature & Fiction', 'Kindle eBooks', 'Romance', 'Kindle eBooks', 'Literature & Fiction', 'Kindle eBooks', 'Science Fiction & Fantasy', 'Kindle eBooks', 'Romance', 'Kindle eBooks', 'Literature & Fiction', 'Kindle eBooks', 'Literature & Fiction', 'Kindle eBooks', 'Literature & Fiction', 'Kindle eBooks', 'Literature & Fiction', 'Kindle eBooks', 'Literature & Fiction', 'Kindle eBooks', 'Teen & Young Adult', 'Kindle eBooks', 'Literature & Fiction', 'Kindle eBooks', 'Science Fiction & Fantasy', 'Kindle eBooks', 'Romance', 'Kindle eBooks', 'Romance', 'Kindle eBooks', 'Romance', 'Kindle eBooks', 'Science Fiction & Fantasy', 'Kindle eBooks', 'Literature & Fiction', 'Kindle eBooks', 'Literature & Fiction', 'Kindle eBooks', 'Romance', 'Kindle eBooks', 'Science Fiction & Fantasy', 'Kindle eBooks', 'Romance', 'Kindle eBooks', 'Romance', 'Kindle eBooks', 'Literature & Fiction', 'Kindle eBooks', 'Literature & Fiction', 'Kindle eBooks', 'Politics & Social Sciences', 'Kindle eBooks', 'Literature & Fiction', 'Kindle eBooks', 'Literature & Fiction', 'Kindle eBooks', 'Romance', 'Kindle eBooks', 'Literature & Fiction', 'Kindle eBooks', 'Literature & Fiction', 'Kindle eBooks', 'Literature & Fiction', 'Kindle eBooks', 'Romance', 'Kindle eBooks', 'Romance', 'Kindle eBooks', 'Literature & Fiction', 'Kindle eBooks', 'Literature & Fiction', 'Kindle eBooks', 'Literature & Fiction', 'Kindle eBooks', 'Literature & Fiction', 'Kindle eBooks', 'Romance', 'Kindle eBooks', 'Romance', 'Kindle eBooks', 'Science Fiction & Fantasy', 'Kindle eBooks', 'Literature & Fiction', 'Kindle eBooks', 'Mystery, Thriller & Suspense', 'Kindle eBooks', 'Literature & Fiction', 'Kindle eBooks', 'Literature & Fiction', 'Kindle eBooks', 'Teen & Young Adult', 'Kindle eBooks', 'Science Fiction & Fantasy', 'Kindle eBooks', 'Literature & Fiction', 'Kindle eBooks', 'Literature & Fiction', 'Kindle eBooks', 'Romance', 'Kindle eBooks', 'Romance', 'Kindle eBooks', 'Literature & Fiction', 'Kindle eBooks', 'Literature & Fiction', 'Kindle eBooks', 'Romance', 'Kindle eBooks', 'Mystery, Thriller & Suspense', 'Kindle eBooks', 'Romance', 'Kindle eBooks', 'Literature & Fiction', 'Kindle eBooks', 'Mystery, Thriller & Suspense', 'Kindle eBooks', 'Literature & Fiction', 'Kindle eBooks', 'Cookbooks, Food & Wine', 'Kindle eBooks', 'Science Fiction & Fantasy', 'Kindle eBooks', 'Mystery, Thriller & Suspense', 'Kindle eBooks', 'Romance', 'Kindle eBooks', 'Reference', 'Kindle eBooks', 'Science Fiction & Fantasy', 'Kindle eBooks', 'Science Fiction & Fantasy', 'Kindle eBooks', 'Literature & Fiction', 'Kindle eBooks', 'Romance', 'Kindle eBooks', 'Literature & Fiction', 'Kindle eBooks', 'Literature & Fiction', 'Kindle eBooks', 'Literature & Fiction', 'Kindle eBooks', 'Literature & Fiction', 'Kindle eBooks', 'Mystery, Thriller & Suspense', 'Kindle eBooks', 'Literature & Fiction', 'Kindle eBooks', 'Romance', 'Kindle eBooks', 'Romance', 'Kindle eBooks', 'Romance', 'Kindle eBooks', \"Children's eBooks\", 'Kindle eBooks', 'Religion & Spirituality', 'Kindle eBooks', 'Literature & Fiction', 'Kindle eBooks', 'Literature & Fiction', 'Kindle eBooks', 'Literature & Fiction', 'Kindle eBooks', 'Science Fiction & Fantasy', 'Kindle eBooks', 'Romance', 'Kindle eBooks', 'Literature & Fiction', 'Kindle eBooks', 'Literature & Fiction', 'Kindle eBooks', 'Literature & Fiction', 'Kindle eBooks', 'Science Fiction & Fantasy', 'Kindle eBooks', 'Romance', 'Kindle eBooks', 'Literature & Fiction', 'Kindle eBooks', 'Romance', 'Kindle eBooks', 'Literature & Fiction', 'Kindle eBooks', 'Romance', 'Kindle eBooks', 'Literature & Fiction', 'Kindle eBooks', 'Literature & Fiction', 'Kindle eBooks', 'Literature & Fiction', 'Kindle eBooks', 'Literature & Fiction', 'Kindle eBooks', 'Romance', 'Kindle eBooks', 'Literature & Fiction', 'Kindle eBooks', 'Literature & Fiction', 'Kindle eBooks', 'Romance', 'Kindle eBooks', 'Literature & Fiction', 'Kindle eBooks', 'Literature & Fiction', 'Kindle eBooks', 'Literature & Fiction', 'Kindle eBooks', 'Romance', 'Kindle eBooks', 'Literature & Fiction', 'Kindle eBooks', 'Literature & Fiction', 'Kindle eBooks', 'Literature & Fiction', 'Kindle eBooks', 'Literature & Fiction', 'Kindle eBooks', 'Teen & Young Adult', 'Kindle eBooks', 'Religion & Spirituality', 'Kindle eBooks', 'Romance', 'Kindle eBooks', 'Romance', 'Kindle eBooks', 'Literature & Fiction', 'Kindle eBooks', 'Romance', 'Kindle eBooks', 'Literature & Fiction', 'Kindle eBooks', 'Literature & Fiction', 'Kindle eBooks', 'Literature & Fiction', 'Kindle eBooks', 'Literature & Fiction', 'Kindle eBooks', 'Science Fiction & Fantasy', 'Kindle eBooks', 'Literature & Fiction', 'Kindle eBooks', 'Literature & Fiction', 'Kindle eBooks', 'Literature & Fiction', 'Kindle eBooks', 'Romance', 'Kindle eBooks', 'Religion & Spirituality', 'Kindle eBooks', 'Literature & Fiction', 'Kindle eBooks', 'Literature & Fiction', 'Kindle eBooks', 'Literature & Fiction', 'Kindle eBooks', 'Romance', 'Kindle eBooks', 'Literature & Fiction', 'Kindle eBooks', 'Literature & Fiction', 'Kindle eBooks', 'Literature & Fiction', 'Kindle eBooks', 'Mystery, Thriller & Suspense', 'Kindle eBooks', 'Literature & Fiction', 'Kindle eBooks', 'Literature & Fiction', 'Kindle eBooks', 'Literature & Fiction', 'Kindle eBooks', 'Romance', 'Kindle eBooks', 'Literature & Fiction', 'Kindle eBooks', 'Romance', 'Kindle eBooks', 'Mystery, Thriller & Suspense', 'Kindle eBooks', 'Literature & Fiction', 'Kindle eBooks', 'Literature & Fiction', 'Kindle eBooks', 'Teen & Young Adult', 'Kindle eBooks', 'Mystery, Thriller & Suspense', 'Kindle eBooks', 'Literature & Fiction', 'Kindle eBooks', 'Literature & Fiction', 'Kindle eBooks', 'Literature & Fiction', 'Kindle eBooks', 'Literature & Fiction', 'Kindle eBooks', 'Literature & Fiction', 'Kindle eBooks', 'Literature & Fiction', 'Kindle eBooks', 'Mystery, Thriller & Suspense', 'Kindle eBooks', 'Literature & Fiction', 'Kindle eBooks', 'Literature & Fiction', 'Kindle eBooks', 'Literature & Fiction', 'Kindle eBooks', 'Literature & Fiction', 'Kindle eBooks', 'Religion & Spirituality', 'Kindle eBooks', 'Literature & Fiction', 'Kindle eBooks', 'Literature & Fiction', 'Kindle eBooks', 'Romance', 'Kindle eBooks', 'Romance', 'Kindle eBooks', 'Romance', 'Kindle eBooks', 'Literature & Fiction', 'Kindle eBooks', 'Literature & Fiction', 'Kindle eBooks', 'Literature & Fiction', 'Kindle eBooks', 'Literature & Fiction', 'Kindle eBooks', 'Mystery, Thriller & Suspense', 'Kindle eBooks', 'Literature & Fiction', 'Kindle eBooks', 'Literature & Fiction', 'Kindle eBooks', 'Literature & Fiction', 'Kindle eBooks', 'Literature & Fiction', 'Kindle eBooks', 'Literature & Fiction', 'Kindle eBooks', 'Romance', 'Kindle eBooks', 'Romance', 'Kindle eBooks', 'Romance', 'Kindle eBooks', 'Religion & Spirituality', 'Kindle eBooks', 'Literature & Fiction', 'Kindle eBooks', 'Literature & Fiction', 'Kindle eBooks', 'Literature & Fiction', 'Kindle eBooks', 'Romance', 'Kindle eBooks', 'Literature & Fiction', 'Kindle eBooks', 'Health, Fitness & Dieting', 'Kindle eBooks', 'Literature & Fiction', 'Kindle eBooks', 'Romance', 'Kindle eBooks', 'Mystery, Thriller & Suspense', 'Kindle eBooks', 'Mystery, Thriller & Suspense', 'Kindle eBooks', 'Romance', 'Kindle eBooks', 'Teen & Young Adult', 'Kindle eBooks', 'Literature & Fiction', 'Kindle eBooks', 'Mystery, Thriller & Suspense', 'Kindle eBooks', 'Mystery, Thriller & Suspense', 'Kindle eBooks', 'Literature & Fiction', 'Kindle eBooks', 'Literature & Fiction', 'Kindle eBooks', 'Literature & Fiction', 'Kindle eBooks', 'Literature & Fiction', 'Kindle eBooks', 'Literature & Fiction', 'Kindle eBooks', 'Literature & Fiction', 'Kindle eBooks', 'Literature & Fiction', 'Kindle eBooks', 'Science Fiction & Fantasy', 'Kindle eBooks', 'Romance', 'Kindle eBooks', 'Romance', 'Kindle eBooks', 'Teen & Young Adult', 'Kindle eBooks', 'Literature & Fiction', 'Kindle eBooks', 'Romance', 'Kindle eBooks', 'Romance', 'Kindle eBooks', 'Religion & Spirituality', 'Kindle eBooks', 'Literature & Fiction', 'Kindle eBooks', 'Romance', 'Kindle eBooks', 'Literature & Fiction', 'Kindle eBooks', 'Mystery, Thriller & Suspense', 'Kindle eBooks', 'Teen & Young Adult', 'Kindle eBooks', 'Literature & Fiction', 'Kindle eBooks', 'Literature & Fiction', 'Kindle eBooks', 'Health, Fitness & Dieting', 'Kindle eBooks', 'Romance', 'Kindle eBooks', 'Literature & Fiction', 'Kindle eBooks', 'Mystery, Thriller & Suspense', 'Kindle eBooks', 'Romance', 'Kindle eBooks', 'Literature & Fiction', 'Kindle eBooks', 'Literature & Fiction', 'Kindle eBooks', 'Science Fiction & Fantasy', 'Kindle eBooks', 'Romance', 'Kindle eBooks', 'Literature & Fiction', 'Kindle eBooks', 'Romance', 'Kindle eBooks', 'Science Fiction & Fantasy', 'Kindle eBooks', 'Romance', 'Kindle eBooks', 'Romance', 'Kindle eBooks', 'Romance', 'Kindle eBooks', 'Business & Money', 'Kindle eBooks', 'Science Fiction & Fantasy', 'Kindle eBooks', 'Literature & Fiction', 'Kindle eBooks', 'Literature & Fiction', 'Kindle eBooks', 'Romance', 'Kindle eBooks', 'Literature & Fiction', 'Kindle eBooks', 'Mystery, Thriller & Suspense', 'Kindle eBooks', 'Health, Fitness & Dieting', 'Kindle eBooks', 'Literature & Fiction', 'Kindle eBooks', 'Literature & Fiction', 'Kindle eBooks', 'Romance', 'Kindle eBooks', 'Literature & Fiction', 'Kindle eBooks', 'Romance', 'Kindle eBooks', 'Literature & Fiction', 'Kindle eBooks', 'Science Fiction & Fantasy', 'Kindle eBooks', 'Literature & Fiction', 'Kindle eBooks', 'Literature & Fiction', 'Kindle eBooks', 'Romance', 'Kindle eBooks', 'Religion & Spirituality', 'Kindle eBooks', 'Religion & Spirituality', 'Kindle eBooks', 'Science Fiction & Fantasy', 'Kindle eBooks', 'Literature & Fiction', 'Kindle eBooks', 'Literature & Fiction', 'Kindle eBooks', 'Literature & Fiction', 'Kindle eBooks', 'Romance', 'Kindle eBooks', 'Mystery, Thriller & Suspense', 'Kindle eBooks', 'Religion & Spirituality', 'Kindle eBooks', 'Literature & Fiction', 'Kindle eBooks', 'Literature & Fiction', 'Kindle eBooks', 'Business & Money', 'Kindle eBooks', 'Romance', 'Kindle eBooks', 'Literature & Fiction', 'Kindle eBooks', 'Literature & Fiction', 'Kindle eBooks', 'Engineering & Transportation', 'Kindle eBooks', 'Cookbooks, Food & Wine', 'Kindle eBooks', 'Romance', 'Kindle eBooks', 'Business & Money', 'Kindle eBooks', 'Mystery, Thriller & Suspense', 'Kindle eBooks', 'Religion & Spirituality', 'Kindle eBooks', 'Literature & Fiction', 'Kindle eBooks', 'Literature & Fiction', 'Kindle eBooks', 'Literature & Fiction', 'Kindle eBooks', 'Literature & Fiction', 'Kindle eBooks', 'Literature & Fiction', 'Kindle eBooks', 'Romance', 'Kindle eBooks', 'Literature & Fiction', 'Kindle eBooks', 'Biographies & Memoirs', 'Kindle eBooks', 'Literature & Fiction', 'Kindle eBooks', 'Mystery, Thriller & Suspense', 'Kindle eBooks', 'Literature & Fiction', 'Kindle eBooks', 'Romance', 'Kindle eBooks', 'Literature & Fiction', 'Kindle eBooks', 'Mystery, Thriller & Suspense', 'Kindle eBooks', 'Literature & Fiction', 'Kindle eBooks', 'Romance', 'Kindle eBooks', 'Literature & Fiction', 'Kindle eBooks', 'Literature & Fiction', 'Kindle eBooks', 'Literature & Fiction', 'Kindle eBooks', 'Literature & Fiction', 'Kindle eBooks', 'Literature & Fiction', 'Kindle eBooks', 'Literature & Fiction', 'Kindle eBooks', 'Romance', 'Kindle eBooks', 'Romance', 'Kindle eBooks', 'Romance', 'Kindle eBooks', 'Romance', 'Kindle eBooks', 'Literature & Fiction', 'Kindle eBooks', 'Literature & Fiction', 'Kindle eBooks', 'Literature & Fiction', 'Kindle eBooks', 'Religion & Spirituality', 'Kindle eBooks', 'Mystery, Thriller & Suspense', 'Kindle eBooks', 'Politics & Social Sciences', 'Kindle eBooks', 'Literature & Fiction', 'Kindle eBooks', 'Literature & Fiction', 'Kindle eBooks', 'Literature & Fiction', 'Kindle eBooks', 'Mystery, Thriller & Suspense', 'Kindle eBooks', 'Literature & Fiction', 'Kindle eBooks', 'Literature & Fiction', 'Kindle eBooks', 'Romance', 'Kindle eBooks', 'Biographies & Memoirs', 'Kindle eBooks', 'Romance', 'Kindle eBooks', 'Romance', 'Kindle eBooks', 'Romance', 'Kindle eBooks', 'Romance', 'Kindle eBooks', 'Literature & Fiction', 'Kindle eBooks', 'Romance', 'Kindle eBooks', 'Science Fiction & Fantasy', 'Kindle eBooks', 'Literature & Fiction', 'Kindle eBooks', 'Romance', 'Kindle eBooks', 'Romance', 'Kindle eBooks', 'Literature & Fiction', 'Kindle eBooks', 'Literature & Fiction', 'Kindle eBooks', 'Literature & Fiction', 'Kindle eBooks', 'Literature & Fiction', 'Kindle eBooks', 'Health, Fitness & Dieting', 'Kindle eBooks', 'Religion & Spirituality', 'Kindle eBooks', 'Mystery, Thriller & Suspense', 'Kindle eBooks', 'Literature & Fiction', 'Kindle eBooks', 'Mystery, Thriller & Suspense', 'Kindle eBooks', 'Romance', 'Kindle eBooks', 'Literature & Fiction', 'Kindle eBooks', 'Literature & Fiction', 'Kindle eBooks', \"Children's eBooks\", 'Kindle eBooks', 'Romance', 'Kindle eBooks', 'Literature & Fiction', 'Kindle eBooks', 'Literature & Fiction', 'Kindle eBooks', 'Literature & Fiction', 'Kindle eBooks', 'Literature & Fiction', 'Kindle eBooks', 'Romance', 'Kindle eBooks', 'Literature & Fiction', 'Kindle eBooks', 'Literature & Fiction', 'Kindle eBooks', 'Literature & Fiction', 'Kindle eBooks', 'Teen & Young Adult', 'Kindle eBooks', 'Literature & Fiction', 'Kindle eBooks', 'Literature & Fiction', 'Kindle eBooks', 'Literature & Fiction', 'Kindle eBooks', 'Romance', 'Kindle eBooks', 'Romance', 'Kindle eBooks', 'Literature & Fiction', 'Kindle eBooks', 'Teen & Young Adult', 'Kindle eBooks', 'Romance', 'Kindle eBooks', 'Romance', 'Kindle eBooks', 'Literature & Fiction', 'Kindle eBooks', 'Teen & Young Adult', 'Kindle eBooks', 'Health, Fitness & Dieting', 'Kindle eBooks', 'Literature & Fiction', 'Kindle eBooks', 'Science Fiction & Fantasy', 'Kindle eBooks', 'Literature & Fiction', 'Kindle eBooks', 'Literature & Fiction', 'Kindle eBooks', 'Literature & Fiction', 'Kindle eBooks', 'Religion & Spirituality', 'Kindle eBooks', 'Literature & Fiction', 'Kindle eBooks', 'Romance', 'Kindle eBooks', 'Mystery, Thriller & Suspense', 'Kindle eBooks', 'Literature & Fiction', 'Kindle eBooks', 'Religion & Spirituality', 'Kindle eBooks', 'Literature & Fiction', 'Kindle eBooks', 'Literature & Fiction', 'Kindle eBooks', 'Literature & Fiction', 'Kindle eBooks', 'Crafts, Hobbies & Home', 'Kindle eBooks', 'Literature & Fiction', 'Kindle eBooks', 'Literature & Fiction', 'Kindle eBooks', 'Romance', 'Kindle eBooks', 'Literature & Fiction', 'Kindle eBooks', 'Romance', 'Kindle eBooks', 'Literature & Fiction', 'Kindle eBooks', 'Literature & Fiction', 'Kindle eBooks', 'Romance', 'Kindle eBooks', 'Romance', 'Kindle eBooks', 'Literature & Fiction', 'Kindle eBooks', 'Romance', 'Kindle eBooks', 'Literature & Fiction', 'Kindle eBooks', 'Literature & Fiction', 'Kindle eBooks', 'Literature & Fiction', 'Kindle eBooks', 'Teen & Young Adult', 'Kindle eBooks', 'Literature & Fiction', 'Kindle eBooks', 'Romance', 'Kindle eBooks', 'Literature & Fiction', 'Kindle eBooks', 'Science Fiction & Fantasy', 'Kindle eBooks', 'Literature & Fiction', 'Kindle eBooks', 'Kindle eBooks', 'Kindle eBooks', 'Literature & Fiction', 'Kindle eBooks', 'Romance', 'Kindle eBooks', 'Literature & Fiction', 'Kindle eBooks', 'Romance', 'Kindle eBooks', 'Romance', 'Kindle eBooks', 'Literature & Fiction', 'Kindle eBooks', 'Romance', 'Kindle eBooks', 'Romance', 'Kindle eBooks', 'Literature & Fiction', 'Kindle eBooks', 'Religion & Spirituality', 'Kindle eBooks', 'Romance', 'Kindle eBooks', 'Romance', 'Kindle eBooks', 'Teen & Young Adult', 'Kindle eBooks', 'Religion & Spirituality', 'Kindle eBooks', 'Literature & Fiction', 'Kindle eBooks', 'Religion & Spirituality', 'Kindle eBooks', 'Literature & Fiction', 'Kindle eBooks', 'Romance', 'Kindle eBooks', 'Literature & Fiction', 'Kindle eBooks', 'Science Fiction & Fantasy', 'Kindle eBooks', 'Mystery, Thriller & Suspense', 'Kindle eBooks', 'Literature & Fiction', 'Kindle eBooks', 'Literature & Fiction', 'Kindle eBooks', 'Computers & Technology', 'Kindle eBooks', 'Health, Fitness & Dieting', 'Kindle eBooks', 'Science Fiction & Fantasy', 'Kindle eBooks', 'Romance', 'Kindle eBooks', 'Romance', 'Kindle eBooks', 'Literature & Fiction', 'Kindle eBooks', 'Literature & Fiction', 'Kindle eBooks', 'Romance', 'Kindle eBooks', 'Science Fiction & Fantasy', 'Kindle eBooks', 'Literature & Fiction', 'Kindle eBooks', 'Literature & Fiction', 'Kindle eBooks', 'Literature & Fiction', 'Kindle eBooks', 'Science Fiction & Fantasy', 'Kindle eBooks', 'Religion & Spirituality', 'Kindle eBooks', 'Romance', 'Kindle eBooks', 'Literature & Fiction', 'Kindle eBooks', 'Romance', 'Kindle eBooks', 'Literature & Fiction', 'Kindle eBooks', 'Literature & Fiction', 'Kindle eBooks', 'Literature & Fiction', 'Kindle eBooks', 'Mystery, Thriller & Suspense', 'Kindle eBooks', 'Literature & Fiction', 'Kindle eBooks', 'Literature & Fiction', 'Kindle eBooks', 'Literature & Fiction', 'Kindle eBooks', 'Romance', 'Kindle eBooks', 'Literature & Fiction', 'Kindle eBooks', 'Literature & Fiction', 'Kindle eBooks', 'Romance', 'Kindle eBooks', 'Literature & Fiction', 'Kindle eBooks', 'Literature & Fiction', 'Kindle eBooks', 'Literature & Fiction', 'Kindle eBooks', 'Literature & Fiction', 'Kindle eBooks', 'Romance', 'Kindle eBooks', 'Mystery, Thriller & Suspense', 'Kindle eBooks', 'Literature & Fiction', 'Kindle eBooks', 'Romance', 'Kindle eBooks', 'Literature & Fiction', 'Kindle eBooks', 'Romance', 'Kindle eBooks', 'Literature & Fiction', 'Kindle eBooks', 'Romance', 'Kindle eBooks', 'Romance', 'Kindle eBooks', 'Literature & Fiction', 'Kindle eBooks', 'Romance', 'Kindle eBooks', 'Politics & Social Sciences', 'Kindle eBooks', 'Science Fiction & Fantasy', 'Kindle eBooks', 'Religion & Spirituality', 'Kindle eBooks', 'Health, Fitness & Dieting', 'Kindle eBooks', 'Literature & Fiction', 'Kindle eBooks', 'Literature & Fiction', 'Kindle eBooks', 'Health, Fitness & Dieting', 'Kindle eBooks', 'Literature & Fiction', 'Kindle eBooks', 'Literature & Fiction', 'Kindle eBooks', \"Children's eBooks\", 'Kindle eBooks', 'Literature & Fiction', 'Kindle eBooks', 'Literature & Fiction', 'Kindle eBooks', 'Literature & Fiction', 'Kindle eBooks', 'Literature & Fiction', 'Kindle eBooks', 'Literature & Fiction', 'Kindle eBooks', 'Romance', 'Kindle eBooks', 'Literature & Fiction', 'Kindle eBooks', 'Literature & Fiction', 'Kindle eBooks', 'Literature & Fiction', 'Kindle eBooks', 'Literature & Fiction', 'Kindle eBooks', 'Romance', 'Kindle eBooks', 'Literature & Fiction', 'Kindle eBooks', 'Literature & Fiction', 'Kindle eBooks', 'Romance', 'Kindle eBooks', 'Romance', 'Kindle eBooks', 'Romance', 'Kindle eBooks', 'Education & Teaching', 'Kindle eBooks', 'Literature & Fiction', 'Kindle eBooks', 'Reference', 'Kindle eBooks', 'Literature & Fiction', 'Kindle eBooks', 'Romance', 'Kindle eBooks', 'Literature & Fiction', 'Kindle eBooks', 'Literature & Fiction', 'Kindle eBooks', 'Religion & Spirituality', 'Kindle eBooks', 'Romance', 'Kindle eBooks', 'Romance', 'Kindle eBooks', 'Literature & Fiction', 'Kindle eBooks', 'Romance', 'Kindle eBooks', 'Mystery, Thriller & Suspense', 'Kindle eBooks', 'Teen & Young Adult', 'Kindle eBooks', 'Literature & Fiction', 'Kindle eBooks', 'Romance', 'Kindle eBooks', 'Literature & Fiction', 'Kindle eBooks', 'Romance', 'Kindle eBooks', 'Literature & Fiction', 'Kindle eBooks', 'Literature & Fiction', 'Kindle eBooks', 'Literature & Fiction', 'Kindle eBooks', 'Literature & Fiction', 'Kindle eBooks', 'Romance', 'Kindle eBooks', 'Literature & Fiction', 'Kindle eBooks', 'Romance', 'Kindle eBooks', 'Literature & Fiction', 'Kindle eBooks', 'Mystery, Thriller & Suspense', 'Kindle eBooks', 'Mystery, Thriller & Suspense', 'Kindle eBooks', 'Literature & Fiction', 'Kindle eBooks', 'Science Fiction & Fantasy', 'Kindle eBooks', 'Literature & Fiction', 'Kindle eBooks', 'Literature & Fiction', 'Kindle eBooks', 'Religion & Spirituality', 'Kindle eBooks', 'Religion & Spirituality', 'Kindle eBooks', 'Literature & Fiction', 'Kindle eBooks', 'Science Fiction & Fantasy', 'Kindle eBooks', 'Literature & Fiction', 'Kindle eBooks', 'Literature & Fiction', 'Kindle eBooks', 'Literature & Fiction', 'Kindle eBooks', 'Religion & Spirituality', 'Kindle eBooks', 'Literature & Fiction', 'Kindle eBooks', 'Literature & Fiction', 'Kindle eBooks', 'Literature & Fiction', 'Kindle eBooks', 'Literature & Fiction', 'Kindle eBooks', 'Science Fiction & Fantasy', 'Kindle eBooks', 'Literature & Fiction', 'Kindle eBooks', 'Literature & Fiction', 'Kindle eBooks', 'Computers & Technology', 'Kindle eBooks', 'Mystery, Thriller & Suspense', 'Kindle eBooks', 'Romance', 'Kindle eBooks', 'Mystery, Thriller & Suspense', 'Kindle eBooks', 'Literature & Fiction', 'Kindle eBooks', 'Religion & Spirituality', 'Kindle eBooks', 'Literature & Fiction', 'Kindle eBooks', 'Romance', 'Kindle eBooks', 'Literature & Fiction', 'Kindle eBooks', 'Science Fiction & Fantasy', 'Kindle eBooks', 'Romance', 'Kindle eBooks', 'Literature & Fiction', 'Kindle eBooks', 'Literature & Fiction', 'Kindle eBooks', 'Business & Money', 'Kindle eBooks', 'Literature & Fiction', 'Kindle eBooks', 'Literature & Fiction', 'Kindle eBooks', 'Literature & Fiction', 'Kindle eBooks', 'Romance', 'Kindle eBooks', 'Biographies & Memoirs', 'Kindle eBooks', 'Mystery, Thriller & Suspense', 'Kindle eBooks', 'Romance', 'Kindle eBooks', 'Literature & Fiction', 'Kindle eBooks', 'Literature & Fiction', 'Kindle eBooks', 'Literature & Fiction', 'Kindle eBooks', 'Literature & Fiction', 'Kindle eBooks', 'Literature & Fiction', 'Kindle eBooks', 'Literature & Fiction', 'Kindle eBooks', 'Romance', 'Kindle eBooks', 'Literature & Fiction', 'Kindle eBooks', 'Literature & Fiction', 'Kindle eBooks', 'Literature & Fiction', 'Kindle eBooks', 'Science Fiction & Fantasy', 'Kindle eBooks', 'Romance', 'Kindle eBooks', 'Literature & Fiction', 'Kindle eBooks', 'Literature & Fiction', 'Kindle eBooks', \"Children's eBooks\", 'Kindle eBooks', 'Science Fiction & Fantasy', 'Kindle eBooks', 'Literature & Fiction', 'Kindle eBooks', 'Mystery, Thriller & Suspense', 'Kindle eBooks', 'Literature & Fiction', 'Kindle eBooks', 'Science Fiction & Fantasy', 'Kindle eBooks', 'Romance', 'Kindle eBooks', 'Literature & Fiction', 'Kindle eBooks', 'Literature & Fiction', 'Kindle eBooks', 'Literature & Fiction', 'Kindle eBooks', 'Romance', 'Kindle eBooks', 'Literature & Fiction', 'Kindle eBooks', 'Teen & Young Adult', 'Kindle eBooks', 'Romance', 'Kindle eBooks', 'Romance', 'Kindle eBooks', 'Religion & Spirituality', 'Kindle eBooks', 'Romance', 'Kindle eBooks', 'Literature & Fiction', 'Kindle eBooks', 'Romance', 'Kindle eBooks', 'Literature & Fiction', 'Kindle eBooks', 'Literature & Fiction', 'Kindle eBooks', 'Romance', 'Kindle eBooks', 'Romance', 'Kindle eBooks', 'Teen & Young Adult', 'Kindle eBooks', 'Literature & Fiction', 'Kindle eBooks', 'Literature & Fiction', 'Kindle eBooks', 'Literature & Fiction', 'Kindle eBooks', 'Romance', 'Kindle eBooks', 'Romance', 'Kindle eBooks', 'Literature & Fiction', 'Kindle eBooks', 'Literature & Fiction', 'Kindle eBooks', 'Literature & Fiction', 'Kindle eBooks', 'Literature & Fiction', 'Kindle eBooks', 'Biographies & Memoirs', 'Kindle eBooks', 'Literature & Fiction', 'Kindle eBooks', 'Romance', 'Kindle eBooks', 'Romance', 'Kindle eBooks', 'Romance', 'Kindle eBooks', 'Literature & Fiction', 'Kindle eBooks', 'Romance', 'Kindle eBooks', 'Literature & Fiction', 'Kindle eBooks', 'Literature & Fiction', 'Kindle eBooks', 'Romance', 'Kindle eBooks', 'Romance', 'Kindle eBooks', 'Romance', 'Kindle eBooks', 'Literature & Fiction', 'Kindle eBooks', 'Literature & Fiction', 'Kindle eBooks', 'Romance', 'Kindle eBooks', 'Reference', 'Kindle eBooks', 'Romance', 'Kindle eBooks', 'Teen & Young Adult', 'Kindle eBooks', 'Literature & Fiction', 'Kindle eBooks', 'Romance', 'Kindle eBooks', 'Literature & Fiction', 'Kindle eBooks', 'Romance', 'Kindle eBooks', 'Romance', 'Kindle eBooks', 'Literature & Fiction', 'Kindle eBooks', 'Science Fiction & Fantasy', 'Kindle eBooks', 'Romance', 'Kindle eBooks', 'Science Fiction & Fantasy', 'Kindle eBooks', 'Literature & Fiction', 'Kindle eBooks', 'Science Fiction & Fantasy', 'Kindle eBooks', 'Literature & Fiction', 'Kindle eBooks', 'Literature & Fiction', 'Kindle eBooks', 'Romance', 'Kindle eBooks', 'Science Fiction & Fantasy', 'Kindle eBooks', 'Mystery, Thriller & Suspense', 'Kindle eBooks', 'Mystery, Thriller & Suspense', 'Kindle eBooks', 'Religion & Spirituality', 'Kindle eBooks', 'Literature & Fiction', 'Kindle eBooks', 'Romance', 'Kindle eBooks', 'Romance', 'Kindle eBooks', 'Literature & Fiction', 'Kindle eBooks', 'Literature & Fiction', 'Kindle eBooks', 'Romance', 'Kindle eBooks', 'Literature & Fiction', 'Kindle eBooks', 'Literature & Fiction', 'Kindle eBooks', 'Romance', 'Kindle eBooks', 'Teen & Young Adult', 'Kindle eBooks', 'Literature & Fiction', 'Kindle eBooks', 'Romance', 'Kindle eBooks', 'Romance', 'Kindle eBooks', 'Religion & Spirituality', 'Kindle eBooks', 'Mystery, Thriller & Suspense', 'Kindle eBooks', 'Science Fiction & Fantasy', 'Kindle eBooks', 'Literature & Fiction', 'Kindle eBooks', 'Romance', 'Kindle eBooks', 'Literature & Fiction', 'Kindle eBooks', 'Mystery, Thriller & Suspense', 'Kindle eBooks', 'Mystery, Thriller & Suspense', 'Kindle eBooks', 'Romance', 'Kindle eBooks', 'Literature & Fiction', 'Kindle eBooks', 'Literature & Fiction', 'Kindle eBooks', 'Science Fiction & Fantasy', 'Kindle eBooks', 'Romance', 'Kindle eBooks', 'Science Fiction & Fantasy', 'Kindle eBooks', 'Science Fiction & Fantasy', 'Kindle eBooks', 'Religion & Spirituality', 'Kindle eBooks', 'Romance', 'Kindle eBooks', 'Literature & Fiction', 'Kindle eBooks', \"Children's eBooks\", 'Kindle eBooks', 'Romance', 'Kindle eBooks', 'Romance', 'Kindle eBooks', 'Romance', 'Kindle eBooks', 'Science Fiction & Fantasy', 'Kindle eBooks', 'Romance', 'Kindle eBooks', 'Religion & Spirituality', 'Kindle eBooks', 'Literature & Fiction', 'Kindle eBooks', 'Literature & Fiction', 'Kindle eBooks', 'Mystery, Thriller & Suspense', 'Kindle eBooks', 'Literature & Fiction', 'Kindle eBooks', 'Literature & Fiction', 'Kindle eBooks', 'Literature & Fiction', 'Kindle eBooks', 'Mystery, Thriller & Suspense', 'Kindle eBooks', 'Literature & Fiction', 'Kindle eBooks', 'Romance', 'Kindle eBooks', 'Romance', 'Kindle eBooks', 'Literature & Fiction', 'Kindle eBooks', \"Children's eBooks\", 'Kindle eBooks', 'Literature & Fiction', 'Kindle eBooks', 'Romance', 'Kindle eBooks', 'Romance', 'Kindle eBooks', 'Science Fiction & Fantasy', 'Kindle eBooks', 'Literature & Fiction', 'Kindle eBooks', 'Mystery, Thriller & Suspense', 'Kindle eBooks', 'Science Fiction & Fantasy', 'Kindle eBooks', 'Mystery, Thriller & Suspense', 'Kindle eBooks', 'Literature & Fiction', 'Kindle eBooks', 'Literature & Fiction', 'Kindle eBooks', 'Romance', 'Kindle eBooks', 'Literature & Fiction', 'Kindle eBooks', 'Romance', 'Kindle eBooks', 'Literature & Fiction', 'Kindle eBooks', 'Literature & Fiction', 'Kindle eBooks', 'Literature & Fiction', 'Kindle eBooks', 'Romance', 'Kindle eBooks', 'Literature & Fiction', 'Kindle eBooks', 'Business & Money', 'Kindle eBooks', 'Science Fiction & Fantasy', 'Kindle eBooks', 'Romance', 'Kindle eBooks', 'Literature & Fiction', 'Kindle eBooks', 'Literature & Fiction', 'Kindle eBooks', 'Romance', 'Kindle eBooks', 'Literature & Fiction', 'Kindle eBooks', 'Teen & Young Adult', 'Kindle eBooks', 'Romance', 'Kindle eBooks', \"Children's eBooks\", 'Kindle eBooks', 'Romance', 'Kindle eBooks', 'Mystery, Thriller & Suspense', 'Kindle eBooks', 'Romance', 'Kindle eBooks', \"Children's eBooks\", 'Kindle eBooks', 'Romance', 'Kindle eBooks', 'Religion & Spirituality', 'Kindle eBooks', 'Romance', 'Kindle eBooks', 'Literature & Fiction', 'Kindle eBooks', 'Romance', 'Kindle eBooks', 'Literature & Fiction', 'Kindle eBooks', 'Literature & Fiction', 'Kindle eBooks', 'Literature & Fiction', 'Kindle eBooks', 'Romance', 'Kindle eBooks', 'Literature & Fiction', 'Kindle eBooks', 'Romance', 'Kindle eBooks', 'Literature & Fiction', 'Kindle eBooks', 'Biographies & Memoirs', 'Kindle eBooks', 'Literature & Fiction', 'Kindle eBooks', 'Literature & Fiction', 'Kindle eBooks', 'Literature & Fiction', 'Kindle eBooks', 'Romance', 'Kindle eBooks', 'Science Fiction & Fantasy', 'Kindle eBooks', 'Mystery, Thriller & Suspense', 'Kindle eBooks', 'Literature & Fiction', 'Kindle eBooks', 'Literature & Fiction', 'Kindle eBooks', 'Romance', 'Kindle eBooks', 'Literature & Fiction', 'Kindle eBooks', 'Literature & Fiction', 'Kindle eBooks', 'Literature & Fiction', 'Kindle eBooks', 'Romance', 'Kindle eBooks', 'Religion & Spirituality', 'Kindle eBooks', 'Romance', 'Kindle eBooks', 'Literature & Fiction', 'Kindle eBooks', 'Romance', 'Kindle eBooks', 'Romance', 'Kindle eBooks', 'Romance', 'Kindle eBooks', 'Mystery, Thriller & Suspense', 'Kindle eBooks', 'Romance', 'Kindle eBooks', 'Romance', 'Kindle eBooks', 'Literature & Fiction', 'Kindle eBooks', 'Literature & Fiction', 'Kindle eBooks', 'Literature & Fiction', 'Kindle eBooks', 'Literature & Fiction', 'Kindle eBooks', 'Religion & Spirituality', 'Kindle eBooks', 'Religion & Spirituality', 'Kindle eBooks', 'Literature & Fiction', 'Kindle eBooks', 'Literature & Fiction', 'Kindle eBooks', 'Literature & Fiction', 'Kindle eBooks', 'Literature & Fiction', 'Kindle eBooks', 'Literature & Fiction', 'Kindle eBooks', 'Romance', 'Kindle eBooks', 'Biographies & Memoirs', 'Kindle eBooks', 'Literature & Fiction', 'Kindle eBooks', 'Literature & Fiction', 'Kindle eBooks', 'Literature & Fiction', 'Kindle eBooks', 'Romance', 'Kindle eBooks', 'Romance', 'Kindle eBooks', \"Children's eBooks\", 'Kindle eBooks', \"Children's eBooks\", 'Kindle eBooks', 'Romance', 'Kindle eBooks', 'Romance', 'Kindle eBooks', 'Literature & Fiction', 'Kindle eBooks', 'Romance', 'Kindle eBooks', 'Romance', 'Kindle eBooks', 'Literature & Fiction', 'Kindle eBooks', 'Science Fiction & Fantasy', 'Kindle eBooks', 'Literature & Fiction', 'Kindle eBooks', 'Literature & Fiction', 'Kindle eBooks', 'Mystery, Thriller & Suspense', 'Kindle eBooks', 'Literature & Fiction', 'Kindle eBooks', 'Literature & Fiction', 'Kindle eBooks', 'Literature & Fiction', 'Kindle eBooks', 'Literature & Fiction', 'Kindle eBooks', 'Literature & Fiction', 'Kindle eBooks', 'Literature & Fiction', 'Kindle eBooks', 'Literature & Fiction', 'Kindle eBooks', 'Literature & Fiction', 'Kindle eBooks', 'Literature & Fiction', 'Kindle eBooks', 'Politics & Social Sciences', 'Kindle eBooks', 'Romance', 'Kindle eBooks', 'Literature & Fiction', 'Kindle eBooks', 'Literature & Fiction', 'Kindle eBooks', 'Literature & Fiction', 'Kindle eBooks', 'Science Fiction & Fantasy', 'Kindle eBooks', 'Romance', 'Kindle eBooks', 'Biographies & Memoirs', 'Kindle eBooks', 'Teen & Young Adult', 'Kindle eBooks', 'Literature & Fiction', 'Kindle eBooks', 'Literature & Fiction', 'Kindle eBooks', 'Religion & Spirituality', 'Kindle eBooks', 'Literature & Fiction', 'Kindle eBooks', 'Literature & Fiction', 'Kindle eBooks', 'Literature & Fiction', 'Kindle eBooks', 'Romance', 'Kindle eBooks', 'Science Fiction & Fantasy', 'Kindle eBooks', 'Literature & Fiction', 'Kindle eBooks', 'Mystery, Thriller & Suspense', 'Kindle eBooks', 'Literature & Fiction', 'Kindle eBooks', 'Literature & Fiction', 'Kindle eBooks', 'Literature & Fiction', 'Kindle eBooks', 'Literature & Fiction', 'Kindle eBooks', 'Romance', 'Kindle eBooks', 'Romance', 'Kindle eBooks', 'Literature & Fiction', 'Kindle eBooks', 'Biographies & Memoirs', 'Kindle eBooks', 'Science Fiction & Fantasy', 'Kindle eBooks', \"Children's eBooks\", 'Kindle eBooks', 'Romance', 'Kindle eBooks', 'Romance', 'Kindle eBooks', 'Literature & Fiction', 'Kindle eBooks', 'Romance', 'Kindle eBooks', 'Literature & Fiction', 'Kindle eBooks', 'Romance', 'Kindle eBooks', 'Literature & Fiction', 'Kindle eBooks', 'Humor & Entertainment', 'Kindle eBooks', 'Literature & Fiction', 'Kindle eBooks', 'Romance', 'Kindle eBooks', 'Romance', 'Kindle eBooks', 'Literature & Fiction', 'Kindle eBooks', 'Romance', 'Kindle eBooks', 'Mystery, Thriller & Suspense', 'Kindle eBooks', 'Literature & Fiction', 'Kindle eBooks', 'Science Fiction & Fantasy', 'Kindle eBooks', 'Literature & Fiction', 'Kindle eBooks', 'Romance', 'Kindle eBooks', 'Literature & Fiction', 'Kindle eBooks', 'Romance', 'Kindle eBooks', 'Literature & Fiction', 'Kindle eBooks', 'Literature & Fiction', 'Kindle eBooks', 'Business & Money', 'Kindle eBooks', \"Children's eBooks\", 'Kindle eBooks', 'Literature & Fiction', 'Kindle eBooks', 'Romance', 'Kindle eBooks', 'Literature & Fiction', 'Kindle eBooks', 'Literature & Fiction', 'Kindle eBooks', 'Literature & Fiction', 'Kindle eBooks', 'Literature & Fiction', 'Kindle eBooks', 'Romance', 'Kindle eBooks', 'Literature & Fiction', 'Kindle eBooks', 'Romance', 'Kindle eBooks', 'Mystery, Thriller & Suspense', 'Kindle eBooks', 'Science Fiction & Fantasy', 'Kindle eBooks', 'Romance', 'Kindle eBooks', 'Literature & Fiction', 'Kindle eBooks', 'Romance', 'Kindle eBooks', 'Romance', 'Kindle eBooks', 'Religion & Spirituality', 'Kindle eBooks', 'Literature & Fiction', 'Kindle eBooks', 'Romance', 'Kindle eBooks', 'Science Fiction & Fantasy', 'Kindle eBooks', 'Literature & Fiction', 'Kindle eBooks', 'Literature & Fiction', 'Kindle eBooks', 'Mystery, Thriller & Suspense', 'Kindle eBooks', \"Children's eBooks\", 'Kindle eBooks', 'Teen & Young Adult', 'Kindle eBooks', 'Romance', 'Kindle eBooks', 'Romance', 'Kindle eBooks', 'Literature & Fiction', 'Kindle eBooks', 'Literature & Fiction', 'Kindle eBooks', 'Romance', 'Kindle eBooks', 'Mystery, Thriller & Suspense', 'Kindle eBooks', 'Literature & Fiction', 'Kindle eBooks', 'Literature & Fiction', 'Kindle eBooks', 'Literature & Fiction', 'Kindle eBooks', 'Literature & Fiction', 'Kindle eBooks', 'Literature & Fiction', 'Kindle eBooks', \"Children's eBooks\", 'Kindle eBooks', 'Science Fiction & Fantasy', 'Kindle eBooks', 'Romance', 'Kindle eBooks', 'Mystery, Thriller & Suspense', 'Kindle eBooks', 'Romance', 'Kindle eBooks', 'Romance', 'Kindle eBooks', 'Romance', 'Kindle eBooks', 'Literature & Fiction', 'Kindle eBooks', 'Literature & Fiction', 'Kindle eBooks', 'Literature & Fiction', 'Kindle eBooks', 'Romance', 'Kindle eBooks', 'Religion & Spirituality', 'Kindle eBooks', 'Reference', 'Kindle eBooks', 'Romance', 'Kindle eBooks', 'Romance', 'Kindle eBooks', 'Science Fiction & Fantasy', 'Kindle eBooks', 'Literature & Fiction', 'Kindle eBooks', 'Literature & Fiction', 'Kindle eBooks', 'Literature & Fiction', 'Kindle eBooks', 'Literature & Fiction', 'Kindle eBooks', 'Literature & Fiction', 'Kindle eBooks', 'Romance', 'Kindle eBooks', 'Literature & Fiction', 'Kindle eBooks', 'Literature & Fiction', 'Kindle eBooks', 'Biographies & Memoirs', 'Kindle eBooks', 'Romance', 'Kindle eBooks', 'Literature & Fiction', 'Kindle eBooks', 'Mystery, Thriller & Suspense', 'Kindle eBooks', 'Literature & Fiction', 'Kindle eBooks', 'Literature & Fiction', 'Kindle eBooks', 'Teen & Young Adult', 'Kindle eBooks', 'Sports & Outdoors', 'Kindle eBooks', 'Literature & Fiction', 'Kindle eBooks', 'Literature & Fiction', 'Kindle eBooks', 'Literature & Fiction', 'Kindle eBooks', 'Romance', 'Kindle eBooks', 'Literature & Fiction', 'Kindle eBooks', 'Literature & Fiction', 'Kindle eBooks', 'Literature & Fiction', 'Kindle eBooks', 'Literature & Fiction', 'Kindle eBooks', 'Science Fiction & Fantasy', 'Kindle eBooks', 'Mystery, Thriller & Suspense', 'Kindle eBooks', 'Literature & Fiction', 'Kindle eBooks', 'Romance', 'Kindle eBooks', 'Literature & Fiction', 'Kindle eBooks', 'Literature & Fiction', 'Kindle eBooks', 'Literature & Fiction', 'Kindle eBooks', 'Literature & Fiction', 'Kindle eBooks', 'Literature & Fiction', 'Kindle eBooks', 'Literature & Fiction', 'Kindle eBooks', 'Literature & Fiction', 'Kindle eBooks', 'Literature & Fiction', 'Kindle eBooks', 'Literature & Fiction', 'Kindle eBooks', 'Romance', 'Kindle eBooks', 'Romance', 'Kindle eBooks', 'Romance', 'Kindle eBooks', 'Science Fiction & Fantasy', 'Kindle eBooks', 'Literature & Fiction', 'Kindle eBooks', 'Literature & Fiction', 'Kindle eBooks', 'Literature & Fiction', 'Kindle eBooks', 'Mystery, Thriller & Suspense', 'Kindle eBooks', 'Literature & Fiction', 'Kindle eBooks', 'Literature & Fiction', 'Kindle eBooks', 'Literature & Fiction', 'Kindle eBooks', 'Literature & Fiction', 'Kindle eBooks', 'Romance', 'Kindle eBooks', 'Arts & Photography', 'Kindle eBooks', 'Politics & Social Sciences', 'Kindle eBooks', 'Literature & Fiction', 'Kindle eBooks', 'Literature & Fiction', 'Kindle eBooks', 'Mystery, Thriller & Suspense', 'Kindle eBooks', 'Religion & Spirituality', 'Kindle eBooks', 'Literature & Fiction', 'Kindle eBooks', 'Romance', 'Kindle eBooks', 'Teen & Young Adult', 'Kindle eBooks', 'Literature & Fiction', 'Kindle eBooks', 'Literature & Fiction', 'Kindle eBooks', 'Science Fiction & Fantasy', 'Kindle eBooks', 'Literature & Fiction', 'Kindle eBooks', 'Literature & Fiction', 'Kindle eBooks', 'Romance', 'Kindle eBooks', 'Teen & Young Adult', 'Kindle eBooks', 'Literature & Fiction', 'Kindle eBooks', 'Science Fiction & Fantasy', 'Kindle eBooks', 'Romance', 'Kindle eBooks', 'Literature & Fiction', 'Kindle eBooks', 'Business & Money', 'Kindle eBooks', 'Romance', 'Kindle eBooks', 'Teen & Young Adult', 'Kindle eBooks', 'Literature & Fiction', 'Kindle eBooks', 'Literature & Fiction', 'Kindle eBooks', 'Romance', 'Kindle eBooks', 'Romance', 'Kindle eBooks', 'Romance', 'Kindle eBooks', 'Romance', 'Kindle eBooks', 'Literature & Fiction', 'Kindle eBooks', 'Romance', 'Kindle eBooks', 'Romance', 'Kindle eBooks', 'Romance', 'Kindle eBooks', 'Romance', 'Kindle eBooks', 'Literature & Fiction', 'Kindle eBooks', 'Literature & Fiction', 'Kindle eBooks', 'Literature & Fiction', 'Kindle eBooks', 'Romance', 'Kindle eBooks', 'Literature & Fiction', 'Kindle eBooks', 'Health, Fitness & Dieting', 'Kindle eBooks', 'Literature & Fiction', 'Kindle eBooks', 'Business & Money', 'Kindle eBooks', 'Romance', 'Kindle eBooks', 'Romance', 'Kindle eBooks', 'Romance', 'Kindle eBooks', 'Mystery, Thriller & Suspense', 'Kindle eBooks', 'Romance', 'Kindle eBooks', 'Romance', 'Kindle eBooks', 'Romance', 'Kindle eBooks', 'Teen & Young Adult', 'Kindle eBooks', 'Religion & Spirituality', 'Kindle eBooks', 'Literature & Fiction', 'Kindle eBooks', 'Science Fiction & Fantasy', 'Kindle eBooks', 'Literature & Fiction', 'Kindle eBooks', 'Mystery, Thriller & Suspense', 'Kindle eBooks', 'Medical eBooks', 'Kindle eBooks', 'Teen & Young Adult', 'Kindle eBooks', 'Literature & Fiction', 'Kindle eBooks', 'Romance', 'Kindle eBooks', 'Romance', 'Kindle eBooks', 'Literature & Fiction', 'Kindle eBooks', 'Literature & Fiction', 'Kindle eBooks', 'Literature & Fiction', 'Kindle eBooks', 'Romance', 'Kindle eBooks', 'Teen & Young Adult', 'Kindle eBooks', 'Science Fiction & Fantasy', 'Kindle eBooks', 'Religion & Spirituality', 'Kindle eBooks', 'Science Fiction & Fantasy', 'Kindle eBooks', 'Literature & Fiction', 'Kindle eBooks', 'Literature & Fiction', 'Kindle eBooks', 'Literature & Fiction', 'Kindle eBooks', 'Literature & Fiction', 'Kindle eBooks', 'Romance', 'Kindle eBooks', 'Literature & Fiction', 'Kindle eBooks', 'Literature & Fiction', 'Kindle eBooks', 'Literature & Fiction', 'Kindle eBooks', 'Literature & Fiction', 'Kindle eBooks', 'Literature & Fiction', 'Kindle eBooks', 'Literature & Fiction', 'Kindle eBooks', 'Romance', 'Kindle eBooks', 'Literature & Fiction', 'Kindle eBooks', 'Romance', 'Kindle eBooks', 'Romance', 'Kindle eBooks', 'Romance', 'Kindle eBooks', 'Romance', 'Kindle eBooks', 'Romance', 'Kindle eBooks', 'Romance', 'Kindle eBooks', 'Religion & Spirituality', 'Kindle eBooks', 'Literature & Fiction', 'Kindle eBooks', 'Literature & Fiction', 'Kindle eBooks', 'Mystery, Thriller & Suspense', 'Kindle eBooks', 'Literature & Fiction', 'Kindle eBooks', 'Literature & Fiction', 'Kindle eBooks', 'Literature & Fiction', 'Kindle eBooks', 'Romance', 'Kindle eBooks', 'Religion & Spirituality', 'Kindle eBooks', 'Literature & Fiction', 'Kindle eBooks', 'Literature & Fiction', 'Kindle eBooks', 'Romance', 'Kindle eBooks', 'Literature & Fiction', 'Kindle eBooks', 'Romance', 'Kindle eBooks', 'Literature & Fiction', 'Kindle eBooks', 'Literature & Fiction', 'Kindle eBooks', 'Romance', 'Kindle eBooks', 'Romance', 'Kindle eBooks', 'Literature & Fiction', 'Kindle eBooks', 'Literature & Fiction', 'Kindle eBooks', 'Politics & Social Sciences', 'Kindle eBooks', 'Romance', 'Kindle eBooks', 'Romance', 'Kindle eBooks', 'Romance', 'Kindle eBooks', 'Literature & Fiction', 'Kindle eBooks', 'Romance', 'Kindle eBooks', 'Literature & Fiction', 'Kindle eBooks', 'Romance', 'Kindle eBooks', 'Romance', 'Kindle eBooks', 'Literature & Fiction', 'Kindle eBooks', 'Literature & Fiction', 'Kindle Short Reads', 'One hour (33-43 pages)', 'Kindle eBooks', 'Literature & Fiction', 'Kindle eBooks', 'Romance', 'Kindle eBooks', 'Literature & Fiction', 'Kindle eBooks', 'Romance', 'Kindle eBooks', 'Literature & Fiction', 'Kindle eBooks', 'Literature & Fiction', 'Kindle eBooks', 'Literature & Fiction', 'Kindle eBooks', 'Romance', 'Kindle eBooks', 'Literature & Fiction', 'Kindle eBooks', 'Mystery, Thriller & Suspense', 'Kindle eBooks', 'History', 'Kindle eBooks', 'Literature & Fiction', 'Kindle eBooks', 'Teen & Young Adult', 'Kindle eBooks', 'Romance', 'Kindle eBooks', 'Literature & Fiction', 'Kindle eBooks', 'Literature & Fiction', 'Kindle eBooks', 'Literature & Fiction', 'Kindle eBooks', 'Literature & Fiction', 'Kindle eBooks', 'Literature & Fiction', 'Kindle eBooks', 'Science Fiction & Fantasy', 'Kindle eBooks', 'Literature & Fiction', 'Kindle eBooks', 'Science Fiction & Fantasy', 'Kindle eBooks', 'Literature & Fiction', 'Kindle eBooks', 'Business & Money', 'Kindle eBooks', 'Romance', 'Kindle eBooks', 'Literature & Fiction', 'Kindle eBooks', 'Literature & Fiction', 'Kindle eBooks', 'Literature & Fiction', 'Kindle eBooks', 'Romance', 'Kindle eBooks', 'Literature & Fiction', 'Kindle eBooks', 'Religion & Spirituality', 'Kindle eBooks', 'Mystery, Thriller & Suspense', 'Kindle eBooks', 'Teen & Young Adult', 'Kindle eBooks', 'Literature & Fiction', 'Kindle eBooks', 'Literature & Fiction', 'Kindle eBooks', 'Romance', 'Kindle eBooks', 'Literature & Fiction', 'Kindle eBooks', 'Mystery, Thriller & Suspense', 'Kindle eBooks', 'Romance', 'Kindle eBooks', 'Literature & Fiction', 'Kindle eBooks', 'Literature & Fiction', 'Kindle eBooks', 'Romance', 'Kindle eBooks', 'Mystery, Thriller & Suspense', 'Kindle eBooks', 'Literature & Fiction', 'Kindle eBooks', 'Comics, Manga & Graphic Novels', 'Kindle eBooks', 'Literature & Fiction', 'Kindle eBooks', 'Literature & Fiction', 'Kindle eBooks', 'Romance', 'Kindle eBooks', 'Romance', 'Kindle eBooks', 'Literature & Fiction', 'Kindle eBooks', 'Literature & Fiction', 'Kindle eBooks', 'Romance', 'Kindle eBooks', 'Literature & Fiction', 'Kindle eBooks', 'Literature & Fiction', 'Kindle eBooks', 'Literature & Fiction', 'Kindle eBooks', 'Literature & Fiction', 'Kindle eBooks', 'Literature & Fiction', 'Kindle eBooks', 'Literature & Fiction', 'Kindle eBooks', 'Romance', 'Kindle eBooks', 'Mystery, Thriller & Suspense', 'Kindle eBooks', 'Literature & Fiction', 'Kindle eBooks', 'Mystery, Thriller & Suspense', 'Kindle eBooks', 'Literature & Fiction', 'Kindle eBooks', 'Romance', 'Kindle eBooks', 'Literature & Fiction', 'Kindle eBooks', 'Romance', 'Kindle eBooks', 'Romance', 'Kindle eBooks', 'Romance', 'Kindle eBooks', 'Literature & Fiction', 'Kindle eBooks', 'Literature & Fiction', 'Kindle eBooks', 'Literature & Fiction', 'Kindle eBooks', 'Literature & Fiction', 'Kindle eBooks', 'Romance', 'Kindle eBooks', 'Literature & Fiction', 'Kindle eBooks', 'Literature & Fiction', 'Kindle eBooks', 'Literature & Fiction', 'Kindle eBooks', 'Literature & Fiction', 'Kindle eBooks', 'Literature & Fiction', 'Kindle eBooks', 'Literature & Fiction', 'Kindle eBooks', 'Science Fiction & Fantasy', 'Kindle eBooks', 'Literature & Fiction', 'Kindle eBooks', 'Mystery, Thriller & Suspense', 'Kindle eBooks', 'Literature & Fiction', 'Kindle eBooks', 'Literature & Fiction', 'Kindle eBooks', 'Literature & Fiction', 'Kindle eBooks', 'Romance', 'Kindle eBooks', 'Mystery, Thriller & Suspense', 'Kindle eBooks', 'Romance', 'Kindle eBooks', 'Literature & Fiction', 'Kindle eBooks', 'Literature & Fiction', 'Kindle eBooks', 'Science Fiction & Fantasy', 'Kindle eBooks', 'Literature & Fiction', 'Kindle eBooks', 'Literature & Fiction', 'Kindle eBooks', 'Literature & Fiction', 'Kindle eBooks', 'Romance', 'Kindle eBooks', 'Romance', 'Kindle eBooks', 'Mystery, Thriller & Suspense', 'Kindle eBooks', 'Literature & Fiction', 'Kindle eBooks', 'Literature & Fiction', 'Kindle eBooks', 'Romance', 'Kindle eBooks', 'Romance', 'Kindle eBooks', 'Literature & Fiction', 'Kindle eBooks', 'Mystery, Thriller & Suspense', 'Kindle eBooks', 'Romance', 'Kindle eBooks', 'Literature & Fiction', 'Kindle eBooks', 'Literature & Fiction', 'Kindle eBooks', 'Literature & Fiction', 'Kindle eBooks', 'Teen & Young Adult', 'Kindle eBooks', 'Religion & Spirituality', 'Kindle eBooks', 'Literature & Fiction', 'Kindle eBooks', 'Literature & Fiction', 'Kindle eBooks', 'Science Fiction & Fantasy', 'Kindle eBooks', 'Literature & Fiction', 'Kindle eBooks', 'Literature & Fiction', 'Kindle eBooks', 'Romance', 'Kindle eBooks', 'Romance', 'Kindle eBooks', 'Literature & Fiction', 'Kindle eBooks', 'Romance', 'Kindle eBooks', 'Mystery, Thriller & Suspense', 'Kindle eBooks', 'Romance', 'Kindle eBooks', 'Romance', 'Kindle eBooks', 'Romance', 'Kindle eBooks', 'Literature & Fiction', 'Kindle eBooks', 'Romance', 'Kindle eBooks', 'Mystery, Thriller & Suspense', 'Kindle eBooks', 'Romance', 'Kindle eBooks', 'Literature & Fiction', 'Kindle eBooks', 'Literature & Fiction', 'Kindle eBooks', 'Romance', 'Kindle eBooks', 'Romance', 'Kindle eBooks', 'Science Fiction & Fantasy', 'Kindle eBooks', 'Literature & Fiction', 'Kindle eBooks', 'Literature & Fiction', 'Kindle eBooks', 'Literature & Fiction', 'Kindle eBooks', 'Romance', 'Kindle eBooks', 'Romance', 'Kindle eBooks', 'Mystery, Thriller & Suspense', 'Kindle eBooks', 'Science Fiction & Fantasy', 'Kindle eBooks', 'Mystery, Thriller & Suspense', 'Kindle eBooks', 'Mystery, Thriller & Suspense', 'Kindle eBooks', 'Literature & Fiction', 'Kindle eBooks', 'Literature & Fiction', 'Kindle eBooks', 'Teen & Young Adult', 'Kindle eBooks', 'Biographies & Memoirs', 'Kindle eBooks', 'Literature & Fiction', 'Kindle eBooks', 'Literature & Fiction', 'Kindle eBooks', 'Literature & Fiction', 'Kindle eBooks', 'Romance', 'Kindle eBooks', 'Literature & Fiction', 'Kindle eBooks', 'Literature & Fiction', 'Kindle eBooks', 'Literature & Fiction', 'Kindle eBooks', 'Mystery, Thriller & Suspense', 'Kindle eBooks', 'Religion & Spirituality', 'Kindle eBooks', 'Romance', 'Kindle eBooks', 'Romance', 'Kindle eBooks', 'Literature & Fiction', 'Kindle eBooks', 'Mystery, Thriller & Suspense', 'Kindle eBooks', 'Romance', 'Kindle eBooks', 'Romance', 'Kindle eBooks', 'Literature & Fiction', 'Kindle eBooks', 'Romance', 'Kindle eBooks', 'Religion & Spirituality', 'Kindle eBooks', 'Science Fiction & Fantasy', 'Kindle eBooks', 'Romance', 'Kindle eBooks', 'Mystery, Thriller & Suspense', 'Kindle eBooks', 'Literature & Fiction', 'Kindle eBooks', 'Romance', 'Kindle eBooks', 'Literature & Fiction', 'Kindle eBooks', 'Science Fiction & Fantasy', 'Kindle eBooks', 'Literature & Fiction', 'Kindle eBooks', \"Children's eBooks\", 'Kindle eBooks', 'Literature & Fiction', 'Kindle eBooks', 'Romance', 'Kindle eBooks', 'Romance', 'Kindle eBooks', 'Romance', 'Kindle eBooks', 'Literature & Fiction', 'Kindle eBooks', 'Literature & Fiction', 'Kindle eBooks', 'Mystery, Thriller & Suspense', 'Kindle eBooks', 'Romance', 'Kindle eBooks', 'Romance', 'Kindle eBooks', 'Romance', 'Kindle eBooks', 'Literature & Fiction', 'Kindle eBooks', 'Romance', 'Kindle eBooks', 'Literature & Fiction', 'Kindle eBooks', 'Romance', 'Kindle eBooks', 'Literature & Fiction', 'Kindle eBooks', 'Teen & Young Adult', 'Kindle eBooks', 'Romance', 'Kindle eBooks', 'Literature & Fiction', 'Kindle eBooks', 'Romance', 'Kindle eBooks', 'Literature & Fiction', 'Kindle eBooks', 'Religion & Spirituality', 'Kindle eBooks', 'Literature & Fiction', 'Kindle eBooks', 'Romance', 'Kindle eBooks', 'Romance', 'Kindle eBooks', \"Children's eBooks\", 'Kindle eBooks', 'Mystery, Thriller & Suspense', 'Kindle eBooks', 'Romance', 'Kindle eBooks', 'Literature & Fiction', 'Kindle eBooks', 'Religion & Spirituality', 'Kindle eBooks', 'Mystery, Thriller & Suspense', 'Kindle eBooks', 'Science Fiction & Fantasy', 'Kindle eBooks', 'Romance', 'Kindle eBooks', 'Teen & Young Adult', 'Kindle eBooks', 'Literature & Fiction', 'Kindle eBooks', 'Literature & Fiction', 'Kindle eBooks', 'Literature & Fiction', 'Kindle eBooks', 'Romance', 'Kindle eBooks', 'Romance', 'Kindle eBooks', 'Science Fiction & Fantasy', 'Kindle eBooks', 'Romance', 'Kindle eBooks', 'Religion & Spirituality', 'Kindle eBooks', 'Literature & Fiction', 'Kindle eBooks', 'Religion & Spirituality', 'Kindle eBooks', 'Romance', 'Kindle eBooks', 'Science Fiction & Fantasy', 'Kindle eBooks', 'Romance', 'Kindle eBooks', 'Literature & Fiction', 'Kindle eBooks', 'Literature & Fiction', 'Kindle eBooks', 'Literature & Fiction', 'Kindle eBooks', 'Science Fiction & Fantasy', 'Kindle eBooks', 'Romance', 'Kindle eBooks', 'Literature & Fiction', 'Kindle eBooks', 'Romance', 'Kindle eBooks', 'Literature & Fiction', 'Kindle eBooks', 'Literature & Fiction', 'Kindle eBooks', 'Mystery, Thriller & Suspense', 'Kindle eBooks', 'Romance', 'Kindle eBooks', 'Romance', 'Kindle eBooks', 'Romance', 'Kindle eBooks', 'Self-Help', 'Kindle eBooks', 'Romance', 'Kindle eBooks', 'Mystery, Thriller & Suspense', 'Kindle eBooks', 'Romance', 'Kindle eBooks', 'Mystery, Thriller & Suspense', 'Kindle eBooks', 'Humor & Entertainment', 'Kindle eBooks', 'Literature & Fiction', 'Kindle eBooks', 'Literature & Fiction', 'Kindle eBooks', 'Romance', 'Kindle eBooks', 'Literature & Fiction', 'Kindle eBooks', 'Mystery, Thriller & Suspense', 'Kindle eBooks', 'Literature & Fiction', 'Kindle eBooks', 'Literature & Fiction', 'Kindle eBooks', 'Romance', 'Kindle eBooks', 'Romance', 'Kindle eBooks', 'Literature & Fiction', 'Kindle eBooks', 'Romance', 'Kindle eBooks', 'Romance', 'Kindle eBooks', 'Romance', 'Kindle eBooks', 'Religion & Spirituality', 'Kindle eBooks', 'Romance', 'Kindle eBooks', 'Literature & Fiction', 'Kindle eBooks', 'Romance', 'Kindle eBooks', 'Science Fiction & Fantasy', 'Kindle eBooks', 'Literature & Fiction', 'Kindle eBooks', 'Science Fiction & Fantasy', 'Kindle eBooks', 'Literature & Fiction', 'Kindle eBooks', 'Literature & Fiction', 'Kindle eBooks', 'Literature & Fiction', 'Kindle eBooks', 'Literature & Fiction', 'Kindle eBooks', 'Romance', 'Kindle eBooks', 'Literature & Fiction', 'Kindle eBooks', 'Romance', 'Kindle eBooks', 'Science Fiction & Fantasy', 'Kindle eBooks', 'Literature & Fiction', 'Kindle eBooks', 'Literature & Fiction', 'Kindle eBooks', 'Mystery, Thriller & Suspense', 'Kindle eBooks', 'Romance', 'Kindle eBooks', 'Literature & Fiction', 'Kindle eBooks', 'Literature & Fiction', 'Kindle eBooks', 'Mystery, Thriller & Suspense', 'Kindle eBooks', 'Mystery, Thriller & Suspense', 'Kindle eBooks', 'Mystery, Thriller & Suspense', 'Kindle eBooks', 'Literature & Fiction', 'Kindle eBooks', 'Literature & Fiction', 'Kindle eBooks', 'Literature & Fiction', 'Kindle eBooks', 'Romance', 'Kindle eBooks', 'Science Fiction & Fantasy', 'Kindle eBooks', 'Literature & Fiction', 'Kindle eBooks', 'Literature & Fiction', 'Kindle eBooks', 'Romance', 'Kindle eBooks', 'Romance', 'Kindle eBooks', 'Literature & Fiction', 'Kindle eBooks', 'Literature & Fiction', 'Kindle eBooks', 'Literature & Fiction', 'Kindle eBooks', 'Literature & Fiction', 'Kindle eBooks', 'Mystery, Thriller & Suspense', 'Kindle eBooks', 'Mystery, Thriller & Suspense', 'Kindle eBooks', 'Literature & Fiction', 'Kindle eBooks', 'Science Fiction & Fantasy', 'Kindle eBooks', 'Romance', 'Kindle eBooks', 'Romance', 'Kindle eBooks', 'Literature & Fiction', 'Kindle eBooks', 'Literature & Fiction', 'Kindle eBooks', 'History', 'Kindle eBooks', 'Literature & Fiction', 'Kindle eBooks', 'Romance', 'Kindle eBooks', 'Literature & Fiction', 'Kindle eBooks', 'Literature & Fiction', 'Kindle eBooks', 'Romance', 'Kindle eBooks', 'Romance', 'Kindle eBooks', 'Literature & Fiction', 'Kindle eBooks', 'Romance', 'Kindle eBooks', 'Science Fiction & Fantasy', 'Kindle eBooks', 'Literature & Fiction', 'Kindle eBooks', 'Literature & Fiction', 'Kindle eBooks', 'Romance', 'Kindle eBooks', 'Literature & Fiction', 'Kindle eBooks', 'Literature & Fiction', 'Kindle eBooks', 'Romance', 'Kindle eBooks', 'Literature & Fiction', 'Kindle eBooks', 'Romance', 'Kindle eBooks', 'Literature & Fiction', 'Kindle eBooks', 'Literature & Fiction', 'Kindle eBooks', 'Literature & Fiction', 'Kindle eBooks', 'Romance', 'Kindle eBooks', 'Literature & Fiction', 'Kindle eBooks', 'Religion & Spirituality', 'Kindle eBooks', 'Literature & Fiction', 'Kindle eBooks', 'Literature & Fiction', 'Kindle eBooks', 'Literature & Fiction', 'Kindle eBooks', 'Literature & Fiction', 'Kindle eBooks', 'Mystery, Thriller & Suspense', 'Kindle eBooks', 'Romance', 'Kindle eBooks', 'Teen & Young Adult', 'Kindle eBooks', 'Literature & Fiction', 'Kindle eBooks', 'Romance', 'Kindle eBooks', 'Literature & Fiction', 'Kindle eBooks', 'Literature & Fiction', 'Kindle eBooks', 'Romance', 'Kindle eBooks', 'Literature & Fiction', 'Kindle eBooks', 'Literature & Fiction', 'Kindle eBooks', 'Literature & Fiction', 'Kindle eBooks', 'Teen & Young Adult', 'Kindle eBooks', 'Literature & Fiction', 'Kindle eBooks', 'Humor & Entertainment', 'Kindle eBooks', 'Reference', 'Kindle eBooks', 'Romance', 'Kindle eBooks', 'Literature & Fiction', 'Kindle eBooks', 'Literature & Fiction', 'Kindle eBooks', 'Literature & Fiction', 'Kindle eBooks', 'Biographies & Memoirs', 'Kindle eBooks', 'Mystery, Thriller & Suspense', 'Kindle eBooks', 'Literature & Fiction', 'Kindle eBooks', 'Literature & Fiction', 'Kindle eBooks', 'Literature & Fiction', 'Kindle eBooks', 'Literature & Fiction', 'Kindle eBooks', 'Romance', 'Kindle eBooks', 'Romance', 'Kindle eBooks', 'Literature & Fiction', 'Kindle eBooks', 'Romance', 'Kindle eBooks', 'Science Fiction & Fantasy', 'Kindle eBooks', 'Literature & Fiction', 'Kindle eBooks', 'Literature & Fiction', 'Kindle eBooks', 'Literature & Fiction', 'Kindle eBooks', 'Romance', 'Kindle eBooks', 'Literature & Fiction', 'Kindle eBooks', 'Mystery, Thriller & Suspense', 'Kindle eBooks', 'Romance', 'Kindle eBooks', 'Romance', 'Kindle eBooks', 'Romance', 'Kindle eBooks', 'Literature & Fiction', 'Kindle eBooks', 'Literature & Fiction', 'Kindle eBooks', 'Literature & Fiction', 'Kindle eBooks', 'Literature & Fiction', 'Kindle eBooks', 'Romance', 'Kindle eBooks', 'Romance', 'Kindle eBooks', 'Romance', 'Kindle eBooks', 'Romance', 'Kindle eBooks', 'Science Fiction & Fantasy', 'Kindle eBooks', 'Literature & Fiction', 'Kindle eBooks', 'Literature & Fiction', 'Kindle eBooks', 'Mystery, Thriller & Suspense', 'Kindle eBooks', 'Romance', 'Kindle eBooks', 'Literature & Fiction', 'Kindle eBooks', 'Literature & Fiction', 'Kindle eBooks', 'Literature & Fiction', 'Kindle eBooks', 'Literature & Fiction', 'Kindle eBooks', 'Literature & Fiction', 'Kindle eBooks', 'Literature & Fiction', 'Kindle eBooks', 'Romance', 'Kindle eBooks', 'Romance', 'Kindle eBooks', 'Romance', 'Kindle eBooks', 'Romance', 'Kindle eBooks', 'Romance', 'Kindle eBooks', 'Science Fiction & Fantasy', 'Kindle eBooks', 'Teen & Young Adult', 'Kindle eBooks', 'Literature & Fiction', 'Kindle eBooks', 'Romance', 'Kindle eBooks', 'Romance', 'Kindle eBooks', 'Romance', 'Kindle eBooks', 'Literature & Fiction', 'Kindle eBooks', 'Romance', 'Kindle eBooks', 'Romance', 'Kindle eBooks', 'Teen & Young Adult', 'Kindle eBooks', 'Romance', 'Kindle eBooks', 'Literature & Fiction', 'Kindle eBooks', 'Literature & Fiction', 'Kindle eBooks', 'Literature & Fiction', 'Kindle eBooks', 'Literature & Fiction', 'Kindle eBooks', 'Literature & Fiction', 'Kindle eBooks', 'Literature & Fiction', 'Kindle eBooks', 'Literature & Fiction', 'Kindle eBooks', 'Literature & Fiction', 'Kindle eBooks', 'Mystery, Thriller & Suspense', 'Kindle eBooks', 'Romance', 'Kindle eBooks', 'Literature & Fiction', 'Kindle eBooks', 'Literature & Fiction', 'Kindle eBooks', 'Romance', 'Kindle eBooks', 'Religion & Spirituality', 'Kindle eBooks', 'Romance', 'Kindle eBooks', 'Romance', 'Kindle eBooks', 'Romance', 'Kindle eBooks', 'Literature & Fiction', 'Kindle eBooks', 'Romance', 'Kindle eBooks', 'Romance', 'Kindle eBooks', 'Literature & Fiction', 'Kindle eBooks', 'Literature & Fiction', 'Kindle eBooks', 'Romance', 'Kindle eBooks', 'Literature & Fiction', 'Kindle eBooks', 'Mystery, Thriller & Suspense', 'Kindle eBooks', 'Teen & Young Adult', 'Kindle eBooks', 'Romance', 'Kindle eBooks', 'Romance', 'Kindle eBooks', 'Literature & Fiction', 'Kindle eBooks', 'Romance', 'Kindle eBooks', 'Teen & Young Adult', 'Kindle eBooks', 'Romance', 'Kindle eBooks', 'Romance', 'Kindle eBooks', 'Literature & Fiction', 'Kindle eBooks', 'Mystery, Thriller & Suspense', 'Kindle eBooks', 'Literature & Fiction', 'Kindle eBooks', 'Literature & Fiction', 'Kindle eBooks', 'Literature & Fiction', 'Kindle eBooks', 'Science Fiction & Fantasy', 'Kindle eBooks', 'Literature & Fiction', 'Kindle eBooks', 'Romance', 'Kindle eBooks', 'Literature & Fiction', 'Kindle eBooks', 'Literature & Fiction', 'Kindle eBooks', 'Romance', 'Kindle eBooks', 'Mystery, Thriller & Suspense', 'Kindle eBooks', 'Romance', 'Kindle eBooks', 'Literature & Fiction', 'Kindle eBooks', 'Romance', 'Kindle eBooks', 'Romance', 'Kindle eBooks', 'Romance', 'Kindle eBooks', 'Romance', 'Kindle eBooks', 'Mystery, Thriller & Suspense', 'Kindle eBooks', 'Literature & Fiction', 'Kindle eBooks', 'Literature & Fiction', 'Kindle eBooks', 'Romance', 'Kindle eBooks', 'Mystery, Thriller & Suspense', 'Kindle eBooks', 'Mystery, Thriller & Suspense', 'Kindle eBooks', 'Literature & Fiction', 'Kindle eBooks', 'Romance', 'Kindle eBooks', 'Romance', 'Kindle eBooks', 'Romance', 'Kindle eBooks', 'Religion & Spirituality', 'Kindle eBooks', 'Literature & Fiction', 'Kindle eBooks', 'Literature & Fiction', 'Kindle eBooks', 'Religion & Spirituality', 'Kindle eBooks', 'Literature & Fiction', 'Kindle eBooks', 'Literature & Fiction', 'Kindle eBooks', 'Religion & Spirituality', 'Kindle eBooks', 'Romance', 'Kindle eBooks', 'Literature & Fiction', 'Kindle eBooks', 'Literature & Fiction', 'Kindle eBooks', 'Literature & Fiction', 'Kindle eBooks', 'Literature & Fiction', 'Kindle eBooks', 'Romance', 'Kindle eBooks', 'Romance', 'Kindle eBooks', 'Literature & Fiction', 'Kindle eBooks', 'Literature & Fiction', 'Kindle eBooks', 'Literature & Fiction', 'Kindle eBooks', 'Religion & Spirituality', 'Kindle eBooks', 'Literature & Fiction', 'Kindle eBooks', 'Romance', 'Kindle eBooks', 'Literature & Fiction', 'Kindle eBooks', 'Romance', 'Kindle eBooks', 'Literature & Fiction', 'Kindle eBooks', 'Romance', 'Kindle eBooks', 'Romance', 'Kindle eBooks', 'Literature & Fiction', 'Kindle eBooks', 'Literature & Fiction', 'Kindle eBooks', 'Literature & Fiction', 'Kindle eBooks', 'Literature & Fiction', 'Kindle eBooks', 'Literature & Fiction', 'Kindle eBooks', 'Literature & Fiction', 'Kindle eBooks', 'Romance', 'Kindle eBooks', 'Literature & Fiction', 'Kindle eBooks', 'Romance', 'Kindle eBooks', 'Science Fiction & Fantasy', 'Kindle eBooks', 'Mystery, Thriller & Suspense', 'Kindle eBooks', 'Literature & Fiction', 'Kindle eBooks', 'Literature & Fiction', 'Kindle eBooks', 'Romance', 'Kindle eBooks', 'Romance', 'Kindle eBooks', 'Mystery, Thriller & Suspense', 'Kindle eBooks', 'Mystery, Thriller & Suspense', 'Kindle eBooks', 'Romance', 'Kindle eBooks', 'Romance', 'Kindle eBooks', 'Romance', 'Kindle eBooks', 'Mystery, Thriller & Suspense', 'Kindle eBooks', 'Literature & Fiction', 'Kindle eBooks', 'Literature & Fiction', 'Kindle eBooks', 'Science Fiction & Fantasy', 'Kindle eBooks', 'Literature & Fiction', 'Kindle eBooks', 'Literature & Fiction', 'Kindle eBooks', 'Romance', 'Kindle eBooks', 'Romance', 'Kindle eBooks', 'Literature & Fiction', 'Kindle eBooks', 'Literature & Fiction', 'Kindle eBooks', 'Literature & Fiction', 'Kindle eBooks', 'Literature & Fiction', 'Kindle eBooks', 'Literature & Fiction', 'Kindle eBooks', 'Literature & Fiction', 'Kindle eBooks', 'Romance', 'Kindle eBooks', 'Literature & Fiction', 'Kindle eBooks', 'Literature & Fiction', 'Kindle eBooks', 'Literature & Fiction', 'Kindle eBooks', 'Romance', 'Kindle eBooks', 'Romance', 'Kindle eBooks', 'Literature & Fiction', 'Kindle eBooks', 'Literature & Fiction', 'Kindle eBooks', 'Literature & Fiction', 'Kindle eBooks', 'Romance', 'Kindle eBooks', 'Romance', 'Kindle eBooks', 'Literature & Fiction', 'Kindle eBooks', 'Literature & Fiction', 'Kindle eBooks', 'History', 'Kindle eBooks', 'Science Fiction & Fantasy', 'Kindle eBooks', 'Literature & Fiction', 'Kindle eBooks', 'Romance', 'Kindle eBooks', 'Romance', 'Kindle eBooks', 'Romance', 'Kindle eBooks', 'Romance', 'Kindle eBooks', 'Literature & Fiction', 'Kindle eBooks', 'Literature & Fiction', 'Kindle eBooks', 'Romance', 'Kindle eBooks', 'Literature & Fiction', 'Kindle eBooks', 'Literature & Fiction', 'Kindle eBooks', 'Literature & Fiction', 'Kindle eBooks', 'Literature & Fiction', 'Kindle eBooks', 'Romance', 'Kindle eBooks', 'Romance', 'Kindle eBooks', 'Cookbooks, Food & Wine', 'Kindle eBooks', 'Literature & Fiction', 'Kindle eBooks', 'Mystery, Thriller & Suspense', 'Kindle eBooks', 'Romance', 'Kindle eBooks', 'Literature & Fiction', 'Kindle eBooks', 'Mystery, Thriller & Suspense', 'Kindle eBooks', 'Romance', 'Kindle eBooks', 'Romance', 'Kindle eBooks', 'Literature & Fiction', 'Kindle eBooks', 'Literature & Fiction', 'Kindle eBooks', 'Literature & Fiction', 'Kindle eBooks', 'Literature & Fiction', 'Kindle eBooks', 'Mystery, Thriller & Suspense', 'Kindle eBooks', 'Romance', 'Kindle eBooks', 'Romance', 'Kindle eBooks', 'Literature & Fiction', 'Kindle eBooks', 'Literature & Fiction', 'Kindle eBooks', 'Literature & Fiction', 'Kindle eBooks', 'Mystery, Thriller & Suspense', 'Kindle eBooks', 'Literature & Fiction', 'Kindle eBooks', 'Mystery, Thriller & Suspense', 'Kindle eBooks', 'Literature & Fiction', 'Kindle eBooks', 'Literature & Fiction', 'Kindle eBooks', 'Literature & Fiction', 'Kindle eBooks', 'Literature & Fiction', 'Kindle eBooks', 'Romance', 'Kindle eBooks', 'Literature & Fiction', 'Kindle eBooks', 'Literature & Fiction', 'Kindle eBooks', 'Literature & Fiction', 'Kindle eBooks', 'Romance', 'Kindle eBooks', 'Romance', 'Kindle eBooks', 'Literature & Fiction', 'Kindle eBooks', 'Romance', 'Kindle eBooks', 'Romance', 'Kindle eBooks', 'Literature & Fiction', 'Kindle eBooks', 'Literature & Fiction', 'Kindle eBooks', 'Romance', 'Kindle eBooks', 'Romance', 'Kindle eBooks', 'Romance', 'Kindle eBooks', 'Romance', 'Kindle eBooks', 'Romance', 'Kindle eBooks', 'Science Fiction & Fantasy', 'Kindle eBooks', 'Literature & Fiction', 'Kindle eBooks', 'Romance', 'Kindle eBooks', 'Literature & Fiction', 'Kindle eBooks', 'Literature & Fiction', 'Kindle eBooks', 'Literature & Fiction', 'Kindle eBooks', 'Literature & Fiction', 'Kindle eBooks', 'Literature & Fiction', 'Kindle eBooks', 'Romance', 'Kindle eBooks', 'Literature & Fiction', 'Kindle eBooks', 'Science Fiction & Fantasy', 'Kindle eBooks', 'Literature & Fiction', 'Kindle eBooks', 'Literature & Fiction', 'Kindle eBooks', 'Romance', 'Kindle eBooks', 'Literature & Fiction', 'Kindle eBooks', 'Arts & Photography', 'Kindle eBooks', 'Literature & Fiction', 'Kindle eBooks', 'Religion & Spirituality', 'Kindle eBooks', 'Romance', 'Kindle eBooks', 'Literature & Fiction', 'Kindle eBooks', 'Literature & Fiction', 'Kindle eBooks', 'Literature & Fiction', 'Kindle eBooks', 'Literature & Fiction', 'Kindle eBooks', 'Literature & Fiction', 'Kindle eBooks', 'Romance', 'Kindle eBooks', 'Romance', 'Kindle eBooks', 'Mystery, Thriller & Suspense', 'Kindle eBooks', 'Mystery, Thriller & Suspense', 'Kindle eBooks', 'Science Fiction & Fantasy', 'Kindle eBooks', 'Romance', 'Kindle eBooks', \"Children's eBooks\", 'Kindle eBooks', 'Literature & Fiction', 'Kindle eBooks', 'Literature & Fiction', 'Kindle eBooks', 'Literature & Fiction', 'Kindle eBooks', 'Romance', 'Kindle eBooks', 'Literature & Fiction', 'Kindle eBooks', 'Romance', 'Kindle eBooks', 'Romance', 'Kindle eBooks', 'Romance', 'Kindle eBooks', 'Literature & Fiction', 'Kindle eBooks', 'Literature & Fiction', 'Kindle eBooks', 'Literature & Fiction', 'Kindle eBooks', 'Romance', 'Kindle eBooks', 'Literature & Fiction', 'Kindle eBooks', 'Literature & Fiction', 'Kindle eBooks', 'Romance', 'Kindle eBooks', 'Literature & Fiction', 'Kindle eBooks', 'Romance', 'Kindle eBooks', 'Literature & Fiction', 'Kindle eBooks', 'Literature & Fiction', 'Kindle eBooks', 'Literature & Fiction', 'Kindle eBooks', 'Literature & Fiction', 'Kindle eBooks', 'Literature & Fiction', 'Kindle eBooks', 'Romance', 'Kindle eBooks', 'Romance', 'Kindle eBooks', 'Literature & Fiction', 'Kindle eBooks', 'Romance', 'Kindle eBooks', 'Literature & Fiction', 'Kindle eBooks', 'Literature & Fiction', 'Kindle eBooks', 'Mystery, Thriller & Suspense', 'Kindle eBooks', 'Science Fiction & Fantasy', 'Kindle eBooks', 'Literature & Fiction', 'Kindle eBooks', 'Mystery, Thriller & Suspense', 'Kindle eBooks', 'Literature & Fiction', 'Kindle eBooks', 'Literature & Fiction', 'Kindle eBooks', 'Literature & Fiction', 'Kindle eBooks', 'Romance', 'Kindle eBooks', 'Literature & Fiction', 'Kindle eBooks', 'Literature & Fiction', 'Kindle eBooks', 'Romance', 'Kindle eBooks', 'Religion & Spirituality', 'Kindle eBooks', 'Romance', 'Kindle eBooks', 'Literature & Fiction', 'Kindle eBooks', 'Literature & Fiction', 'Kindle eBooks', 'Literature & Fiction', 'Kindle eBooks', 'Literature & Fiction', 'Kindle eBooks', 'Romance', 'Kindle eBooks', 'Romance', 'Kindle eBooks', 'Mystery, Thriller & Suspense', 'Kindle eBooks', 'Literature & Fiction', 'Kindle eBooks', 'Mystery, Thriller & Suspense', 'Kindle eBooks', 'Literature & Fiction', 'Kindle eBooks', 'Mystery, Thriller & Suspense', 'Kindle eBooks', 'Literature & Fiction', 'Kindle eBooks', 'Literature & Fiction', 'Kindle eBooks', 'Literature & Fiction', 'Kindle eBooks', 'Literature & Fiction', 'Kindle eBooks', 'Literature & Fiction', 'Kindle eBooks', 'Literature & Fiction', 'Kindle eBooks', 'Mystery, Thriller & Suspense', 'Kindle eBooks', 'Literature & Fiction', 'Kindle eBooks', 'Literature & Fiction', 'Kindle eBooks', 'Literature & Fiction', 'Kindle eBooks', 'Literature & Fiction', 'Kindle eBooks', 'Romance', 'Kindle eBooks', 'Romance', 'Kindle eBooks', 'Literature & Fiction', 'Kindle eBooks', 'Mystery, Thriller & Suspense', 'Kindle eBooks', 'Literature & Fiction', 'Kindle eBooks', 'Romance', 'Kindle eBooks', 'Literature & Fiction', 'Kindle eBooks', 'Science Fiction & Fantasy', 'Kindle eBooks', 'Romance', 'Kindle eBooks', 'Science Fiction & Fantasy', 'Kindle eBooks', 'Literature & Fiction', 'Kindle eBooks', 'Romance', 'Kindle eBooks', 'Romance', 'Kindle eBooks', 'Romance', 'Kindle eBooks', 'Literature & Fiction', 'Kindle eBooks', 'Literature & Fiction', 'Kindle eBooks', 'Romance', 'Kindle eBooks', 'Literature & Fiction', 'Kindle eBooks', 'Literature & Fiction', 'Kindle eBooks', 'Literature & Fiction', 'Kindle eBooks', 'Literature & Fiction', 'Kindle eBooks', 'Romance', 'Kindle eBooks', 'Religion & Spirituality', 'Kindle eBooks', 'Literature & Fiction', 'Kindle eBooks', 'Literature & Fiction', 'Kindle eBooks', 'Romance', 'Kindle eBooks', 'Literature & Fiction', 'Kindle eBooks', 'Literature & Fiction', 'Kindle eBooks', 'Romance', 'Kindle eBooks', 'Religion & Spirituality', 'Kindle eBooks', 'Literature & Fiction', 'Kindle eBooks', 'Education & Teaching', 'Kindle eBooks', 'Literature & Fiction', 'Kindle eBooks', 'Literature & Fiction', 'Kindle eBooks', 'Literature & Fiction', 'Kindle eBooks', 'Teen & Young Adult', 'Kindle eBooks', 'Science Fiction & Fantasy', 'Kindle eBooks', 'Literature & Fiction', 'Kindle eBooks', 'Literature & Fiction', 'Kindle eBooks', 'Romance', 'Kindle eBooks', 'Literature & Fiction', 'Kindle eBooks', 'Romance', 'Kindle eBooks', 'Romance', 'Kindle eBooks', 'Romance', 'Kindle eBooks', 'Literature & Fiction', 'Kindle eBooks', 'Science Fiction & Fantasy', 'Kindle eBooks', 'Literature & Fiction', 'Kindle eBooks', 'Romance', 'Kindle eBooks', 'Religion & Spirituality', 'Kindle eBooks', 'Romance', 'Kindle eBooks', 'Romance', 'Kindle eBooks', 'Literature & Fiction', 'Kindle eBooks', 'Mystery, Thriller & Suspense', 'Kindle eBooks', 'Romance', 'Kindle eBooks', 'Romance', 'Kindle eBooks', 'Literature & Fiction', 'Kindle eBooks', 'Romance', 'Kindle eBooks', 'Literature & Fiction', 'Kindle eBooks', 'Science Fiction & Fantasy', 'Kindle eBooks', 'Romance', 'Kindle eBooks', 'Romance', 'Kindle eBooks', 'Literature & Fiction', 'Kindle eBooks', 'Romance', 'Kindle eBooks', 'Mystery, Thriller & Suspense', 'Kindle eBooks', 'Mystery, Thriller & Suspense', 'Kindle eBooks', 'Literature & Fiction', 'Kindle eBooks', 'Literature & Fiction', 'Kindle eBooks', 'Romance', 'Kindle eBooks', 'Literature & Fiction', 'Kindle eBooks', 'Literature & Fiction', 'Kindle eBooks', 'Literature & Fiction', 'Kindle eBooks', 'Literature & Fiction', 'Kindle eBooks', 'Literature & Fiction', 'Kindle eBooks', 'Romance', 'Kindle eBooks', 'Literature & Fiction', 'Kindle eBooks', 'Mystery, Thriller & Suspense', 'Kindle eBooks', 'Romance', 'Kindle eBooks', 'Romance', 'Kindle eBooks', 'Romance', 'Kindle eBooks', 'Literature & Fiction', 'Kindle eBooks', 'Literature & Fiction', 'Kindle eBooks', 'Science Fiction & Fantasy', 'Kindle eBooks', 'Romance', 'Kindle eBooks', 'Romance', 'Kindle eBooks', 'Literature & Fiction', 'Kindle eBooks', 'Literature & Fiction', 'Kindle eBooks', 'Mystery, Thriller & Suspense', 'Kindle eBooks', 'Romance', 'Kindle eBooks', 'Literature & Fiction', 'Kindle eBooks', 'Literature & Fiction', 'Kindle eBooks', 'Literature & Fiction', 'Kindle eBooks', 'Religion & Spirituality', 'Kindle eBooks', \"Children's eBooks\", 'Kindle eBooks', 'Romance', 'Kindle eBooks', 'Literature & Fiction', 'Kindle eBooks', 'Literature & Fiction', 'Kindle eBooks', 'Literature & Fiction', 'Kindle eBooks', 'Literature & Fiction', 'Kindle eBooks', 'Religion & Spirituality', 'Kindle eBooks', 'Literature & Fiction', 'Kindle eBooks', 'Literature & Fiction', 'Kindle eBooks', 'Literature & Fiction', 'Kindle eBooks', 'Literature & Fiction', 'Kindle eBooks', 'Science Fiction & Fantasy', 'Kindle eBooks', 'Literature & Fiction', 'Kindle eBooks', 'Science Fiction & Fantasy', 'Kindle eBooks', 'Romance', 'Kindle eBooks', 'Romance', 'Kindle eBooks', 'Romance', 'Kindle eBooks', 'Literature & Fiction', 'Kindle eBooks', 'Literature & Fiction', 'Kindle eBooks', 'Literature & Fiction', 'Kindle eBooks', 'Science Fiction & Fantasy', 'Kindle eBooks', 'Literature & Fiction', 'Kindle eBooks', 'Literature & Fiction', 'Kindle eBooks', 'Literature & Fiction', 'Kindle eBooks', 'Literature & Fiction', 'Kindle eBooks', 'Literature & Fiction', 'Kindle eBooks', 'Romance', 'Kindle eBooks', 'Mystery, Thriller & Suspense', 'Kindle eBooks', 'Literature & Fiction', 'Kindle eBooks', 'Literature & Fiction', 'Kindle eBooks', 'Literature & Fiction', 'Kindle eBooks', 'Literature & Fiction', 'Kindle eBooks', 'Romance', 'Kindle eBooks', 'Literature & Fiction', 'Kindle eBooks', 'Literature & Fiction', 'Kindle eBooks', 'Literature & Fiction', 'Kindle eBooks', 'Literature & Fiction', 'Kindle eBooks', 'Literature & Fiction', 'Kindle eBooks', 'Literature & Fiction', 'Kindle eBooks', 'Engineering & Transportation', 'Kindle eBooks', 'Mystery, Thriller & Suspense', 'Kindle eBooks', 'Literature & Fiction', 'Kindle eBooks', 'Romance', 'Kindle eBooks', 'Literature & Fiction', 'Kindle eBooks', 'Romance', 'Kindle eBooks', 'Literature & Fiction', 'Kindle eBooks', 'Romance', 'Kindle eBooks', 'Literature & Fiction', 'Kindle eBooks', 'Romance', 'Kindle eBooks', 'Mystery, Thriller & Suspense', 'Kindle Short Reads', 'One hour (33-43 pages)', 'Kindle eBooks', 'Mystery, Thriller & Suspense', 'Kindle eBooks', 'Romance', 'Kindle eBooks', 'Literature & Fiction', 'Kindle eBooks', 'Literature & Fiction', 'Kindle eBooks', 'Literature & Fiction', 'Kindle eBooks', 'Romance', 'Kindle eBooks', 'Literature & Fiction', 'Kindle eBooks', 'Romance', 'Kindle eBooks', 'Literature & Fiction', 'Kindle eBooks', 'Literature & Fiction', 'Kindle eBooks', 'Literature & Fiction', 'Kindle eBooks', 'Teen & Young Adult', 'Kindle eBooks', 'Teen & Young Adult', 'Kindle eBooks', 'Literature & Fiction', 'Kindle eBooks', 'Romance', 'Kindle eBooks', 'Literature & Fiction', 'Kindle eBooks', 'Literature & Fiction', 'Kindle eBooks', 'Literature & Fiction', 'Kindle eBooks', 'Literature & Fiction', 'Kindle eBooks', 'Literature & Fiction', 'Kindle eBooks', 'Romance', 'Kindle eBooks', 'Literature & Fiction', 'Kindle eBooks', 'Romance', 'Kindle eBooks', 'Romance', 'Kindle eBooks', 'Literature & Fiction', 'Kindle eBooks', 'Literature & Fiction', 'Kindle eBooks', 'Romance', 'Kindle eBooks', 'Romance', 'Kindle eBooks', 'Romance', 'Kindle eBooks', 'Romance', 'Kindle eBooks', 'Romance', 'Kindle eBooks', 'Romance', 'Kindle eBooks', 'Literature & Fiction', 'Kindle eBooks', 'Literature & Fiction', 'Kindle eBooks', 'Religion & Spirituality', 'Kindle eBooks', 'Literature & Fiction', 'Kindle eBooks', 'Romance', 'Kindle eBooks', 'Literature & Fiction', 'Kindle eBooks', 'Literature & Fiction', 'Kindle eBooks', 'Literature & Fiction', 'Kindle eBooks', 'Romance', 'Kindle eBooks', 'Religion & Spirituality', 'Kindle eBooks', 'Mystery, Thriller & Suspense', 'Kindle eBooks', 'Religion & Spirituality', 'Kindle eBooks', 'Romance', 'Kindle eBooks', 'Romance', 'Kindle eBooks', 'Literature & Fiction', 'Kindle eBooks', 'Romance', 'Kindle eBooks', 'Science Fiction & Fantasy', 'Kindle eBooks', 'Literature & Fiction', 'Kindle eBooks', 'Cookbooks, Food & Wine', 'Kindle eBooks', 'Literature & Fiction', 'Kindle eBooks', 'Literature & Fiction', 'Kindle eBooks', 'Literature & Fiction', 'Kindle eBooks', 'Literature & Fiction', 'Kindle eBooks', 'Literature & Fiction', 'Kindle eBooks', 'Literature & Fiction', 'Kindle eBooks', 'Literature & Fiction', 'Kindle eBooks', 'Romance', 'Kindle eBooks', 'Science Fiction & Fantasy', 'Kindle eBooks', 'Literature & Fiction', 'Kindle eBooks', 'Mystery, Thriller & Suspense', 'Kindle eBooks', 'Literature & Fiction', 'Kindle eBooks', 'Literature & Fiction', 'Kindle eBooks', 'Romance', 'Kindle eBooks', 'Romance', 'Kindle eBooks', \"Children's eBooks\", 'Kindle eBooks', 'Religion & Spirituality', 'Kindle eBooks', 'Literature & Fiction', 'Kindle eBooks', 'Health, Fitness & Dieting', 'Kindle eBooks', 'Literature & Fiction', 'Kindle eBooks', 'Teen & Young Adult', 'Kindle eBooks', 'Literature & Fiction', 'Kindle eBooks', 'Literature & Fiction', 'Kindle eBooks', 'Literature & Fiction', 'Kindle eBooks', 'Literature & Fiction', 'Kindle eBooks', 'Science Fiction & Fantasy', 'Kindle eBooks', 'Mystery, Thriller & Suspense', 'Kindle eBooks', 'Romance', 'Kindle eBooks', 'Literature & Fiction', 'Kindle eBooks', 'Literature & Fiction', 'Kindle eBooks', 'Literature & Fiction', 'Kindle eBooks', 'Literature & Fiction', 'Kindle eBooks', 'Literature & Fiction', 'Kindle eBooks', 'Romance', 'Kindle eBooks', 'Literature & Fiction', 'Kindle eBooks', 'Romance', 'Kindle eBooks', 'Romance', 'Kindle eBooks', 'Literature & Fiction', 'Kindle eBooks', 'Teen & Young Adult', 'Kindle eBooks', 'Teen & Young Adult', 'Kindle eBooks', 'Science & Math', 'Kindle eBooks', 'Science & Math', 'Kindle eBooks', 'Literature & Fiction', 'Kindle eBooks', 'Romance', 'Kindle eBooks', 'Romance', 'Kindle eBooks', 'Literature & Fiction', 'Kindle eBooks', 'Mystery, Thriller & Suspense', 'Kindle eBooks', 'Religion & Spirituality', 'Kindle eBooks', 'Literature & Fiction', 'Kindle eBooks', 'Romance', 'Kindle eBooks', 'Romance', 'Kindle eBooks', 'Literature & Fiction', 'Kindle eBooks', 'Literature & Fiction', 'Kindle eBooks', 'Literature & Fiction', 'Kindle eBooks', 'Romance', 'Kindle eBooks', 'Mystery, Thriller & Suspense', 'Kindle eBooks', 'Romance', 'Kindle eBooks', 'Literature & Fiction', 'Kindle eBooks', 'Literature & Fiction', 'Kindle eBooks', 'Literature & Fiction', 'Kindle eBooks', 'Literature & Fiction', 'Kindle eBooks', 'Literature & Fiction', 'Kindle eBooks', 'Literature & Fiction', 'Kindle eBooks', 'Romance', 'Kindle eBooks', 'Science Fiction & Fantasy', 'Kindle eBooks', 'Literature & Fiction', 'Kindle eBooks', 'Literature & Fiction', 'Kindle eBooks', 'Literature & Fiction', 'Kindle eBooks', 'Literature & Fiction', 'Kindle eBooks', 'Literature & Fiction', 'Kindle eBooks', 'Literature & Fiction', 'Kindle eBooks', 'Literature & Fiction', 'Kindle eBooks', 'Literature & Fiction', 'Kindle eBooks', 'Literature & Fiction', 'Kindle eBooks', 'Mystery, Thriller & Suspense', 'Kindle eBooks', 'Literature & Fiction', 'Kindle eBooks', 'Literature & Fiction', 'Kindle eBooks', 'Literature & Fiction', 'Kindle eBooks', 'Literature & Fiction', 'Kindle eBooks', 'Literature & Fiction', 'Kindle eBooks', 'Science Fiction & Fantasy', 'Kindle eBooks', 'Literature & Fiction', 'Kindle eBooks', 'Business & Money', 'Kindle eBooks', 'Religion & Spirituality', 'Kindle eBooks', 'Romance', 'Kindle eBooks', 'Romance', 'Kindle eBooks', 'Teen & Young Adult', 'Kindle eBooks', 'Literature & Fiction', 'Kindle eBooks', 'Biographies & Memoirs', 'Kindle eBooks', 'Literature & Fiction', 'Kindle eBooks', 'Health, Fitness & Dieting', 'Kindle eBooks', 'Literature & Fiction', 'Kindle eBooks', 'Romance', 'Kindle eBooks', 'Romance', 'Kindle eBooks', 'Romance', 'Kindle eBooks', 'Romance', 'Kindle eBooks', 'Science Fiction & Fantasy', 'Kindle eBooks', 'Romance', 'Kindle eBooks', 'Literature & Fiction', 'Kindle eBooks', 'Literature & Fiction', 'Kindle eBooks', 'Literature & Fiction', 'Kindle eBooks', 'Literature & Fiction', 'Kindle eBooks', 'Literature & Fiction', 'Kindle eBooks', 'Romance', 'Kindle eBooks', 'Literature & Fiction', 'Kindle eBooks', 'Romance', 'Kindle eBooks', 'Literature & Fiction', 'Kindle eBooks', 'Romance', 'Kindle eBooks', 'Literature & Fiction', 'Kindle eBooks', 'Mystery, Thriller & Suspense', 'Kindle eBooks', 'Literature & Fiction', 'Kindle eBooks', 'Literature & Fiction', 'Kindle eBooks', 'Literature & Fiction', 'Kindle eBooks', 'Romance', 'Kindle eBooks', 'Romance', 'Kindle eBooks', 'Romance', 'Kindle eBooks', 'Romance', 'Kindle eBooks', 'Science Fiction & Fantasy', 'Kindle eBooks', 'Romance', 'Kindle eBooks', 'Literature & Fiction', 'Kindle eBooks', 'Romance', 'Kindle eBooks', 'Literature & Fiction', 'Kindle eBooks', 'Romance', 'Kindle eBooks', 'Literature & Fiction', 'Kindle eBooks', 'Romance', 'Kindle eBooks', 'Romance', 'Kindle eBooks', 'Literature & Fiction', 'Kindle eBooks', 'Romance', 'Kindle eBooks', 'Literature & Fiction', 'Kindle eBooks', 'Nonfiction', 'Kindle eBooks', 'Romance', 'Kindle eBooks', 'Romance', 'Kindle eBooks', 'Teen & Young Adult', 'Kindle eBooks', 'Romance', 'Kindle eBooks', 'Romance', 'Kindle eBooks', 'Romance', 'Kindle eBooks', 'Science Fiction & Fantasy', 'Kindle eBooks', 'Literature & Fiction', 'Kindle eBooks', 'Romance', 'Kindle eBooks', 'Literature & Fiction', 'Kindle eBooks', 'Romance', 'Kindle eBooks', 'Romance', 'Kindle eBooks', 'Romance', 'Kindle eBooks', 'Romance', 'Kindle eBooks', 'Literature & Fiction', 'Kindle eBooks', 'Literature & Fiction', 'Kindle eBooks', 'Romance', 'Kindle eBooks', 'Literature & Fiction', 'Kindle eBooks', 'Science Fiction & Fantasy', 'Kindle eBooks', 'Literature & Fiction', 'Kindle eBooks', 'Romance', 'Kindle eBooks', 'Romance', 'Kindle eBooks', 'Literature & Fiction', 'Kindle eBooks', 'Literature & Fiction', 'Kindle eBooks', 'Science Fiction & Fantasy', 'Kindle eBooks', 'Literature & Fiction', 'Kindle eBooks', 'Literature & Fiction', 'Kindle eBooks', 'Romance', 'Kindle eBooks', 'Romance', 'Kindle eBooks', 'Literature & Fiction', 'Kindle eBooks', 'Mystery, Thriller & Suspense', 'Kindle eBooks', 'Romance', 'Kindle eBooks', 'Science Fiction & Fantasy', 'Kindle eBooks', 'Literature & Fiction', 'Kindle eBooks', 'History', 'Kindle eBooks', 'Literature & Fiction', 'Kindle eBooks', 'Literature & Fiction', 'Kindle eBooks', 'Romance', 'Kindle eBooks', 'Literature & Fiction', 'Kindle eBooks', 'Romance', 'Kindle eBooks', 'Romance', 'Kindle eBooks', 'Romance', 'Kindle eBooks', 'Literature & Fiction', 'Kindle eBooks', 'Literature & Fiction', 'Kindle eBooks', 'Literature & Fiction', 'Kindle eBooks', 'Literature & Fiction', 'Kindle eBooks', 'Literature & Fiction', 'Kindle eBooks', 'Romance', 'Kindle eBooks', 'Romance', 'Kindle eBooks', 'Literature & Fiction', 'Kindle eBooks', 'Mystery, Thriller & Suspense', 'Kindle eBooks', 'Romance', 'Kindle eBooks', 'Teen & Young Adult', 'Kindle eBooks', 'Literature & Fiction', 'Kindle eBooks', 'Science Fiction & Fantasy', 'Kindle eBooks', 'Mystery, Thriller & Suspense', 'Kindle eBooks', 'Mystery, Thriller & Suspense', 'Kindle eBooks', 'Mystery, Thriller & Suspense', 'Kindle eBooks', 'Romance', 'Kindle eBooks', 'Literature & Fiction', 'Kindle eBooks', 'Literature & Fiction', 'Kindle eBooks', 'Literature & Fiction', 'Kindle eBooks', 'Romance', 'Kindle eBooks', 'Literature & Fiction', 'Kindle eBooks', 'Literature & Fiction', 'Kindle eBooks', 'Romance', 'Kindle eBooks', 'Literature & Fiction', 'Kindle eBooks', \"Children's eBooks\", 'Kindle eBooks', 'Romance', 'Kindle eBooks', 'Literature & Fiction', 'Kindle eBooks', 'Mystery, Thriller & Suspense', 'Kindle eBooks', 'Literature & Fiction', 'Kindle eBooks', 'Literature & Fiction', 'Kindle eBooks', 'Mystery, Thriller & Suspense', 'Kindle eBooks', 'Literature & Fiction', 'Kindle eBooks', 'Religion & Spirituality', 'Kindle eBooks', 'Literature & Fiction', 'Kindle eBooks', 'Literature & Fiction', 'Kindle eBooks', 'Literature & Fiction', 'Kindle eBooks', 'Literature & Fiction', 'Kindle eBooks', 'Mystery, Thriller & Suspense', 'Kindle eBooks', 'Romance', 'Kindle eBooks', 'Literature & Fiction', 'Kindle eBooks', 'Romance', 'Kindle eBooks', 'Literature & Fiction', 'Kindle eBooks', 'Literature & Fiction', 'Kindle eBooks', 'Literature & Fiction', 'Kindle eBooks', 'Literature & Fiction', 'Kindle eBooks', 'Romance', 'Kindle eBooks', 'Literature & Fiction', 'Kindle eBooks', 'Literature & Fiction', 'Kindle eBooks', 'Literature & Fiction', 'Kindle eBooks', 'Literature & Fiction', 'Kindle eBooks', 'Literature & Fiction', 'Kindle eBooks', 'Religion & Spirituality', 'Kindle eBooks', 'Literature & Fiction', 'Kindle eBooks', 'Literature & Fiction', 'Kindle eBooks', 'Romance', 'Kindle eBooks', 'Romance', 'Kindle eBooks', 'Romance', 'Kindle eBooks', 'Mystery, Thriller & Suspense', 'Kindle eBooks', 'Literature & Fiction', 'Kindle eBooks', 'Literature & Fiction', 'Kindle eBooks', 'Romance', 'Kindle eBooks', 'Romance', 'Kindle eBooks', 'Romance', 'Kindle eBooks', 'Literature & Fiction', 'Kindle eBooks', 'Mystery, Thriller & Suspense', 'Kindle eBooks', 'Literature & Fiction', 'Kindle eBooks', 'Literature & Fiction', 'Kindle eBooks', 'Literature & Fiction', 'Kindle eBooks', 'Literature & Fiction', 'Kindle eBooks', 'Literature & Fiction', 'Kindle eBooks', 'Romance', 'Kindle eBooks', 'Romance', 'Kindle eBooks', 'Romance', 'Kindle eBooks', 'Literature & Fiction', 'Kindle eBooks', 'Romance', 'Kindle eBooks', 'Literature & Fiction', 'Kindle eBooks', 'Literature & Fiction', 'Kindle eBooks', 'Romance', 'Kindle eBooks', 'Romance', 'Kindle eBooks', 'Literature & Fiction', 'Kindle eBooks', 'Literature & Fiction', 'Kindle eBooks', 'Literature & Fiction', 'Kindle eBooks', 'History', 'Kindle eBooks', 'Romance', 'Kindle eBooks', 'Literature & Fiction', 'Kindle eBooks', 'Literature & Fiction', 'Kindle eBooks', 'Literature & Fiction', 'Kindle eBooks', 'Romance', 'Kindle eBooks', 'Literature & Fiction', 'Kindle eBooks', 'Mystery, Thriller & Suspense', 'Kindle eBooks', 'Literature & Fiction', 'Kindle eBooks', 'Literature & Fiction', 'Kindle eBooks', 'Literature & Fiction', 'Kindle eBooks', 'Literature & Fiction', 'Kindle eBooks', 'Literature & Fiction', 'Kindle eBooks', 'Literature & Fiction', 'Kindle eBooks', 'Mystery, Thriller & Suspense', 'Kindle eBooks', 'Literature & Fiction', 'Kindle eBooks', 'Science Fiction & Fantasy', 'Kindle eBooks', 'Religion & Spirituality', 'Kindle eBooks', 'Romance', 'Kindle eBooks', 'Literature & Fiction', 'Kindle eBooks', 'Literature & Fiction', 'Kindle eBooks', 'Romance', 'Kindle eBooks', 'Romance', 'Kindle eBooks', 'Literature & Fiction', 'Kindle eBooks', 'Literature & Fiction', 'Kindle eBooks', 'Romance', 'Kindle eBooks', 'Literature & Fiction', 'Kindle eBooks', 'Literature & Fiction', 'Kindle eBooks', 'Romance', 'Kindle eBooks', 'Literature & Fiction', 'Kindle eBooks', 'Romance', 'Kindle eBooks', 'Literature & Fiction', 'Kindle eBooks', 'Literature & Fiction', 'Kindle eBooks', 'Mystery, Thriller & Suspense', 'Kindle eBooks', 'Romance', 'Kindle eBooks', 'Religion & Spirituality', 'Kindle eBooks', 'Literature & Fiction', 'Kindle eBooks', 'Literature & Fiction', 'Kindle eBooks', 'Literature & Fiction', 'Kindle eBooks', 'Romance', 'Kindle eBooks', 'Romance', 'Kindle eBooks', 'Mystery, Thriller & Suspense', 'Kindle eBooks', 'Literature & Fiction', 'Kindle eBooks', 'Literature & Fiction', 'Kindle eBooks', 'Romance', 'Kindle eBooks', 'Literature & Fiction', 'Kindle eBooks', 'Romance', 'Kindle eBooks', 'Romance', 'Kindle eBooks', 'Romance', 'Kindle eBooks', 'Literature & Fiction', 'Kindle eBooks', 'Literature & Fiction', 'Kindle eBooks', 'Literature & Fiction', 'Kindle eBooks', 'Romance', 'Kindle eBooks', 'Romance', 'Kindle eBooks', 'Romance', 'Kindle eBooks', 'History', 'Kindle eBooks', 'Literature & Fiction', 'Kindle eBooks', 'Literature & Fiction', 'Kindle eBooks', 'Religion & Spirituality', 'Kindle eBooks', 'Literature & Fiction', 'Kindle eBooks', 'Science Fiction & Fantasy', 'Kindle eBooks', 'Literature & Fiction', 'Kindle eBooks', 'Literature & Fiction', 'Kindle eBooks', 'Literature & Fiction', 'Kindle eBooks', 'Literature & Fiction', 'Kindle eBooks', 'Literature & Fiction', 'Kindle eBooks', 'Romance', 'Kindle eBooks', 'Mystery, Thriller & Suspense', 'Kindle eBooks', 'Literature & Fiction', 'Kindle eBooks', 'Literature & Fiction', 'Kindle eBooks', 'Literature & Fiction', 'Kindle eBooks', 'Romance', 'Kindle eBooks', 'Literature & Fiction', 'Kindle eBooks', 'Romance', 'Kindle eBooks', 'Literature & Fiction', 'Kindle eBooks', 'Literature & Fiction', 'Kindle eBooks', 'Teen & Young Adult', 'Kindle eBooks', 'Literature & Fiction', 'Kindle eBooks', 'Literature & Fiction', 'Kindle eBooks', 'Health, Fitness & Dieting', 'Kindle eBooks', 'Romance', 'Kindle eBooks', 'Business & Money', 'Kindle eBooks', 'Literature & Fiction', 'Kindle eBooks', 'Literature & Fiction', 'Kindle eBooks', 'Romance', 'Kindle eBooks', 'Romance', 'Kindle eBooks', 'Literature & Fiction', 'Kindle eBooks', 'Romance', 'Kindle eBooks', 'Romance', 'Kindle eBooks', 'Romance', 'Kindle eBooks', 'Teen & Young Adult', 'Kindle eBooks', 'Science Fiction & Fantasy', 'Kindle eBooks', 'Literature & Fiction', 'Kindle eBooks', 'Literature & Fiction', 'Kindle eBooks', 'Literature & Fiction', 'Kindle eBooks', 'Science Fiction & Fantasy', 'Kindle eBooks', 'Romance', 'Kindle eBooks', 'Romance', 'Kindle eBooks', 'Literature & Fiction', 'Kindle eBooks', 'Romance', 'Kindle eBooks', 'Literature & Fiction', 'Kindle eBooks', 'Literature & Fiction', 'Kindle eBooks', 'Mystery, Thriller & Suspense', 'Kindle eBooks', 'Science Fiction & Fantasy', 'Kindle eBooks', 'Literature & Fiction', 'Kindle eBooks', 'Literature & Fiction', 'Kindle eBooks', 'Literature & Fiction', 'Kindle eBooks', 'Mystery, Thriller & Suspense', 'Kindle eBooks', 'Literature & Fiction', 'Kindle eBooks', 'Science Fiction & Fantasy', 'Kindle eBooks', 'Literature & Fiction', 'Kindle eBooks', 'Literature & Fiction', 'Kindle eBooks', 'History', 'Kindle eBooks', 'Literature & Fiction', 'Kindle eBooks', 'Romance', 'Kindle eBooks', 'Literature & Fiction', 'Kindle eBooks', 'Romance', 'Kindle eBooks', 'Romance', 'Kindle eBooks', 'Romance', 'Kindle eBooks', 'Literature & Fiction', 'Kindle eBooks', 'Literature & Fiction', 'Kindle eBooks', 'Romance', 'Kindle eBooks', 'Romance', 'Kindle eBooks', 'Literature & Fiction', 'Kindle eBooks', 'Science Fiction & Fantasy', 'Kindle eBooks', 'Literature & Fiction', 'Kindle eBooks', 'Romance', 'Kindle eBooks', 'Romance', 'Kindle eBooks', 'Literature & Fiction', 'Kindle eBooks', 'Romance', 'Kindle eBooks', 'Romance', 'Kindle eBooks', 'Literature & Fiction', 'Kindle eBooks', 'Romance', 'Kindle eBooks', 'Romance', 'Kindle eBooks', 'Literature & Fiction', 'Kindle eBooks', 'Literature & Fiction', 'Kindle eBooks', 'Literature & Fiction', 'Kindle eBooks', 'Romance', 'Kindle eBooks', 'Romance', 'Kindle eBooks', 'Romance', 'Kindle eBooks', 'Literature & Fiction', 'Kindle eBooks', 'Literature & Fiction', 'Kindle eBooks', 'Mystery, Thriller & Suspense', 'Kindle eBooks', 'Romance', 'Kindle eBooks', 'Romance', 'Kindle eBooks', 'Romance', 'Kindle eBooks', 'Literature & Fiction', 'Kindle eBooks', 'Romance', 'Kindle eBooks', 'Crafts, Hobbies & Home', 'Kindle eBooks', 'Literature & Fiction', 'Kindle eBooks', 'Literature & Fiction', 'Kindle eBooks', 'Romance', 'Kindle eBooks', 'Literature & Fiction', 'Kindle eBooks', 'Literature & Fiction', 'Kindle eBooks', 'Literature & Fiction', 'Kindle eBooks', 'Romance', 'Kindle eBooks', 'Literature & Fiction', 'Kindle eBooks', 'Literature & Fiction', 'Kindle eBooks', 'Literature & Fiction', 'Kindle eBooks', 'Literature & Fiction', 'Kindle eBooks', 'Mystery, Thriller & Suspense', 'Kindle eBooks', 'Romance', 'Kindle eBooks', 'Romance', 'Kindle eBooks', 'Literature & Fiction', 'Kindle eBooks', 'Literature & Fiction', 'Kindle eBooks', 'Religion & Spirituality', 'Kindle eBooks', 'Romance', 'Kindle eBooks', 'Literature & Fiction', 'Kindle eBooks', 'Religion & Spirituality', 'Kindle eBooks', 'Mystery, Thriller & Suspense', 'Kindle eBooks', 'Literature & Fiction', 'Kindle eBooks', 'Romance', 'Kindle eBooks', 'Literature & Fiction', 'Kindle eBooks', 'Literature & Fiction', 'Kindle eBooks', 'Literature & Fiction', 'Kindle eBooks', 'Mystery, Thriller & Suspense', 'Kindle eBooks', 'Literature & Fiction', 'Kindle eBooks', 'Romance', 'Kindle eBooks', 'Romance', 'Kindle eBooks', 'Literature & Fiction', 'Kindle eBooks', 'Literature & Fiction', 'Kindle eBooks', 'Literature & Fiction', 'Kindle eBooks', 'Romance', 'Kindle eBooks', 'Science Fiction & Fantasy', 'Kindle eBooks', 'Literature & Fiction', 'Kindle eBooks', 'Literature & Fiction', 'Kindle eBooks', 'Literature & Fiction', 'Kindle eBooks', 'Literature & Fiction', 'Kindle eBooks', 'Science Fiction & Fantasy', 'Kindle eBooks', 'Romance', 'Kindle eBooks', 'Literature & Fiction', 'Kindle eBooks', 'Literature & Fiction', 'Kindle eBooks', 'Literature & Fiction', 'Kindle eBooks', 'Literature & Fiction', 'Kindle eBooks', 'Romance', 'Kindle eBooks', 'Science Fiction & Fantasy', 'Kindle eBooks', 'Science Fiction & Fantasy', 'Kindle eBooks', 'Literature & Fiction', 'Kindle eBooks', 'Literature & Fiction', 'Kindle eBooks', 'Literature & Fiction', 'Kindle eBooks', 'Romance', 'Kindle eBooks', 'Literature & Fiction', 'Kindle eBooks', 'Comics, Manga & Graphic Novels', 'Kindle eBooks', 'Literature & Fiction', 'Kindle eBooks', 'Literature & Fiction', 'Kindle eBooks', 'Romance', 'Kindle eBooks', 'Science Fiction & Fantasy', 'Kindle eBooks', 'Literature & Fiction', 'Kindle eBooks', 'Science Fiction & Fantasy', 'Kindle eBooks', 'Literature & Fiction', 'Kindle eBooks', 'Romance', 'Kindle eBooks', 'Science Fiction & Fantasy', 'Kindle eBooks', 'Romance', 'Kindle eBooks', 'Literature & Fiction', 'Kindle eBooks', 'Literature & Fiction', 'Kindle eBooks', 'Literature & Fiction', 'Kindle eBooks', 'Literature & Fiction', 'Kindle eBooks', 'Literature & Fiction', 'Kindle eBooks', 'Literature & Fiction', 'Kindle eBooks', 'Romance', 'Kindle eBooks', 'Literature & Fiction', 'Kindle eBooks', 'Romance', 'Kindle eBooks', 'Romance', 'Kindle eBooks', 'Romance', 'Kindle eBooks', 'Literature & Fiction', 'Kindle eBooks', 'Literature & Fiction', 'Kindle eBooks', 'Literature & Fiction', 'Kindle eBooks', 'Literature & Fiction', 'Kindle eBooks', 'Literature & Fiction', 'Kindle eBooks', 'Mystery, Thriller & Suspense', 'Kindle eBooks', 'Literature & Fiction', 'Kindle eBooks', 'Literature & Fiction', 'Kindle eBooks', 'Literature & Fiction', 'Kindle eBooks', 'Literature & Fiction', 'Kindle eBooks', 'Literature & Fiction', 'Kindle eBooks', 'Romance', 'Kindle eBooks', 'Literature & Fiction', 'Kindle eBooks', 'Literature & Fiction', 'Kindle eBooks', 'Literature & Fiction', 'Kindle eBooks', 'Romance', 'Kindle eBooks', 'Romance', 'Kindle eBooks', 'Literature & Fiction', 'Kindle eBooks', 'Romance', 'Kindle eBooks', 'Mystery, Thriller & Suspense', 'Kindle eBooks', 'Teen & Young Adult', 'Kindle eBooks', 'Science Fiction & Fantasy', 'Kindle eBooks', 'Literature & Fiction', 'Kindle eBooks', 'Romance', 'Kindle eBooks', 'Literature & Fiction', 'Kindle eBooks', 'Literature & Fiction', 'Kindle eBooks', 'Literature & Fiction', 'Kindle eBooks', 'Religion & Spirituality', 'Kindle eBooks', 'Literature & Fiction', 'Kindle eBooks', 'Religion & Spirituality', 'Kindle eBooks', 'Literature & Fiction', 'Kindle eBooks', 'Literature & Fiction', 'Kindle eBooks', 'Teen & Young Adult', 'Kindle eBooks', 'Romance', 'Kindle eBooks', 'Romance', 'Kindle eBooks', 'Religion & Spirituality', 'Kindle eBooks', 'Romance', 'Kindle eBooks', 'Science Fiction & Fantasy', 'Kindle eBooks', 'Science Fiction & Fantasy', 'Kindle eBooks', 'Science Fiction & Fantasy', 'Kindle eBooks', 'Literature & Fiction', 'Kindle eBooks', 'Romance', 'Kindle eBooks', 'Literature & Fiction', 'Kindle eBooks', 'Literature & Fiction', 'Kindle eBooks', 'Literature & Fiction', 'Kindle eBooks', 'Literature & Fiction', 'Kindle eBooks', 'Romance', 'Kindle eBooks', 'Literature & Fiction', 'Kindle eBooks', 'Romance', 'Kindle eBooks', 'Mystery, Thriller & Suspense', 'Kindle eBooks', 'Literature & Fiction', 'Kindle eBooks', 'Literature & Fiction', 'Kindle eBooks', 'Literature & Fiction', 'Kindle eBooks', 'Literature & Fiction', 'Kindle eBooks', 'Literature & Fiction', 'Kindle eBooks', 'Literature & Fiction', 'Kindle eBooks', 'Literature & Fiction', 'Kindle eBooks', 'Literature & Fiction', 'Kindle eBooks', 'Literature & Fiction', 'Kindle eBooks', 'Literature & Fiction', 'Kindle eBooks', 'Literature & Fiction', 'Kindle eBooks', 'Literature & Fiction', 'Kindle eBooks', 'Literature & Fiction', 'Kindle eBooks', 'Romance', 'Kindle eBooks', 'Teen & Young Adult', 'Kindle eBooks', 'Romance', 'Kindle eBooks', 'Literature & Fiction', 'Kindle eBooks', 'Literature & Fiction', 'Kindle eBooks', 'Literature & Fiction', 'Kindle eBooks', 'Mystery, Thriller & Suspense', 'Kindle eBooks', 'Romance', 'Kindle eBooks', 'Literature & Fiction', 'Kindle eBooks', 'Literature & Fiction', 'Kindle eBooks', 'Literature & Fiction', 'Kindle eBooks', 'Literature & Fiction', 'Kindle eBooks', 'Literature & Fiction', 'Kindle eBooks', 'Romance', 'Kindle eBooks', 'Science Fiction & Fantasy', 'Kindle eBooks', 'Literature & Fiction', 'Kindle eBooks', 'Romance', 'Kindle eBooks', 'Romance', 'Kindle eBooks', 'Literature & Fiction', 'Kindle eBooks', 'Science Fiction & Fantasy', 'Kindle eBooks', 'Literature & Fiction', 'Kindle eBooks', 'Literature & Fiction', 'Kindle eBooks', 'Literature & Fiction', 'Kindle eBooks', 'Romance', 'Kindle eBooks', 'Literature & Fiction', 'Kindle eBooks', 'Literature & Fiction', 'Kindle eBooks', 'Literature & Fiction', 'Kindle eBooks', 'Romance', 'Kindle eBooks', 'Literature & Fiction', 'Kindle eBooks', 'Literature & Fiction', 'Kindle eBooks', 'Romance', 'Kindle eBooks', 'Literature & Fiction', 'Kindle eBooks', 'Literature & Fiction', 'Kindle eBooks', 'Romance', 'Kindle eBooks', 'Science Fiction & Fantasy', 'Kindle eBooks', 'Romance', 'Kindle eBooks', 'Literature & Fiction', 'Kindle eBooks', 'Mystery, Thriller & Suspense', 'Kindle eBooks', 'Literature & Fiction', 'Kindle eBooks', 'Literature & Fiction', 'Kindle eBooks', 'Literature & Fiction', 'Kindle eBooks', 'Literature & Fiction', 'Kindle eBooks', 'Romance', 'Kindle eBooks', 'Literature & Fiction', 'Kindle eBooks', 'Literature & Fiction', 'Kindle eBooks', 'Literature & Fiction', 'Kindle eBooks', 'Literature & Fiction', 'Kindle eBooks', 'Literature & Fiction', 'Kindle eBooks', 'Literature & Fiction', 'Kindle eBooks', 'Literature & Fiction', 'Kindle eBooks', 'Literature & Fiction', 'Kindle eBooks', 'Literature & Fiction', 'Kindle eBooks', 'Romance', 'Kindle eBooks', 'Literature & Fiction', 'Kindle eBooks', 'Romance', 'Kindle eBooks', 'Literature & Fiction', 'Kindle eBooks', 'Literature & Fiction', 'Kindle eBooks', 'Science Fiction & Fantasy', 'Kindle eBooks', 'Teen & Young Adult', 'Kindle eBooks', 'Literature & Fiction', 'Kindle eBooks', 'Literature & Fiction', 'Kindle eBooks', 'Romance', 'Kindle eBooks', 'Literature & Fiction', 'Kindle eBooks', 'Science Fiction & Fantasy', 'Kindle eBooks', 'Literature & Fiction', 'Kindle eBooks', 'Literature & Fiction', 'Kindle eBooks', 'Literature & Fiction', 'Kindle eBooks', 'Arts & Photography', 'Kindle eBooks', 'Literature & Fiction', 'Kindle eBooks', 'Literature & Fiction', 'Kindle eBooks', 'Science Fiction & Fantasy', 'Kindle eBooks', 'Religion & Spirituality', 'Kindle eBooks', 'Literature & Fiction', 'Kindle eBooks', 'Romance', 'Kindle eBooks', 'Literature & Fiction', 'Kindle eBooks', 'Romance', 'Kindle eBooks', 'Literature & Fiction', 'Kindle eBooks', 'Literature & Fiction', 'Kindle eBooks', 'Romance', 'Kindle eBooks', 'Literature & Fiction', 'Kindle eBooks', 'Literature & Fiction', 'Kindle eBooks', 'Romance', 'Kindle eBooks', 'Literature & Fiction', 'Kindle eBooks', 'Romance', 'Kindle eBooks', 'Romance', 'Kindle eBooks', 'Literature & Fiction', 'Kindle eBooks', 'Romance', 'Kindle eBooks', 'Literature & Fiction', 'Kindle eBooks', 'Romance', 'Kindle eBooks', 'Romance', 'Kindle eBooks', 'Literature & Fiction', 'Kindle eBooks', 'Romance', 'Kindle eBooks', 'Science Fiction & Fantasy']\n",
            "35\n"
          ]
        }
      ],
      "source": [
        "# Collect the categories of all items\n",
        "all_categories = [category for category_list in product_df.category.values for category in category_list]\n",
        "print(all_categories)\n",
        "# Sort all unique values of the item categories by their frequencies in descending order\n",
        "category_sorted = sorted(Counter(all_categories).items(), key=lambda x: x[1], reverse=True)\n",
        "\n",
        "# Select top 500 most frequent categories\n",
        "selected_categories = [t[0] for t in category_sorted[:500]]\n",
        "#selected_categories = [t[0] for t in len(category_sorted)]\n",
        "\n",
        "# Create a dictionary mapping each secleted category to a unique integral index\n",
        "selected_categories_to_idx = dict(zip(selected_categories, range(1, len(selected_categories) + 1)))\n",
        "\n",
        "# Map all categories unseen in the item df to index 0\n",
        "selected_categories_to_idx['unk'] = 0\n",
        "\n",
        "# Create a dictionary mapping each integral index to corresponding category\n",
        "idx_to_selected_categories = {val: key for key, val in selected_categories_to_idx.items()}\n",
        "print(len(category_sorted))"
      ]
    },
    {
      "cell_type": "markdown",
      "metadata": {
        "id": "ftJwjF-Wme0C"
      },
      "source": [
        "##### Preparing cross product transformation for categories"
      ]
    },
    {
      "cell_type": "code",
      "execution_count": 238,
      "metadata": {
        "colab": {
          "base_uri": "https://localhost:8080/"
        },
        "id": "JX08FHBKme0C",
        "outputId": "4588ba55-fb11-4a42-eb71-4a84c0792a62"
      },
      "outputs": [
        {
          "output_type": "stream",
          "name": "stdout",
          "text": [
            "[{'Kindle eBooks', 'Literature & Fiction'}, {'Kindle eBooks', 'Romance'}, {'Kindle eBooks', 'Mystery, Thriller & Suspense'}, {'Science Fiction & Fantasy', 'Kindle eBooks'}, {'Religion & Spirituality', 'Kindle eBooks'}, {'Kindle eBooks', 'Teen & Young Adult'}, {\"Children's eBooks\", 'Kindle eBooks'}, {'Kindle eBooks', 'Health, Fitness & Dieting'}, {'Kindle eBooks', 'Business & Money'}, {'Cookbooks, Food & Wine', 'Kindle eBooks'}, {'Humor & Entertainment', 'Kindle eBooks'}, {'Biographies & Memoirs', 'Kindle eBooks'}, {'Politics & Social Sciences', 'Kindle eBooks'}, {'Kindle eBooks', 'Literature &amp; Fiction'}, {'Kindle eBooks', 'Reference'}, {'Kindle eBooks', 'Crafts, Hobbies & Home'}, {'Kindle eBooks', 'History'}, {'Kindle eBooks', 'Arts & Photography'}, {'Kindle eBooks', 'Computers & Technology'}, {'Science & Math', 'Kindle eBooks'}, {'Self-Help', 'Kindle eBooks'}, {'Education & Teaching', 'Kindle eBooks'}, {'Parenting & Relationships', 'Kindle eBooks'}, {'Kindle eBooks', 'Comics, Manga & Graphic Novels'}, {'Kindle eBooks', 'Travel'}, {'Mystery, Thriller &amp; Suspense', 'Kindle eBooks'}, {'Kindle eBooks', 'Engineering & Transportation'}, {'Two hours or more (65-100 pages)', 'Kindle Short Reads'}, {'Kindle eBooks', 'Sports & Outdoors'}, {'Kindle eBooks', 'Medical eBooks'}, {'Kindle eBooks', 'Nonfiction'}, {'One hour (33-43 pages)', 'Kindle Short Reads'}, {'Kindle eBooks', 'Religion &amp; Spirituality'}]\n"
          ]
        }
      ],
      "source": [
        "# Get most frequent categories combinantions using the utility function defined previously and store them in the folloing list\n",
        "top_combinations = []\n",
        "\n",
        "# Get top 50 most frequent two-categories combinantions in the train set\n",
        "\n",
        "top_combinations += get_top_k_p_combinations(tr_df, 2, 50, output_freq=False)\n",
        "\n",
        "# Get top 30 most frequent three-categories combinantions in the train set\n",
        "top_combinations += get_top_k_p_combinations(tr_df, 3, 30, output_freq=False)\n",
        "\n",
        "# Get top 20 most frequent four-categories combinantions in the train set\n",
        "top_combinations += get_top_k_p_combinations(tr_df, 4, 20, output_freq=False)\n",
        "\n",
        "# Convert each combinantion in the list to a set data structure\n",
        "top_combinations = [set(t) for t in top_combinations]\n",
        "print(top_combinations)"
      ]
    },
    {
      "cell_type": "code",
      "execution_count": 239,
      "metadata": {
        "colab": {
          "base_uri": "https://localhost:8080/"
        },
        "id": "u6-OyBIime0C",
        "outputId": "8fa3089c-34d3-439f-9a48-da6dfdb4ad76"
      },
      "outputs": [
        {
          "output_type": "stream",
          "name": "stdout",
          "text": [
            "category_cross_features shape: (52512, 36)\n",
            "category_cross_features shape: (52512, 33)\n",
            "wide features shape: (52512, 69)\n",
            "category_cross_features shape: (6596, 36)\n",
            "category_cross_features shape: (6596, 33)\n",
            "wide features shape: (6596, 69)\n",
            "category_cross_features shape: (6633, 36)\n",
            "category_cross_features shape: (6633, 33)\n",
            "wide features shape: (6633, 69)\n"
          ]
        }
      ],
      "source": [
        "# Getting values of wide features for train/validation/test sets using the utility function defined previously\n",
        "# The following matrices should have a shape of (n_samples, len(selected_categories_to_idx)+len(top_combinations))\n",
        "tr_wide_features = get_wide_features(tr_df, selected_categories_to_idx, top_combinations)\n",
        "val_wide_features = get_wide_features(val_df, selected_categories_to_idx, top_combinations)\n",
        "te_wide_features = get_wide_features(te_df, selected_categories_to_idx, top_combinations)"
      ]
    },
    {
      "cell_type": "markdown",
      "metadata": {
        "id": "frwwIjxKme0D"
      },
      "source": [
        "### Concatenating continuous features, deep categorical features and wide features as an input list"
      ]
    },
    {
      "cell_type": "code",
      "execution_count": 240,
      "metadata": {
        "colab": {
          "base_uri": "https://localhost:8080/"
        },
        "id": "YFntFaReme0D",
        "outputId": "ca4efc86-e06f-4105-fec0-48d939b47f81"
      },
      "outputs": [
        {
          "output_type": "stream",
          "name": "stdout",
          "text": [
            "52512\n"
          ]
        }
      ],
      "source": [
        "tr_features = []\n",
        "tr_features.append(tr_continuous_features) #(no.of samples, no. of continuous features 7)\n",
        "tr_features += [tr_deep_categorical_features[:, i] for i in range(tr_deep_categorical_features.shape[1])]  #(no.of samples, no. of categorical features 5)\n",
        "tr_features.append(tr_wide_features)  #(no.of samples, no. of continuous features 68)\n",
        "\n",
        "val_features = []\n",
        "val_features.append(val_continuous_features)\n",
        "val_features += [val_deep_categorical_features[:, i] for i in range(val_deep_categorical_features.shape[1])]\n",
        "val_features.append(val_wide_features)\n",
        "\n",
        "te_features = []\n",
        "te_features.append(te_continuous_features)\n",
        "te_features += [te_deep_categorical_features[:, i] for i in range(te_deep_categorical_features.shape[1])]\n",
        "te_features.append(te_wide_features)\n",
        "print(len(tr_wide_features))"
      ]
    },
    {
      "cell_type": "code",
      "execution_count": 241,
      "metadata": {
        "colab": {
          "base_uri": "https://localhost:8080/"
        },
        "id": "LE1yeCMpI0AU",
        "outputId": "89ddedd8-5b79-4de0-e314-f402d5cc685b"
      },
      "outputs": [
        {
          "output_type": "stream",
          "name": "stdout",
          "text": [
            "[array([[-0.58639878, -2.99796619,  1.51784367],\n",
            "       [ 3.40437415, -0.79946107, -1.76372827],\n",
            "       [ 3.40437415,  0.31497206, -1.76372827],\n",
            "       ...,\n",
            "       [ 1.56420502,  1.07340572,  1.17241505],\n",
            "       [ 0.33066506,  0.96505806, -0.09415658],\n",
            "       [-0.3046964 ,  0.51812394,  0.99695924]]), array([   1,    2,    2, ..., 3543, 3568,    0]), array([1, 1, 1, ..., 1, 1, 0]), array([1, 1, 1, ..., 1, 1, 0]), array([1, 2, 2, ..., 1, 1, 0]), array([ 1,  2,  2, ..., 26, 26,  0]), array([[0, 1, 0, ..., 0, 0, 0],\n",
            "       [0, 1, 0, ..., 0, 0, 0],\n",
            "       [0, 1, 0, ..., 0, 0, 0],\n",
            "       ...,\n",
            "       [0, 1, 1, ..., 0, 0, 0],\n",
            "       [0, 1, 1, ..., 0, 0, 0],\n",
            "       [0, 0, 0, ..., 0, 0, 0]])]\n"
          ]
        }
      ],
      "source": [
        "print(tr_features)"
      ]
    },
    {
      "cell_type": "markdown",
      "metadata": {
        "id": "fH3psuDCme0D"
      },
      "source": [
        "### Building the WDL"
      ]
    },
    {
      "cell_type": "code",
      "execution_count": 242,
      "metadata": {
        "id": "oX7uGtytYfV5"
      },
      "outputs": [],
      "source": [
        "from math import sqrt\n",
        "\n",
        "import pandas as pd\n",
        "from sklearn.metrics import (accuracy_score, mean_squared_error,\n",
        "                             precision_recall_fscore_support)\n",
        "\n",
        "\n",
        "# Function to calculate RMSE\n",
        "def rmse(pred, actual):\n",
        "    # Ignore nonzero terms.\n",
        "    pred = pred[actual.nonzero()].flatten()\n",
        "    actual = actual[actual.nonzero()].flatten()\n",
        "    return sqrt(mean_squared_error(pred, actual))\n",
        "\n",
        "\n"
      ]
    },
    {
      "cell_type": "code",
      "execution_count": 243,
      "metadata": {
        "id": "rxhtMxYRme0D",
        "colab": {
          "base_uri": "https://localhost:8080/"
        },
        "outputId": "1d46518a-f7dd-47f8-c1fc-cc477aff02e9"
      },
      "outputs": [
        {
          "output_type": "stream",
          "name": "stderr",
          "text": [
            "/usr/local/lib/python3.11/dist-packages/keras/src/layers/core/embedding.py:90: UserWarning: Argument `input_length` is deprecated. Just remove it.\n",
            "  warnings.warn(\n"
          ]
        }
      ],
      "source": [
        "wdl_model = build_wdl_model(len(tr_continuous_features[0]), item_deep_vocab_lens,  len(tr_wide_features[0]), embed_size=100)"
      ]
    },
    {
      "cell_type": "code",
      "execution_count": 244,
      "metadata": {
        "colab": {
          "base_uri": "https://localhost:8080/"
        },
        "id": "TG2eQcxgEkic",
        "outputId": "5f8c51eb-a590-4849-a870-ebc53b3c69fa"
      },
      "outputs": [
        {
          "output_type": "execute_result",
          "data": {
            "text/plain": [
              "(6596, 3)"
            ]
          },
          "metadata": {},
          "execution_count": 244
        }
      ],
      "source": [
        "val_features[0].shape"
      ]
    },
    {
      "cell_type": "markdown",
      "metadata": {
        "id": "I5N84K_Dme0D"
      },
      "source": [
        "### Train the model using Adagrad optimizer and mean squared error loss"
      ]
    },
    {
      "cell_type": "code",
      "execution_count": 245,
      "metadata": {
        "colab": {
          "base_uri": "https://localhost:8080/"
        },
        "id": "-wYtuI2Tme0D",
        "outputId": "1f0a7d92-668b-4000-c2a0-181ee3dbc09b"
      },
      "outputs": [
        {
          "output_type": "stream",
          "name": "stdout",
          "text": [
            "Epoch 1/200\n",
            "\u001b[1m53/53\u001b[0m \u001b[32m━━━━━━━━━━━━━━━━━━━━\u001b[0m\u001b[37m\u001b[0m \u001b[1m8s\u001b[0m 68ms/step - loss: 4.1923 - val_loss: 4.0344\n",
            "Epoch 2/200\n",
            "\u001b[1m53/53\u001b[0m \u001b[32m━━━━━━━━━━━━━━━━━━━━\u001b[0m\u001b[37m\u001b[0m \u001b[1m3s\u001b[0m 60ms/step - loss: 4.0600 - val_loss: 3.9090\n",
            "Epoch 3/200\n",
            "\u001b[1m53/53\u001b[0m \u001b[32m━━━━━━━━━━━━━━━━━━━━\u001b[0m\u001b[37m\u001b[0m \u001b[1m5s\u001b[0m 87ms/step - loss: 3.9216 - val_loss: 3.7520\n",
            "Epoch 4/200\n",
            "\u001b[1m53/53\u001b[0m \u001b[32m━━━━━━━━━━━━━━━━━━━━\u001b[0m\u001b[37m\u001b[0m \u001b[1m3s\u001b[0m 50ms/step - loss: 3.7425 - val_loss: 3.5366\n",
            "Epoch 5/200\n",
            "\u001b[1m53/53\u001b[0m \u001b[32m━━━━━━━━━━━━━━━━━━━━\u001b[0m\u001b[37m\u001b[0m \u001b[1m3s\u001b[0m 61ms/step - loss: 3.4866 - val_loss: 3.2184\n",
            "Epoch 6/200\n",
            "\u001b[1m53/53\u001b[0m \u001b[32m━━━━━━━━━━━━━━━━━━━━\u001b[0m\u001b[37m\u001b[0m \u001b[1m3s\u001b[0m 49ms/step - loss: 3.0936 - val_loss: 2.7088\n",
            "Epoch 7/200\n",
            "\u001b[1m53/53\u001b[0m \u001b[32m━━━━━━━━━━━━━━━━━━━━\u001b[0m\u001b[37m\u001b[0m \u001b[1m4s\u001b[0m 74ms/step - loss: 2.4329 - val_loss: 1.8861\n",
            "Epoch 8/200\n",
            "\u001b[1m53/53\u001b[0m \u001b[32m━━━━━━━━━━━━━━━━━━━━\u001b[0m\u001b[37m\u001b[0m \u001b[1m3s\u001b[0m 57ms/step - loss: 1.4217 - val_loss: 1.4000\n",
            "Epoch 9/200\n",
            "\u001b[1m53/53\u001b[0m \u001b[32m━━━━━━━━━━━━━━━━━━━━\u001b[0m\u001b[37m\u001b[0m \u001b[1m5s\u001b[0m 49ms/step - loss: 1.0221 - val_loss: 1.3801\n",
            "Epoch 10/200\n",
            "\u001b[1m53/53\u001b[0m \u001b[32m━━━━━━━━━━━━━━━━━━━━\u001b[0m\u001b[37m\u001b[0m \u001b[1m3s\u001b[0m 60ms/step - loss: 1.0117 - val_loss: 1.3705\n",
            "Epoch 11/200\n",
            "\u001b[1m53/53\u001b[0m \u001b[32m━━━━━━━━━━━━━━━━━━━━\u001b[0m\u001b[37m\u001b[0m \u001b[1m6s\u001b[0m 72ms/step - loss: 1.0012 - val_loss: 1.3604\n",
            "Epoch 12/200\n",
            "\u001b[1m53/53\u001b[0m \u001b[32m━━━━━━━━━━━━━━━━━━━━\u001b[0m\u001b[37m\u001b[0m \u001b[1m3s\u001b[0m 49ms/step - loss: 0.9907 - val_loss: 1.3511\n",
            "Epoch 13/200\n",
            "\u001b[1m53/53\u001b[0m \u001b[32m━━━━━━━━━━━━━━━━━━━━\u001b[0m\u001b[37m\u001b[0m \u001b[1m6s\u001b[0m 60ms/step - loss: 0.9791 - val_loss: 1.3414\n",
            "Epoch 14/200\n",
            "\u001b[1m53/53\u001b[0m \u001b[32m━━━━━━━━━━━━━━━━━━━━\u001b[0m\u001b[37m\u001b[0m \u001b[1m5s\u001b[0m 49ms/step - loss: 0.9762 - val_loss: 1.3323\n",
            "Epoch 15/200\n",
            "\u001b[1m53/53\u001b[0m \u001b[32m━━━━━━━━━━━━━━━━━━━━\u001b[0m\u001b[37m\u001b[0m \u001b[1m6s\u001b[0m 62ms/step - loss: 0.9687 - val_loss: 1.3228\n",
            "Epoch 16/200\n",
            "\u001b[1m53/53\u001b[0m \u001b[32m━━━━━━━━━━━━━━━━━━━━\u001b[0m\u001b[37m\u001b[0m \u001b[1m6s\u001b[0m 87ms/step - loss: 0.9649 - val_loss: 1.3137\n",
            "Epoch 17/200\n",
            "\u001b[1m53/53\u001b[0m \u001b[32m━━━━━━━━━━━━━━━━━━━━\u001b[0m\u001b[37m\u001b[0m \u001b[1m3s\u001b[0m 49ms/step - loss: 0.9612 - val_loss: 1.3046\n",
            "Epoch 18/200\n",
            "\u001b[1m53/53\u001b[0m \u001b[32m━━━━━━━━━━━━━━━━━━━━\u001b[0m\u001b[37m\u001b[0m \u001b[1m3s\u001b[0m 62ms/step - loss: 0.9552 - val_loss: 1.2955\n",
            "Epoch 19/200\n",
            "\u001b[1m53/53\u001b[0m \u001b[32m━━━━━━━━━━━━━━━━━━━━\u001b[0m\u001b[37m\u001b[0m \u001b[1m5s\u001b[0m 67ms/step - loss: 0.9504 - val_loss: 1.2867\n",
            "Epoch 20/200\n",
            "\u001b[1m53/53\u001b[0m \u001b[32m━━━━━━━━━━━━━━━━━━━━\u001b[0m\u001b[37m\u001b[0m \u001b[1m5s\u001b[0m 61ms/step - loss: 0.9446 - val_loss: 1.2776\n",
            "Epoch 21/200\n",
            "\u001b[1m53/53\u001b[0m \u001b[32m━━━━━━━━━━━━━━━━━━━━\u001b[0m\u001b[37m\u001b[0m \u001b[1m3s\u001b[0m 51ms/step - loss: 0.9436 - val_loss: 1.2690\n",
            "Epoch 22/200\n",
            "\u001b[1m53/53\u001b[0m \u001b[32m━━━━━━━━━━━━━━━━━━━━\u001b[0m\u001b[37m\u001b[0m \u001b[1m3s\u001b[0m 53ms/step - loss: 0.9403 - val_loss: 1.2597\n",
            "Epoch 23/200\n",
            "\u001b[1m53/53\u001b[0m \u001b[32m━━━━━━━━━━━━━━━━━━━━\u001b[0m\u001b[37m\u001b[0m \u001b[1m9s\u001b[0m 168ms/step - loss: 0.9368 - val_loss: 1.2508\n",
            "Epoch 24/200\n",
            "\u001b[1m53/53\u001b[0m \u001b[32m━━━━━━━━━━━━━━━━━━━━\u001b[0m\u001b[37m\u001b[0m \u001b[1m4s\u001b[0m 70ms/step - loss: 0.9298 - val_loss: 1.2426\n",
            "Epoch 25/200\n",
            "\u001b[1m53/53\u001b[0m \u001b[32m━━━━━━━━━━━━━━━━━━━━\u001b[0m\u001b[37m\u001b[0m \u001b[1m5s\u001b[0m 65ms/step - loss: 0.9291 - val_loss: 1.2330\n",
            "Epoch 26/200\n",
            "\u001b[1m53/53\u001b[0m \u001b[32m━━━━━━━━━━━━━━━━━━━━\u001b[0m\u001b[37m\u001b[0m \u001b[1m6s\u001b[0m 110ms/step - loss: 0.9273 - val_loss: 1.2245\n",
            "Epoch 27/200\n",
            "\u001b[1m53/53\u001b[0m \u001b[32m━━━━━━━━━━━━━━━━━━━━\u001b[0m\u001b[37m\u001b[0m \u001b[1m3s\u001b[0m 62ms/step - loss: 0.9280 - val_loss: 1.2162\n",
            "Epoch 28/200\n",
            "\u001b[1m53/53\u001b[0m \u001b[32m━━━━━━━━━━━━━━━━━━━━\u001b[0m\u001b[37m\u001b[0m \u001b[1m5s\u001b[0m 61ms/step - loss: 0.9171 - val_loss: 1.2074\n",
            "Epoch 29/200\n",
            "\u001b[1m53/53\u001b[0m \u001b[32m━━━━━━━━━━━━━━━━━━━━\u001b[0m\u001b[37m\u001b[0m \u001b[1m6s\u001b[0m 77ms/step - loss: 0.9202 - val_loss: 1.1988\n",
            "Epoch 30/200\n",
            "\u001b[1m53/53\u001b[0m \u001b[32m━━━━━━━━━━━━━━━━━━━━\u001b[0m\u001b[37m\u001b[0m \u001b[1m4s\u001b[0m 61ms/step - loss: 0.9173 - val_loss: 1.1911\n",
            "Epoch 31/200\n",
            "\u001b[1m53/53\u001b[0m \u001b[32m━━━━━━━━━━━━━━━━━━━━\u001b[0m\u001b[37m\u001b[0m \u001b[1m3s\u001b[0m 62ms/step - loss: 0.9078 - val_loss: 1.1813\n",
            "Epoch 32/200\n",
            "\u001b[1m53/53\u001b[0m \u001b[32m━━━━━━━━━━━━━━━━━━━━\u001b[0m\u001b[37m\u001b[0m \u001b[1m6s\u001b[0m 88ms/step - loss: 0.9150 - val_loss: 1.1735\n",
            "Epoch 33/200\n",
            "\u001b[1m53/53\u001b[0m \u001b[32m━━━━━━━━━━━━━━━━━━━━\u001b[0m\u001b[37m\u001b[0m \u001b[1m3s\u001b[0m 61ms/step - loss: 0.9125 - val_loss: 1.1655\n",
            "Epoch 34/200\n",
            "\u001b[1m53/53\u001b[0m \u001b[32m━━━━━━━━━━━━━━━━━━━━\u001b[0m\u001b[37m\u001b[0m \u001b[1m5s\u001b[0m 50ms/step - loss: 0.9066 - val_loss: 1.1577\n",
            "Epoch 35/200\n",
            "\u001b[1m53/53\u001b[0m \u001b[32m━━━━━━━━━━━━━━━━━━━━\u001b[0m\u001b[37m\u001b[0m \u001b[1m7s\u001b[0m 87ms/step - loss: 0.9049 - val_loss: 1.1494\n",
            "Epoch 36/200\n",
            "\u001b[1m53/53\u001b[0m \u001b[32m━━━━━━━━━━━━━━━━━━━━\u001b[0m\u001b[37m\u001b[0m \u001b[1m4s\u001b[0m 60ms/step - loss: 0.8999 - val_loss: 1.1419\n",
            "Epoch 37/200\n",
            "\u001b[1m53/53\u001b[0m \u001b[32m━━━━━━━━━━━━━━━━━━━━\u001b[0m\u001b[37m\u001b[0m \u001b[1m5s\u001b[0m 51ms/step - loss: 0.8995 - val_loss: 1.1342\n",
            "Epoch 38/200\n",
            "\u001b[1m53/53\u001b[0m \u001b[32m━━━━━━━━━━━━━━━━━━━━\u001b[0m\u001b[37m\u001b[0m \u001b[1m4s\u001b[0m 72ms/step - loss: 0.8991 - val_loss: 1.1265\n",
            "Epoch 39/200\n",
            "\u001b[1m53/53\u001b[0m \u001b[32m━━━━━━━━━━━━━━━━━━━━\u001b[0m\u001b[37m\u001b[0m \u001b[1m4s\u001b[0m 72ms/step - loss: 0.8929 - val_loss: 1.1190\n",
            "Epoch 40/200\n",
            "\u001b[1m53/53\u001b[0m \u001b[32m━━━━━━━━━━━━━━━━━━━━\u001b[0m\u001b[37m\u001b[0m \u001b[1m3s\u001b[0m 61ms/step - loss: 0.8998 - val_loss: 1.1113\n",
            "Epoch 41/200\n",
            "\u001b[1m53/53\u001b[0m \u001b[32m━━━━━━━━━━━━━━━━━━━━\u001b[0m\u001b[37m\u001b[0m \u001b[1m5s\u001b[0m 62ms/step - loss: 0.8963 - val_loss: 1.1040\n",
            "Epoch 42/200\n",
            "\u001b[1m53/53\u001b[0m \u001b[32m━━━━━━━━━━━━━━━━━━━━\u001b[0m\u001b[37m\u001b[0m \u001b[1m5s\u001b[0m 87ms/step - loss: 0.8923 - val_loss: 1.0963\n",
            "Epoch 43/200\n",
            "\u001b[1m53/53\u001b[0m \u001b[32m━━━━━━━━━━━━━━━━━━━━\u001b[0m\u001b[37m\u001b[0m \u001b[1m3s\u001b[0m 62ms/step - loss: 0.8879 - val_loss: 1.0891\n",
            "Epoch 44/200\n",
            "\u001b[1m53/53\u001b[0m \u001b[32m━━━━━━━━━━━━━━━━━━━━\u001b[0m\u001b[37m\u001b[0m \u001b[1m3s\u001b[0m 49ms/step - loss: 0.8886 - val_loss: 1.0824\n",
            "Epoch 45/200\n",
            "\u001b[1m53/53\u001b[0m \u001b[32m━━━━━━━━━━━━━━━━━━━━\u001b[0m\u001b[37m\u001b[0m \u001b[1m7s\u001b[0m 80ms/step - loss: 0.8938 - val_loss: 1.0751\n",
            "Epoch 46/200\n",
            "\u001b[1m53/53\u001b[0m \u001b[32m━━━━━━━━━━━━━━━━━━━━\u001b[0m\u001b[37m\u001b[0m \u001b[1m4s\u001b[0m 65ms/step - loss: 0.8814 - val_loss: 1.0678\n",
            "Epoch 47/200\n",
            "\u001b[1m53/53\u001b[0m \u001b[32m━━━━━━━━━━━━━━━━━━━━\u001b[0m\u001b[37m\u001b[0m \u001b[1m4s\u001b[0m 53ms/step - loss: 0.8759 - val_loss: 1.0611\n",
            "Epoch 48/200\n",
            "\u001b[1m53/53\u001b[0m \u001b[32m━━━━━━━━━━━━━━━━━━━━\u001b[0m\u001b[37m\u001b[0m \u001b[1m3s\u001b[0m 62ms/step - loss: 0.8802 - val_loss: 1.0540\n",
            "Epoch 49/200\n",
            "\u001b[1m53/53\u001b[0m \u001b[32m━━━━━━━━━━━━━━━━━━━━\u001b[0m\u001b[37m\u001b[0m \u001b[1m5s\u001b[0m 87ms/step - loss: 0.8794 - val_loss: 1.0472\n",
            "Epoch 50/200\n",
            "\u001b[1m53/53\u001b[0m \u001b[32m━━━━━━━━━━━━━━━━━━━━\u001b[0m\u001b[37m\u001b[0m \u001b[1m3s\u001b[0m 61ms/step - loss: 0.8804 - val_loss: 1.0412\n",
            "Epoch 51/200\n",
            "\u001b[1m53/53\u001b[0m \u001b[32m━━━━━━━━━━━━━━━━━━━━\u001b[0m\u001b[37m\u001b[0m \u001b[1m3s\u001b[0m 60ms/step - loss: 0.8793 - val_loss: 1.0346\n",
            "Epoch 52/200\n",
            "\u001b[1m53/53\u001b[0m \u001b[32m━━━━━━━━━━━━━━━━━━━━\u001b[0m\u001b[37m\u001b[0m \u001b[1m3s\u001b[0m 61ms/step - loss: 0.8791 - val_loss: 1.0283\n",
            "Epoch 53/200\n",
            "\u001b[1m53/53\u001b[0m \u001b[32m━━━━━━━━━━━━━━━━━━━━\u001b[0m\u001b[37m\u001b[0m \u001b[1m5s\u001b[0m 61ms/step - loss: 0.8745 - val_loss: 1.0221\n",
            "Epoch 54/200\n",
            "\u001b[1m53/53\u001b[0m \u001b[32m━━━━━━━━━━━━━━━━━━━━\u001b[0m\u001b[37m\u001b[0m \u001b[1m3s\u001b[0m 61ms/step - loss: 0.8752 - val_loss: 1.0160\n",
            "Epoch 55/200\n",
            "\u001b[1m53/53\u001b[0m \u001b[32m━━━━━━━━━━━━━━━━━━━━\u001b[0m\u001b[37m\u001b[0m \u001b[1m3s\u001b[0m 61ms/step - loss: 0.8661 - val_loss: 1.0100\n",
            "Epoch 56/200\n",
            "\u001b[1m53/53\u001b[0m \u001b[32m━━━━━━━━━━━━━━━━━━━━\u001b[0m\u001b[37m\u001b[0m \u001b[1m4s\u001b[0m 81ms/step - loss: 0.8717 - val_loss: 1.0046\n",
            "Epoch 57/200\n",
            "\u001b[1m53/53\u001b[0m \u001b[32m━━━━━━━━━━━━━━━━━━━━\u001b[0m\u001b[37m\u001b[0m \u001b[1m3s\u001b[0m 48ms/step - loss: 0.8714 - val_loss: 0.9990\n",
            "Epoch 58/200\n",
            "\u001b[1m53/53\u001b[0m \u001b[32m━━━━━━━━━━━━━━━━━━━━\u001b[0m\u001b[37m\u001b[0m \u001b[1m5s\u001b[0m 50ms/step - loss: 0.8652 - val_loss: 0.9932\n",
            "Epoch 59/200\n",
            "\u001b[1m53/53\u001b[0m \u001b[32m━━━━━━━━━━━━━━━━━━━━\u001b[0m\u001b[37m\u001b[0m \u001b[1m3s\u001b[0m 64ms/step - loss: 0.8631 - val_loss: 0.9880\n",
            "Epoch 60/200\n",
            "\u001b[1m53/53\u001b[0m \u001b[32m━━━━━━━━━━━━━━━━━━━━\u001b[0m\u001b[37m\u001b[0m \u001b[1m4s\u001b[0m 50ms/step - loss: 0.8642 - val_loss: 0.9831\n",
            "Epoch 61/200\n",
            "\u001b[1m53/53\u001b[0m \u001b[32m━━━━━━━━━━━━━━━━━━━━\u001b[0m\u001b[37m\u001b[0m \u001b[1m6s\u001b[0m 61ms/step - loss: 0.8649 - val_loss: 0.9784\n",
            "Epoch 62/200\n",
            "\u001b[1m53/53\u001b[0m \u001b[32m━━━━━━━━━━━━━━━━━━━━\u001b[0m\u001b[37m\u001b[0m \u001b[1m4s\u001b[0m 68ms/step - loss: 0.8627 - val_loss: 0.9733\n",
            "Epoch 63/200\n",
            "\u001b[1m53/53\u001b[0m \u001b[32m━━━━━━━━━━━━━━━━━━━━\u001b[0m\u001b[37m\u001b[0m \u001b[1m4s\u001b[0m 49ms/step - loss: 0.8610 - val_loss: 0.9688\n",
            "Epoch 64/200\n",
            "\u001b[1m53/53\u001b[0m \u001b[32m━━━━━━━━━━━━━━━━━━━━\u001b[0m\u001b[37m\u001b[0m \u001b[1m3s\u001b[0m 49ms/step - loss: 0.8603 - val_loss: 0.9637\n",
            "Epoch 65/200\n",
            "\u001b[1m53/53\u001b[0m \u001b[32m━━━━━━━━━━━━━━━━━━━━\u001b[0m\u001b[37m\u001b[0m \u001b[1m6s\u001b[0m 63ms/step - loss: 0.8547 - val_loss: 0.9596\n",
            "Epoch 66/200\n",
            "\u001b[1m53/53\u001b[0m \u001b[32m━━━━━━━━━━━━━━━━━━━━\u001b[0m\u001b[37m\u001b[0m \u001b[1m5s\u001b[0m 61ms/step - loss: 0.8531 - val_loss: 0.9557\n",
            "Epoch 67/200\n",
            "\u001b[1m53/53\u001b[0m \u001b[32m━━━━━━━━━━━━━━━━━━━━\u001b[0m\u001b[37m\u001b[0m \u001b[1m4s\u001b[0m 84ms/step - loss: 0.8565 - val_loss: 0.9517\n",
            "Epoch 68/200\n",
            "\u001b[1m53/53\u001b[0m \u001b[32m━━━━━━━━━━━━━━━━━━━━\u001b[0m\u001b[37m\u001b[0m \u001b[1m4s\u001b[0m 69ms/step - loss: 0.8554 - val_loss: 0.9476\n",
            "Epoch 69/200\n",
            "\u001b[1m53/53\u001b[0m \u001b[32m━━━━━━━━━━━━━━━━━━━━\u001b[0m\u001b[37m\u001b[0m \u001b[1m5s\u001b[0m 60ms/step - loss: 0.8550 - val_loss: 0.9440\n",
            "Epoch 70/200\n",
            "\u001b[1m53/53\u001b[0m \u001b[32m━━━━━━━━━━━━━━━━━━━━\u001b[0m\u001b[37m\u001b[0m \u001b[1m5s\u001b[0m 51ms/step - loss: 0.8550 - val_loss: 0.9403\n",
            "Epoch 71/200\n",
            "\u001b[1m53/53\u001b[0m \u001b[32m━━━━━━━━━━━━━━━━━━━━\u001b[0m\u001b[37m\u001b[0m \u001b[1m3s\u001b[0m 65ms/step - loss: 0.8547 - val_loss: 0.9367\n",
            "Epoch 72/200\n",
            "\u001b[1m53/53\u001b[0m \u001b[32m━━━━━━━━━━━━━━━━━━━━\u001b[0m\u001b[37m\u001b[0m \u001b[1m5s\u001b[0m 60ms/step - loss: 0.8521 - val_loss: 0.9337\n",
            "Epoch 73/200\n",
            "\u001b[1m53/53\u001b[0m \u001b[32m━━━━━━━━━━━━━━━━━━━━\u001b[0m\u001b[37m\u001b[0m \u001b[1m3s\u001b[0m 61ms/step - loss: 0.8493 - val_loss: 0.9304\n",
            "Epoch 74/200\n",
            "\u001b[1m53/53\u001b[0m \u001b[32m━━━━━━━━━━━━━━━━━━━━\u001b[0m\u001b[37m\u001b[0m \u001b[1m6s\u001b[0m 72ms/step - loss: 0.8492 - val_loss: 0.9269\n",
            "Epoch 75/200\n",
            "\u001b[1m53/53\u001b[0m \u001b[32m━━━━━━━━━━━━━━━━━━━━\u001b[0m\u001b[37m\u001b[0m \u001b[1m4s\u001b[0m 74ms/step - loss: 0.8467 - val_loss: 0.9237\n",
            "Epoch 76/200\n",
            "\u001b[1m53/53\u001b[0m \u001b[32m━━━━━━━━━━━━━━━━━━━━\u001b[0m\u001b[37m\u001b[0m \u001b[1m3s\u001b[0m 61ms/step - loss: 0.8485 - val_loss: 0.9207\n",
            "Epoch 77/200\n",
            "\u001b[1m53/53\u001b[0m \u001b[32m━━━━━━━━━━━━━━━━━━━━\u001b[0m\u001b[37m\u001b[0m \u001b[1m3s\u001b[0m 50ms/step - loss: 0.8490 - val_loss: 0.9178\n",
            "Epoch 78/200\n",
            "\u001b[1m53/53\u001b[0m \u001b[32m━━━━━━━━━━━━━━━━━━━━\u001b[0m\u001b[37m\u001b[0m \u001b[1m7s\u001b[0m 86ms/step - loss: 0.8438 - val_loss: 0.9151\n",
            "Epoch 79/200\n",
            "\u001b[1m53/53\u001b[0m \u001b[32m━━━━━━━━━━━━━━━━━━━━\u001b[0m\u001b[37m\u001b[0m \u001b[1m3s\u001b[0m 53ms/step - loss: 0.8428 - val_loss: 0.9124\n",
            "Epoch 80/200\n",
            "\u001b[1m53/53\u001b[0m \u001b[32m━━━━━━━━━━━━━━━━━━━━\u001b[0m\u001b[37m\u001b[0m \u001b[1m5s\u001b[0m 49ms/step - loss: 0.8442 - val_loss: 0.9098\n",
            "Epoch 81/200\n",
            "\u001b[1m53/53\u001b[0m \u001b[32m━━━━━━━━━━━━━━━━━━━━\u001b[0m\u001b[37m\u001b[0m \u001b[1m4s\u001b[0m 66ms/step - loss: 0.8445 - val_loss: 0.9075\n",
            "Epoch 82/200\n",
            "\u001b[1m53/53\u001b[0m \u001b[32m━━━━━━━━━━━━━━━━━━━━\u001b[0m\u001b[37m\u001b[0m \u001b[1m4s\u001b[0m 76ms/step - loss: 0.8363 - val_loss: 0.9053\n",
            "Epoch 83/200\n",
            "\u001b[1m53/53\u001b[0m \u001b[32m━━━━━━━━━━━━━━━━━━━━\u001b[0m\u001b[37m\u001b[0m \u001b[1m4s\u001b[0m 52ms/step - loss: 0.8378 - val_loss: 0.9031\n",
            "Epoch 84/200\n",
            "\u001b[1m53/53\u001b[0m \u001b[32m━━━━━━━━━━━━━━━━━━━━\u001b[0m\u001b[37m\u001b[0m \u001b[1m6s\u001b[0m 64ms/step - loss: 0.8365 - val_loss: 0.9009\n",
            "Epoch 85/200\n",
            "\u001b[1m53/53\u001b[0m \u001b[32m━━━━━━━━━━━━━━━━━━━━\u001b[0m\u001b[37m\u001b[0m \u001b[1m4s\u001b[0m 84ms/step - loss: 0.8368 - val_loss: 0.8987\n",
            "Epoch 86/200\n",
            "\u001b[1m53/53\u001b[0m \u001b[32m━━━━━━━━━━━━━━━━━━━━\u001b[0m\u001b[37m\u001b[0m \u001b[1m4s\u001b[0m 61ms/step - loss: 0.8338 - val_loss: 0.8968\n",
            "Epoch 87/200\n",
            "\u001b[1m53/53\u001b[0m \u001b[32m━━━━━━━━━━━━━━━━━━━━\u001b[0m\u001b[37m\u001b[0m \u001b[1m3s\u001b[0m 51ms/step - loss: 0.8374 - val_loss: 0.8949\n",
            "Epoch 88/200\n",
            "\u001b[1m53/53\u001b[0m \u001b[32m━━━━━━━━━━━━━━━━━━━━\u001b[0m\u001b[37m\u001b[0m \u001b[1m3s\u001b[0m 63ms/step - loss: 0.8381 - val_loss: 0.8930\n",
            "Epoch 89/200\n",
            "\u001b[1m53/53\u001b[0m \u001b[32m━━━━━━━━━━━━━━━━━━━━\u001b[0m\u001b[37m\u001b[0m \u001b[1m4s\u001b[0m 51ms/step - loss: 0.8332 - val_loss: 0.8909\n",
            "Epoch 90/200\n",
            "\u001b[1m53/53\u001b[0m \u001b[32m━━━━━━━━━━━━━━━━━━━━\u001b[0m\u001b[37m\u001b[0m \u001b[1m3s\u001b[0m 51ms/step - loss: 0.8355 - val_loss: 0.8893\n",
            "Epoch 91/200\n",
            "\u001b[1m53/53\u001b[0m \u001b[32m━━━━━━━━━━━━━━━━━━━━\u001b[0m\u001b[37m\u001b[0m \u001b[1m5s\u001b[0m 57ms/step - loss: 0.8310 - val_loss: 0.8882\n",
            "Epoch 92/200\n",
            "\u001b[1m53/53\u001b[0m \u001b[32m━━━━━━━━━━━━━━━━━━━━\u001b[0m\u001b[37m\u001b[0m \u001b[1m5s\u001b[0m 63ms/step - loss: 0.8372 - val_loss: 0.8866\n",
            "Epoch 93/200\n",
            "\u001b[1m53/53\u001b[0m \u001b[32m━━━━━━━━━━━━━━━━━━━━\u001b[0m\u001b[37m\u001b[0m \u001b[1m3s\u001b[0m 51ms/step - loss: 0.8329 - val_loss: 0.8851\n",
            "Epoch 94/200\n",
            "\u001b[1m53/53\u001b[0m \u001b[32m━━━━━━━━━━━━━━━━━━━━\u001b[0m\u001b[37m\u001b[0m \u001b[1m3s\u001b[0m 61ms/step - loss: 0.8316 - val_loss: 0.8837\n",
            "Epoch 95/200\n",
            "\u001b[1m53/53\u001b[0m \u001b[32m━━━━━━━━━━━━━━━━━━━━\u001b[0m\u001b[37m\u001b[0m \u001b[1m5s\u001b[0m 67ms/step - loss: 0.8279 - val_loss: 0.8826\n",
            "Epoch 96/200\n",
            "\u001b[1m53/53\u001b[0m \u001b[32m━━━━━━━━━━━━━━━━━━━━\u001b[0m\u001b[37m\u001b[0m \u001b[1m3s\u001b[0m 61ms/step - loss: 0.8296 - val_loss: 0.8813\n",
            "Epoch 97/200\n",
            "\u001b[1m53/53\u001b[0m \u001b[32m━━━━━━━━━━━━━━━━━━━━\u001b[0m\u001b[37m\u001b[0m \u001b[1m5s\u001b[0m 50ms/step - loss: 0.8326 - val_loss: 0.8802\n",
            "Epoch 98/200\n",
            "\u001b[1m53/53\u001b[0m \u001b[32m━━━━━━━━━━━━━━━━━━━━\u001b[0m\u001b[37m\u001b[0m \u001b[1m4s\u001b[0m 73ms/step - loss: 0.8285 - val_loss: 0.8788\n",
            "Epoch 99/200\n",
            "\u001b[1m53/53\u001b[0m \u001b[32m━━━━━━━━━━━━━━━━━━━━\u001b[0m\u001b[37m\u001b[0m \u001b[1m3s\u001b[0m 61ms/step - loss: 0.8311 - val_loss: 0.8779\n",
            "Epoch 100/200\n",
            "\u001b[1m53/53\u001b[0m \u001b[32m━━━━━━━━━━━━━━━━━━━━\u001b[0m\u001b[37m\u001b[0m \u001b[1m5s\u001b[0m 61ms/step - loss: 0.8300 - val_loss: 0.8770\n",
            "Epoch 101/200\n",
            "\u001b[1m53/53\u001b[0m \u001b[32m━━━━━━━━━━━━━━━━━━━━\u001b[0m\u001b[37m\u001b[0m \u001b[1m3s\u001b[0m 60ms/step - loss: 0.8249 - val_loss: 0.8759\n",
            "Epoch 102/200\n",
            "\u001b[1m53/53\u001b[0m \u001b[32m━━━━━━━━━━━━━━━━━━━━\u001b[0m\u001b[37m\u001b[0m \u001b[1m5s\u001b[0m 55ms/step - loss: 0.8267 - val_loss: 0.8749\n",
            "Epoch 103/200\n",
            "\u001b[1m53/53\u001b[0m \u001b[32m━━━━━━━━━━━━━━━━━━━━\u001b[0m\u001b[37m\u001b[0m \u001b[1m5s\u001b[0m 61ms/step - loss: 0.8234 - val_loss: 0.8740\n",
            "Epoch 104/200\n",
            "\u001b[1m53/53\u001b[0m \u001b[32m━━━━━━━━━━━━━━━━━━━━\u001b[0m\u001b[37m\u001b[0m \u001b[1m3s\u001b[0m 63ms/step - loss: 0.8272 - val_loss: 0.8734\n",
            "Epoch 105/200\n",
            "\u001b[1m53/53\u001b[0m \u001b[32m━━━━━━━━━━━━━━━━━━━━\u001b[0m\u001b[37m\u001b[0m \u001b[1m4s\u001b[0m 74ms/step - loss: 0.8243 - val_loss: 0.8723\n",
            "Epoch 106/200\n",
            "\u001b[1m53/53\u001b[0m \u001b[32m━━━━━━━━━━━━━━━━━━━━\u001b[0m\u001b[37m\u001b[0m \u001b[1m4s\u001b[0m 51ms/step - loss: 0.8266 - val_loss: 0.8715\n",
            "Epoch 107/200\n",
            "\u001b[1m53/53\u001b[0m \u001b[32m━━━━━━━━━━━━━━━━━━━━\u001b[0m\u001b[37m\u001b[0m \u001b[1m3s\u001b[0m 51ms/step - loss: 0.8226 - val_loss: 0.8710\n",
            "Epoch 108/200\n",
            "\u001b[1m53/53\u001b[0m \u001b[32m━━━━━━━━━━━━━━━━━━━━\u001b[0m\u001b[37m\u001b[0m \u001b[1m7s\u001b[0m 82ms/step - loss: 0.8190 - val_loss: 0.8703\n",
            "Epoch 109/200\n",
            "\u001b[1m53/53\u001b[0m \u001b[32m━━━━━━━━━━━━━━━━━━━━\u001b[0m\u001b[37m\u001b[0m \u001b[1m4s\u001b[0m 52ms/step - loss: 0.8196 - val_loss: 0.8698\n",
            "Epoch 110/200\n",
            "\u001b[1m53/53\u001b[0m \u001b[32m━━━━━━━━━━━━━━━━━━━━\u001b[0m\u001b[37m\u001b[0m \u001b[1m3s\u001b[0m 52ms/step - loss: 0.8206 - val_loss: 0.8689\n",
            "Epoch 111/200\n",
            "\u001b[1m53/53\u001b[0m \u001b[32m━━━━━━━━━━━━━━━━━━━━\u001b[0m\u001b[37m\u001b[0m \u001b[1m6s\u001b[0m 61ms/step - loss: 0.8219 - val_loss: 0.8687\n",
            "Epoch 112/200\n",
            "\u001b[1m53/53\u001b[0m \u001b[32m━━━━━━━━━━━━━━━━━━━━\u001b[0m\u001b[37m\u001b[0m \u001b[1m4s\u001b[0m 82ms/step - loss: 0.8215 - val_loss: 0.8682\n",
            "Epoch 113/200\n",
            "\u001b[1m53/53\u001b[0m \u001b[32m━━━━━━━━━━━━━━━━━━━━\u001b[0m\u001b[37m\u001b[0m \u001b[1m3s\u001b[0m 51ms/step - loss: 0.8200 - val_loss: 0.8675\n",
            "Epoch 114/200\n",
            "\u001b[1m53/53\u001b[0m \u001b[32m━━━━━━━━━━━━━━━━━━━━\u001b[0m\u001b[37m\u001b[0m \u001b[1m3s\u001b[0m 61ms/step - loss: 0.8191 - val_loss: 0.8675\n",
            "Epoch 115/200\n",
            "\u001b[1m53/53\u001b[0m \u001b[32m━━━━━━━━━━━━━━━━━━━━\u001b[0m\u001b[37m\u001b[0m \u001b[1m3s\u001b[0m 64ms/step - loss: 0.8199 - val_loss: 0.8669\n",
            "Epoch 116/200\n",
            "\u001b[1m53/53\u001b[0m \u001b[32m━━━━━━━━━━━━━━━━━━━━\u001b[0m\u001b[37m\u001b[0m \u001b[1m5s\u001b[0m 88ms/step - loss: 0.8170 - val_loss: 0.8669\n",
            "Epoch 117/200\n",
            "\u001b[1m53/53\u001b[0m \u001b[32m━━━━━━━━━━━━━━━━━━━━\u001b[0m\u001b[37m\u001b[0m \u001b[1m3s\u001b[0m 62ms/step - loss: 0.8167 - val_loss: 0.8660\n",
            "Epoch 118/200\n",
            "\u001b[1m53/53\u001b[0m \u001b[32m━━━━━━━━━━━━━━━━━━━━\u001b[0m\u001b[37m\u001b[0m \u001b[1m5s\u001b[0m 62ms/step - loss: 0.8189 - val_loss: 0.8653\n",
            "Epoch 119/200\n",
            "\u001b[1m53/53\u001b[0m \u001b[32m━━━━━━━━━━━━━━━━━━━━\u001b[0m\u001b[37m\u001b[0m \u001b[1m5s\u001b[0m 88ms/step - loss: 0.8189 - val_loss: 0.8651\n",
            "Epoch 120/200\n",
            "\u001b[1m53/53\u001b[0m \u001b[32m━━━━━━━━━━━━━━━━━━━━\u001b[0m\u001b[37m\u001b[0m \u001b[1m3s\u001b[0m 63ms/step - loss: 0.8137 - val_loss: 0.8651\n",
            "Epoch 121/200\n",
            "\u001b[1m53/53\u001b[0m \u001b[32m━━━━━━━━━━━━━━━━━━━━\u001b[0m\u001b[37m\u001b[0m \u001b[1m5s\u001b[0m 61ms/step - loss: 0.8142 - val_loss: 0.8646\n",
            "Epoch 122/200\n",
            "\u001b[1m53/53\u001b[0m \u001b[32m━━━━━━━━━━━━━━━━━━━━\u001b[0m\u001b[37m\u001b[0m \u001b[1m3s\u001b[0m 63ms/step - loss: 0.8125 - val_loss: 0.8647\n",
            "Epoch 123/200\n",
            "\u001b[1m53/53\u001b[0m \u001b[32m━━━━━━━━━━━━━━━━━━━━\u001b[0m\u001b[37m\u001b[0m \u001b[1m5s\u001b[0m 52ms/step - loss: 0.8150 - val_loss: 0.8639\n",
            "Epoch 124/200\n",
            "\u001b[1m53/53\u001b[0m \u001b[32m━━━━━━━━━━━━━━━━━━━━\u001b[0m\u001b[37m\u001b[0m \u001b[1m5s\u001b[0m 50ms/step - loss: 0.8114 - val_loss: 0.8639\n",
            "Epoch 125/200\n",
            "\u001b[1m53/53\u001b[0m \u001b[32m━━━━━━━━━━━━━━━━━━━━\u001b[0m\u001b[37m\u001b[0m \u001b[1m7s\u001b[0m 80ms/step - loss: 0.8160 - val_loss: 0.8635\n",
            "Epoch 126/200\n",
            "\u001b[1m53/53\u001b[0m \u001b[32m━━━━━━━━━━━━━━━━━━━━\u001b[0m\u001b[37m\u001b[0m \u001b[1m3s\u001b[0m 50ms/step - loss: 0.8135 - val_loss: 0.8636\n",
            "Epoch 127/200\n",
            "\u001b[1m53/53\u001b[0m \u001b[32m━━━━━━━━━━━━━━━━━━━━\u001b[0m\u001b[37m\u001b[0m \u001b[1m6s\u001b[0m 62ms/step - loss: 0.8128 - val_loss: 0.8633\n",
            "Epoch 128/200\n",
            "\u001b[1m53/53\u001b[0m \u001b[32m━━━━━━━━━━━━━━━━━━━━\u001b[0m\u001b[37m\u001b[0m \u001b[1m6s\u001b[0m 86ms/step - loss: 0.8154 - val_loss: 0.8629\n",
            "Epoch 129/200\n",
            "\u001b[1m53/53\u001b[0m \u001b[32m━━━━━━━━━━━━━━━━━━━━\u001b[0m\u001b[37m\u001b[0m \u001b[1m3s\u001b[0m 61ms/step - loss: 0.8141 - val_loss: 0.8626\n",
            "Epoch 130/200\n",
            "\u001b[1m53/53\u001b[0m \u001b[32m━━━━━━━━━━━━━━━━━━━━\u001b[0m\u001b[37m\u001b[0m \u001b[1m5s\u001b[0m 61ms/step - loss: 0.8062 - val_loss: 0.8629\n",
            "Epoch 131/200\n",
            "\u001b[1m53/53\u001b[0m \u001b[32m━━━━━━━━━━━━━━━━━━━━\u001b[0m\u001b[37m\u001b[0m \u001b[1m4s\u001b[0m 83ms/step - loss: 0.8103 - val_loss: 0.8625\n",
            "Epoch 132/200\n",
            "\u001b[1m53/53\u001b[0m \u001b[32m━━━━━━━━━━━━━━━━━━━━\u001b[0m\u001b[37m\u001b[0m \u001b[1m3s\u001b[0m 63ms/step - loss: 0.8079 - val_loss: 0.8620\n",
            "Epoch 133/200\n",
            "\u001b[1m53/53\u001b[0m \u001b[32m━━━━━━━━━━━━━━━━━━━━\u001b[0m\u001b[37m\u001b[0m \u001b[1m5s\u001b[0m 60ms/step - loss: 0.8088 - val_loss: 0.8618\n",
            "Epoch 134/200\n",
            "\u001b[1m53/53\u001b[0m \u001b[32m━━━━━━━━━━━━━━━━━━━━\u001b[0m\u001b[37m\u001b[0m \u001b[1m3s\u001b[0m 61ms/step - loss: 0.8063 - val_loss: 0.8622\n",
            "Epoch 135/200\n",
            "\u001b[1m53/53\u001b[0m \u001b[32m━━━━━━━━━━━━━━━━━━━━\u001b[0m\u001b[37m\u001b[0m \u001b[1m5s\u001b[0m 85ms/step - loss: 0.8104 - val_loss: 0.8617\n",
            "Epoch 136/200\n",
            "\u001b[1m53/53\u001b[0m \u001b[32m━━━━━━━━━━━━━━━━━━━━\u001b[0m\u001b[37m\u001b[0m \u001b[1m3s\u001b[0m 61ms/step - loss: 0.8078 - val_loss: 0.8613\n",
            "Epoch 137/200\n",
            "\u001b[1m53/53\u001b[0m \u001b[32m━━━━━━━━━━━━━━━━━━━━\u001b[0m\u001b[37m\u001b[0m \u001b[1m5s\u001b[0m 50ms/step - loss: 0.8051 - val_loss: 0.8615\n",
            "Epoch 138/200\n",
            "\u001b[1m53/53\u001b[0m \u001b[32m━━━━━━━━━━━━━━━━━━━━\u001b[0m\u001b[37m\u001b[0m \u001b[1m6s\u001b[0m 74ms/step - loss: 0.8099 - val_loss: 0.8618\n",
            "Epoch 139/200\n",
            "\u001b[1m53/53\u001b[0m \u001b[32m━━━━━━━━━━━━━━━━━━━━\u001b[0m\u001b[37m\u001b[0m \u001b[1m3s\u001b[0m 50ms/step - loss: 0.8047 - val_loss: 0.8619\n",
            "Epoch 140/200\n",
            "\u001b[1m53/53\u001b[0m \u001b[32m━━━━━━━━━━━━━━━━━━━━\u001b[0m\u001b[37m\u001b[0m \u001b[1m6s\u001b[0m 62ms/step - loss: 0.8093 - val_loss: 0.8618\n",
            "Epoch 141/200\n",
            "\u001b[1m53/53\u001b[0m \u001b[32m━━━━━━━━━━━━━━━━━━━━\u001b[0m\u001b[37m\u001b[0m \u001b[1m5s\u001b[0m 88ms/step - loss: 0.8035 - val_loss: 0.8614\n",
            "Epoch 142/200\n",
            "\u001b[1m53/53\u001b[0m \u001b[32m━━━━━━━━━━━━━━━━━━━━\u001b[0m\u001b[37m\u001b[0m \u001b[1m3s\u001b[0m 50ms/step - loss: 0.8041 - val_loss: 0.8619\n",
            "Epoch 143/200\n",
            "\u001b[1m53/53\u001b[0m \u001b[32m━━━━━━━━━━━━━━━━━━━━\u001b[0m\u001b[37m\u001b[0m \u001b[1m6s\u001b[0m 62ms/step - loss: 0.8072 - val_loss: 0.8614\n",
            "Epoch 144/200\n",
            "\u001b[1m53/53\u001b[0m \u001b[32m━━━━━━━━━━━━━━━━━━━━\u001b[0m\u001b[37m\u001b[0m \u001b[1m6s\u001b[0m 79ms/step - loss: 0.8009 - val_loss: 0.8620\n",
            "Epoch 145/200\n",
            "\u001b[1m53/53\u001b[0m \u001b[32m━━━━━━━━━━━━━━━━━━━━\u001b[0m\u001b[37m\u001b[0m \u001b[1m3s\u001b[0m 61ms/step - loss: 0.8031 - val_loss: 0.8614\n",
            "Epoch 146/200\n",
            "\u001b[1m53/53\u001b[0m \u001b[32m━━━━━━━━━━━━━━━━━━━━\u001b[0m\u001b[37m\u001b[0m \u001b[1m3s\u001b[0m 60ms/step - loss: 0.8026 - val_loss: 0.8610\n",
            "Epoch 147/200\n",
            "\u001b[1m53/53\u001b[0m \u001b[32m━━━━━━━━━━━━━━━━━━━━\u001b[0m\u001b[37m\u001b[0m \u001b[1m3s\u001b[0m 64ms/step - loss: 0.8032 - val_loss: 0.8618\n",
            "Epoch 148/200\n",
            "\u001b[1m53/53\u001b[0m \u001b[32m━━━━━━━━━━━━━━━━━━━━\u001b[0m\u001b[37m\u001b[0m \u001b[1m4s\u001b[0m 81ms/step - loss: 0.8049 - val_loss: 0.8614\n",
            "Epoch 149/200\n",
            "\u001b[1m53/53\u001b[0m \u001b[32m━━━━━━━━━━━━━━━━━━━━\u001b[0m\u001b[37m\u001b[0m \u001b[1m4s\u001b[0m 74ms/step - loss: 0.8013 - val_loss: 0.8613\n",
            "Epoch 150/200\n",
            "\u001b[1m53/53\u001b[0m \u001b[32m━━━━━━━━━━━━━━━━━━━━\u001b[0m\u001b[37m\u001b[0m \u001b[1m4s\u001b[0m 61ms/step - loss: 0.8022 - val_loss: 0.8612\n",
            "Epoch 151/200\n",
            "\u001b[1m53/53\u001b[0m \u001b[32m━━━━━━━━━━━━━━━━━━━━\u001b[0m\u001b[37m\u001b[0m \u001b[1m5s\u001b[0m 86ms/step - loss: 0.8005 - val_loss: 0.8612\n",
            "Epoch 152/200\n",
            "\u001b[1m53/53\u001b[0m \u001b[32m━━━━━━━━━━━━━━━━━━━━\u001b[0m\u001b[37m\u001b[0m \u001b[1m3s\u001b[0m 61ms/step - loss: 0.8030 - val_loss: 0.8610\n",
            "Epoch 153/200\n",
            "\u001b[1m53/53\u001b[0m \u001b[32m━━━━━━━━━━━━━━━━━━━━\u001b[0m\u001b[37m\u001b[0m \u001b[1m5s\u001b[0m 62ms/step - loss: 0.8010 - val_loss: 0.8613\n",
            "Epoch 154/200\n",
            "\u001b[1m53/53\u001b[0m \u001b[32m━━━━━━━━━━━━━━━━━━━━\u001b[0m\u001b[37m\u001b[0m \u001b[1m6s\u001b[0m 87ms/step - loss: 0.8017 - val_loss: 0.8609\n",
            "Epoch 155/200\n",
            "\u001b[1m53/53\u001b[0m \u001b[32m━━━━━━━━━━━━━━━━━━━━\u001b[0m\u001b[37m\u001b[0m \u001b[1m4s\u001b[0m 61ms/step - loss: 0.7992 - val_loss: 0.8612\n",
            "Epoch 156/200\n",
            "\u001b[1m53/53\u001b[0m \u001b[32m━━━━━━━━━━━━━━━━━━━━\u001b[0m\u001b[37m\u001b[0m \u001b[1m5s\u001b[0m 61ms/step - loss: 0.8020 - val_loss: 0.8613\n",
            "Epoch 157/200\n",
            "\u001b[1m53/53\u001b[0m \u001b[32m━━━━━━━━━━━━━━━━━━━━\u001b[0m\u001b[37m\u001b[0m \u001b[1m4s\u001b[0m 74ms/step - loss: 0.7986 - val_loss: 0.8610\n",
            "Epoch 158/200\n",
            "\u001b[1m53/53\u001b[0m \u001b[32m━━━━━━━━━━━━━━━━━━━━\u001b[0m\u001b[37m\u001b[0m \u001b[1m5s\u001b[0m 64ms/step - loss: 0.7975 - val_loss: 0.8607\n",
            "Epoch 159/200\n",
            "\u001b[1m53/53\u001b[0m \u001b[32m━━━━━━━━━━━━━━━━━━━━\u001b[0m\u001b[37m\u001b[0m \u001b[1m3s\u001b[0m 50ms/step - loss: 0.8024 - val_loss: 0.8610\n",
            "Epoch 160/200\n",
            "\u001b[1m53/53\u001b[0m \u001b[32m━━━━━━━━━━━━━━━━━━━━\u001b[0m\u001b[37m\u001b[0m \u001b[1m6s\u001b[0m 73ms/step - loss: 0.7960 - val_loss: 0.8610\n",
            "Epoch 161/200\n",
            "\u001b[1m53/53\u001b[0m \u001b[32m━━━━━━━━━━━━━━━━━━━━\u001b[0m\u001b[37m\u001b[0m \u001b[1m3s\u001b[0m 62ms/step - loss: 0.7982 - val_loss: 0.8611\n",
            "Epoch 162/200\n",
            "\u001b[1m53/53\u001b[0m \u001b[32m━━━━━━━━━━━━━━━━━━━━\u001b[0m\u001b[37m\u001b[0m \u001b[1m3s\u001b[0m 61ms/step - loss: 0.7979 - val_loss: 0.8612\n",
            "Epoch 163/200\n",
            "\u001b[1m53/53\u001b[0m \u001b[32m━━━━━━━━━━━━━━━━━━━━\u001b[0m\u001b[37m\u001b[0m \u001b[1m3s\u001b[0m 61ms/step - loss: 0.7982 - val_loss: 0.8614\n",
            "Epoch 164/200\n",
            "\u001b[1m53/53\u001b[0m \u001b[32m━━━━━━━━━━━━━━━━━━━━\u001b[0m\u001b[37m\u001b[0m \u001b[1m7s\u001b[0m 90ms/step - loss: 0.7980 - val_loss: 0.8610\n",
            "Epoch 165/200\n",
            "\u001b[1m53/53\u001b[0m \u001b[32m━━━━━━━━━━━━━━━━━━━━\u001b[0m\u001b[37m\u001b[0m \u001b[1m4s\u001b[0m 61ms/step - loss: 0.7995 - val_loss: 0.8617\n",
            "Epoch 166/200\n",
            "\u001b[1m53/53\u001b[0m \u001b[32m━━━━━━━━━━━━━━━━━━━━\u001b[0m\u001b[37m\u001b[0m \u001b[1m3s\u001b[0m 61ms/step - loss: 0.7973 - val_loss: 0.8613\n",
            "Epoch 167/200\n",
            "\u001b[1m53/53\u001b[0m \u001b[32m━━━━━━━━━━━━━━━━━━━━\u001b[0m\u001b[37m\u001b[0m \u001b[1m3s\u001b[0m 62ms/step - loss: 0.7964 - val_loss: 0.8615\n",
            "Epoch 168/200\n",
            "\u001b[1m53/53\u001b[0m \u001b[32m━━━━━━━━━━━━━━━━━━━━\u001b[0m\u001b[37m\u001b[0m \u001b[1m5s\u001b[0m 87ms/step - loss: 0.7999 - val_loss: 0.8616\n",
            "Epoch 169/200\n",
            "\u001b[1m53/53\u001b[0m \u001b[32m━━━━━━━━━━━━━━━━━━━━\u001b[0m\u001b[37m\u001b[0m \u001b[1m3s\u001b[0m 50ms/step - loss: 0.7944 - val_loss: 0.8612\n",
            "Epoch 170/200\n",
            "\u001b[1m53/53\u001b[0m \u001b[32m━━━━━━━━━━━━━━━━━━━━\u001b[0m\u001b[37m\u001b[0m \u001b[1m6s\u001b[0m 62ms/step - loss: 0.7970 - val_loss: 0.8616\n",
            "Epoch 171/200\n",
            "\u001b[1m53/53\u001b[0m \u001b[32m━━━━━━━━━━━━━━━━━━━━\u001b[0m\u001b[37m\u001b[0m \u001b[1m4s\u001b[0m 81ms/step - loss: 0.7991 - val_loss: 0.8619\n",
            "Epoch 172/200\n",
            "\u001b[1m53/53\u001b[0m \u001b[32m━━━━━━━━━━━━━━━━━━━━\u001b[0m\u001b[37m\u001b[0m \u001b[1m4s\u001b[0m 50ms/step - loss: 0.7936 - val_loss: 0.8615\n",
            "Epoch 173/200\n",
            "\u001b[1m53/53\u001b[0m \u001b[32m━━━━━━━━━━━━━━━━━━━━\u001b[0m\u001b[37m\u001b[0m \u001b[1m3s\u001b[0m 61ms/step - loss: 0.7947 - val_loss: 0.8618\n",
            "Epoch 174/200\n",
            "\u001b[1m53/53\u001b[0m \u001b[32m━━━━━━━━━━━━━━━━━━━━\u001b[0m\u001b[37m\u001b[0m \u001b[1m3s\u001b[0m 51ms/step - loss: 0.7904 - val_loss: 0.8622\n",
            "Epoch 175/200\n",
            "\u001b[1m53/53\u001b[0m \u001b[32m━━━━━━━━━━━━━━━━━━━━\u001b[0m\u001b[37m\u001b[0m \u001b[1m7s\u001b[0m 78ms/step - loss: 0.7939 - val_loss: 0.8618\n",
            "Epoch 176/200\n",
            "\u001b[1m53/53\u001b[0m \u001b[32m━━━━━━━━━━━━━━━━━━━━\u001b[0m\u001b[37m\u001b[0m \u001b[1m3s\u001b[0m 61ms/step - loss: 0.7945 - val_loss: 0.8619\n",
            "Epoch 177/200\n",
            "\u001b[1m53/53\u001b[0m \u001b[32m━━━━━━━━━━━━━━━━━━━━\u001b[0m\u001b[37m\u001b[0m \u001b[1m5s\u001b[0m 62ms/step - loss: 0.7935 - val_loss: 0.8617\n",
            "Epoch 178/200\n",
            "\u001b[1m53/53\u001b[0m \u001b[32m━━━━━━━━━━━━━━━━━━━━\u001b[0m\u001b[37m\u001b[0m \u001b[1m5s\u001b[0m 52ms/step - loss: 0.7933 - val_loss: 0.8619\n",
            "Epoch 179/200\n",
            "\u001b[1m53/53\u001b[0m \u001b[32m━━━━━━━━━━━━━━━━━━━━\u001b[0m\u001b[37m\u001b[0m \u001b[1m6s\u001b[0m 61ms/step - loss: 0.7916 - val_loss: 0.8611\n",
            "Epoch 180/200\n",
            "\u001b[1m53/53\u001b[0m \u001b[32m━━━━━━━━━━━━━━━━━━━━\u001b[0m\u001b[37m\u001b[0m \u001b[1m3s\u001b[0m 61ms/step - loss: 0.7906 - val_loss: 0.8614\n",
            "Epoch 181/200\n",
            "\u001b[1m53/53\u001b[0m \u001b[32m━━━━━━━━━━━━━━━━━━━━\u001b[0m\u001b[37m\u001b[0m \u001b[1m5s\u001b[0m 87ms/step - loss: 0.7929 - val_loss: 0.8612\n",
            "Epoch 182/200\n",
            "\u001b[1m53/53\u001b[0m \u001b[32m━━━━━━━━━━━━━━━━━━━━\u001b[0m\u001b[37m\u001b[0m \u001b[1m3s\u001b[0m 50ms/step - loss: 0.7936 - val_loss: 0.8610\n",
            "Epoch 183/200\n",
            "\u001b[1m53/53\u001b[0m \u001b[32m━━━━━━━━━━━━━━━━━━━━\u001b[0m\u001b[37m\u001b[0m \u001b[1m6s\u001b[0m 62ms/step - loss: 0.7905 - val_loss: 0.8616\n",
            "Epoch 184/200\n",
            "\u001b[1m53/53\u001b[0m \u001b[32m━━━━━━━━━━━━━━━━━━━━\u001b[0m\u001b[37m\u001b[0m \u001b[1m4s\u001b[0m 83ms/step - loss: 0.7921 - val_loss: 0.8621\n",
            "Epoch 185/200\n",
            "\u001b[1m53/53\u001b[0m \u001b[32m━━━━━━━━━━━━━━━━━━━━\u001b[0m\u001b[37m\u001b[0m \u001b[1m3s\u001b[0m 52ms/step - loss: 0.7912 - val_loss: 0.8617\n",
            "Epoch 186/200\n",
            "\u001b[1m53/53\u001b[0m \u001b[32m━━━━━━━━━━━━━━━━━━━━\u001b[0m\u001b[37m\u001b[0m \u001b[1m3s\u001b[0m 62ms/step - loss: 0.7964 - val_loss: 0.8613\n",
            "Epoch 187/200\n",
            "\u001b[1m53/53\u001b[0m \u001b[32m━━━━━━━━━━━━━━━━━━━━\u001b[0m\u001b[37m\u001b[0m \u001b[1m5s\u001b[0m 61ms/step - loss: 0.7874 - val_loss: 0.8616\n",
            "Epoch 188/200\n",
            "\u001b[1m53/53\u001b[0m \u001b[32m━━━━━━━━━━━━━━━━━━━━\u001b[0m\u001b[37m\u001b[0m \u001b[1m5s\u001b[0m 87ms/step - loss: 0.7910 - val_loss: 0.8620\n",
            "Epoch 189/200\n",
            "\u001b[1m53/53\u001b[0m \u001b[32m━━━━━━━━━━━━━━━━━━━━\u001b[0m\u001b[37m\u001b[0m \u001b[1m3s\u001b[0m 61ms/step - loss: 0.7914 - val_loss: 0.8621\n",
            "Epoch 190/200\n",
            "\u001b[1m53/53\u001b[0m \u001b[32m━━━━━━━━━━━━━━━━━━━━\u001b[0m\u001b[37m\u001b[0m \u001b[1m3s\u001b[0m 52ms/step - loss: 0.7907 - val_loss: 0.8616\n",
            "Epoch 191/200\n",
            "\u001b[1m53/53\u001b[0m \u001b[32m━━━━━━━━━━━━━━━━━━━━\u001b[0m\u001b[37m\u001b[0m \u001b[1m7s\u001b[0m 84ms/step - loss: 0.7891 - val_loss: 0.8613\n",
            "Epoch 192/200\n",
            "\u001b[1m53/53\u001b[0m \u001b[32m━━━━━━━━━━━━━━━━━━━━\u001b[0m\u001b[37m\u001b[0m \u001b[1m3s\u001b[0m 53ms/step - loss: 0.7896 - val_loss: 0.8621\n",
            "Epoch 193/200\n",
            "\u001b[1m53/53\u001b[0m \u001b[32m━━━━━━━━━━━━━━━━━━━━\u001b[0m\u001b[37m\u001b[0m \u001b[1m3s\u001b[0m 61ms/step - loss: 0.7895 - val_loss: 0.8619\n",
            "Epoch 194/200\n",
            "\u001b[1m53/53\u001b[0m \u001b[32m━━━━━━━━━━━━━━━━━━━━\u001b[0m\u001b[37m\u001b[0m \u001b[1m3s\u001b[0m 49ms/step - loss: 0.7906 - val_loss: 0.8620\n",
            "Epoch 195/200\n",
            "\u001b[1m53/53\u001b[0m \u001b[32m━━━━━━━━━━━━━━━━━━━━\u001b[0m\u001b[37m\u001b[0m \u001b[1m4s\u001b[0m 77ms/step - loss: 0.7880 - val_loss: 0.8618\n",
            "Epoch 196/200\n",
            "\u001b[1m53/53\u001b[0m \u001b[32m━━━━━━━━━━━━━━━━━━━━\u001b[0m\u001b[37m\u001b[0m \u001b[1m3s\u001b[0m 59ms/step - loss: 0.7889 - val_loss: 0.8620\n",
            "Epoch 197/200\n",
            "\u001b[1m53/53\u001b[0m \u001b[32m━━━━━━━━━━━━━━━━━━━━\u001b[0m\u001b[37m\u001b[0m \u001b[1m3s\u001b[0m 61ms/step - loss: 0.7897 - val_loss: 0.8615\n",
            "Epoch 198/200\n",
            "\u001b[1m53/53\u001b[0m \u001b[32m━━━━━━━━━━━━━━━━━━━━\u001b[0m\u001b[37m\u001b[0m \u001b[1m3s\u001b[0m 51ms/step - loss: 0.7846 - val_loss: 0.8620\n",
            "Epoch 199/200\n",
            "\u001b[1m53/53\u001b[0m \u001b[32m━━━━━━━━━━━━━━━━━━━━\u001b[0m\u001b[37m\u001b[0m \u001b[1m3s\u001b[0m 62ms/step - loss: 0.7919 - val_loss: 0.8620\n",
            "Epoch 200/200\n",
            "\u001b[1m53/53\u001b[0m \u001b[32m━━━━━━━━━━━━━━━━━━━━\u001b[0m\u001b[37m\u001b[0m \u001b[1m5s\u001b[0m 61ms/step - loss: 0.7904 - val_loss: 0.8615\n"
          ]
        }
      ],
      "source": [
        "#wdl_model.compile(optimizer='adagrad', loss='mse')\n",
        "def root_mean_squared_error(y_true, y_pred):\n",
        "      mask = tensorflow.not_equal(y_true, 0)\n",
        "      pred = tensorflow.boolean_mask(y_pred, mask)\n",
        "      actual = tensorflow.boolean_mask(y_true, mask)\n",
        "      return tensorflow.sqrt(tensorflow.reduce_mean(tensorflow.square(y_pred - y_true)))\n",
        "wdl_model.compile(optimizer='adagrad', loss=root_mean_squared_error)\n",
        "# save_dir = os.path.join(os.getcwd(), \"save_models\")\n",
        "# filepath = \"cnn_cnn_weights.{epoch:02d}-{val_loss:.4f}--0fold.tf\"\n",
        "# checkpoint = ModelCheckpoint(os.path.join(save_dir, filepath),\n",
        "#                              monitor=\"val_loss\", verbose=1, save_best_only=False, mode='min')\n",
        "os.chdir('/content/drive/My Drive/COMP 4332/data')\n",
        "save_dir = os.path.join(os.getcwd(), \"save_models\")\n",
        "filepath = \"cnn_cnn_weights.{epoch:02d}-{val_loss:.4f}--0fold.keras\"\n",
        "checkpoint = ModelCheckpoint(os.path.join(save_dir, filepath))\n",
        "history = wdl_model.fit(\n",
        "\n",
        "        tr_features,\n",
        "        tr_ratings,\n",
        "        batch_size=1000,\n",
        "        epochs = 200,\n",
        "        validation_data=[val_features, val_ratings], validation_batch_size=32, verbose=1)\n",
        "        #validation_data=[val_features, val_ratings], validation_batch_size=val_features[0].shape, verbose=1, callbacks=[ModelCheckpoint('models/model.h5')])\n",
        "\n",
        "# # Ensure inputs are NumPy arrays (not Pandas DataFrames)\n",
        "# tr_features = np.array(tr_features)\n",
        "# tr_ratings = np.array(tr_ratings)\n",
        "# val_features = np.array(val_features)\n",
        "# val_ratings = np.array(val_ratings)\n",
        "\n",
        "# # Proceed with training\n",
        "# history = wdl_model.fit(\n",
        "#     tr_features,\n",
        "#     tr_ratings,\n",
        "#     batch_size=1000,\n",
        "#     epochs=120,\n",
        "#     validation_data=(val_features, val_ratings),  # Note: tuple, not list\n",
        "#     validation_batch_size=32,\n",
        "#     verbose=1,\n",
        "#     callbacks=[ModelCheckpoint('models/model.h5')]\n",
        "# )"
      ]
    },
    {
      "cell_type": "markdown",
      "metadata": {
        "id": "mJlTvwMlme0E"
      },
      "source": [
        "### Evaluate the model on train and validation sets using RMSE¶"
      ]
    },
    {
      "cell_type": "code",
      "execution_count": 246,
      "metadata": {
        "colab": {
          "base_uri": "https://localhost:8080/"
        },
        "id": "x0lLuQHYme0E",
        "outputId": "4f24c2f7-5dff-41b4-ab5a-2db3074d04f9"
      },
      "outputs": [
        {
          "output_type": "stream",
          "name": "stdout",
          "text": [
            "\u001b[1m1641/1641\u001b[0m \u001b[32m━━━━━━━━━━━━━━━━━━━━\u001b[0m\u001b[37m\u001b[0m \u001b[1m6s\u001b[0m 4ms/step\n",
            "TRAIN RMSE:  0.6551218483634845\n",
            "\u001b[1m207/207\u001b[0m \u001b[32m━━━━━━━━━━━━━━━━━━━━\u001b[0m\u001b[37m\u001b[0m \u001b[1m2s\u001b[0m 9ms/step\n",
            "VALID RMSE:  0.8787608689760265\n"
          ]
        }
      ],
      "source": [
        "y_pred = wdl_model.predict(tr_features)\n",
        "print(\"TRAIN RMSE: \", rmse(y_pred, tr_ratings))\n",
        "y_pred = wdl_model.predict(val_features)\n",
        "print(\"VALID RMSE: \", rmse(y_pred, val_ratings))"
      ]
    },
    {
      "cell_type": "code",
      "execution_count": 247,
      "metadata": {
        "colab": {
          "base_uri": "https://localhost:8080/"
        },
        "id": "1kIWmNIcYo0I",
        "outputId": "c9388134-5898-4b7a-ad5f-39e8d4344754"
      },
      "outputs": [
        {
          "output_type": "stream",
          "name": "stdout",
          "text": [
            "VALID RMSE:  0.8787608689760265\n"
          ]
        }
      ],
      "source": [
        "\n",
        "if __name__ == \"__main__\":\n",
        "\n",
        "    print(\"VALID RMSE: \", rmse(y_pred, val_ratings))\n"
      ]
    },
    {
      "cell_type": "code",
      "execution_count": 248,
      "metadata": {
        "colab": {
          "base_uri": "https://localhost:8080/",
          "height": 490
        },
        "id": "qTR4M8p5me0E",
        "outputId": "efb99b3d-1d17-4360-972b-97d86e470bee"
      },
      "outputs": [
        {
          "output_type": "stream",
          "name": "stdout",
          "text": [
            "dict_keys(['loss', 'val_loss'])\n"
          ]
        },
        {
          "output_type": "display_data",
          "data": {
            "text/plain": [
              "<Figure size 640x480 with 1 Axes>"
            ],
            "image/png": "[encoded data removed]"
          },
          "metadata": {}
        }
      ],
      "source": [
        "import matplotlib.pyplot as plt\n",
        "print(history.history.keys())\n",
        "# \"Loss\"\n",
        "plt.plot(history.history['loss'][75:])\n",
        "plt.plot(history.history['val_loss'][75:])\n",
        "plt.title('model loss')\n",
        "plt.ylabel('loss')\n",
        "plt.xlabel('epoch')\n",
        "plt.legend(['train', 'validation'], loc='upper left')\n",
        "plt.show()"
      ]
    }
  ],
  "metadata": {
    "colab": {
      "provenance": []
    },
    "kernelspec": {
      "display_name": "Python 3 (ipykernel)",
      "language": "python",
      "name": "python3"
    },
    "language_info": {
      "codemirror_mode": {
        "name": "ipython",
        "version": 3
      },
      "file_extension": ".py",
      "mimetype": "text/x-python",
      "name": "python",
      "nbconvert_exporter": "python",
      "pygments_lexer": "ipython3",
      "version": "3.10.9"
    }
  },
  "nbformat": 4,
  "nbformat_minor": 0
}