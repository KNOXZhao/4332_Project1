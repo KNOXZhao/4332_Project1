{
 "cells": [
  {
   "cell_type": "markdown",
   "metadata": {},
   "source": [
    "# Environment Setup"
   ]
  },
  {
   "cell_type": "code",
   "execution_count": 1,
   "metadata": {},
   "outputs": [
    {
     "name": "stderr",
     "output_type": "stream",
     "text": [
      "c:\\Users\\keliv\\anaconda3\\envs\\Comp4332\\Lib\\site-packages\\tqdm\\auto.py:21: TqdmWarning: IProgress not found. Please update jupyter and ipywidgets. See https://ipywidgets.readthedocs.io/en/stable/user_install.html\n",
      "  from .autonotebook import tqdm as notebook_tqdm\n"
     ]
    },
    {
     "name": "stdout",
     "output_type": "stream",
     "text": [
      "WARNING:tensorflow:From c:\\Users\\keliv\\anaconda3\\envs\\Comp4332\\Lib\\site-packages\\tf_keras\\src\\losses.py:2976: The name tf.losses.sparse_softmax_cross_entropy is deprecated. Please use tf.compat.v1.losses.sparse_softmax_cross_entropy instead.\n",
      "\n"
     ]
    }
   ],
   "source": [
    "import pandas as pd\n",
    "import numpy as np\n",
    "import json\n",
    "import torch\n",
    "import torch.nn as nn\n",
    "import torch.nn.functional as F\n",
    "import torch.optim as optim\n",
    "from math import sqrt\n",
    "from torch.utils.data import Dataset, DataLoader\n",
    "from collections import Counter\n",
    "from itertools import combinations\n",
    "import random\n",
    "import matplotlib.pyplot as plt\n",
    "from together import Together\n",
    "import time\n",
    "from pydantic import BaseModel, Field\n",
    "\n",
    "\n",
    "# For tokenization, we reuse Keras' Tokenizer for simplicity.\n",
    "from tensorflow.keras.preprocessing.text import Tokenizer\n",
    "from tensorflow.keras.preprocessing.sequence import pad_sequences\n",
    "\n",
    "# Using the SentenceTransformer library from Hugging Face for embeddings\n",
    "from sentence_transformers import SentenceTransformer\n",
    "\n",
    "# For loading environment variables\n",
    "from dotenv import load_dotenv\n",
    "import os"
   ]
  },
  {
   "cell_type": "code",
   "execution_count": 2,
   "metadata": {},
   "outputs": [
    {
     "data": {
      "text/plain": [
       "<torch._C.Generator at 0x21a7fd293f0>"
      ]
     },
     "execution_count": 2,
     "metadata": {},
     "output_type": "execute_result"
    }
   ],
   "source": [
    "random.seed(0)\n",
    "np.random.seed(0)\n",
    "torch.manual_seed(0)"
   ]
  },
  {
   "cell_type": "markdown",
   "metadata": {},
   "source": [
    "# Load Data"
   ]
  },
  {
   "cell_type": "code",
   "execution_count": 5,
   "metadata": {},
   "outputs": [],
   "source": [
    "train_df = pd.read_csv(\"../data/review.csv\")\n",
    "val_df = pd.read_csv(\"../data/validation.csv\")\n",
    "test_df = pd.read_csv(\"../data/prediction.csv\")\n",
    "\n",
    "with open(\"../data/product.json\", \"r\") as f:\n",
    "    product_data = json.load(f)\n",
    "product_df = pd.DataFrame(product_data)"
   ]
  },
  {
   "cell_type": "markdown",
   "metadata": {},
   "source": [
    "# Data Preprocessing"
   ]
  },
  {
   "cell_type": "markdown",
   "metadata": {},
   "source": [
    "## Create User Features"
   ]
  },
  {
   "cell_type": "code",
   "execution_count": 6,
   "metadata": {},
   "outputs": [],
   "source": [
    "grouped_reviews = train_df.groupby('ReviewerID')['Text'] \\\n",
    "                    .agg(' #'.join) \\\n",
    "                    .reset_index(name='combined_reviews')"
   ]
  },
  {
   "cell_type": "code",
   "execution_count": 7,
   "metadata": {},
   "outputs": [],
   "source": [
    "class User_Feature(BaseModel):\n",
    "    P_interests: str = Field(description=\"User's primary interests\")\n",
    "    O_interests: str = Field(description=\"User's other interests\")\n",
    "    P_intentions: str = Field(description=\"User's primary intentions\")\n",
    "    O_intentions: str = Field(description=\"User's other intentions\")\n",
    "    product_preferences: str = Field(description=\"User's product preferences\")"
   ]
  },
  {
   "cell_type": "code",
   "execution_count": 13,
   "metadata": {},
   "outputs": [],
   "source": [
    "load_dotenv()\n",
    "\n",
    "TOGETHER_API_KEY = os.getenv('API_KEY')\n",
    "os.environ[\"TOGETHER_API_KEY\"] = TOGETHER_API_KEY\n",
    "MODEL_NAME = \"meta-llama/Meta-Llama-3.1-8B-Instruct-Turbo\"\n",
    "\n",
    "def analyze_user_reviews(reviews):\n",
    "    system_prompt = f\"\"\"Analyze these user reviews separated by # and identify key characteristics:\n",
    "    - Primary interests: [a simple noun phrase within 15 words]\n",
    "    - Other interests: [a simple noun phrase within 15 words]\n",
    "    - Primary intentions: [a simple verb phrase within 15 words]\n",
    "    - Other intentions: [a simple verb phrase within 15 words]\n",
    "    - Preferred product types: [a simple noun phrase within 15 words]\n",
    "    \n",
    "    Return as a concise JSON format with these keys: \n",
    "    P_interests, O_interests, P_intentions, O_intentions, product_preferences\"\"\"\n",
    "    \n",
    "    user_prompt = f\"Reviews: {reviews}\"\n",
    "    \n",
    "    client = Together()\n",
    "\n",
    "    try:\n",
    "        response = client.chat.completions.create(\n",
    "            model=MODEL_NAME,\n",
    "            messages=[\n",
    "                {\"role\": \"system\", \"content\": system_prompt},\n",
    "                {\"role\": \"user\", \"content\": user_prompt}\n",
    "            ],\n",
    "            response_format={\n",
    "                \"type\": \"json_object\",\n",
    "                \"schema\": User_Feature.model_json_schema(),\n",
    "            },\n",
    "        )\n",
    "\n",
    "        result = response.choices[0].message.content\n",
    "        return User_Feature.model_validate_json(result)\n",
    "        \n",
    "    except Exception as e:\n",
    "        print(f\"API Error: {e}\")\n",
    "        return None\n",
    "\n",
    "def process_reviews(grouped_df):\n",
    "    results = []\n",
    "    \n",
    "    for _, row in grouped_df.iterrows():\n",
    "        analysis = analyze_user_reviews(row['combined_reviews'])\n",
    "        features = analysis or User_Feature(\n",
    "            P_interests=\"Unknown\",\n",
    "            O_interests=\"Unknown\",\n",
    "            P_intentions=\"Unknown\",\n",
    "            O_intentions=\"Unknown\",\n",
    "            product_preferences=\"Unknown\"\n",
    "        )\n",
    "        \n",
    "        results.append({\n",
    "            \"ReviewerID\": row['ReviewerID'],\n",
    "            **features.model_dump()\n",
    "        })\n",
    "        \n",
    "        time.sleep(1)  # Rate limiting\n",
    "    \n",
    "    return pd.DataFrame(results)"
   ]
  },
  {
   "cell_type": "code",
   "execution_count": null,
   "metadata": {},
   "outputs": [],
   "source": [
    "# skip this code block if the feature extraction is already done\n",
    "user_features_df = process_reviews(grouped_reviews)\n",
    "user_features_df.to_csv(\"../user_features.csv\", index=False)"
   ]
  },
  {
   "cell_type": "code",
   "execution_count": 9,
   "metadata": {},
   "outputs": [],
   "source": [
    "# Load the user features from CSV\n",
    "user_features_df = pd.read_csv('../user_features.csv')\n",
    "user_features_df.fillna(\"Unknown\", inplace=True)"
   ]
  },
  {
   "cell_type": "markdown",
   "metadata": {},
   "source": [
    "## Merge Product Metadata"
   ]
  },
  {
   "cell_type": "code",
   "execution_count": 10,
   "metadata": {},
   "outputs": [],
   "source": [
    "def extract_main_category(cat_list):\n",
    "    if not cat_list:\n",
    "        return \"Unknown\"\n",
    "    # Use the last category that is not an HTML artifact.\n",
    "    last_cat = cat_list[-1]\n",
    "    if isinstance(last_cat, str) and ('<' in last_cat or '>' in last_cat):\n",
    "        if len(cat_list) >= 2:\n",
    "            last_cat = cat_list[-2]\n",
    "    return last_cat if last_cat else \"Unknown\""
   ]
  },
  {
   "cell_type": "code",
   "execution_count": 11,
   "metadata": {},
   "outputs": [],
   "source": [
    "product_df[\"MainCategory\"] = product_df[\"category\"].apply(extract_main_category)\n",
    "product_df[\"BrandClean\"] = product_df[\"brand\"].fillna(\"Unknown\")\n",
    "\n",
    "train_df = train_df.merge(product_df[[\"ProductID\", \"MainCategory\", \"BrandClean\"]], on=\"ProductID\", how=\"left\")\n",
    "val_df = val_df.merge(product_df[[\"ProductID\", \"MainCategory\", \"BrandClean\"]], on=\"ProductID\", how=\"left\")\n",
    "test_df = test_df.merge(product_df[[\"ProductID\", \"MainCategory\", \"BrandClean\"]], on=\"ProductID\", how=\"left\")\n",
    "\n",
    "train_df[[\"MainCategory\", \"BrandClean\"]] = train_df[[\"MainCategory\", \"BrandClean\"]].fillna(\"Unknown\")\n",
    "val_df[[\"MainCategory\", \"BrandClean\"]] = val_df[[\"MainCategory\", \"BrandClean\"]].fillna(\"Unknown\")\n",
    "test_df[[\"MainCategory\", \"BrandClean\"]] = test_df[[\"MainCategory\", \"BrandClean\"]].fillna(\"Unknown\")"
   ]
  },
  {
   "cell_type": "markdown",
   "metadata": {},
   "source": [
    "## Encode IDs and Categorical Features"
   ]
  },
  {
   "cell_type": "code",
   "execution_count": 12,
   "metadata": {},
   "outputs": [],
   "source": [
    "# User and Product IDs\n",
    "unique_users = train_df[\"ReviewerID\"].unique().tolist()\n",
    "unique_items = train_df[\"ProductID\"].unique().tolist()\n",
    "user_to_index = {u: i+1 for i, u in enumerate(unique_users)}  # reserve 0 for unknown\n",
    "item_to_index = {p: i+1 for i, p in enumerate(unique_items)}\n",
    "unknown_user_idx = 0\n",
    "unknown_item_idx = 0\n",
    "\n",
    "train_user_idx = train_df[\"ReviewerID\"].apply(lambda x: user_to_index.get(x, unknown_user_idx)).values\n",
    "train_item_idx = train_df[\"ProductID\"].apply(lambda x: item_to_index.get(x, unknown_item_idx)).values\n",
    "val_user_idx = val_df[\"ReviewerID\"].apply(lambda x: user_to_index.get(x, unknown_user_idx)).values\n",
    "val_item_idx = val_df[\"ProductID\"].apply(lambda x: item_to_index.get(x, unknown_item_idx)).values\n",
    "test_user_idx = test_df[\"ReviewerID\"].apply(lambda x: user_to_index.get(x, unknown_user_idx)).values\n",
    "test_item_idx = test_df[\"ProductID\"].apply(lambda x: item_to_index.get(x, unknown_item_idx)).values"
   ]
  },
  {
   "cell_type": "code",
   "execution_count": 13,
   "metadata": {},
   "outputs": [],
   "source": [
    "# Categories and Brands\n",
    "unique_cats = pd.unique(train_df[\"MainCategory\"]).tolist()\n",
    "unique_brands = pd.unique(train_df[\"BrandClean\"]).tolist()\n",
    "cat_to_index = {c: i+1 for i, c in enumerate(unique_cats)}  # 0 for unknown\n",
    "brand_to_index = {b: i+1 for i, b in enumerate(unique_brands)}\n",
    "unknown_cat_idx = 0\n",
    "unknown_brand_idx = 0\n",
    "\n",
    "train_cat_idx = train_df[\"MainCategory\"].apply(lambda x: cat_to_index.get(x, unknown_cat_idx)).values\n",
    "train_brand_idx = train_df[\"BrandClean\"].apply(lambda x: brand_to_index.get(x, unknown_brand_idx)).values\n",
    "val_cat_idx = val_df[\"MainCategory\"].apply(lambda x: cat_to_index.get(x, unknown_cat_idx)).values\n",
    "val_brand_idx = val_df[\"BrandClean\"].apply(lambda x: brand_to_index.get(x, unknown_brand_idx)).values\n",
    "test_cat_idx = test_df[\"MainCategory\"].apply(lambda x: cat_to_index.get(x, unknown_cat_idx)).values\n",
    "test_brand_idx = test_df[\"BrandClean\"].apply(lambda x: brand_to_index.get(x, unknown_brand_idx)).values"
   ]
  },
  {
   "cell_type": "markdown",
   "metadata": {},
   "source": [
    "## User Feature Embeddings"
   ]
  },
  {
   "cell_type": "code",
   "execution_count": 153,
   "metadata": {},
   "outputs": [],
   "source": [
    "# can skip this code block if the embedding is already done\n",
    "text_model = SentenceTransformer('all-MiniLM-L6-v2') \n",
    "\n",
    "user_features_df[\"User_features\"] = \"Primary interests: \" + user_features_df[\"P_interests\"] + \\\n",
    "    \", Other interests: \" + user_features_df[\"O_interests\"] + \\\n",
    "    \", Primary intentions: \" + user_features_df[\"P_intentions\"] + \\\n",
    "    \", Other intentions: \" + user_features_df[\"O_intentions\"] + \\\n",
    "    \", Product preferences: \" + user_features_df[\"product_preferences\"]\n",
    "\n",
    "with torch.no_grad():\n",
    "    user_index_to_features_embed = {\n",
    "        user_to_index.get(row['ReviewerID'], unknown_user_idx): text_model.encode(row['User_features'])\n",
    "        for _, row in user_features_df.iterrows()\n",
    "    }\n",
    "\n",
    "user_index_to_features_embed[0] = text_model.encode(\"Unknown\")  # Unknown user features\n",
    "torch.save(user_index_to_features_embed, \"./weights/mapping/user_index_to_features_embed.pth\")"
   ]
  },
  {
   "cell_type": "markdown",
   "metadata": {},
   "source": [
    "## Text Tokenization"
   ]
  },
  {
   "cell_type": "code",
   "execution_count": 15,
   "metadata": {},
   "outputs": [],
   "source": [
    "# # Use the \"Text\" column from training data. (If you wish, you can also combine \"Summary\".)\n",
    "# train_texts = train_df[\"Text\"].fillna(\"\").astype(str).tolist()\n",
    "# tokenizer = Tokenizer(num_words=10000, oov_token=\"<OOV>\")\n",
    "# tokenizer.fit_on_texts(train_texts)\n",
    "# MAX_SEQ_LEN = 100\n",
    "# train_sequences = tokenizer.texts_to_sequences(train_texts)\n",
    "# train_padded = pad_sequences(train_sequences, maxlen=MAX_SEQ_LEN, padding='post', truncating='post')\n",
    "\n",
    "# # For validation and test, assume no review text is provided (or use empty strings)\n",
    "# val_padded = np.zeros((len(val_df), MAX_SEQ_LEN), dtype=int)\n",
    "# test_padded = np.zeros((len(test_df), MAX_SEQ_LEN), dtype=int)"
   ]
  },
  {
   "cell_type": "markdown",
   "metadata": {},
   "source": [
    "## Prepare Target Ratings"
   ]
  },
  {
   "cell_type": "code",
   "execution_count": 14,
   "metadata": {},
   "outputs": [],
   "source": [
    "train_ratings = train_df[\"Star\"].values.astype(np.float32)\n",
    "val_ratings = val_df[\"Star\"].values.astype(np.float32)"
   ]
  },
  {
   "cell_type": "markdown",
   "metadata": {},
   "source": [
    "# Create a PyTorch Dataset"
   ]
  },
  {
   "cell_type": "code",
   "execution_count": 15,
   "metadata": {},
   "outputs": [],
   "source": [
    "class RatingDataset(Dataset):\n",
    "    # def __init__(self, user_ids, item_ids, text_seqs, cat_ids, brand_ids, ratings):\n",
    "    def __init__(self, user_ids, item_ids, cat_ids, brand_ids, ratings):\n",
    "        self.user_ids = torch.tensor(user_ids, dtype=torch.long)\n",
    "        self.item_ids = torch.tensor(item_ids, dtype=torch.long)\n",
    "        # self.text_seqs = torch.tensor(text_seqs, dtype=torch.long)\n",
    "        self.cat_ids = torch.tensor(cat_ids, dtype=torch.long)\n",
    "        self.brand_ids = torch.tensor(brand_ids, dtype=torch.long)\n",
    "        self.ratings = torch.tensor(ratings, dtype=torch.float32)\n",
    "        \n",
    "    def __len__(self):\n",
    "        return len(self.user_ids)\n",
    "    \n",
    "    def __getitem__(self, idx):\n",
    "        return (self.user_ids[idx],\n",
    "                self.item_ids[idx],\n",
    "                # self.text_seqs[idx],\n",
    "                self.cat_ids[idx],\n",
    "                self.brand_ids[idx],\n",
    "                self.ratings[idx])\n",
    "                \n",
    "train_dataset = RatingDataset(train_user_idx, train_item_idx, train_cat_idx, train_brand_idx, train_ratings)\n",
    "val_dataset = RatingDataset(val_user_idx, val_item_idx, val_cat_idx, val_brand_idx, val_ratings)\n",
    "\n",
    "BATCH_SIZE = 64\n",
    "train_loader = DataLoader(train_dataset, batch_size=BATCH_SIZE, shuffle=True)\n",
    "val_loader = DataLoader(val_dataset, batch_size=BATCH_SIZE)"
   ]
  },
  {
   "cell_type": "markdown",
   "metadata": {},
   "source": [
    "# Define the Model in PyTorch"
   ]
  },
  {
   "cell_type": "code",
   "execution_count": 53,
   "metadata": {},
   "outputs": [],
   "source": [
    "class RatingPredictor(nn.Module):\n",
    "    # def __init__(self, num_users, num_items, vocab_size, num_cats, num_brands, max_seq_len,\n",
    "    #              user_emb_dim=128, item_emb_dim=256, word_emb_dim=100, cat_emb_dim=128, brand_emb_dim=128, hidden_dim=512):\n",
    "    def __init__(self, num_users, num_items, num_cats, num_brands,\n",
    "                 user_emb_dim=32, item_emb_dim=128, cat_emb_dim=64, brand_emb_dim=64, hidden_dim=256):\n",
    "        super(RatingPredictor, self).__init__()\n",
    "        # Embedding layers\n",
    "        self.user_emb = nn.Embedding(num_users, user_emb_dim, padding_idx=0)\n",
    "        self.item_emb = nn.Embedding(num_items, item_emb_dim, padding_idx=0)\n",
    "        # self.word_emb = nn.Embedding(vocab_size, word_emb_dim)\n",
    "        self.cat_emb = nn.Embedding(num_cats, cat_emb_dim, padding_idx=0)\n",
    "        self.brand_emb = nn.Embedding(num_brands, brand_emb_dim, padding_idx=0)\n",
    "                \n",
    "        # # Combined feature dimension: user + item + text features (3*50 = 150) + category + brand\n",
    "        # combined_dim = user_emb_dim + item_emb_dim + 150 + cat_emb_dim + brand_emb_dim\n",
    "        # Combined feature dimension: user + item + user features + category + brand\n",
    "        combined_dim = user_emb_dim + item_emb_dim + 384 + cat_emb_dim + brand_emb_dim\n",
    "        self.fc_in = nn.Linear(combined_dim, hidden_dim)\n",
    "        self.ln1 = nn.LayerNorm(hidden_dim)\n",
    "        self.dropout1 = nn.Dropout(0.3)\n",
    "        # self.bn1 = nn.BatchNorm1d(hidden_dim)\n",
    "        self.fc1 = nn.Linear(hidden_dim, hidden_dim//2)\n",
    "        self.ln2 = nn.LayerNorm(hidden_dim//2)\n",
    "        self.dropout2 = nn.Dropout(0.5)\n",
    "        self.fc2 = nn.Linear(hidden_dim//2, hidden_dim//4)\n",
    "        self.ln3 = nn.LayerNorm(hidden_dim//4)\n",
    "        self.dropout3 = nn.Dropout(0.5)\n",
    "        # Final output layer with scaled sigmoid so predictions fall in [1,5]\n",
    "        self.fc_out = nn.Linear(hidden_dim//4, 1)\n",
    "        \n",
    "    # def forward(self, user_ids, item_ids, text_seq, cat_ids, brand_ids):\n",
    "    def forward(self, user_ids, item_ids, cat_ids, brand_ids, user_feature_embed):\n",
    "        # Get embeddings for user and item\n",
    "        user_vec = self.user_emb(user_ids)       # (batch, user_emb_dim)\n",
    "        item_vec = self.item_emb(item_ids)         # (batch, item_emb_dim)\n",
    "        \n",
    "        # Process review text\n",
    "        # text_seq: (batch, max_seq_len) -> word embeddings: (batch, max_seq_len, word_emb_dim)\n",
    "        # text_emb = self.word_emb(text_seq)         # (batch, max_seq_len, word_emb_dim)\n",
    "        # text_emb = text_emb.transpose(1, 2)         # (batch, word_emb_dim, max_seq_len)\n",
    "        \n",
    "        # Apply three parallel convolutions with different kernel sizes\n",
    "        # conv3 = F.relu(self.conv1d_3(text_emb))     # (batch, 50, L3)\n",
    "        # pool3 = self.pool(conv3).squeeze(-1)         # (batch, 50)\n",
    "        \n",
    "        # conv4 = F.relu(self.conv1d_4(text_emb))     # (batch, 50, L4)\n",
    "        # pool4 = self.pool(conv4).squeeze(-1)         # (batch, 50)\n",
    "        \n",
    "        # conv5 = F.relu(self.conv1d_5(text_emb))     # (batch, 50, L5)\n",
    "        # pool5 = self.pool(conv5).squeeze(-1)         # (batch, 50)\n",
    "        \n",
    "        # Concatenate text features from all kernels\n",
    "        # text_features = torch.cat([pool3, pool4, pool5], dim=1)  # (batch, 150)\n",
    "        \n",
    "        # Get metadata embeddings\n",
    "        cat_vec = self.cat_emb(cat_ids)             # (batch, cat_emb_dim)\n",
    "        brand_vec = self.brand_emb(brand_ids)         # (batch, brand_emb_dim)\n",
    "\n",
    "        # Get user feature embeddings\n",
    "        user_feature_vec = user_feature_embed(user_ids)  # (batch, 384)\n",
    "        \n",
    "        # Concatenate all features\n",
    "        # combined = torch.cat([user_vec, item_vec, text_features, cat_vec, brand_vec], dim=1)\n",
    "        combined = torch.cat([user_vec, user_feature_vec, item_vec, cat_vec, brand_vec], dim=1)\n",
    "        \n",
    "        # Fully connected layers with BatchNorm and Dropout\n",
    "        x = self.dropout1(F.leaky_relu(self.ln1(self.fc_in(combined)), 0.1))\n",
    "        x = self.dropout2(F.leaky_relu(self.ln2(self.fc1(x)), 0.1))\n",
    "        x = self.dropout3(F.leaky_relu(self.ln3(self.fc2(x)), 0.1))\n",
    "        # Use a scaled sigmoid so that outputs are between 1 and 5.\n",
    "        out = 1 + 4 * torch.sigmoid(self.fc_out(x))\n",
    "        return out.squeeze(1)"
   ]
  },
  {
   "cell_type": "code",
   "execution_count": 54,
   "metadata": {},
   "outputs": [
    {
     "data": {
      "text/plain": [
       "RatingPredictor(\n",
       "  (user_emb): Embedding(2753, 32, padding_idx=0)\n",
       "  (item_emb): Embedding(6337, 128, padding_idx=0)\n",
       "  (cat_emb): Embedding(38, 64, padding_idx=0)\n",
       "  (brand_emb): Embedding(3618, 64, padding_idx=0)\n",
       "  (fc_in): Linear(in_features=672, out_features=256, bias=True)\n",
       "  (ln1): LayerNorm((256,), eps=1e-05, elementwise_affine=True)\n",
       "  (dropout1): Dropout(p=0.3, inplace=False)\n",
       "  (fc1): Linear(in_features=256, out_features=128, bias=True)\n",
       "  (ln2): LayerNorm((128,), eps=1e-05, elementwise_affine=True)\n",
       "  (dropout2): Dropout(p=0.5, inplace=False)\n",
       "  (fc2): Linear(in_features=128, out_features=64, bias=True)\n",
       "  (ln3): LayerNorm((64,), eps=1e-05, elementwise_affine=True)\n",
       "  (dropout3): Dropout(p=0.5, inplace=False)\n",
       "  (fc_out): Linear(in_features=64, out_features=1, bias=True)\n",
       ")"
      ]
     },
     "execution_count": 54,
     "metadata": {},
     "output_type": "execute_result"
    }
   ],
   "source": [
    "# Define sizes (add +1 to account for unknown index 0)\n",
    "num_users = len(user_to_index) + 1\n",
    "num_items = len(item_to_index) + 1\n",
    "# vocab_size = min(10000, len(tokenizer.word_index) + 1)\n",
    "num_cats = len(cat_to_index) + 1\n",
    "num_brands = len(brand_to_index) + 1\n",
    "\n",
    "model = RatingPredictor(num_users, num_items, num_cats, num_brands)\n",
    "device = torch.device(\"cuda\" if torch.cuda.is_available() else \"cpu\")\n",
    "model.to(device)"
   ]
  },
  {
   "cell_type": "markdown",
   "metadata": {},
   "source": [
    "# Training"
   ]
  },
  {
   "cell_type": "markdown",
   "metadata": {},
   "source": [
    "## Training Setup"
   ]
  },
  {
   "cell_type": "code",
   "execution_count": 55,
   "metadata": {},
   "outputs": [],
   "source": [
    "# Training setting\n",
    "LEARNING_RATE = 0.001\n",
    "WEIGHT_DECAY = 0.01\n",
    "LR_WARMUP = 5\n",
    "NUM_EPOCHS = 20"
   ]
  },
  {
   "cell_type": "code",
   "execution_count": 56,
   "metadata": {},
   "outputs": [],
   "source": [
    "criterion = nn.MSELoss()\n",
    "optimizer = optim.AdamW(model.parameters(), lr=LEARNING_RATE, weight_decay=WEIGHT_DECAY)\n",
    "# warmup_lr_scheduler = optim.lr_scheduler.LambdaLR(optimizer, lr_lambda=lambda e: e / LR_WARMUP if e < LR_WARMUP else 1)\n",
    "# train_lr_scheduler = optim.lr_scheduler.CosineAnnealingLR(optimizer, T_max=NUM_EPOCHS-LR_WARMUP, eta_min=1e-6)\n",
    "# lr_scheduler = optim.lr_scheduler.SequentialLR(optimizer, [warmup_lr_scheduler, train_lr_scheduler], milestones=[LR_WARMUP])\n"
   ]
  },
  {
   "cell_type": "code",
   "execution_count": 57,
   "metadata": {},
   "outputs": [],
   "source": [
    "user_index_to_features_embed = torch.load(\"../weights/mapping/user_index_to_features_embed.pth\", weights_only=False)\n",
    "user_feature_embed = nn.Embedding.from_pretrained(torch.stack([torch.tensor(user_index_to_features_embed[i]) for i in range(len(user_index_to_features_embed))], dim=0), freeze=True).to(device)"
   ]
  },
  {
   "cell_type": "code",
   "execution_count": 44,
   "metadata": {},
   "outputs": [],
   "source": [
    "def evaluate(model, loader, user_feature_embed):\n",
    "    model.eval()\n",
    "    losses = []\n",
    "    preds = []\n",
    "    trues = []\n",
    "    with torch.no_grad():\n",
    "        for batch in loader:\n",
    "            # user_ids, item_ids, text_seqs, cat_ids, brand_ids, ratings = batch\n",
    "            user_ids, item_ids, cat_ids, brand_ids, ratings = batch\n",
    "            user_ids = user_ids.to(device)\n",
    "            item_ids = item_ids.to(device)\n",
    "            # text_seqs = text_seqs.to(device)\n",
    "            cat_ids = cat_ids.to(device)\n",
    "            brand_ids = brand_ids.to(device)\n",
    "            ratings = ratings.to(device)\n",
    "            outputs = model(user_ids, item_ids, cat_ids, brand_ids, user_feature_embed)\n",
    "            loss = criterion(outputs, ratings)\n",
    "            losses.append(loss.item() * ratings.size(0))\n",
    "            preds.extend(outputs.cpu().numpy())\n",
    "            trues.extend(ratings.cpu().numpy())\n",
    "    avg_loss = np.sum(losses) / len(loader.dataset)\n",
    "    rmse_val = sqrt(np.mean((np.array(preds) - np.array(trues)) ** 2))\n",
    "    return avg_loss, rmse_val"
   ]
  },
  {
   "cell_type": "markdown",
   "metadata": {},
   "source": [
    "## Training Loop"
   ]
  },
  {
   "cell_type": "code",
   "execution_count": 45,
   "metadata": {},
   "outputs": [
    {
     "name": "stdout",
     "output_type": "stream",
     "text": [
      "Epoch 1/20 -- Train Loss: 0.9014  Train RMSE: 0.9494 Val Loss: 0.9940  Val RMSE: 0.9970\n",
      "Checkpoint saved at epoch 1 with validation rmse 0.9970\n",
      "Epoch 2/20 -- Train Loss: 0.7601  Train RMSE: 0.8718 Val Loss: 0.9257  Val RMSE: 0.9621\n",
      "Checkpoint saved at epoch 2 with validation rmse 0.9621\n",
      "Epoch 3/20 -- Train Loss: 0.6285  Train RMSE: 0.7928 Val Loss: 0.8467  Val RMSE: 0.9201\n",
      "Checkpoint saved at epoch 3 with validation rmse 0.9201\n",
      "Epoch 4/20 -- Train Loss: 0.5468  Train RMSE: 0.7395 Val Loss: 0.8248  Val RMSE: 0.9082\n",
      "Checkpoint saved at epoch 4 with validation rmse 0.9082\n",
      "Epoch 5/20 -- Train Loss: 0.4937  Train RMSE: 0.7026 Val Loss: 0.7884  Val RMSE: 0.8879\n",
      "Checkpoint saved at epoch 5 with validation rmse 0.8879\n",
      "Epoch 6/20 -- Train Loss: 0.4602  Train RMSE: 0.6784 Val Loss: 0.7847  Val RMSE: 0.8858\n",
      "Checkpoint saved at epoch 6 with validation rmse 0.8858\n",
      "Epoch 7/20 -- Train Loss: 0.4316  Train RMSE: 0.6569 Val Loss: 0.8005  Val RMSE: 0.8947\n",
      "Epoch 8/20 -- Train Loss: 0.4094  Train RMSE: 0.6398 Val Loss: 0.8043  Val RMSE: 0.8968\n",
      "Epoch 9/20 -- Train Loss: 0.3928  Train RMSE: 0.6267 Val Loss: 0.7976  Val RMSE: 0.8931\n",
      "Epoch 10/20 -- Train Loss: 0.3782  Train RMSE: 0.6150 Val Loss: 0.8841  Val RMSE: 0.9403\n",
      "Epoch 11/20 -- Train Loss: 0.3628  Train RMSE: 0.6023 Val Loss: 0.8548  Val RMSE: 0.9245\n",
      "Early stopping triggered after 5 epochs without improvement.\n"
     ]
    }
   ],
   "source": [
    "train_losses = []\n",
    "train_rmses = []   \n",
    "val_losses = []\n",
    "val_rmses = []\n",
    "lrs = []\n",
    "best_val_loss = float('inf')\n",
    "model_name = \"model_layernorm\"\n",
    "best_model_path = \"../model/\" + model_name + \".pth\"\n",
    "\n",
    "# Early stopping parameters\n",
    "patience = 5\n",
    "epochs_no_improve = 0\n",
    "\n",
    "\n",
    "for epoch in range(NUM_EPOCHS):\n",
    "    model.train()\n",
    "    running_loss = 0.0\n",
    "    for batch in train_loader:\n",
    "        # user_ids, item_ids, text_seqs, cat_ids, brand_ids, ratings = batch\n",
    "        user_ids, item_ids, cat_ids, brand_ids, ratings = batch\n",
    "        user_ids = user_ids.to(device)\n",
    "        item_ids = item_ids.to(device)\n",
    "        # text_seqs = text_seqs.to(device)\n",
    "        cat_ids = cat_ids.to(device)\n",
    "        brand_ids = brand_ids.to(device)\n",
    "        ratings = ratings.to(device)\n",
    "        \n",
    "        optimizer.zero_grad()\n",
    "        outputs = model(user_ids, item_ids, cat_ids, brand_ids, user_feature_embed)\n",
    "        loss = criterion(outputs, ratings)\n",
    "        loss.backward()\n",
    "        optimizer.step()\n",
    "        running_loss += loss.item() * ratings.size(0)\n",
    "        \n",
    "    train_loss = running_loss / len(train_loader.dataset)\n",
    "    val_loss, val_rmse = evaluate(model, val_loader, user_feature_embed)\n",
    "    train_losses.append(train_loss)\n",
    "    train_rmses.append(sqrt(train_loss))\n",
    "    val_losses.append(val_loss)\n",
    "    val_rmses.append(val_rmse)\n",
    "    # lrs.append(lr_scheduler.get_last_lr()[0])\n",
    "    # lr_scheduler.step()\n",
    "    print(f\"Epoch {epoch+1}/{NUM_EPOCHS} -- Train Loss: {train_loss:.4f}  Train RMSE: {sqrt(train_loss):.4f} Val Loss: {val_loss:.4f}  Val RMSE: {val_rmse:.4f}\")\n",
    "\n",
    "    # Save checkpoint if validation loss improves\n",
    "    if val_loss < best_val_loss:\n",
    "        best_val_loss = val_loss\n",
    "        torch.save({\n",
    "            'epoch': epoch,\n",
    "            'model_state_dict': model.state_dict(),\n",
    "            'optimizer_state_dict': optimizer.state_dict(),\n",
    "            'loss': val_loss,\n",
    "            'rmse': val_rmse,\n",
    "        }, best_model_path)\n",
    "        print(f'Checkpoint saved at epoch {epoch+1} with validation rmse {val_rmse:.4f}')\n",
    "    else:\n",
    "        epochs_no_improve += 1\n",
    "        if epochs_no_improve >= patience:\n",
    "            print(f'Early stopping triggered after {patience} epochs without improvement.')\n",
    "            break"
   ]
  },
  {
   "cell_type": "markdown",
   "metadata": {},
   "source": [
    "### Visualization"
   ]
  },
  {
   "cell_type": "code",
   "execution_count": 47,
   "metadata": {},
   "outputs": [
    {
     "data": {
      "image/png": "[encoded data removed]",
      "text/plain": [
       "<Figure size 1000x500 with 1 Axes>"
      ]
     },
     "metadata": {},
     "output_type": "display_data"
    },
    {
     "data": {
      "text/plain": [
       "<Figure size 640x480 with 0 Axes>"
      ]
     },
     "metadata": {},
     "output_type": "display_data"
    }
   ],
   "source": [
    "plt.figure(figsize=(10, 5))\n",
    "plt.plot(range(1, len(train_losses) + 1), train_losses, marker='o', linestyle='-', color='b', label='Training Loss')\n",
    "plt.plot(range(1, len(val_losses) + 1), val_losses, marker='x', linestyle='-', color='r', label='Validation Loss')\n",
    "plt.plot(range(1, len(train_rmses) + 1), train_rmses, marker='o', linestyle='--', color='g', label='Training RMSE')\n",
    "plt.plot(range(1, len(val_rmses) + 1), val_rmses, marker='x', linestyle='--', color='m', label='Validation RMSE')\n",
    "plt.title(\"Loss Curve\")\n",
    "plt.xlabel('Epoch')\n",
    "plt.ylabel('Loss')\n",
    "plt.grid(True)\n",
    "plt.legend()\n",
    "\n",
    "plt.savefig(\"../picture/Loss_Curve_\" + model_name + \".png\")\n",
    "plt.show()"
   ]
  },
  {
   "cell_type": "markdown",
   "metadata": {},
   "source": [
    "## Training Loop with input masking"
   ]
  },
  {
   "cell_type": "code",
   "execution_count": 58,
   "metadata": {},
   "outputs": [
    {
     "name": "stdout",
     "output_type": "stream",
     "text": [
      "Epoch 1/20 -- Train Loss: 0.9038  Train RMSE: 0.9507 Val Loss: 1.0076  Val RMSE: 1.0038\n",
      "Checkpoint saved at epoch 1 with validation rmse 1.0038\n",
      "Epoch 2/20 -- Train Loss: 0.7809  Train RMSE: 0.8837 Val Loss: 0.9176  Val RMSE: 0.9579\n",
      "Checkpoint saved at epoch 2 with validation rmse 0.9579\n",
      "Epoch 3/20 -- Train Loss: 0.6711  Train RMSE: 0.8192 Val Loss: 0.8484  Val RMSE: 0.9211\n",
      "Checkpoint saved at epoch 3 with validation rmse 0.9211\n",
      "Epoch 4/20 -- Train Loss: 0.6008  Train RMSE: 0.7751 Val Loss: 0.7989  Val RMSE: 0.8938\n",
      "Checkpoint saved at epoch 4 with validation rmse 0.8938\n",
      "Epoch 5/20 -- Train Loss: 0.5599  Train RMSE: 0.7483 Val Loss: 0.7942  Val RMSE: 0.8912\n",
      "Checkpoint saved at epoch 5 with validation rmse 0.8912\n",
      "Epoch 6/20 -- Train Loss: 0.5278  Train RMSE: 0.7265 Val Loss: 0.7756  Val RMSE: 0.8807\n",
      "Checkpoint saved at epoch 6 with validation rmse 0.8807\n",
      "Epoch 7/20 -- Train Loss: 0.5139  Train RMSE: 0.7169 Val Loss: 0.7789  Val RMSE: 0.8825\n",
      "Epoch 8/20 -- Train Loss: 0.4928  Train RMSE: 0.7020 Val Loss: 0.7667  Val RMSE: 0.8756\n",
      "Checkpoint saved at epoch 8 with validation rmse 0.8756\n",
      "Epoch 9/20 -- Train Loss: 0.4800  Train RMSE: 0.6928 Val Loss: 0.8084  Val RMSE: 0.8991\n",
      "Epoch 10/20 -- Train Loss: 0.4760  Train RMSE: 0.6899 Val Loss: 0.7762  Val RMSE: 0.8810\n",
      "Epoch 11/20 -- Train Loss: 0.4648  Train RMSE: 0.6818 Val Loss: 0.7764  Val RMSE: 0.8811\n",
      "Epoch 12/20 -- Train Loss: 0.4601  Train RMSE: 0.6783 Val Loss: 0.7860  Val RMSE: 0.8866\n",
      "Early stopping triggered after 5 epochs without improvement.\n"
     ]
    }
   ],
   "source": [
    "train_losses = []\n",
    "train_rmses = []   \n",
    "val_losses = []\n",
    "val_rmses = []\n",
    "lrs = []\n",
    "best_val_loss = float('inf')\n",
    "model_name = \"model_layernorm_input_mask\"\n",
    "best_model_path = \"../model/\" + model_name + \".pth\"\n",
    "\n",
    "# Early stopping parameters\n",
    "patience = 5\n",
    "epochs_no_improve = 0\n",
    "\n",
    "def augment_batch(user_ids, item_ids, cat_ids, brand_ids, ratings):\n",
    "    mask_user = torch.rand(user_ids.size()) < 0.05\n",
    "    mask_item = torch.rand(item_ids.size()) < 0.3\n",
    "    user_ids[mask_user] = 0  # \"Unknown_User\"\n",
    "    item_ids[mask_item] = 0  # \"Unknown_Item\"\n",
    "    cat_ids[mask_item] = 0  # \"Unknown_Category\"\n",
    "    brand_ids[mask_item] = 0  # \"Unknown_Brand\"\n",
    "    return user_ids, item_ids, cat_ids, brand_ids, ratings\n",
    "\n",
    "for epoch in range(NUM_EPOCHS):\n",
    "    model.train()\n",
    "    running_loss = 0.0\n",
    "    for batch in train_loader:\n",
    "        # user_ids, item_ids, text_seqs, cat_ids, brand_ids, ratings = batch\n",
    "        user_ids, item_ids, cat_ids, brand_ids, ratings = batch\n",
    "        user_ids, item_ids, cat_ids, brand_ids, ratings = augment_batch(user_ids, item_ids, cat_ids, brand_ids, ratings)\n",
    "        user_ids = user_ids.to(device)\n",
    "        item_ids = item_ids.to(device)\n",
    "        # text_seqs = text_seqs.to(device)\n",
    "        cat_ids = cat_ids.to(device)\n",
    "        brand_ids = brand_ids.to(device)\n",
    "        ratings = ratings.to(device)\n",
    "        \n",
    "        optimizer.zero_grad()\n",
    "        outputs = model(user_ids, item_ids, cat_ids, brand_ids, user_feature_embed)\n",
    "        loss = criterion(outputs, ratings)\n",
    "        loss.backward()\n",
    "        optimizer.step()\n",
    "        running_loss += loss.item() * ratings.size(0)\n",
    "        \n",
    "    train_loss = running_loss / len(train_loader.dataset)\n",
    "    val_loss, val_rmse = evaluate(model, val_loader, user_feature_embed)\n",
    "    train_losses.append(train_loss)\n",
    "    train_rmses.append(sqrt(train_loss))\n",
    "    val_losses.append(val_loss)\n",
    "    val_rmses.append(val_rmse)\n",
    "    # lrs.append(lr_scheduler.get_last_lr()[0])\n",
    "    # lr_scheduler.step()\n",
    "    print(f\"Epoch {epoch+1}/{NUM_EPOCHS} -- Train Loss: {train_loss:.4f}  Train RMSE: {sqrt(train_loss):.4f} Val Loss: {val_loss:.4f}  Val RMSE: {val_rmse:.4f}\")\n",
    "\n",
    "    # Save checkpoint if validation loss improves\n",
    "    if val_loss < best_val_loss:\n",
    "        best_val_loss = val_loss\n",
    "        torch.save({\n",
    "            'epoch': epoch,\n",
    "            'model_state_dict': model.state_dict(),\n",
    "            'optimizer_state_dict': optimizer.state_dict(),\n",
    "            'loss': val_loss,\n",
    "            'rmse': val_rmse,\n",
    "        }, best_model_path)\n",
    "        print(f'Checkpoint saved at epoch {epoch+1} with validation rmse {val_rmse:.4f}')\n",
    "    else:\n",
    "        epochs_no_improve += 1\n",
    "        if epochs_no_improve >= patience:\n",
    "            print(f'Early stopping triggered after {patience} epochs without improvement.')\n",
    "            break"
   ]
  },
  {
   "cell_type": "markdown",
   "metadata": {},
   "source": [
    "### Visualization"
   ]
  },
  {
   "cell_type": "code",
   "execution_count": 59,
   "metadata": {},
   "outputs": [
    {
     "data": {
      "image/png": "[encoded data removed]",
      "text/plain": [
       "<Figure size 1000x500 with 1 Axes>"
      ]
     },
     "metadata": {},
     "output_type": "display_data"
    },
    {
     "data": {
      "text/plain": [
       "<Figure size 640x480 with 0 Axes>"
      ]
     },
     "metadata": {},
     "output_type": "display_data"
    }
   ],
   "source": [
    "plt.figure(figsize=(10, 5))\n",
    "plt.plot(range(1, len(train_losses) + 1), train_losses, marker='o', linestyle='-', color='b', label='Training Loss')\n",
    "plt.plot(range(1, len(val_losses) + 1), val_losses, marker='x', linestyle='-', color='r', label='Validation Loss')\n",
    "plt.plot(range(1, len(train_rmses) + 1), train_rmses, marker='o', linestyle='--', color='g', label='Training RMSE')\n",
    "plt.plot(range(1, len(val_rmses) + 1), val_rmses, marker='x', linestyle='--', color='m', label='Validation RMSE')\n",
    "plt.title(\"Loss Curve\")\n",
    "plt.xlabel('Epoch')\n",
    "plt.ylabel('Loss')\n",
    "plt.grid(True)\n",
    "plt.legend()\n",
    "\n",
    "plt.savefig(\"../picture/Loss_Curve_\" + model_name + \".png\")\n",
    "plt.show()"
   ]
  },
  {
   "cell_type": "markdown",
   "metadata": {},
   "source": [
    "# Generate Predictions"
   ]
  },
  {
   "cell_type": "code",
   "execution_count": 60,
   "metadata": {},
   "outputs": [],
   "source": [
    "def generate_predictions(model, user_ids, item_ids, cat_ids, brand_ids, user_feature_embed):\n",
    "    model.eval()\n",
    "    inputs = {\n",
    "        \"user_ids\": torch.tensor(user_ids, dtype=torch.long).to(device),\n",
    "        \"item_ids\": torch.tensor(item_ids, dtype=torch.long).to(device),\n",
    "        # \"text_seqs\": torch.tensor(text_seqs, dtype=torch.long).to(device),\n",
    "        \"text_seqs\": None,\n",
    "        \"cat_ids\": torch.tensor(cat_ids, dtype=torch.long).to(device),\n",
    "        \"brand_ids\": torch.tensor(brand_ids, dtype=torch.long).to(device)\n",
    "    }\n",
    "    with torch.no_grad():\n",
    "        preds = model(inputs[\"user_ids\"], inputs[\"item_ids\"],\n",
    "                      inputs[\"cat_ids\"], inputs[\"brand_ids\"], user_feature_embed)\n",
    "    return preds.cpu().numpy()"
   ]
  },
  {
   "cell_type": "code",
   "execution_count": 61,
   "metadata": {},
   "outputs": [],
   "source": [
    "# load the best model\n",
    "checkpoint = torch.load(best_model_path, weights_only=False)\n",
    "model.load_state_dict(checkpoint['model_state_dict'])\n",
    "optimizer.load_state_dict(checkpoint['optimizer_state_dict'])"
   ]
  },
  {
   "cell_type": "markdown",
   "metadata": {},
   "source": [
    "## Validation set"
   ]
  },
  {
   "cell_type": "code",
   "execution_count": 62,
   "metadata": {},
   "outputs": [
    {
     "name": "stdout",
     "output_type": "stream",
     "text": [
      "Final Validation RMSE: 0.8756\n"
     ]
    }
   ],
   "source": [
    "# Predictions for validation set\n",
    "val_preds = generate_predictions(model, val_user_idx, val_item_idx, val_cat_idx, val_brand_idx, user_feature_embed)\n",
    "# Compute RMSE manually (or use evaluate.py later)\n",
    "val_rmse = sqrt(np.mean((val_preds - val_ratings) ** 2))\n",
    "print(f\"Final Validation RMSE: {val_rmse:.4f}\")"
   ]
  },
  {
   "cell_type": "code",
   "execution_count": 177,
   "metadata": {},
   "outputs": [],
   "source": [
    "# Save validation predictions to CSV (for evaluate.py)\n",
    "val_pred_df = pd.DataFrame({\n",
    "    \"ReviewerID\": val_df[\"ReviewerID\"],\n",
    "    \"ProductID\": val_df[\"ProductID\"],\n",
    "    \"Star\": val_preds\n",
    "})\n",
    "\n",
    "if not os.path.exists(\"./prediction/\" + model_name + \"/\"):\n",
    "    os.makedirs(\"./prediction/\" + model_name + \"/\")\n",
    "\n",
    "val_pred_df.to_csv(\"./prediction/\" + model_name + \"/validation_prediction.csv\", index=False)"
   ]
  },
  {
   "cell_type": "markdown",
   "metadata": {},
   "source": [
    "## Test set"
   ]
  },
  {
   "cell_type": "code",
   "execution_count": 178,
   "metadata": {},
   "outputs": [
    {
     "name": "stdout",
     "output_type": "stream",
     "text": [
      "Saved validation_prediction.csv and prediction.csv\n"
     ]
    }
   ],
   "source": [
    "# Predictions for test set\n",
    "test_preds = generate_predictions(model, test_user_idx, test_item_idx, test_cat_idx, test_brand_idx, user_feature_embed)\n",
    "test_pred_df = pd.DataFrame({\n",
    "    \"ReviewerID\": test_df[\"ReviewerID\"],\n",
    "    \"ProductID\": test_df[\"ProductID\"],\n",
    "    \"Star\": test_preds\n",
    "})\n",
    "\n",
    "test_pred_df.to_csv(\"./prediction/\" + model_name + \"/prediction.csv\", index=False)\n",
    "print(\"Saved validation_prediction.csv and prediction.csv\")"
   ]
  }
 ],
 "metadata": {
  "kernelspec": {
   "display_name": "COMP4901Y",
   "language": "python",
   "name": "python3"
  },
  "language_info": {
   "codemirror_mode": {
    "name": "ipython",
    "version": 3
   },
   "file_extension": ".py",
   "mimetype": "text/x-python",
   "name": "python",
   "nbconvert_exporter": "python",
   "pygments_lexer": "ipython3",
   "version": "3.12.9"
  }
 },
 "nbformat": 4,
 "nbformat_minor": 2
}
